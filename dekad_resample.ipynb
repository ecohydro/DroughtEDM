{
 "cells": [
  {
   "cell_type": "markdown",
   "metadata": {},
   "source": [
    "# Convert list of values and dates into dekads"
   ]
  },
  {
   "cell_type": "code",
   "execution_count": 1,
   "metadata": {},
   "outputs": [],
   "source": [
    "import pandas as pd\n",
    "import numpy as np\n",
    "\n",
    "begin = pd.datetime(2002,7,1)\n",
    "end = pd.datetime(2016,12,31)\n",
    "\n",
    "dtrange = pd.date_range(begin, end)\n",
    "\n",
    "p1 = np.random.rand(len(dtrange)) + 5\n",
    "p2 = np.random.rand(len(dtrange)) + 10\n",
    "\n",
    "df = pd.DataFrame({'p1': p1, 'p2': p2}, index=dtrange)"
   ]
  },
  {
   "cell_type": "code",
   "execution_count": 2,
   "metadata": {},
   "outputs": [
    {
     "data": {
      "text/plain": [
       "numpy.ndarray"
      ]
     },
     "execution_count": 2,
     "metadata": {},
     "output_type": "execute_result"
    }
   ],
   "source": [
    "type(p1)"
   ]
  },
  {
   "cell_type": "code",
   "execution_count": 3,
   "metadata": {},
   "outputs": [
    {
     "data": {
      "text/html": [
       "<div>\n",
       "<style scoped>\n",
       "    .dataframe tbody tr th:only-of-type {\n",
       "        vertical-align: middle;\n",
       "    }\n",
       "\n",
       "    .dataframe tbody tr th {\n",
       "        vertical-align: top;\n",
       "    }\n",
       "\n",
       "    .dataframe thead th {\n",
       "        text-align: right;\n",
       "    }\n",
       "</style>\n",
       "<table border=\"1\" class=\"dataframe\">\n",
       "  <thead>\n",
       "    <tr style=\"text-align: right;\">\n",
       "      <th></th>\n",
       "      <th>p1</th>\n",
       "      <th>p2</th>\n",
       "    </tr>\n",
       "  </thead>\n",
       "  <tbody>\n",
       "    <tr>\n",
       "      <td>2002-07-01</td>\n",
       "      <td>5.503441</td>\n",
       "      <td>10.529736</td>\n",
       "    </tr>\n",
       "    <tr>\n",
       "      <td>2002-07-11</td>\n",
       "      <td>5.481668</td>\n",
       "      <td>10.364516</td>\n",
       "    </tr>\n",
       "    <tr>\n",
       "      <td>2002-07-21</td>\n",
       "      <td>5.425301</td>\n",
       "      <td>10.429303</td>\n",
       "    </tr>\n",
       "    <tr>\n",
       "      <td>2002-08-01</td>\n",
       "      <td>5.487707</td>\n",
       "      <td>10.432215</td>\n",
       "    </tr>\n",
       "    <tr>\n",
       "      <td>2002-08-11</td>\n",
       "      <td>5.584481</td>\n",
       "      <td>10.447301</td>\n",
       "    </tr>\n",
       "    <tr>\n",
       "      <td>...</td>\n",
       "      <td>...</td>\n",
       "      <td>...</td>\n",
       "    </tr>\n",
       "    <tr>\n",
       "      <td>2016-11-11</td>\n",
       "      <td>5.464668</td>\n",
       "      <td>10.317146</td>\n",
       "    </tr>\n",
       "    <tr>\n",
       "      <td>2016-11-21</td>\n",
       "      <td>5.567298</td>\n",
       "      <td>10.382041</td>\n",
       "    </tr>\n",
       "    <tr>\n",
       "      <td>2016-12-01</td>\n",
       "      <td>5.458229</td>\n",
       "      <td>10.554661</td>\n",
       "    </tr>\n",
       "    <tr>\n",
       "      <td>2016-12-11</td>\n",
       "      <td>5.454361</td>\n",
       "      <td>10.409165</td>\n",
       "    </tr>\n",
       "    <tr>\n",
       "      <td>2016-12-21</td>\n",
       "      <td>5.498010</td>\n",
       "      <td>10.439442</td>\n",
       "    </tr>\n",
       "  </tbody>\n",
       "</table>\n",
       "<p>522 rows × 2 columns</p>\n",
       "</div>"
      ],
      "text/plain": [
       "                  p1         p2\n",
       "2002-07-01  5.503441  10.529736\n",
       "2002-07-11  5.481668  10.364516\n",
       "2002-07-21  5.425301  10.429303\n",
       "2002-08-01  5.487707  10.432215\n",
       "2002-08-11  5.584481  10.447301\n",
       "...              ...        ...\n",
       "2016-11-11  5.464668  10.317146\n",
       "2016-11-21  5.567298  10.382041\n",
       "2016-12-01  5.458229  10.554661\n",
       "2016-12-11  5.454361  10.409165\n",
       "2016-12-21  5.498010  10.439442\n",
       "\n",
       "[522 rows x 2 columns]"
      ]
     },
     "execution_count": 3,
     "metadata": {},
     "output_type": "execute_result"
    }
   ],
   "source": [
    "d = df.index.day - np.clip((df.index.day-1) // 10, 0, 2)*10 - 1\n",
    "date = df.index.values - np.array(d, dtype=\"timedelta64[D]\")\n",
    "df.groupby(date).mean()"
   ]
  },
  {
   "cell_type": "code",
   "execution_count": 7,
   "metadata": {},
   "outputs": [
    {
     "data": {
      "text/plain": [
       "array(['2002-07-01T00:00:00.000000000', '2002-07-01T00:00:00.000000000',\n",
       "       '2002-07-01T00:00:00.000000000', ...,\n",
       "       '2016-12-21T00:00:00.000000000', '2016-12-21T00:00:00.000000000',\n",
       "       '2016-12-21T00:00:00.000000000'], dtype='datetime64[ns]')"
      ]
     },
     "execution_count": 7,
     "metadata": {},
     "output_type": "execute_result"
    }
   ],
   "source": [
    "date"
   ]
  },
  {
   "cell_type": "code",
   "execution_count": 5,
   "metadata": {},
   "outputs": [
    {
     "data": {
      "text/plain": [
       "Int64Index([182, 183, 184, 185, 186, 187, 188, 189, 190, 191,\n",
       "            ...\n",
       "            357, 358, 359, 360, 361, 362, 363, 364, 365, 366],\n",
       "           dtype='int64', length=5298)"
      ]
     },
     "execution_count": 5,
     "metadata": {},
     "output_type": "execute_result"
    }
   ],
   "source": [
    "df.index.dayofyear"
   ]
  },
  {
   "cell_type": "markdown",
   "metadata": {},
   "source": [
    "# Resample daily files in folders to dekads"
   ]
  },
  {
   "cell_type": "code",
   "execution_count": 58,
   "metadata": {},
   "outputs": [],
   "source": [
    "import rasterio\n",
    "import numpy as np\n",
    "from glob import glob\n",
    "import os\n",
    "from rasterio.plot import show"
   ]
  },
  {
   "cell_type": "code",
   "execution_count": 63,
   "metadata": {
    "scrolled": false
   },
   "outputs": [],
   "source": [
    "def read_file(file):\n",
    "    with rasterio.open(file) as src:\n",
    "        return(src.read())\n",
    "    \n",
    "def dekad_resample(root_dir, out_dir, var):\n",
    "    folds = [fold for fold in sorted(os.listdir(root_dir))]\n",
    "    for fold in folds:\n",
    "        os.chdir(root_dir + fold + '/')\n",
    "        files = [file for file in sorted(os.listdir(os.getcwd()))]\n",
    "        dekad1 = [read_file(x) for x in files[0:10]]\n",
    "        dekad2 = [read_file(x) for x in files[10:20]]\n",
    "        dekad3 = [read_file(x) for x in files[20:]]\n",
    "        \n",
    "     # Perform averaging\n",
    "        dekad1_out = np.mean(dekad1, axis=0)\n",
    "        dekad2_out = np.mean(dekad2, axis=0)\n",
    "        dekad3_out = np.mean(dekad3, axis=0)\n",
    "\n",
    "        with rasterio.open(files[0]) as src:\n",
    "            meta = src.meta\n",
    "\n",
    "        meta.update(dtype=rasterio.float32)\n",
    "\n",
    "        # Write output file\n",
    "        with rasterio.open(out_dir + var + fold + '_01.tif', 'w', **meta) as dst:\n",
    "            dst.write(dekad1_out.astype(rasterio.float32))\n",
    "\n",
    "        with rasterio.open(out_dir + var + fold + '_02.tif', 'w', **meta) as dst:\n",
    "            dst.write(dekad2_out.astype(rasterio.float32))\n",
    "\n",
    "        with rasterio.open(out_dir + var + fold + '_03.tif', 'w', **meta) as dst:\n",
    "            dst.write(dekad3_out.astype(rasterio.float32))\n"
   ]
  },
  {
   "cell_type": "code",
   "execution_count": 64,
   "metadata": {},
   "outputs": [],
   "source": [
    "tmax_dir = '/home/rgreen/tana-spin/rgreen/DroughtEDM/Data/CHIRTS/Months/' \n",
    "out_tmax_dir = '/home/rgreen/tana-spin/rgreen/DroughtEDM/Data/CHIRTS/Dekads/'\n",
    "sm_dir = '/home/rgreen/tana-spin/rgreen/DroughtEDM/Data/FLDAS_SM/Months/' \n",
    "out_sm_dir = '/home/rgreen/tana-spin/rgreen/DroughtEDM/Data/FLDAS_SM/Dekads/' "
   ]
  },
  {
   "cell_type": "code",
   "execution_count": 65,
   "metadata": {},
   "outputs": [],
   "source": [
    "dekad_resample(sm_dir, out_sm_dir, var = 'SM_')"
   ]
  }
 ],
 "metadata": {
  "kernelspec": {
   "display_name": "Python [conda env:edm]",
   "language": "python",
   "name": "conda-env-edm-py"
  },
  "language_info": {
   "codemirror_mode": {
    "name": "ipython",
    "version": 3
   },
   "file_extension": ".py",
   "mimetype": "text/x-python",
   "name": "python",
   "nbconvert_exporter": "python",
   "pygments_lexer": "ipython3",
   "version": "3.7.3"
  }
 },
 "nbformat": 4,
 "nbformat_minor": 2
}
