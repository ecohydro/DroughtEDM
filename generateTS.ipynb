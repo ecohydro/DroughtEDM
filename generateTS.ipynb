{
 "cells": [
  {
   "cell_type": "code",
   "execution_count": 22,
   "metadata": {},
   "outputs": [],
   "source": [
    "import os\n",
    "import xarray as xr\n",
    "import cartopy.crs as ccrs\n",
    "import matplotlib.pyplot as plt\n",
    "import numpy as np\n",
    "import pandas as pd\n",
    "import rasterio as rio\n",
    "from rasterio.mask import mask\n",
    "from rasterio.plot import show\n",
    "from rasterio.plot import show_hist\n",
    "from rasterio.warp import calculate_default_transform, reproject, Resampling\n",
    "from rasterio.windows import Window\n",
    "from rasterio.merge import merge\n",
    "from rasterio import features\n",
    "import geopandas as gpd\n",
    "#from shapely.geometry import box\n",
    "import numpy as np\n",
    "import matplotlib as mpl\n",
    "import matplotlib.pyplot as plt\n",
    "import fiona\n",
    "from fiona.crs import from_epsg\n",
    "#import pycrs\n",
    "#import pathlib\n",
    "import glob\n",
    "from osgeo import gdal, ogr\n",
    "import sys\n",
    "import pprint\n",
    "import csv\n",
    "import re\n",
    "import pandas as pd\n",
    "import rioxarray\n",
    "\n",
    "import netCDF4\n",
    "from datetime import datetime\n",
    "import earthpy as et\n"
   ]
  },
  {
   "cell_type": "code",
   "execution_count": 93,
   "metadata": {},
   "outputs": [],
   "source": [
    "#extract pixel value from coordinate location\n",
    "\n",
    "def extractValueSM(nc_dir, lev, lat, long):\n",
    "    files = np.array(os.listdir(nc_dir))\n",
    "    netcdfs = pd.Series(files).str.contains('.nc')\n",
    "    files = files[netcdfs]\n",
    "    output = []\n",
    "  \n",
    "    for filename in files: \n",
    "        data = xr.open_dataset(nc_dir + filename)\n",
    "        val = data.SoilMoist_tavg[lev, int((np.abs(data.Y - lat)).argmin()),int((np.abs(data.X - long)).argmin())]\n",
    "        output.append(float(val.values))\n",
    "    return np.asarray(output)\n",
    "\n",
    "def extractValueNDVI(tiff_dir, long, lat):\n",
    "    files = np.array(os.listdir(tiff_dir))\n",
    "    tiffs = pd.Series(files).str.contains('.tiff')\n",
    "    files = files[tiffs]\n",
    "    result = []\n",
    "    \n",
    "    for filename in files: \n",
    "        data = rio.open(tiff_dir + filename)\n",
    "        val = data.sample([long,lat])\n",
    "        for val in data.sample([(long,lat)]):\n",
    "            vals = ((val-100)/100)\n",
    "        result.append(*vals)    \n",
    "    return np.asarray(result)\n",
    "        \n",
    "def extractValueCHIRPS(tiff_dir, long, lat):\n",
    "    files = np.array(os.listdir(tiff_dir))\n",
    "    tiffs = pd.Series(files).str.contains('.tif')\n",
    "    files = files[tiffs]\n",
    "    result = []\n",
    "    \n",
    "    for filename in files: \n",
    "        data = rio.open(tiff_dir + filename)\n",
    "        val = data.sample([long,lat])\n",
    "        for val in data.sample([(long,lat)]):\n",
    "            vals = val\n",
    "        result.append(*vals)    \n",
    "    return np.asarray(result)\n",
    "        \n",
    "def stackTiffs(tiff_dir):\n",
    "    files = np.array(os.listdir(tiff_dir))\n",
    "    tiffs = pd.Series(files).str.contains('.tif')\n",
    "    files = files[tiffs]\n",
    "    tiflist = []\n",
    "    \n",
    "    for filename in files:\n",
    "        data = xr.open_rasterio(tiff_dir + filename)\n",
    "        tiflist.append(data)\n",
    "        stacked = xr.concat(tiflist, dim=pd.Index(dekads, name = 'time'))\n",
    "    return stacked\n",
    "        \n",
    "    "
   ]
  },
  {
   "cell_type": "markdown",
   "metadata": {},
   "source": [
    "# Create dataframe for one pixel"
   ]
  },
  {
   "cell_type": "code",
   "execution_count": null,
   "metadata": {
    "scrolled": true
   },
   "outputs": [],
   "source": [
    "soil_dir = '/home/rgreen/tana-spin/rgreen/DroughtEDM/Data/FLDAS/'\n",
    "ndvi_dir = '/home/rgreen/tana-spin/rgreen/DroughtEDM/Data/eMODIS_NDVI/CropsMask/'\n",
    "chirps_dir = '/home/rgreen/tana-spin/rgreen/DroughtEDM/Data/CHIRPS/'\n",
    "sm_level = 0\n",
    "long = 38.87\n",
    "lat = 4.21\n"
   ]
  },
  {
   "cell_type": "code",
   "execution_count": null,
   "metadata": {},
   "outputs": [],
   "source": [
    "soil = extractValueSM(soil_dir, sm_level, lat, long) #coordinates in Y, X, specify soil level\n",
    "ndvi = extractValueNDVI(ndvi_dir, long, lat) #coordinates in X,Y\n",
    "chirps = extractValueCHIRPS(chirps_dir, long, lat)"
   ]
  },
  {
   "cell_type": "code",
   "execution_count": 59,
   "metadata": {},
   "outputs": [],
   "source": [
    "#Establish date period\n",
    "begin = pd.datetime(2002,7,1)\n",
    "end = pd.datetime(2019,4,30)\n",
    "\n",
    "dtrange = pd.date_range(begin, end)"
   ]
  },
  {
   "cell_type": "code",
   "execution_count": null,
   "metadata": {},
   "outputs": [],
   "source": [
    "#Create Dataframe for one pixel time series\n",
    "daily = pd.DataFrame({'Soil Moisture': soil}, index=dtrange) #create dataframe\n",
    "\n",
    "d = daily.index.day - np.clip((daily.index.day-1) // 10, 0, 2)*10 - 1 #convert daily SM values to dekadal\n",
    "date = daily.index.values - np.array(d, dtype=\"timedelta64[D]\")\n",
    "TS = daily.groupby(date).mean()\n",
    "TS.index.names = ['Date']\n",
    "TS['NDVI'] = ndvi\n",
    "TS['CHIRPS'] = chirps"
   ]
  },
  {
   "cell_type": "code",
   "execution_count": null,
   "metadata": {},
   "outputs": [],
   "source": [
    "#export to csv \n",
    "TS.to_csv(r'/home/rgreen/tana-spin/rgreen/DroughtEDM/TS_3887_421.csv') "
   ]
  },
  {
   "cell_type": "code",
   "execution_count": 62,
   "metadata": {},
   "outputs": [
    {
     "data": {
      "text/plain": [
       "DatetimeIndex(['2002-07-01', '2002-07-11', '2002-07-21', '2002-08-01',\n",
       "               '2002-08-11', '2002-08-21', '2002-09-01', '2002-09-11',\n",
       "               '2002-09-21', '2002-10-01',\n",
       "               ...\n",
       "               '2019-01-21', '2019-02-01', '2019-02-11', '2019-02-21',\n",
       "               '2019-03-01', '2019-03-11', '2019-03-21', '2019-04-01',\n",
       "               '2019-04-11', '2019-04-21'],\n",
       "              dtype='datetime64[ns]', length=606, freq=None)"
      ]
     },
     "execution_count": 62,
     "metadata": {},
     "output_type": "execute_result"
    }
   ],
   "source": [
    "#create list of dekads as datetime objects\n",
    "days = list(range(0,6148)) #length of dtrange\n",
    "daysDF = pd.DataFrame({'Days': days}, index=dtrange)\n",
    "d = daysDF.index.day - np.clip((daysDF.index.day-1) // 10, 0, 2)*10 - 1 #convert daily SM values to dekadal\n",
    "dekaddates = daysDF.index.values - np.array(d, dtype=\"timedelta64[D]\")\n",
    "dekads = daysDF.groupby(dekaddates).mean()\n",
    "dekads = dekads.index\n"
   ]
  },
  {
   "cell_type": "markdown",
   "metadata": {},
   "source": [
    "# Dataframe with all pixel values"
   ]
  },
  {
   "cell_type": "code",
   "execution_count": null,
   "metadata": {},
   "outputs": [],
   "source": [
    "sm1 = '/home/rgreen/tana-spin/rgreen/DroughtEDM/Data/FLDAS/LIS_HIST_200207010000.d01.nc'\n",
    "sm2 = '/home/rgreen/tana-spin/rgreen/DroughtEDM/Data/FLDAS/LIS_HIST_200207020000.d01.nc'\n",
    "sm3 = '/home/rgreen/tana-spin/rgreen/DroughtEDM/Data/FLDAS/LIS_HIST_200207030000.d01.nc'\n",
    "sm4 = '/home/rgreen/tana-spin/rgreen/DroughtEDM/Data/FLDAS/LIS_HIST_200207040000.d01.nc'\n",
    "sm_data = xr.open_dataset(sm)\n",
    "smlev1 = np.array(sm_data.variables['SoilMoist_tavg'][0,:,:])\n",
    "#.rio.to_raster(\"SM20020701.tif\", tiled=True, compress=\"LZMA\")\n"
   ]
  },
  {
   "cell_type": "code",
   "execution_count": null,
   "metadata": {},
   "outputs": [],
   "source": [
    "ndvi1 = xr.open_rasterio('/home/rgreen/tana-spin/rgreen/DroughtEDM/Data/eMODIS_NDVI/EastAfrica/data.2002.071_mask.tiff')\n",
    "ndvi2 = xr.open_rasterio('/home/rgreen/tana-spin/rgreen/DroughtEDM/Data/eMODIS_NDVI/EastAfrica/data.2002.072_mask.tiff')\n",
    "#ndvi3 = xr.open_dataset('/home/rgreen/tana-spin/rgreen/DroughtEDM/Data/eMODIS_NDVI/EastAfrica/data.2002.073_mask.tiff')\n",
    "#ndvi4 = xr.open_dataset('/home/rgreen/tana-spin/rgreen/DroughtEDM/Data/eMODIS_NDVI/EastAfrica/data.2002.081_mask.tiff')\n",
    "\n",
    "#ndvi_list = ['ndvi1', 'ndvi2', 'ndvi3', 'ndvi4']\n",
    "\n",
    "ndvi1.name = 'day1'\n",
    "ndvi2.name = 'day2'\n",
    "#ndvi3.name = 'day3'\n",
    "#ndvi4.name = 'day4'\n",
    "\n",
    "d1 = xr.merge([ndvi1, ndvi2])\n",
    "\n",
    "d1.day1.values\n",
    "\n",
    "twodays = xr.concat([ndvi1, ndvi2], dim=pd.Index([20020701, 20020702], name = 'time'))\n"
   ]
  },
  {
   "cell_type": "code",
   "execution_count": 87,
   "metadata": {},
   "outputs": [
    {
     "data": {
      "text/plain": [
       "Index([[2002-07-01 00:00:00, 2002-07-11 00:00:00, 2002-07-21 00:00:00, 2002-08-01 00:00:00]], dtype='object', name='time')"
      ]
     },
     "execution_count": 87,
     "metadata": {},
     "output_type": "execute_result"
    }
   ],
   "source": [
    "pd.Index([dekads[:4]], name = 'time')"
   ]
  },
  {
   "cell_type": "code",
   "execution_count": 69,
   "metadata": {},
   "outputs": [
    {
     "data": {
      "text/plain": [
       "Int64Index([20020701, 20020702], dtype='int64', name='time')"
      ]
     },
     "execution_count": 69,
     "metadata": {},
     "output_type": "execute_result"
    }
   ],
   "source": [
    "pd.Index([20020701, 20020702], name = 'time')"
   ]
  },
  {
   "cell_type": "code",
   "execution_count": null,
   "metadata": {},
   "outputs": [],
   "source": [
    "##does not work need to fix\n",
    "#function to extract dekads from filename\n",
    "def datesFromfile(directory):\n",
    "    files = os.listdir(directory)\n",
    "    dates = []\n",
    "    for filename in files:\n",
    "        file = re.search(r'\\d{4}.\\d{3}', filename)\n",
    "        print(file.group())\n",
    "    return dates\n",
    "#dates.sort()\n",
    "\n"
   ]
  },
  {
   "cell_type": "code",
   "execution_count": 72,
   "metadata": {},
   "outputs": [],
   "source": [
    "ndvi_files = glob.glob('/home/rgreen/tana-spin/rgreen/DroughtEDM/Data/eMODIS_NDVI/EastAfrica/*.tiff')"
   ]
  },
  {
   "cell_type": "code",
   "execution_count": 91,
   "metadata": {},
   "outputs": [
    {
     "ename": "ValueError",
     "evalue": "unable to convert unnamed DataArray to a Dataset without providing an explicit name",
     "output_type": "error",
     "traceback": [
      "\u001b[0;31m---------------------------------------------------------------------------\u001b[0m",
      "\u001b[0;31mValueError\u001b[0m                                Traceback (most recent call last)",
      "\u001b[0;32m<ipython-input-91-cfe9022789e0>\u001b[0m in \u001b[0;36m<module>\u001b[0;34m\u001b[0m\n\u001b[0;32m----> 1\u001b[0;31m \u001b[0mxr\u001b[0m\u001b[0;34m.\u001b[0m\u001b[0mmerge\u001b[0m\u001b[0;34m(\u001b[0m\u001b[0;34m[\u001b[0m\u001b[0mxr\u001b[0m\u001b[0;34m.\u001b[0m\u001b[0mopen_rasterio\u001b[0m\u001b[0;34m(\u001b[0m\u001b[0mf\u001b[0m\u001b[0;34m)\u001b[0m \u001b[0;32mfor\u001b[0m \u001b[0mf\u001b[0m \u001b[0;32min\u001b[0m \u001b[0mndvi_files\u001b[0m\u001b[0;34m[\u001b[0m\u001b[0;34m:\u001b[0m\u001b[0;36m4\u001b[0m\u001b[0;34m]\u001b[0m\u001b[0;34m]\u001b[0m\u001b[0;34m)\u001b[0m\u001b[0;34m\u001b[0m\u001b[0;34m\u001b[0m\u001b[0m\n\u001b[0m",
      "\u001b[0;32m~/miniconda3/envs/edm/lib/python3.7/site-packages/xarray/core/merge.py\u001b[0m in \u001b[0;36mmerge\u001b[0;34m(objects, compat, join, fill_value)\u001b[0m\n\u001b[1;32m    599\u001b[0m             )\n\u001b[1;32m    600\u001b[0m \u001b[0;34m\u001b[0m\u001b[0m\n\u001b[0;32m--> 601\u001b[0;31m         \u001b[0mobj\u001b[0m \u001b[0;34m=\u001b[0m \u001b[0mobj\u001b[0m\u001b[0;34m.\u001b[0m\u001b[0mto_dataset\u001b[0m\u001b[0;34m(\u001b[0m\u001b[0;34m)\u001b[0m \u001b[0;32mif\u001b[0m \u001b[0misinstance\u001b[0m\u001b[0;34m(\u001b[0m\u001b[0mobj\u001b[0m\u001b[0;34m,\u001b[0m \u001b[0mDataArray\u001b[0m\u001b[0;34m)\u001b[0m \u001b[0;32melse\u001b[0m \u001b[0mobj\u001b[0m\u001b[0;34m\u001b[0m\u001b[0;34m\u001b[0m\u001b[0m\n\u001b[0m\u001b[1;32m    602\u001b[0m         \u001b[0mdict_like_objects\u001b[0m\u001b[0;34m.\u001b[0m\u001b[0mappend\u001b[0m\u001b[0;34m(\u001b[0m\u001b[0mobj\u001b[0m\u001b[0;34m)\u001b[0m\u001b[0;34m\u001b[0m\u001b[0;34m\u001b[0m\u001b[0m\n\u001b[1;32m    603\u001b[0m \u001b[0;34m\u001b[0m\u001b[0m\n",
      "\u001b[0;32m~/miniconda3/envs/edm/lib/python3.7/site-packages/xarray/core/dataarray.py\u001b[0m in \u001b[0;36mto_dataset\u001b[0;34m(self, dim, name)\u001b[0m\n\u001b[1;32m    499\u001b[0m             \u001b[0;32mreturn\u001b[0m \u001b[0mself\u001b[0m\u001b[0;34m.\u001b[0m\u001b[0m_to_dataset_split\u001b[0m\u001b[0;34m(\u001b[0m\u001b[0mdim\u001b[0m\u001b[0;34m)\u001b[0m\u001b[0;34m\u001b[0m\u001b[0;34m\u001b[0m\u001b[0m\n\u001b[1;32m    500\u001b[0m         \u001b[0;32melse\u001b[0m\u001b[0;34m:\u001b[0m\u001b[0;34m\u001b[0m\u001b[0;34m\u001b[0m\u001b[0m\n\u001b[0;32m--> 501\u001b[0;31m             \u001b[0;32mreturn\u001b[0m \u001b[0mself\u001b[0m\u001b[0;34m.\u001b[0m\u001b[0m_to_dataset_whole\u001b[0m\u001b[0;34m(\u001b[0m\u001b[0mname\u001b[0m\u001b[0;34m)\u001b[0m\u001b[0;34m\u001b[0m\u001b[0;34m\u001b[0m\u001b[0m\n\u001b[0m\u001b[1;32m    502\u001b[0m \u001b[0;34m\u001b[0m\u001b[0m\n\u001b[1;32m    503\u001b[0m     \u001b[0;34m@\u001b[0m\u001b[0mproperty\u001b[0m\u001b[0;34m\u001b[0m\u001b[0;34m\u001b[0m\u001b[0m\n",
      "\u001b[0;32m~/miniconda3/envs/edm/lib/python3.7/site-packages/xarray/core/dataarray.py\u001b[0m in \u001b[0;36m_to_dataset_whole\u001b[0;34m(self, name, shallow_copy)\u001b[0m\n\u001b[1;32m    453\u001b[0m         \u001b[0;32mif\u001b[0m \u001b[0mname\u001b[0m \u001b[0;32mis\u001b[0m \u001b[0;32mNone\u001b[0m\u001b[0;34m:\u001b[0m\u001b[0;34m\u001b[0m\u001b[0;34m\u001b[0m\u001b[0m\n\u001b[1;32m    454\u001b[0m             raise ValueError(\n\u001b[0;32m--> 455\u001b[0;31m                 \u001b[0;34m\"unable to convert unnamed DataArray to a \"\u001b[0m\u001b[0;34m\u001b[0m\u001b[0;34m\u001b[0m\u001b[0m\n\u001b[0m\u001b[1;32m    456\u001b[0m                 \u001b[0;34m\"Dataset without providing an explicit name\"\u001b[0m\u001b[0;34m\u001b[0m\u001b[0;34m\u001b[0m\u001b[0m\n\u001b[1;32m    457\u001b[0m             )\n",
      "\u001b[0;31mValueError\u001b[0m: unable to convert unnamed DataArray to a Dataset without providing an explicit name"
     ]
    }
   ],
   "source": [
    "xr.merge([xr.open_rasterio(f) for f in ndvi_files[:4]])"
   ]
  },
  {
   "cell_type": "code",
   "execution_count": 88,
   "metadata": {},
   "outputs": [
    {
     "ename": "SyntaxError",
     "evalue": "invalid syntax (<ipython-input-88-04a63fbcd068>, line 1)",
     "output_type": "error",
     "traceback": [
      "\u001b[0;36m  File \u001b[0;32m\"<ipython-input-88-04a63fbcd068>\"\u001b[0;36m, line \u001b[0;32m1\u001b[0m\n\u001b[0;31m    ndvi_merge =  xr.concat([xr.open_rasterio(f) for f in ndvi_files[:4]]), dim = 'time')\u001b[0m\n\u001b[0m                                                                                        ^\u001b[0m\n\u001b[0;31mSyntaxError\u001b[0m\u001b[0;31m:\u001b[0m invalid syntax\n"
     ]
    }
   ],
   "source": [
    "ndvi_merge =  xr.concat([xr.open_rasterio(f) for f in ndvi_files[:4]]), dim = 'time')"
   ]
  },
  {
   "cell_type": "code",
   "execution_count": null,
   "metadata": {},
   "outputs": [],
   "source": [
    "ndvi_stack = xr.concat"
   ]
  },
  {
   "cell_type": "code",
   "execution_count": null,
   "metadata": {
    "scrolled": true
   },
   "outputs": [],
   "source": [
    "stackTiffs('/home/rgreen/tana-spin/rgreen/DroughtEDM/Data/eMODIS_NDVI/EastAfrica/')"
   ]
  },
  {
   "cell_type": "code",
   "execution_count": null,
   "metadata": {},
   "outputs": [],
   "source": [
    "#Stack tiffs\n",
    "\n",
    "\n",
    "with rio.open(ndvi_files[0]) as src0:\n",
    "    meta = src0.meta\n",
    "\n",
    "meta.update(count=len(ndvi_files))\n",
    "\n",
    "with rio.open('ndvi_stack.tiff', 'w', **meta) as dst:\n",
    "    for id, layer in enumerate(ndvi_files, start=1):\n",
    "        with rio.open(layer) as src1:\n",
    "            dst.write_band(id, src1.read(1))"
   ]
  },
  {
   "cell_type": "code",
   "execution_count": 20,
   "metadata": {},
   "outputs": [
    {
     "data": {
      "text/plain": [
       "{'driver': 'GTiff',\n",
       " 'dtype': 'uint8',\n",
       " 'nodata': 0.0,\n",
       " 'width': 9946,\n",
       " 'height': 11190,\n",
       " 'count': 606,\n",
       " 'crs': CRS.from_epsg(4326),\n",
       " 'transform': Affine(0.0024129999999999998, 0.0, 27.999396000000022,\n",
       "        0.0, -0.002413, 15.001320649815025)}"
      ]
     },
     "execution_count": 20,
     "metadata": {},
     "output_type": "execute_result"
    }
   ],
   "source": [
    "stack = rasterio.open('/home/rgreen/tana-spin/rgreen/DroughtEDM/ndvi_stack.tiff')\n",
    "stack.meta"
   ]
  },
  {
   "cell_type": "code",
   "execution_count": null,
   "metadata": {},
   "outputs": [],
   "source": []
  },
  {
   "cell_type": "markdown",
   "metadata": {},
   "source": [
    "# Random code"
   ]
  },
  {
   "cell_type": "code",
   "execution_count": null,
   "metadata": {},
   "outputs": [],
   "source": []
  },
  {
   "cell_type": "raw",
   "metadata": {},
   "source": []
  },
  {
   "cell_type": "code",
   "execution_count": null,
   "metadata": {},
   "outputs": [],
   "source": [
    "fldas = os.listdir('/home/rgreen/tana-crunch/rgreen/DroughtEDM/Data/FLDAS/200207/')\n",
    "dates = []\n",
    "for filename in fldas:\n",
    "    file = re.search(r'\\d{4}.\\d{3}', filename)\n",
    "    dates.append(file.group())\n",
    "    #print(file.group)\n",
    "\n",
    "dates.sort()\n",
    "print(dates)"
   ]
  },
  {
   "cell_type": "code",
   "execution_count": null,
   "metadata": {},
   "outputs": [],
   "source": [
    "dates2 = pd.to_datetime(pd.Series(dates), format ='%Y%m%d')\n",
    "pytesmo.timedate.dekad.check_dekad(dates2[1])\n",
    "#s = pd.Series(['dates2'], name = \"dates\")\n",
    "#df = pd.DataFrame('Dates':dates)\n",
    "\n",
    "#df.insert(1, 'M', [str(x) for x in range (1,4) for i in range(10)])\n",
    "\n",
    "#df"
   ]
  },
  {
   "cell_type": "code",
   "execution_count": null,
   "metadata": {},
   "outputs": [],
   "source": [
    "n=10\n",
    "final = [output[i * n:(i + 1) * n] for i in range((len(output) + n - 1) // n )]  \n",
    "print (final)\n",
    "len(final)"
   ]
  },
  {
   "cell_type": "code",
   "execution_count": null,
   "metadata": {},
   "outputs": [],
   "source": [
    "test3 = np.mean(outputa[:(len(outputa)//10)*10].reshape(-1,10), axis=1)\n",
    "test3"
   ]
  },
  {
   "cell_type": "code",
   "execution_count": null,
   "metadata": {},
   "outputs": [],
   "source": [
    "data = pd.read_csv('TS_3887_421.csv.csv')\n",
    "data.insert(2,'SM', dates)"
   ]
  },
  {
   "cell_type": "code",
   "execution_count": null,
   "metadata": {},
   "outputs": [],
   "source": [
    "f = netCDF4.Dataset('/home/rgreen/tana-crunch/rgreen/DroughtEDM/Data/FLDAS/200207/LIS_HIST_200207010000.d01.nc')\n",
    "\n",
    "print(f.variables.keys())"
   ]
  },
  {
   "cell_type": "code",
   "execution_count": null,
   "metadata": {},
   "outputs": [],
   "source": [
    "allfiles = glob.glob('/home/rgreen/tana-crunch/rgreen/DroughtEDM/Data/FLDAS/200207/*.nc')"
   ]
  },
  {
   "cell_type": "code",
   "execution_count": null,
   "metadata": {},
   "outputs": [],
   "source": [
    "#data200207 = xr.open_mfdataset('/home/rgreen/tana-crunch/rgreen/DroughtEDM/Data/FLDAS/200207/*.nc', concat_dim=[..., None, ...])"
   ]
  },
  {
   "cell_type": "code",
   "execution_count": null,
   "metadata": {},
   "outputs": [],
   "source": [
    "data1 = '/home/rgreen/tana-crunch/rgreen/DroughtEDM/Data/FLDAS/200207/LIS_HIST_200207010000.d01.nc'\n",
    "data2 = '/home/rgreen/tana-crunch/rgreen/DroughtEDM/Data/FLDAS/200207/LIS_HIST_200207020000.d01.nc'\n",
    "data27 = '/home/rgreen/tana-crunch/rgreen/DroughtEDM/Data/FLDAS/FLDAS_NOAH01_C_GL_M.A200207.001.nc' #global monthly\n",
    "DS1 = xr.open_dataset(data1)\n",
    "DS2 = xr.open_dataset(data2)\n",
    "DS27 = xr.open_dataset(data27)\n",
    "DS1.SoilMoist_tavg[0,400:405,300:305]\n",
    "#xidx = (np.abs(DS1.X - -17.83)).argmin()\n",
    "#yidx = (np.abs(DS1.Y - long)).argmin()\n",
    "DS1.Evap_tavg[1,0]"
   ]
  },
  {
   "cell_type": "code",
   "execution_count": null,
   "metadata": {},
   "outputs": [],
   "source": [
    "DS1.SoilMoist_tavg[0,568,442]"
   ]
  },
  {
   "cell_type": "code",
   "execution_count": null,
   "metadata": {},
   "outputs": [],
   "source": [
    "lat, lon = np.array(DS1.variables['Y'][:]), np.array(DS1.variables['X'][:])\n"
   ]
  },
  {
   "cell_type": "code",
   "execution_count": null,
   "metadata": {},
   "outputs": [],
   "source": [
    "print(find_nearest(lat, 4))"
   ]
  },
  {
   "cell_type": "code",
   "execution_count": null,
   "metadata": {},
   "outputs": [],
   "source": [
    "lat, lon = DS1.variables['Y'], DS1.variables['X']\n",
    "latvals = lat[:]; lonvals = lon[:]\n",
    "\n",
    "lat = np.array(DS1.variables['Y'][:])\n",
    "sm = np.array(DS1.variables['SoilMoist_tavg'][0,:,:]) #change first value to indicate soil level, 0 = level 1\n",
    "#iy_min, ix_min = getclosest_ij(latvals, lonvals, 4, 38)\n",
    "lat.shape"
   ]
  },
  {
   "cell_type": "code",
   "execution_count": null,
   "metadata": {},
   "outputs": [],
   "source": [
    "#iy_min, ix_min = getclosest_ij(latvals, lonvals, 4, 38)\n",
    "\n",
    "dist_sq = (latvals - 4)**2 + (lonvals - 38)**2\n",
    "idy, idx = np.where(dist_sq==dist_sq.min())\n",
    "idy[0]\n",
    "idx[0]"
   ]
  },
  {
   "cell_type": "code",
   "execution_count": null,
   "metadata": {},
   "outputs": [],
   "source": [
    "i = np.abs(lonvals - 38).argmin()\n",
    "j = np.abs(latvals -4).argmin()\n",
    "DS1.SoilMoist_tavg[0,j,i]"
   ]
  },
  {
   "cell_type": "code",
   "execution_count": null,
   "metadata": {},
   "outputs": [],
   "source": [
    "ax = plt.axes(projection=ccrs.PlateCarree())\n",
    "ax.coastlines() \n",
    "sm1.plot()\n",
    "plt.show()"
   ]
  },
  {
   "cell_type": "code",
   "execution_count": null,
   "metadata": {},
   "outputs": [],
   "source": [
    "sm1.cartopy_crs"
   ]
  },
  {
   "cell_type": "code",
   "execution_count": null,
   "metadata": {},
   "outputs": [],
   "source": [
    "sm1_ras = rio.to_raster(sm1)"
   ]
  },
  {
   "cell_type": "code",
   "execution_count": null,
   "metadata": {},
   "outputs": [],
   "source": [
    "sm_ras = rio.open('netcdf:/home/rgreen/tana-crunch/rgreen/DroughtEDM/Data/FLDAS/200207/LIS_HIST_200207010000.d01.nc:SoilMoist_tavg')"
   ]
  },
  {
   "cell_type": "code",
   "execution_count": null,
   "metadata": {},
   "outputs": [],
   "source": [
    "#clip SM images to cropzones boundaries\n",
    "\n",
    "with fiona.open('/home/rgreen/tana-crunch/rgreen/DroughtEDM/Data/cropzones/cropzones.shp', \"r\") as shapefile:\n",
    "    features = [feature[\"geometry\"] for feature in shapefile]\n",
    "\n",
    "src = rio.open('/home/rgreen/tana-crunch/rgreen/DroughtEDM/Data/eMODIS_NDVI/EastAfrica/data.2002.071_mask.tiff')\n",
    "\n",
    "    \n",
    "show((src,1))\n",
    "ax = plt.gca()\n",
    "patches = [PolygonPatch(feature, edgecolor=\"red\", facecolor=\"none\", linewidth=2) for feature in features]\n",
    "ax.add_collection(mpl.collections.PatchCollection(patches, match_original=True))\n"
   ]
  },
  {
   "cell_type": "code",
   "execution_count": null,
   "metadata": {},
   "outputs": [],
   "source": [
    "    #val = data.sample([x,y])\n",
    "       #output = []\n",
    "        \n",
    "      #  for result in data.sample([(x, y)]): \n",
    "           # with openoutput.append(*((result-100)/100))\n",
    "          # output =  ((result-100)/100)\n",
    "       # return output\n",
    "        \n",
    "       # return result\n",
    "            \n",
    "            #output = (*((result-100)/100))\n",
    "           # print\n",
    "    \n",
    "        #return return np.asarray(output)\n",
    "        \n",
    "        #np.asarray(output)\n",
    "# with rio.open(tiff_dir + filename) as data:\n",
    "         #   output.append(data.sample([(x, y)]))"
   ]
  },
  {
   "cell_type": "code",
   "execution_count": null,
   "metadata": {},
   "outputs": [],
   "source": [
    "data = rio.open('/home/rgreen/tana-spin/rgreen/DroughtEDM/Data/eMODIS_NDVI/CropsMask/data.2002.071_mask_crops.tiff')\n",
    "for val in data.sample([(38.87, 4.21)]): print(val)\n"
   ]
  },
  {
   "cell_type": "code",
   "execution_count": 48,
   "metadata": {},
   "outputs": [
    {
     "data": {
      "text/plain": [
       "[array([[0., 0., 0., 0.],\n",
       "        [0., 0., 0., 0.],\n",
       "        [0., 0., 0., 0.]]), array([[1., 1., 1., 1.],\n",
       "        [1., 1., 1., 1.],\n",
       "        [1., 1., 1., 1.]]), array([[2., 2., 2., 2.],\n",
       "        [2., 2., 2., 2.],\n",
       "        [2., 2., 2., 2.]]), array([[3., 3., 3., 3.],\n",
       "        [3., 3., 3., 3.],\n",
       "        [3., 3., 3., 3.]])]"
      ]
     },
     "execution_count": 48,
     "metadata": {},
     "output_type": "execute_result"
    }
   ],
   "source": [
    "class0=np.zeros((3,4))\n",
    "class1=np.ones((3,4))\n",
    "class2=np.ones((3,4))*2\n",
    "class3=np.ones((3,4))*3\n",
    "class_list=[class0,class1,class2,class3]\n",
    "class_list"
   ]
  },
  {
   "cell_type": "code",
   "execution_count": 52,
   "metadata": {},
   "outputs": [
    {
     "ename": "TypeError",
     "evalue": "list indices must be integers or slices, not tuple",
     "output_type": "error",
     "traceback": [
      "\u001b[0;31m---------------------------------------------------------------------------\u001b[0m",
      "\u001b[0;31mTypeError\u001b[0m                                 Traceback (most recent call last)",
      "\u001b[0;32m<ipython-input-52-d0d9e2b4a2ba>\u001b[0m in \u001b[0;36m<module>\u001b[0;34m\u001b[0m\n\u001b[0;32m----> 1\u001b[0;31m \u001b[0mclass_list\u001b[0m\u001b[0;34m[\u001b[0m\u001b[0;36m1\u001b[0m\u001b[0;34m,\u001b[0m\u001b[0;36m0\u001b[0m\u001b[0;34m,\u001b[0m\u001b[0;36m0\u001b[0m\u001b[0;34m]\u001b[0m\u001b[0;34m\u001b[0m\u001b[0;34m\u001b[0m\u001b[0m\n\u001b[0m",
      "\u001b[0;31mTypeError\u001b[0m: list indices must be integers or slices, not tuple"
     ]
    }
   ],
   "source": [
    "class_list[1,0,0]"
   ]
  },
  {
   "cell_type": "code",
   "execution_count": 51,
   "metadata": {},
   "outputs": [
    {
     "ename": "TypeError",
     "evalue": "tuple indices must be integers or slices, not tuple",
     "output_type": "error",
     "traceback": [
      "\u001b[0;31m---------------------------------------------------------------------------\u001b[0m",
      "\u001b[0;31mTypeError\u001b[0m                                 Traceback (most recent call last)",
      "\u001b[0;32m<ipython-input-51-9b7c3c36f040>\u001b[0m in \u001b[0;36m<module>\u001b[0;34m\u001b[0m\n\u001b[0;32m----> 1\u001b[0;31m \u001b[0mlenlist\u001b[0m\u001b[0;34m=\u001b[0m\u001b[0;34m[\u001b[0m\u001b[0mx\u001b[0m\u001b[0;34m.\u001b[0m\u001b[0mshape\u001b[0m\u001b[0;34m[\u001b[0m\u001b[0;36m1\u001b[0m\u001b[0;34m,\u001b[0m\u001b[0;36m0\u001b[0m\u001b[0;34m,\u001b[0m\u001b[0;36m0\u001b[0m\u001b[0;34m]\u001b[0m \u001b[0;32mfor\u001b[0m \u001b[0mx\u001b[0m \u001b[0;32min\u001b[0m \u001b[0mclass_list\u001b[0m\u001b[0;34m]\u001b[0m\u001b[0;34m\u001b[0m\u001b[0;34m\u001b[0m\u001b[0m\n\u001b[0m\u001b[1;32m      2\u001b[0m \u001b[0mlenlist\u001b[0m\u001b[0;34m\u001b[0m\u001b[0;34m\u001b[0m\u001b[0m\n",
      "\u001b[0;32m<ipython-input-51-9b7c3c36f040>\u001b[0m in \u001b[0;36m<listcomp>\u001b[0;34m(.0)\u001b[0m\n\u001b[0;32m----> 1\u001b[0;31m \u001b[0mlenlist\u001b[0m\u001b[0;34m=\u001b[0m\u001b[0;34m[\u001b[0m\u001b[0mx\u001b[0m\u001b[0;34m.\u001b[0m\u001b[0mshape\u001b[0m\u001b[0;34m[\u001b[0m\u001b[0;36m1\u001b[0m\u001b[0;34m,\u001b[0m\u001b[0;36m0\u001b[0m\u001b[0;34m,\u001b[0m\u001b[0;36m0\u001b[0m\u001b[0;34m]\u001b[0m \u001b[0;32mfor\u001b[0m \u001b[0mx\u001b[0m \u001b[0;32min\u001b[0m \u001b[0mclass_list\u001b[0m\u001b[0;34m]\u001b[0m\u001b[0;34m\u001b[0m\u001b[0;34m\u001b[0m\u001b[0m\n\u001b[0m\u001b[1;32m      2\u001b[0m \u001b[0mlenlist\u001b[0m\u001b[0;34m\u001b[0m\u001b[0;34m\u001b[0m\u001b[0m\n",
      "\u001b[0;31mTypeError\u001b[0m: tuple indices must be integers or slices, not tuple"
     ]
    }
   ],
   "source": [
    "lenlist=[x.shape[1,0,0] for x in class_list]\n",
    "lenlist"
   ]
  },
  {
   "cell_type": "code",
   "execution_count": 33,
   "metadata": {},
   "outputs": [
    {
     "data": {
      "text/plain": [
       "array([[0., 0., 0., 0.],\n",
       "       [0., 0., 0., 0.],\n",
       "       [0., 0., 0., 0.],\n",
       "       [1., 1., 1., 1.],\n",
       "       [1., 1., 1., 1.],\n",
       "       [2., 2., 2., 2.],\n",
       "       [2., 2., 2., 2.],\n",
       "       [2., 2., 2., 2.],\n",
       "       [2., 2., 2., 2.],\n",
       "       [2., 2., 2., 2.],\n",
       "       [3., 3., 3., 3.],\n",
       "       [3., 3., 3., 3.]])"
      ]
     },
     "execution_count": 33,
     "metadata": {},
     "output_type": "execute_result"
    }
   ],
   "source": [
    "m = np.concatenate(class_list, axis=0)\n",
    "m"
   ]
  },
  {
   "cell_type": "code",
   "execution_count": 57,
   "metadata": {},
   "outputs": [
    {
     "data": {
      "text/plain": [
       "1.0"
      ]
     },
     "execution_count": 57,
     "metadata": {},
     "output_type": "execute_result"
    }
   ],
   "source": [
    "m[4,1]"
   ]
  },
  {
   "cell_type": "markdown",
   "metadata": {},
   "source": [
    "### notes: \n",
    "Either need to aggregate by pixels, time series with all pixels or sample by pixels \n"
   ]
  }
 ],
 "metadata": {
  "kernelspec": {
   "display_name": "Python [conda env:edm]",
   "language": "python",
   "name": "conda-env-edm-py"
  },
  "language_info": {
   "codemirror_mode": {
    "name": "ipython",
    "version": 3
   },
   "file_extension": ".py",
   "mimetype": "text/x-python",
   "name": "python",
   "nbconvert_exporter": "python",
   "pygments_lexer": "ipython3",
   "version": "3.7.3"
  }
 },
 "nbformat": 4,
 "nbformat_minor": 2
}
