{
 "cells": [
  {
   "cell_type": "code",
   "execution_count": 1,
   "metadata": {},
   "outputs": [],
   "source": [
    "from pyEDM import *\n",
    "import pandas as pd\n",
    "import numpy as np\n",
    "import matplotlib as mpl\n",
    "from matplotlib import pyplot as plt\n",
    "import os\n",
    "import geopandas as gpd\n",
    "from shapely.geometry import Polygon\n",
    "import rasterio\n",
    "import xarray as xr\n",
    "from mpl_toolkits.axes_grid1 import make_axes_locatable\n",
    "import fiona\n",
    "import rasterio.mask\n",
    "from descartes import PolygonPatch\n",
    "from rasterio.plot import show\n",
    "from tqdm import tqdm\n",
    "import datetime\n",
    "import random\n",
    "from sklearn.preprocessing import StandardScaler\n",
    "import scipy.stats"
   ]
  },
  {
   "cell_type": "code",
   "execution_count": 11,
   "metadata": {},
   "outputs": [],
   "source": [
    "SM_EA = '/home/rgreen/tana-spin/rgreen/DroughtEDM/Data/FLDAS_SM/EA/'\n",
    "SM_Anomaly = '/home/rgreen/tana-spin/rgreen/DroughtEDM/Data/FLDAS_SM/EA_Anomaly/'"
   ]
  },
  {
   "cell_type": "code",
   "execution_count": 2,
   "metadata": {},
   "outputs": [],
   "source": [
    "def generate_dekads(start, end):\n",
    "    '''\n",
    "    Generates list of timestamps of dekads between two dates\n",
    "    \n",
    "    Parameters\n",
    "    ----------\n",
    "    start : pd.datetime object\n",
    "        Start date of list\n",
    "    end : pd.datetime object\n",
    "        end date of list\n",
    "    '''\n",
    "    \n",
    "    dtrange = pd.date_range(start, end)\n",
    "    days = list(range(len(dtrange))) #length of dtrange\n",
    "    daysDF = pd.DataFrame({'Days': days}, index=dtrange)\n",
    "    d = daysDF.index.day - np.clip((daysDF.index.day-1) // 10, 0, 2)*10 - 1 \n",
    "    dekaddates = daysDF.index.values - np.array(d, dtype=\"timedelta64[D]\")\n",
    "    dekads = daysDF.groupby(dekaddates).mean()\n",
    "    dekads = dekads.index\n",
    "    \n",
    "    return dekads"
   ]
  },
  {
   "cell_type": "code",
   "execution_count": 3,
   "metadata": {},
   "outputs": [],
   "source": [
    "start = pd.datetime(2002,7,1)\n",
    "end = pd.datetime(2019,4,30)\n",
    "\n",
    "dekads = generate_dekads(start, end)"
   ]
  },
  {
   "cell_type": "code",
   "execution_count": 5,
   "metadata": {},
   "outputs": [],
   "source": [
    "def stack_rasters(in_dir, keyword):\n",
    "    \n",
    "    '''\n",
    "    This function creates a raster stack xarray DataArray given a specified variable keyword.\n",
    "    Keywords = 'precip', 'ndvi','lst'\n",
    "    \n",
    "    '''\n",
    "    \n",
    "    files=np.array(sorted(os.listdir(in_dir)))\n",
    "    tifs = pd.Series(files).str.contains('.tif')\n",
    "    files = files[tifs]\n",
    "    \n",
    "    stacked = []\n",
    "    \n",
    "    for filename in tqdm(files): \n",
    "        if keyword in filename:\n",
    "    \n",
    "            file = xr.open_rasterio(in_dir+filename)\n",
    "            stacked.append(file.sel(band=1))\n",
    "            \n",
    "    combined = xr.concat(stacked, dim = 'time')\n",
    "  \n",
    "\n",
    "    return combined.assign_coords(time=dekads)"
   ]
  },
  {
   "cell_type": "code",
   "execution_count": 9,
   "metadata": {},
   "outputs": [
    {
     "name": "stderr",
     "output_type": "stream",
     "text": [
      "100%|██████████| 606/606 [00:06<00:00, 95.15it/s] \n"
     ]
    }
   ],
   "source": [
    "#stack_out = stack_rasters(precip_dir, 'chirps')\n",
    "\n",
    "stack_out = stack_rasters(SM_EA, 'SM')"
   ]
  },
  {
   "cell_type": "code",
   "execution_count": 10,
   "metadata": {},
   "outputs": [
    {
     "name": "stderr",
     "output_type": "stream",
     "text": [
      "/home/rgreen/miniconda3/envs/edm/lib/python3.7/site-packages/xarray/core/nanops.py:140: RuntimeWarning: Mean of empty slice\n",
      "  return np.nanmean(a, axis=axis, dtype=dtype)\n"
     ]
    }
   ],
   "source": [
    "\n",
    "#all other variables\n",
    "ds_anom = stack_out.groupby('time.month') - stack_out.groupby(\"time.month\").mean(\"time\")"
   ]
  },
  {
   "cell_type": "code",
   "execution_count": 14,
   "metadata": {},
   "outputs": [],
   "source": [
    "def dataarray2tiff(dataarray, in_dir, out_dir, out_name):\n",
    "    \n",
    "    '''\n",
    "    This function converts a 2D xarray DataArray into a tif using the profile of an existing tif\n",
    "\n",
    "    '''\n",
    "    \n",
    "\n",
    "    with rasterio.open(in_dir+ os.listdir(in_dir)[0]) as src:\n",
    "        profile = src.profile\n",
    "        \n",
    "    for i in np.arange(0,len(os.listdir(in_dir))):\n",
    "        data = np.array(dataarray[i])\n",
    "       \n",
    "        with rasterio.open(out_dir + out_name + str(np.array(dataarray[i].time))[:10] + '.tif', 'w', **profile) as dst:\n",
    "            \n",
    "            data = data.astype(np.float32)\n",
    "            dst.write(data, indexes = 1)"
   ]
  },
  {
   "cell_type": "code",
   "execution_count": 13,
   "metadata": {},
   "outputs": [],
   "source": [
    "dataarray2tiff(ds_anom, SM_EA, SM_Anomaly, 'anom_ea_SM_')"
   ]
  },
  {
   "cell_type": "code",
   "execution_count": null,
   "metadata": {},
   "outputs": [],
   "source": [
    "def pixelwise_ts_table(in_dir, keyword):\n",
    "    \n",
    "    '''\n",
    "    This function searches through the file directory and creates a dataframe of pixel values over time from rasters\n",
    "    based on a given keyword describing the environmental variable of interest to generate a raster time series stack \n",
    "    \n",
    "   In the output dataframe, columns are each pixel extracted from the raster (read squentially into a list)\n",
    "   and rows are the same pixel over time (dekads going down)\n",
    "    \n",
    "    Args:\n",
    "    - in_dir: path to the input directory\n",
    "    -keyword: string that is unique to the environmental variable\n",
    "        options: ['chirps', 'lst', 'ndvi', 'pet', 'SM', 'Tmax']\n",
    "    '''\n",
    "    \n",
    "    \n",
    "    files=np.array(sorted(os.listdir(in_dir)))\n",
    "    tifs = pd.Series(files).str.contains(keyword)\n",
    "    files = files[tifs]\n",
    "    #n_samples = len(files)\n",
    "    \n",
    "    \n",
    "    pixelwise_TS = []\n",
    "    \n",
    "    for filename in tqdm(files): \n",
    "        \n",
    "        \n",
    "            open_file = xr.open_rasterio(in_dir+filename).sel(band=1)\n",
    "            array = open_file.values\n",
    "            #print(array)\n",
    "            scaler = StandardScaler()\n",
    "            scaled = scaler.fit_transform(array)\n",
    "            # Determine the size of the datatable\n",
    "            #rs_cols, rs_rows = array.shape()\n",
    "\n",
    "    #         rs_cols = array.shape[0]\n",
    "    #         rs_rows = array.shape[1]\n",
    "\n",
    "            pixel_list = array.ravel().tolist()\n",
    "            \n",
    "            pixelwise_TS.append(pixel_list)\n",
    "\n",
    "            # Create a DataFrame from the pixelwise list:\n",
    "           # table = pd.DataFrame(pixelwise_TS)\n",
    "\n",
    "            # Add rs_cols and rs_rows as attributes to the table DataFrame\n",
    "    #         table.rs_cols = rs_cols\n",
    "    #         table.rs_rows = rs_rows\n",
    "    #         table.n_samples = n_samples\n",
    "    #         if label:\n",
    "    #             table.label = label\n",
    "    return pd.DataFrame(pixelwise_TS)\n",
    "\n",
    "    "
   ]
  },
  {
   "cell_type": "code",
   "execution_count": null,
   "metadata": {},
   "outputs": [],
   "source": [
    "sm_table = pixelwise_ts_table(SM_Anomaly, 'SM')\n"
   ]
  },
  {
   "cell_type": "code",
   "execution_count": 20,
   "metadata": {},
   "outputs": [],
   "source": [
    "sm_table.label = 'sm'\n",
    "sm_table.rs_rows = 674\n",
    "sm_table.rs_cols = 583\n",
    "sm_table.n_samples = 606"
   ]
  },
  {
   "cell_type": "code",
   "execution_count": 28,
   "metadata": {},
   "outputs": [],
   "source": [
    "def pixelwise_simplex(table, target_label, train, test, ed, pi):\n",
    "    \n",
    "    '''\n",
    "    This function computes the simplex prediction skill for a given embedding dimensions, prediction interval, land cover and environmental variable\n",
    "    across pixels given a table of pixel values across time for a region from the function pixelwise_ts_table \n",
    "\n",
    "    The result is an np.array of simplex error values reshaped back into the shape of the original raster image\n",
    "    \n",
    "    Args:\n",
    "    - table: input table, where every column is the time series of each pixel in a raster\n",
    "    - train: portion of data library used to train (string of range with space between values)\n",
    "    - test: portion of data libary used to test (string of range with space between values) \n",
    "    - ed: embedding dimension\n",
    "    - pi: prediction interval (Tp) \n",
    "    - rs_rows: number of rows to reshape list into original raster size\n",
    "    - rs_cols: number of columns to reshape list into original raster size\n",
    "   \n",
    "     '''\n",
    "\n",
    "    simplex_out_df = []\n",
    "    table_dict = {'Time': dekads }\n",
    "    #table_dict = {\n",
    "       # 'Time': list(range(0,table.n_samples)) \n",
    "    #}    \n",
    "    simplex_out_df = []\n",
    "    label = table.label # Assumes that all tables have labels\n",
    "    dekads_fut = generate_dekads(dekads[-1],pd.datetime(2020,4,30))\n",
    "    \n",
    "    for col in tqdm(range(len(table.columns))):\n",
    "        [table_dict.update({table.label: table.iloc[:,col]})]\n",
    "        interim_df = pd.DataFrame(table_dict)\n",
    "        interim_df.set_index('Time',inplace=True, drop=False)\n",
    "        \n",
    "        \n",
    "#         if interim_df.isnull().values.any():\n",
    "        if max([len(interim_df[interim_df[col].isnull()]) for col in interim_df.columns]) > 20:\n",
    "            simplex_out_df.append(np.nan)  \n",
    "            #simplex_out_df.append(np.nan)\n",
    "        else:\n",
    "            # Check whether column has a few nans\n",
    "            if interim_df[label].isnull().values.any():\n",
    "                # If so, iterate through nan rows and replace with monthly mean\n",
    "                for t in interim_df[interim_df[label].isnull()].index:\n",
    "                    interim_df[label].loc[t] = interim_df[label][interim_df.index.month == t.month].mean()\n",
    "                    \n",
    "            #interim_df = pd.DataFrame({'Time': list(range(0,table.n_samples)), 'Data': table[column]}) #'Time': dekads\n",
    "            simplex_result = Simplex(dataFrame = interim_df, \n",
    "                                     lib = train,\n",
    "                                     pred = test,\n",
    "                                     E = ed, Tp = pi, \n",
    "                                     columns = target_label, target = target_label, showPlot = False)\n",
    "            \n",
    "            # Add datetime index + fix dekad values for future values\n",
    "            simplex_result.Time = pd.to_datetime(simplex_result.Time)\n",
    "            simplex_result.set_index(simplex_result.Time, inplace=True)\n",
    "            \n",
    "            \n",
    "            # Fix datetime index for future dekads\n",
    "            simplex_result[-pi:].Time = dekads_fut[1:pi+1]\n",
    "            \n",
    "            error = ComputeError(list(simplex_result.Observations), list(simplex_result.Predictions))\n",
    "            \n",
    "            rho = list(error.values())[2]\n",
    "            simplex_out_df.append(rho) \n",
    "            \n",
    "    return(np.reshape(simplex_out_df, (table.rs_rows, table.rs_cols)))\n",
    "            \n",
    "\n"
   ]
  },
  {
   "cell_type": "code",
   "execution_count": 30,
   "metadata": {},
   "outputs": [
    {
     "name": "stderr",
     "output_type": "stream",
     "text": [
      "100%|██████████| 392942/392942 [1:06:02<00:00, 99.16it/s] \n"
     ]
    }
   ],
   "source": [
    "sm_ea_simplex_ed6 = pixelwise_simplex(sm_table, 'sm', '1 303', '304 606', ed = 6, pi = 18)"
   ]
  },
  {
   "cell_type": "code",
   "execution_count": null,
   "metadata": {},
   "outputs": [
    {
     "name": "stderr",
     "output_type": "stream",
     "text": [
      "100%|██████████| 392942/392942 [1:16:41<00:00, 85.39it/s] \n",
      " 90%|████████▉ | 353458/392942 [1:06:41<08:49, 74.54it/s] "
     ]
    }
   ],
   "source": [
    "sm_ea_simplex_ed6_pi1 = pixelwise_simplex(sm_table, 'sm', '1 303', '304 606', ed = 6, pi = 1)\n",
    "sm_ea_simplex_ed6_pi2 = pixelwise_simplex(sm_table, 'sm', '1 303', '304 606', ed = 6, pi = 2)\n",
    "sm_ea_simplex_ed6_pi3 = pixelwise_simplex(sm_table, 'sm', '1 303', '304 606', ed = 6, pi = 3)\n",
    "sm_ea_simplex_ed6_pi4 = pixelwise_simplex(sm_table, 'sm', '1 303', '304 606', ed = 6, pi = 4)\n",
    "sm_ea_simplex_ed6_pi5 = pixelwise_simplex(sm_table, 'sm', '1 303', '304 606', ed = 6, pi = 5)\n",
    "sm_ea_simplex_ed6_pi6 = pixelwise_simplex(sm_table, 'sm', '1 303', '304 606', ed = 6, pi = 6)\n",
    "sm_ea_simplex_ed6_pi7 = pixelwise_simplex(sm_table, 'sm', '1 303', '304 606', ed = 6, pi = 7)\n",
    "sm_ea_simplex_ed6_pi8 = pixelwise_simplex(sm_table, 'sm', '1 303', '304 606', ed = 6, pi = 8)\n",
    "sm_ea_simplex_ed6_pi9 = pixelwise_simplex(sm_table, 'sm', '1 303', '304 606', ed = 6, pi = 9)\n",
    "sm_ea_simplex_ed6_pi10 = pixelwise_simplex(sm_table, 'sm', '1 303', '304 606', ed = 6, pi = 10)\n",
    "sm_ea_simplex_ed6_pi11 = pixelwise_simplex(sm_table, 'sm', '1 303', '304 606', ed = 6, pi = 11)\n",
    "sm_ea_simplex_ed6_pi12 = pixelwise_simplex(sm_table, 'sm', '1 303', '304 606', ed = 6, pi = 12)\n",
    "sm_ea_simplex_ed6_pi13 = pixelwise_simplex(sm_table, 'sm', '1 303', '304 606', ed = 6, pi = 13)\n",
    "sm_ea_simplex_ed6_pi14 = pixelwise_simplex(sm_table, 'sm', '1 303', '304 606', ed = 6, pi = 14)\n",
    "sm_ea_simplex_ed6_pi15 = pixelwise_simplex(sm_table, 'sm', '1 303', '304 606', ed = 6, pi = 15)\n",
    "sm_ea_simplex_ed6_pi16 = pixelwise_simplex(sm_table, 'sm', '1 303', '304 606', ed = 6, pi = 16)\n",
    "sm_ea_simplex_ed6_pi17 = pixelwise_simplex(sm_table, 'sm', '1 303', '304 606', ed = 6, pi = 17)"
   ]
  },
  {
   "cell_type": "code",
   "execution_count": 44,
   "metadata": {},
   "outputs": [
    {
     "name": "stderr",
     "output_type": "stream",
     "text": [
      "100%|██████████| 392942/392942 [1:04:16<00:00, 101.89it/s]\n"
     ]
    }
   ],
   "source": [
    "sm_ea_simplex_ed6_pi18 = pixelwise_simplex(sm_table, 'sm', '1 303', '304 606', ed = 6, pi = 18)"
   ]
  },
  {
   "cell_type": "code",
   "execution_count": 41,
   "metadata": {},
   "outputs": [],
   "source": [
    "sm = '/home/rgreen/DroughtEDM/Data/Prediction_skill_interval/sm/'"
   ]
  },
  {
   "cell_type": "code",
   "execution_count": 36,
   "metadata": {},
   "outputs": [],
   "source": [
    "def array2tiff(array, in_dir, out_dir, out_name):\n",
    "    \n",
    "    '''\n",
    "    This function converts a 2D array into a tif using the profile of an existing tif\n",
    "\n",
    "    '''\n",
    "    \n",
    "\n",
    "    with rasterio.open(in_dir+ os.listdir(in_dir)[0]) as src:\n",
    "        profile = src.profile\n",
    "\n",
    "    with rasterio.open(out_dir + out_name + '.tif', 'w', **profile) as dst:\n",
    "        data = array\n",
    "        data = data.astype(np.float32)\n",
    "        #data[data<=0] = np.nan\n",
    "        dst.write(data, indexes=1)\n"
   ]
  },
  {
   "cell_type": "code",
   "execution_count": 40,
   "metadata": {},
   "outputs": [],
   "source": [
    "array2tiff(sm_ea_simplex_ed6, SM_Anomaly, sm, 'sm_ea_simplex_ed6')"
   ]
  },
  {
   "cell_type": "code",
   "execution_count": 46,
   "metadata": {},
   "outputs": [],
   "source": [
    "array2tiff(sm_ea_simplex_ed6_pi1, SM_Anomaly, sm, 'sm_ea_simplex_ed6_pi01')\n",
    "array2tiff(sm_ea_simplex_ed6_pi2, SM_Anomaly, sm, 'sm_ea_simplex_ed6_pi02')\n",
    "array2tiff(sm_ea_simplex_ed6_pi3, SM_Anomaly, sm, 'sm_ea_simplex_ed6_pi03')\n",
    "array2tiff(sm_ea_simplex_ed6_pi4, SM_Anomaly, sm, 'sm_ea_simplex_ed6_pi04')\n",
    "array2tiff(sm_ea_simplex_ed6_pi5, SM_Anomaly, sm, 'sm_ea_simplex_ed6_pi05')\n",
    "array2tiff(sm_ea_simplex_ed6_pi6, SM_Anomaly, sm, 'sm_ea_simplex_ed6_pi06')\n",
    "array2tiff(sm_ea_simplex_ed6_pi7, SM_Anomaly, sm, 'sm_ea_simplex_ed6_pi07')\n",
    "array2tiff(sm_ea_simplex_ed6_pi8, SM_Anomaly, sm, 'sm_ea_simplex_ed6_pi08')\n",
    "array2tiff(sm_ea_simplex_ed6_pi9, SM_Anomaly, sm, 'sm_ea_simplex_ed6_pi09')\n",
    "array2tiff(sm_ea_simplex_ed6_pi10, SM_Anomaly, sm, 'sm_ea_simplex_ed6_pi10')\n",
    "array2tiff(sm_ea_simplex_ed6_pi11, SM_Anomaly, sm, 'sm_ea_simplex_ed6_pi11')\n",
    "array2tiff(sm_ea_simplex_ed6_pi12, SM_Anomaly, sm, 'sm_ea_simplex_ed6_pi12')\n",
    "array2tiff(sm_ea_simplex_ed6_pi13, SM_Anomaly, sm, 'sm_ea_simplex_ed6_pi13')\n",
    "array2tiff(sm_ea_simplex_ed6_pi14, SM_Anomaly, sm, 'sm_ea_simplex_ed6_pi14')\n",
    "array2tiff(sm_ea_simplex_ed6_pi15, SM_Anomaly, sm, 'sm_ea_simplex_ed6_pi15')\n",
    "array2tiff(sm_ea_simplex_ed6_pi16, SM_Anomaly, sm, 'sm_ea_simplex_ed6_pi16')\n",
    "array2tiff(sm_ea_simplex_ed6_pi17, SM_Anomaly, sm, 'sm_ea_simplex_ed6_pi17')\n",
    "array2tiff(sm_ea_simplex_ed6_pi18, SM_Anomaly, sm, 'sm_ea_simplex_ed6_pi18')\n"
   ]
  },
  {
   "cell_type": "code",
   "execution_count": 51,
   "metadata": {},
   "outputs": [],
   "source": [
    "def simplex_mean(in_dir):\n",
    "    \n",
    "    \n",
    "    simplex_rasters = np.array(sorted(os.listdir(in_dir)))\n",
    "    tifs = pd.Series(simplex_rasters).str.contains('.tif')\n",
    "    files = simplex_rasters[tifs]\n",
    "    \n",
    "    mean_simplex = []\n",
    "    \n",
    "    for filename in files:\n",
    "            simplex_raster = rasterio.open(in_dir + filename)\n",
    "            read_raster = simplex_raster.read(1)\n",
    "            mean_raster = np.nanmean(read_raster)\n",
    "            mean_simplex.append(mean_raster)\n",
    "            \n",
    "    return mean_simplex"
   ]
  },
  {
   "cell_type": "code",
   "execution_count": 52,
   "metadata": {},
   "outputs": [],
   "source": [
    "psi_sm = simplex_mean(sm)"
   ]
  },
  {
   "cell_type": "code",
   "execution_count": 54,
   "metadata": {},
   "outputs": [],
   "source": [
    "psi_df = pd.DataFrame({'Prediction_Interval': list(range(1,19)), 'Prediction_skill': psi_sm})"
   ]
  },
  {
   "cell_type": "code",
   "execution_count": 55,
   "metadata": {},
   "outputs": [
    {
     "data": {
      "text/html": [
       "<div>\n",
       "<style scoped>\n",
       "    .dataframe tbody tr th:only-of-type {\n",
       "        vertical-align: middle;\n",
       "    }\n",
       "\n",
       "    .dataframe tbody tr th {\n",
       "        vertical-align: top;\n",
       "    }\n",
       "\n",
       "    .dataframe thead th {\n",
       "        text-align: right;\n",
       "    }\n",
       "</style>\n",
       "<table border=\"1\" class=\"dataframe\">\n",
       "  <thead>\n",
       "    <tr style=\"text-align: right;\">\n",
       "      <th></th>\n",
       "      <th>Prediction_Interval</th>\n",
       "      <th>Prediction_skill</th>\n",
       "    </tr>\n",
       "  </thead>\n",
       "  <tbody>\n",
       "    <tr>\n",
       "      <td>0</td>\n",
       "      <td>1</td>\n",
       "      <td>0.380791</td>\n",
       "    </tr>\n",
       "    <tr>\n",
       "      <td>1</td>\n",
       "      <td>2</td>\n",
       "      <td>0.265090</td>\n",
       "    </tr>\n",
       "    <tr>\n",
       "      <td>2</td>\n",
       "      <td>3</td>\n",
       "      <td>0.231191</td>\n",
       "    </tr>\n",
       "    <tr>\n",
       "      <td>3</td>\n",
       "      <td>4</td>\n",
       "      <td>0.162356</td>\n",
       "    </tr>\n",
       "    <tr>\n",
       "      <td>4</td>\n",
       "      <td>5</td>\n",
       "      <td>0.160742</td>\n",
       "    </tr>\n",
       "    <tr>\n",
       "      <td>5</td>\n",
       "      <td>6</td>\n",
       "      <td>0.142112</td>\n",
       "    </tr>\n",
       "    <tr>\n",
       "      <td>6</td>\n",
       "      <td>7</td>\n",
       "      <td>0.127076</td>\n",
       "    </tr>\n",
       "    <tr>\n",
       "      <td>7</td>\n",
       "      <td>8</td>\n",
       "      <td>0.123567</td>\n",
       "    </tr>\n",
       "    <tr>\n",
       "      <td>8</td>\n",
       "      <td>9</td>\n",
       "      <td>0.107894</td>\n",
       "    </tr>\n",
       "    <tr>\n",
       "      <td>9</td>\n",
       "      <td>10</td>\n",
       "      <td>0.107747</td>\n",
       "    </tr>\n",
       "    <tr>\n",
       "      <td>10</td>\n",
       "      <td>11</td>\n",
       "      <td>0.105546</td>\n",
       "    </tr>\n",
       "    <tr>\n",
       "      <td>11</td>\n",
       "      <td>12</td>\n",
       "      <td>0.092826</td>\n",
       "    </tr>\n",
       "    <tr>\n",
       "      <td>12</td>\n",
       "      <td>13</td>\n",
       "      <td>0.100443</td>\n",
       "    </tr>\n",
       "    <tr>\n",
       "      <td>13</td>\n",
       "      <td>14</td>\n",
       "      <td>0.104237</td>\n",
       "    </tr>\n",
       "    <tr>\n",
       "      <td>14</td>\n",
       "      <td>15</td>\n",
       "      <td>0.089972</td>\n",
       "    </tr>\n",
       "    <tr>\n",
       "      <td>15</td>\n",
       "      <td>16</td>\n",
       "      <td>0.084824</td>\n",
       "    </tr>\n",
       "    <tr>\n",
       "      <td>16</td>\n",
       "      <td>17</td>\n",
       "      <td>0.089164</td>\n",
       "    </tr>\n",
       "    <tr>\n",
       "      <td>17</td>\n",
       "      <td>18</td>\n",
       "      <td>0.077922</td>\n",
       "    </tr>\n",
       "  </tbody>\n",
       "</table>\n",
       "</div>"
      ],
      "text/plain": [
       "    Prediction_Interval  Prediction_skill\n",
       "0                     1          0.380791\n",
       "1                     2          0.265090\n",
       "2                     3          0.231191\n",
       "3                     4          0.162356\n",
       "4                     5          0.160742\n",
       "5                     6          0.142112\n",
       "6                     7          0.127076\n",
       "7                     8          0.123567\n",
       "8                     9          0.107894\n",
       "9                    10          0.107747\n",
       "10                   11          0.105546\n",
       "11                   12          0.092826\n",
       "12                   13          0.100443\n",
       "13                   14          0.104237\n",
       "14                   15          0.089972\n",
       "15                   16          0.084824\n",
       "16                   17          0.089164\n",
       "17                   18          0.077922"
      ]
     },
     "execution_count": 55,
     "metadata": {},
     "output_type": "execute_result"
    }
   ],
   "source": [
    "psi_df"
   ]
  },
  {
   "cell_type": "code",
   "execution_count": 56,
   "metadata": {},
   "outputs": [
    {
     "data": {
      "text/plain": [
       "[<matplotlib.lines.Line2D at 0x7fb28ddec2b0>]"
      ]
     },
     "execution_count": 56,
     "metadata": {},
     "output_type": "execute_result"
    },
    {
     "data": {
      "image/png": "[encoded data removed]",
      "text/plain": [
       "<Figure size 1080x720 with 1 Axes>"
      ]
     },
     "metadata": {
      "needs_background": "light"
     },
     "output_type": "display_data"
    }
   ],
   "source": [
    "fig = plt.figure(figsize = (15, 10))\n",
    "plt.plot(psi_df.Prediction_Interval, psi_df.Prediction_skill, linewidth = 3)"
   ]
  },
  {
   "cell_type": "code",
   "execution_count": null,
   "metadata": {},
   "outputs": [],
   "source": []
  }
 ],
 "metadata": {
  "kernelspec": {
   "display_name": "Python [conda env:edm]",
   "language": "python",
   "name": "conda-env-edm-py"
  },
  "language_info": {
   "codemirror_mode": {
    "name": "ipython",
    "version": 3
   },
   "file_extension": ".py",
   "mimetype": "text/x-python",
   "name": "python",
   "nbconvert_exporter": "python",
   "pygments_lexer": "ipython3",
   "version": "3.7.3"
  }
 },
 "nbformat": 4,
 "nbformat_minor": 4
}
