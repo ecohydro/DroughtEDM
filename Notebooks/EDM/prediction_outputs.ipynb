{
 "cells": [
  {
   "cell_type": "code",
   "execution_count": 24,
   "metadata": {},
   "outputs": [],
   "source": [
    "from pyEDM import *\n",
    "import pandas as pd\n",
    "import numpy as np\n",
    "import matplotlib as mpl\n",
    "from matplotlib import pyplot as plt\n",
    "import os\n",
    "import geopandas as gpd\n",
    "from shapely.geometry import Polygon\n",
    "import rasterio\n",
    "import xarray as xr\n",
    "from mpl_toolkits.axes_grid1 import make_axes_locatable\n",
    "import fiona\n",
    "import rasterio.mask\n",
    "from descartes import PolygonPatch\n",
    "from rasterio.plot import show\n",
    "from tqdm import tqdm\n",
    "import datetime\n",
    "import random\n",
    "from sklearn.preprocessing import StandardScaler\n",
    "import scipy.stats\n",
    "from datetime import datetime"
   ]
  },
  {
   "cell_type": "code",
   "execution_count": 5,
   "metadata": {},
   "outputs": [],
   "source": [
    "import warnings\n",
    "warnings.filterwarnings(\"ignore\")"
   ]
  },
  {
   "cell_type": "code",
   "execution_count": 6,
   "metadata": {},
   "outputs": [],
   "source": [
    "precip_anom_dir = '/home/rgreen/tana-spin/rgreen/DroughtEDM/Data/CHIRPS/Anomaly_Norm/'\n",
    "temp_anom_dir = '/home/rgreen/tana-spin/rgreen/DroughtEDM/Data/LST/Anomaly_Norm/'\n",
    "ndvi_anom_dir = '/home/rgreen/tana-spin/rgreen/DroughtEDM/Data/eMODIS_NDVI/Anomaly_Norm/'"
   ]
  },
  {
   "cell_type": "code",
   "execution_count": 7,
   "metadata": {},
   "outputs": [],
   "source": [
    "# precip_anom2_dir = '/home/rgreen/tana-spin/rgreen/DroughtEDM/Data/CHIRPS/Anomaly2/'\n",
    "# temp_anom2_dir = '/home/rgreen/tana-spin/rgreen/DroughtEDM/Data/LST/Anomaly2/'\n",
    "# ndvi_anom2_dir = '/home/rgreen/tana-spin/rgreen/DroughtEDM/Data/eMODIS_NDVI/Anomaly2/'"
   ]
  },
  {
   "cell_type": "code",
   "execution_count": 8,
   "metadata": {},
   "outputs": [],
   "source": [
    "# precip_anom3_dir = '/home/rgreen/tana-spin/rgreen/DroughtEDM/Data/CHIRPS/Anomaly3/'\n",
    "# temp_anom3_dir = '/home/rgreen/tana-spin/rgreen/DroughtEDM/Data/LST/Anomaly3/'\n",
    "# ndvi_anom3_dir = '/home/rgreen/tana-spin/rgreen/DroughtEDM/Data/eMODIS_NDVI/Anomaly3/'"
   ]
  },
  {
   "cell_type": "code",
   "execution_count": 9,
   "metadata": {},
   "outputs": [],
   "source": [
    "et_anom_dir = '/home/rgreen/tana-spin/rgreen/DroughtEDM/Data/Hobbins_ET/Anomaly_Norm/'\n",
    "sm10_anom_dir = '/home/rgreen/tana-spin/rgreen/DroughtEDM/Data/FLDAS_SM/Anomaly10_Norm/'\n",
    "sm40_anom_dir = '/home/rgreen/tana-spin/rgreen/DroughtEDM/Data/FLDAS_SM/Anomaly40_Norm/'\n",
    "sm100_anom_dir = '/home/rgreen/tana-spin/rgreen/DroughtEDM/Data/FLDAS_SM/Anomaly100_Norm/'\n",
    "sm200_anom_dir = '/home/rgreen/tana-spin/rgreen/DroughtEDM/Data/FLDAS_SM/Anomaly200_Norm/'"
   ]
  },
  {
   "cell_type": "code",
   "execution_count": 10,
   "metadata": {},
   "outputs": [],
   "source": [
    "#prediction_tables = '/home/rgreen/tana-crunch/rgreen/crunch/DroughtEDM/Data/predictions_tables/'\n",
    "prediction_tables = '/home/rgreen/tana-spin/rgreen/DroughtEDM/Data/predictions_tables/'"
   ]
  },
  {
   "cell_type": "code",
   "execution_count": 11,
   "metadata": {},
   "outputs": [],
   "source": [
    "def generate_dekads(start, end):\n",
    "    '''\n",
    "    Generates list of timestamps of dekads between two dates\n",
    "    \n",
    "    Parameters\n",
    "    ----------\n",
    "    start : pd.datetime object\n",
    "        Start date of list\n",
    "    end : pd.datetime object\n",
    "        end date of list\n",
    "    '''\n",
    "    \n",
    "    dtrange = pd.date_range(start, end)\n",
    "    days = list(range(len(dtrange))) #length of dtrange\n",
    "    daysDF = pd.DataFrame({'Days': days}, index=dtrange)\n",
    "    d = daysDF.index.day - np.clip((daysDF.index.day-1) // 10, 0, 2)*10 - 1 \n",
    "    dekaddates = daysDF.index.values - np.array(d, dtype=\"timedelta64[D]\")\n",
    "    dekads = daysDF.groupby(dekaddates).mean()\n",
    "    dekads = dekads.index\n",
    "    \n",
    "    return dekads"
   ]
  },
  {
   "cell_type": "code",
   "execution_count": 12,
   "metadata": {},
   "outputs": [],
   "source": [
    "start = pd.datetime(2002,7,1)\n",
    "end = pd.datetime(2019,4,30)\n",
    "\n",
    "dekads = generate_dekads(start, end)"
   ]
  },
  {
   "cell_type": "code",
   "execution_count": 13,
   "metadata": {},
   "outputs": [],
   "source": [
    "def pixelwise_ts_table(in_dir, keyword):\n",
    "    \n",
    "    '''\n",
    "    This function searches through the file directory and creates a dataframe of pixel values over time from rasters\n",
    "    based on a given keyword describing the environmental variable of interest to generate a raster time series stack \n",
    "    \n",
    "   In the output dataframe, columns are each pixel extracted from the raster (read squentially into a list)\n",
    "   and rows are the same pixel over time (dekads going down)\n",
    "    \n",
    "    Args:\n",
    "    - in_dir: path to the input directory\n",
    "    -keyword: string that is unique to the environmental variable\n",
    "        options: ['precip', 'temp', 'ndvi']\n",
    "    '''\n",
    "    \n",
    "    \n",
    "    files=np.array(sorted(os.listdir(in_dir)))\n",
    "    tifs = pd.Series(files).str.contains(keyword)\n",
    "    files = files[tifs]\n",
    "        \n",
    "    pixelwise_TS = []\n",
    "    \n",
    "    for filename in tqdm(files): \n",
    "        \n",
    "        \n",
    "            open_file = xr.open_rasterio(in_dir+filename).sel(band=1)\n",
    "            array = open_file.values\n",
    "            \n",
    "            pixel_list = array.ravel().tolist()\n",
    "            \n",
    "            pixelwise_TS.append(pixel_list)\n",
    "\n",
    "    return pd.DataFrame(pixelwise_TS)\n",
    "\n",
    "    "
   ]
  },
  {
   "cell_type": "code",
   "execution_count": 14,
   "metadata": {},
   "outputs": [
    {
     "name": "stderr",
     "output_type": "stream",
     "text": [
      "100%|██████████| 606/606 [00:16<00:00, 37.35it/s]\n",
      "100%|██████████| 606/606 [00:15<00:00, 38.49it/s]\n",
      "100%|██████████| 606/606 [00:16<00:00, 36.09it/s]\n",
      "100%|██████████| 606/606 [00:11<00:00, 52.81it/s]\n",
      "100%|██████████| 606/606 [00:16<00:00, 36.47it/s]\n",
      "100%|██████████| 606/606 [00:21<00:00, 27.80it/s]\n",
      "100%|██████████| 606/606 [00:27<00:00, 21.98it/s]\n",
      "100%|██████████| 606/606 [00:19<00:00, 31.64it/s]\n"
     ]
    }
   ],
   "source": [
    "precip_table_anom = pixelwise_ts_table(precip_anom_dir, 'precip')\n",
    "temp_table_anom = pixelwise_ts_table(temp_anom_dir, 'temp')\n",
    "ndvi_table_anom = pixelwise_ts_table(ndvi_anom_dir, 'ndvi')\n",
    "et_table_anom = pixelwise_ts_table(et_anom_dir, 'et')\n",
    "sm10_table_anom = pixelwise_ts_table(sm10_anom_dir, 'sm10_')\n",
    "sm40_table_anom = pixelwise_ts_table(sm40_anom_dir, 'sm40')\n",
    "sm100_table_anom = pixelwise_ts_table(sm100_anom_dir, 'sm100')\n",
    "sm200_table_anom = pixelwise_ts_table(sm200_anom_dir, 'sm200')"
   ]
  },
  {
   "cell_type": "code",
   "execution_count": 13,
   "metadata": {},
   "outputs": [],
   "source": [
    "# precip_table_anom2 = pixelwise_ts_table(precip_anom2_dir, 'precip')\n",
    "# temp_table_anom2 = pixelwise_ts_table(temp_anom2_dir, 'temp')\n",
    "# ndvi_table_anom2 = pixelwise_ts_table(ndvi_anom2_dir, 'ndvi')"
   ]
  },
  {
   "cell_type": "code",
   "execution_count": 14,
   "metadata": {},
   "outputs": [],
   "source": [
    "# low_high_ts_df_anom2 = pd.DataFrame(list(zip(ndvi_table_anom2[28965], precip_table_anom2[28965], temp_table_anom2[28965], ndvi_table_anom2[28965], precip_table_anom2[28965], temp_table_anom2[28965])),\n",
    "#                              columns = ['NDVI_low_skill', 'Precip_low_skill', 'Temp_low_skill', 'NDVI_high_skill', 'Precip_high_skill', 'Temp_high_skill'])\n"
   ]
  },
  {
   "cell_type": "code",
   "execution_count": 16,
   "metadata": {},
   "outputs": [],
   "source": [
    "# low_high_ts_df_anom2.to_csv('/home/rgreen/DroughtEDM/low_high_ts_df_clim_anom.csv')"
   ]
  },
  {
   "cell_type": "code",
   "execution_count": 15,
   "metadata": {},
   "outputs": [],
   "source": [
    "# precip_table_anom3 = pixelwise_ts_table(precip_anom3_dir, 'precip')\n",
    "# temp_table_anom3 = pixelwise_ts_table(temp_anom3_dir, 'temp')\n",
    "# ndvi_table_anom3 = pixelwise_ts_table(ndvi_anom3_dir, 'ndvi')"
   ]
  },
  {
   "cell_type": "code",
   "execution_count": 15,
   "metadata": {},
   "outputs": [],
   "source": [
    "precip_table_anom.label = 'precip'\n",
    "precip_table_anom.rs_rows = 674\n",
    "precip_table_anom.rs_cols = 583\n",
    "precip_table_anom.n_samples = 606\n",
    "ndvi_table_anom.label = 'ndvi'\n",
    "ndvi_table_anom.rs_rows = 674\n",
    "ndvi_table_anom.rs_cols = 583\n",
    "ndvi_table_anom.n_samples = 606\n",
    "temp_table_anom.label = 'temp'\n",
    "temp_table_anom.rs_rows = 674\n",
    "temp_table_anom.rs_cols = 583\n",
    "temp_table_anom.n_samples = 606\n",
    "\n",
    "table_list_anom_prtp = [precip_table_anom, ndvi_table_anom, temp_table_anom]"
   ]
  },
  {
   "cell_type": "code",
   "execution_count": 23,
   "metadata": {},
   "outputs": [],
   "source": [
    "# precip_table_anom3.label = 'precip'\n",
    "# precip_table_anom3.rs_rows = 674\n",
    "# precip_table_anom3.rs_cols = 583\n",
    "# precip_table_anom3.n_samples = 606\n",
    "# ndvi_table_anom3.label = 'ndvi'\n",
    "# ndvi_table_anom3.rs_rows = 674\n",
    "# ndvi_table_anom3.rs_cols = 583\n",
    "# ndvi_table_anom3.n_samples = 606\n",
    "# temp_table_anom3.label = 'temp'\n",
    "# temp_table_anom3.rs_rows = 674\n",
    "# temp_table_anom3.rs_cols = 583\n",
    "# temp_table_anom3.n_samples = 606\n",
    "\n",
    "# table_list_anom3 = [precip_table_anom3, ndvi_table_anom3, temp_table_anom3]"
   ]
  },
  {
   "cell_type": "code",
   "execution_count": 24,
   "metadata": {},
   "outputs": [
    {
     "name": "stderr",
     "output_type": "stream",
     "text": [
      "100%|██████████| 606/606 [00:14<00:00, 41.05it/s]\n",
      "100%|██████████| 606/606 [00:12<00:00, 48.87it/s]\n",
      "100%|██████████| 606/606 [00:16<00:00, 36.90it/s]\n"
     ]
    }
   ],
   "source": [
    "sm_table_anom = pixelwise_ts_table(sm_anom_dir, 'sm')\n",
    "et_table_anom = pixelwise_ts_table(et_anom_dir, 'et')\n",
    "ndvi_table_anom = pixelwise_ts_table(ndvi_anom_dir, 'ndvi')"
   ]
  },
  {
   "cell_type": "code",
   "execution_count": 16,
   "metadata": {},
   "outputs": [],
   "source": [
    "sm10_table_anom.label = 'sm'\n",
    "sm10_table_anom.rs_rows = 674\n",
    "sm10_table_anom.rs_cols = 583\n",
    "sm10_table_anom.n_samples = 606\n",
    "sm40_table_anom.label = 'sm'\n",
    "sm40_table_anom.rs_rows = 674\n",
    "sm40_table_anom.rs_cols = 583\n",
    "sm40_table_anom.n_samples = 606\n",
    "sm100_table_anom.label = 'sm'\n",
    "sm100_table_anom.rs_rows = 674\n",
    "sm100_table_anom.rs_cols = 583\n",
    "sm100_table_anom.n_samples = 606\n",
    "sm200_table_anom.label = 'sm'\n",
    "sm200_table_anom.rs_rows = 674\n",
    "sm200_table_anom.rs_cols = 583\n",
    "sm200_table_anom.n_samples = 606\n",
    "ndvi_table_anom.label = 'ndvi'\n",
    "ndvi_table_anom.rs_rows = 674\n",
    "ndvi_table_anom.rs_cols = 583\n",
    "ndvi_table_anom.n_samples = 606\n",
    "et_table_anom.label = 'et'\n",
    "et_table_anom.rs_rows = 674\n",
    "et_table_anom.rs_cols = 583\n",
    "et_table_anom.n_samples = 606\n",
    "\n",
    "table_list_anom_sm10et = [sm10_table_anom, ndvi_table_anom, et_table_anom]\n",
    "table_list_anom_sm40et = [sm40_table_anom, ndvi_table_anom, et_table_anom]\n",
    "table_list_anom_sm100et = [sm100_table_anom, ndvi_table_anom, et_table_anom]\n",
    "table_list_anom_sm200et = [sm200_table_anom, ndvi_table_anom, et_table_anom]"
   ]
  },
  {
   "cell_type": "code",
   "execution_count": 28,
   "metadata": {},
   "outputs": [],
   "source": [
    "def multi_pixelwise_simplex(tables, target_label, train, test, ed, pi): #year month_list, \n",
    "    \n",
    "    '''\n",
    "    This function computes the simplex prediction skill for a given embedding dimensions, prediction interval, land cover and environmental variable\n",
    "    across pixels given multiple tables of different variables of pixel values across time for a region from the function pixelwise_ts_table \n",
    "\n",
    "    The result is an np.array of simplex error values reshaped back into the shape of the original raster image\n",
    "    \n",
    "    Args:\n",
    "    - table: list of input tables, where every table has columns with the time series of each pixel in a raster\n",
    "    - target_label: text label for the table to be used as the target (e.g. 'ndvi')\n",
    "    - train: portion of data library used to train (string of range with space between values)\n",
    "    - test: portion of data libary used to test (string of range with space between values) \n",
    "    - ed: embedding dimension\n",
    "    - pi: prediction interval (Tp) \n",
    "    - rs_rows: number of rows to reshape list into original raster size\n",
    "    - rs_cols: number of columns to reshape list into original raster size\n",
    "   \n",
    "    '''\n",
    "\n",
    "    table_dict = {'Time': dekads }\n",
    "    \n",
    "#     if simplex_out is None:\n",
    "#         simplex_out = pd.DataFrame()\n",
    "    simplex_out= []\n",
    "    labels = ' '.join([table.label for table in tables]) # Assumes that all tables have labels\n",
    "\n",
    "    # Generate future dekads\n",
    "    dekads_fut = generate_dekads(dekads[-1],pd.datetime(2020,4,30))\n",
    "    \n",
    "   \n",
    "    \n",
    "    # Iterate through columns (pixels)\n",
    "    for col_idx in tqdm(range(len(tables[0].columns))):\n",
    "        \n",
    "        now=datetime.now()\n",
    "        # PIXEL DATAFRAME\n",
    "        # Generate dataframe for pixel where columns correspond to variables and rows to timestamp (image)\n",
    "        [table_dict.update({table.label: table.iloc[:,col_idx]}) for i, table in enumerate(tables)]\n",
    "        #interim_df = pd.DataFrame(table_dict, index = dekads)\n",
    "        interim_df = pd.DataFrame(table_dict)\n",
    "\n",
    "        interim_df.set_index('Time',inplace=True, drop=False)\n",
    "        \n",
    "        \n",
    "                # If column has lots of nans (water), append nan\n",
    "        if max([len(interim_df[interim_df[col_idx].isnull()]) for col_idx in interim_df.columns]) > 20:\n",
    "            nans = [np.nan]*(len(interim_df)-ed+pi+1)\n",
    "            #simplex_out[col_idx] = [np.nan]*(len(interim_df)-ed+pi+1)\n",
    "            simplex_out.append(nans)\n",
    "        else:\n",
    "            \n",
    "            if interim_df.ndvi.isnull().values.any():\n",
    "        \n",
    "                for t in interim_df[interim_df.ndvi.isnull()].index:\n",
    "                    interim_df.ndvi.loc[t] = interim_df.ndvi[interim_df.index.month == t.month].mean()\n",
    "                    \n",
    "            if 'et' in interim_df.columns and interim_df.et.isnull().values.any():\n",
    "                # If so, iterate through nan rows and replace with monthly mean\n",
    "                for t in interim_df[interim_df.et.isnull()].index:\n",
    "                    interim_df.et.loc[t] = interim_df.et[interim_df.index.month == t.month].mean()\n",
    "                    #print(interim_df)\n",
    "            if 'sm' in interim_df.columns and interim_df.sm.isnull().values.any():\n",
    "         \n",
    "                for t in interim_df[interim_df.sm.isnull()].index:\n",
    "                    interim_df.sm.loc[t] = interim_df.sm[interim_df.index.month == t.month].mean()\n",
    "            \n",
    "            if 'temp' in interim_df.columns and interim_df.temp.isnull().values.any():\n",
    "               \n",
    "                for t in interim_df[interim_df.temp.isnull()].index:\n",
    "                    interim_df.temp.loc[t] = interim_df.temp[interim_df.index.month == t.month].mean()\n",
    "       \n",
    "            if 'precip' in interim_df.columns and interim_df.precip.isnull().values.any():\n",
    "            \n",
    "                for t in interim_df[interim_df.precip.isnull()].index:\n",
    "                    interim_df.precip.loc[t] = interim_df.precip[interim_df.index.month == t.month].mean()\n",
    "\n",
    "            \n",
    "            # Run simplex\n",
    "            \n",
    "            simplex_result = Simplex(dataFrame = interim_df,\n",
    "                                     lib = train,\n",
    "                                     pred = test,\n",
    "                                     E = ed, Tp = pi,\n",
    "                                     columns = labels, target = target_label, showPlot = False)\n",
    "\n",
    "            \n",
    "            \n",
    "            # Add datetime index + fix dekad values for future values\n",
    "            simplex_result.Time = pd.to_datetime(simplex_result.Time)\n",
    "            simplex_result.set_index(simplex_result.Time, inplace=True)\n",
    "            \n",
    "            \n",
    "            # Fix datetime index for future dekads\n",
    "            simplex_result[-pi:].Time = dekads_fut[1:pi+1]\n",
    "            \n",
    "            #simplex_result.dropna()\n",
    "            #simplex_out[col_idx] = simplex_result.Predictions\n",
    "            #print(simplex_result.Predictions.tolist())\n",
    "            \n",
    "            predictions = simplex_result.Predictions.tolist()\n",
    "            simplex_out.append(predictions)\n",
    "            \n",
    "            \n",
    "    return pd.DataFrame(simplex_out)\n",
    "    \n"
   ]
  },
  {
   "cell_type": "code",
   "execution_count": null,
   "metadata": {},
   "outputs": [],
   "source": []
  },
  {
   "cell_type": "code",
   "execution_count": null,
   "metadata": {},
   "outputs": [],
   "source": [
    "ndvi_ea_simplex_ed6_pi1 = multi_pixelwise_simplex(table_list_anom, 'ndvi', train = '1 606', test = '1 606',ed = 6, pi = 1)"
   ]
  },
  {
   "cell_type": "code",
   "execution_count": null,
   "metadata": {},
   "outputs": [
    {
     "name": "stderr",
     "output_type": "stream",
     "text": [
      "  2%|▏         | 9708/392942 [07:34<4:55:50, 21.59it/s]"
     ]
    }
   ],
   "source": [
    "ndvi_ea_simplex_ed6_pi2 = multi_pixelwise_simplex(table_list_anom, 'ndvi', train = '1 606', test = '1 606',ed = 6, pi = 2)"
   ]
  },
  {
   "cell_type": "code",
   "execution_count": 13,
   "metadata": {},
   "outputs": [
    {
     "ename": "NameError",
     "evalue": "name 'x' is not defined",
     "output_type": "error",
     "traceback": [
      "\u001b[0;31m---------------------------------------------------------------------------\u001b[0m",
      "\u001b[0;31mNameError\u001b[0m                                 Traceback (most recent call last)",
      "\u001b[0;32m<ipython-input-13-6fcf9dfbd479>\u001b[0m in \u001b[0;36m<module>\u001b[0;34m\u001b[0m\n\u001b[0;32m----> 1\u001b[0;31m \u001b[0mx\u001b[0m\u001b[0;34m\u001b[0m\u001b[0;34m\u001b[0m\u001b[0m\n\u001b[0m",
      "\u001b[0;31mNameError\u001b[0m: name 'x' is not defined"
     ]
    }
   ],
   "source": [
    "x"
   ]
  },
  {
   "cell_type": "code",
   "execution_count": 22,
   "metadata": {},
   "outputs": [
    {
     "name": "stderr",
     "output_type": "stream",
     "text": [
      "100%|██████████| 392942/392942 [4:39:29<00:00, 23.43it/s]   \n"
     ]
    }
   ],
   "source": [
    "ndvi_ea_simplex_ed6_pi3 = multi_pixelwise_simplex(table_list_anom, 'ndvi', train = '1 606', test = '1 606',ed = 6, pi = 3)"
   ]
  },
  {
   "cell_type": "code",
   "execution_count": 24,
   "metadata": {},
   "outputs": [
    {
     "name": "stderr",
     "output_type": "stream",
     "text": [
      "100%|██████████| 392942/392942 [4:40:31<00:00, 23.35it/s]   \n"
     ]
    }
   ],
   "source": [
    "ndvi_ea_simplex_ed6_pi4 = multi_pixelwise_simplex(table_list_anom, 'ndvi', train = '1 606', test = '1 606',ed = 6, pi = 4)"
   ]
  },
  {
   "cell_type": "code",
   "execution_count": null,
   "metadata": {},
   "outputs": [
    {
     "name": "stderr",
     "output_type": "stream",
     "text": [
      " 18%|█▊        | 69965/392942 [57:48<4:48:55, 18.63it/s]IOPub message rate exceeded.\n",
      "The notebook server will temporarily stop sending output\n",
      "to the client in order to avoid crashing it.\n",
      "To change this limit, set the config variable\n",
      "`--NotebookApp.iopub_msg_rate_limit`.\n",
      "\n",
      "Current values:\n",
      "NotebookApp.iopub_msg_rate_limit=1000.0 (msgs/sec)\n",
      "NotebookApp.rate_limit_window=3.0 (secs)\n",
      "\n",
      " 96%|█████████▋| 378938/392942 [4:42:39<02:12, 105.97it/s]  "
     ]
    }
   ],
   "source": [
    "ndvi_ea_simplex_ed6_pi5 = multi_pixelwise_simplex(table_list_anom, 'ndvi', train = '1 606', test = '1 606',ed = 6, pi = 5)"
   ]
  },
  {
   "cell_type": "code",
   "execution_count": 29,
   "metadata": {},
   "outputs": [
    {
     "name": "stderr",
     "output_type": "stream",
     "text": [
      "  5%|▍         | 19046/392942 [16:16<4:56:46, 21.00it/s]IOPub message rate exceeded.\n",
      "The notebook server will temporarily stop sending output\n",
      "to the client in order to avoid crashing it.\n",
      "To change this limit, set the config variable\n",
      "`--NotebookApp.iopub_msg_rate_limit`.\n",
      "\n",
      "Current values:\n",
      "NotebookApp.iopub_msg_rate_limit=1000.0 (msgs/sec)\n",
      "NotebookApp.rate_limit_window=3.0 (secs)\n",
      "\n",
      " 70%|███████   | 275447/392942 [3:43:18<1:49:22, 17.90it/s] IOPub message rate exceeded.\n",
      "The notebook server will temporarily stop sending output\n",
      "to the client in order to avoid crashing it.\n",
      "To change this limit, set the config variable\n",
      "`--NotebookApp.iopub_msg_rate_limit`.\n",
      "\n",
      "Current values:\n",
      "NotebookApp.iopub_msg_rate_limit=1000.0 (msgs/sec)\n",
      "NotebookApp.rate_limit_window=3.0 (secs)\n",
      "\n",
      " 82%|████████▏ | 320363/392942 [4:09:32<1:04:40, 18.70it/s]IOPub message rate exceeded.\n",
      "The notebook server will temporarily stop sending output\n",
      "to the client in order to avoid crashing it.\n",
      "To change this limit, set the config variable\n",
      "`--NotebookApp.iopub_msg_rate_limit`.\n",
      "\n",
      "Current values:\n",
      "NotebookApp.iopub_msg_rate_limit=1000.0 (msgs/sec)\n",
      "NotebookApp.rate_limit_window=3.0 (secs)\n",
      "\n",
      "100%|██████████| 392942/392942 [4:49:43<00:00, 22.60it/s]  \n"
     ]
    }
   ],
   "source": [
    "ndvi_ea_simplex_ed6_pi6 = multi_pixelwise_simplex(table_list_anom, 'ndvi', train = '1 606', test = '1 606',ed = 6, pi = 6)"
   ]
  },
  {
   "cell_type": "code",
   "execution_count": null,
   "metadata": {},
   "outputs": [
    {
     "name": "stderr",
     "output_type": "stream",
     "text": [
      " 10%|█         | 39833/392942 [32:46<5:01:09, 19.54it/s]"
     ]
    }
   ],
   "source": [
    "ndvi_ea_simplex_ed6_pi7 = multi_pixelwise_simplex(table_list_anom, 'ndvi', train = '1 606', test = '1 606',ed = 6, pi = 7)"
   ]
  },
  {
   "cell_type": "code",
   "execution_count": null,
   "metadata": {},
   "outputs": [],
   "source": [
    "ndvi_ea_simplex_ed6_pi8 = multi_pixelwise_simplex(table_list_anom, 'ndvi', train = '1 606', test = '1 606',ed = 6, pi = 8)"
   ]
  },
  {
   "cell_type": "code",
   "execution_count": null,
   "metadata": {},
   "outputs": [
    {
     "name": "stderr",
     "output_type": "stream",
     "text": [
      " 35%|███▌      | 137850/392942 [1:46:00<3:51:47, 18.34it/s]"
     ]
    }
   ],
   "source": [
    "ndvi_ea_simplex_ed6_pi9 = multi_pixelwise_simplex(table_list_anom, 'ndvi', train = '1 606', test = '1 606',ed = 6, pi = 9)"
   ]
  },
  {
   "cell_type": "code",
   "execution_count": null,
   "metadata": {},
   "outputs": [
    {
     "name": "stderr",
     "output_type": "stream",
     "text": [
      "  8%|▊         | 29600/392942 [24:31<5:00:51, 20.13it/s]"
     ]
    }
   ],
   "source": [
    "ndvi_ea_simplex_ed6_pi10 = multi_pixelwise_simplex(table_list_anom, 'ndvi', train = '1 606', test = '1 606',ed = 6, pi = 10)"
   ]
  },
  {
   "cell_type": "code",
   "execution_count": null,
   "metadata": {},
   "outputs": [
    {
     "name": "stderr",
     "output_type": "stream",
     "text": [
      " 10%|▉         | 38892/392942 [31:09<3:37:22, 27.15it/s]"
     ]
    }
   ],
   "source": [
    "ndvi_ea_simplex_ed6_pi11 = multi_pixelwise_simplex(table_list_anom, 'ndvi', train = '1 606', test = '1 606',ed = 6, pi = 11)"
   ]
  },
  {
   "cell_type": "code",
   "execution_count": null,
   "metadata": {},
   "outputs": [],
   "source": [
    "ndvi_ea_simplex_ed6_pi12 = multi_pixelwise_simplex(table_list_anom, 'ndvi', train = '1 606', test = '1 606',ed = 6, pi = 12)"
   ]
  },
  {
   "cell_type": "code",
   "execution_count": null,
   "metadata": {},
   "outputs": [],
   "source": [
    "ndvi_ea_simplex_ed6_pi18_clim_anom = multi_pixelwise_simplex(table_list_anom2, 'ndvi', train = '1 606', test = '1 606',ed = 6, pi = 18)"
   ]
  },
  {
   "cell_type": "code",
   "execution_count": null,
   "metadata": {},
   "outputs": [
    {
     "name": "stderr",
     "output_type": "stream",
     "text": [
      " 16%|█▌        | 61496/392942 [54:21<5:18:48, 17.33it/s] "
     ]
    }
   ],
   "source": [
    "ndvi_ea_simplex_ed6_pi18_anom3 = multi_pixelwise_simplex(table_list_anom3, 'ndvi', train = '1 606', test = '1 606',ed = 6, pi = 18)"
   ]
  },
  {
   "cell_type": "code",
   "execution_count": null,
   "metadata": {},
   "outputs": [
    {
     "name": "stderr",
     "output_type": "stream",
     "text": [
      "  1%|▏         | 5697/392942 [05:11<6:24:47, 16.77it/s]"
     ]
    }
   ],
   "source": [
    "ndvi_ea_simplex_ed6_pi18_anom = multi_pixelwise_simplex(table_list_anom, 'ndvi', train = '1 606', test = '1 606',ed = 6, pi = 18)"
   ]
  },
  {
   "cell_type": "code",
   "execution_count": 45,
   "metadata": {},
   "outputs": [
    {
     "ename": "NameError",
     "evalue": "name 'x' is not defined",
     "output_type": "error",
     "traceback": [
      "\u001b[0;31m---------------------------------------------------------------------------\u001b[0m",
      "\u001b[0;31mNameError\u001b[0m                                 Traceback (most recent call last)",
      "\u001b[0;32m<ipython-input-45-6fcf9dfbd479>\u001b[0m in \u001b[0;36m<module>\u001b[0;34m\u001b[0m\n\u001b[0;32m----> 1\u001b[0;31m \u001b[0mx\u001b[0m\u001b[0;34m\u001b[0m\u001b[0;34m\u001b[0m\u001b[0m\n\u001b[0m",
      "\u001b[0;31mNameError\u001b[0m: name 'x' is not defined"
     ]
    }
   ],
   "source": [
    "x"
   ]
  },
  {
   "cell_type": "code",
   "execution_count": null,
   "metadata": {},
   "outputs": [
    {
     "name": "stderr",
     "output_type": "stream",
     "text": [
      "  6%|▋         | 25173/392942 [20:51<5:29:29, 18.60it/s] "
     ]
    }
   ],
   "source": [
    "ndvi_ea_simplex_ed6_pi13 = multi_pixelwise_simplex(table_list_anom, 'ndvi', train = '1 606', test = '1 606',ed = 6, pi = 13)"
   ]
  },
  {
   "cell_type": "code",
   "execution_count": null,
   "metadata": {},
   "outputs": [],
   "source": [
    "ndvi_ea_simplex_ed6_pi14 = multi_pixelwise_simplex(table_list_anom, 'ndvi', train = '1 606', test = '1 606',ed = 6, pi = 14)"
   ]
  },
  {
   "cell_type": "code",
   "execution_count": null,
   "metadata": {},
   "outputs": [
    {
     "name": "stderr",
     "output_type": "stream",
     "text": [
      " 90%|████████▉ | 352496/392942 [4:27:20<28:30, 23.64it/s]   "
     ]
    }
   ],
   "source": [
    "ndvi_ea_simplex_ed6_pi15 = multi_pixelwise_simplex(table_list_anom, 'ndvi', train = '1 606', test = '1 606',ed = 6, pi = 15)"
   ]
  },
  {
   "cell_type": "code",
   "execution_count": null,
   "metadata": {},
   "outputs": [],
   "source": [
    "ndvi_ea_simplex_ed6_pi16 = multi_pixelwise_simplex(table_list_anom, 'ndvi', train = '1 606', test = '1 606',ed = 6, pi = 16)"
   ]
  },
  {
   "cell_type": "code",
   "execution_count": null,
   "metadata": {},
   "outputs": [],
   "source": [
    "ndvi_ea_simplex_ed6_pi17 = multi_pixelwise_simplex(table_list_anom, 'ndvi', train = '1 606', test = '1 606',ed = 6, pi = 17)"
   ]
  },
  {
   "cell_type": "code",
   "execution_count": null,
   "metadata": {},
   "outputs": [],
   "source": []
  },
  {
   "cell_type": "code",
   "execution_count": 29,
   "metadata": {},
   "outputs": [
    {
     "name": "stderr",
     "output_type": "stream",
     "text": [
      "100%|██████████| 392942/392942 [4:59:08<00:00, 21.89it/s]   \n"
     ]
    }
   ],
   "source": [
    "ndvi_ea_simplex_ed6_pi18_anom_prtp = multi_pixelwise_simplex(table_list_anom_prtp, 'ndvi', train = '1 606', test = '1 606',ed = 6, pi = 18)"
   ]
  },
  {
   "cell_type": "code",
   "execution_count": 20,
   "metadata": {},
   "outputs": [
    {
     "name": "stderr",
     "output_type": "stream",
     "text": [
      "100%|██████████| 392942/392942 [4:36:45<00:00, 23.66it/s]   \n"
     ]
    }
   ],
   "source": [
    "ndvi_ea_simplex_ed6_pi18_anom_sm10et = multi_pixelwise_simplex(table_list_anom_sm10et, 'ndvi', train = '1 606', test = '1 606',ed = 6, pi = 18)"
   ]
  },
  {
   "cell_type": "code",
   "execution_count": null,
   "metadata": {},
   "outputs": [
    {
     "name": "stderr",
     "output_type": "stream",
     "text": [
      " 50%|████▉     | 195054/392942 [2:23:27<2:40:10, 20.59it/s]"
     ]
    }
   ],
   "source": [
    "ndvi_ea_simplex_ed6_pi18_anom_pr = multi_pixelwise_simplex([precip_table_anom, ndvi_table_anom], 'ndvi', train = '1 606', test = '1 606',ed = 6, pi = 18)"
   ]
  },
  {
   "cell_type": "code",
   "execution_count": null,
   "metadata": {},
   "outputs": [],
   "source": [
    "ndvi_ea_simplex_ed6_pi18_anom_tp = multi_pixelwise_simplex([temp_table_anom, ndvi_table_anom], 'ndvi', train = '1 606', test = '1 606',ed = 6, pi = 18)"
   ]
  },
  {
   "cell_type": "code",
   "execution_count": 40,
   "metadata": {},
   "outputs": [
    {
     "name": "stderr",
     "output_type": "stream",
     "text": [
      " 37%|███▋      | 146760/392942 [1:43:10<3:21:42, 20.34it/s]IOPub message rate exceeded.\n",
      "The notebook server will temporarily stop sending output\n",
      "to the client in order to avoid crashing it.\n",
      "To change this limit, set the config variable\n",
      "`--NotebookApp.iopub_msg_rate_limit`.\n",
      "\n",
      "Current values:\n",
      "NotebookApp.iopub_msg_rate_limit=1000.0 (msgs/sec)\n",
      "NotebookApp.rate_limit_window=3.0 (secs)\n",
      "\n",
      "100%|██████████| 392942/392942 [4:13:27<00:00, 25.84it/s]  \n"
     ]
    }
   ],
   "source": [
    "ndvi_ea_simplex_ed6_pi18_anom_sm10 = multi_pixelwise_simplex([sm10_table_anom, ndvi_table_anom], 'ndvi', train = '1 606', test = '1 606',ed = 6, pi = 18)"
   ]
  },
  {
   "cell_type": "code",
   "execution_count": null,
   "metadata": {},
   "outputs": [
    {
     "name": "stderr",
     "output_type": "stream",
     "text": [
      " 35%|███▌      | 137804/392942 [1:38:01<3:25:52, 20.65it/s]"
     ]
    }
   ],
   "source": [
    "ndvi_ea_simplex_ed6_pi18_anom_et = multi_pixelwise_simplex([et_table_anom, ndvi_table_anom], 'ndvi', train = '1 606', test = '1 606',ed = 6, pi = 18)"
   ]
  },
  {
   "cell_type": "code",
   "execution_count": null,
   "metadata": {},
   "outputs": [],
   "source": [
    "ndvi_ea_simplex_ed6_pi18_anom_sm10pr = multi_pixelwise_simplex([sm10_table_anom, ndvi_table_anom, precip_table_anom], 'ndvi', train = '1 606', test = '1 606',ed = 6, pi = 18)"
   ]
  },
  {
   "cell_type": "code",
   "execution_count": null,
   "metadata": {},
   "outputs": [],
   "source": [
    "ndvi_ea_simplex_ed6_pi1.to_csv(prediction_tables + 'ndvi_ea_simplex_ed6_pi1.csv')"
   ]
  },
  {
   "cell_type": "code",
   "execution_count": 15,
   "metadata": {},
   "outputs": [],
   "source": [
    "ndvi_ea_simplex_ed6_pi2.to_csv(prediction_tables + 'ndvi_ea_simplex_ed6_pi2.csv')"
   ]
  },
  {
   "cell_type": "code",
   "execution_count": 23,
   "metadata": {},
   "outputs": [],
   "source": [
    "ndvi_ea_simplex_ed6_pi3.to_csv(prediction_tables + 'ndvi_ea_simplex_ed6_pi3.csv')"
   ]
  },
  {
   "cell_type": "code",
   "execution_count": 25,
   "metadata": {},
   "outputs": [],
   "source": [
    "ndvi_ea_simplex_ed6_pi4.to_csv(prediction_tables + 'ndvi_ea_simplex_ed6_pi4.csv')"
   ]
  },
  {
   "cell_type": "code",
   "execution_count": 28,
   "metadata": {},
   "outputs": [],
   "source": [
    "ndvi_ea_simplex_ed6_pi5.to_csv(prediction_tables + 'ndvi_ea_simplex_ed6_pi5.csv')"
   ]
  },
  {
   "cell_type": "code",
   "execution_count": 31,
   "metadata": {},
   "outputs": [],
   "source": [
    "ndvi_ea_simplex_ed6_pi6.to_csv(prediction_tables + 'ndvi_ea_simplex_ed6_pi6.csv')"
   ]
  },
  {
   "cell_type": "code",
   "execution_count": 41,
   "metadata": {},
   "outputs": [],
   "source": [
    "ndvi_ea_simplex_ed6_pi7.to_csv(prediction_tables + 'ndvi_ea_simplex_ed6_pi7.csv')"
   ]
  },
  {
   "cell_type": "code",
   "execution_count": 42,
   "metadata": {},
   "outputs": [],
   "source": [
    "ndvi_ea_simplex_ed6_pi8.to_csv(prediction_tables + 'ndvi_ea_simplex_ed6_pi8.csv')"
   ]
  },
  {
   "cell_type": "code",
   "execution_count": 45,
   "metadata": {},
   "outputs": [],
   "source": [
    "ndvi_ea_simplex_ed6_pi9.to_csv(prediction_tables + 'ndvi_ea_simplex_ed6_pi9.csv')"
   ]
  },
  {
   "cell_type": "code",
   "execution_count": 48,
   "metadata": {},
   "outputs": [],
   "source": [
    "ndvi_ea_simplex_ed6_pi10.to_csv(prediction_tables + 'ndvi_ea_simplex_ed6_pi10.csv')"
   ]
  },
  {
   "cell_type": "code",
   "execution_count": 51,
   "metadata": {},
   "outputs": [],
   "source": [
    "ndvi_ea_simplex_ed6_pi11.to_csv(prediction_tables + 'ndvi_ea_simplex_ed6_pi11.csv')"
   ]
  },
  {
   "cell_type": "code",
   "execution_count": 52,
   "metadata": {},
   "outputs": [],
   "source": [
    "ndvi_ea_simplex_ed6_pi12.to_csv(prediction_tables + 'ndvi_ea_simplex_ed6_pi12.csv')"
   ]
  },
  {
   "cell_type": "code",
   "execution_count": 13,
   "metadata": {},
   "outputs": [],
   "source": [
    "ndvi_ea_simplex_ed6_pi18.to_csv(prediction_tables + \"ndvi_ea_simplex_ed6_pi18_clim_anom.csv\")"
   ]
  },
  {
   "cell_type": "code",
   "execution_count": 28,
   "metadata": {},
   "outputs": [],
   "source": [
    "ndvi_ea_simplex_ed6_pi18_anom3.to_csv(prediction_tables + 'ndvi_ea_simplex_ed6_pi18_anom3.csv')"
   ]
  },
  {
   "cell_type": "code",
   "execution_count": 46,
   "metadata": {},
   "outputs": [],
   "source": [
    "ndvi_ea_simplex_ed6_pi18_anom.to_csv(prediction_tables + 'ndvi_ea_simplex_ed6_pi18_anom.csv')"
   ]
  },
  {
   "cell_type": "code",
   "execution_count": null,
   "metadata": {},
   "outputs": [],
   "source": []
  },
  {
   "cell_type": "code",
   "execution_count": 1,
   "metadata": {},
   "outputs": [
    {
     "ename": "NameError",
     "evalue": "name 'ndvi_ea_simplex_ed6_pi18_anom' is not defined",
     "output_type": "error",
     "traceback": [
      "\u001b[0;31m---------------------------------------------------------------------------\u001b[0m",
      "\u001b[0;31mNameError\u001b[0m                                 Traceback (most recent call last)",
      "\u001b[0;32m<ipython-input-1-53e51efc212b>\u001b[0m in \u001b[0;36m<module>\u001b[0;34m\u001b[0m\n\u001b[0;32m----> 1\u001b[0;31m \u001b[0mndvi_ea_simplex_ed6_pi18_anom\u001b[0m\u001b[0;34m\u001b[0m\u001b[0;34m\u001b[0m\u001b[0m\n\u001b[0m",
      "\u001b[0;31mNameError\u001b[0m: name 'ndvi_ea_simplex_ed6_pi18_anom' is not defined"
     ]
    }
   ],
   "source": [
    "ndvi_ea_simplex_ed6_pi18_anom"
   ]
  },
  {
   "cell_type": "code",
   "execution_count": 16,
   "metadata": {},
   "outputs": [],
   "source": [
    "ndvi_ea_simplex_ed6_pi13.to_csv(prediction_tables + 'ndvi_ea_simplex_ed6_pi13.csv')"
   ]
  },
  {
   "cell_type": "code",
   "execution_count": 17,
   "metadata": {},
   "outputs": [],
   "source": [
    "ndvi_ea_simplex_ed6_pi14.to_csv(prediction_tables + 'ndvi_ea_simplex_ed6_pi14.csv')"
   ]
  },
  {
   "cell_type": "code",
   "execution_count": 22,
   "metadata": {},
   "outputs": [],
   "source": [
    "ndvi_ea_simplex_ed6_pi15.to_csv(prediction_tables + 'ndvi_ea_simplex_ed6_pi15.csv')"
   ]
  },
  {
   "cell_type": "code",
   "execution_count": 23,
   "metadata": {},
   "outputs": [],
   "source": [
    "ndvi_ea_simplex_ed6_pi16.to_csv(prediction_tables + 'ndvi_ea_simplex_ed6_pi16.csv')"
   ]
  },
  {
   "cell_type": "code",
   "execution_count": 24,
   "metadata": {},
   "outputs": [],
   "source": [
    "ndvi_ea_simplex_ed6_pi17.to_csv(prediction_tables + 'ndvi_ea_simplex_ed6_pi17.csv')"
   ]
  },
  {
   "cell_type": "code",
   "execution_count": 36,
   "metadata": {},
   "outputs": [],
   "source": [
    "ndvi_ea_simplex_ed6_pi18_anom_prtp.to_csv(prediction_tables + 'ndvi_ea_simplex_ed6_pi18_anom_prtp.csv')"
   ]
  },
  {
   "cell_type": "code",
   "execution_count": 37,
   "metadata": {},
   "outputs": [],
   "source": [
    "ndvi_ea_simplex_ed6_pi18_anom_sm10et.to_csv(prediction_tables + 'ndvi_ea_simplex_ed6_pi18_anom_sm10et.csv')"
   ]
  },
  {
   "cell_type": "code",
   "execution_count": 38,
   "metadata": {},
   "outputs": [],
   "source": [
    "ndvi_ea_simplex_ed6_pi18_anom_pr.to_csv(prediction_tables + 'ndvi_ea_simplex_ed6_pi18_anom_pr.csv')"
   ]
  },
  {
   "cell_type": "code",
   "execution_count": 39,
   "metadata": {},
   "outputs": [],
   "source": [
    "ndvi_ea_simplex_ed6_pi18_anom_tp.to_csv(prediction_tables + 'ndvi_ea_simplex_ed6_pi18_anom_tp.csv')"
   ]
  },
  {
   "cell_type": "code",
   "execution_count": 45,
   "metadata": {},
   "outputs": [],
   "source": [
    "ndvi_ea_simplex_ed6_pi18_anom_sm10.to_csv(prediction_tables + 'ndvi_ea_simplex_ed6_pi18_anom_sm10.csv')"
   ]
  },
  {
   "cell_type": "code",
   "execution_count": 46,
   "metadata": {},
   "outputs": [],
   "source": [
    "ndvi_ea_simplex_ed6_pi18_anom_et.to_csv(prediction_tables + 'ndvi_ea_simplex_ed6_pi18_anom_et.csv')"
   ]
  },
  {
   "cell_type": "code",
   "execution_count": 47,
   "metadata": {},
   "outputs": [],
   "source": [
    "ndvi_ea_simplex_ed6_pi18_anom_sm10pr.to_csv(prediction_tables + 'ndvi_ea_simplex_ed6_pi18_anom_sm10pr.csv')"
   ]
  },
  {
   "cell_type": "code",
   "execution_count": 28,
   "metadata": {},
   "outputs": [],
   "source": [
    "def multi_pixelwise_simplex_smet(tables, target_label, train, test, ed, pi): #year month_list, \n",
    "    \n",
    "    '''\n",
    "    This function computes the simplex prediction skill for a given embedding dimensions, prediction interval, land cover and environmental variable\n",
    "    across pixels given multiple tables of different variables of pixel values across time for a region from the function pixelwise_ts_table \n",
    "\n",
    "    The result is an np.array of simplex error values reshaped back into the shape of the original raster image\n",
    "    \n",
    "    Args:\n",
    "    - table: list of input tables, where every table has columns with the time series of each pixel in a raster\n",
    "    - target_label: text label for the table to be used as the target (e.g. 'ndvi')\n",
    "    - train: portion of data library used to train (string of range with space between values)\n",
    "    - test: portion of data libary used to test (string of range with space between values) \n",
    "    - ed: embedding dimension\n",
    "    - pi: prediction interval (Tp) \n",
    "    - rs_rows: number of rows to reshape list into original raster size\n",
    "    - rs_cols: number of columns to reshape list into original raster size\n",
    "   \n",
    "    '''\n",
    "\n",
    "    table_dict = {'Time': dekads }\n",
    "    \n",
    "#     if simplex_out is None:\n",
    "#         simplex_out = pd.DataFrame()\n",
    "    simplex_out= []\n",
    "    labels = ' '.join([table.label for table in tables]) # Assumes that all tables have labels\n",
    "\n",
    "    # Generate future dekads\n",
    "    dekads_fut = generate_dekads(dekads[-1],pd.datetime(2020,4,30))\n",
    "    \n",
    "   \n",
    "    \n",
    "    # Iterate through columns (pixels)\n",
    "    for col_idx in tqdm(range(len(tables[0].columns))):\n",
    "        \n",
    "        now=datetime.now()\n",
    "        # PIXEL DATAFRAME\n",
    "        # Generate dataframe for pixel where columns correspond to variables and rows to timestamp (image)\n",
    "        [table_dict.update({table.label: table.iloc[:,col_idx]}) for i, table in enumerate(tables)]\n",
    "        #interim_df = pd.DataFrame(table_dict, index = dekads)\n",
    "        interim_df = pd.DataFrame(table_dict)\n",
    "\n",
    "        interim_df.set_index('Time',inplace=True, drop=False)\n",
    "        \n",
    "        \n",
    "                # If column has lots of nans (water), append nan\n",
    "        if max([len(interim_df[interim_df[col_idx].isnull()]) for col_idx in interim_df.columns]) > 20:\n",
    "            nans = [np.nan]*(len(interim_df)-ed+pi+1)\n",
    "            #simplex_out[col_idx] = [np.nan]*(len(interim_df)-ed+pi+1)\n",
    "            simplex_out.append(nans)\n",
    "        else:\n",
    "\n",
    "            # Check whether column has a few nans\n",
    "            if interim_df.sm.isnull().values.any():\n",
    "                # If so, iterate through nan rows and replace with monthly mean\n",
    "                for t in interim_df[interim_df.temp.isnull()].index:\n",
    "                    interim_df.sm.loc[t] = interim_df.sm[interim_df.index.month == t.month].mean()\n",
    "                    #print(interim_df)\n",
    "            if interim_df.ndvi.isnull().values.any():\n",
    "            # If so, iterate through nan rows and replace with monthly mean\n",
    "                for t in interim_df[interim_df.ndvi.isnull()].index:\n",
    "                    interim_df.ndvi.loc[t] = interim_df.ndvi[interim_df.index.month == t.month].mean()\n",
    "            if interim_df.et.isnull().values.any():\n",
    "            # If so, iterate through nan rows and replace with monthly mean\n",
    "                for t in interim_df[interim_df.precip.isnull()].index:\n",
    "                    interim_df.et.loc[t] = interim_df.et[interim_df.index.month == t.month].mean()\n",
    "            #print(interim_df)\n",
    "            \n",
    "            # Run simplex\n",
    "            \n",
    "            simplex_result = Simplex(dataFrame = interim_df,\n",
    "                                     lib = train,\n",
    "                                     pred = test,\n",
    "                                     E = ed, Tp = pi,\n",
    "                                     columns = labels, target = target_label, showPlot = False)\n",
    "\n",
    "            \n",
    "            \n",
    "            # Add datetime index + fix dekad values for future values\n",
    "            simplex_result.Time = pd.to_datetime(simplex_result.Time)\n",
    "            simplex_result.set_index(simplex_result.Time, inplace=True)\n",
    "            \n",
    "            \n",
    "            # Fix datetime index for future dekads\n",
    "            simplex_result[-pi:].Time = dekads_fut[1:pi+1]\n",
    "            \n",
    "            #simplex_result.dropna()\n",
    "            #simplex_out[col_idx] = simplex_result.Predictions\n",
    "            #print(simplex_result.Predictions.tolist())\n",
    "            \n",
    "            predictions = simplex_result.Predictions.tolist()\n",
    "            simplex_out.append(predictions)\n",
    "            \n",
    "            #print(simplex_out[i])\n",
    "            delta=datetime.now()-now\n",
    "            #print(delta)\n",
    "    return pd.DataFrame(simplex_out).T\n",
    "    \n"
   ]
  },
  {
   "cell_type": "code",
   "execution_count": 30,
   "metadata": {},
   "outputs": [
    {
     "name": "stderr",
     "output_type": "stream",
     "text": [
      "100%|██████████| 392942/392942 [4:37:54<00:00, 23.56it/s]  \n"
     ]
    }
   ],
   "source": [
    "ndvi_ea_simplex_ed6_pi18_anom_smet = multi_pixelwise_simplex_smet(table_list_anom_smet, 'ndvi', train = '1 606', test = '1 606',ed = 6, pi = 18)"
   ]
  },
  {
   "cell_type": "code",
   "execution_count": 31,
   "metadata": {},
   "outputs": [
    {
     "data": {
      "text/html": [
       "<div>\n",
       "<style scoped>\n",
       "    .dataframe tbody tr th:only-of-type {\n",
       "        vertical-align: middle;\n",
       "    }\n",
       "\n",
       "    .dataframe tbody tr th {\n",
       "        vertical-align: top;\n",
       "    }\n",
       "\n",
       "    .dataframe thead th {\n",
       "        text-align: right;\n",
       "    }\n",
       "</style>\n",
       "<table border=\"1\" class=\"dataframe\">\n",
       "  <thead>\n",
       "    <tr style=\"text-align: right;\">\n",
       "      <th></th>\n",
       "      <th>0</th>\n",
       "      <th>1</th>\n",
       "      <th>2</th>\n",
       "      <th>3</th>\n",
       "      <th>4</th>\n",
       "      <th>5</th>\n",
       "      <th>6</th>\n",
       "      <th>7</th>\n",
       "      <th>8</th>\n",
       "      <th>9</th>\n",
       "      <th>...</th>\n",
       "      <th>392932</th>\n",
       "      <th>392933</th>\n",
       "      <th>392934</th>\n",
       "      <th>392935</th>\n",
       "      <th>392936</th>\n",
       "      <th>392937</th>\n",
       "      <th>392938</th>\n",
       "      <th>392939</th>\n",
       "      <th>392940</th>\n",
       "      <th>392941</th>\n",
       "    </tr>\n",
       "  </thead>\n",
       "  <tbody>\n",
       "    <tr>\n",
       "      <td>0</td>\n",
       "      <td>NaN</td>\n",
       "      <td>NaN</td>\n",
       "      <td>NaN</td>\n",
       "      <td>NaN</td>\n",
       "      <td>NaN</td>\n",
       "      <td>NaN</td>\n",
       "      <td>NaN</td>\n",
       "      <td>NaN</td>\n",
       "      <td>NaN</td>\n",
       "      <td>NaN</td>\n",
       "      <td>...</td>\n",
       "      <td>NaN</td>\n",
       "      <td>NaN</td>\n",
       "      <td>NaN</td>\n",
       "      <td>NaN</td>\n",
       "      <td>NaN</td>\n",
       "      <td>NaN</td>\n",
       "      <td>NaN</td>\n",
       "      <td>NaN</td>\n",
       "      <td>NaN</td>\n",
       "      <td>NaN</td>\n",
       "    </tr>\n",
       "    <tr>\n",
       "      <td>1</td>\n",
       "      <td>NaN</td>\n",
       "      <td>NaN</td>\n",
       "      <td>NaN</td>\n",
       "      <td>NaN</td>\n",
       "      <td>NaN</td>\n",
       "      <td>NaN</td>\n",
       "      <td>NaN</td>\n",
       "      <td>NaN</td>\n",
       "      <td>NaN</td>\n",
       "      <td>NaN</td>\n",
       "      <td>...</td>\n",
       "      <td>NaN</td>\n",
       "      <td>NaN</td>\n",
       "      <td>NaN</td>\n",
       "      <td>NaN</td>\n",
       "      <td>NaN</td>\n",
       "      <td>NaN</td>\n",
       "      <td>NaN</td>\n",
       "      <td>NaN</td>\n",
       "      <td>NaN</td>\n",
       "      <td>NaN</td>\n",
       "    </tr>\n",
       "    <tr>\n",
       "      <td>2</td>\n",
       "      <td>NaN</td>\n",
       "      <td>NaN</td>\n",
       "      <td>NaN</td>\n",
       "      <td>NaN</td>\n",
       "      <td>NaN</td>\n",
       "      <td>NaN</td>\n",
       "      <td>NaN</td>\n",
       "      <td>NaN</td>\n",
       "      <td>NaN</td>\n",
       "      <td>NaN</td>\n",
       "      <td>...</td>\n",
       "      <td>NaN</td>\n",
       "      <td>NaN</td>\n",
       "      <td>NaN</td>\n",
       "      <td>NaN</td>\n",
       "      <td>NaN</td>\n",
       "      <td>NaN</td>\n",
       "      <td>NaN</td>\n",
       "      <td>NaN</td>\n",
       "      <td>NaN</td>\n",
       "      <td>NaN</td>\n",
       "    </tr>\n",
       "    <tr>\n",
       "      <td>3</td>\n",
       "      <td>NaN</td>\n",
       "      <td>NaN</td>\n",
       "      <td>NaN</td>\n",
       "      <td>NaN</td>\n",
       "      <td>NaN</td>\n",
       "      <td>NaN</td>\n",
       "      <td>NaN</td>\n",
       "      <td>NaN</td>\n",
       "      <td>NaN</td>\n",
       "      <td>NaN</td>\n",
       "      <td>...</td>\n",
       "      <td>NaN</td>\n",
       "      <td>NaN</td>\n",
       "      <td>NaN</td>\n",
       "      <td>NaN</td>\n",
       "      <td>NaN</td>\n",
       "      <td>NaN</td>\n",
       "      <td>NaN</td>\n",
       "      <td>NaN</td>\n",
       "      <td>NaN</td>\n",
       "      <td>NaN</td>\n",
       "    </tr>\n",
       "    <tr>\n",
       "      <td>4</td>\n",
       "      <td>NaN</td>\n",
       "      <td>NaN</td>\n",
       "      <td>NaN</td>\n",
       "      <td>NaN</td>\n",
       "      <td>NaN</td>\n",
       "      <td>NaN</td>\n",
       "      <td>NaN</td>\n",
       "      <td>NaN</td>\n",
       "      <td>NaN</td>\n",
       "      <td>NaN</td>\n",
       "      <td>...</td>\n",
       "      <td>NaN</td>\n",
       "      <td>NaN</td>\n",
       "      <td>NaN</td>\n",
       "      <td>NaN</td>\n",
       "      <td>NaN</td>\n",
       "      <td>NaN</td>\n",
       "      <td>NaN</td>\n",
       "      <td>NaN</td>\n",
       "      <td>NaN</td>\n",
       "      <td>NaN</td>\n",
       "    </tr>\n",
       "    <tr>\n",
       "      <td>...</td>\n",
       "      <td>...</td>\n",
       "      <td>...</td>\n",
       "      <td>...</td>\n",
       "      <td>...</td>\n",
       "      <td>...</td>\n",
       "      <td>...</td>\n",
       "      <td>...</td>\n",
       "      <td>...</td>\n",
       "      <td>...</td>\n",
       "      <td>...</td>\n",
       "      <td>...</td>\n",
       "      <td>...</td>\n",
       "      <td>...</td>\n",
       "      <td>...</td>\n",
       "      <td>...</td>\n",
       "      <td>...</td>\n",
       "      <td>...</td>\n",
       "      <td>...</td>\n",
       "      <td>...</td>\n",
       "      <td>...</td>\n",
       "      <td>...</td>\n",
       "    </tr>\n",
       "    <tr>\n",
       "      <td>614</td>\n",
       "      <td>1.317100</td>\n",
       "      <td>1.455657</td>\n",
       "      <td>0.815901</td>\n",
       "      <td>0.971967</td>\n",
       "      <td>0.464898</td>\n",
       "      <td>0.400466</td>\n",
       "      <td>1.033423</td>\n",
       "      <td>1.011932</td>\n",
       "      <td>0.672022</td>\n",
       "      <td>1.033617</td>\n",
       "      <td>...</td>\n",
       "      <td>NaN</td>\n",
       "      <td>NaN</td>\n",
       "      <td>NaN</td>\n",
       "      <td>NaN</td>\n",
       "      <td>NaN</td>\n",
       "      <td>NaN</td>\n",
       "      <td>NaN</td>\n",
       "      <td>NaN</td>\n",
       "      <td>NaN</td>\n",
       "      <td>NaN</td>\n",
       "    </tr>\n",
       "    <tr>\n",
       "      <td>615</td>\n",
       "      <td>0.953583</td>\n",
       "      <td>0.609130</td>\n",
       "      <td>0.158095</td>\n",
       "      <td>0.534901</td>\n",
       "      <td>0.181578</td>\n",
       "      <td>0.398100</td>\n",
       "      <td>1.206594</td>\n",
       "      <td>0.973352</td>\n",
       "      <td>0.914129</td>\n",
       "      <td>0.965844</td>\n",
       "      <td>...</td>\n",
       "      <td>NaN</td>\n",
       "      <td>NaN</td>\n",
       "      <td>NaN</td>\n",
       "      <td>NaN</td>\n",
       "      <td>NaN</td>\n",
       "      <td>NaN</td>\n",
       "      <td>NaN</td>\n",
       "      <td>NaN</td>\n",
       "      <td>NaN</td>\n",
       "      <td>NaN</td>\n",
       "    </tr>\n",
       "    <tr>\n",
       "      <td>616</td>\n",
       "      <td>0.470341</td>\n",
       "      <td>0.203824</td>\n",
       "      <td>-0.013998</td>\n",
       "      <td>0.263754</td>\n",
       "      <td>-0.215546</td>\n",
       "      <td>0.069829</td>\n",
       "      <td>0.781443</td>\n",
       "      <td>0.843704</td>\n",
       "      <td>0.784571</td>\n",
       "      <td>0.741531</td>\n",
       "      <td>...</td>\n",
       "      <td>NaN</td>\n",
       "      <td>NaN</td>\n",
       "      <td>NaN</td>\n",
       "      <td>NaN</td>\n",
       "      <td>NaN</td>\n",
       "      <td>NaN</td>\n",
       "      <td>NaN</td>\n",
       "      <td>NaN</td>\n",
       "      <td>NaN</td>\n",
       "      <td>NaN</td>\n",
       "    </tr>\n",
       "    <tr>\n",
       "      <td>617</td>\n",
       "      <td>-0.133274</td>\n",
       "      <td>-0.155708</td>\n",
       "      <td>0.460112</td>\n",
       "      <td>0.155811</td>\n",
       "      <td>0.048216</td>\n",
       "      <td>0.326105</td>\n",
       "      <td>0.614161</td>\n",
       "      <td>0.324094</td>\n",
       "      <td>0.606295</td>\n",
       "      <td>0.165470</td>\n",
       "      <td>...</td>\n",
       "      <td>NaN</td>\n",
       "      <td>NaN</td>\n",
       "      <td>NaN</td>\n",
       "      <td>NaN</td>\n",
       "      <td>NaN</td>\n",
       "      <td>NaN</td>\n",
       "      <td>NaN</td>\n",
       "      <td>NaN</td>\n",
       "      <td>NaN</td>\n",
       "      <td>NaN</td>\n",
       "    </tr>\n",
       "    <tr>\n",
       "      <td>618</td>\n",
       "      <td>-1.152145</td>\n",
       "      <td>-0.522736</td>\n",
       "      <td>0.528084</td>\n",
       "      <td>0.254728</td>\n",
       "      <td>0.427706</td>\n",
       "      <td>0.370628</td>\n",
       "      <td>0.309808</td>\n",
       "      <td>0.104005</td>\n",
       "      <td>-0.186798</td>\n",
       "      <td>-0.253384</td>\n",
       "      <td>...</td>\n",
       "      <td>NaN</td>\n",
       "      <td>NaN</td>\n",
       "      <td>NaN</td>\n",
       "      <td>NaN</td>\n",
       "      <td>NaN</td>\n",
       "      <td>NaN</td>\n",
       "      <td>NaN</td>\n",
       "      <td>NaN</td>\n",
       "      <td>NaN</td>\n",
       "      <td>NaN</td>\n",
       "    </tr>\n",
       "  </tbody>\n",
       "</table>\n",
       "<p>619 rows × 392942 columns</p>\n",
       "</div>"
      ],
      "text/plain": [
       "       0         1         2         3         4         5         6       \\\n",
       "0         NaN       NaN       NaN       NaN       NaN       NaN       NaN   \n",
       "1         NaN       NaN       NaN       NaN       NaN       NaN       NaN   \n",
       "2         NaN       NaN       NaN       NaN       NaN       NaN       NaN   \n",
       "3         NaN       NaN       NaN       NaN       NaN       NaN       NaN   \n",
       "4         NaN       NaN       NaN       NaN       NaN       NaN       NaN   \n",
       "..        ...       ...       ...       ...       ...       ...       ...   \n",
       "614  1.317100  1.455657  0.815901  0.971967  0.464898  0.400466  1.033423   \n",
       "615  0.953583  0.609130  0.158095  0.534901  0.181578  0.398100  1.206594   \n",
       "616  0.470341  0.203824 -0.013998  0.263754 -0.215546  0.069829  0.781443   \n",
       "617 -0.133274 -0.155708  0.460112  0.155811  0.048216  0.326105  0.614161   \n",
       "618 -1.152145 -0.522736  0.528084  0.254728  0.427706  0.370628  0.309808   \n",
       "\n",
       "       7         8         9       ...  392932  392933  392934  392935  \\\n",
       "0         NaN       NaN       NaN  ...     NaN     NaN     NaN     NaN   \n",
       "1         NaN       NaN       NaN  ...     NaN     NaN     NaN     NaN   \n",
       "2         NaN       NaN       NaN  ...     NaN     NaN     NaN     NaN   \n",
       "3         NaN       NaN       NaN  ...     NaN     NaN     NaN     NaN   \n",
       "4         NaN       NaN       NaN  ...     NaN     NaN     NaN     NaN   \n",
       "..        ...       ...       ...  ...     ...     ...     ...     ...   \n",
       "614  1.011932  0.672022  1.033617  ...     NaN     NaN     NaN     NaN   \n",
       "615  0.973352  0.914129  0.965844  ...     NaN     NaN     NaN     NaN   \n",
       "616  0.843704  0.784571  0.741531  ...     NaN     NaN     NaN     NaN   \n",
       "617  0.324094  0.606295  0.165470  ...     NaN     NaN     NaN     NaN   \n",
       "618  0.104005 -0.186798 -0.253384  ...     NaN     NaN     NaN     NaN   \n",
       "\n",
       "     392936  392937  392938  392939  392940  392941  \n",
       "0       NaN     NaN     NaN     NaN     NaN     NaN  \n",
       "1       NaN     NaN     NaN     NaN     NaN     NaN  \n",
       "2       NaN     NaN     NaN     NaN     NaN     NaN  \n",
       "3       NaN     NaN     NaN     NaN     NaN     NaN  \n",
       "4       NaN     NaN     NaN     NaN     NaN     NaN  \n",
       "..      ...     ...     ...     ...     ...     ...  \n",
       "614     NaN     NaN     NaN     NaN     NaN     NaN  \n",
       "615     NaN     NaN     NaN     NaN     NaN     NaN  \n",
       "616     NaN     NaN     NaN     NaN     NaN     NaN  \n",
       "617     NaN     NaN     NaN     NaN     NaN     NaN  \n",
       "618     NaN     NaN     NaN     NaN     NaN     NaN  \n",
       "\n",
       "[619 rows x 392942 columns]"
      ]
     },
     "execution_count": 31,
     "metadata": {},
     "output_type": "execute_result"
    }
   ],
   "source": [
    "ndvi_ea_simplex_ed6_pi18_anom_smet"
   ]
  },
  {
   "cell_type": "code",
   "execution_count": 34,
   "metadata": {},
   "outputs": [],
   "source": [
    "ndvi_ea_simplex_ed6_pi18_anom_smetT = ndvi_ea_simplex_ed6_pi18_anom_smet.T"
   ]
  },
  {
   "cell_type": "code",
   "execution_count": 33,
   "metadata": {},
   "outputs": [],
   "source": [
    "ndvi_ea_simplex_ed6_pi18_anom_smet.to_csv(prediction_tables + 'ndvi_ea_simplex_ed6_pi18_anom_smet.csv')"
   ]
  },
  {
   "cell_type": "code",
   "execution_count": 35,
   "metadata": {},
   "outputs": [],
   "source": [
    "ndvi_ea_simplex_ed6_pi18_anom_smetT.to_csv(prediction_tables + 'ndvi_ea_simplex_ed6_pi18_anom_smetT.csv')"
   ]
  },
  {
   "cell_type": "code",
   "execution_count": null,
   "metadata": {},
   "outputs": [],
   "source": []
  }
 ],
 "metadata": {
  "kernelspec": {
   "display_name": "Python [conda env:edm]",
   "language": "python",
   "name": "conda-env-edm-py"
  },
  "language_info": {
   "codemirror_mode": {
    "name": "ipython",
    "version": 3
   },
   "file_extension": ".py",
   "mimetype": "text/x-python",
   "name": "python",
   "nbconvert_exporter": "python",
   "pygments_lexer": "ipython3",
   "version": "3.7.3"
  }
 },
 "nbformat": 4,
 "nbformat_minor": 4
}
