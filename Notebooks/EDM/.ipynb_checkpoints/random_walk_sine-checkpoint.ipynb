{
 "cells": [
  {
   "cell_type": "code",
   "execution_count": 199,
   "metadata": {},
   "outputs": [],
   "source": [
    "import pandas as pd\n",
    "import numpy as np\n",
    "import matplotlib as mpl\n",
    "from matplotlib import pyplot as plt\n",
    "from pyEDM import * "
   ]
  },
  {
   "cell_type": "code",
   "execution_count": 115,
   "metadata": {},
   "outputs": [],
   "source": [
    "def bounded_random_walk(length, lower_bound,  upper_bound, start, end, std):\n",
    "    assert (lower_bound <= start and lower_bound <= end)\n",
    "    assert (start <= upper_bound and end <= upper_bound)\n",
    "\n",
    "    bounds = upper_bound - lower_bound\n",
    "\n",
    "    rand = (std * (np.random.random(length) - 0.5)).cumsum()\n",
    "    rand_trend = np.linspace(rand[0], rand[-1], length)\n",
    "    rand_deltas = (rand - rand_trend)\n",
    "    rand_deltas /= np.max([1, (rand_deltas.max()-rand_deltas.min())/bounds])\n",
    "\n",
    "    trend_line = np.linspace(start, end, length)\n",
    "    upper_bound_delta = upper_bound - trend_line\n",
    "    lower_bound_delta = lower_bound - trend_line\n",
    "\n",
    "    upper_slips_mask = (rand_deltas-upper_bound_delta) >= 0\n",
    "    upper_deltas =  rand_deltas - upper_bound_delta\n",
    "    rand_deltas[upper_slips_mask] = (upper_bound_delta - upper_deltas)[upper_slips_mask]\n",
    "\n",
    "    lower_slips_mask = (lower_bound_delta-rand_deltas) >= 0\n",
    "    lower_deltas =  lower_bound_delta - rand_deltas\n",
    "    rand_deltas[lower_slips_mask] = (lower_bound_delta + lower_deltas)[lower_slips_mask]\n",
    "\n",
    "    return trend_line + rand_deltas\n",
    "\n"
   ]
  },
  {
   "cell_type": "code",
   "execution_count": 184,
   "metadata": {},
   "outputs": [],
   "source": [
    "randomData = bounded_random_walk(100, lower_bound=-1, upper_bound =0, start=0, end=0, std=10)\n",
    "randomData2 = bounded_random_walk(100, lower_bound=1, upper_bound =0, start=0, end=0, std=10)\n",
    "randomData3 = bounded_random_walk(100, lower_bound=-1, upper_bound =10, start=0, end=0, std=10)\n",
    "randomData4 = bounded_random_walk(100, lower_bound=-10, upper_bound =0, start=0, end=0, std=10)"
   ]
  },
  {
   "cell_type": "code",
   "execution_count": 250,
   "metadata": {},
   "outputs": [],
   "source": [
    "rd1 = bounded_random_walk(100, lower_bound=0, upper_bound =1, start=0, end=0, std=10)\n",
    "rd2 = bounded_random_walk(100, lower_bound=-1, upper_bound =0, start=0, end=0, std=10)\n",
    "rd3 = bounded_random_walk(100, lower_bound=0, upper_bound =1, start=0, end=0, std=10)\n",
    "rd4 = bounded_random_walk(100, lower_bound=-1, upper_bound =0, start=0, end=0, std=10)\n",
    "rd5 = bounded_random_walk(100, lower_bound=0, upper_bound =1, start=0, end=0, std=10)\n",
    "rd6 = bounded_random_walk(100, lower_bound=-1, upper_bound =0, start=0, end=0, std=10)\n",
    "rd7 = bounded_random_walk(100, lower_bound=-0, upper_bound =1, start=0, end=0, std=10)\n",
    "rd8 = bounded_random_walk(100, lower_bound=-1, upper_bound =0, start=0, end=0, std=10)\n",
    "rd9 = bounded_random_walk(100, lower_bound=0, upper_bound =1, start=0, end=0, std=10)\n",
    "rd10 = bounded_random_walk(100, lower_bound=-1, upper_bound =0, start=0, end=0, std=10)"
   ]
  },
  {
   "cell_type": "code",
   "execution_count": 255,
   "metadata": {},
   "outputs": [],
   "source": [
    "rd = np.concatenate([rd1,rd2,rd3,rd4,rd5, rd6, rd7, rd8])\n",
    "rd_df = pd.DataFrame(rd, columns = ['Walk'])\n",
    "rd_df.insert(0, 'Time', np.arange(1,801,1))"
   ]
  },
  {
   "cell_type": "code",
   "execution_count": 256,
   "metadata": {},
   "outputs": [
    {
     "data": {
      "text/plain": [
       "(800, 2)"
      ]
     },
     "execution_count": 256,
     "metadata": {},
     "output_type": "execute_result"
    }
   ],
   "source": [
    "rd_df.shape"
   ]
  },
  {
   "cell_type": "code",
   "execution_count": 257,
   "metadata": {},
   "outputs": [],
   "source": [
    "embed_rd = Embed(dataFrame = rd_df, E = 3, tau = -1, columns = 'Walk', verbose = False)"
   ]
  },
  {
   "cell_type": "code",
   "execution_count": 258,
   "metadata": {},
   "outputs": [],
   "source": [
    "embed_rd.to_csv('/home/rgreen/DroughtEDM/Data/Random_Walk/rd_df.csv')"
   ]
  },
  {
   "cell_type": "code",
   "execution_count": 141,
   "metadata": {},
   "outputs": [],
   "source": [
    "# x1 = np.linspace(0, 10, 10)\n",
    "# x2 = np.linspace(10, 20, 10 )\n",
    "# x3 = np.linspace(20, 30, 10 )\n",
    "# x4 = np.linspace(30, 40, 10 )"
   ]
  },
  {
   "cell_type": "code",
   "execution_count": 195,
   "metadata": {},
   "outputs": [],
   "source": [
    "x1 = np.linspace(0, 100, 100)\n",
    "x2 = np.linspace(101, 200, 100 )\n",
    "x3 = np.linspace(201, 300, 100 )\n",
    "x4 = np.linspace(301, 400, 100 )"
   ]
  },
  {
   "cell_type": "code",
   "execution_count": 181,
   "metadata": {},
   "outputs": [],
   "source": [
    "sx1 = np.arange(0,10*np.pi,0.1)   # start,stop,step\n",
    "sy1 = np.sin(sx1)"
   ]
  },
  {
   "cell_type": "code",
   "execution_count": 182,
   "metadata": {},
   "outputs": [
    {
     "data": {
      "text/plain": [
       "(315,)"
      ]
     },
     "execution_count": 182,
     "metadata": {},
     "output_type": "execute_result"
    }
   ],
   "source": [
    "sy1.shape"
   ]
  },
  {
   "cell_type": "code",
   "execution_count": 197,
   "metadata": {},
   "outputs": [
    {
     "data": {
      "text/plain": [
       "[<matplotlib.lines.Line2D at 0x7f96b5a15080>]"
      ]
     },
     "execution_count": 197,
     "metadata": {},
     "output_type": "execute_result"
    },
    {
     "data": {
      "image/png": "[encoded data removed]",
      "text/plain": [
       "<Figure size 432x288 with 1 Axes>"
      ]
     },
     "metadata": {
      "needs_background": "light"
     },
     "output_type": "display_data"
    }
   ],
   "source": [
    "fig = plt.figure()\n",
    "plt.plot(x1, randomData, 'b')\n",
    "plt.plot(x2, randomData2, 'b')\n",
    "plt.plot(x3, randomData3, 'b')\n",
    "plt.plot(x4, randomData4, 'b')\n"
   ]
  },
  {
   "cell_type": "code",
   "execution_count": null,
   "metadata": {},
   "outputs": [],
   "source": []
  }
 ],
 "metadata": {
  "kernelspec": {
   "display_name": "Python [conda env:edm]",
   "language": "python",
   "name": "conda-env-edm-py"
  },
  "language_info": {
   "codemirror_mode": {
    "name": "ipython",
    "version": 3
   },
   "file_extension": ".py",
   "mimetype": "text/x-python",
   "name": "python",
   "nbconvert_exporter": "python",
   "pygments_lexer": "ipython3",
   "version": "3.7.3"
  }
 },
 "nbformat": 4,
 "nbformat_minor": 4
}
