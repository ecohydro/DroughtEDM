{
 "cells": [
  {
   "cell_type": "code",
   "execution_count": 1,
   "metadata": {},
   "outputs": [],
   "source": [
    "from pyEDM import *\n",
    "import pandas as pd\n",
    "import numpy as np\n",
    "import matplotlib as mpl\n",
    "from matplotlib import pyplot as plt\n",
    "import os\n",
    "import geopandas as gpd\n",
    "from shapely.geometry import Polygon\n",
    "import rasterio\n",
    "import xarray as xr\n",
    "from mpl_toolkits.axes_grid1 import make_axes_locatable\n",
    "import fiona\n",
    "import rasterio.mask\n",
    "from descartes import PolygonPatch\n",
    "from rasterio.plot import show\n",
    "from tqdm import tqdm\n",
    "import datetime\n",
    "import random\n",
    "from sklearn.preprocessing import StandardScaler\n",
    "import scipy.stats\n",
    "from random import sample, shuffle\n",
    "import seaborn as sns\n",
    "from scipy import stats"
   ]
  },
  {
   "cell_type": "code",
   "execution_count": 2,
   "metadata": {},
   "outputs": [],
   "source": [
    "import warnings\n",
    "warnings.filterwarnings(\"ignore\")"
   ]
  },
  {
   "cell_type": "code",
   "execution_count": 3,
   "metadata": {},
   "outputs": [],
   "source": [
    "observations_tables = '/home/rgreen/tana-crunch/rgreen/crunch/DroughtEDM/Data/observations_tables/'"
   ]
  },
  {
   "cell_type": "code",
   "execution_count": 4,
   "metadata": {},
   "outputs": [],
   "source": [
    "ndvi_anom_dek_dir = '/home/rgreen/tana-spin/rgreen/DroughtEDM/Data/eMODIS_NDVI/Anomaly_Dek/'"
   ]
  },
  {
   "cell_type": "code",
   "execution_count": 5,
   "metadata": {},
   "outputs": [],
   "source": [
    "ndvi_mean_dek_dir = '/home/rgreen/tana-spin/rgreen/DroughtEDM/Data/eMODIS_NDVI/Mean_Dek/'"
   ]
  },
  {
   "cell_type": "code",
   "execution_count": 6,
   "metadata": {},
   "outputs": [],
   "source": [
    "precip_anom_dek_dir = '/home/rgreen/tana-spin/rgreen/DroughtEDM/Data/CHIRPS/Anomaly_Dek/'\n",
    "precip_mean_dek_dir = '/home/rgreen/tana-spin/rgreen/DroughtEDM/Data/CHIRPS/Mean_Dek/'\n",
    "temp_anom_dek_dir = '/home/rgreen/tana-spin/rgreen/DroughtEDM/Data/LST/Anomaly_Dek/'\n",
    "temp_mean_dek_dir = '/home/rgreen/tana-spin/rgreen/DroughtEDM/Data/LST/Mean_Dek/'"
   ]
  },
  {
   "cell_type": "code",
   "execution_count": 7,
   "metadata": {},
   "outputs": [],
   "source": [
    "ndvi_table = pd.read_csv(observations_tables + 'ndvi_table_origT.csv', delimiter=',', engine='c', low_memory=False, index_col=[0])"
   ]
  },
  {
   "cell_type": "code",
   "execution_count": 8,
   "metadata": {},
   "outputs": [],
   "source": [
    "precip_table = pd.read_csv(observations_tables + 'precip_table_origT.csv', delimiter=',', engine='c', low_memory=False, index_col=[0])"
   ]
  },
  {
   "cell_type": "code",
   "execution_count": 9,
   "metadata": {},
   "outputs": [],
   "source": [
    "temp_table = pd.read_csv(observations_tables + 'temp_table_origT.csv', delimiter=',', engine='c', low_memory=False, index_col=[0])"
   ]
  },
  {
   "cell_type": "code",
   "execution_count": 11,
   "metadata": {},
   "outputs": [],
   "source": [
    "ndvi_table1 = (ndvi_table-100)/100"
   ]
  },
  {
   "cell_type": "code",
   "execution_count": 12,
   "metadata": {},
   "outputs": [
    {
     "data": {
      "text/html": [
       "<div>\n",
       "<style scoped>\n",
       "    .dataframe tbody tr th:only-of-type {\n",
       "        vertical-align: middle;\n",
       "    }\n",
       "\n",
       "    .dataframe tbody tr th {\n",
       "        vertical-align: top;\n",
       "    }\n",
       "\n",
       "    .dataframe thead th {\n",
       "        text-align: right;\n",
       "    }\n",
       "</style>\n",
       "<table border=\"1\" class=\"dataframe\">\n",
       "  <thead>\n",
       "    <tr style=\"text-align: right;\">\n",
       "      <th></th>\n",
       "      <th>0</th>\n",
       "      <th>1</th>\n",
       "      <th>2</th>\n",
       "      <th>3</th>\n",
       "      <th>4</th>\n",
       "      <th>5</th>\n",
       "      <th>6</th>\n",
       "      <th>7</th>\n",
       "      <th>8</th>\n",
       "      <th>9</th>\n",
       "      <th>...</th>\n",
       "      <th>596</th>\n",
       "      <th>597</th>\n",
       "      <th>598</th>\n",
       "      <th>599</th>\n",
       "      <th>600</th>\n",
       "      <th>601</th>\n",
       "      <th>602</th>\n",
       "      <th>603</th>\n",
       "      <th>604</th>\n",
       "      <th>605</th>\n",
       "    </tr>\n",
       "  </thead>\n",
       "  <tbody>\n",
       "    <tr>\n",
       "      <td>0</td>\n",
       "      <td>0.095659</td>\n",
       "      <td>0.095168</td>\n",
       "      <td>0.093700</td>\n",
       "      <td>0.095405</td>\n",
       "      <td>0.095129</td>\n",
       "      <td>0.096133</td>\n",
       "      <td>0.096523</td>\n",
       "      <td>0.094676</td>\n",
       "      <td>0.092954</td>\n",
       "      <td>0.087422</td>\n",
       "      <td>...</td>\n",
       "      <td>0.091390</td>\n",
       "      <td>0.093647</td>\n",
       "      <td>0.092394</td>\n",
       "      <td>0.091535</td>\n",
       "      <td>0.094791</td>\n",
       "      <td>0.092024</td>\n",
       "      <td>0.093305</td>\n",
       "      <td>0.092528</td>\n",
       "      <td>0.092425</td>\n",
       "      <td>0.093018</td>\n",
       "    </tr>\n",
       "    <tr>\n",
       "      <td>1</td>\n",
       "      <td>0.096254</td>\n",
       "      <td>0.095741</td>\n",
       "      <td>0.093984</td>\n",
       "      <td>0.094987</td>\n",
       "      <td>0.094734</td>\n",
       "      <td>0.095624</td>\n",
       "      <td>0.096341</td>\n",
       "      <td>0.094194</td>\n",
       "      <td>0.094013</td>\n",
       "      <td>0.090318</td>\n",
       "      <td>...</td>\n",
       "      <td>0.090890</td>\n",
       "      <td>0.093912</td>\n",
       "      <td>0.095730</td>\n",
       "      <td>0.094346</td>\n",
       "      <td>0.094643</td>\n",
       "      <td>0.092596</td>\n",
       "      <td>0.092845</td>\n",
       "      <td>0.092276</td>\n",
       "      <td>0.092117</td>\n",
       "      <td>0.092221</td>\n",
       "    </tr>\n",
       "    <tr>\n",
       "      <td>2</td>\n",
       "      <td>0.096051</td>\n",
       "      <td>0.095856</td>\n",
       "      <td>0.094184</td>\n",
       "      <td>0.095052</td>\n",
       "      <td>0.094622</td>\n",
       "      <td>0.095341</td>\n",
       "      <td>0.096013</td>\n",
       "      <td>0.093443</td>\n",
       "      <td>0.093455</td>\n",
       "      <td>0.090354</td>\n",
       "      <td>...</td>\n",
       "      <td>0.090482</td>\n",
       "      <td>0.093687</td>\n",
       "      <td>0.098057</td>\n",
       "      <td>0.096802</td>\n",
       "      <td>0.094756</td>\n",
       "      <td>0.092340</td>\n",
       "      <td>0.093196</td>\n",
       "      <td>0.092053</td>\n",
       "      <td>0.092303</td>\n",
       "      <td>0.092216</td>\n",
       "    </tr>\n",
       "    <tr>\n",
       "      <td>3</td>\n",
       "      <td>0.096105</td>\n",
       "      <td>0.096176</td>\n",
       "      <td>0.094366</td>\n",
       "      <td>0.095133</td>\n",
       "      <td>0.094268</td>\n",
       "      <td>0.094989</td>\n",
       "      <td>0.096154</td>\n",
       "      <td>0.094638</td>\n",
       "      <td>0.094929</td>\n",
       "      <td>0.091745</td>\n",
       "      <td>...</td>\n",
       "      <td>0.089782</td>\n",
       "      <td>0.092512</td>\n",
       "      <td>0.097421</td>\n",
       "      <td>0.096556</td>\n",
       "      <td>0.095320</td>\n",
       "      <td>0.093426</td>\n",
       "      <td>0.094727</td>\n",
       "      <td>0.091789</td>\n",
       "      <td>0.093443</td>\n",
       "      <td>0.093311</td>\n",
       "    </tr>\n",
       "    <tr>\n",
       "      <td>4</td>\n",
       "      <td>0.097594</td>\n",
       "      <td>0.097368</td>\n",
       "      <td>0.096698</td>\n",
       "      <td>0.097357</td>\n",
       "      <td>0.097000</td>\n",
       "      <td>0.097519</td>\n",
       "      <td>0.097690</td>\n",
       "      <td>0.095452</td>\n",
       "      <td>0.095581</td>\n",
       "      <td>0.093334</td>\n",
       "      <td>...</td>\n",
       "      <td>0.090129</td>\n",
       "      <td>0.094535</td>\n",
       "      <td>0.097890</td>\n",
       "      <td>0.096124</td>\n",
       "      <td>0.093878</td>\n",
       "      <td>0.092701</td>\n",
       "      <td>0.093608</td>\n",
       "      <td>0.092475</td>\n",
       "      <td>0.092074</td>\n",
       "      <td>0.092106</td>\n",
       "    </tr>\n",
       "    <tr>\n",
       "      <td>...</td>\n",
       "      <td>...</td>\n",
       "      <td>...</td>\n",
       "      <td>...</td>\n",
       "      <td>...</td>\n",
       "      <td>...</td>\n",
       "      <td>...</td>\n",
       "      <td>...</td>\n",
       "      <td>...</td>\n",
       "      <td>...</td>\n",
       "      <td>...</td>\n",
       "      <td>...</td>\n",
       "      <td>...</td>\n",
       "      <td>...</td>\n",
       "      <td>...</td>\n",
       "      <td>...</td>\n",
       "      <td>...</td>\n",
       "      <td>...</td>\n",
       "      <td>...</td>\n",
       "      <td>...</td>\n",
       "      <td>...</td>\n",
       "      <td>...</td>\n",
       "    </tr>\n",
       "    <tr>\n",
       "      <td>392937</td>\n",
       "      <td>NaN</td>\n",
       "      <td>NaN</td>\n",
       "      <td>NaN</td>\n",
       "      <td>NaN</td>\n",
       "      <td>NaN</td>\n",
       "      <td>NaN</td>\n",
       "      <td>NaN</td>\n",
       "      <td>NaN</td>\n",
       "      <td>NaN</td>\n",
       "      <td>NaN</td>\n",
       "      <td>...</td>\n",
       "      <td>NaN</td>\n",
       "      <td>NaN</td>\n",
       "      <td>NaN</td>\n",
       "      <td>NaN</td>\n",
       "      <td>NaN</td>\n",
       "      <td>NaN</td>\n",
       "      <td>NaN</td>\n",
       "      <td>NaN</td>\n",
       "      <td>NaN</td>\n",
       "      <td>NaN</td>\n",
       "    </tr>\n",
       "    <tr>\n",
       "      <td>392938</td>\n",
       "      <td>NaN</td>\n",
       "      <td>NaN</td>\n",
       "      <td>NaN</td>\n",
       "      <td>NaN</td>\n",
       "      <td>NaN</td>\n",
       "      <td>NaN</td>\n",
       "      <td>NaN</td>\n",
       "      <td>NaN</td>\n",
       "      <td>NaN</td>\n",
       "      <td>NaN</td>\n",
       "      <td>...</td>\n",
       "      <td>NaN</td>\n",
       "      <td>NaN</td>\n",
       "      <td>NaN</td>\n",
       "      <td>NaN</td>\n",
       "      <td>NaN</td>\n",
       "      <td>NaN</td>\n",
       "      <td>NaN</td>\n",
       "      <td>NaN</td>\n",
       "      <td>NaN</td>\n",
       "      <td>NaN</td>\n",
       "    </tr>\n",
       "    <tr>\n",
       "      <td>392939</td>\n",
       "      <td>NaN</td>\n",
       "      <td>NaN</td>\n",
       "      <td>NaN</td>\n",
       "      <td>NaN</td>\n",
       "      <td>NaN</td>\n",
       "      <td>NaN</td>\n",
       "      <td>NaN</td>\n",
       "      <td>NaN</td>\n",
       "      <td>NaN</td>\n",
       "      <td>NaN</td>\n",
       "      <td>...</td>\n",
       "      <td>NaN</td>\n",
       "      <td>NaN</td>\n",
       "      <td>NaN</td>\n",
       "      <td>NaN</td>\n",
       "      <td>NaN</td>\n",
       "      <td>NaN</td>\n",
       "      <td>NaN</td>\n",
       "      <td>NaN</td>\n",
       "      <td>NaN</td>\n",
       "      <td>NaN</td>\n",
       "    </tr>\n",
       "    <tr>\n",
       "      <td>392940</td>\n",
       "      <td>NaN</td>\n",
       "      <td>NaN</td>\n",
       "      <td>NaN</td>\n",
       "      <td>NaN</td>\n",
       "      <td>NaN</td>\n",
       "      <td>NaN</td>\n",
       "      <td>NaN</td>\n",
       "      <td>NaN</td>\n",
       "      <td>NaN</td>\n",
       "      <td>NaN</td>\n",
       "      <td>...</td>\n",
       "      <td>NaN</td>\n",
       "      <td>NaN</td>\n",
       "      <td>NaN</td>\n",
       "      <td>NaN</td>\n",
       "      <td>NaN</td>\n",
       "      <td>NaN</td>\n",
       "      <td>NaN</td>\n",
       "      <td>NaN</td>\n",
       "      <td>NaN</td>\n",
       "      <td>NaN</td>\n",
       "    </tr>\n",
       "    <tr>\n",
       "      <td>392941</td>\n",
       "      <td>NaN</td>\n",
       "      <td>NaN</td>\n",
       "      <td>NaN</td>\n",
       "      <td>NaN</td>\n",
       "      <td>NaN</td>\n",
       "      <td>NaN</td>\n",
       "      <td>NaN</td>\n",
       "      <td>NaN</td>\n",
       "      <td>NaN</td>\n",
       "      <td>NaN</td>\n",
       "      <td>...</td>\n",
       "      <td>NaN</td>\n",
       "      <td>NaN</td>\n",
       "      <td>NaN</td>\n",
       "      <td>NaN</td>\n",
       "      <td>NaN</td>\n",
       "      <td>NaN</td>\n",
       "      <td>NaN</td>\n",
       "      <td>NaN</td>\n",
       "      <td>NaN</td>\n",
       "      <td>NaN</td>\n",
       "    </tr>\n",
       "  </tbody>\n",
       "</table>\n",
       "<p>392942 rows × 606 columns</p>\n",
       "</div>"
      ],
      "text/plain": [
       "               0         1         2         3         4         5         6  \\\n",
       "0       0.095659  0.095168  0.093700  0.095405  0.095129  0.096133  0.096523   \n",
       "1       0.096254  0.095741  0.093984  0.094987  0.094734  0.095624  0.096341   \n",
       "2       0.096051  0.095856  0.094184  0.095052  0.094622  0.095341  0.096013   \n",
       "3       0.096105  0.096176  0.094366  0.095133  0.094268  0.094989  0.096154   \n",
       "4       0.097594  0.097368  0.096698  0.097357  0.097000  0.097519  0.097690   \n",
       "...          ...       ...       ...       ...       ...       ...       ...   \n",
       "392937       NaN       NaN       NaN       NaN       NaN       NaN       NaN   \n",
       "392938       NaN       NaN       NaN       NaN       NaN       NaN       NaN   \n",
       "392939       NaN       NaN       NaN       NaN       NaN       NaN       NaN   \n",
       "392940       NaN       NaN       NaN       NaN       NaN       NaN       NaN   \n",
       "392941       NaN       NaN       NaN       NaN       NaN       NaN       NaN   \n",
       "\n",
       "               7         8         9  ...       596       597       598  \\\n",
       "0       0.094676  0.092954  0.087422  ...  0.091390  0.093647  0.092394   \n",
       "1       0.094194  0.094013  0.090318  ...  0.090890  0.093912  0.095730   \n",
       "2       0.093443  0.093455  0.090354  ...  0.090482  0.093687  0.098057   \n",
       "3       0.094638  0.094929  0.091745  ...  0.089782  0.092512  0.097421   \n",
       "4       0.095452  0.095581  0.093334  ...  0.090129  0.094535  0.097890   \n",
       "...          ...       ...       ...  ...       ...       ...       ...   \n",
       "392937       NaN       NaN       NaN  ...       NaN       NaN       NaN   \n",
       "392938       NaN       NaN       NaN  ...       NaN       NaN       NaN   \n",
       "392939       NaN       NaN       NaN  ...       NaN       NaN       NaN   \n",
       "392940       NaN       NaN       NaN  ...       NaN       NaN       NaN   \n",
       "392941       NaN       NaN       NaN  ...       NaN       NaN       NaN   \n",
       "\n",
       "             599       600       601       602       603       604       605  \n",
       "0       0.091535  0.094791  0.092024  0.093305  0.092528  0.092425  0.093018  \n",
       "1       0.094346  0.094643  0.092596  0.092845  0.092276  0.092117  0.092221  \n",
       "2       0.096802  0.094756  0.092340  0.093196  0.092053  0.092303  0.092216  \n",
       "3       0.096556  0.095320  0.093426  0.094727  0.091789  0.093443  0.093311  \n",
       "4       0.096124  0.093878  0.092701  0.093608  0.092475  0.092074  0.092106  \n",
       "...          ...       ...       ...       ...       ...       ...       ...  \n",
       "392937       NaN       NaN       NaN       NaN       NaN       NaN       NaN  \n",
       "392938       NaN       NaN       NaN       NaN       NaN       NaN       NaN  \n",
       "392939       NaN       NaN       NaN       NaN       NaN       NaN       NaN  \n",
       "392940       NaN       NaN       NaN       NaN       NaN       NaN       NaN  \n",
       "392941       NaN       NaN       NaN       NaN       NaN       NaN       NaN  \n",
       "\n",
       "[392942 rows x 606 columns]"
      ]
     },
     "execution_count": 12,
     "metadata": {},
     "output_type": "execute_result"
    }
   ],
   "source": [
    "ndvi_table1"
   ]
  },
  {
   "cell_type": "code",
   "execution_count": 13,
   "metadata": {},
   "outputs": [],
   "source": [
    "ndvi_tableT = ndvi_table1.T"
   ]
  },
  {
   "cell_type": "code",
   "execution_count": 14,
   "metadata": {},
   "outputs": [],
   "source": [
    "ndvi_tableT.reset_index(inplace=True, drop=True)"
   ]
  },
  {
   "cell_type": "code",
   "execution_count": 55,
   "metadata": {},
   "outputs": [],
   "source": [
    "ndvi_table1.columns = dekads"
   ]
  },
  {
   "cell_type": "code",
   "execution_count": 56,
   "metadata": {},
   "outputs": [
    {
     "data": {
      "text/html": [
       "<div>\n",
       "<style scoped>\n",
       "    .dataframe tbody tr th:only-of-type {\n",
       "        vertical-align: middle;\n",
       "    }\n",
       "\n",
       "    .dataframe tbody tr th {\n",
       "        vertical-align: top;\n",
       "    }\n",
       "\n",
       "    .dataframe thead th {\n",
       "        text-align: right;\n",
       "    }\n",
       "</style>\n",
       "<table border=\"1\" class=\"dataframe\">\n",
       "  <thead>\n",
       "    <tr style=\"text-align: right;\">\n",
       "      <th></th>\n",
       "      <th>2002-07-01</th>\n",
       "      <th>2002-07-11</th>\n",
       "      <th>2002-07-21</th>\n",
       "      <th>2002-08-01</th>\n",
       "      <th>2002-08-11</th>\n",
       "      <th>2002-08-21</th>\n",
       "      <th>2002-09-01</th>\n",
       "      <th>2002-09-11</th>\n",
       "      <th>2002-09-21</th>\n",
       "      <th>2002-10-01</th>\n",
       "      <th>...</th>\n",
       "      <th>2019-01-21</th>\n",
       "      <th>2019-02-01</th>\n",
       "      <th>2019-02-11</th>\n",
       "      <th>2019-02-21</th>\n",
       "      <th>2019-03-01</th>\n",
       "      <th>2019-03-11</th>\n",
       "      <th>2019-03-21</th>\n",
       "      <th>2019-04-01</th>\n",
       "      <th>2019-04-11</th>\n",
       "      <th>2019-04-21</th>\n",
       "    </tr>\n",
       "  </thead>\n",
       "  <tbody>\n",
       "    <tr>\n",
       "      <td>0</td>\n",
       "      <td>0.095659</td>\n",
       "      <td>0.095168</td>\n",
       "      <td>0.093700</td>\n",
       "      <td>0.095405</td>\n",
       "      <td>0.095129</td>\n",
       "      <td>0.096133</td>\n",
       "      <td>0.096523</td>\n",
       "      <td>0.094676</td>\n",
       "      <td>0.092954</td>\n",
       "      <td>0.087422</td>\n",
       "      <td>...</td>\n",
       "      <td>0.091390</td>\n",
       "      <td>0.093647</td>\n",
       "      <td>0.092394</td>\n",
       "      <td>0.091535</td>\n",
       "      <td>0.094791</td>\n",
       "      <td>0.092024</td>\n",
       "      <td>0.093305</td>\n",
       "      <td>0.092528</td>\n",
       "      <td>0.092425</td>\n",
       "      <td>0.093018</td>\n",
       "    </tr>\n",
       "    <tr>\n",
       "      <td>1</td>\n",
       "      <td>0.096254</td>\n",
       "      <td>0.095741</td>\n",
       "      <td>0.093984</td>\n",
       "      <td>0.094987</td>\n",
       "      <td>0.094734</td>\n",
       "      <td>0.095624</td>\n",
       "      <td>0.096341</td>\n",
       "      <td>0.094194</td>\n",
       "      <td>0.094013</td>\n",
       "      <td>0.090318</td>\n",
       "      <td>...</td>\n",
       "      <td>0.090890</td>\n",
       "      <td>0.093912</td>\n",
       "      <td>0.095730</td>\n",
       "      <td>0.094346</td>\n",
       "      <td>0.094643</td>\n",
       "      <td>0.092596</td>\n",
       "      <td>0.092845</td>\n",
       "      <td>0.092276</td>\n",
       "      <td>0.092117</td>\n",
       "      <td>0.092221</td>\n",
       "    </tr>\n",
       "    <tr>\n",
       "      <td>2</td>\n",
       "      <td>0.096051</td>\n",
       "      <td>0.095856</td>\n",
       "      <td>0.094184</td>\n",
       "      <td>0.095052</td>\n",
       "      <td>0.094622</td>\n",
       "      <td>0.095341</td>\n",
       "      <td>0.096013</td>\n",
       "      <td>0.093443</td>\n",
       "      <td>0.093455</td>\n",
       "      <td>0.090354</td>\n",
       "      <td>...</td>\n",
       "      <td>0.090482</td>\n",
       "      <td>0.093687</td>\n",
       "      <td>0.098057</td>\n",
       "      <td>0.096802</td>\n",
       "      <td>0.094756</td>\n",
       "      <td>0.092340</td>\n",
       "      <td>0.093196</td>\n",
       "      <td>0.092053</td>\n",
       "      <td>0.092303</td>\n",
       "      <td>0.092216</td>\n",
       "    </tr>\n",
       "    <tr>\n",
       "      <td>3</td>\n",
       "      <td>0.096105</td>\n",
       "      <td>0.096176</td>\n",
       "      <td>0.094366</td>\n",
       "      <td>0.095133</td>\n",
       "      <td>0.094268</td>\n",
       "      <td>0.094989</td>\n",
       "      <td>0.096154</td>\n",
       "      <td>0.094638</td>\n",
       "      <td>0.094929</td>\n",
       "      <td>0.091745</td>\n",
       "      <td>...</td>\n",
       "      <td>0.089782</td>\n",
       "      <td>0.092512</td>\n",
       "      <td>0.097421</td>\n",
       "      <td>0.096556</td>\n",
       "      <td>0.095320</td>\n",
       "      <td>0.093426</td>\n",
       "      <td>0.094727</td>\n",
       "      <td>0.091789</td>\n",
       "      <td>0.093443</td>\n",
       "      <td>0.093311</td>\n",
       "    </tr>\n",
       "    <tr>\n",
       "      <td>4</td>\n",
       "      <td>0.097594</td>\n",
       "      <td>0.097368</td>\n",
       "      <td>0.096698</td>\n",
       "      <td>0.097357</td>\n",
       "      <td>0.097000</td>\n",
       "      <td>0.097519</td>\n",
       "      <td>0.097690</td>\n",
       "      <td>0.095452</td>\n",
       "      <td>0.095581</td>\n",
       "      <td>0.093334</td>\n",
       "      <td>...</td>\n",
       "      <td>0.090129</td>\n",
       "      <td>0.094535</td>\n",
       "      <td>0.097890</td>\n",
       "      <td>0.096124</td>\n",
       "      <td>0.093878</td>\n",
       "      <td>0.092701</td>\n",
       "      <td>0.093608</td>\n",
       "      <td>0.092475</td>\n",
       "      <td>0.092074</td>\n",
       "      <td>0.092106</td>\n",
       "    </tr>\n",
       "    <tr>\n",
       "      <td>...</td>\n",
       "      <td>...</td>\n",
       "      <td>...</td>\n",
       "      <td>...</td>\n",
       "      <td>...</td>\n",
       "      <td>...</td>\n",
       "      <td>...</td>\n",
       "      <td>...</td>\n",
       "      <td>...</td>\n",
       "      <td>...</td>\n",
       "      <td>...</td>\n",
       "      <td>...</td>\n",
       "      <td>...</td>\n",
       "      <td>...</td>\n",
       "      <td>...</td>\n",
       "      <td>...</td>\n",
       "      <td>...</td>\n",
       "      <td>...</td>\n",
       "      <td>...</td>\n",
       "      <td>...</td>\n",
       "      <td>...</td>\n",
       "      <td>...</td>\n",
       "    </tr>\n",
       "    <tr>\n",
       "      <td>392937</td>\n",
       "      <td>NaN</td>\n",
       "      <td>NaN</td>\n",
       "      <td>NaN</td>\n",
       "      <td>NaN</td>\n",
       "      <td>NaN</td>\n",
       "      <td>NaN</td>\n",
       "      <td>NaN</td>\n",
       "      <td>NaN</td>\n",
       "      <td>NaN</td>\n",
       "      <td>NaN</td>\n",
       "      <td>...</td>\n",
       "      <td>NaN</td>\n",
       "      <td>NaN</td>\n",
       "      <td>NaN</td>\n",
       "      <td>NaN</td>\n",
       "      <td>NaN</td>\n",
       "      <td>NaN</td>\n",
       "      <td>NaN</td>\n",
       "      <td>NaN</td>\n",
       "      <td>NaN</td>\n",
       "      <td>NaN</td>\n",
       "    </tr>\n",
       "    <tr>\n",
       "      <td>392938</td>\n",
       "      <td>NaN</td>\n",
       "      <td>NaN</td>\n",
       "      <td>NaN</td>\n",
       "      <td>NaN</td>\n",
       "      <td>NaN</td>\n",
       "      <td>NaN</td>\n",
       "      <td>NaN</td>\n",
       "      <td>NaN</td>\n",
       "      <td>NaN</td>\n",
       "      <td>NaN</td>\n",
       "      <td>...</td>\n",
       "      <td>NaN</td>\n",
       "      <td>NaN</td>\n",
       "      <td>NaN</td>\n",
       "      <td>NaN</td>\n",
       "      <td>NaN</td>\n",
       "      <td>NaN</td>\n",
       "      <td>NaN</td>\n",
       "      <td>NaN</td>\n",
       "      <td>NaN</td>\n",
       "      <td>NaN</td>\n",
       "    </tr>\n",
       "    <tr>\n",
       "      <td>392939</td>\n",
       "      <td>NaN</td>\n",
       "      <td>NaN</td>\n",
       "      <td>NaN</td>\n",
       "      <td>NaN</td>\n",
       "      <td>NaN</td>\n",
       "      <td>NaN</td>\n",
       "      <td>NaN</td>\n",
       "      <td>NaN</td>\n",
       "      <td>NaN</td>\n",
       "      <td>NaN</td>\n",
       "      <td>...</td>\n",
       "      <td>NaN</td>\n",
       "      <td>NaN</td>\n",
       "      <td>NaN</td>\n",
       "      <td>NaN</td>\n",
       "      <td>NaN</td>\n",
       "      <td>NaN</td>\n",
       "      <td>NaN</td>\n",
       "      <td>NaN</td>\n",
       "      <td>NaN</td>\n",
       "      <td>NaN</td>\n",
       "    </tr>\n",
       "    <tr>\n",
       "      <td>392940</td>\n",
       "      <td>NaN</td>\n",
       "      <td>NaN</td>\n",
       "      <td>NaN</td>\n",
       "      <td>NaN</td>\n",
       "      <td>NaN</td>\n",
       "      <td>NaN</td>\n",
       "      <td>NaN</td>\n",
       "      <td>NaN</td>\n",
       "      <td>NaN</td>\n",
       "      <td>NaN</td>\n",
       "      <td>...</td>\n",
       "      <td>NaN</td>\n",
       "      <td>NaN</td>\n",
       "      <td>NaN</td>\n",
       "      <td>NaN</td>\n",
       "      <td>NaN</td>\n",
       "      <td>NaN</td>\n",
       "      <td>NaN</td>\n",
       "      <td>NaN</td>\n",
       "      <td>NaN</td>\n",
       "      <td>NaN</td>\n",
       "    </tr>\n",
       "    <tr>\n",
       "      <td>392941</td>\n",
       "      <td>NaN</td>\n",
       "      <td>NaN</td>\n",
       "      <td>NaN</td>\n",
       "      <td>NaN</td>\n",
       "      <td>NaN</td>\n",
       "      <td>NaN</td>\n",
       "      <td>NaN</td>\n",
       "      <td>NaN</td>\n",
       "      <td>NaN</td>\n",
       "      <td>NaN</td>\n",
       "      <td>...</td>\n",
       "      <td>NaN</td>\n",
       "      <td>NaN</td>\n",
       "      <td>NaN</td>\n",
       "      <td>NaN</td>\n",
       "      <td>NaN</td>\n",
       "      <td>NaN</td>\n",
       "      <td>NaN</td>\n",
       "      <td>NaN</td>\n",
       "      <td>NaN</td>\n",
       "      <td>NaN</td>\n",
       "    </tr>\n",
       "  </tbody>\n",
       "</table>\n",
       "<p>392942 rows × 606 columns</p>\n",
       "</div>"
      ],
      "text/plain": [
       "        2002-07-01  2002-07-11  2002-07-21  2002-08-01  2002-08-11  \\\n",
       "0         0.095659    0.095168    0.093700    0.095405    0.095129   \n",
       "1         0.096254    0.095741    0.093984    0.094987    0.094734   \n",
       "2         0.096051    0.095856    0.094184    0.095052    0.094622   \n",
       "3         0.096105    0.096176    0.094366    0.095133    0.094268   \n",
       "4         0.097594    0.097368    0.096698    0.097357    0.097000   \n",
       "...            ...         ...         ...         ...         ...   \n",
       "392937         NaN         NaN         NaN         NaN         NaN   \n",
       "392938         NaN         NaN         NaN         NaN         NaN   \n",
       "392939         NaN         NaN         NaN         NaN         NaN   \n",
       "392940         NaN         NaN         NaN         NaN         NaN   \n",
       "392941         NaN         NaN         NaN         NaN         NaN   \n",
       "\n",
       "        2002-08-21  2002-09-01  2002-09-11  2002-09-21  2002-10-01  ...  \\\n",
       "0         0.096133    0.096523    0.094676    0.092954    0.087422  ...   \n",
       "1         0.095624    0.096341    0.094194    0.094013    0.090318  ...   \n",
       "2         0.095341    0.096013    0.093443    0.093455    0.090354  ...   \n",
       "3         0.094989    0.096154    0.094638    0.094929    0.091745  ...   \n",
       "4         0.097519    0.097690    0.095452    0.095581    0.093334  ...   \n",
       "...            ...         ...         ...         ...         ...  ...   \n",
       "392937         NaN         NaN         NaN         NaN         NaN  ...   \n",
       "392938         NaN         NaN         NaN         NaN         NaN  ...   \n",
       "392939         NaN         NaN         NaN         NaN         NaN  ...   \n",
       "392940         NaN         NaN         NaN         NaN         NaN  ...   \n",
       "392941         NaN         NaN         NaN         NaN         NaN  ...   \n",
       "\n",
       "        2019-01-21  2019-02-01  2019-02-11  2019-02-21  2019-03-01  \\\n",
       "0         0.091390    0.093647    0.092394    0.091535    0.094791   \n",
       "1         0.090890    0.093912    0.095730    0.094346    0.094643   \n",
       "2         0.090482    0.093687    0.098057    0.096802    0.094756   \n",
       "3         0.089782    0.092512    0.097421    0.096556    0.095320   \n",
       "4         0.090129    0.094535    0.097890    0.096124    0.093878   \n",
       "...            ...         ...         ...         ...         ...   \n",
       "392937         NaN         NaN         NaN         NaN         NaN   \n",
       "392938         NaN         NaN         NaN         NaN         NaN   \n",
       "392939         NaN         NaN         NaN         NaN         NaN   \n",
       "392940         NaN         NaN         NaN         NaN         NaN   \n",
       "392941         NaN         NaN         NaN         NaN         NaN   \n",
       "\n",
       "        2019-03-11  2019-03-21  2019-04-01  2019-04-11  2019-04-21  \n",
       "0         0.092024    0.093305    0.092528    0.092425    0.093018  \n",
       "1         0.092596    0.092845    0.092276    0.092117    0.092221  \n",
       "2         0.092340    0.093196    0.092053    0.092303    0.092216  \n",
       "3         0.093426    0.094727    0.091789    0.093443    0.093311  \n",
       "4         0.092701    0.093608    0.092475    0.092074    0.092106  \n",
       "...            ...         ...         ...         ...         ...  \n",
       "392937         NaN         NaN         NaN         NaN         NaN  \n",
       "392938         NaN         NaN         NaN         NaN         NaN  \n",
       "392939         NaN         NaN         NaN         NaN         NaN  \n",
       "392940         NaN         NaN         NaN         NaN         NaN  \n",
       "392941         NaN         NaN         NaN         NaN         NaN  \n",
       "\n",
       "[392942 rows x 606 columns]"
      ]
     },
     "execution_count": 56,
     "metadata": {},
     "output_type": "execute_result"
    }
   ],
   "source": [
    "ndvi_table1"
   ]
  },
  {
   "cell_type": "code",
   "execution_count": 17,
   "metadata": {},
   "outputs": [],
   "source": [
    "crop_rain_pixels = list(lc_pixels_skill[lc_pixels_skill.LC == 'cropland_rainfed']['pixel_id'])"
   ]
  },
  {
   "cell_type": "code",
   "execution_count": 37,
   "metadata": {},
   "outputs": [],
   "source": [
    "ndvi_crop_rain_sample = ndvi_tableT[crop_rain_pixels[:100]]\n"
   ]
  },
  {
   "cell_type": "code",
   "execution_count": 41,
   "metadata": {},
   "outputs": [],
   "source": [
    "ndvi_crop_rain_sample.to_csv('/home/rgreen/DroughtEDM/Data/sample_data/ndvi_crop_rain_sample.csv', index=False)"
   ]
  },
  {
   "cell_type": "code",
   "execution_count": 31,
   "metadata": {},
   "outputs": [],
   "source": [
    "precip_tableT = precip_table.T\n",
    "temp_tableT = temp_table.T"
   ]
  },
  {
   "cell_type": "code",
   "execution_count": 32,
   "metadata": {},
   "outputs": [],
   "source": [
    "precip_tableT.reset_index(inplace=True, drop=True)"
   ]
  },
  {
   "cell_type": "code",
   "execution_count": 33,
   "metadata": {},
   "outputs": [],
   "source": [
    "temp_tableT.reset_index(inplace=True, drop=True)"
   ]
  },
  {
   "cell_type": "code",
   "execution_count": 39,
   "metadata": {},
   "outputs": [],
   "source": [
    "precip_crop_rain_sample = precip_tableT[crop_rain_pixels[:100]]\n",
    "temp_crop_rain_sample = temp_tableT[crop_rain_pixels[:100]]"
   ]
  },
  {
   "cell_type": "code",
   "execution_count": null,
   "metadata": {},
   "outputs": [],
   "source": []
  },
  {
   "cell_type": "code",
   "execution_count": 42,
   "metadata": {},
   "outputs": [],
   "source": [
    "precip_crop_rain_sample.to_csv('/home/rgreen/DroughtEDM/Data/sample_data/precip_crop_rain_sample.csv', index=False)\n",
    "temp_crop_rain_sample.to_csv('/home/rgreen/DroughtEDM/Data/sample_data/temp_crop_rain_sample.csv', index=False)\n"
   ]
  },
  {
   "cell_type": "code",
   "execution_count": 53,
   "metadata": {},
   "outputs": [],
   "source": [
    "def generate_dekads(start, end):\n",
    "    '''\n",
    "    Generates list of timestamps of dekads between two dates\n",
    "    \n",
    "    Parameters\n",
    "    ----------\n",
    "    start : pd.datetime object\n",
    "        Start date of list\n",
    "    end : pd.datetime object\n",
    "        end date of list\n",
    "    '''\n",
    "    \n",
    "    dtrange = pd.date_range(start, end)\n",
    "    days = list(range(len(dtrange))) #length of dtrange\n",
    "    daysDF = pd.DataFrame({'Days': days}, index=dtrange)\n",
    "    d = daysDF.index.day - np.clip((daysDF.index.day-1) // 10, 0, 2)*10 - 1 \n",
    "    dekaddates = daysDF.index.values - np.array(d, dtype=\"timedelta64[D]\")\n",
    "    dekads = daysDF.groupby(dekaddates).mean()\n",
    "    dekads = dekads.index\n",
    "    \n",
    "    return dekads"
   ]
  },
  {
   "cell_type": "code",
   "execution_count": 54,
   "metadata": {},
   "outputs": [],
   "source": [
    "start = pd.datetime(2002,7,1)\n",
    "end = pd.datetime(2019,4,30)\n",
    "\n",
    "dekads = generate_dekads(start, end)"
   ]
  },
  {
   "cell_type": "code",
   "execution_count": 764,
   "metadata": {},
   "outputs": [],
   "source": [
    "ndvi_tableT.insert(0,'Time',dekads)\n",
    "#ndvi_tableT.set_index('Time', inplace=True)"
   ]
  },
  {
   "cell_type": "code",
   "execution_count": null,
   "metadata": {},
   "outputs": [],
   "source": []
  },
  {
   "cell_type": "code",
   "execution_count": 765,
   "metadata": {},
   "outputs": [],
   "source": [
    "def stack_rasters(in_dir, keyword):\n",
    "    \n",
    "    '''\n",
    "    This function creates a raster stack xarray DataArray given a specified variable keyword.\n",
    "    Keywords = 'precip', 'ndvi','lst'\n",
    "    \n",
    "    '''\n",
    "    \n",
    "    files=np.array(sorted(os.listdir(in_dir)))\n",
    "    tifs = pd.Series(files).str.contains('.tif')\n",
    "    files = files[tifs]\n",
    "    \n",
    "    stacked = []\n",
    "    \n",
    "    for filename in tqdm(files): \n",
    "        if keyword in filename:\n",
    "    \n",
    "            file = xr.open_rasterio(in_dir+filename)\n",
    "            stacked.append(file.sel(band=1))\n",
    "            \n",
    "    combined = xr.concat(stacked, dim = 'time')\n",
    "  \n",
    "\n",
    "    return combined.assign_coords(time=dekads)"
   ]
  },
  {
   "cell_type": "code",
   "execution_count": 766,
   "metadata": {},
   "outputs": [],
   "source": [
    "precip_ea = '/home/rgreen/tana-spin/rgreen/DroughtEDM/Data/CHIRPS/EA/'\n",
    "temp_ea = '/home/rgreen/tana-spin/rgreen/DroughtEDM/Data/LST/EA/'\n",
    "ndvi_ea = '/home/rgreen/tana-spin/rgreen/DroughtEDM/Data/eMODIS_NDVI/EA/'"
   ]
  },
  {
   "cell_type": "code",
   "execution_count": 767,
   "metadata": {},
   "outputs": [
    {
     "name": "stderr",
     "output_type": "stream",
     "text": [
      "100%|██████████| 606/606 [00:09<00:00, 63.21it/s]\n"
     ]
    }
   ],
   "source": [
    "stack_out = stack_rasters(ndvi_ea, 'ndvi')"
   ]
  },
  {
   "cell_type": "code",
   "execution_count": 164,
   "metadata": {},
   "outputs": [
    {
     "name": "stderr",
     "output_type": "stream",
     "text": [
      "100%|██████████| 606/606 [00:07<00:00, 80.65it/s]\n"
     ]
    }
   ],
   "source": [
    "precip_stack = stack_rasters(precip_ea, 'precip')"
   ]
  },
  {
   "cell_type": "code",
   "execution_count": 166,
   "metadata": {},
   "outputs": [
    {
     "name": "stderr",
     "output_type": "stream",
     "text": [
      "100%|██████████| 606/606 [00:08<00:00, 69.83it/s]\n"
     ]
    }
   ],
   "source": [
    "temp_stack = stack_rasters(temp_ea, 'temp')"
   ]
  },
  {
   "cell_type": "code",
   "execution_count": 768,
   "metadata": {},
   "outputs": [],
   "source": [
    "ndvi_stack = (stack_out-100)/100"
   ]
  },
  {
   "cell_type": "code",
   "execution_count": 769,
   "metadata": {},
   "outputs": [],
   "source": [
    "ndvi_month_day_str = xr.DataArray(ndvi_stack.indexes['time'].strftime('%m-%d'), coords=[ndvi_stack.time], \n",
    "                             name='month_day_str')"
   ]
  },
  {
   "cell_type": "code",
   "execution_count": 167,
   "metadata": {},
   "outputs": [],
   "source": [
    "precip_month_day_str = xr.DataArray(precip_stack.indexes['time'].strftime('%m-%d'), coords=[precip_stack.time], \n",
    "                             name='month_day_str')"
   ]
  },
  {
   "cell_type": "code",
   "execution_count": 171,
   "metadata": {},
   "outputs": [],
   "source": [
    "temp_month_day_str = xr.DataArray(temp_stack.indexes['time'].strftime('%m-%d'), coords=[temp_stack.time], \n",
    "                             name='month_day_str')"
   ]
  },
  {
   "cell_type": "code",
   "execution_count": 773,
   "metadata": {},
   "outputs": [
    {
     "name": "stderr",
     "output_type": "stream",
     "text": [
      "/home/rgreen/miniconda3/envs/edm/lib/python3.7/site-packages/xarray/core/nanops.py:140: RuntimeWarning: Mean of empty slice\n",
      "  return np.nanmean(a, axis=axis, dtype=dtype)\n"
     ]
    }
   ],
   "source": [
    "ndvi_anom = ndvi_stack.groupby(ndvi_month_day_str) - ndvi_stack.groupby(ndvi_month_day_str).mean('time')"
   ]
  },
  {
   "cell_type": "code",
   "execution_count": 169,
   "metadata": {},
   "outputs": [
    {
     "name": "stderr",
     "output_type": "stream",
     "text": [
      "/home/rgreen/miniconda3/envs/edm/lib/python3.7/site-packages/xarray/core/nanops.py:140: RuntimeWarning: Mean of empty slice\n",
      "  return np.nanmean(a, axis=axis, dtype=dtype)\n"
     ]
    }
   ],
   "source": [
    "precip_anom = precip_stack.groupby(precip_month_day_str) - precip_stack.groupby(precip_month_day_str).mean('time')\n"
   ]
  },
  {
   "cell_type": "code",
   "execution_count": 172,
   "metadata": {},
   "outputs": [
    {
     "name": "stderr",
     "output_type": "stream",
     "text": [
      "/home/rgreen/miniconda3/envs/edm/lib/python3.7/site-packages/xarray/core/nanops.py:140: RuntimeWarning: Mean of empty slice\n",
      "  return np.nanmean(a, axis=axis, dtype=dtype)\n"
     ]
    }
   ],
   "source": [
    "temp_anom = temp_stack.groupby(temp_month_day_str) - temp_stack.groupby(temp_month_day_str).mean('time')\n"
   ]
  },
  {
   "cell_type": "code",
   "execution_count": 775,
   "metadata": {},
   "outputs": [
    {
     "name": "stderr",
     "output_type": "stream",
     "text": [
      "/home/rgreen/miniconda3/envs/edm/lib/python3.7/site-packages/xarray/core/nanops.py:140: RuntimeWarning: Mean of empty slice\n",
      "  return np.nanmean(a, axis=axis, dtype=dtype)\n"
     ]
    }
   ],
   "source": [
    "ndvi_mean_dek = ndvi_stack.groupby(ndvi_month_day_str).mean('time')"
   ]
  },
  {
   "cell_type": "code",
   "execution_count": 173,
   "metadata": {},
   "outputs": [
    {
     "name": "stderr",
     "output_type": "stream",
     "text": [
      "/home/rgreen/miniconda3/envs/edm/lib/python3.7/site-packages/xarray/core/nanops.py:140: RuntimeWarning: Mean of empty slice\n",
      "  return np.nanmean(a, axis=axis, dtype=dtype)\n"
     ]
    }
   ],
   "source": [
    "precip_mean_dek = precip_stack.groupby(precip_month_day_str).mean('time')"
   ]
  },
  {
   "cell_type": "code",
   "execution_count": 175,
   "metadata": {},
   "outputs": [],
   "source": [
    "temp_mean_dek = temp_stack.groupby(temp_month_day_str).mean('time')"
   ]
  },
  {
   "cell_type": "code",
   "execution_count": 176,
   "metadata": {},
   "outputs": [],
   "source": [
    "def dataarray2tiff(dataarray, in_dir, out_dir, out_name):\n",
    "    \n",
    "    '''\n",
    "    This function converts a 2D xarray DataArray into a tif using the profile of an existing tif\n",
    "\n",
    "    '''\n",
    "    \n",
    "\n",
    "    with rasterio.open(in_dir+ os.listdir(in_dir)[0]) as src:\n",
    "        profile = src.profile\n",
    "        \n",
    "    for i in np.arange(0,len(os.listdir(in_dir))):\n",
    "        data = np.array(dataarray[i])\n",
    "        \n",
    "       \n",
    "        with rasterio.open(out_dir + out_name + str(np.array(dataarray[i].time))[:10] + '.tif', 'w', **profile) as dst:\n",
    "            \n",
    "            data = data.astype(np.float32)\n",
    "            dst.write(data, indexes = 1)"
   ]
  },
  {
   "cell_type": "code",
   "execution_count": 177,
   "metadata": {},
   "outputs": [],
   "source": [
    "def dek_dataarray2tiff(dataarray, in_dir, out_dir, out_name):\n",
    "    \n",
    "    '''\n",
    "    This function converts a 2D xarray DataArray into a tif using the profile of an existing tif\n",
    "\n",
    "    '''\n",
    "    \n",
    "\n",
    "    with rasterio.open(in_dir+ os.listdir(in_dir)[0]) as src:\n",
    "        profile = src.profile\n",
    "        \n",
    "    for i in np.arange(0,len(os.listdir(in_dir))):\n",
    "        data = np.array(dataarray[i])\n",
    "        \n",
    "       \n",
    "        with rasterio.open(out_dir + out_name + str(np.array(dataarray[i].month_day_str)) + '.tif', 'w', **profile) as dst:\n",
    "            \n",
    "            data = data.astype(np.float32)\n",
    "            dst.write(data, indexes = 1)"
   ]
  },
  {
   "cell_type": "code",
   "execution_count": null,
   "metadata": {},
   "outputs": [],
   "source": [
    "dataarray2tiff(ndvi_anom, ndvi_ea, ndvi_anom_dek_dir, 'anom_dek_ea_ndvi_')"
   ]
  },
  {
   "cell_type": "code",
   "execution_count": 178,
   "metadata": {},
   "outputs": [],
   "source": [
    "dataarray2tiff(precip_anom, precip_ea, precip_anom_dek_dir, 'anom_dek_ea_precip_')"
   ]
  },
  {
   "cell_type": "code",
   "execution_count": null,
   "metadata": {},
   "outputs": [],
   "source": [
    "dataarray2tiff(temp_anom, temp_ea,temp_anom_dek_dir, 'anom_dek_ea_temp_')"
   ]
  },
  {
   "cell_type": "code",
   "execution_count": null,
   "metadata": {},
   "outputs": [],
   "source": [
    "dek_dataarray2tiff(ndvi_mean_dek, ndvi_ea, ndvi_mean_dek_dir, 'mean_dek_ea_ndvi_')"
   ]
  },
  {
   "cell_type": "code",
   "execution_count": null,
   "metadata": {},
   "outputs": [],
   "source": [
    "dek_dataarray2tiff(precip_mean_dek, precip_ea, precip_mean_dek_dir, 'mean_dek_ea_precip_')"
   ]
  },
  {
   "cell_type": "code",
   "execution_count": null,
   "metadata": {},
   "outputs": [],
   "source": [
    "dek_dataarray2tiff(temp_mean_dek, temp_ea, temp_mean_dek_dir, 'mean_dek_ea_temp_')"
   ]
  },
  {
   "cell_type": "code",
   "execution_count": 43,
   "metadata": {},
   "outputs": [],
   "source": [
    "def pixelwise_ts_table(in_dir, keyword):\n",
    "    \n",
    "    '''\n",
    "    This function searches through the file directory and creates a dataframe of pixel values over time from rasters\n",
    "    based on a given keyword describing the environmental variable of interest to generate a raster time series stack \n",
    "    \n",
    "   In the output dataframe, columns are each pixel extracted from the raster (read squentially into a list)\n",
    "   and rows are the same pixel over time (dekads going down)\n",
    "    \n",
    "    Args:\n",
    "    - in_dir: path to the input directory\n",
    "    -keyword: string that is unique to the environmental variable\n",
    "        options: ['precip', 'temp', 'ndvi']\n",
    "    '''\n",
    "    \n",
    "    \n",
    "    files=np.array(sorted(os.listdir(in_dir)))\n",
    "    tifs = pd.Series(files).str.contains(keyword)\n",
    "    files = files[tifs]\n",
    "    \n",
    "    pixelwise_TS = []\n",
    "    \n",
    "    for filename in tqdm(files): \n",
    "        \n",
    "        \n",
    "            open_file = xr.open_rasterio(in_dir+filename).sel(band=1)\n",
    "            array = open_file.values\n",
    "           \n",
    "            pixel_list = array.ravel().tolist()\n",
    "            \n",
    "            pixelwise_TS.append(pixel_list)\n",
    "\n",
    "    return pd.DataFrame(pixelwise_TS)"
   ]
  },
  {
   "cell_type": "code",
   "execution_count": 44,
   "metadata": {},
   "outputs": [
    {
     "name": "stderr",
     "output_type": "stream",
     "text": [
      "100%|██████████| 36/36 [00:01<00:00, 31.26it/s]\n"
     ]
    }
   ],
   "source": [
    "mean_dek_ndvi_table = pixelwise_ts_table(ndvi_mean_dek_dir, 'ndvi')"
   ]
  },
  {
   "cell_type": "code",
   "execution_count": 45,
   "metadata": {},
   "outputs": [
    {
     "name": "stderr",
     "output_type": "stream",
     "text": [
      "100%|██████████| 606/606 [00:17<00:00, 34.42it/s]\n"
     ]
    }
   ],
   "source": [
    "anom_dek_ndvi_table = pixelwise_ts_table(ndvi_anom_dek_dir, 'ndvi')"
   ]
  },
  {
   "cell_type": "code",
   "execution_count": 507,
   "metadata": {},
   "outputs": [
    {
     "data": {
      "text/html": [
       "<div>\n",
       "<style scoped>\n",
       "    .dataframe tbody tr th:only-of-type {\n",
       "        vertical-align: middle;\n",
       "    }\n",
       "\n",
       "    .dataframe tbody tr th {\n",
       "        vertical-align: top;\n",
       "    }\n",
       "\n",
       "    .dataframe thead th {\n",
       "        text-align: right;\n",
       "    }\n",
       "</style>\n",
       "<table border=\"1\" class=\"dataframe\">\n",
       "  <thead>\n",
       "    <tr style=\"text-align: right;\">\n",
       "      <th></th>\n",
       "      <th>0</th>\n",
       "      <th>1</th>\n",
       "      <th>2</th>\n",
       "      <th>3</th>\n",
       "      <th>4</th>\n",
       "      <th>5</th>\n",
       "      <th>6</th>\n",
       "      <th>7</th>\n",
       "      <th>8</th>\n",
       "      <th>9</th>\n",
       "      <th>...</th>\n",
       "      <th>392932</th>\n",
       "      <th>392933</th>\n",
       "      <th>392934</th>\n",
       "      <th>392935</th>\n",
       "      <th>392936</th>\n",
       "      <th>392937</th>\n",
       "      <th>392938</th>\n",
       "      <th>392939</th>\n",
       "      <th>392940</th>\n",
       "      <th>392941</th>\n",
       "    </tr>\n",
       "  </thead>\n",
       "  <tbody>\n",
       "    <tr>\n",
       "      <td>0</td>\n",
       "      <td>0.002090</td>\n",
       "      <td>0.001719</td>\n",
       "      <td>0.000929</td>\n",
       "      <td>0.001199</td>\n",
       "      <td>0.002210</td>\n",
       "      <td>0.001848</td>\n",
       "      <td>0.001273</td>\n",
       "      <td>0.001332</td>\n",
       "      <td>0.000395</td>\n",
       "      <td>0.001814</td>\n",
       "      <td>...</td>\n",
       "      <td>NaN</td>\n",
       "      <td>NaN</td>\n",
       "      <td>NaN</td>\n",
       "      <td>NaN</td>\n",
       "      <td>NaN</td>\n",
       "      <td>NaN</td>\n",
       "      <td>NaN</td>\n",
       "      <td>NaN</td>\n",
       "      <td>NaN</td>\n",
       "      <td>NaN</td>\n",
       "    </tr>\n",
       "    <tr>\n",
       "      <td>1</td>\n",
       "      <td>0.001620</td>\n",
       "      <td>0.001222</td>\n",
       "      <td>0.000761</td>\n",
       "      <td>0.001327</td>\n",
       "      <td>0.002090</td>\n",
       "      <td>0.001715</td>\n",
       "      <td>0.000730</td>\n",
       "      <td>0.000593</td>\n",
       "      <td>0.000337</td>\n",
       "      <td>0.001525</td>\n",
       "      <td>...</td>\n",
       "      <td>NaN</td>\n",
       "      <td>NaN</td>\n",
       "      <td>NaN</td>\n",
       "      <td>NaN</td>\n",
       "      <td>NaN</td>\n",
       "      <td>NaN</td>\n",
       "      <td>NaN</td>\n",
       "      <td>NaN</td>\n",
       "      <td>NaN</td>\n",
       "      <td>NaN</td>\n",
       "    </tr>\n",
       "    <tr>\n",
       "      <td>2</td>\n",
       "      <td>0.000468</td>\n",
       "      <td>-0.000280</td>\n",
       "      <td>-0.000790</td>\n",
       "      <td>-0.000281</td>\n",
       "      <td>0.001266</td>\n",
       "      <td>0.000356</td>\n",
       "      <td>-0.000126</td>\n",
       "      <td>-0.000452</td>\n",
       "      <td>-0.000443</td>\n",
       "      <td>0.000228</td>\n",
       "      <td>...</td>\n",
       "      <td>NaN</td>\n",
       "      <td>NaN</td>\n",
       "      <td>NaN</td>\n",
       "      <td>NaN</td>\n",
       "      <td>NaN</td>\n",
       "      <td>NaN</td>\n",
       "      <td>NaN</td>\n",
       "      <td>NaN</td>\n",
       "      <td>NaN</td>\n",
       "      <td>NaN</td>\n",
       "    </tr>\n",
       "    <tr>\n",
       "      <td>3</td>\n",
       "      <td>0.001923</td>\n",
       "      <td>0.001222</td>\n",
       "      <td>0.000771</td>\n",
       "      <td>0.001057</td>\n",
       "      <td>0.002374</td>\n",
       "      <td>0.001409</td>\n",
       "      <td>0.001240</td>\n",
       "      <td>0.000923</td>\n",
       "      <td>0.001186</td>\n",
       "      <td>0.002379</td>\n",
       "      <td>...</td>\n",
       "      <td>NaN</td>\n",
       "      <td>NaN</td>\n",
       "      <td>NaN</td>\n",
       "      <td>NaN</td>\n",
       "      <td>NaN</td>\n",
       "      <td>NaN</td>\n",
       "      <td>NaN</td>\n",
       "      <td>NaN</td>\n",
       "      <td>NaN</td>\n",
       "      <td>NaN</td>\n",
       "    </tr>\n",
       "    <tr>\n",
       "      <td>4</td>\n",
       "      <td>0.001227</td>\n",
       "      <td>0.000873</td>\n",
       "      <td>0.000226</td>\n",
       "      <td>0.000381</td>\n",
       "      <td>0.002086</td>\n",
       "      <td>0.001168</td>\n",
       "      <td>0.001155</td>\n",
       "      <td>0.001090</td>\n",
       "      <td>0.000791</td>\n",
       "      <td>0.000686</td>\n",
       "      <td>...</td>\n",
       "      <td>NaN</td>\n",
       "      <td>NaN</td>\n",
       "      <td>NaN</td>\n",
       "      <td>NaN</td>\n",
       "      <td>NaN</td>\n",
       "      <td>NaN</td>\n",
       "      <td>NaN</td>\n",
       "      <td>NaN</td>\n",
       "      <td>NaN</td>\n",
       "      <td>NaN</td>\n",
       "    </tr>\n",
       "    <tr>\n",
       "      <td>...</td>\n",
       "      <td>...</td>\n",
       "      <td>...</td>\n",
       "      <td>...</td>\n",
       "      <td>...</td>\n",
       "      <td>...</td>\n",
       "      <td>...</td>\n",
       "      <td>...</td>\n",
       "      <td>...</td>\n",
       "      <td>...</td>\n",
       "      <td>...</td>\n",
       "      <td>...</td>\n",
       "      <td>...</td>\n",
       "      <td>...</td>\n",
       "      <td>...</td>\n",
       "      <td>...</td>\n",
       "      <td>...</td>\n",
       "      <td>...</td>\n",
       "      <td>...</td>\n",
       "      <td>...</td>\n",
       "      <td>...</td>\n",
       "      <td>...</td>\n",
       "    </tr>\n",
       "    <tr>\n",
       "      <td>601</td>\n",
       "      <td>-0.000029</td>\n",
       "      <td>-0.000582</td>\n",
       "      <td>-0.001304</td>\n",
       "      <td>-0.000225</td>\n",
       "      <td>-0.001572</td>\n",
       "      <td>-0.001934</td>\n",
       "      <td>-0.000310</td>\n",
       "      <td>-0.000720</td>\n",
       "      <td>-0.002054</td>\n",
       "      <td>-0.001864</td>\n",
       "      <td>...</td>\n",
       "      <td>NaN</td>\n",
       "      <td>NaN</td>\n",
       "      <td>NaN</td>\n",
       "      <td>NaN</td>\n",
       "      <td>NaN</td>\n",
       "      <td>NaN</td>\n",
       "      <td>NaN</td>\n",
       "      <td>NaN</td>\n",
       "      <td>NaN</td>\n",
       "      <td>NaN</td>\n",
       "    </tr>\n",
       "    <tr>\n",
       "      <td>602</td>\n",
       "      <td>0.001225</td>\n",
       "      <td>-0.000446</td>\n",
       "      <td>-0.000956</td>\n",
       "      <td>0.000673</td>\n",
       "      <td>-0.001372</td>\n",
       "      <td>-0.001530</td>\n",
       "      <td>-0.000562</td>\n",
       "      <td>-0.000632</td>\n",
       "      <td>-0.001026</td>\n",
       "      <td>-0.000313</td>\n",
       "      <td>...</td>\n",
       "      <td>NaN</td>\n",
       "      <td>NaN</td>\n",
       "      <td>NaN</td>\n",
       "      <td>NaN</td>\n",
       "      <td>NaN</td>\n",
       "      <td>NaN</td>\n",
       "      <td>NaN</td>\n",
       "      <td>NaN</td>\n",
       "      <td>NaN</td>\n",
       "      <td>NaN</td>\n",
       "    </tr>\n",
       "    <tr>\n",
       "      <td>603</td>\n",
       "      <td>-0.000006</td>\n",
       "      <td>-0.001541</td>\n",
       "      <td>-0.002692</td>\n",
       "      <td>-0.002754</td>\n",
       "      <td>-0.003059</td>\n",
       "      <td>-0.002933</td>\n",
       "      <td>-0.001606</td>\n",
       "      <td>-0.001076</td>\n",
       "      <td>0.000083</td>\n",
       "      <td>0.000554</td>\n",
       "      <td>...</td>\n",
       "      <td>NaN</td>\n",
       "      <td>NaN</td>\n",
       "      <td>NaN</td>\n",
       "      <td>NaN</td>\n",
       "      <td>NaN</td>\n",
       "      <td>NaN</td>\n",
       "      <td>NaN</td>\n",
       "      <td>NaN</td>\n",
       "      <td>NaN</td>\n",
       "      <td>NaN</td>\n",
       "    </tr>\n",
       "    <tr>\n",
       "      <td>604</td>\n",
       "      <td>-0.000729</td>\n",
       "      <td>-0.002096</td>\n",
       "      <td>-0.002831</td>\n",
       "      <td>-0.001470</td>\n",
       "      <td>-0.003533</td>\n",
       "      <td>-0.003052</td>\n",
       "      <td>-0.001863</td>\n",
       "      <td>-0.001876</td>\n",
       "      <td>-0.001509</td>\n",
       "      <td>-0.000554</td>\n",
       "      <td>...</td>\n",
       "      <td>NaN</td>\n",
       "      <td>NaN</td>\n",
       "      <td>NaN</td>\n",
       "      <td>NaN</td>\n",
       "      <td>NaN</td>\n",
       "      <td>NaN</td>\n",
       "      <td>NaN</td>\n",
       "      <td>NaN</td>\n",
       "      <td>NaN</td>\n",
       "      <td>NaN</td>\n",
       "    </tr>\n",
       "    <tr>\n",
       "      <td>605</td>\n",
       "      <td>-0.000844</td>\n",
       "      <td>-0.002106</td>\n",
       "      <td>-0.002694</td>\n",
       "      <td>-0.001422</td>\n",
       "      <td>-0.003266</td>\n",
       "      <td>-0.002675</td>\n",
       "      <td>-0.001476</td>\n",
       "      <td>-0.001211</td>\n",
       "      <td>0.000084</td>\n",
       "      <td>0.000348</td>\n",
       "      <td>...</td>\n",
       "      <td>NaN</td>\n",
       "      <td>NaN</td>\n",
       "      <td>NaN</td>\n",
       "      <td>NaN</td>\n",
       "      <td>NaN</td>\n",
       "      <td>NaN</td>\n",
       "      <td>NaN</td>\n",
       "      <td>NaN</td>\n",
       "      <td>NaN</td>\n",
       "      <td>NaN</td>\n",
       "    </tr>\n",
       "  </tbody>\n",
       "</table>\n",
       "<p>606 rows × 392942 columns</p>\n",
       "</div>"
      ],
      "text/plain": [
       "       0         1         2         3         4         5         6       \\\n",
       "0    0.002090  0.001719  0.000929  0.001199  0.002210  0.001848  0.001273   \n",
       "1    0.001620  0.001222  0.000761  0.001327  0.002090  0.001715  0.000730   \n",
       "2    0.000468 -0.000280 -0.000790 -0.000281  0.001266  0.000356 -0.000126   \n",
       "3    0.001923  0.001222  0.000771  0.001057  0.002374  0.001409  0.001240   \n",
       "4    0.001227  0.000873  0.000226  0.000381  0.002086  0.001168  0.001155   \n",
       "..        ...       ...       ...       ...       ...       ...       ...   \n",
       "601 -0.000029 -0.000582 -0.001304 -0.000225 -0.001572 -0.001934 -0.000310   \n",
       "602  0.001225 -0.000446 -0.000956  0.000673 -0.001372 -0.001530 -0.000562   \n",
       "603 -0.000006 -0.001541 -0.002692 -0.002754 -0.003059 -0.002933 -0.001606   \n",
       "604 -0.000729 -0.002096 -0.002831 -0.001470 -0.003533 -0.003052 -0.001863   \n",
       "605 -0.000844 -0.002106 -0.002694 -0.001422 -0.003266 -0.002675 -0.001476   \n",
       "\n",
       "       7         8         9       ...  392932  392933  392934  392935  \\\n",
       "0    0.001332  0.000395  0.001814  ...     NaN     NaN     NaN     NaN   \n",
       "1    0.000593  0.000337  0.001525  ...     NaN     NaN     NaN     NaN   \n",
       "2   -0.000452 -0.000443  0.000228  ...     NaN     NaN     NaN     NaN   \n",
       "3    0.000923  0.001186  0.002379  ...     NaN     NaN     NaN     NaN   \n",
       "4    0.001090  0.000791  0.000686  ...     NaN     NaN     NaN     NaN   \n",
       "..        ...       ...       ...  ...     ...     ...     ...     ...   \n",
       "601 -0.000720 -0.002054 -0.001864  ...     NaN     NaN     NaN     NaN   \n",
       "602 -0.000632 -0.001026 -0.000313  ...     NaN     NaN     NaN     NaN   \n",
       "603 -0.001076  0.000083  0.000554  ...     NaN     NaN     NaN     NaN   \n",
       "604 -0.001876 -0.001509 -0.000554  ...     NaN     NaN     NaN     NaN   \n",
       "605 -0.001211  0.000084  0.000348  ...     NaN     NaN     NaN     NaN   \n",
       "\n",
       "     392936  392937  392938  392939  392940  392941  \n",
       "0       NaN     NaN     NaN     NaN     NaN     NaN  \n",
       "1       NaN     NaN     NaN     NaN     NaN     NaN  \n",
       "2       NaN     NaN     NaN     NaN     NaN     NaN  \n",
       "3       NaN     NaN     NaN     NaN     NaN     NaN  \n",
       "4       NaN     NaN     NaN     NaN     NaN     NaN  \n",
       "..      ...     ...     ...     ...     ...     ...  \n",
       "601     NaN     NaN     NaN     NaN     NaN     NaN  \n",
       "602     NaN     NaN     NaN     NaN     NaN     NaN  \n",
       "603     NaN     NaN     NaN     NaN     NaN     NaN  \n",
       "604     NaN     NaN     NaN     NaN     NaN     NaN  \n",
       "605     NaN     NaN     NaN     NaN     NaN     NaN  \n",
       "\n",
       "[606 rows x 392942 columns]"
      ]
     },
     "execution_count": 507,
     "metadata": {},
     "output_type": "execute_result"
    }
   ],
   "source": [
    "anom_dek_ndvi_table"
   ]
  },
  {
   "cell_type": "code",
   "execution_count": 86,
   "metadata": {},
   "outputs": [],
   "source": [
    "mean_dek_df = pd.concat([mean_dek_ndvi_table]*18, ignore_index=True)\n"
   ]
  },
  {
   "cell_type": "code",
   "execution_count": 113,
   "metadata": {},
   "outputs": [],
   "source": [
    "mean_dek_df1 = mean_dek_df[18:-24]"
   ]
  },
  {
   "cell_type": "code",
   "execution_count": 114,
   "metadata": {},
   "outputs": [],
   "source": [
    "mean_dek_df1.insert(0, 'dekads', dekads)"
   ]
  },
  {
   "cell_type": "code",
   "execution_count": 116,
   "metadata": {},
   "outputs": [],
   "source": [
    "mean_dek_df1.set_index('dekads', inplace=True)"
   ]
  },
  {
   "cell_type": "code",
   "execution_count": 138,
   "metadata": {},
   "outputs": [],
   "source": [
    "mean_dek_df1.T.to_csv(observations_tables + 'mean_dek_ndvi_table.csv')"
   ]
  },
  {
   "cell_type": "code",
   "execution_count": 509,
   "metadata": {},
   "outputs": [],
   "source": [
    "anom_dek_ndvi_table.insert(0, 'dekads', dekads)"
   ]
  },
  {
   "cell_type": "code",
   "execution_count": 510,
   "metadata": {},
   "outputs": [],
   "source": [
    "anom_dek_ndvi_table.set_index('dekads', inplace = True)"
   ]
  },
  {
   "cell_type": "code",
   "execution_count": 512,
   "metadata": {},
   "outputs": [],
   "source": [
    "anom_dek_ndvi_table.T.to_csv(observations_tables + 'anom_dek_ndvi_table.csv')"
   ]
  },
  {
   "cell_type": "code",
   "execution_count": 187,
   "metadata": {},
   "outputs": [
    {
     "name": "stderr",
     "output_type": "stream",
     "text": [
      "100%|██████████| 36/36 [00:00<00:00, 56.50it/s]\n"
     ]
    }
   ],
   "source": [
    "mean_dek_precip_table = pixelwise_ts_table(precip_mean_dek_dir, 'precip')"
   ]
  },
  {
   "cell_type": "code",
   "execution_count": 48,
   "metadata": {},
   "outputs": [
    {
     "name": "stderr",
     "output_type": "stream",
     "text": [
      "100%|██████████| 606/606 [00:09<00:00, 64.37it/s]\n"
     ]
    }
   ],
   "source": [
    "anom_dek_precip_table = pixelwise_ts_table(precip_anom_dek_dir, 'precip')"
   ]
  },
  {
   "cell_type": "code",
   "execution_count": 191,
   "metadata": {},
   "outputs": [
    {
     "name": "stderr",
     "output_type": "stream",
     "text": [
      "100%|██████████| 36/36 [00:01<00:00, 23.99it/s]\n"
     ]
    }
   ],
   "source": [
    "mean_dek_temp_table = pixelwise_ts_table(temp_mean_dek_dir, 'temp')"
   ]
  },
  {
   "cell_type": "code",
   "execution_count": 49,
   "metadata": {},
   "outputs": [
    {
     "name": "stderr",
     "output_type": "stream",
     "text": [
      "100%|██████████| 606/606 [00:15<00:00, 38.36it/s]\n"
     ]
    }
   ],
   "source": [
    "anom_dek_temp_table = pixelwise_ts_table(temp_anom_dek_dir, 'temp')"
   ]
  },
  {
   "cell_type": "code",
   "execution_count": 194,
   "metadata": {},
   "outputs": [],
   "source": [
    "mean_dek_precip_df = pd.concat([mean_dek_precip_table]*18, ignore_index=True)\n",
    "mean_dek_precip_df1 = mean_dek_precip_df[18:-24]\n",
    "mean_dek_precip_df1.insert(0,'dekads',dekads)\n",
    "mean_dek_precip_df1.set_index('dekads', inplace=True)"
   ]
  },
  {
   "cell_type": "code",
   "execution_count": 195,
   "metadata": {},
   "outputs": [],
   "source": [
    "mean_dek_temp_df = pd.concat([mean_dek_temp_table]*18, ignore_index=True)\n",
    "mean_dek_temp_df1 = mean_dek_temp_df[18:-24]\n",
    "mean_dek_temp_df1.insert(0,'dekads',dekads)\n",
    "mean_dek_temp_df1.set_index('dekads', inplace=True)"
   ]
  },
  {
   "cell_type": "code",
   "execution_count": 197,
   "metadata": {},
   "outputs": [],
   "source": [
    "mean_dek_precip_df1.T.to_csv(observations_tables + 'mean_dek_precip_table.csv')"
   ]
  },
  {
   "cell_type": "code",
   "execution_count": 198,
   "metadata": {},
   "outputs": [],
   "source": [
    "mean_dek_temp_df1.T.to_csv(observations_tables + 'mean_dek_temp_table.csv')"
   ]
  },
  {
   "cell_type": "code",
   "execution_count": 59,
   "metadata": {},
   "outputs": [],
   "source": [
    "anom_dek_precip_table.insert(0,'dekads',dekads)\n",
    "anom_dek_precip_table.set_index('dekads', inplace=True)"
   ]
  },
  {
   "cell_type": "code",
   "execution_count": 62,
   "metadata": {},
   "outputs": [],
   "source": [
    "anom_dek_precip_table.T.to_csv(observations_tables + 'anom_dek_precip_table.csv')"
   ]
  },
  {
   "cell_type": "code",
   "execution_count": 63,
   "metadata": {},
   "outputs": [],
   "source": [
    "anom_dek_temp_table.insert(0,'dekads',dekads)\n",
    "anom_dek_temp_table.set_index('dekads', inplace=True)"
   ]
  },
  {
   "cell_type": "code",
   "execution_count": 65,
   "metadata": {},
   "outputs": [],
   "source": [
    "anom_dek_temp_table.T.to_csv(observations_tables + 'anom_dek_temp_table.csv')"
   ]
  },
  {
   "cell_type": "markdown",
   "metadata": {},
   "source": [
    "# Load in Mean and Anomaly Dekadal Data"
   ]
  },
  {
   "cell_type": "code",
   "execution_count": 46,
   "metadata": {},
   "outputs": [],
   "source": [
    "mean_dek_ndvi_df1 = pd.read_csv(observations_tables + 'mean_dek_ndvi_table.csv', index_col=[0])"
   ]
  },
  {
   "cell_type": "code",
   "execution_count": 47,
   "metadata": {},
   "outputs": [],
   "source": [
    "mean_dek_precip_df1 = pd.read_csv(observations_tables + 'mean_dek_precip_table.csv', index_col=[0])"
   ]
  },
  {
   "cell_type": "code",
   "execution_count": 48,
   "metadata": {},
   "outputs": [],
   "source": [
    "mean_dek_temp_df1 = pd.read_csv(observations_tables + 'mean_dek_temp_table.csv', index_col=[0])"
   ]
  },
  {
   "cell_type": "code",
   "execution_count": 49,
   "metadata": {},
   "outputs": [],
   "source": [
    "anom_dek_ndvi_table = pd.read_csv(observations_tables + 'anom_dek_ndvi_table.csv', index_col=[0])"
   ]
  },
  {
   "cell_type": "code",
   "execution_count": 50,
   "metadata": {},
   "outputs": [],
   "source": [
    "anom_dek_precip_table = pd.read_csv(observations_tables + 'anom_dek_precip_table.csv', index_col=[0])"
   ]
  },
  {
   "cell_type": "code",
   "execution_count": 51,
   "metadata": {},
   "outputs": [],
   "source": [
    "anom_dek_temp_table = pd.read_csv(observations_tables + 'anom_dek_temp_table.csv', index_col=[0])"
   ]
  },
  {
   "cell_type": "code",
   "execution_count": 58,
   "metadata": {},
   "outputs": [],
   "source": [
    "ndvi_mean_crop_rain_sample = mean_dek_ndvi_df1.loc[crop_rain_pixels[:100]]"
   ]
  },
  {
   "cell_type": "code",
   "execution_count": 60,
   "metadata": {},
   "outputs": [],
   "source": [
    "ndvi_mean_crop_rain_sample.to_csv('/home/rgreen/DroughtEDM/Data/sample_data/ndvi_mean_crop_rain_sample.csv')"
   ]
  },
  {
   "cell_type": "code",
   "execution_count": 61,
   "metadata": {},
   "outputs": [],
   "source": [
    "ndvi_anom_crop_rain_sample = anom_dek_ndvi_table.loc[crop_rain_pixels[:100]]"
   ]
  },
  {
   "cell_type": "code",
   "execution_count": 63,
   "metadata": {},
   "outputs": [],
   "source": [
    "ndvi_anom_crop_rain_sample.to_csv('/home/rgreen/DroughtEDM/Data/sample_data/ndvi_anom_crop_rain_sample.csv')"
   ]
  },
  {
   "cell_type": "code",
   "execution_count": 64,
   "metadata": {},
   "outputs": [],
   "source": [
    "precip_mean_crop_rain_sample = mean_dek_precip_df1.loc[crop_rain_pixels[:100]]"
   ]
  },
  {
   "cell_type": "code",
   "execution_count": 65,
   "metadata": {},
   "outputs": [],
   "source": [
    "precip_mean_crop_rain_sample.to_csv('/home/rgreen/DroughtEDM/Data/sample_data/precip_mean_crop_rain_sample.csv')"
   ]
  },
  {
   "cell_type": "code",
   "execution_count": 66,
   "metadata": {},
   "outputs": [],
   "source": [
    "precip_anom_crop_rain_sample = anom_dek_precip_table.loc[crop_rain_pixels[:100]]"
   ]
  },
  {
   "cell_type": "code",
   "execution_count": 67,
   "metadata": {},
   "outputs": [],
   "source": [
    "precip_anom_crop_rain_sample.to_csv('/home/rgreen/DroughtEDM/Data/sample_data/precip_anom_crop_rain_sample.csv')"
   ]
  },
  {
   "cell_type": "code",
   "execution_count": 68,
   "metadata": {},
   "outputs": [],
   "source": [
    "temp_mean_crop_rain_sample = mean_dek_temp_df1.loc[crop_rain_pixels[:100]]"
   ]
  },
  {
   "cell_type": "code",
   "execution_count": 69,
   "metadata": {},
   "outputs": [],
   "source": [
    "temp_mean_crop_rain_sample.to_csv('/home/rgreen/DroughtEDM/Data/sample_data/temp_mean_crop_rain_sample.csv')"
   ]
  },
  {
   "cell_type": "code",
   "execution_count": 70,
   "metadata": {},
   "outputs": [],
   "source": [
    "temp_anom_crop_rain_sample = anom_dek_temp_table.loc[crop_rain_pixels[:100]]"
   ]
  },
  {
   "cell_type": "code",
   "execution_count": 71,
   "metadata": {},
   "outputs": [],
   "source": [
    "temp_anom_crop_rain_sample.to_csv('/home/rgreen/DroughtEDM/Data/sample_data/temp_anom_crop_rain_sample.csv')"
   ]
  },
  {
   "cell_type": "markdown",
   "metadata": {},
   "source": [
    "# Sample Pixels from all Land Covers"
   ]
  },
  {
   "cell_type": "code",
   "execution_count": 10,
   "metadata": {},
   "outputs": [],
   "source": [
    "lc_pixels_skill = pd.read_csv('/home/rgreen/DroughtEDM/Data/LCs_pixels/lc_pixels_skill.csv', index_col = [0])"
   ]
  },
  {
   "cell_type": "code",
   "execution_count": 209,
   "metadata": {},
   "outputs": [
    {
     "data": {
      "text/html": [
       "<div>\n",
       "<style scoped>\n",
       "    .dataframe tbody tr th:only-of-type {\n",
       "        vertical-align: middle;\n",
       "    }\n",
       "\n",
       "    .dataframe tbody tr th {\n",
       "        vertical-align: top;\n",
       "    }\n",
       "\n",
       "    .dataframe thead th {\n",
       "        text-align: right;\n",
       "    }\n",
       "</style>\n",
       "<table border=\"1\" class=\"dataframe\">\n",
       "  <thead>\n",
       "    <tr style=\"text-align: right;\">\n",
       "      <th></th>\n",
       "      <th>pixel_id</th>\n",
       "      <th>LC</th>\n",
       "      <th>skill</th>\n",
       "    </tr>\n",
       "  </thead>\n",
       "  <tbody>\n",
       "    <tr>\n",
       "      <td>0</td>\n",
       "      <td>863</td>\n",
       "      <td>shrubland</td>\n",
       "      <td>0.660811</td>\n",
       "    </tr>\n",
       "    <tr>\n",
       "      <td>1</td>\n",
       "      <td>2046</td>\n",
       "      <td>grassland</td>\n",
       "      <td>0.366358</td>\n",
       "    </tr>\n",
       "    <tr>\n",
       "      <td>2</td>\n",
       "      <td>2518</td>\n",
       "      <td>cropland_irrigated</td>\n",
       "      <td>0.495580</td>\n",
       "    </tr>\n",
       "    <tr>\n",
       "      <td>3</td>\n",
       "      <td>2629</td>\n",
       "      <td>grassland</td>\n",
       "      <td>0.335566</td>\n",
       "    </tr>\n",
       "    <tr>\n",
       "      <td>4</td>\n",
       "      <td>3098</td>\n",
       "      <td>cropland_irrigated</td>\n",
       "      <td>0.407682</td>\n",
       "    </tr>\n",
       "    <tr>\n",
       "      <td>...</td>\n",
       "      <td>...</td>\n",
       "      <td>...</td>\n",
       "      <td>...</td>\n",
       "    </tr>\n",
       "    <tr>\n",
       "      <td>113170</td>\n",
       "      <td>392068</td>\n",
       "      <td>woodland</td>\n",
       "      <td>0.956308</td>\n",
       "    </tr>\n",
       "    <tr>\n",
       "      <td>113171</td>\n",
       "      <td>392069</td>\n",
       "      <td>woodland</td>\n",
       "      <td>0.961195</td>\n",
       "    </tr>\n",
       "    <tr>\n",
       "      <td>113172</td>\n",
       "      <td>392646</td>\n",
       "      <td>woodland</td>\n",
       "      <td>0.953059</td>\n",
       "    </tr>\n",
       "    <tr>\n",
       "      <td>113173</td>\n",
       "      <td>392648</td>\n",
       "      <td>woodland</td>\n",
       "      <td>0.949436</td>\n",
       "    </tr>\n",
       "    <tr>\n",
       "      <td>113174</td>\n",
       "      <td>392650</td>\n",
       "      <td>grassland</td>\n",
       "      <td>0.942766</td>\n",
       "    </tr>\n",
       "  </tbody>\n",
       "</table>\n",
       "<p>113175 rows × 3 columns</p>\n",
       "</div>"
      ],
      "text/plain": [
       "        pixel_id                  LC     skill\n",
       "0            863           shrubland  0.660811\n",
       "1           2046           grassland  0.366358\n",
       "2           2518  cropland_irrigated  0.495580\n",
       "3           2629           grassland  0.335566\n",
       "4           3098  cropland_irrigated  0.407682\n",
       "...          ...                 ...       ...\n",
       "113170    392068            woodland  0.956308\n",
       "113171    392069            woodland  0.961195\n",
       "113172    392646            woodland  0.953059\n",
       "113173    392648            woodland  0.949436\n",
       "113174    392650           grassland  0.942766\n",
       "\n",
       "[113175 rows x 3 columns]"
      ]
     },
     "execution_count": 209,
     "metadata": {},
     "output_type": "execute_result"
    }
   ],
   "source": [
    "lc_pixels_skill"
   ]
  },
  {
   "cell_type": "code",
   "execution_count": 222,
   "metadata": {},
   "outputs": [],
   "source": [
    "#note set crop irr low to 0.4 \n",
    "\n",
    "low_woodland_sample = sample(list(lc_pixels_skill.loc[(lc_pixels_skill.skill < 0.2) & (lc_pixels_skill.LC == 'woodland')]['pixel_id']), 100)\n",
    "high_woodland_sample = sample(list(lc_pixels_skill.loc[(lc_pixels_skill.skill > 0.8) & (lc_pixels_skill.LC == 'woodland')]['pixel_id']), 100)\n",
    "\n",
    "low_crop_irr_sample = sample(list(lc_pixels_skill.loc[(lc_pixels_skill.skill < 0.4) & (lc_pixels_skill.LC == 'cropland_irrigated')]['pixel_id']), 100)\n",
    "high_crop_irr_sample = sample(list(lc_pixels_skill.loc[(lc_pixels_skill.skill > 0.8) & (lc_pixels_skill.LC == 'cropland_irrigated')]['pixel_id']), 100)\n",
    "\n",
    "low_crop_rain_sample = sample(list(lc_pixels_skill.loc[(lc_pixels_skill.skill < 0.2) & (lc_pixels_skill.LC == 'cropland_rainfed')]['pixel_id']), 100)\n",
    "high_crop_rain_sample = sample(list(lc_pixels_skill.loc[(lc_pixels_skill.skill > 0.8) & (lc_pixels_skill.LC == 'cropland_rainfed')]['pixel_id']), 100)\n",
    "\n",
    "low_shrubland_sample = sample(list(lc_pixels_skill.loc[(lc_pixels_skill.skill < 0.2) & (lc_pixels_skill.LC == 'shrubland')]['pixel_id']), 100)\n",
    "high_shrubland_sample = sample(list(lc_pixels_skill.loc[(lc_pixels_skill.skill > 0.8) & (lc_pixels_skill.LC == 'shrubland')]['pixel_id']), 100)\n",
    "\n",
    "low_grassland_sample = sample(list(lc_pixels_skill.loc[(lc_pixels_skill.skill < 0.2) & (lc_pixels_skill.LC == 'grassland')]['pixel_id']), 100)\n",
    "high_grassland_sample = sample(list(lc_pixels_skill.loc[(lc_pixels_skill.skill > 0.8) & (lc_pixels_skill.LC == 'grassland')]['pixel_id']), 100)"
   ]
  },
  {
   "cell_type": "markdown",
   "metadata": {},
   "source": [
    "# Make Surrogate Data Dictionary"
   ]
  },
  {
   "cell_type": "code",
   "execution_count": 346,
   "metadata": {},
   "outputs": [],
   "source": [
    "def make_surrogate_data_dict(mean_dek_df, anom_dek_df, pixel_ids, var):\n",
    "    \n",
    "    d = {}\n",
    "    \n",
    "    for i in pixel_ids:\n",
    "        \n",
    "    \n",
    "        surr_list = pd.DataFrame()\n",
    "    \n",
    "        j = 1\n",
    "        while j < 501:\n",
    "            surr = mean_dek_df.loc[i] + sample(list(anom_dek_df.loc[i]), len(anom_dek_df.loc[i]))\n",
    "            #print(surr)\n",
    "            surr_list[var + str(j)] = surr.values\n",
    "\n",
    "            j +=1\n",
    "        #print(surr_list)\n",
    "        \n",
    "        joined_data = pd.concat([ndvi_tableT['Time'], ndvi_tableT[i], surr_list], axis=1)\n",
    "        joined_data.rename(columns = {i: 'NDVI'}, inplace = True)\n",
    "        d[i] = joined_data\n",
    "        \n",
    "    return d\n",
    "    \n",
    "       "
   ]
  },
  {
   "cell_type": "code",
   "execution_count": 347,
   "metadata": {},
   "outputs": [],
   "source": [
    "low_woodland_surrogate_dict = make_surrogate_data_dict(mean_dek_precip_df1, anom_dek_precip_table, low_woodland_sample, 'P')"
   ]
  },
  {
   "cell_type": "markdown",
   "metadata": {},
   "source": []
  },
  {
   "cell_type": "code",
   "execution_count": 421,
   "metadata": {},
   "outputs": [],
   "source": []
  },
  {
   "cell_type": "code",
   "execution_count": 399,
   "metadata": {},
   "outputs": [],
   "source": []
  },
  {
   "cell_type": "code",
   "execution_count": 400,
   "metadata": {},
   "outputs": [],
   "source": []
  },
  {
   "cell_type": "code",
   "execution_count": 1133,
   "metadata": {},
   "outputs": [
    {
     "name": "stdout",
     "output_type": "stream",
     "text": [
      "The original list 1 : [6, 4, 8, 9, 10]\n",
      "The original list 2 : [1, 2, 3, 4, 5]\n",
      "List 1 after shuffle : [9, 4, 10, 8, 6]\n",
      "List 2 after shuffle : [4, 2, 5, 3, 1]\n"
     ]
    }
   ],
   "source": [
    "import random \n",
    "  \n",
    "# initializing lists \n",
    "test_list1 = [6, 4, 8, 9, 10] \n",
    "test_list2 = [1, 2, 3, 4, 5] \n",
    "  \n",
    "# printing lists \n",
    "print(\"The original list 1 : \" + str(test_list1)) \n",
    "print(\"The original list 2 : \" + str(test_list2)) \n",
    "  \n",
    "# Shuffle two lists with same order \n",
    "# Using zip() + * operator + shuffle() \n",
    "temp = list(zip(test_list1, test_list2)) \n",
    "random.shuffle(temp) \n",
    "res1, res2 = zip(*temp) \n",
    "  \n",
    "# Printing result \n",
    "print(\"List 1 after shuffle : \" + str(list(res1))) \n",
    "print(\"List 2 after shuffle : \" + str(list(res2))) "
   ]
  },
  {
   "cell_type": "code",
   "execution_count": 1134,
   "metadata": {},
   "outputs": [
    {
     "data": {
      "text/plain": [
       "[1, 2, 3, 4, 5, 1, 2, 3, 4, 5]"
      ]
     },
     "execution_count": 1134,
     "metadata": {},
     "output_type": "execute_result"
    }
   ],
   "source": [
    "l1 = [1,2,3,4,5]\n",
    "l2 = [1,2,3,4,5]\n",
    "l1+l2"
   ]
  },
  {
   "cell_type": "markdown",
   "metadata": {},
   "source": [
    "# Simplex Surrogates"
   ]
  },
  {
   "cell_type": "code",
   "execution_count": 1180,
   "metadata": {},
   "outputs": [],
   "source": [
    "def simplex_surrogate_data_dict(ndvi_mean_dek_df, ndvi_anom_dek_df, precip_mean_dek_df, precip_anom_dek_df, temp_mean_dek_df, temp_anom_dek_df, pixel_ids):\n",
    "    \n",
    "    d = {}\n",
    "    \n",
    "    for i in pixel_ids:\n",
    "        \n",
    "    \n",
    "        ndvi_surr_list = pd.DataFrame()\n",
    "        precip_surr_list = pd.DataFrame()\n",
    "        temp_surr_list = pd.DataFrame()\n",
    "    \n",
    "        j = 1\n",
    "        while j < 501:\n",
    "            anomalies =  list(zip(ndvi_anom_dek_df.loc[i], precip_anom_dek_df.loc[i], temp_anom_dek_df.loc[i]))\n",
    "            shuffle(anomalies)\n",
    "            \n",
    "            ndvi_anom_surr, precip_anom_surr, temp_anom_surr = zip(*anomalies)\n",
    "            \n",
    "            ndvi_surr = ndvi_mean_dek_df.loc[i] + list(ndvi_anom_surr)\n",
    "           \n",
    "            ndvi_surr_norm = (ndvi_surr - ndvi_surr.mean())/ndvi_surr.std()\n",
    "            ndvi_surr_list['N' + str(j)] = ndvi_surr_norm.values\n",
    "            \n",
    "            precip_surr = precip_mean_dek_df.loc[i] + list(precip_anom_surr)\n",
    "           \n",
    "            precip_surr[precip_surr < 0] = 0\n",
    "            precip_surr_norm = (precip_surr - precip_surr.mean())/precip_surr.std()\n",
    "            precip_surr_list['P' + str(j)] = precip_surr_norm.values\n",
    "            \n",
    "            temp_surr = temp_mean_dek_df.loc[i] + list(temp_anom_surr)\n",
    "           \n",
    "            temp_surr_norm = (temp_surr - temp_surr.mean())/temp_surr.std()                        \n",
    "            temp_surr_list['T' + str(j)] = temp_surr_norm.values\n",
    "\n",
    "\n",
    "            j +=1\n",
    "        \n",
    "\n",
    "        joined_data = pd.concat([ndvi_surr_list, precip_surr_list, temp_surr_list], axis = 1) \n",
    "        joined_data.insert(0, 'Time', dekads)\n",
    "        d[i] = joined_data\n",
    "    return d\n",
    "    \n",
    "       "
   ]
  },
  {
   "cell_type": "code",
   "execution_count": null,
   "metadata": {},
   "outputs": [],
   "source": [
    "#temp_surr = temp_mean_dek_df.loc[i] + sample(list(temp_anom_dek_df.loc[i]), len(temp_anom_dek_df.loc[i]))"
   ]
  },
  {
   "cell_type": "code",
   "execution_count": 1155,
   "metadata": {},
   "outputs": [],
   "source": [
    "low_woodland_surrogate_NPT_dict = simplex_surrogate_data_dict(mean_dek_ndvi_df1, anom_dek_ndvi_table, mean_dek_precip_df1, anom_dek_precip_table, mean_dek_temp_df1, anom_dek_temp_table, low_woodland_sample)"
   ]
  },
  {
   "cell_type": "code",
   "execution_count": 1156,
   "metadata": {},
   "outputs": [],
   "source": [
    "high_woodland_surrogate_NPT_dict = simplex_surrogate_data_dict(mean_dek_ndvi_df1, anom_dek_ndvi_table, mean_dek_precip_df1, anom_dek_precip_table, mean_dek_temp_df1, anom_dek_temp_table, high_woodland_sample)"
   ]
  },
  {
   "cell_type": "code",
   "execution_count": null,
   "metadata": {},
   "outputs": [],
   "source": [
    "low_crop_irr_surrogate_NPT_dict = simplex_surrogate_data_dict(mean_dek_ndvi_df1, anom_dek_ndvi_table, mean_dek_precip_df1, anom_dek_precip_table, mean_dek_temp_df1, anom_dek_temp_table, low_crop_irr_sample)\n",
    "high_crop_irr_surrogate_NPT_dict = simplex_surrogate_data_dict(mean_dek_ndvi_df1, anom_dek_ndvi_table, mean_dek_precip_df1, anom_dek_precip_table, mean_dek_temp_df1, anom_dek_temp_table, high_crop_irr_sample)\n",
    "low_crop_rain_surrogate_NPT_dict = simplex_surrogate_data_dict(mean_dek_ndvi_df1, anom_dek_ndvi_table, mean_dek_precip_df1, anom_dek_precip_table, mean_dek_temp_df1, anom_dek_temp_table, low_crop_rain_sample)\n",
    "high_crop_rain_surrogate_NPT_dict = simplex_surrogate_data_dict(mean_dek_ndvi_df1, anom_dek_ndvi_table, mean_dek_precip_df1, anom_dek_precip_table, mean_dek_temp_df1, anom_dek_temp_table, high_crop_rain_sample)\n",
    "low_shrubland_surrogate_NPT_dict = simplex_surrogate_data_dict(mean_dek_ndvi_df1, anom_dek_ndvi_table, mean_dek_precip_df1, anom_dek_precip_table, mean_dek_temp_df1, anom_dek_temp_table, low_shrubland_sample)\n",
    "high_shrubland_surrogate_NPT_dict = simplex_surrogate_data_dict(mean_dek_ndvi_df1, anom_dek_ndvi_table, mean_dek_precip_df1, anom_dek_precip_table, mean_dek_temp_df1, anom_dek_temp_table, high_shrubland_sample)\n",
    "low_grassland_surrogate_NPT_dict = simplex_surrogate_data_dict(mean_dek_ndvi_df1, anom_dek_ndvi_table, mean_dek_precip_df1, anom_dek_precip_table, mean_dek_temp_df1, anom_dek_temp_table, low_grassland_sample)\n",
    "high_grassland_surrogate_NPT_dict = simplex_surrogate_data_dict(mean_dek_ndvi_df1, anom_dek_ndvi_table, mean_dek_precip_df1, anom_dek_precip_table, mean_dek_temp_df1, anom_dek_temp_table, high_grassland_sample)"
   ]
  },
  {
   "cell_type": "code",
   "execution_count": 1187,
   "metadata": {},
   "outputs": [
    {
     "data": {
      "text/plain": [
       "<matplotlib.legend.Legend at 0x7f03c3c51b70>"
      ]
     },
     "execution_count": 1187,
     "metadata": {},
     "output_type": "execute_result"
    },
    {
     "data": {
      "image/png": "[encoded data removed]",
      "text/plain": [
       "<Figure size 432x288 with 1 Axes>"
      ]
     },
     "metadata": {
      "needs_background": "light"
     },
     "output_type": "display_data"
    }
   ],
   "source": [
    "plt.plot(list(range(1,607)),high_woodland_surrogate_NPT_dict[181413]['N1'], label = 'surrogate data')\n",
    "plt.plot(list(range(1,607)),test4['ndvi'], label = 'real data')\n",
    "plt.legend()"
   ]
  },
  {
   "cell_type": "code",
   "execution_count": 1091,
   "metadata": {},
   "outputs": [],
   "source": [
    "sample_mean = (mean_dek_ndvi_df1.loc[94073]-mean_dek_ndvi_df1.loc[94073].mean())/mean_dek_ndvi_df1.loc[94073].std()"
   ]
  },
  {
   "cell_type": "code",
   "execution_count": 1099,
   "metadata": {},
   "outputs": [
    {
     "data": {
      "text/plain": [
       "<matplotlib.legend.Legend at 0x7f0453730f28>"
      ]
     },
     "execution_count": 1099,
     "metadata": {},
     "output_type": "execute_result"
    },
    {
     "data": {
      "image/png": "[encoded data removed]",
      "text/plain": [
       "<Figure size 432x288 with 1 Axes>"
      ]
     },
     "metadata": {
      "needs_background": "light"
     },
     "output_type": "display_data"
    }
   ],
   "source": [
    "plt.plot(list(range(1,607)), test2['ndvi'], label = 'real data')\n",
    "plt.plot(list(range(1,607)), sample_mean, label = 'mean data')\n",
    "plt.legend(loc=4)"
   ]
  },
  {
   "cell_type": "code",
   "execution_count": 1087,
   "metadata": {},
   "outputs": [
    {
     "data": {
      "text/plain": [
       "2002-07-01    0.200238\n",
       "2002-07-11    0.214857\n",
       "2002-07-21    0.240579\n",
       "2002-08-01    0.276916\n",
       "2002-08-11    0.320364\n",
       "                ...   \n",
       "2019-03-11    0.194198\n",
       "2019-03-21    0.188233\n",
       "2019-04-01    0.183492\n",
       "2019-04-11    0.180355\n",
       "2019-04-21    0.178987\n",
       "Name: 94073, Length: 606, dtype: float64"
      ]
     },
     "execution_count": 1087,
     "metadata": {},
     "output_type": "execute_result"
    }
   ],
   "source": [
    "mean_dek_ndvi_df1.loc[94073]"
   ]
  },
  {
   "cell_type": "code",
   "execution_count": 1102,
   "metadata": {},
   "outputs": [
    {
     "data": {
      "text/plain": [
       "<matplotlib.legend.Legend at 0x7f0453204518>"
      ]
     },
     "execution_count": 1102,
     "metadata": {},
     "output_type": "execute_result"
    },
    {
     "data": {
      "image/png": "[encoded data removed]",
      "text/plain": [
       "<Figure size 432x288 with 1 Axes>"
      ]
     },
     "metadata": {
      "needs_background": "light"
     },
     "output_type": "display_data"
    }
   ],
   "source": [
    "plt.plot(list(range(1,607)), low_crop_irr_surrogate_NPT_dict[94073]['N2'], label = 'surrogate data')\n",
    "plt.plot(list(range(1, 607)), sample_mean, label = 'mean data')\n",
    "plt.legend(loc=4)"
   ]
  },
  {
   "cell_type": "code",
   "execution_count": 1104,
   "metadata": {},
   "outputs": [
    {
     "data": {
      "text/plain": [
       "<matplotlib.legend.Legend at 0x7f0452f68e48>"
      ]
     },
     "execution_count": 1104,
     "metadata": {},
     "output_type": "execute_result"
    },
    {
     "data": {
      "image/png": "[encoded data removed]",
      "text/plain": [
       "<Figure size 432x288 with 1 Axes>"
      ]
     },
     "metadata": {
      "needs_background": "light"
     },
     "output_type": "display_data"
    }
   ],
   "source": [
    "\n",
    "plt.plot(list(range(1,607)), low_crop_irr_surrogate_NPT_dict[94073]['N2'], label = 'surrogate data')\n",
    "plt.plot(list(range(1,607)), test2['ndvi'], label = 'real data')\n",
    "plt.legend(loc=4)"
   ]
  },
  {
   "cell_type": "code",
   "execution_count": 1166,
   "metadata": {},
   "outputs": [],
   "source": [
    "def simplex_surrogates_df(d, train, test, ed, pi):\n",
    "    \n",
    "    simplex_df = pd.DataFrame()\n",
    "    #for key, value in list(d)[0:3]:\n",
    "    for x in list(d):\n",
    "        #print(x)\n",
    "        key = x\n",
    "        df = d[x]\n",
    "        simplex_col = []\n",
    "        \n",
    "        dekads_fut = generate_dekads(dekads[-1],pd.datetime(2020,4,30))\n",
    "        \n",
    "        for i in range(1,501):\n",
    "            interim_df = pd.DataFrame({'Time': df['Time'], 'ndvi': df['N' + str(i)], 'precip': df['P' + str(i)], 'temp' : df['T' + str(i)]})\n",
    "            interim_df.set_index('Time',inplace=True, drop=False)\n",
    "            \n",
    "            if max([len(interim_df[interim_df[col].isnull()]) for col in interim_df.columns]) > 20:\n",
    "                simplex_col.append(np.nan)\n",
    "                \n",
    "            else:\n",
    "\n",
    "                # Check whether column has a few nans\n",
    "                if interim_df.temp.isnull().values.any():\n",
    "                    # If so, iterate through nan rows and replace with dekadal mean\n",
    "                    for t in interim_df[interim_df.temp.isnull()].index:\n",
    "                        interim_df.temp.loc[t] = interim_df.temp[interim_df.index.strftime('%m-%d') == t.strftime('%m-%d')].mean()\n",
    "                        #print(interim_df)\n",
    "                if interim_df.ndvi.isnull().values.any():\n",
    "                # If so, iterate through nan rows and replace with dekadal mean\n",
    "                    for t in interim_df[interim_df.ndvi.isnull()].index:\n",
    "                        interim_df.ndvi.loc[t] = interim_df.ndvi[interim_df.index.strftime('%m-%d') == t.strftime('%m-%d')].mean()\n",
    "\n",
    "                if interim_df.precip.isnull().values.any():\n",
    "                # If so, iterate through nan rows and replace with dekadal mean\n",
    "                    for t in interim_df[interim_df.precip.isnull()].index:\n",
    "                        interim_df.precip.loc[t] = interim_df.precip[interim_df.index.strftime('%m-%d') == t.strftime('%m-%d')].mean()\n",
    "\n",
    "                simplex_result = Simplex(dataFrame = interim_df,\n",
    "                                         lib = train,\n",
    "                                         pred = test,\n",
    "                                         E = ed, Tp = pi,\n",
    "                                         columns = 'ndvi precip temp', target = 'ndvi', showPlot = False)\n",
    "\n",
    "                # Add datetime index + fix dekad values for future values\n",
    "                simplex_result.Time = pd.to_datetime(simplex_result.Time)\n",
    "                simplex_result.set_index(simplex_result.Time, inplace=True)\n",
    "\n",
    "\n",
    "                # Fix datetime index for future dekads\n",
    "                simplex_result[-pi:].Time = dekads_fut[1:pi+1]\n",
    "                error = ComputeError(list(simplex_result.Observations), list(simplex_result.Predictions))\n",
    "\n",
    "\n",
    "                rho = list(error.values())[2]\n",
    "                simplex_col.append(rho)\n",
    "        simplex_df[key] = simplex_col\n",
    "        \n",
    "    return simplex_df\n",
    "        "
   ]
  },
  {
   "cell_type": "code",
   "execution_count": 1167,
   "metadata": {},
   "outputs": [],
   "source": [
    "low_woodland_surrogate_simplex = simplex_surrogates_df(low_woodland_surrogate_NPT_dict, '1 303', '304 606', 6, 18)"
   ]
  },
  {
   "cell_type": "code",
   "execution_count": 1168,
   "metadata": {},
   "outputs": [],
   "source": [
    "high_woodland_surrogate_simplex = simplex_surrogates_df(high_woodland_surrogate_NPT_dict, '1 303', '304 606', 6, 18)"
   ]
  },
  {
   "cell_type": "markdown",
   "metadata": {},
   "source": [
    "^^ using updated surrogates"
   ]
  },
  {
   "cell_type": "code",
   "execution_count": null,
   "metadata": {},
   "outputs": [],
   "source": []
  },
  {
   "cell_type": "code",
   "execution_count": null,
   "metadata": {},
   "outputs": [],
   "source": []
  },
  {
   "cell_type": "code",
   "execution_count": 822,
   "metadata": {},
   "outputs": [],
   "source": [
    "low_crop_irr_surrogate_simplex = simplex_surrogates_df(low_crop_irr_surrogate_NPT_dict, '1 303', '304 606', 6, 18)"
   ]
  },
  {
   "cell_type": "code",
   "execution_count": null,
   "metadata": {},
   "outputs": [],
   "source": [
    "high_crop_irr_surrogate_simplex = simplex_surrogates_df(high_crop_irr_surrogate_NPT_dict, '1 303', '304 606', 6, 18)"
   ]
  },
  {
   "cell_type": "code",
   "execution_count": 834,
   "metadata": {},
   "outputs": [],
   "source": [
    "low_crop_rain_surrogate_simplex = simplex_surrogates_df(low_crop_rain_surrogate_NPT_dict, '1 303', '304 606', 6, 18)"
   ]
  },
  {
   "cell_type": "code",
   "execution_count": 835,
   "metadata": {},
   "outputs": [],
   "source": [
    "high_crop_rain_surrogate_simplex = simplex_surrogates_df(high_crop_rain_surrogate_NPT_dict, '1 303', '304 606', 6, 18)"
   ]
  },
  {
   "cell_type": "code",
   "execution_count": 840,
   "metadata": {},
   "outputs": [],
   "source": [
    "low_shrubland_surrogate_simplex = simplex_surrogates_df(low_shrubland_surrogate_NPT_dict, '1 303', '304 606', 6, 18)"
   ]
  },
  {
   "cell_type": "code",
   "execution_count": 841,
   "metadata": {},
   "outputs": [],
   "source": [
    "high_shrubland_surrogate_simplex = simplex_surrogates_df(high_shrubland_surrogate_NPT_dict, '1 303', '304 606', 6, 18)"
   ]
  },
  {
   "cell_type": "code",
   "execution_count": 842,
   "metadata": {},
   "outputs": [],
   "source": [
    "low_grassland_surrogate_simplex = simplex_surrogates_df(low_grassland_surrogate_NPT_dict, '1 303', '304 606', 6, 18)"
   ]
  },
  {
   "cell_type": "code",
   "execution_count": 843,
   "metadata": {},
   "outputs": [],
   "source": [
    "high_grassland_surrogate_simplex = simplex_surrogates_df(high_grassland_surrogate_NPT_dict, '1 303', '304 606', 6, 18)"
   ]
  },
  {
   "cell_type": "markdown",
   "metadata": {},
   "source": [
    "Save out surrogate simplex results"
   ]
  },
  {
   "cell_type": "code",
   "execution_count": 827,
   "metadata": {},
   "outputs": [],
   "source": [
    "surrogate_simplex_dir = '/home/rgreen/tana-spin/rgreen/DroughtEDM/Data/surrogate_simplex/'"
   ]
  },
  {
   "cell_type": "code",
   "execution_count": 828,
   "metadata": {},
   "outputs": [],
   "source": [
    "low_woodland_surrogate_simplex.to_csv(surrogate_simplex_dir + 'low_woodland_surrogate_simplex.csv')"
   ]
  },
  {
   "cell_type": "code",
   "execution_count": 829,
   "metadata": {},
   "outputs": [],
   "source": [
    "high_woodland_surrogate_simplex.to_csv(surrogate_simplex_dir + 'high_woodland_surrogate_simplex.csv')"
   ]
  },
  {
   "cell_type": "code",
   "execution_count": 830,
   "metadata": {},
   "outputs": [],
   "source": [
    "low_crop_irr_surrogate_simplex.to_csv(surrogate_simplex_dir + 'low_crop_irr_surrogate_simplex.csv')"
   ]
  },
  {
   "cell_type": "code",
   "execution_count": 831,
   "metadata": {},
   "outputs": [],
   "source": [
    "high_crop_irr_surrogate_simplex.to_csv(surrogate_simplex_dir + 'high_crop_irr_surrogate_simplex.csv')"
   ]
  },
  {
   "cell_type": "code",
   "execution_count": 838,
   "metadata": {},
   "outputs": [],
   "source": [
    "low_crop_rain_surrogate_simplex.to_csv(surrogate_simplex_dir + 'low_crop_rain_surrogate_simplex.csv')"
   ]
  },
  {
   "cell_type": "code",
   "execution_count": 839,
   "metadata": {},
   "outputs": [],
   "source": [
    "high_crop_rain_surrogate_simplex.to_csv(surrogate_simplex_dir + 'high_crop_rain_surrogate_simplex.csv')"
   ]
  },
  {
   "cell_type": "code",
   "execution_count": 844,
   "metadata": {},
   "outputs": [],
   "source": [
    "low_shrubland_surrogate_simplex.to_csv(surrogate_simplex_dir + 'low_shrubland_surrogate_simplex.csv')"
   ]
  },
  {
   "cell_type": "code",
   "execution_count": 845,
   "metadata": {},
   "outputs": [],
   "source": [
    "high_shrubland_surrogate_simplex.to_csv(surrogate_simplex_dir + 'high_shrubland_surrogate_simplex.csv')"
   ]
  },
  {
   "cell_type": "code",
   "execution_count": 846,
   "metadata": {},
   "outputs": [],
   "source": [
    "low_grassland_surrogate_simplex.to_csv(surrogate_simplex_dir + 'low_grassland_surrogate_simplex.csv')"
   ]
  },
  {
   "cell_type": "code",
   "execution_count": 847,
   "metadata": {},
   "outputs": [],
   "source": [
    "high_grassland_surrogate_simplex.to_csv(surrogate_simplex_dir + 'high_grassland_surrogate_simplex.csv')"
   ]
  },
  {
   "cell_type": "markdown",
   "metadata": {},
   "source": [
    "# Test for Significance"
   ]
  },
  {
   "cell_type": "code",
   "execution_count": 1169,
   "metadata": {},
   "outputs": [],
   "source": [
    "def simplex_sig(pixel_ids, surrogate_df, real_df):\n",
    "    \n",
    "    p_hat_list = []\n",
    "    for i in pixel_ids:\n",
    "        samp = pd.DataFrame(sorted(surrogate_df[i]))\n",
    "        obs = real_df.loc[real_df.pixel_id == i].skill\n",
    "        p_hat = 1 - (samp < obs).astype(int).sum()/len(samp)\n",
    "        \n",
    "        p_hat_list.append(p_hat[0])\n",
    "    return p_hat_list\n",
    "        #print((samp < obs).astype(int).sum()/len(samp))\n",
    "       # print(obs)[0]"
   ]
  },
  {
   "cell_type": "code",
   "execution_count": 1170,
   "metadata": {},
   "outputs": [],
   "source": [
    "sig_low_woodland = simplex_sig(low_woodland_sample, low_woodland_surrogate_simplex, lc_pixels_skill)"
   ]
  },
  {
   "cell_type": "code",
   "execution_count": 1171,
   "metadata": {},
   "outputs": [],
   "source": [
    "sig_high_woodland = simplex_sig(high_woodland_sample, high_woodland_surrogate_simplex, lc_pixels_skill)"
   ]
  },
  {
   "cell_type": "code",
   "execution_count": 1175,
   "metadata": {},
   "outputs": [
    {
     "data": {
      "text/html": [
       "<div>\n",
       "<style scoped>\n",
       "    .dataframe tbody tr th:only-of-type {\n",
       "        vertical-align: middle;\n",
       "    }\n",
       "\n",
       "    .dataframe tbody tr th {\n",
       "        vertical-align: top;\n",
       "    }\n",
       "\n",
       "    .dataframe thead th {\n",
       "        text-align: right;\n",
       "    }\n",
       "</style>\n",
       "<table border=\"1\" class=\"dataframe\">\n",
       "  <thead>\n",
       "    <tr style=\"text-align: right;\">\n",
       "      <th></th>\n",
       "      <th>pixel_id</th>\n",
       "      <th>LC</th>\n",
       "      <th>skill</th>\n",
       "    </tr>\n",
       "  </thead>\n",
       "  <tbody>\n",
       "    <tr>\n",
       "      <td>57537</td>\n",
       "      <td>181413</td>\n",
       "      <td>woodland</td>\n",
       "      <td>0.921339</td>\n",
       "    </tr>\n",
       "  </tbody>\n",
       "</table>\n",
       "</div>"
      ],
      "text/plain": [
       "       pixel_id        LC     skill\n",
       "57537    181413  woodland  0.921339"
      ]
     },
     "execution_count": 1175,
     "metadata": {},
     "output_type": "execute_result"
    }
   ],
   "source": [
    "lc_pixels_skill.loc[lc_pixels_skill.pixel_id == 181413]"
   ]
  },
  {
   "cell_type": "code",
   "execution_count": 1215,
   "metadata": {},
   "outputs": [
    {
     "data": {
      "text/plain": [
       "<matplotlib.legend.Legend at 0x7f03c2e9ac18>"
      ]
     },
     "execution_count": 1215,
     "metadata": {},
     "output_type": "execute_result"
    },
    {
     "data": {
      "image/png": "[encoded data removed]",
      "text/plain": [
       "<Figure size 432x288 with 1 Axes>"
      ]
     },
     "metadata": {
      "needs_background": "light"
     },
     "output_type": "display_data"
    }
   ],
   "source": [
    "\n",
    "plt.hist(high_woodland_surrogate_simplex[181413], label = 'surrogate')\n",
    "plt.scatter(lc_pixels_skill.loc[lc_pixels_skill.pixel_id == 181413]['skill'],5,  c= 'red', label = 'real')\n",
    "plt.legend()"
   ]
  },
  {
   "cell_type": "code",
   "execution_count": 1097,
   "metadata": {},
   "outputs": [
    {
     "data": {
      "text/plain": [
       "(array([  9.,  11.,  43.,  64.,  89., 109.,  86.,  57.,  25.,   7.]),\n",
       " array([0.20966414, 0.24140261, 0.27314108, 0.30487955, 0.33661801,\n",
       "        0.36835648, 0.40009495, 0.43183342, 0.46357189, 0.49531036,\n",
       "        0.52704883]),\n",
       " <a list of 10 Patch objects>)"
      ]
     },
     "execution_count": 1097,
     "metadata": {},
     "output_type": "execute_result"
    },
    {
     "data": {
      "image/png": "[encoded data removed]",
      "text/plain": [
       "<Figure size 432x288 with 1 Axes>"
      ]
     },
     "metadata": {
      "needs_background": "light"
     },
     "output_type": "display_data"
    }
   ],
   "source": [
    "low_crop_irr_surrogate_simplex[]"
   ]
  },
  {
   "cell_type": "code",
   "execution_count": 1070,
   "metadata": {},
   "outputs": [
    {
     "data": {
      "text/html": [
       "<div>\n",
       "<style scoped>\n",
       "    .dataframe tbody tr th:only-of-type {\n",
       "        vertical-align: middle;\n",
       "    }\n",
       "\n",
       "    .dataframe tbody tr th {\n",
       "        vertical-align: top;\n",
       "    }\n",
       "\n",
       "    .dataframe thead th {\n",
       "        text-align: right;\n",
       "    }\n",
       "</style>\n",
       "<table border=\"1\" class=\"dataframe\">\n",
       "  <thead>\n",
       "    <tr style=\"text-align: right;\">\n",
       "      <th></th>\n",
       "      <th>pixel_id</th>\n",
       "      <th>LC</th>\n",
       "      <th>skill</th>\n",
       "    </tr>\n",
       "  </thead>\n",
       "  <tbody>\n",
       "    <tr>\n",
       "      <td>7694</td>\n",
       "      <td>94073</td>\n",
       "      <td>cropland_irrigated</td>\n",
       "      <td>-0.062008</td>\n",
       "    </tr>\n",
       "  </tbody>\n",
       "</table>\n",
       "</div>"
      ],
      "text/plain": [
       "      pixel_id                  LC     skill\n",
       "7694     94073  cropland_irrigated -0.062008"
      ]
     },
     "execution_count": 1070,
     "metadata": {},
     "output_type": "execute_result"
    }
   ],
   "source": [
    "lc_pixels_skill.loc[lc_pixels_skill.pixel_id == 94073]"
   ]
  },
  {
   "cell_type": "code",
   "execution_count": 1065,
   "metadata": {},
   "outputs": [],
   "source": [
    "sig_low_crop_irr = simplex_sig(low_crop_irr_sample, low_crop_irr_surrogate_simplex, lc_pixels_skill)"
   ]
  },
  {
   "cell_type": "code",
   "execution_count": 1020,
   "metadata": {},
   "outputs": [
    {
     "data": {
      "text/html": [
       "<div>\n",
       "<style scoped>\n",
       "    .dataframe tbody tr th:only-of-type {\n",
       "        vertical-align: middle;\n",
       "    }\n",
       "\n",
       "    .dataframe tbody tr th {\n",
       "        vertical-align: top;\n",
       "    }\n",
       "\n",
       "    .dataframe thead th {\n",
       "        text-align: right;\n",
       "    }\n",
       "</style>\n",
       "<table border=\"1\" class=\"dataframe\">\n",
       "  <thead>\n",
       "    <tr style=\"text-align: right;\">\n",
       "      <th></th>\n",
       "      <th>181413</th>\n",
       "      <th>324912</th>\n",
       "      <th>199513</th>\n",
       "      <th>162142</th>\n",
       "      <th>173853</th>\n",
       "      <th>177908</th>\n",
       "      <th>129118</th>\n",
       "      <th>193665</th>\n",
       "      <th>143109</th>\n",
       "      <th>167428</th>\n",
       "      <th>...</th>\n",
       "      <th>305090</th>\n",
       "      <th>113133</th>\n",
       "      <th>126158</th>\n",
       "      <th>191928</th>\n",
       "      <th>306245</th>\n",
       "      <th>107321</th>\n",
       "      <th>135512</th>\n",
       "      <th>100901</th>\n",
       "      <th>173588</th>\n",
       "      <th>186097</th>\n",
       "    </tr>\n",
       "  </thead>\n",
       "  <tbody>\n",
       "    <tr>\n",
       "      <td>0</td>\n",
       "      <td>0.942580</td>\n",
       "      <td>0.837347</td>\n",
       "      <td>0.879007</td>\n",
       "      <td>0.960488</td>\n",
       "      <td>0.958834</td>\n",
       "      <td>0.944004</td>\n",
       "      <td>0.966196</td>\n",
       "      <td>0.892558</td>\n",
       "      <td>0.970151</td>\n",
       "      <td>0.954046</td>\n",
       "      <td>...</td>\n",
       "      <td>0.836175</td>\n",
       "      <td>0.897300</td>\n",
       "      <td>0.945939</td>\n",
       "      <td>0.912751</td>\n",
       "      <td>0.840072</td>\n",
       "      <td>0.869897</td>\n",
       "      <td>0.972803</td>\n",
       "      <td>0.775424</td>\n",
       "      <td>0.786267</td>\n",
       "      <td>0.916497</td>\n",
       "    </tr>\n",
       "    <tr>\n",
       "      <td>1</td>\n",
       "      <td>0.934914</td>\n",
       "      <td>0.864713</td>\n",
       "      <td>0.843894</td>\n",
       "      <td>0.951123</td>\n",
       "      <td>0.957269</td>\n",
       "      <td>0.962748</td>\n",
       "      <td>0.962029</td>\n",
       "      <td>0.896757</td>\n",
       "      <td>0.971344</td>\n",
       "      <td>0.956599</td>\n",
       "      <td>...</td>\n",
       "      <td>0.872107</td>\n",
       "      <td>0.906620</td>\n",
       "      <td>0.936884</td>\n",
       "      <td>0.919824</td>\n",
       "      <td>0.820556</td>\n",
       "      <td>0.815039</td>\n",
       "      <td>0.966224</td>\n",
       "      <td>0.863286</td>\n",
       "      <td>0.784181</td>\n",
       "      <td>0.905827</td>\n",
       "    </tr>\n",
       "    <tr>\n",
       "      <td>2</td>\n",
       "      <td>0.946117</td>\n",
       "      <td>0.849317</td>\n",
       "      <td>0.870232</td>\n",
       "      <td>0.946320</td>\n",
       "      <td>0.956657</td>\n",
       "      <td>0.952751</td>\n",
       "      <td>0.957583</td>\n",
       "      <td>0.915324</td>\n",
       "      <td>0.968423</td>\n",
       "      <td>0.961434</td>\n",
       "      <td>...</td>\n",
       "      <td>0.880498</td>\n",
       "      <td>0.891511</td>\n",
       "      <td>0.937638</td>\n",
       "      <td>0.917908</td>\n",
       "      <td>0.863503</td>\n",
       "      <td>0.855320</td>\n",
       "      <td>0.971708</td>\n",
       "      <td>0.844230</td>\n",
       "      <td>0.842285</td>\n",
       "      <td>0.901375</td>\n",
       "    </tr>\n",
       "    <tr>\n",
       "      <td>3</td>\n",
       "      <td>0.933850</td>\n",
       "      <td>0.872220</td>\n",
       "      <td>0.851298</td>\n",
       "      <td>0.946017</td>\n",
       "      <td>0.956602</td>\n",
       "      <td>0.952092</td>\n",
       "      <td>0.960508</td>\n",
       "      <td>0.926645</td>\n",
       "      <td>0.967599</td>\n",
       "      <td>0.955662</td>\n",
       "      <td>...</td>\n",
       "      <td>0.865646</td>\n",
       "      <td>0.896220</td>\n",
       "      <td>0.950913</td>\n",
       "      <td>0.929048</td>\n",
       "      <td>0.848328</td>\n",
       "      <td>0.883388</td>\n",
       "      <td>0.963814</td>\n",
       "      <td>0.812428</td>\n",
       "      <td>0.824006</td>\n",
       "      <td>0.907272</td>\n",
       "    </tr>\n",
       "    <tr>\n",
       "      <td>4</td>\n",
       "      <td>0.952884</td>\n",
       "      <td>0.841772</td>\n",
       "      <td>0.867322</td>\n",
       "      <td>0.946952</td>\n",
       "      <td>0.955847</td>\n",
       "      <td>0.954879</td>\n",
       "      <td>0.963159</td>\n",
       "      <td>0.897285</td>\n",
       "      <td>0.959867</td>\n",
       "      <td>0.961048</td>\n",
       "      <td>...</td>\n",
       "      <td>0.869003</td>\n",
       "      <td>0.913909</td>\n",
       "      <td>0.941104</td>\n",
       "      <td>0.903393</td>\n",
       "      <td>0.846583</td>\n",
       "      <td>0.871870</td>\n",
       "      <td>0.973859</td>\n",
       "      <td>0.831910</td>\n",
       "      <td>0.787330</td>\n",
       "      <td>0.908745</td>\n",
       "    </tr>\n",
       "    <tr>\n",
       "      <td>...</td>\n",
       "      <td>...</td>\n",
       "      <td>...</td>\n",
       "      <td>...</td>\n",
       "      <td>...</td>\n",
       "      <td>...</td>\n",
       "      <td>...</td>\n",
       "      <td>...</td>\n",
       "      <td>...</td>\n",
       "      <td>...</td>\n",
       "      <td>...</td>\n",
       "      <td>...</td>\n",
       "      <td>...</td>\n",
       "      <td>...</td>\n",
       "      <td>...</td>\n",
       "      <td>...</td>\n",
       "      <td>...</td>\n",
       "      <td>...</td>\n",
       "      <td>...</td>\n",
       "      <td>...</td>\n",
       "      <td>...</td>\n",
       "      <td>...</td>\n",
       "    </tr>\n",
       "    <tr>\n",
       "      <td>495</td>\n",
       "      <td>0.923179</td>\n",
       "      <td>0.854005</td>\n",
       "      <td>0.837726</td>\n",
       "      <td>0.957853</td>\n",
       "      <td>0.964115</td>\n",
       "      <td>0.950500</td>\n",
       "      <td>0.957174</td>\n",
       "      <td>0.898624</td>\n",
       "      <td>0.968885</td>\n",
       "      <td>0.959603</td>\n",
       "      <td>...</td>\n",
       "      <td>0.861585</td>\n",
       "      <td>0.910331</td>\n",
       "      <td>0.939742</td>\n",
       "      <td>0.928761</td>\n",
       "      <td>0.852609</td>\n",
       "      <td>0.869053</td>\n",
       "      <td>0.973404</td>\n",
       "      <td>0.782463</td>\n",
       "      <td>0.786809</td>\n",
       "      <td>0.926470</td>\n",
       "    </tr>\n",
       "    <tr>\n",
       "      <td>496</td>\n",
       "      <td>0.934385</td>\n",
       "      <td>0.833787</td>\n",
       "      <td>0.841415</td>\n",
       "      <td>0.953761</td>\n",
       "      <td>0.953059</td>\n",
       "      <td>0.958818</td>\n",
       "      <td>0.956396</td>\n",
       "      <td>0.900300</td>\n",
       "      <td>0.960488</td>\n",
       "      <td>0.955041</td>\n",
       "      <td>...</td>\n",
       "      <td>0.864156</td>\n",
       "      <td>0.912191</td>\n",
       "      <td>0.945366</td>\n",
       "      <td>0.919520</td>\n",
       "      <td>0.823617</td>\n",
       "      <td>0.864075</td>\n",
       "      <td>0.973974</td>\n",
       "      <td>0.807055</td>\n",
       "      <td>0.803274</td>\n",
       "      <td>0.915182</td>\n",
       "    </tr>\n",
       "    <tr>\n",
       "      <td>497</td>\n",
       "      <td>0.930844</td>\n",
       "      <td>0.846257</td>\n",
       "      <td>0.828145</td>\n",
       "      <td>0.953794</td>\n",
       "      <td>0.961038</td>\n",
       "      <td>0.944753</td>\n",
       "      <td>0.963629</td>\n",
       "      <td>0.873780</td>\n",
       "      <td>0.975519</td>\n",
       "      <td>0.951658</td>\n",
       "      <td>...</td>\n",
       "      <td>0.857966</td>\n",
       "      <td>0.924151</td>\n",
       "      <td>0.951128</td>\n",
       "      <td>0.927672</td>\n",
       "      <td>0.835460</td>\n",
       "      <td>0.842942</td>\n",
       "      <td>0.972599</td>\n",
       "      <td>0.817248</td>\n",
       "      <td>0.810576</td>\n",
       "      <td>0.872248</td>\n",
       "    </tr>\n",
       "    <tr>\n",
       "      <td>498</td>\n",
       "      <td>0.937116</td>\n",
       "      <td>0.869020</td>\n",
       "      <td>0.843975</td>\n",
       "      <td>0.953842</td>\n",
       "      <td>0.960626</td>\n",
       "      <td>0.960354</td>\n",
       "      <td>0.954874</td>\n",
       "      <td>0.906374</td>\n",
       "      <td>0.962951</td>\n",
       "      <td>0.959394</td>\n",
       "      <td>...</td>\n",
       "      <td>0.873198</td>\n",
       "      <td>0.947031</td>\n",
       "      <td>0.937070</td>\n",
       "      <td>0.909673</td>\n",
       "      <td>0.824634</td>\n",
       "      <td>0.863571</td>\n",
       "      <td>0.966603</td>\n",
       "      <td>0.817352</td>\n",
       "      <td>0.802175</td>\n",
       "      <td>0.915087</td>\n",
       "    </tr>\n",
       "    <tr>\n",
       "      <td>499</td>\n",
       "      <td>0.941423</td>\n",
       "      <td>0.827083</td>\n",
       "      <td>0.855893</td>\n",
       "      <td>0.951367</td>\n",
       "      <td>0.952682</td>\n",
       "      <td>0.945688</td>\n",
       "      <td>0.958725</td>\n",
       "      <td>0.914350</td>\n",
       "      <td>0.964379</td>\n",
       "      <td>0.956801</td>\n",
       "      <td>...</td>\n",
       "      <td>0.863814</td>\n",
       "      <td>0.886124</td>\n",
       "      <td>0.947157</td>\n",
       "      <td>0.924078</td>\n",
       "      <td>0.872809</td>\n",
       "      <td>0.834220</td>\n",
       "      <td>0.968369</td>\n",
       "      <td>0.848456</td>\n",
       "      <td>0.805738</td>\n",
       "      <td>0.893985</td>\n",
       "    </tr>\n",
       "  </tbody>\n",
       "</table>\n",
       "<p>500 rows × 100 columns</p>\n",
       "</div>"
      ],
      "text/plain": [
       "       181413    324912    199513    162142    173853    177908    129118  \\\n",
       "0    0.942580  0.837347  0.879007  0.960488  0.958834  0.944004  0.966196   \n",
       "1    0.934914  0.864713  0.843894  0.951123  0.957269  0.962748  0.962029   \n",
       "2    0.946117  0.849317  0.870232  0.946320  0.956657  0.952751  0.957583   \n",
       "3    0.933850  0.872220  0.851298  0.946017  0.956602  0.952092  0.960508   \n",
       "4    0.952884  0.841772  0.867322  0.946952  0.955847  0.954879  0.963159   \n",
       "..        ...       ...       ...       ...       ...       ...       ...   \n",
       "495  0.923179  0.854005  0.837726  0.957853  0.964115  0.950500  0.957174   \n",
       "496  0.934385  0.833787  0.841415  0.953761  0.953059  0.958818  0.956396   \n",
       "497  0.930844  0.846257  0.828145  0.953794  0.961038  0.944753  0.963629   \n",
       "498  0.937116  0.869020  0.843975  0.953842  0.960626  0.960354  0.954874   \n",
       "499  0.941423  0.827083  0.855893  0.951367  0.952682  0.945688  0.958725   \n",
       "\n",
       "       193665    143109    167428  ...    305090    113133    126158  \\\n",
       "0    0.892558  0.970151  0.954046  ...  0.836175  0.897300  0.945939   \n",
       "1    0.896757  0.971344  0.956599  ...  0.872107  0.906620  0.936884   \n",
       "2    0.915324  0.968423  0.961434  ...  0.880498  0.891511  0.937638   \n",
       "3    0.926645  0.967599  0.955662  ...  0.865646  0.896220  0.950913   \n",
       "4    0.897285  0.959867  0.961048  ...  0.869003  0.913909  0.941104   \n",
       "..        ...       ...       ...  ...       ...       ...       ...   \n",
       "495  0.898624  0.968885  0.959603  ...  0.861585  0.910331  0.939742   \n",
       "496  0.900300  0.960488  0.955041  ...  0.864156  0.912191  0.945366   \n",
       "497  0.873780  0.975519  0.951658  ...  0.857966  0.924151  0.951128   \n",
       "498  0.906374  0.962951  0.959394  ...  0.873198  0.947031  0.937070   \n",
       "499  0.914350  0.964379  0.956801  ...  0.863814  0.886124  0.947157   \n",
       "\n",
       "       191928    306245    107321    135512    100901    173588    186097  \n",
       "0    0.912751  0.840072  0.869897  0.972803  0.775424  0.786267  0.916497  \n",
       "1    0.919824  0.820556  0.815039  0.966224  0.863286  0.784181  0.905827  \n",
       "2    0.917908  0.863503  0.855320  0.971708  0.844230  0.842285  0.901375  \n",
       "3    0.929048  0.848328  0.883388  0.963814  0.812428  0.824006  0.907272  \n",
       "4    0.903393  0.846583  0.871870  0.973859  0.831910  0.787330  0.908745  \n",
       "..        ...       ...       ...       ...       ...       ...       ...  \n",
       "495  0.928761  0.852609  0.869053  0.973404  0.782463  0.786809  0.926470  \n",
       "496  0.919520  0.823617  0.864075  0.973974  0.807055  0.803274  0.915182  \n",
       "497  0.927672  0.835460  0.842942  0.972599  0.817248  0.810576  0.872248  \n",
       "498  0.909673  0.824634  0.863571  0.966603  0.817352  0.802175  0.915087  \n",
       "499  0.924078  0.872809  0.834220  0.968369  0.848456  0.805738  0.893985  \n",
       "\n",
       "[500 rows x 100 columns]"
      ]
     },
     "execution_count": 1020,
     "metadata": {},
     "output_type": "execute_result"
    }
   ],
   "source": [
    "high_woodland_surrogate_simplex_month"
   ]
  },
  {
   "cell_type": "code",
   "execution_count": null,
   "metadata": {},
   "outputs": [],
   "source": []
  },
  {
   "cell_type": "code",
   "execution_count": 859,
   "metadata": {},
   "outputs": [
    {
     "data": {
      "text/html": [
       "<div>\n",
       "<style scoped>\n",
       "    .dataframe tbody tr th:only-of-type {\n",
       "        vertical-align: middle;\n",
       "    }\n",
       "\n",
       "    .dataframe tbody tr th {\n",
       "        vertical-align: top;\n",
       "    }\n",
       "\n",
       "    .dataframe thead th {\n",
       "        text-align: right;\n",
       "    }\n",
       "</style>\n",
       "<table border=\"1\" class=\"dataframe\">\n",
       "  <thead>\n",
       "    <tr style=\"text-align: right;\">\n",
       "      <th></th>\n",
       "      <th>pixel_id</th>\n",
       "      <th>LC</th>\n",
       "      <th>skill</th>\n",
       "    </tr>\n",
       "  </thead>\n",
       "  <tbody>\n",
       "    <tr>\n",
       "      <td>14809</td>\n",
       "      <td>110538</td>\n",
       "      <td>woodland</td>\n",
       "      <td>0.186696</td>\n",
       "    </tr>\n",
       "    <tr>\n",
       "      <td>28392</td>\n",
       "      <td>136790</td>\n",
       "      <td>woodland</td>\n",
       "      <td>0.174840</td>\n",
       "    </tr>\n",
       "    <tr>\n",
       "      <td>40459</td>\n",
       "      <td>155911</td>\n",
       "      <td>woodland</td>\n",
       "      <td>0.185137</td>\n",
       "    </tr>\n",
       "    <tr>\n",
       "      <td>59696</td>\n",
       "      <td>184494</td>\n",
       "      <td>woodland</td>\n",
       "      <td>0.198001</td>\n",
       "    </tr>\n",
       "    <tr>\n",
       "      <td>59698</td>\n",
       "      <td>184496</td>\n",
       "      <td>woodland</td>\n",
       "      <td>0.168512</td>\n",
       "    </tr>\n",
       "    <tr>\n",
       "      <td>...</td>\n",
       "      <td>...</td>\n",
       "      <td>...</td>\n",
       "      <td>...</td>\n",
       "    </tr>\n",
       "    <tr>\n",
       "      <td>103942</td>\n",
       "      <td>316893</td>\n",
       "      <td>woodland</td>\n",
       "      <td>-0.013475</td>\n",
       "    </tr>\n",
       "    <tr>\n",
       "      <td>104044</td>\n",
       "      <td>317477</td>\n",
       "      <td>woodland</td>\n",
       "      <td>0.018067</td>\n",
       "    </tr>\n",
       "    <tr>\n",
       "      <td>104731</td>\n",
       "      <td>320976</td>\n",
       "      <td>woodland</td>\n",
       "      <td>0.189058</td>\n",
       "    </tr>\n",
       "    <tr>\n",
       "      <td>107628</td>\n",
       "      <td>337871</td>\n",
       "      <td>woodland</td>\n",
       "      <td>0.010223</td>\n",
       "    </tr>\n",
       "    <tr>\n",
       "      <td>107748</td>\n",
       "      <td>338454</td>\n",
       "      <td>woodland</td>\n",
       "      <td>0.040267</td>\n",
       "    </tr>\n",
       "  </tbody>\n",
       "</table>\n",
       "<p>100 rows × 3 columns</p>\n",
       "</div>"
      ],
      "text/plain": [
       "        pixel_id        LC     skill\n",
       "14809     110538  woodland  0.186696\n",
       "28392     136790  woodland  0.174840\n",
       "40459     155911  woodland  0.185137\n",
       "59696     184494  woodland  0.198001\n",
       "59698     184496  woodland  0.168512\n",
       "...          ...       ...       ...\n",
       "103942    316893  woodland -0.013475\n",
       "104044    317477  woodland  0.018067\n",
       "104731    320976  woodland  0.189058\n",
       "107628    337871  woodland  0.010223\n",
       "107748    338454  woodland  0.040267\n",
       "\n",
       "[100 rows x 3 columns]"
      ]
     },
     "execution_count": 859,
     "metadata": {},
     "output_type": "execute_result"
    }
   ],
   "source": [
    "lc_pixels_skill.loc[lc_pixels_skill['pixel_id'].isin(low_woodland_sample)]"
   ]
  },
  {
   "cell_type": "markdown",
   "metadata": {},
   "source": [
    "# EXTRA"
   ]
  },
  {
   "cell_type": "code",
   "execution_count": null,
   "metadata": {},
   "outputs": [],
   "source": [
    "def make_surrogate_data(mean_dek_df, anom_dek_df):\n",
    "    \n",
    "    surr_list = pd.DataFrame()\n",
    "    \n",
    "    i = 0\n",
    "    while i < 500:\n",
    "        surr = mean_dek_df + sample(list(anom_dek_df), len(anom_dek_df))\n",
    "        surr_list[i] = surr.values\n",
    "        i +=1\n",
    "    return surr_list\n",
    "    \n",
    "       "
   ]
  },
  {
   "cell_type": "code",
   "execution_count": null,
   "metadata": {},
   "outputs": [],
   "source": [
    "def ccm_surrogate(df, E, tau, Tp):\n",
    "    ccm_out = []\n",
    "    for i in range(1,501):\n",
    "        targetcol = 'P' + str(i)\n",
    "        #print(targetcol)\n",
    "        ccm_result = CCM(dataFrame= df, E = E, tau = tau, Tp = Tp, libSizes = '600 600 10', sample = 1, columns = 'NDVI', target = targetcol, verbose = True, showPlot = False)\n",
    "        col = ccm_result['NDVI:'+targetcol]\n",
    "        ccm_out.append(col.values[0])\n",
    "    return ccm_out\n",
    "    "
   ]
  },
  {
   "cell_type": "markdown",
   "metadata": {},
   "source": [
    "# Run CCM on surrogate data and combine into results dataframe"
   ]
  },
  {
   "cell_type": "code",
   "execution_count": null,
   "metadata": {},
   "outputs": [],
   "source": [
    "def ccm_surrogates_df(d, E, tau, Tp, var):\n",
    "    \n",
    "    ccm_df = pd.DataFrame()\n",
    "    #for key, value in list(d)[0:3]:\n",
    "    for x in list(d)[0:20]:\n",
    "        print(x)\n",
    "        key = x\n",
    "        df = d[x]\n",
    "        ccm_col = []\n",
    "        \n",
    "        for i in range(1,501):\n",
    "            targetcol = var + str(i)\n",
    "        #print(targetcol)\n",
    "            ccm_result = CCM(dataFrame= df, E = E, tau = tau, Tp = Tp, libSizes = '600 600 10', sample = 1, columns = 'NDVI', target = targetcol, verbose = True, showPlot = False)\n",
    "            col = ccm_result['NDVI:'+targetcol]\n",
    "            ccm_col.append(col.values[0])\n",
    "            \n",
    "        ccm_df[key] = ccm_col\n",
    "    return ccm_df\n",
    "        #print(ccm_col)\n",
    "    #return pd.DataFrame(ccm_out)"
   ]
  },
  {
   "cell_type": "markdown",
   "metadata": {},
   "source": [
    "# Make Real Data Dictionary"
   ]
  },
  {
   "cell_type": "code",
   "execution_count": null,
   "metadata": {},
   "outputs": [],
   "source": [
    "def make_real_data_dict(ndvi_table, var_table, pixel_ids, var):\n",
    "   \n",
    "    d = {}\n",
    "    \n",
    "    for i in pixel_ids:\n",
    "        joined_data = pd.concat([ndvi_table['Time'], ndvi_table[i], var_table[i]], axis =1)\n",
    "        joined_data.columns = ['Time', 'NDVI', var]\n",
    "        d[i] = joined_data\n",
    "    return d\n",
    "        "
   ]
  },
  {
   "cell_type": "markdown",
   "metadata": {},
   "source": [
    "# Run CCM on real data"
   ]
  },
  {
   "cell_type": "code",
   "execution_count": null,
   "metadata": {},
   "outputs": [],
   "source": [
    "def ccm_real_df(d, E, tau, Tp, var):\n",
    "    \n",
    "    ccm_df = pd.DataFrame()\n",
    "    \n",
    "    for x in list(d):\n",
    "        key = x\n",
    "        df = d[x]\n",
    "        ccm_result = CCM(dataFrame= df, E = E, tau = tau, Tp = Tp, libSizes = '600 600 10', sample = 1, columns = 'NDVI', target = var, verbose = True, showPlot = False)\n",
    "        col = ccm_result['NDVI:' + var]\n",
    "        \n",
    "        ccm_df[key] = [col.values[0]]\n",
    "    return ccm_df"
   ]
  },
  {
   "cell_type": "code",
   "execution_count": null,
   "metadata": {},
   "outputs": [],
   "source": [
    "low_woodland_real_dict = make_real_data_dict(ndvi_tableT, precip_tableT, low_woodland_sample, 'P')"
   ]
  },
  {
   "cell_type": "code",
   "execution_count": null,
   "metadata": {},
   "outputs": [],
   "source": []
  },
  {
   "cell_type": "code",
   "execution_count": null,
   "metadata": {},
   "outputs": [],
   "source": []
  },
  {
   "cell_type": "code",
   "execution_count": 1044,
   "metadata": {},
   "outputs": [],
   "source": [
    "test_df = pd.DataFrame({'Time': dekads, 'ndvi': ndvi_table.loc[181413], 'precip': precip_table.loc[181413], 'temp': temp_table.loc[181413]})"
   ]
  },
  {
   "cell_type": "code",
   "execution_count": 1046,
   "metadata": {},
   "outputs": [],
   "source": [
    "test_df['ndvi'] = (test_df['ndvi']-100)/100"
   ]
  },
  {
   "cell_type": "code",
   "execution_count": 1048,
   "metadata": {},
   "outputs": [],
   "source": [
    "test_df['ndvi'] = (test_df['ndvi']- test_df['ndvi'].mean())/test_df['ndvi'].std()"
   ]
  },
  {
   "cell_type": "code",
   "execution_count": 1050,
   "metadata": {},
   "outputs": [],
   "source": [
    "test_df['precip'] = (test_df['precip'] - test_df['precip'].mean())/test_df['precip'].std()\n",
    "test_df['temp'] = (test_df['temp'] - test_df['temp'].mean())/test_df['temp'].std()"
   ]
  },
  {
   "cell_type": "code",
   "execution_count": 1055,
   "metadata": {},
   "outputs": [
    {
     "data": {
      "text/plain": [
       "False"
      ]
     },
     "execution_count": 1055,
     "metadata": {},
     "output_type": "execute_result"
    }
   ],
   "source": [
    "test_df.isnull().values.any()"
   ]
  },
  {
   "cell_type": "code",
   "execution_count": 1060,
   "metadata": {},
   "outputs": [],
   "source": [
    "simplex_result = Simplex(dataFrame = test_df,\n",
    "                                 lib = '1 303',\n",
    "                                 pred = '304 606',\n",
    "                                 E = 6, Tp = 18,\n",
    "                                 columns = 'ndvi precip temp', target = 'ndvi', showPlot = False)"
   ]
  },
  {
   "cell_type": "code",
   "execution_count": 1062,
   "metadata": {},
   "outputs": [
    {
     "data": {
      "text/plain": [
       "{'MAE': 0.3014588471162067,\n",
       " 'RMSE': 0.39179347293065975,\n",
       " 'rho': 0.9213386581403257}"
      ]
     },
     "execution_count": 1062,
     "metadata": {},
     "output_type": "execute_result"
    }
   ],
   "source": [
    "ComputeError(list(simplex_result.Observations), list(simplex_result.Predictions))"
   ]
  },
  {
   "cell_type": "code",
   "execution_count": 1159,
   "metadata": {},
   "outputs": [],
   "source": [
    "def create_test_df(pixel_id):\n",
    "    test_df = pd.DataFrame({'Time': dekads, 'ndvi': ndvi_table.loc[pixel_id], 'precip': precip_table.loc[pixel_id], 'temp': temp_table.loc[pixel_id]})\n",
    "    test_df['ndvi'] = (test_df['ndvi']-100)/100\n",
    "    test_df['ndvi'] = (test_df['ndvi']- test_df['ndvi'].mean())/test_df['ndvi'].std()\n",
    "    test_df['precip'] = (test_df['precip'] - test_df['precip'].mean())/test_df['precip'].std()\n",
    "    test_df['temp'] = (test_df['temp'] - test_df['temp'].mean())/test_df['temp'].std()\n",
    "    \n",
    "    return test_df"
   ]
  },
  {
   "cell_type": "code",
   "execution_count": 1164,
   "metadata": {},
   "outputs": [],
   "source": [
    "test5 = create_test_df(213622)"
   ]
  },
  {
   "cell_type": "code",
   "execution_count": 1160,
   "metadata": {},
   "outputs": [],
   "source": [
    "test4 = create_test_df(181413)"
   ]
  },
  {
   "cell_type": "code",
   "execution_count": 1124,
   "metadata": {},
   "outputs": [],
   "source": [
    "test3 = create_test_df(94073)"
   ]
  },
  {
   "cell_type": "code",
   "execution_count": 1130,
   "metadata": {},
   "outputs": [
    {
     "data": {
      "text/plain": [
       "[<matplotlib.lines.Line2D at 0x7f0450de12b0>]"
      ]
     },
     "execution_count": 1130,
     "metadata": {},
     "output_type": "execute_result"
    },
    {
     "data": {
      "image/png": "[encoded data removed]",
      "text/plain": [
       "<Figure size 432x288 with 1 Axes>"
      ]
     },
     "metadata": {
      "needs_background": "light"
     },
     "output_type": "display_data"
    }
   ],
   "source": [
    "plt.plot(list(range(1,607)),mean_dek_ndvi_df1.loc[94073])\n",
    "plt.plot(list(range(1,607)), test3['ndvi'])"
   ]
  },
  {
   "cell_type": "code",
   "execution_count": 1074,
   "metadata": {},
   "outputs": [],
   "source": [
    "test2 = create_test_df(94073)"
   ]
  },
  {
   "cell_type": "code",
   "execution_count": 1075,
   "metadata": {},
   "outputs": [],
   "source": [
    "simplex2 = Simplex(dataFrame = test2,\n",
    "                                 lib = '1 303',\n",
    "                                 pred = '304 606',\n",
    "                                 E = 6, Tp = 18,\n",
    "                                 columns = 'ndvi precip temp', target = 'ndvi', showPlot = False)"
   ]
  },
  {
   "cell_type": "code",
   "execution_count": 1076,
   "metadata": {},
   "outputs": [
    {
     "data": {
      "text/plain": [
       "{'MAE': 1.5187745900991714,\n",
       " 'RMSE': 1.7703195912463483,\n",
       " 'rho': -0.062007878866497036}"
      ]
     },
     "execution_count": 1076,
     "metadata": {},
     "output_type": "execute_result"
    }
   ],
   "source": [
    "ComputeError(list(simplex2.Observations), list(simplex2.Predictions))"
   ]
  },
  {
   "cell_type": "code",
   "execution_count": 1121,
   "metadata": {},
   "outputs": [
    {
     "data": {
      "text/plain": [
       "<matplotlib.legend.Legend at 0x7f0452c554e0>"
      ]
     },
     "execution_count": 1121,
     "metadata": {},
     "output_type": "execute_result"
    },
    {
     "data": {
      "image/png": "[encoded data removed]",
      "text/plain": [
       "<Figure size 432x288 with 1 Axes>"
      ]
     },
     "metadata": {
      "needs_background": "light"
     },
     "output_type": "display_data"
    }
   ],
   "source": [
    "plt.scatter(simplex2.Observations, simplex2.Predictions, label = 'real data, rho = -0.062')\n",
    "plt.xlabel('Observations')\n",
    "plt.ylabel('Predictions')\n",
    "plt.legend()"
   ]
  },
  {
   "cell_type": "code",
   "execution_count": null,
   "metadata": {},
   "outputs": [],
   "source": []
  },
  {
   "cell_type": "code",
   "execution_count": 1107,
   "metadata": {},
   "outputs": [],
   "source": [
    "surrogate_test = pd.DataFrame({'Time': dekads, 'ndvi':low_crop_irr_surrogate_NPT_dict[94073]['N2'], 'precip': low_crop_irr_surrogate_NPT_dict[94073]['P2'], 'temp': low_crop_irr_surrogate_NPT_dict[94073]['T2']})"
   ]
  },
  {
   "cell_type": "code",
   "execution_count": 1108,
   "metadata": {},
   "outputs": [
    {
     "data": {
      "text/html": [
       "<div>\n",
       "<style scoped>\n",
       "    .dataframe tbody tr th:only-of-type {\n",
       "        vertical-align: middle;\n",
       "    }\n",
       "\n",
       "    .dataframe tbody tr th {\n",
       "        vertical-align: top;\n",
       "    }\n",
       "\n",
       "    .dataframe thead th {\n",
       "        text-align: right;\n",
       "    }\n",
       "</style>\n",
       "<table border=\"1\" class=\"dataframe\">\n",
       "  <thead>\n",
       "    <tr style=\"text-align: right;\">\n",
       "      <th></th>\n",
       "      <th>Time</th>\n",
       "      <th>ndvi</th>\n",
       "      <th>precip</th>\n",
       "      <th>temp</th>\n",
       "    </tr>\n",
       "  </thead>\n",
       "  <tbody>\n",
       "    <tr>\n",
       "      <td>0</td>\n",
       "      <td>2002-07-01</td>\n",
       "      <td>-1.056516</td>\n",
       "      <td>1.322067</td>\n",
       "      <td>0.225308</td>\n",
       "    </tr>\n",
       "    <tr>\n",
       "      <td>1</td>\n",
       "      <td>2002-07-11</td>\n",
       "      <td>0.381087</td>\n",
       "      <td>2.863781</td>\n",
       "      <td>-0.452539</td>\n",
       "    </tr>\n",
       "    <tr>\n",
       "      <td>2</td>\n",
       "      <td>2002-07-21</td>\n",
       "      <td>-0.527253</td>\n",
       "      <td>2.245730</td>\n",
       "      <td>-1.634925</td>\n",
       "    </tr>\n",
       "    <tr>\n",
       "      <td>3</td>\n",
       "      <td>2002-08-01</td>\n",
       "      <td>-0.162577</td>\n",
       "      <td>1.789686</td>\n",
       "      <td>-1.443862</td>\n",
       "    </tr>\n",
       "    <tr>\n",
       "      <td>4</td>\n",
       "      <td>2002-08-11</td>\n",
       "      <td>1.912662</td>\n",
       "      <td>2.095510</td>\n",
       "      <td>-1.121234</td>\n",
       "    </tr>\n",
       "    <tr>\n",
       "      <td>...</td>\n",
       "      <td>...</td>\n",
       "      <td>...</td>\n",
       "      <td>...</td>\n",
       "      <td>...</td>\n",
       "    </tr>\n",
       "    <tr>\n",
       "      <td>601</td>\n",
       "      <td>2019-03-11</td>\n",
       "      <td>-1.377598</td>\n",
       "      <td>-0.609942</td>\n",
       "      <td>-0.204879</td>\n",
       "    </tr>\n",
       "    <tr>\n",
       "      <td>602</td>\n",
       "      <td>2019-03-21</td>\n",
       "      <td>0.889407</td>\n",
       "      <td>-0.609942</td>\n",
       "      <td>1.994256</td>\n",
       "    </tr>\n",
       "    <tr>\n",
       "      <td>603</td>\n",
       "      <td>2019-04-01</td>\n",
       "      <td>-1.345350</td>\n",
       "      <td>0.026869</td>\n",
       "      <td>1.176586</td>\n",
       "    </tr>\n",
       "    <tr>\n",
       "      <td>604</td>\n",
       "      <td>2019-04-11</td>\n",
       "      <td>-1.527350</td>\n",
       "      <td>-0.600481</td>\n",
       "      <td>1.144694</td>\n",
       "    </tr>\n",
       "    <tr>\n",
       "      <td>605</td>\n",
       "      <td>2019-04-21</td>\n",
       "      <td>-1.450267</td>\n",
       "      <td>-0.609942</td>\n",
       "      <td>1.265698</td>\n",
       "    </tr>\n",
       "  </tbody>\n",
       "</table>\n",
       "<p>606 rows × 4 columns</p>\n",
       "</div>"
      ],
      "text/plain": [
       "          Time      ndvi    precip      temp\n",
       "0   2002-07-01 -1.056516  1.322067  0.225308\n",
       "1   2002-07-11  0.381087  2.863781 -0.452539\n",
       "2   2002-07-21 -0.527253  2.245730 -1.634925\n",
       "3   2002-08-01 -0.162577  1.789686 -1.443862\n",
       "4   2002-08-11  1.912662  2.095510 -1.121234\n",
       "..         ...       ...       ...       ...\n",
       "601 2019-03-11 -1.377598 -0.609942 -0.204879\n",
       "602 2019-03-21  0.889407 -0.609942  1.994256\n",
       "603 2019-04-01 -1.345350  0.026869  1.176586\n",
       "604 2019-04-11 -1.527350 -0.600481  1.144694\n",
       "605 2019-04-21 -1.450267 -0.609942  1.265698\n",
       "\n",
       "[606 rows x 4 columns]"
      ]
     },
     "execution_count": 1108,
     "metadata": {},
     "output_type": "execute_result"
    }
   ],
   "source": [
    "surrogate_test"
   ]
  },
  {
   "cell_type": "code",
   "execution_count": null,
   "metadata": {},
   "outputs": [],
   "source": []
  },
  {
   "cell_type": "code",
   "execution_count": 1111,
   "metadata": {},
   "outputs": [],
   "source": [
    "surrogate_simplex = Simplex(dataFrame = surrogate_test,\n",
    "                                 lib = '1 303',\n",
    "                                 pred = '304 606',\n",
    "                                 E = 6, Tp = 18,\n",
    "                                 columns = 'ndvi precip temp', target = 'ndvi', showPlot = False)"
   ]
  },
  {
   "cell_type": "code",
   "execution_count": 1112,
   "metadata": {},
   "outputs": [
    {
     "data": {
      "text/plain": [
       "{'MAE': 0.7965391774763076,\n",
       " 'RMSE': 0.9443501982635927,\n",
       " 'rho': 0.4282380139655041}"
      ]
     },
     "execution_count": 1112,
     "metadata": {},
     "output_type": "execute_result"
    }
   ],
   "source": [
    "ComputeError(list(surrogate_simplex.Observations), list(surrogate_simplex.Predictions))"
   ]
  },
  {
   "cell_type": "code",
   "execution_count": 1119,
   "metadata": {},
   "outputs": [
    {
     "data": {
      "text/plain": [
       "<matplotlib.legend.Legend at 0x7f0452d8dbe0>"
      ]
     },
     "execution_count": 1119,
     "metadata": {},
     "output_type": "execute_result"
    },
    {
     "data": {
      "image/png": "[encoded data removed]",
      "text/plain": [
       "<Figure size 432x288 with 1 Axes>"
      ]
     },
     "metadata": {
      "needs_background": "light"
     },
     "output_type": "display_data"
    }
   ],
   "source": [
    "plt.scatter(surrogate_simplex.Observations, surrogate_simplex.Predictions, label = 'surrogate data, rho = 0.43')\n",
    "plt.legend()"
   ]
  },
  {
   "cell_type": "code",
   "execution_count": 1217,
   "metadata": {},
   "outputs": [],
   "source": [
    "surrogate_test2 = pd.DataFrame({'Time': dekads, 'ndvi':high_woodland_surrogate_NPT_dict[181413]['N2'], 'precip': high_woodland_surrogate_NPT_dict[181413]['P2'], 'temp': high_woodland_surrogate_NPT_dict[181413]['T2']})"
   ]
  },
  {
   "cell_type": "code",
   "execution_count": 1220,
   "metadata": {},
   "outputs": [],
   "source": [
    "surrogate_simplex2 = Simplex(dataFrame = surrogate_test2,\n",
    "                                 lib = '1 303',\n",
    "                                 pred = '304 606',\n",
    "                                 E = 6, Tp = 18,\n",
    "                                 columns = 'ndvi precip temp', target = 'ndvi', showPlot = False)"
   ]
  },
  {
   "cell_type": "code",
   "execution_count": 1221,
   "metadata": {},
   "outputs": [
    {
     "data": {
      "text/plain": [
       "{'MAE': 0.2646729895185231,\n",
       " 'RMSE': 0.35304480884767014,\n",
       " 'rho': 0.9377755063112707}"
      ]
     },
     "execution_count": 1221,
     "metadata": {},
     "output_type": "execute_result"
    }
   ],
   "source": [
    "ComputeError(list(surrogate_simplex2.Observations), list(surrogate_simplex2.Predictions))"
   ]
  },
  {
   "cell_type": "code",
   "execution_count": 1224,
   "metadata": {},
   "outputs": [
    {
     "data": {
      "text/plain": [
       "<matplotlib.legend.Legend at 0x7f03c2e2f908>"
      ]
     },
     "execution_count": 1224,
     "metadata": {},
     "output_type": "execute_result"
    },
    {
     "data": {
      "image/png": "[encoded data removed]",
      "text/plain": [
       "<Figure size 432x288 with 1 Axes>"
      ]
     },
     "metadata": {
      "needs_background": "light"
     },
     "output_type": "display_data"
    }
   ],
   "source": [
    "plt.scatter(surrogate_simplex2.Observations, surrogate_simplex2.Predictions, label = 'surrogate data, rho = 0.937')\n",
    "plt.legend()"
   ]
  },
  {
   "cell_type": "code",
   "execution_count": 1222,
   "metadata": {},
   "outputs": [],
   "source": [
    "simplex_test4 = Simplex(dataFrame = test4,\n",
    "                                 lib = '1 303',\n",
    "                                 pred = '304 606',\n",
    "                                 E = 6, Tp = 18,\n",
    "                                 columns = 'ndvi precip temp', target = 'ndvi', showPlot = False)"
   ]
  },
  {
   "cell_type": "code",
   "execution_count": 1223,
   "metadata": {},
   "outputs": [
    {
     "data": {
      "text/plain": [
       "{'MAE': 0.3014588471162067,\n",
       " 'RMSE': 0.39179347293065975,\n",
       " 'rho': 0.9213386581403257}"
      ]
     },
     "execution_count": 1223,
     "metadata": {},
     "output_type": "execute_result"
    }
   ],
   "source": [
    "ComputeError(list(simplex_test4.Observations), list(simplex_test4.Predictions))"
   ]
  },
  {
   "cell_type": "code",
   "execution_count": 1226,
   "metadata": {},
   "outputs": [
    {
     "data": {
      "text/plain": [
       "<matplotlib.legend.Legend at 0x7f03c2d2bda0>"
      ]
     },
     "execution_count": 1226,
     "metadata": {},
     "output_type": "execute_result"
    },
    {
     "data": {
      "image/png": "[encoded data removed]",
      "text/plain": [
       "<Figure size 432x288 with 1 Axes>"
      ]
     },
     "metadata": {
      "needs_background": "light"
     },
     "output_type": "display_data"
    }
   ],
   "source": [
    "plt.scatter(simplex_test4.Observations, simplex_test4.Predictions, label = 'real data, rho = 0.921')\n",
    "plt.legend()"
   ]
  },
  {
   "cell_type": "code",
   "execution_count": null,
   "metadata": {},
   "outputs": [],
   "source": []
  }
 ],
 "metadata": {
  "kernelspec": {
   "display_name": "Python [conda env:edm]",
   "language": "python",
   "name": "conda-env-edm-py"
  },
  "language_info": {
   "codemirror_mode": {
    "name": "ipython",
    "version": 3
   },
   "file_extension": ".py",
   "mimetype": "text/x-python",
   "name": "python",
   "nbconvert_exporter": "python",
   "pygments_lexer": "ipython3",
   "version": "3.7.3"
  }
 },
 "nbformat": 4,
 "nbformat_minor": 4
}
