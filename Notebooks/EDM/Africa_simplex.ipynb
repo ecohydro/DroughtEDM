{
 "cells": [
  {
   "cell_type": "markdown",
   "metadata": {},
   "source": [
    "This repository contains functions for generating the prediction skill across East Africa on the Administrative Level 1 Level and computing a pixelwise evaluation of prediction skill using EDM across Africa for a given environmental variable\n",
    "\n",
    "- To do: \n",
    "    - look at sensitivity of ED on spatial scale and then adjust pixelwise analysis so that it is using the optimal ED for each pixel\n",
    "    - what to do about gaps in time series "
   ]
  },
  {
   "cell_type": "code",
   "execution_count": 3,
   "metadata": {},
   "outputs": [],
   "source": [
    "from pyEDM import *\n",
    "import pandas as pd\n",
    "import numpy as np\n",
    "import matplotlib as mpl\n",
    "from matplotlib import pyplot as plt\n",
    "import os\n",
    "import geopandas as gpd\n",
    "from shapely.geometry import Polygon\n",
    "import rasterio\n",
    "import xarray as xr\n",
    "from mpl_toolkits.axes_grid1 import make_axes_locatable\n",
    "import fiona\n",
    "import rasterio.mask\n",
    "from descartes import PolygonPatch\n",
    "from rasterio.plot import show\n",
    "from tqdm import tqdm\n",
    "import datetime"
   ]
  },
  {
   "cell_type": "code",
   "execution_count": 4,
   "metadata": {},
   "outputs": [],
   "source": [
    "croplands_vars_dir = '/home/rgreen/tana-spin/rgreen/DroughtEDM/Data/VariablesByLandCover2016/Variables_Croplands/'\n",
    "grasslands_vars_dir = '/home/rgreen/tana-spin/rgreen/DroughtEDM/Data/VariablesByLandCover2016/Variables_Grasslands/'\n",
    "savannas_vars_dir = '/home/rgreen/tana-spin/rgreen/DroughtEDM/Data/VariablesByLandCover2016/Variables_Savannas/'\n",
    "cropnatveg_vars_dir = '/home/rgreen/tana-spin/rgreen/DroughtEDM/Data/VariablesByLandCover2016/Variables_CropNatVeg/'\n",
    "EA_TS_DIR = '/home/rgreen/DroughtEDM/Data/EA_TS/Final/'\n",
    "\n",
    "Africa_simplex = '/home/rgreen/DroughtEDM/Data/Africa_simplex/' #out directory\n",
    "\n",
    "Admin_boundaries = '/home/rgreen/tana-spin/rgreen/DroughtEDM/Data/AdminBoundaries/'"
   ]
  },
  {
   "cell_type": "code",
   "execution_count": 5,
   "metadata": {},
   "outputs": [],
   "source": [
    "precip_dir = '/home/rgreen/tana-spin/rgreen/DroughtEDM/Data/CHIRPS/Resampled/' \n",
    "temp_dir = '/home/rgreen/tana-spin/rgreen/DroughtEDM/Data/CHIRTS/Dekads/'\n",
    "ndvi_dir = '/home/rgreen/tana-spin/rgreen/DroughtEDM/Data/eMODIS_NDVI/Resampled/' \n",
    "sm_dir = '/home/rgreen/tana-spin/rgreen/DroughtEDM/Data/FLDAS_SM/Dekads/' \n",
    "pet_dir = '/home/rgreen/tana-spin/rgreen/DroughtEDM/Data/Hobbins_ET/Resampled/'\n",
    "lst_dir = '/home/rgreen/tana-spin/rgreen/DroughtEDM/Data/LST/Resampled/'"
   ]
  },
  {
   "cell_type": "code",
   "execution_count": 6,
   "metadata": {},
   "outputs": [],
   "source": [
    "#anomaly out directories\n",
    "anomaly_ndvi = '/home/rgreen/tana-spin/rgreen/DroughtEDM/Data/eMODIS_NDVI/Anomaly/'\n",
    "anomaly_precip = '/home/rgreen/tana-spin/rgreen/DroughtEDM/Data/CHIRPS/Anomaly/'\n",
    "anomaly_temp = '/home/rgreen/tana-spin/rgreen/DroughtEDM/Data/CHIRTS/Anomaly/'\n",
    "anomaly_sm = '/home/rgreen/tana-spin/rgreen/DroughtEDM/Data/FLDAS_SM/Anomaly/'\n",
    "anomaly_pet = '/home/rgreen/tana-spin/rgreen/DroughtEDM/Data/Hobbins_ET/Anomaly/'\n",
    "anomaly_lst = '/home/rgreen/tana-spin/rgreen/DroughtEDM/Data/LST/Anomaly/'"
   ]
  },
  {
   "cell_type": "code",
   "execution_count": 9,
   "metadata": {},
   "outputs": [],
   "source": [
    "ea_adminbds = Admin_boundaries + 'gadm36_EastAfrica.shp'\n",
    "ea_bndry = gpd.read_file(ea_adminbds)\n",
    "world = gpd.read_file(gpd.datasets.get_path('naturalearth_lowres'))\n",
    "Africa_basemap = world[world['continent'] == 'Africa']\n",
    "EA_countries = ['Burundi', 'Djibouti', 'Eritrea', 'Ethiopia', 'Kenya', 'Rwanda', 'Sudan', 'S. Sudan', 'Somalia', 'Somaliland', 'South Sudan', 'Tanzania', 'Uganda']\n",
    "EastAfrica_basemap = world[world['name'].isin(EA_countries)]\n",
    "EastAfrica_basemap.to_file(Admin_boundaries + 'EastAfrica_countries.shp')"
   ]
  },
  {
   "cell_type": "code",
   "execution_count": 10,
   "metadata": {},
   "outputs": [],
   "source": [
    "Tanzania = EastAfrica_basemap[EastAfrica_basemap.name == 'Tanzania']\n",
    "Kenya = EastAfrica_basemap[EastAfrica_basemap.name == 'Kenya']\n",
    "Sudan = EastAfrica_basemap[EastAfrica_basemap.name == 'Sudan']\n",
    "Burundi = EastAfrica_basemap[EastAfrica_basemap.name == 'Burundi']\n",
    "Eritrea = EastAfrica_basemap[EastAfrica_basemap.name == 'Eritrea']\n",
    "Ethiopia = EastAfrica_basemap[EastAfrica_basemap.name == 'Ethiopia']\n",
    "Djibouti = EastAfrica_basemap[EastAfrica_basemap.name == 'Djibouti']\n",
    "Uganda = EastAfrica_basemap[EastAfrica_basemap.name == 'Uganda']\n",
    "Rwanda = EastAfrica_basemap[EastAfrica_basemap.name == 'Rwanda']\n",
    "SSudan = EastAfrica_basemap[EastAfrica_basemap.name == 'S. Sudan']\n",
    "Somalia = EastAfrica_basemap[EastAfrica_basemap.name.isin(['Somalia', 'Somaliland'])]\n",
    "\n",
    "Tanzania.to_file(Admin_boundaries + 'Tanzania.shp')\n",
    "Kenya.to_file(Admin_boundaries + 'Kenya.shp')\n",
    "Sudan.to_file(Admin_boundaries + 'Sudan.shp')\n",
    "Burundi.to_file(Admin_boundaries + 'Burundi.shp')\n",
    "Eritrea.to_file(Admin_boundaries + 'Eritrea.shp')\n",
    "Ethiopia.to_file(Admin_boundaries + 'Ethiopia.shp')\n",
    "Djibouti.to_file(Admin_boundaries + 'Djibouti.shp')\n",
    "Uganda.to_file(Admin_boundaries + 'Uganda.shp')\n",
    "Rwanda.to_file(Admin_boundaries + 'Rwanda.shp')\n",
    "SSudan.to_file(Admin_boundaries + 'SSudan.shp')\n",
    "Somalia.to_file(Admin_boundaries + 'Somalia.shp')"
   ]
  },
  {
   "cell_type": "code",
   "execution_count": 11,
   "metadata": {},
   "outputs": [],
   "source": [
    "begin = pd.datetime(2002,7,1)\n",
    "end = pd.datetime(2016,12,31)\n",
    "dtrange = pd.date_range(begin, end)\n",
    "days = list(range(0,5298)) #length of dtrange\n",
    "daysDF = pd.DataFrame({'Days': days}, index=dtrange)\n",
    "d = daysDF.index.day - np.clip((daysDF.index.day-1) // 10, 0, 2)*10 - 1 \n",
    "dekaddates = daysDF.index.values - np.array(d, dtype=\"timedelta64[D]\")\n",
    "dekads = daysDF.groupby(dekaddates).mean()\n",
    "dekads = dekads.index"
   ]
  },
  {
   "cell_type": "markdown",
   "metadata": {
    "toc-hr-collapsed": true
   },
   "source": [
    "## 1. Prediction Skill Across Admin Zones East Africa"
   ]
  },
  {
   "cell_type": "code",
   "execution_count": 17,
   "metadata": {},
   "outputs": [],
   "source": [
    "def single_simplex_error(in_dir, var1, var2, train, test, ed, pi, col):\n",
    "    '''\n",
    "    This function computes the simplex prediction skill for a given land cover, environmental variable, embedding dimensions and prediction interval\n",
    "\n",
    "    The result is a dataframe of error values and the filename describing each area and land cover\n",
    "    Args:\n",
    "    - in_dir: input directory \n",
    "    - file: filename (string)\n",
    "    - var1: training variable (string)\n",
    "    - var2: testing variable (string) (often training and testing the same)\n",
    "    - train: portion of data library used to train (string of range with space between values)\n",
    "    - test: portion of data libary used to test (string of range with space between values) \n",
    "    - ed: embedding dimension\n",
    "    - pi: prediction interval (Tp)  \n",
    "    - param: error parameter (MAE, RMSE, rho)\n",
    "    '''\n",
    "    files=np.array(sorted(os.listdir(in_dir)))\n",
    "    tifs = pd.Series(files).str.contains('.csv')\n",
    "    files = files[tifs]\n",
    "    \n",
    "    #param_range = list(itertools.product(list(range(1,19)), repeat = 2))[:180]\n",
    "    #cut off at 180 because we are only interested in the first 10 embedding dimensions but 18 dekads forward \n",
    "    #six_mo_error = collections.OrderedDict()\n",
    "    output = []\n",
    "    \n",
    "    for filename in files:\n",
    "        \n",
    "        data = pd.read_csv(in_dir+filename, usecols = ['Time', var1])\n",
    "        if not data.isnull().values.any():\n",
    "            simplex_result = Simplex(dataFrame = data, lib = train, pred = test, E = ed, Tp = pi, columns = var1, target = var2, showPlot = False)\n",
    "            #print(simplex_result)\n",
    "            error = ComputeError(list(simplex_result.Observations), list(simplex_result.Predictions))\n",
    "            MAE = list(error.values())[0]\n",
    "            RMSE = list(error.values())[1]\n",
    "            rho = list(error.values())[2]\n",
    "            #print(MAE)\n",
    "            output.append(\n",
    "            {\n",
    "            'rho': MAE, #change depending on error parameter of interest\n",
    "            col: filename,\n",
    "    \n",
    "        }\n",
    "    ) \n",
    "\n",
    "    return pd.DataFrame.from_dict(output)\n",
    "\n",
    "    "
   ]
  },
  {
   "cell_type": "code",
   "execution_count": 18,
   "metadata": {},
   "outputs": [],
   "source": [
    "#mae_df = single_simplex_error(EA_TS_DIR, 'NDVI', 'NDVI', '1 100', '101 522', 1, 18, 'MAE', 'GID_1')\n",
    "error_zone_df = single_simplex_error(EA_TS_DIR, 'P', 'P', '1 100', '101 522', 1, 18, 'GID_1')"
   ]
  },
  {
   "cell_type": "code",
   "execution_count": 8,
   "metadata": {},
   "outputs": [],
   "source": [
    "error_zone_croplands = error_zone_df[error_zone_df['GID_1'].str.contains('croplands')]\n"
   ]
  },
  {
   "cell_type": "code",
   "execution_count": 10,
   "metadata": {},
   "outputs": [
    {
     "name": "stderr",
     "output_type": "stream",
     "text": [
      "/home/rgreen/miniconda3/envs/edm/lib/python3.7/site-packages/ipykernel/__main__.py:2: SettingWithCopyWarning: \n",
      "A value is trying to be set on a copy of a slice from a DataFrame.\n",
      "Try using .loc[row_indexer,col_indexer] = value instead\n",
      "\n",
      "See the caveats in the documentation: http://pandas.pydata.org/pandas-docs/stable/user_guide/indexing.html#returning-a-view-versus-a-copy\n",
      "  from ipykernel import kernelapp as app\n"
     ]
    }
   ],
   "source": [
    "#get only the ADMIN 1 zone ID name\n",
    "error_zone_croplands['GID_1'] = error_zone_croplands['GID_1'].str.split(\"_ea\", n= 0, expand = True) \n",
    "#mae_df['GID_1'] = mae_df['GID_1'].str.split(\"_ea\", n= 0, expand = True) "
   ]
  },
  {
   "cell_type": "code",
   "execution_count": 12,
   "metadata": {},
   "outputs": [],
   "source": [
    "merged_df = ea_bndry.merge(error_zone_croplands, how = 'inner', on = ['GID_1'])\n",
    "variable = 'rho'\n",
    "vmin, vmax = 0, 20"
   ]
  },
  {
   "cell_type": "code",
   "execution_count": 13,
   "metadata": {},
   "outputs": [
    {
     "data": {
      "image/png": "[encoded data removed]",
      "text/plain": [
       "<Figure size 1440x864 with 2 Axes>"
      ]
     },
     "metadata": {
      "needs_background": "light"
     },
     "output_type": "display_data"
    }
   ],
   "source": [
    "##change to Rho or RMSE\n",
    "\n",
    "fig, ax = plt.subplots(1, figsize=(20, 12))\n",
    "EastAfrica_basemap.plot(color = 'blue', ax = ax, alpha = 0.05)\n",
    "merged_df.plot(column = variable, cmap='Greens', linewidth=0.8, ax=ax, edgecolor=None)\n",
    "ax.axis('off')\n",
    "ax.set_title('Simplex 6-Month Ahead Precipitation Prediction Mean Absolute Error', fontdict={'fontsize': '25', 'fontweight' : '3'})\n",
    "sm = plt.cm.ScalarMappable(cmap='Greens', norm=plt.Normalize(vmin=vmin, vmax=vmax))\n",
    "# empty array for the data range\n",
    "sm._A = []\n",
    "# add the colorbar to the figure\n",
    "cbar = fig.colorbar(sm)"
   ]
  },
  {
   "cell_type": "markdown",
   "metadata": {},
   "source": [
    "## 2. Generate Anomaly Rasters to remove Climatology"
   ]
  },
  {
   "cell_type": "code",
   "execution_count": 12,
   "metadata": {},
   "outputs": [],
   "source": [
    "def stack_rasters(in_dir, keyword):\n",
    "    \n",
    "    '''\n",
    "    This function creates a raster stack xarray DataArray given a specified variable keyword.\n",
    "    Keywords = 'chirps', 'Tmax', 'ndvi', 'SM', 'pet', 'lst'\n",
    "    \n",
    "    '''\n",
    "    \n",
    "    files=np.array(sorted(os.listdir(in_dir)))\n",
    "    tifs = pd.Series(files).str.contains('.tif')\n",
    "    files = files[tifs]\n",
    "    \n",
    "    stacked = []\n",
    "    \n",
    "    for filename in files: \n",
    "        if keyword in filename:\n",
    "            file = xr.open_rasterio(in_dir+filename)\n",
    "            stacked.append(file.sel(band=1))\n",
    "            \n",
    "    combined = xr.concat(stacked, dim = 'time')\n",
    "  \n",
    "\n",
    "    return combined.assign_coords(time=dekads)"
   ]
  },
  {
   "cell_type": "code",
   "execution_count": 376,
   "metadata": {},
   "outputs": [],
   "source": [
    "stack_out = stack_rasters(savannas_vars_dir, 'lst')"
   ]
  },
  {
   "cell_type": "code",
   "execution_count": 378,
   "metadata": {},
   "outputs": [
    {
     "name": "stderr",
     "output_type": "stream",
     "text": [
      "/home/rgreen/miniconda3/envs/edm/lib/python3.7/site-packages/xarray/core/nanops.py:140: RuntimeWarning: Mean of empty slice\n",
      "  return np.nanmean(a, axis=axis, dtype=dtype)\n"
     ]
    }
   ],
   "source": [
    "#use this just for NDVI\n",
    "# ds_ndvi = (stack_out-100)/100\n",
    "# ds_anom = ds_ndvi - ds_ndvi.mean(dim = 'time')\n",
    "\n",
    "#all other variables\n",
    "ds_anom = stack_out - stack_out.mean(dim ='time')"
   ]
  },
  {
   "cell_type": "code",
   "execution_count": 379,
   "metadata": {},
   "outputs": [],
   "source": [
    "def dataarray2tiff(dataarray, in_dir, out_dir, out_name):\n",
    "    \n",
    "    '''\n",
    "    This function converts a 2D xarray DataArray into a tif using the profile of an existing tif\n",
    "\n",
    "    '''\n",
    "    \n",
    "\n",
    "    with rasterio.open(in_dir+ os.listdir(in_dir)[0]) as src:\n",
    "        profile = src.profile\n",
    "        \n",
    "    for i in np.arange(0,522, 1):\n",
    "        data = np.array(dataarray[i])\n",
    "       \n",
    "        with rasterio.open(out_dir + out_name + str(np.array(dataarray[i].time))[:10] + '.tif', 'w', **profile) as dst:\n",
    "            \n",
    "            data = data.astype(np.float32)\n",
    "            dst.write(data, indexes = 1)"
   ]
  },
  {
   "cell_type": "code",
   "execution_count": 380,
   "metadata": {},
   "outputs": [],
   "source": [
    "dataarray2tiff(ds_anom, savannas_vars_dir, anomaly_lst + 'Savannas_Anomaly/', 'savannas_lst_anomaly_')"
   ]
  },
  {
   "cell_type": "markdown",
   "metadata": {},
   "source": [
    "## 3. Pixelwise Prediction Skill Across Africa"
   ]
  },
  {
   "cell_type": "code",
   "execution_count": 13,
   "metadata": {},
   "outputs": [],
   "source": [
    "def pixelwise_ts_table(in_dir):\n",
    "    \n",
    "    '''\n",
    "    This function searches through the file directory and creates a dataframe of pixel values over time from rasters\n",
    "    based on a given keyword describing the environmental variable of interest to generate a raster time series stack \n",
    "    \n",
    "   In the output dataframe, columns are each pixel extracted from the raster (read squentially into a list)\n",
    "   and rows are the same pixel over time (dekads going down)\n",
    "    \n",
    "    Args:\n",
    "    - in_dir: path to the input directory\n",
    "    -keyword: string that is unique to the environmental variable\n",
    "        options: ['chirps', 'lst', 'ndvi', 'pet', 'SM', 'Tmax']\n",
    "    '''\n",
    "    \n",
    "    \n",
    "    files=np.array(sorted(os.listdir(in_dir)))\n",
    "    tifs = pd.Series(files).str.contains('.tif')\n",
    "    files = files[tifs]#[0:522]\n",
    "    \n",
    "    \n",
    "    pixelwise_TS = []\n",
    "    \n",
    "    for filename in tqdm(files): \n",
    "        \n",
    "        open_file = xr.open_rasterio(in_dir+filename).sel(band=1)\n",
    "        array = open_file.values\n",
    "    \n",
    "        pixel_list = array.ravel().tolist()\n",
    "   \n",
    "        pixelwise_TS.append(pixel_list)\n",
    "\n",
    "    return pd.DataFrame(pixelwise_TS)\n",
    "\n",
    "    "
   ]
  },
  {
   "cell_type": "code",
   "execution_count": 14,
   "metadata": {},
   "outputs": [
    {
     "name": "stderr",
     "output_type": "stream",
     "text": [
      "100%|██████████| 522/522 [00:12<00:00, 42.50it/s]\n"
     ]
    },
    {
     "ename": "FileNotFoundError",
     "evalue": "[Errno 2] No such file or directory: '/home/rgreen/tana-spin/rgreen/DroughtEDM/Data/CHIRPS/Anomaly/Croplands_Anomaly/'",
     "output_type": "error",
     "traceback": [
      "\u001b[0;31m---------------------------------------------------------------------------\u001b[0m",
      "\u001b[0;31mFileNotFoundError\u001b[0m                         Traceback (most recent call last)",
      "\u001b[0;32m<ipython-input-14-af57f7657e57>\u001b[0m in \u001b[0;36m<module>\u001b[0;34m\u001b[0m\n\u001b[1;32m      1\u001b[0m \u001b[0mtemp_crops_table\u001b[0m \u001b[0;34m=\u001b[0m \u001b[0mpixelwise_ts_table\u001b[0m\u001b[0;34m(\u001b[0m\u001b[0manomaly_temp\u001b[0m \u001b[0;34m+\u001b[0m \u001b[0;34m'Croplands_Anomaly/'\u001b[0m\u001b[0;34m)\u001b[0m\u001b[0;34m\u001b[0m\u001b[0;34m\u001b[0m\u001b[0m\n\u001b[0;32m----> 2\u001b[0;31m \u001b[0mprecip_crops_table\u001b[0m \u001b[0;34m=\u001b[0m \u001b[0mpixelwise_ts_table\u001b[0m\u001b[0;34m(\u001b[0m\u001b[0manomaly_precip\u001b[0m \u001b[0;34m+\u001b[0m \u001b[0;34m'Croplands_Anomaly/'\u001b[0m\u001b[0;34m)\u001b[0m\u001b[0;34m\u001b[0m\u001b[0;34m\u001b[0m\u001b[0m\n\u001b[0m\u001b[1;32m      3\u001b[0m \u001b[0mndvi_crops_table\u001b[0m \u001b[0;34m=\u001b[0m \u001b[0mpixelwise_ts_table\u001b[0m\u001b[0;34m(\u001b[0m\u001b[0manomaly_ndvi\u001b[0m \u001b[0;34m+\u001b[0m \u001b[0;34m'Croplands_Anomaly/'\u001b[0m\u001b[0;34m)\u001b[0m\u001b[0;34m\u001b[0m\u001b[0;34m\u001b[0m\u001b[0m\n\u001b[1;32m      4\u001b[0m \u001b[0;34m\u001b[0m\u001b[0m\n\u001b[1;32m      5\u001b[0m \u001b[0;31m#sm_table = pixelwise_ts_table(croplands_vars_dir, 'SM')\u001b[0m\u001b[0;34m\u001b[0m\u001b[0;34m\u001b[0m\u001b[0;34m\u001b[0m\u001b[0m\n",
      "\u001b[0;32m<ipython-input-13-0eb7fb4e7efc>\u001b[0m in \u001b[0;36mpixelwise_ts_table\u001b[0;34m(in_dir)\u001b[0m\n\u001b[1;32m     15\u001b[0m \u001b[0;34m\u001b[0m\u001b[0m\n\u001b[1;32m     16\u001b[0m \u001b[0;34m\u001b[0m\u001b[0m\n\u001b[0;32m---> 17\u001b[0;31m     \u001b[0mfiles\u001b[0m\u001b[0;34m=\u001b[0m\u001b[0mnp\u001b[0m\u001b[0;34m.\u001b[0m\u001b[0marray\u001b[0m\u001b[0;34m(\u001b[0m\u001b[0msorted\u001b[0m\u001b[0;34m(\u001b[0m\u001b[0mos\u001b[0m\u001b[0;34m.\u001b[0m\u001b[0mlistdir\u001b[0m\u001b[0;34m(\u001b[0m\u001b[0min_dir\u001b[0m\u001b[0;34m)\u001b[0m\u001b[0;34m)\u001b[0m\u001b[0;34m)\u001b[0m\u001b[0;34m\u001b[0m\u001b[0;34m\u001b[0m\u001b[0m\n\u001b[0m\u001b[1;32m     18\u001b[0m     \u001b[0mtifs\u001b[0m \u001b[0;34m=\u001b[0m \u001b[0mpd\u001b[0m\u001b[0;34m.\u001b[0m\u001b[0mSeries\u001b[0m\u001b[0;34m(\u001b[0m\u001b[0mfiles\u001b[0m\u001b[0;34m)\u001b[0m\u001b[0;34m.\u001b[0m\u001b[0mstr\u001b[0m\u001b[0;34m.\u001b[0m\u001b[0mcontains\u001b[0m\u001b[0;34m(\u001b[0m\u001b[0;34m'.tif'\u001b[0m\u001b[0;34m)\u001b[0m\u001b[0;34m\u001b[0m\u001b[0;34m\u001b[0m\u001b[0m\n\u001b[1;32m     19\u001b[0m     \u001b[0mfiles\u001b[0m \u001b[0;34m=\u001b[0m \u001b[0mfiles\u001b[0m\u001b[0;34m[\u001b[0m\u001b[0mtifs\u001b[0m\u001b[0;34m]\u001b[0m\u001b[0;31m#[0:522]\u001b[0m\u001b[0;34m\u001b[0m\u001b[0;34m\u001b[0m\u001b[0m\n",
      "\u001b[0;31mFileNotFoundError\u001b[0m: [Errno 2] No such file or directory: '/home/rgreen/tana-spin/rgreen/DroughtEDM/Data/CHIRPS/Anomaly/Croplands_Anomaly/'"
     ]
    }
   ],
   "source": [
    "temp_crops_table = pixelwise_ts_table(anomaly_temp + 'Croplands_Anomaly/')\n",
    "precip_crops_table = pixelwise_ts_table(anomaly_precip + 'Croplands_Anomaly/')\n",
    "ndvi_crops_table = pixelwise_ts_table(anomaly_ndvi + 'Croplands_Anomaly/')\n",
    "\n",
    "#sm_table = pixelwise_ts_table(croplands_vars_dir, 'SM')\n",
    "#lst_table = pixelwise_ts_table(croplands_vars_dir, 'lst')\n",
    "#pet_table = pixelwise_ts_table(croplands_vars_dir, 'pet')\n",
    "\n"
   ]
  },
  {
   "cell_type": "code",
   "execution_count": 18,
   "metadata": {},
   "outputs": [
    {
     "name": "stderr",
     "output_type": "stream",
     "text": [
      " 29%|██▊       | 150/522 [00:02<00:07, 50.88it/s]\n"
     ]
    },
    {
     "ename": "KeyboardInterrupt",
     "evalue": "",
     "output_type": "error",
     "traceback": [
      "\u001b[0;31m---------------------------------------------------------------------------\u001b[0m",
      "\u001b[0;31mKeyboardInterrupt\u001b[0m                         Traceback (most recent call last)",
      "\u001b[0;32m<ipython-input-18-c7bf23b98511>\u001b[0m in \u001b[0;36m<module>\u001b[0;34m\u001b[0m\n\u001b[0;32m----> 1\u001b[0;31m \u001b[0mtemp_grass_table\u001b[0m \u001b[0;34m=\u001b[0m \u001b[0mpixelwise_ts_table\u001b[0m\u001b[0;34m(\u001b[0m\u001b[0manomaly_temp\u001b[0m \u001b[0;34m+\u001b[0m \u001b[0;34m'Grasslands_Anomaly/'\u001b[0m\u001b[0;34m)\u001b[0m\u001b[0;34m\u001b[0m\u001b[0;34m\u001b[0m\u001b[0m\n\u001b[0m\u001b[1;32m      2\u001b[0m \u001b[0mprecip_grass_table\u001b[0m \u001b[0;34m=\u001b[0m \u001b[0mpixelwise_ts_table\u001b[0m\u001b[0;34m(\u001b[0m\u001b[0manomaly_precip\u001b[0m \u001b[0;34m+\u001b[0m \u001b[0;34m'Grasslands_Anomaly/'\u001b[0m\u001b[0;34m)\u001b[0m\u001b[0;34m\u001b[0m\u001b[0;34m\u001b[0m\u001b[0m\n\u001b[1;32m      3\u001b[0m \u001b[0mndvi_grass_table\u001b[0m \u001b[0;34m=\u001b[0m \u001b[0mpixelwise_ts_table\u001b[0m\u001b[0;34m(\u001b[0m\u001b[0manomaly_ndvi\u001b[0m \u001b[0;34m+\u001b[0m \u001b[0;34m'Grasslands_Anomaly/'\u001b[0m\u001b[0;34m)\u001b[0m\u001b[0;34m\u001b[0m\u001b[0;34m\u001b[0m\u001b[0m\n",
      "\u001b[0;32m<ipython-input-13-0eb7fb4e7efc>\u001b[0m in \u001b[0;36mpixelwise_ts_table\u001b[0;34m(in_dir)\u001b[0m\n\u001b[1;32m     27\u001b[0m         \u001b[0marray\u001b[0m \u001b[0;34m=\u001b[0m \u001b[0mopen_file\u001b[0m\u001b[0;34m.\u001b[0m\u001b[0mvalues\u001b[0m\u001b[0;34m\u001b[0m\u001b[0;34m\u001b[0m\u001b[0m\n\u001b[1;32m     28\u001b[0m \u001b[0;34m\u001b[0m\u001b[0m\n\u001b[0;32m---> 29\u001b[0;31m         \u001b[0mpixel_list\u001b[0m \u001b[0;34m=\u001b[0m \u001b[0marray\u001b[0m\u001b[0;34m.\u001b[0m\u001b[0mravel\u001b[0m\u001b[0;34m(\u001b[0m\u001b[0;34m)\u001b[0m\u001b[0;34m.\u001b[0m\u001b[0mtolist\u001b[0m\u001b[0;34m(\u001b[0m\u001b[0;34m)\u001b[0m\u001b[0;34m\u001b[0m\u001b[0;34m\u001b[0m\u001b[0m\n\u001b[0m\u001b[1;32m     30\u001b[0m \u001b[0;34m\u001b[0m\u001b[0m\n\u001b[1;32m     31\u001b[0m         \u001b[0mpixelwise_TS\u001b[0m\u001b[0;34m.\u001b[0m\u001b[0mappend\u001b[0m\u001b[0;34m(\u001b[0m\u001b[0mpixel_list\u001b[0m\u001b[0;34m)\u001b[0m\u001b[0;34m\u001b[0m\u001b[0;34m\u001b[0m\u001b[0m\n",
      "\u001b[0;31mKeyboardInterrupt\u001b[0m: "
     ]
    }
   ],
   "source": [
    "temp_grass_table = pixelwise_ts_table(anomaly_temp + 'Grasslands_Anomaly/')\n",
    "precip_grass_table = pixelwise_ts_table(anomaly_precip + 'Grasslands_Anomaly/')\n",
    "ndvi_grass_table = pixelwise_ts_table(anomaly_ndvi + 'Grasslands_Anomaly/')"
   ]
  },
  {
   "cell_type": "code",
   "execution_count": 385,
   "metadata": {},
   "outputs": [
    {
     "name": "stderr",
     "output_type": "stream",
     "text": [
      "100%|██████████| 522/522 [00:17<00:00, 29.71it/s]\n",
      "100%|██████████| 522/522 [00:14<00:00, 35.67it/s]\n",
      "100%|██████████| 522/522 [00:12<00:00, 40.17it/s]\n"
     ]
    }
   ],
   "source": [
    "temp_sav_table = pixelwise_ts_table(anomaly_temp + 'Savannas_Anomaly/')\n",
    "precip_sav_table = pixelwise_ts_table(anomaly_precip + 'Savannas_Anomaly/')\n",
    "ndvi_sav_table = pixelwise_ts_table(anomaly_ndvi + 'Savannas_Anomaly/')"
   ]
  },
  {
   "cell_type": "code",
   "execution_count": 386,
   "metadata": {},
   "outputs": [
    {
     "name": "stderr",
     "output_type": "stream",
     "text": [
      "100%|██████████| 522/522 [00:14<00:00, 35.50it/s]\n",
      "100%|██████████| 522/522 [00:09<00:00, 52.93it/s]\n",
      "100%|██████████| 522/522 [00:11<00:00, 43.71it/s]\n"
     ]
    }
   ],
   "source": [
    "temp_sav_table = pixelwise_ts_table(anomaly_temp + 'CropNatVeg_Anomaly/')\n",
    "precip_sav_table = pixelwise_ts_table(anomaly_precip + 'CropNatVeg_Anomaly/')\n",
    "ndvi_sav_table = pixelwise_ts_table(anomaly_ndvi + 'CropNatVeg_Anomaly/')"
   ]
  },
  {
   "cell_type": "code",
   "execution_count": 15,
   "metadata": {},
   "outputs": [],
   "source": [
    "def pixelwise_simplex(table, train, test, ed, pi, rs_rows, rs_cols):\n",
    "    \n",
    "    '''\n",
    "    This function computes the simplex prediction skill for a given embedding dimensions, prediction interval, land cover and environmental variable\n",
    "    across pixels given a table of pixel values across time for a region from the function pixelwise_ts_table \n",
    "\n",
    "    The result is an np.array of simplex error values reshaped back into the shape of the original raster image\n",
    "    \n",
    "    Args:\n",
    "    - in_dir: input directory \n",
    "    - file: filename (string)\n",
    "    - train: portion of data library used to train (string of range with space between values)\n",
    "    - test: portion of data libary used to test (string of range with space between values) \n",
    "    - ed: embedding dimension\n",
    "    - pi: prediction interval (Tp) \n",
    "    ==\n",
    "    - rs_rows: number of rows to reshape list into original raster size\n",
    "    -rs_cols: number of columns to reshape list into original raster size\n",
    "   \n",
    "    '''\n",
    "\n",
    "    simplex_out_df = []\n",
    "    #table_chunk = table.loc[:100,500:510]\n",
    "    \n",
    "    for column in tqdm(table):\n",
    "        #print(column)\n",
    "        if table[column].isnull().values.any():\n",
    "            #print('null')\n",
    "            simplex_out_df.append(np.nan)\n",
    "        else:\n",
    "            #do simplex function on these columns\n",
    "            #change dekads to just a time list\n",
    "            interim_df = pd.DataFrame({'Time': list(range(0,522)), 'Data': table[column]}) #'Time': dekads\n",
    "            simplex_result = Simplex(dataFrame = interim_df, lib = train, pred = test, E = ed, Tp = pi, \n",
    "                                     columns = 'Data', target = 'Data', showPlot = False)\n",
    "            error = ComputeError(list(simplex_result.Observations), list(simplex_result.Predictions))\n",
    "            MAE = list(error.values())[0]\n",
    "            RMSE = list(error.values())[1]\n",
    "            rho = list(error.values())[2]\n",
    "           \n",
    "            simplex_out_df.append(rho) #adjust measure depending on output interest\n",
    "            \n",
    "    return(np.reshape(simplex_out_df, (rs_rows,rs_cols)))\n",
    "            \n",
    "\n"
   ]
  },
  {
   "cell_type": "code",
   "execution_count": 16,
   "metadata": {},
   "outputs": [
    {
     "ename": "NameError",
     "evalue": "name 'ndvi_crops_table' is not defined",
     "output_type": "error",
     "traceback": [
      "\u001b[0;31m---------------------------------------------------------------------------\u001b[0m",
      "\u001b[0;31mNameError\u001b[0m                                 Traceback (most recent call last)",
      "\u001b[0;32m<ipython-input-16-563c01217737>\u001b[0m in \u001b[0;36m<module>\u001b[0;34m\u001b[0m\n\u001b[0;32m----> 1\u001b[0;31m \u001b[0mndvi_crops_africa_simplex\u001b[0m \u001b[0;34m=\u001b[0m \u001b[0mpixelwise_simplex\u001b[0m\u001b[0;34m(\u001b[0m\u001b[0mndvi_crops_table\u001b[0m\u001b[0;34m,\u001b[0m \u001b[0;34m'1 100'\u001b[0m\u001b[0;34m,\u001b[0m \u001b[0;34m'101 522'\u001b[0m\u001b[0;34m,\u001b[0m \u001b[0;36m2\u001b[0m\u001b[0;34m,\u001b[0m \u001b[0;36m18\u001b[0m\u001b[0;34m,\u001b[0m \u001b[0;36m800\u001b[0m\u001b[0;34m,\u001b[0m \u001b[0;36m730\u001b[0m\u001b[0;34m)\u001b[0m\u001b[0;34m\u001b[0m\u001b[0;34m\u001b[0m\u001b[0m\n\u001b[0m\u001b[1;32m      2\u001b[0m \u001b[0mtemp_crops_africa_simplex\u001b[0m \u001b[0;34m=\u001b[0m \u001b[0mpixelwise_simplex\u001b[0m\u001b[0;34m(\u001b[0m\u001b[0mtemp_crops_table\u001b[0m\u001b[0;34m,\u001b[0m \u001b[0;34m'1 100'\u001b[0m\u001b[0;34m,\u001b[0m \u001b[0;34m'101 522'\u001b[0m\u001b[0;34m,\u001b[0m \u001b[0;36m2\u001b[0m\u001b[0;34m,\u001b[0m \u001b[0;36m18\u001b[0m\u001b[0;34m,\u001b[0m \u001b[0;36m800\u001b[0m\u001b[0;34m,\u001b[0m \u001b[0;36m730\u001b[0m\u001b[0;34m)\u001b[0m\u001b[0;34m\u001b[0m\u001b[0;34m\u001b[0m\u001b[0m\n\u001b[1;32m      3\u001b[0m \u001b[0mprecip_crops_africa_simplex\u001b[0m \u001b[0;34m=\u001b[0m \u001b[0mpixelwise_simplex\u001b[0m\u001b[0;34m(\u001b[0m\u001b[0mprecip_crops_table\u001b[0m\u001b[0;34m,\u001b[0m \u001b[0;34m'1 100'\u001b[0m\u001b[0;34m,\u001b[0m \u001b[0;34m'101 522'\u001b[0m\u001b[0;34m,\u001b[0m \u001b[0;36m2\u001b[0m\u001b[0;34m,\u001b[0m \u001b[0;36m18\u001b[0m\u001b[0;34m,\u001b[0m \u001b[0;36m800\u001b[0m\u001b[0;34m,\u001b[0m \u001b[0;36m730\u001b[0m\u001b[0;34m)\u001b[0m\u001b[0;34m\u001b[0m\u001b[0;34m\u001b[0m\u001b[0m\n\u001b[1;32m      4\u001b[0m \u001b[0;34m\u001b[0m\u001b[0m\n\u001b[1;32m      5\u001b[0m \u001b[0mndvi_grass_africa_simplex\u001b[0m \u001b[0;34m=\u001b[0m \u001b[0mpixelwise_simplex\u001b[0m\u001b[0;34m(\u001b[0m\u001b[0mndvi_grass_table\u001b[0m\u001b[0;34m,\u001b[0m \u001b[0;34m'1 100'\u001b[0m\u001b[0;34m,\u001b[0m \u001b[0;34m'101 522'\u001b[0m\u001b[0;34m,\u001b[0m \u001b[0;36m2\u001b[0m\u001b[0;34m,\u001b[0m \u001b[0;36m18\u001b[0m\u001b[0;34m,\u001b[0m \u001b[0;36m800\u001b[0m\u001b[0;34m,\u001b[0m \u001b[0;36m730\u001b[0m\u001b[0;34m)\u001b[0m\u001b[0;34m\u001b[0m\u001b[0;34m\u001b[0m\u001b[0m\n",
      "\u001b[0;31mNameError\u001b[0m: name 'ndvi_crops_table' is not defined"
     ]
    }
   ],
   "source": [
    "ndvi_crops_africa_simplex = pixelwise_simplex(ndvi_crops_table, '1 100', '101 522', 2, 18, 800, 730)\n",
    "temp_crops_africa_simplex = pixelwise_simplex(temp_crops_table, '1 100', '101 522', 2, 18, 800, 730)\n",
    "precip_crops_africa_simplex = pixelwise_simplex(precip_crops_table, '1 100', '101 522', 2, 18, 800, 730)\n",
    "\n",
    "ndvi_grass_africa_simplex = pixelwise_simplex(ndvi_grass_table, '1 100', '101 522', 2, 18, 800, 730)\n",
    "temp_grass_africa_simplex = pixelwise_simplex(temp_grass_table, '1 100', '101 522', 2, 18, 800, 730)\n",
    "precip_grass_africa_simplex = pixelwise_simplex(precip_grass_table, '1 100', '101 522', 2, 18, 800, 730)\n",
    "\n",
    "ndvi_sav_africa_simplex = pixelwise_simplex(ndvi_sav_table, '1 100', '101 522', 2, 18, 800, 730)\n",
    "temp_sav_africa_simplex = pixelwise_simplex(temp_sav_table, '1 100', '101 522', 2, 18, 800, 730)\n",
    "precip_sav_africa_simplex = pixelwise_simplex(precip_sav_table, '1 100', '101 522', 2, 18, 800, 730)"
   ]
  },
  {
   "cell_type": "code",
   "execution_count": 2,
   "metadata": {},
   "outputs": [
    {
     "ename": "NameError",
     "evalue": "name 'ndvi_crops_africa_simplex' is not defined",
     "output_type": "error",
     "traceback": [
      "\u001b[0;31m---------------------------------------------------------------------------\u001b[0m",
      "\u001b[0;31mNameError\u001b[0m                                 Traceback (most recent call last)",
      "\u001b[0;32m<ipython-input-2-ddc2207874cc>\u001b[0m in \u001b[0;36m<module>\u001b[0;34m\u001b[0m\n\u001b[0;32m----> 1\u001b[0;31m \u001b[0mndvi_crops_africa_simplex\u001b[0m\u001b[0;34m\u001b[0m\u001b[0;34m\u001b[0m\u001b[0m\n\u001b[0m",
      "\u001b[0;31mNameError\u001b[0m: name 'ndvi_crops_africa_simplex' is not defined"
     ]
    }
   ],
   "source": [
    "ndvi_crops_africa_simplex"
   ]
  },
  {
   "cell_type": "code",
   "execution_count": 19,
   "metadata": {},
   "outputs": [],
   "source": [
    "def growing_pixelwise_simplex(table, ed, pi, rs_rows, rs_cols, train_start_date, train_end_date, test_start_date, test_end_date):\n",
    "    \n",
    "    '''\n",
    "    This function computes the simplex prediction skill for a given embedding dimensions, prediction interval, land cover and environmental variable\n",
    "    across pixels given a table of pixel values across the time of growing season given the months leading up to the rains\n",
    "    for a region from the function pixelwise_ts_table \n",
    "\n",
    "    The result is an np.array of simplex error values reshaped back into the shape of the original raster image\n",
    "    \n",
    "    Args:\n",
    "    - table: input table from pixelwise_ts_table result of each pixel's time series\n",
    "    - train: portion of data library used to train (string of range with space between values)\n",
    "    - test: portion of data libary used to test (string of range with space between values) \n",
    "    - ed: embedding dimension\n",
    "    - pi: prediction interval (Tp) \n",
    "    - rs_rows: number of rows to reshape list into original raster size\n",
    "    -rs_cols: number of columns to reshape list into original raster size\n",
    "   \n",
    "    '''\n",
    "\n",
    "    simplex_out_df = []\n",
    "    #table_chunk = table.loc[:100,500:510]\n",
    "    \n",
    "    for column in tqdm(table):\n",
    "        #print(column)\n",
    "        if table[column].isnull().values.any():\n",
    "            #print('null')\n",
    "            simplex_out_df.append(np.nan)\n",
    "        else:\n",
    "            #do simplex function on these columns\n",
    "            #change dekads to just a time list\n",
    "            interim_df = pd.DataFrame({'Time': dekads, 'Data': table[column]}) #'Time': dekads\n",
    "            train_season = interim_df[(interim_df['Time'].dt.month >= train_start_date) & (interim_df['Time'].dt.month <= train_end_date)]\n",
    "            train_season.reset_index()\n",
    "#             harvest_season = (interim_df['Time'] > train_start_date) & (interim_df['Time'] <= train_end_date)\n",
    "#             harvest_df = interim_df.loc[harvest_season]\n",
    "#             print(harvest_df.index[0])\n",
    "#             print(harvest_df.index[-1])\n",
    "            #train_rows = harvest_df.index\n",
    "            test_season = interim_df[(interim_df['Time'].dt.month >= test_start_date) & (interim_df['Time'].dt.month <= test_end_date)]\n",
    "           # print(rain_season.Time.head(20))\n",
    "            test_season.reset_index()\n",
    "#             rain_df = interim_df.loc[rain_season]\n",
    "#             print(rain_df.index[0])\n",
    "#             print(rain_df.index[-1])\n",
    "#             test_rows = rain_df.index\n",
    "            \n",
    "            simplex_result = Simplex(dataFrame = interim_df, lib = str(train_season.index[0]) + ' ' + str(train_season.index[-1]), pred = str(test_season.index[0]) + ' ' + str(test_season.index[-1]), E = ed, Tp = pi, columns = 'Data', target = 'Data', showPlot = False)\n",
    "            error = ComputeError(list(simplex_result.Observations), list(simplex_result.Predictions))\n",
    "            MAE = list(error.values())[0]\n",
    "            RMSE = list(error.values())[1]\n",
    "            rho = list(error.values())[2]\n",
    "            \n",
    "           \n",
    "            simplex_out_df.append(rho) #adjust measure depending on output interest\n",
    "            \n",
    "    return(np.reshape(simplex_out_df, (rs_rows,rs_cols)))\n",
    "            \n",
    "            \n",
    "\n",
    "\n"
   ]
  },
  {
   "cell_type": "code",
   "execution_count": 22,
   "metadata": {},
   "outputs": [
    {
     "name": "stderr",
     "output_type": "stream",
     "text": [
      "584000it [04:36, 2110.14it/s]                     \n"
     ]
    }
   ],
   "source": [
    "ndvi_crops_deyr_rains = growing_pixelwise_simplex(ndvi_crops_table, 2, 18, 800, 730, 9, 11, 11, 12)#  '2015-09-01', '2015-11-01', '2015-11-1', '2016-01-01')\n"
   ]
  },
  {
   "cell_type": "code",
   "execution_count": 495,
   "metadata": {},
   "outputs": [
    {
     "ename": "NameError",
     "evalue": "name 'temp_table' is not defined",
     "output_type": "error",
     "traceback": [
      "\u001b[0;31m---------------------------------------------------------------------------\u001b[0m",
      "\u001b[0;31mNameError\u001b[0m                                 Traceback (most recent call last)",
      "\u001b[0;32m<ipython-input-495-0641fe70e706>\u001b[0m in \u001b[0;36m<module>\u001b[0;34m\u001b[0m\n\u001b[0;32m----> 1\u001b[0;31m \u001b[0mtemp_africa_simplex\u001b[0m \u001b[0;34m=\u001b[0m \u001b[0mpixelwise_simplex\u001b[0m\u001b[0;34m(\u001b[0m\u001b[0mtemp_table\u001b[0m\u001b[0;34m,\u001b[0m \u001b[0;34m'1 100'\u001b[0m\u001b[0;34m,\u001b[0m \u001b[0;34m'101 522'\u001b[0m\u001b[0;34m,\u001b[0m \u001b[0;36m2\u001b[0m\u001b[0;34m,\u001b[0m \u001b[0;36m18\u001b[0m\u001b[0;34m,\u001b[0m \u001b[0;36m800\u001b[0m\u001b[0;34m,\u001b[0m \u001b[0;36m730\u001b[0m\u001b[0;34m)\u001b[0m\u001b[0;34m\u001b[0m\u001b[0;34m\u001b[0m\u001b[0m\n\u001b[0m",
      "\u001b[0;31mNameError\u001b[0m: name 'temp_table' is not defined"
     ]
    }
   ],
   "source": [
    "#temp_africa_simplex = pixelwise_simplex(temp_table, '1 100', '101 522', 2, 18, 800, 730)"
   ]
  },
  {
   "cell_type": "code",
   "execution_count": null,
   "metadata": {},
   "outputs": [],
   "source": [
    "#precip_africa_simplex = pixelwise_simplex(precip_table, '1 100', '101 522', 2, 18, 800, 730)"
   ]
  },
  {
   "cell_type": "code",
   "execution_count": 19,
   "metadata": {},
   "outputs": [
    {
     "name": "stderr",
     "output_type": "stream",
     "text": [
      "584000it [01:22, 7039.39it/s]                      \n"
     ]
    }
   ],
   "source": [
    "#temp_africa_simplex = pixelwise_simplex(temp_table, '1 100', '101 522', 2, 18, 800, 730)\n",
    "# precip_africa_simplex = pixelwise_simplex(precip_table, '1 100', '101 522', 2, 18, 800, 730)\n",
    "# ndvi_africa_simplex = pixelwise_simplex(ndvi_table, '1 100', '101 522', 2, 18, 800, 730)\n",
    "\n",
    "#sm_africa_simplex = pixelwise_simplex(sm_table, '1 100', '101 522', 2, 18, 800, 730)\n",
    "#lst_africa_simplex = pixelwise_simplex(lst_table, '1 100', '101 522', 2, 18, 800, 730)\n",
    "#pet_africa_simplex = pixelwise_simplex(pet_table, '1 100', '101 522', 2, 18, 800, 730)\n",
    "\n"
   ]
  },
  {
   "cell_type": "markdown",
   "metadata": {},
   "source": [
    "convert array to raster to save out"
   ]
  },
  {
   "cell_type": "code",
   "execution_count": 24,
   "metadata": {},
   "outputs": [],
   "source": [
    "def array2tiff(array, in_dir, out_dir, out_name):\n",
    "    \n",
    "    '''\n",
    "    This function converts a 2D array into a tif using the profile of an existing tif\n",
    "\n",
    "    '''\n",
    "    \n",
    "\n",
    "    with rasterio.open(in_dir+ os.listdir(in_dir)[0]) as src:\n",
    "        profile = src.profile\n",
    "\n",
    "    with rasterio.open(out_dir + out_name + '.tif', 'w', **profile) as dst:\n",
    "        data = array\n",
    "        data = data.astype(np.float32)\n",
    "        #data[data<=0] = np.nan\n",
    "        dst.write(data, indexes=1)\n",
    "    \n"
   ]
  },
  {
   "cell_type": "code",
   "execution_count": 391,
   "metadata": {},
   "outputs": [],
   "source": [
    "array2tiff(temp_crops_africa_simplex, croplands_vars_dir, Africa_simplex, 'temp_africa_simplex_crop')\n",
    "array2tiff(precip_crops_africa_simplex, croplands_vars_dir, Africa_simplex, 'precip_africa_simplex_crop')\n",
    "array2tiff(ndvi_crops_africa_simplex, croplands_vars_dir, Africa_simplex, 'ndvi_africa_simplex_crop')\n",
    "\n",
    "array2tiff(temp_grass_africa_simplex, grasslands_vars_dir, Africa_simplex, 'temp_africa_simplex_grass')\n",
    "array2tiff(precip_grass_africa_simplex, grasslands_vars_dir, Africa_simplex, 'precip_africa_simplex_grass')\n",
    "array2tiff(ndvi_grass_africa_simplex, grasslands_vars_dir, Africa_simplex, 'ndvi_africa_simplex_grass')\n",
    "\n",
    "array2tiff(temp_sav_africa_simplex, savannas_vars_dir, Africa_simplex, 'temp_africa_simplex_sav')\n",
    "array2tiff(precip_sav_africa_simplex, savannas_vars_dir, Africa_simplex, 'precip_africa_simplex_sav')\n",
    "array2tiff(ndvi_sav_africa_simplex, savannas_vars_dir, Africa_simplex, 'ndvi_africa_simplex_sav')"
   ]
  },
  {
   "cell_type": "code",
   "execution_count": 392,
   "metadata": {},
   "outputs": [],
   "source": [
    "#array2tiff(ndvi_africa_simplex, eMODIS_NDVI, Africa_simplex, 'ndvi_africa_simplex_all')"
   ]
  },
  {
   "cell_type": "code",
   "execution_count": 25,
   "metadata": {},
   "outputs": [],
   "source": [
    "array2tiff(ndvi_crops_deyr_rains, croplands_vars_dir, Africa_simplex, 'ndvi_crops_deyr_rains')"
   ]
  },
  {
   "cell_type": "markdown",
   "metadata": {},
   "source": [
    "Plot"
   ]
  },
  {
   "cell_type": "code",
   "execution_count": 51,
   "metadata": {},
   "outputs": [],
   "source": [
    "def mask_raster_shp(shp, raster, out_name, in_dir, out_dir):\n",
    "    \n",
    "    '''\n",
    "    This function masks a raster to the shape of a smaller shapefile and creates a new raster\n",
    "    \n",
    "    '''\n",
    "    with fiona.open(shp, \"r\") as shapefile:\n",
    "        shapes = [feature[\"geometry\"] for feature in shapefile]\n",
    "    with rasterio.open(in_dir + raster) as src:\n",
    "        out_image, out_transform = rasterio.mask.mask(src, shapes, crop=True)\n",
    "        out_meta = src.meta\n",
    "\n",
    "    out_meta.update({\"driver\": \"GTiff\",\n",
    "                     \"height\": out_image.shape[1],\n",
    "                     \"width\": out_image.shape[2],\n",
    "                     \"transform\": out_transform})\n",
    "\n",
    "    with rasterio.open(out_dir + out_name, \"w\", **out_meta) as dest:\n",
    "        dest.write(out_image)"
   ]
  },
  {
   "cell_type": "code",
   "execution_count": 394,
   "metadata": {},
   "outputs": [],
   "source": [
    "mask_raster_shp(ea_adminbds, 'temp_africa_simplex_crop.tif', 'temp_eastafrica_simplex_crop.tif', Africa_simplex, Africa_simplex)\n",
    "mask_raster_shp(ea_adminbds, 'precip_africa_simplex_crop.tif', 'precip_eastafrica_simplex_crop.tif', Africa_simplex, Africa_simplex)\n",
    "mask_raster_shp(ea_adminbds, 'ndvi_africa_simplex_crop.tif', 'ndvi_eastafrica_simplex_crop.tif', Africa_simplex, Africa_simplex)\n",
    "\n",
    "mask_raster_shp(ea_adminbds, 'temp_africa_simplex_grass.tif', 'temp_eastafrica_simplex_grass.tif', Africa_simplex, Africa_simplex)\n",
    "mask_raster_shp(ea_adminbds, 'precip_africa_simplex_grass.tif', 'precip_eastafrica_simplex_grass.tif', Africa_simplex, Africa_simplex)\n",
    "mask_raster_shp(ea_adminbds, 'ndvi_africa_simplex_grass.tif', 'ndvi_eastafrica_simplex_grass.tif', Africa_simplex, Africa_simplex)\n",
    "\n",
    "mask_raster_shp(ea_adminbds, 'temp_africa_simplex_sav.tif', 'temp_eastafrica_simplex_sav.tif', Africa_simplex, Africa_simplex)\n",
    "mask_raster_shp(ea_adminbds, 'precip_africa_simplex_sav.tif', 'precip_eastafrica_simplex_sav.tif', Africa_simplex, Africa_simplex)\n",
    "mask_raster_shp(ea_adminbds, 'ndvi_africa_simplex_sav.tif', 'ndvi_eastafrica_simplex_sav.tif', Africa_simplex, Africa_simplex)\n",
    "\n"
   ]
  },
  {
   "cell_type": "code",
   "execution_count": 89,
   "metadata": {},
   "outputs": [],
   "source": [
    "mask_raster_shp(Admin_boundaries+'Somalia.shp', 'ndvi_crops_deyr_rains.tif', 'ndvi_crops_somalia_deyr_rains.tif', Africa_simplex + 'Countries/Somalia/', Africa_simplex + 'Countries/Somalia/')\n"
   ]
  },
  {
   "cell_type": "code",
   "execution_count": 86,
   "metadata": {},
   "outputs": [],
   "source": [
    "# def stack_by_lc(in_dir, file1, file2, file3, out_name):\n",
    "    \n",
    "#     '''\n",
    "#     This function stacks rasters and can be used to pair results from different land covers but the same env variable together\n",
    "#     '''\n",
    "    \n",
    "#     file_list = [in_dir + file1, in_dir + file2, in_dir + file3]\n",
    "\n",
    "#     # Read metadata of first file\n",
    "#     with rasterio.open(file_list[0]) as src0:\n",
    "#         meta = src0.meta\n",
    "\n",
    "#     # Update meta to reflect the number of layers\n",
    "#     meta.update(count = len(file_list))\n",
    "\n",
    "#     # Read each layer and write it to stack\n",
    "#     with rasterio.open(in_dir + out_name, 'w', **meta) as dst:\n",
    "#         for id, layer in enumerate(file_list, start=1):\n",
    "#             with rasterio.open(layer) as src1:\n",
    "#                 dst.write_band(id, src1.read(1))"
   ]
  },
  {
   "cell_type": "markdown",
   "metadata": {},
   "source": [
    "Plot East Africa Simplex"
   ]
  },
  {
   "cell_type": "code",
   "execution_count": 32,
   "metadata": {},
   "outputs": [],
   "source": [
    "temp_eastafrica_simplex_crop_tif = rasterio.open(Africa_simplex + 'temp_eastafrica_simplex_crop.tif')\n",
    "precip_eastafrica_simplex_crop_tif = rasterio.open(Africa_simplex + 'precip_eastafrica_simplex_crop.tif')\n",
    "ndvi_eastafrica_simplex_crop_tif = rasterio.open(Africa_simplex + 'ndvi_eastafrica_simplex_crop.tif')\n",
    "\n",
    "temp_eastafrica_simplex_grass_tif = rasterio.open(Africa_simplex + 'temp_eastafrica_simplex_grass.tif')\n",
    "precip_eastafrica_simplex_grass_tif = rasterio.open(Africa_simplex + 'precip_eastafrica_simplex_grass.tif')\n",
    "ndvi_eastafrica_simplex_grass_tif = rasterio.open(Africa_simplex + 'ndvi_eastafrica_simplex_grass.tif')\n",
    "\n",
    "temp_eastafrica_simplex_sav_tif = rasterio.open(Africa_simplex + 'temp_eastafrica_simplex_sav.tif')\n",
    "precip_eastafrica_simplex_sav_tif = rasterio.open(Africa_simplex + 'precip_eastafrica_simplex_sav.tif')\n",
    "ndvi_eastafrica_simplex_sav_tif = rasterio.open(Africa_simplex + 'ndvi_eastafrica_simplex_sav.tif')"
   ]
  },
  {
   "cell_type": "code",
   "execution_count": null,
   "metadata": {},
   "outputs": [],
   "source": [
    "# fig, ax = plt.subplots(figsize=(15,15))\n",
    "\n",
    "# show(ndvi_eastafrica_simplex_stack, ax=ax, cmap = 'RdPu')\n",
    "\n",
    "\n",
    "# #zoom into East Africa\n",
    "# EastAfrica_basemap.plot(ax=ax, facecolor='none', edgecolor='red')\n",
    "# plt.axis([20, 55,-15,25])\n"
   ]
  },
  {
   "cell_type": "code",
   "execution_count": null,
   "metadata": {},
   "outputs": [],
   "source": [
    "# raster_list = [temp_eastafrica_simplex_crop_tif, precip_eastafrica_simplex_crop_tif, ndvi_eastafrica_simplex_crop_tif]\n",
    "# var_list = ['Temperature', 'Precipitation', 'NDVI']\n",
    "\n",
    "# fig, axs = plt.subplots(1, 3, figsize = (30, 20))\n",
    "# axs = axs.ravel()\n",
    "# fig.subplots_adjust(wspace= 0.25, hspace = 0.35)\n",
    "# fig = plt.gcf()\n",
    "# for i, raster in enumerate(raster_list):\n",
    "#     show(raster, ax=axs[i], cmap = 'Blues')\n",
    "    \n",
    "    \n",
    "#     EastAfrica_basemap.plot(ax=axs[i], facecolor='none', edgecolor='darkblue', vmin = 0, vmax = 1)\n",
    "    \n",
    "#     axs[i].set_title(var_list[i], fontsize = 25)\n",
    "    \n",
    "# plt.savefig('/home/rgreen/ea_simplex_3panel.png', dpi = 300)"
   ]
  },
  {
   "cell_type": "code",
   "execution_count": null,
   "metadata": {},
   "outputs": [],
   "source": [
    "# fig, ax = plt.subplots(figsize=(6, 1))\n",
    "# fig.subplots_adjust(bottom=0.5)\n",
    "# cmap = mpl.cm.GnBu_r\n",
    "# norm = mpl.colors.Normalize(vmin=0, vmax=1)\n",
    "\n",
    "# fig.colorbar(mpl.cm.ScalarMappable(norm=norm, cmap=cmap),\n",
    "#              cax=ax, orientation='horizontal', label='Predictive Skill')  \n",
    "\n",
    "# plt.savefig('/home/rgreen/colorbar_bugr', dpi = 300)"
   ]
  },
  {
   "cell_type": "markdown",
   "metadata": {
    "toc-hr-collapsed": true
   },
   "source": [
    "# 4. Embedding Dimension Spatial Sensitivity \n",
    "use Embed Dimension function"
   ]
  },
  {
   "cell_type": "code",
   "execution_count": null,
   "metadata": {},
   "outputs": [],
   "source": [
    "embed_result = EmbedDimension(dataFrame = table, \n",
    "                                      lib = train, pred = test, columns = column, showPlot = False)\n",
    "        max_embed = embed_result.iloc[embed_result['rho'].idxmax()][0]\n",
    "        print(max_embed)"
   ]
  },
  {
   "cell_type": "code",
   "execution_count": 7,
   "metadata": {},
   "outputs": [],
   "source": [
    "def pixelwise_embed_dimension(table, train, test, rs_rows, rs_cols):\n",
    "    \n",
    "\n",
    "\n",
    "    embed_max_df = []\n",
    "    #table_chunk = table.loc[:100,500:510]\n",
    "    \n",
    "    for column in tqdm(table):\n",
    "#         #print(column)\n",
    "        if table[column].isnull().values.any():\n",
    "            #print('null')\n",
    "            embed_max_df.append(np.nan)\n",
    "        else:\n",
    "            interim_df = pd.DataFrame({'Time': list(range(0,522)), 'Data': table[column]}) #'Time': dekads\n",
    "            embed_result = EmbedDimension(dataFrame = interim_df, \n",
    "                                      lib = train, pred = test, columns = 'Data', target = 'Data', showPlot = False)\n",
    "            max_embed = embed_result.iloc[embed_result['rho'].idxmax()][0]\n",
    "            \n",
    "            #simplex_result = Simplex(dataFrame = interim_df, lib = train, pred = test, E = ed, Tp = pi, \n",
    "                                     #columns = 'Data', target = 'Data', showPlot = False)\n",
    "#             error = ComputeError(list(simplex_result.Observations), list(simplex_result.Predictions))\n",
    "#             MAE = list(error.values())[0]\n",
    "#             RMSE = list(error.values())[1]\n",
    "#             rho = list(error.values())[2]\n",
    "           \n",
    "            embed_max_df.append(max_embed) #adjust measure depending on output interest\n",
    "            \n",
    "    return(np.reshape(embed_max_df, (rs_rows,rs_cols)))\n",
    "            "
   ]
  },
  {
   "cell_type": "code",
   "execution_count": null,
   "metadata": {},
   "outputs": [],
   "source": [
    "ndvi_africa_ed = pixelwise_embed_dimension(ndvi_table, '1 100', '101 522', 800, 730)"
   ]
  },
  {
   "cell_type": "code",
   "execution_count": null,
   "metadata": {},
   "outputs": [],
   "source": []
  },
  {
   "cell_type": "code",
   "execution_count": null,
   "metadata": {},
   "outputs": [],
   "source": []
  }
 ],
 "metadata": {
  "kernelspec": {
   "display_name": "edm",
   "language": "python",
   "name": "edm"
  },
  "language_info": {
   "codemirror_mode": {
    "name": "ipython",
    "version": 3
   },
   "file_extension": ".py",
   "mimetype": "text/x-python",
   "name": "python",
   "nbconvert_exporter": "python",
   "pygments_lexer": "ipython3",
   "version": "3.7.3"
  }
 },
 "nbformat": 4,
 "nbformat_minor": 4
}
