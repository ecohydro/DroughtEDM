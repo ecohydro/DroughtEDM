{
 "cells": [
  {
   "cell_type": "markdown",
   "metadata": {},
   "source": [
    "This repository contains functions for generating the prediction skill across East Africa on the Administrative Level 1 Level and computing a pixelwise evaluation of prediction skill using EDM across Africa for a given environmental variable"
   ]
  },
  {
   "cell_type": "code",
   "execution_count": 1,
   "metadata": {},
   "outputs": [],
   "source": [
    "from pyEDM import *\n",
    "import pandas as pd\n",
    "import numpy as np\n",
    "from matplotlib import pyplot as plt\n",
    "import os\n",
    "import geopandas as gpd\n",
    "from shapely.geometry import Polygon\n",
    "import rasterio\n",
    "import xarray as xr\n",
    "from mpl_toolkits.axes_grid1 import make_axes_locatable"
   ]
  },
  {
   "cell_type": "code",
   "execution_count": 2,
   "metadata": {},
   "outputs": [],
   "source": [
    "croplands_vars_dir = '/home/rgreen/tana-spin/rgreen/DroughtEDM/Data/VariablesByLandCover/Variables_Croplands/'"
   ]
  },
  {
   "cell_type": "code",
   "execution_count": 3,
   "metadata": {},
   "outputs": [],
   "source": [
    "EA_TS_DIR = '/home/rgreen/DroughtEDM/Data/EA_TS/Final/'\n",
    "ea_adminbds = '/home/rgreen/tana-spin/rgreen/DroughtEDM/Data/AdminBoundaries/gadm36_EastAfrica.shp'"
   ]
  },
  {
   "cell_type": "markdown",
   "metadata": {},
   "source": [
    "## 1. Prediction Skill Across Admin Zones East Africa"
   ]
  },
  {
   "cell_type": "code",
   "execution_count": 4,
   "metadata": {},
   "outputs": [],
   "source": [
    "def single_simplex_error(in_dir, var1, var2, train, test, ed, pi, col):\n",
    "    '''\n",
    "    This function computes the simplex prediction skill for a given land cover, environmental variable, embedding dimensions and prediction interval\n",
    "\n",
    "    The result is a dataframe of error values and the filename describing each area and land cover\n",
    "    Args:\n",
    "    - in_dir: input directory \n",
    "    - file: filename (string)\n",
    "    - var1: training variable (string)\n",
    "    - var2: testing variable (string) (often training and testing the same)\n",
    "    - train: portion of data library used to train (string of range with space between values)\n",
    "    - test: portion of data libary used to test (string of range with space between values) \n",
    "    - ed: embedding dimension\n",
    "    - pi: prediction interval (Tp)  \n",
    "    - param: error parameter (MAE, RMSE, rho)\n",
    "    '''\n",
    "    files=np.array(sorted(os.listdir(in_dir)))\n",
    "    tifs = pd.Series(files).str.contains('.csv')\n",
    "    files = files[tifs]\n",
    "    \n",
    "    #param_range = list(itertools.product(list(range(1,19)), repeat = 2))[:180]\n",
    "    #cut off at 180 because we are only interested in the first 10 embedding dimensions but 18 dekads forward \n",
    "    #six_mo_error = collections.OrderedDict()\n",
    "    output = []\n",
    "    \n",
    "    for filename in files:\n",
    "        \n",
    "        data = pd.read_csv(in_dir+filename, usecols = ['Time', var1])\n",
    "        if not data.isnull().values.any():\n",
    "            simplex_result = Simplex(dataFrame = data, lib = train, pred = test, E = ed, Tp = pi, columns = var1, target = var2, showPlot = False)\n",
    "            #print(simplex_result)\n",
    "            error = ComputeError(list(simplex_result.Observations), list(simplex_result.Predictions))\n",
    "            MAE = list(error.values())[0]\n",
    "            RMSE = list(error.values())[1]\n",
    "            rho = list(error.values())[2]\n",
    "            #print(MAE)\n",
    "            output.append(\n",
    "            {\n",
    "            'rho': MAE, #change depending on error parameter of interest\n",
    "            col: filename,\n",
    "    \n",
    "        }\n",
    "    ) \n",
    "\n",
    "    return pd.DataFrame.from_dict(output)\n",
    "\n",
    "    "
   ]
  },
  {
   "cell_type": "code",
   "execution_count": 5,
   "metadata": {},
   "outputs": [],
   "source": [
    "#mae_df = single_simplex_error(EA_TS_DIR, 'NDVI', 'NDVI', '1 100', '101 522', 1, 18, 'MAE', 'GID_1')\n",
    "error_zone_df = single_simplex_error(EA_TS_DIR, 'P', 'P', '1 100', '101 522', 1, 18, 'GID_1')"
   ]
  },
  {
   "cell_type": "code",
   "execution_count": 6,
   "metadata": {},
   "outputs": [
    {
     "data": {
      "text/html": [
       "<div>\n",
       "<style scoped>\n",
       "    .dataframe tbody tr th:only-of-type {\n",
       "        vertical-align: middle;\n",
       "    }\n",
       "\n",
       "    .dataframe tbody tr th {\n",
       "        vertical-align: top;\n",
       "    }\n",
       "\n",
       "    .dataframe thead th {\n",
       "        text-align: right;\n",
       "    }\n",
       "</style>\n",
       "<table border=\"1\" class=\"dataframe\">\n",
       "  <thead>\n",
       "    <tr style=\"text-align: right;\">\n",
       "      <th></th>\n",
       "      <th>rho</th>\n",
       "      <th>GID_1</th>\n",
       "    </tr>\n",
       "  </thead>\n",
       "  <tbody>\n",
       "    <tr>\n",
       "      <td>0</td>\n",
       "      <td>22.874381</td>\n",
       "      <td>BDI.10_1_ea_croplands.csv</td>\n",
       "    </tr>\n",
       "    <tr>\n",
       "      <td>1</td>\n",
       "      <td>24.306485</td>\n",
       "      <td>BDI.10_1_ea_cropnatveg.csv</td>\n",
       "    </tr>\n",
       "    <tr>\n",
       "      <td>2</td>\n",
       "      <td>21.270035</td>\n",
       "      <td>BDI.10_1_ea_grasslands.csv</td>\n",
       "    </tr>\n",
       "    <tr>\n",
       "      <td>3</td>\n",
       "      <td>24.856238</td>\n",
       "      <td>BDI.11_1_ea_croplands.csv</td>\n",
       "    </tr>\n",
       "    <tr>\n",
       "      <td>4</td>\n",
       "      <td>25.658393</td>\n",
       "      <td>BDI.11_1_ea_cropnatveg.csv</td>\n",
       "    </tr>\n",
       "    <tr>\n",
       "      <td>...</td>\n",
       "      <td>...</td>\n",
       "      <td>...</td>\n",
       "    </tr>\n",
       "    <tr>\n",
       "      <td>563</td>\n",
       "      <td>26.115029</td>\n",
       "      <td>UGA.8_1_ea_savannas.csv</td>\n",
       "    </tr>\n",
       "    <tr>\n",
       "      <td>564</td>\n",
       "      <td>20.002449</td>\n",
       "      <td>UGA.9_1_ea_cropnatveg.csv</td>\n",
       "    </tr>\n",
       "    <tr>\n",
       "      <td>565</td>\n",
       "      <td>18.533124</td>\n",
       "      <td>UGA.9_1_ea_evergreenbroad.csv</td>\n",
       "    </tr>\n",
       "    <tr>\n",
       "      <td>566</td>\n",
       "      <td>21.116408</td>\n",
       "      <td>UGA.9_1_ea_savannas.csv</td>\n",
       "    </tr>\n",
       "    <tr>\n",
       "      <td>567</td>\n",
       "      <td>21.347621</td>\n",
       "      <td>UGA.9_1_ea_woodysavannas.csv</td>\n",
       "    </tr>\n",
       "  </tbody>\n",
       "</table>\n",
       "<p>568 rows × 2 columns</p>\n",
       "</div>"
      ],
      "text/plain": [
       "           rho                          GID_1\n",
       "0    22.874381      BDI.10_1_ea_croplands.csv\n",
       "1    24.306485     BDI.10_1_ea_cropnatveg.csv\n",
       "2    21.270035     BDI.10_1_ea_grasslands.csv\n",
       "3    24.856238      BDI.11_1_ea_croplands.csv\n",
       "4    25.658393     BDI.11_1_ea_cropnatveg.csv\n",
       "..         ...                            ...\n",
       "563  26.115029        UGA.8_1_ea_savannas.csv\n",
       "564  20.002449      UGA.9_1_ea_cropnatveg.csv\n",
       "565  18.533124  UGA.9_1_ea_evergreenbroad.csv\n",
       "566  21.116408        UGA.9_1_ea_savannas.csv\n",
       "567  21.347621   UGA.9_1_ea_woodysavannas.csv\n",
       "\n",
       "[568 rows x 2 columns]"
      ]
     },
     "execution_count": 6,
     "metadata": {},
     "output_type": "execute_result"
    }
   ],
   "source": [
    "#mae_df\n",
    "error_zone_df "
   ]
  },
  {
   "cell_type": "code",
   "execution_count": 7,
   "metadata": {},
   "outputs": [],
   "source": [
    "error_zone_croplands = error_zone_df[error_zone_df['GID_1'].str.contains('croplands')]\n"
   ]
  },
  {
   "cell_type": "code",
   "execution_count": 8,
   "metadata": {},
   "outputs": [
    {
     "data": {
      "text/html": [
       "<div>\n",
       "<style scoped>\n",
       "    .dataframe tbody tr th:only-of-type {\n",
       "        vertical-align: middle;\n",
       "    }\n",
       "\n",
       "    .dataframe tbody tr th {\n",
       "        vertical-align: top;\n",
       "    }\n",
       "\n",
       "    .dataframe thead th {\n",
       "        text-align: right;\n",
       "    }\n",
       "</style>\n",
       "<table border=\"1\" class=\"dataframe\">\n",
       "  <thead>\n",
       "    <tr style=\"text-align: right;\">\n",
       "      <th></th>\n",
       "      <th>rho</th>\n",
       "      <th>GID_1</th>\n",
       "    </tr>\n",
       "  </thead>\n",
       "  <tbody>\n",
       "    <tr>\n",
       "      <td>0</td>\n",
       "      <td>22.874381</td>\n",
       "      <td>BDI.10_1_ea_croplands.csv</td>\n",
       "    </tr>\n",
       "    <tr>\n",
       "      <td>3</td>\n",
       "      <td>24.856238</td>\n",
       "      <td>BDI.11_1_ea_croplands.csv</td>\n",
       "    </tr>\n",
       "    <tr>\n",
       "      <td>6</td>\n",
       "      <td>26.321846</td>\n",
       "      <td>BDI.12_1_ea_croplands.csv</td>\n",
       "    </tr>\n",
       "    <tr>\n",
       "      <td>9</td>\n",
       "      <td>26.457991</td>\n",
       "      <td>BDI.14_1_ea_croplands.csv</td>\n",
       "    </tr>\n",
       "    <tr>\n",
       "      <td>11</td>\n",
       "      <td>23.452235</td>\n",
       "      <td>BDI.16_1_ea_croplands.csv</td>\n",
       "    </tr>\n",
       "    <tr>\n",
       "      <td>...</td>\n",
       "      <td>...</td>\n",
       "      <td>...</td>\n",
       "    </tr>\n",
       "    <tr>\n",
       "      <td>541</td>\n",
       "      <td>17.367442</td>\n",
       "      <td>UGA.52_1_ea_croplands.csv</td>\n",
       "    </tr>\n",
       "    <tr>\n",
       "      <td>544</td>\n",
       "      <td>29.387714</td>\n",
       "      <td>UGA.54_1_ea_croplands.csv</td>\n",
       "    </tr>\n",
       "    <tr>\n",
       "      <td>548</td>\n",
       "      <td>29.347435</td>\n",
       "      <td>UGA.55_1_ea_croplands.csv</td>\n",
       "    </tr>\n",
       "    <tr>\n",
       "      <td>550</td>\n",
       "      <td>27.812724</td>\n",
       "      <td>UGA.56_1_ea_croplands.csv</td>\n",
       "    </tr>\n",
       "    <tr>\n",
       "      <td>561</td>\n",
       "      <td>18.915554</td>\n",
       "      <td>UGA.8_1_ea_croplands.csv</td>\n",
       "    </tr>\n",
       "  </tbody>\n",
       "</table>\n",
       "<p>88 rows × 2 columns</p>\n",
       "</div>"
      ],
      "text/plain": [
       "           rho                      GID_1\n",
       "0    22.874381  BDI.10_1_ea_croplands.csv\n",
       "3    24.856238  BDI.11_1_ea_croplands.csv\n",
       "6    26.321846  BDI.12_1_ea_croplands.csv\n",
       "9    26.457991  BDI.14_1_ea_croplands.csv\n",
       "11   23.452235  BDI.16_1_ea_croplands.csv\n",
       "..         ...                        ...\n",
       "541  17.367442  UGA.52_1_ea_croplands.csv\n",
       "544  29.387714  UGA.54_1_ea_croplands.csv\n",
       "548  29.347435  UGA.55_1_ea_croplands.csv\n",
       "550  27.812724  UGA.56_1_ea_croplands.csv\n",
       "561  18.915554   UGA.8_1_ea_croplands.csv\n",
       "\n",
       "[88 rows x 2 columns]"
      ]
     },
     "execution_count": 8,
     "metadata": {},
     "output_type": "execute_result"
    }
   ],
   "source": [
    "error_zone_croplands"
   ]
  },
  {
   "cell_type": "code",
   "execution_count": 9,
   "metadata": {},
   "outputs": [
    {
     "name": "stderr",
     "output_type": "stream",
     "text": [
      "/home/rgreen/miniconda3/envs/edm/lib/python3.7/site-packages/ipykernel/__main__.py:2: SettingWithCopyWarning: \n",
      "A value is trying to be set on a copy of a slice from a DataFrame.\n",
      "Try using .loc[row_indexer,col_indexer] = value instead\n",
      "\n",
      "See the caveats in the documentation: http://pandas.pydata.org/pandas-docs/stable/user_guide/indexing.html#returning-a-view-versus-a-copy\n",
      "  from ipykernel import kernelapp as app\n"
     ]
    }
   ],
   "source": [
    "#get only the ADMIN 1 zone ID name\n",
    "error_zone_croplands['GID_1'] = error_zone_croplands['GID_1'].str.split(\"_ea\", n= 0, expand = True) \n",
    "#mae_df['GID_1'] = mae_df['GID_1'].str.split(\"_ea\", n= 0, expand = True) "
   ]
  },
  {
   "cell_type": "code",
   "execution_count": 10,
   "metadata": {},
   "outputs": [
    {
     "data": {
      "text/html": [
       "<div>\n",
       "<style scoped>\n",
       "    .dataframe tbody tr th:only-of-type {\n",
       "        vertical-align: middle;\n",
       "    }\n",
       "\n",
       "    .dataframe tbody tr th {\n",
       "        vertical-align: top;\n",
       "    }\n",
       "\n",
       "    .dataframe thead th {\n",
       "        text-align: right;\n",
       "    }\n",
       "</style>\n",
       "<table border=\"1\" class=\"dataframe\">\n",
       "  <thead>\n",
       "    <tr style=\"text-align: right;\">\n",
       "      <th></th>\n",
       "      <th>rho</th>\n",
       "      <th>GID_1</th>\n",
       "    </tr>\n",
       "  </thead>\n",
       "  <tbody>\n",
       "    <tr>\n",
       "      <td>0</td>\n",
       "      <td>22.874381</td>\n",
       "      <td>BDI.10_1</td>\n",
       "    </tr>\n",
       "    <tr>\n",
       "      <td>3</td>\n",
       "      <td>24.856238</td>\n",
       "      <td>BDI.11_1</td>\n",
       "    </tr>\n",
       "    <tr>\n",
       "      <td>6</td>\n",
       "      <td>26.321846</td>\n",
       "      <td>BDI.12_1</td>\n",
       "    </tr>\n",
       "    <tr>\n",
       "      <td>9</td>\n",
       "      <td>26.457991</td>\n",
       "      <td>BDI.14_1</td>\n",
       "    </tr>\n",
       "    <tr>\n",
       "      <td>11</td>\n",
       "      <td>23.452235</td>\n",
       "      <td>BDI.16_1</td>\n",
       "    </tr>\n",
       "    <tr>\n",
       "      <td>...</td>\n",
       "      <td>...</td>\n",
       "      <td>...</td>\n",
       "    </tr>\n",
       "    <tr>\n",
       "      <td>541</td>\n",
       "      <td>17.367442</td>\n",
       "      <td>UGA.52_1</td>\n",
       "    </tr>\n",
       "    <tr>\n",
       "      <td>544</td>\n",
       "      <td>29.387714</td>\n",
       "      <td>UGA.54_1</td>\n",
       "    </tr>\n",
       "    <tr>\n",
       "      <td>548</td>\n",
       "      <td>29.347435</td>\n",
       "      <td>UGA.55_1</td>\n",
       "    </tr>\n",
       "    <tr>\n",
       "      <td>550</td>\n",
       "      <td>27.812724</td>\n",
       "      <td>UGA.56_1</td>\n",
       "    </tr>\n",
       "    <tr>\n",
       "      <td>561</td>\n",
       "      <td>18.915554</td>\n",
       "      <td>UGA.8_1</td>\n",
       "    </tr>\n",
       "  </tbody>\n",
       "</table>\n",
       "<p>88 rows × 2 columns</p>\n",
       "</div>"
      ],
      "text/plain": [
       "           rho     GID_1\n",
       "0    22.874381  BDI.10_1\n",
       "3    24.856238  BDI.11_1\n",
       "6    26.321846  BDI.12_1\n",
       "9    26.457991  BDI.14_1\n",
       "11   23.452235  BDI.16_1\n",
       "..         ...       ...\n",
       "541  17.367442  UGA.52_1\n",
       "544  29.387714  UGA.54_1\n",
       "548  29.347435  UGA.55_1\n",
       "550  27.812724  UGA.56_1\n",
       "561  18.915554   UGA.8_1\n",
       "\n",
       "[88 rows x 2 columns]"
      ]
     },
     "execution_count": 10,
     "metadata": {},
     "output_type": "execute_result"
    }
   ],
   "source": [
    "#mae_df\n",
    "error_zone_croplands"
   ]
  },
  {
   "cell_type": "code",
   "execution_count": 11,
   "metadata": {},
   "outputs": [],
   "source": [
    "ea_bndry = gpd.read_file(ea_adminbds)\n",
    "#ea_bndry"
   ]
  },
  {
   "cell_type": "code",
   "execution_count": 15,
   "metadata": {},
   "outputs": [],
   "source": [
    "#merged_df = ea_bndry.merge(mae_df, how = 'inner', on = ['GID_1'])\n",
    "\n",
    "merged_df = ea_bndry.merge(error_zone_croplands, how = 'inner', on = ['GID_1'])"
   ]
  },
  {
   "cell_type": "code",
   "execution_count": 56,
   "metadata": {},
   "outputs": [],
   "source": [
    "world = gpd.read_file(gpd.datasets.get_path('naturalearth_lowres'))\n",
    "Africa_basemap = world[world['continent'] == 'Africa']\n",
    "\n",
    "EA_countries = ['Burundi', 'Djibouti', 'Eritrea', 'Ethiopia', 'Kenya', 'Rwanda', 'Sudan', 'Somalia', 'Somaliland', 'South Sudan', 'Tanzania', 'Uganda']\n",
    "EastAfrica_basemap = world[world['name'].isin(EA_countries)]"
   ]
  },
  {
   "cell_type": "code",
   "execution_count": 57,
   "metadata": {},
   "outputs": [],
   "source": [
    "variable = 'rho'\n",
    "vmin, vmax = 0, 20"
   ]
  },
  {
   "cell_type": "code",
   "execution_count": 58,
   "metadata": {},
   "outputs": [
    {
     "data": {
      "image/png": "[encoded data removed]",
      "text/plain": [
       "<Figure size 1440x864 with 2 Axes>"
      ]
     },
     "metadata": {
      "needs_background": "light"
     },
     "output_type": "display_data"
    }
   ],
   "source": [
    "fig, ax = plt.subplots(1, figsize=(20, 12))\n",
    "EastAfrica_basemap.plot(color = 'blue', ax = ax, alpha = 0.05)\n",
    "merged_df.plot(column = variable, cmap='Greens', linewidth=0.8, ax=ax, edgecolor=None)\n",
    "ax.axis('off')\n",
    "ax.set_title('Simplex 6-Month Ahead NDVI Forecasting Mean Absolute Error across East Africa', fontdict={'fontsize': '25', 'fontweight' : '3'})\n",
    "sm = plt.cm.ScalarMappable(cmap='Greens', norm=plt.Normalize(vmin=vmin, vmax=vmax))\n",
    "# empty array for the data range\n",
    "sm._A = []\n",
    "# add the colorbar to the figure\n",
    "cbar = fig.colorbar(sm)"
   ]
  },
  {
   "cell_type": "code",
   "execution_count": null,
   "metadata": {},
   "outputs": [],
   "source": []
  },
  {
   "cell_type": "markdown",
   "metadata": {},
   "source": [
    "## 2. Pixelwise Prediction Skill Across Africa"
   ]
  },
  {
   "cell_type": "code",
   "execution_count": null,
   "metadata": {},
   "outputs": [],
   "source": [
    "def stack_rasters(in_dir):\n",
    "    \n",
    "    files=np.array(sorted(os.listdir(in_dir)))\n",
    "    tifs = pd.Series(files).str.contains('.tif')\n",
    "    files = files[tifs]\n",
    "    \n",
    "    stacked = []\n",
    "    \n",
    "    for filename in files: \n",
    "        if 'chirps' in filename:\n",
    "            chirps_file = xr.open_rasterio(in_dir+filename)\n",
    "            stacked.append(chirps_file.sel(band=1))\n",
    "    combined = xr.concat(stacked, dim = 'time')\n",
    "    \n",
    "\n",
    "    return combined\n",
    "        \n",
    "    "
   ]
  },
  {
   "cell_type": "code",
   "execution_count": null,
   "metadata": {},
   "outputs": [],
   "source": [
    "stack_out = stack_rasters(croplands_vars_dir)"
   ]
  },
  {
   "cell_type": "code",
   "execution_count": null,
   "metadata": {},
   "outputs": [],
   "source": [
    "def pixelwise_ts_table(in_dir, var):\n",
    "    \n",
    "    files=np.array(sorted(os.listdir(in_dir)))\n",
    "    tifs = pd.Series(files).str.contains('.tif')\n",
    "    files = files[tifs]\n",
    "    \n",
    "    \n",
    "    #cols = [str(x) for x in range((800*730) + 1)] #x,y dimensions\n",
    "    #pixel_df = pd.DataFrame(columns = cols, index=dekads)\n",
    "    pixelwise_TS = []\n",
    "    \n",
    "    for filename in files: \n",
    "        \n",
    "        if str(var) in filename:\n",
    "            open_file = xr.open_rasterio(in_dir+filename).sel(band=1)\n",
    "            array = open_file.values\n",
    "            pixel_list = array.ravel().tolist()\n",
    "           # print(pixel_list[:10])\n",
    "            pixelwise_TS.append(pixel_list)\n",
    "#         print(filename)\n",
    "    return pd.DataFrame(pixelwise_TS)\n",
    "           \n",
    "                \n",
    "            \n",
    "            \n",
    "            \n",
    "#             stacked.append(chirps_file.sel(band=1))\n",
    "#     combined = xr.concat(stacked, dim = 'time')\n",
    "    \n",
    "\n",
    "    #return combined\n",
    "        \n",
    "    "
   ]
  },
  {
   "cell_type": "code",
   "execution_count": null,
   "metadata": {},
   "outputs": [],
   "source": [
    "chirps_table = pixelwise_ts_table(croplands_vars_dir, 'chirps')"
   ]
  },
  {
   "cell_type": "code",
   "execution_count": null,
   "metadata": {},
   "outputs": [],
   "source": [
    "chirps_table"
   ]
  },
  {
   "cell_type": "code",
   "execution_count": null,
   "metadata": {},
   "outputs": [],
   "source": [
    "chirps_table.loc[:10,500:510]"
   ]
  },
  {
   "cell_type": "code",
   "execution_count": null,
   "metadata": {},
   "outputs": [],
   "source": [
    "def pixelwise_simplex(table, train, test, ed, pi):\n",
    "    \n",
    "    '''\n",
    "    This function computes the simplex prediction skill for a combination of embedding dimensions and prediction intervals for a given land cover and environmental variable\n",
    "    The result is a nested list of error values that will be input into the following function to create a dataframe\n",
    "    Args:\n",
    "    - in_dir: input directory \n",
    "    - file: filename (string)\n",
    "    - var1: training variable (string)\n",
    "    - var2: testing variable (string) (often training and testing the same)\n",
    "    - train: portion of data library used to train (string of range with space between values)\n",
    "    - test: portion of data libary used to test (string of range with space between values) \n",
    "    - ed: embedding dimension\n",
    "    - pi: prediction interval (Tp)  \n",
    "    - param: error parameter (MAE, RMSE, rho)\n",
    "    '''\n",
    "    #create list of dekads as datetime objects\n",
    "    begin = pd.datetime(2002,7,1)\n",
    "    end = pd.datetime(2016,12,31)\n",
    "    dtrange = pd.date_range(begin, end)\n",
    "    days = list(range(0,5298)) #length of dtrange\n",
    "    daysDF = pd.DataFrame({'Days': days}, index=dtrange)\n",
    "    d = daysDF.index.day - np.clip((daysDF.index.day-1) // 10, 0, 2)*10 - 1 \n",
    "    dekaddates = daysDF.index.values - np.array(d, dtype=\"timedelta64[D]\")\n",
    "    dekads = daysDF.groupby(dekaddates).mean()\n",
    "    dekads = dekads.index\n",
    "\n",
    "    simplex_out_df = []\n",
    "    #table_chunk = table.loc[:100,500:510]\n",
    "    \n",
    "    for column in table:\n",
    "        #print(column)\n",
    "        if table[column].isnull().values.any():\n",
    "            #print('null')\n",
    "            simplex_out_df.append(0)\n",
    "        else:\n",
    "            #do simplex function on these columns\n",
    "            interim_df = pd.DataFrame({'Time': dekads, 'Data': table[column]})\n",
    "            simplex_result = Simplex(dataFrame = interim_df, lib = train, pred = test, E = ed, Tp = pi, \n",
    "                                     columns = 'Data', target = 'Data', showPlot = False)\n",
    "            error = ComputeError(list(simplex_result.Observations), list(simplex_result.Predictions))\n",
    "            MAE = list(error.values())[0]\n",
    "            RMSE = list(error.values())[1]\n",
    "            rho = list(error.values())[2]\n",
    "            #print(rho)\n",
    "            simplex_out_df.append(rho)\n",
    "            \n",
    "    return(np.reshape(simplex_out_df, (800,730)))\n",
    "            \n",
    "            \n",
    "   # return pd.DataFrame(simplex_out_df)\n"
   ]
  },
  {
   "cell_type": "code",
   "execution_count": null,
   "metadata": {},
   "outputs": [],
   "source": []
  },
  {
   "cell_type": "code",
   "execution_count": null,
   "metadata": {},
   "outputs": [],
   "source": [
    "chirps_africa_simplex = pixelwise_simplex(chirps_table, '1 30', '31 100', 1, 18)"
   ]
  },
  {
   "cell_type": "code",
   "execution_count": null,
   "metadata": {},
   "outputs": [],
   "source": [
    "chirps_africa_simplex"
   ]
  },
  {
   "cell_type": "code",
   "execution_count": null,
   "metadata": {},
   "outputs": [],
   "source": [
    "np.arange(100).reshape((10,10))"
   ]
  },
  {
   "cell_type": "code",
   "execution_count": null,
   "metadata": {},
   "outputs": [],
   "source": [
    "fig = plt.figure(figsize=(10,10))\n",
    "\n",
    "masked = np.ma.masked_where(chirps_africa_simplex == 0, chirps_africa_simplex)\n",
    "cmap = plt.cm.YlGnBu\n",
    "cmap.set_bad(color='black')\n",
    "\n",
    "\n",
    "ax = plt.gca()\n",
    "im = ax.imshow(masked, cmap=cmap)\n",
    "\n",
    "divider = make_axes_locatable(ax)\n",
    "cax = divider.append_axes(\"right\", size=\"5%\", pad=0.05)\n",
    "\n",
    "plt.colorbar(im, cax=cax)"
   ]
  },
  {
   "cell_type": "code",
   "execution_count": null,
   "metadata": {},
   "outputs": [],
   "source": []
  },
  {
   "cell_type": "code",
   "execution_count": null,
   "metadata": {},
   "outputs": [],
   "source": [
    "simplex_test = pd.DataFrame({'Time': dekads[:100], 'Data': list(range(1,101))})\n",
    "simplex_test"
   ]
  },
  {
   "cell_type": "code",
   "execution_count": null,
   "metadata": {},
   "outputs": [],
   "source": [
    "Simplex(dataFrame = simplex_test, lib = '1 30', pred = '31 100', E = 1, Tp = 18, \n",
    "                                     columns = 'Data', target = 'Data', showPlot = False)"
   ]
  },
  {
   "cell_type": "code",
   "execution_count": null,
   "metadata": {},
   "outputs": [],
   "source": []
  }
 ],
 "metadata": {
  "kernelspec": {
   "display_name": "Python [conda env:edm]",
   "language": "python",
   "name": "conda-env-edm-py"
  },
  "language_info": {
   "codemirror_mode": {
    "name": "ipython",
    "version": 3
   },
   "file_extension": ".py",
   "mimetype": "text/x-python",
   "name": "python",
   "nbconvert_exporter": "python",
   "pygments_lexer": "ipython3",
   "version": "3.7.3"
  }
 },
 "nbformat": 4,
 "nbformat_minor": 4
}
