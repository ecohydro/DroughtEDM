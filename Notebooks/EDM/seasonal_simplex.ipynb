{
 "cells": [
  {
   "cell_type": "code",
   "execution_count": 1,
   "metadata": {},
   "outputs": [],
   "source": [
    "import pandas as pd\n",
    "import numpy as np\n",
    "import matplotlib as mpl\n",
    "import os\n",
    "import itertools\n",
    "import rasterio\n",
    "from matplotlib import pyplot as plt\n",
    "import geopandas as gpd\n",
    "from rasterstats import zonal_stats\n",
    "from tqdm import tqdm\n",
    "import xarray as xr\n",
    "from rasterstats import zonal_stats\n"
   ]
  },
  {
   "cell_type": "code",
   "execution_count": 3,
   "metadata": {},
   "outputs": [],
   "source": [
    "seasonal_simplex_ond = '/home/rgreen/DroughtEDM/Data/Seasonal_Simplex/ndvi_ea_simplex_ond_cr_years/'\n",
    "seasonal_simplex_mam = '/home/rgreen/DroughtEDM/Data/Seasonal_Simplex/ndvi_ea_simplex_mam_cr_years/'"
   ]
  },
  {
   "cell_type": "code",
   "execution_count": 6,
   "metadata": {},
   "outputs": [],
   "source": [
    "def simplex_mean(in_dir):\n",
    "    \n",
    "    \n",
    "    simplex_rasters = np.array(sorted(os.listdir(in_dir)))\n",
    "    tifs = pd.Series(simplex_rasters).str.contains('.tif')\n",
    "    files = simplex_rasters[tifs]\n",
    "    \n",
    "    mean_simplex = []\n",
    "    \n",
    "    for filename in files:\n",
    "            simplex_raster = rasterio.open(in_dir + filename)\n",
    "            read_raster = simplex_raster.read(1)\n",
    "            mean_raster = np.nanmean(read_raster)\n",
    "            mean_simplex.append(mean_raster)\n",
    "            \n",
    "    return mean_simplex"
   ]
  },
  {
   "cell_type": "code",
   "execution_count": 7,
   "metadata": {},
   "outputs": [
    {
     "data": {
      "text/plain": [
       "[0.5574724,\n",
       " 0.5204642,\n",
       " 0.4931045,\n",
       " 0.5393096,\n",
       " 0.5722468,\n",
       " 0.48717406,\n",
       " 0.47272328,\n",
       " 0.543306,\n",
       " 0.60573494,\n",
       " 0.60191447,\n",
       " 0.57496494,\n",
       " 0.5105755,\n",
       " 0.5411364,\n",
       " 0.5805697,\n",
       " 0.5761692,\n",
       " 0.57840896]"
      ]
     },
     "execution_count": 7,
     "metadata": {},
     "output_type": "execute_result"
    }
   ],
   "source": [
    "simplex_mean(seasonal_simplex_ond)"
   ]
  },
  {
   "cell_type": "code",
   "execution_count": 8,
   "metadata": {},
   "outputs": [
    {
     "data": {
      "text/plain": [
       "[0.34386295,\n",
       " 0.2832782,\n",
       " 0.3758019,\n",
       " 0.42549744,\n",
       " 0.38566756,\n",
       " 0.35648882,\n",
       " 0.28498667,\n",
       " 0.40336758,\n",
       " 0.4121301,\n",
       " 0.41145018,\n",
       " 0.39693585,\n",
       " 0.35768113,\n",
       " 0.3676224,\n",
       " 0.39586377,\n",
       " 0.38780457,\n",
       " 0.37146735]"
      ]
     },
     "execution_count": 8,
     "metadata": {},
     "output_type": "execute_result"
    }
   ],
   "source": [
    "simplex_mean(seasonal_simplex_mam)"
   ]
  },
  {
   "cell_type": "code",
   "execution_count": null,
   "metadata": {},
   "outputs": [],
   "source": []
  }
 ],
 "metadata": {
  "kernelspec": {
   "display_name": "Python [conda env:edm]",
   "language": "python",
   "name": "conda-env-edm-py"
  },
  "language_info": {
   "codemirror_mode": {
    "name": "ipython",
    "version": 3
   },
   "file_extension": ".py",
   "mimetype": "text/x-python",
   "name": "python",
   "nbconvert_exporter": "python",
   "pygments_lexer": "ipython3",
   "version": "3.7.3"
  }
 },
 "nbformat": 4,
 "nbformat_minor": 4
}
