{
 "cells": [
  {
   "cell_type": "code",
   "execution_count": 6,
   "metadata": {},
   "outputs": [],
   "source": [
    "from pyEDM import *\n",
    "import pandas as pd\n",
    "import numpy as np\n",
    "import matplotlib as mpl\n",
    "from matplotlib import pyplot as plt\n",
    "import os\n",
    "import seaborn as sns\n",
    "from scipy import stats\n",
    "import xarray as xr\n",
    "from tqdm import tqdm\n",
    "import rasterio"
   ]
  },
  {
   "cell_type": "code",
   "execution_count": 7,
   "metadata": {},
   "outputs": [],
   "source": [
    "precip_ea = '/home/rgreen/tana-spin/rgreen/DroughtEDM/Data/CHIRPS/EA/'\n",
    "temp_ea = '/home/rgreen/tana-spin/rgreen/DroughtEDM/Data/LST/EA/'\n",
    "ndvi_ea = '/home/rgreen/tana-spin/rgreen/DroughtEDM/Data/eMODIS_NDVI/EA/'"
   ]
  },
  {
   "cell_type": "code",
   "execution_count": 16,
   "metadata": {},
   "outputs": [],
   "source": [
    "et_ea = '/home/rgreen/tana-spin/rgreen/DroughtEDM/Data/Hobbins_ET/ETos_p05_EA/'\n",
    "sm10_ea = '/home/rgreen/tana-spin/rgreen/DroughtEDM/Data/FLDAS_SM/EA10/'\n",
    "sm40_ea = '/home/rgreen/tana-spin/rgreen/DroughtEDM/Data/FLDAS_SM/EA40/'\n",
    "sm100_ea = '/home/rgreen/tana-spin/rgreen/DroughtEDM/Data/FLDAS_SM/EA100/'\n",
    "sm200_ea = '/home/rgreen/tana-spin/rgreen/DroughtEDM/Data/FLDAS_SM/EA200/'"
   ]
  },
  {
   "cell_type": "code",
   "execution_count": 13,
   "metadata": {},
   "outputs": [],
   "source": [
    "observations_tables = '/home/rgreen/tana-crunch/rgreen/crunch/DroughtEDM/Data/observations_tables/'"
   ]
  },
  {
   "cell_type": "code",
   "execution_count": 14,
   "metadata": {},
   "outputs": [],
   "source": [
    "def pixelwise_ts_table(in_dir, keyword):\n",
    "    \n",
    "    '''\n",
    "    This function searches through the file directory and creates a dataframe of pixel values over time from rasters\n",
    "    based on a given keyword describing the environmental variable of interest to generate a raster time series stack \n",
    "    \n",
    "   In the output dataframe, columns are each pixel extracted from the raster (read squentially into a list)\n",
    "   and rows are the same pixel over time (dekads going down)\n",
    "    \n",
    "    Args:\n",
    "    - in_dir: path to the input directory\n",
    "    -keyword: string that is unique to the environmental variable\n",
    "        options: ['precip', 'temp', 'ndvi']\n",
    "    '''\n",
    "    \n",
    "    \n",
    "    files=np.array(sorted(os.listdir(in_dir)))\n",
    "    tifs = pd.Series(files).str.contains(keyword)\n",
    "    files = files[tifs]\n",
    "    #n_samples = len(files)\n",
    "    \n",
    "    \n",
    "    pixelwise_TS = []\n",
    "    \n",
    "    for filename in tqdm(files): \n",
    "        \n",
    "        \n",
    "            open_file = xr.open_rasterio(in_dir+filename).sel(band=1)\n",
    "            array = open_file.values\n",
    "            \n",
    "            pixel_list = array.ravel().tolist()\n",
    "            \n",
    "            pixelwise_TS.append(pixel_list)\n",
    "\n",
    "    return pd.DataFrame(pixelwise_TS)"
   ]
  },
  {
   "cell_type": "code",
   "execution_count": 11,
   "metadata": {},
   "outputs": [
    {
     "name": "stderr",
     "output_type": "stream",
     "text": [
      "100%|██████████| 606/606 [00:15<00:00, 39.21it/s]\n"
     ]
    }
   ],
   "source": [
    "precip_table = pixelwise_ts_table(precip_ea,'precip')"
   ]
  },
  {
   "cell_type": "code",
   "execution_count": null,
   "metadata": {},
   "outputs": [],
   "source": [
    "#precip_table.T.to_csv(observations_tables + 'precip_table_origT.csv')"
   ]
  },
  {
   "cell_type": "code",
   "execution_count": 15,
   "metadata": {},
   "outputs": [
    {
     "name": "stderr",
     "output_type": "stream",
     "text": [
      "100%|██████████| 606/606 [00:19<00:00, 31.86it/s]\n"
     ]
    }
   ],
   "source": [
    "temp_table = pixelwise_ts_table(temp_ea,'temp')"
   ]
  },
  {
   "cell_type": "code",
   "execution_count": null,
   "metadata": {},
   "outputs": [],
   "source": [
    "#temp_table.T.to_csv(observations_tables + 'temp_table_origT.csv')"
   ]
  },
  {
   "cell_type": "code",
   "execution_count": 17,
   "metadata": {},
   "outputs": [
    {
     "name": "stderr",
     "output_type": "stream",
     "text": [
      "100%|██████████| 606/606 [00:18<00:00, 33.52it/s]\n"
     ]
    }
   ],
   "source": [
    "ndvi_table = pixelwise_ts_table(ndvi_ea, 'ndvi')"
   ]
  },
  {
   "cell_type": "code",
   "execution_count": null,
   "metadata": {},
   "outputs": [],
   "source": [
    "#ndvi_table.T.to_csv(observations_tables + 'ndvi_table_origT.csv')"
   ]
  },
  {
   "cell_type": "code",
   "execution_count": 11,
   "metadata": {},
   "outputs": [
    {
     "name": "stderr",
     "output_type": "stream",
     "text": [
      "100%|██████████| 606/606 [00:15<00:00, 40.07it/s]\n"
     ]
    }
   ],
   "source": [
    "sm_table = pixelwise_ts_table(sm_ea, 'SM')"
   ]
  },
  {
   "cell_type": "code",
   "execution_count": 14,
   "metadata": {},
   "outputs": [],
   "source": [
    "sm_table.T.to_csv(observations_tables + 'sm_table_origT.csv')"
   ]
  },
  {
   "cell_type": "code",
   "execution_count": 29,
   "metadata": {},
   "outputs": [
    {
     "name": "stderr",
     "output_type": "stream",
     "text": [
      "100%|██████████| 606/606 [00:08<00:00, 71.23it/s]\n"
     ]
    }
   ],
   "source": [
    "et_table = pixelwise_ts_table(et_ea, 'ET')"
   ]
  },
  {
   "cell_type": "code",
   "execution_count": 30,
   "metadata": {},
   "outputs": [],
   "source": [
    "et_table.T.to_csv(observations_tables + 'et_table_origT.csv')"
   ]
  },
  {
   "cell_type": "code",
   "execution_count": 17,
   "metadata": {},
   "outputs": [
    {
     "name": "stderr",
     "output_type": "stream",
     "text": [
      "100%|██████████| 606/606 [00:16<00:00, 36.71it/s]\n"
     ]
    }
   ],
   "source": [
    "sm10_table = pixelwise_ts_table(sm10_ea, '10_SM')"
   ]
  },
  {
   "cell_type": "code",
   "execution_count": 18,
   "metadata": {},
   "outputs": [],
   "source": [
    "sm10_table.T.to_csv(observations_tables + 'sm10_table_origT.csv')"
   ]
  },
  {
   "cell_type": "code",
   "execution_count": 19,
   "metadata": {},
   "outputs": [
    {
     "name": "stderr",
     "output_type": "stream",
     "text": [
      "100%|██████████| 606/606 [00:14<00:00, 40.80it/s]\n"
     ]
    }
   ],
   "source": [
    "sm40_table = pixelwise_ts_table(sm40_ea, '40_SM')"
   ]
  },
  {
   "cell_type": "code",
   "execution_count": 20,
   "metadata": {},
   "outputs": [],
   "source": [
    "sm40_table.T.to_csv(observations_tables + 'sm40_table_origT.csv')"
   ]
  },
  {
   "cell_type": "code",
   "execution_count": 21,
   "metadata": {},
   "outputs": [
    {
     "name": "stderr",
     "output_type": "stream",
     "text": [
      "100%|██████████| 606/606 [00:18<00:00, 31.95it/s]\n"
     ]
    }
   ],
   "source": [
    "sm100_table = pixelwise_ts_table(sm100_ea, '100_SM')"
   ]
  },
  {
   "cell_type": "code",
   "execution_count": 22,
   "metadata": {},
   "outputs": [],
   "source": [
    "sm100_table.T.to_csv(observations_tables + 'sm100_table_origT.csv')"
   ]
  },
  {
   "cell_type": "code",
   "execution_count": 23,
   "metadata": {},
   "outputs": [
    {
     "name": "stderr",
     "output_type": "stream",
     "text": [
      "100%|██████████| 606/606 [00:15<00:00, 38.98it/s]\n"
     ]
    }
   ],
   "source": [
    "sm200_table = pixelwise_ts_table(sm200_ea, '200_SM')"
   ]
  },
  {
   "cell_type": "code",
   "execution_count": 33,
   "metadata": {},
   "outputs": [],
   "source": [
    "sm200_table.T.to_csv(observations_tables + 'sm200_table_origT.csv')"
   ]
  },
  {
   "cell_type": "code",
   "execution_count": null,
   "metadata": {},
   "outputs": [],
   "source": []
  }
 ],
 "metadata": {
  "kernelspec": {
   "display_name": "Python [conda env:edm]",
   "language": "python",
   "name": "conda-env-edm-py"
  },
  "language_info": {
   "codemirror_mode": {
    "name": "ipython",
    "version": 3
   },
   "file_extension": ".py",
   "mimetype": "text/x-python",
   "name": "python",
   "nbconvert_exporter": "python",
   "pygments_lexer": "ipython3",
   "version": "3.7.3"
  }
 },
 "nbformat": 4,
 "nbformat_minor": 4
}
