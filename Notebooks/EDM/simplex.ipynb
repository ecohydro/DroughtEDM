{
 "cells": [
  {
   "cell_type": "markdown",
   "metadata": {},
   "source": [
    "# Simplex Projection of Climate/Vegetation\n",
    "\n",
    "Sugihara & May 1990: https://www.nature.com/articles/344734a0"
   ]
  },
  {
   "cell_type": "code",
   "execution_count": 1,
   "metadata": {},
   "outputs": [],
   "source": [
    "import itertools"
   ]
  },
  {
   "cell_type": "code",
   "execution_count": 5,
   "metadata": {},
   "outputs": [
    {
     "data": {
      "text/plain": [
       "[('NDVI', 'SM'),\n",
       " ('NDVI', 'TMP'),\n",
       " ('NDVI', 'P'),\n",
       " ('NDVI', 'LST'),\n",
       " ('NDVI', 'refET'),\n",
       " ('SM', 'NDVI'),\n",
       " ('SM', 'TMP'),\n",
       " ('SM', 'P'),\n",
       " ('SM', 'LST'),\n",
       " ('SM', 'refET'),\n",
       " ('TMP', 'NDVI'),\n",
       " ('TMP', 'SM'),\n",
       " ('TMP', 'P'),\n",
       " ('TMP', 'LST'),\n",
       " ('TMP', 'refET'),\n",
       " ('P', 'NDVI'),\n",
       " ('P', 'SM'),\n",
       " ('P', 'TMP'),\n",
       " ('P', 'LST'),\n",
       " ('P', 'refET'),\n",
       " ('LST', 'NDVI'),\n",
       " ('LST', 'SM'),\n",
       " ('LST', 'TMP'),\n",
       " ('LST', 'P'),\n",
       " ('LST', 'refET'),\n",
       " ('refET', 'NDVI'),\n",
       " ('refET', 'SM'),\n",
       " ('refET', 'TMP'),\n",
       " ('refET', 'P'),\n",
       " ('refET', 'LST')]"
      ]
     },
     "execution_count": 5,
     "metadata": {},
     "output_type": "execute_result"
    }
   ],
   "source": [
    "list(itertools.permutations(['NDVI', 'SM', 'TMP', 'P', 'LST', 'refET'],2))"
   ]
  },
  {
   "cell_type": "code",
   "execution_count": null,
   "metadata": {},
   "outputs": [],
   "source": []
  }
 ],
 "metadata": {
  "kernelspec": {
   "display_name": "Python [conda env:edm]",
   "language": "python",
   "name": "conda-env-edm-py"
  },
  "language_info": {
   "codemirror_mode": {
    "name": "ipython",
    "version": 3
   },
   "file_extension": ".py",
   "mimetype": "text/x-python",
   "name": "python",
   "nbconvert_exporter": "python",
   "pygments_lexer": "ipython3",
   "version": "3.7.3"
  }
 },
 "nbformat": 4,
 "nbformat_minor": 4
}
