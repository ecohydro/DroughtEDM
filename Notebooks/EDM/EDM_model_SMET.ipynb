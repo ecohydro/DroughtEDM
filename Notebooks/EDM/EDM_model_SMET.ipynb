{
 "cells": [
  {
   "cell_type": "markdown",
   "metadata": {
    "colab_type": "text",
    "id": "view-in-github"
   },
   "source": [
    "<a href=\"https://colab.research.google.com/github/ecohydro/DroughtEDM/blob/master/growing_season_forecast.ipynb\" target=\"_parent\"><img src=\"https://colab.research.google.com/assets/colab-badge.svg\" alt=\"Open In Colab\"/></a>"
   ]
  },
  {
   "cell_type": "markdown",
   "metadata": {
    "colab_type": "text",
    "id": "znZmDtwqa3Dt"
   },
   "source": [
    "This repository contains functions for generating the pixelwise prediction skill of NDVI across East Africa \n",
    "    \n",
    "    http://maps.elie.ucl.ac.be/CCI/viewer/download/ESACCI-LC-QuickUserGuide-LC-Maps_v2-0-7.pdf"
   ]
  },
  {
   "cell_type": "code",
   "execution_count": 6,
   "metadata": {
    "colab": {},
    "colab_type": "code",
    "id": "bKF3GgN4a3Dv"
   },
   "outputs": [],
   "source": [
    "from pyEDM import *\n",
    "import pandas as pd\n",
    "import numpy as np\n",
    "import matplotlib as mpl\n",
    "from matplotlib import pyplot as plt\n",
    "import os\n",
    "import geopandas as gpd\n",
    "import rasterio\n",
    "import xarray as xr\n",
    "from rasterio.plot import show\n",
    "from tqdm import tqdm\n",
    "import datetime\n",
    "from scipy import stats"
   ]
  },
  {
   "cell_type": "code",
   "execution_count": 7,
   "metadata": {},
   "outputs": [],
   "source": [
    "import warnings\n",
    "\n",
    "def fxn():\n",
    "    warnings.warn(\"deprecated\", DeprecationWarning)\n",
    "\n",
    "with warnings.catch_warnings():\n",
    "    warnings.simplefilter(\"ignore\")\n",
    "    fxn()"
   ]
  },
  {
   "cell_type": "code",
   "execution_count": 8,
   "metadata": {},
   "outputs": [],
   "source": [
    "import warnings\n",
    "warnings.filterwarnings(\"ignore\")"
   ]
  },
  {
   "cell_type": "code",
   "execution_count": 9,
   "metadata": {
    "colab": {},
    "colab_type": "code",
    "id": "xhJUBqZ6a3Dy"
   },
   "outputs": [],
   "source": [
    "prediction_skill_interval = '/home/rgreen/DroughtEDM/Data/Prediction_skill_interval/'\n",
    "prediction_skill_ed = '/home/rgreen/DroughtEDM/Data/Prediction_skill_ed/'\n",
    "prediction_skill_ed_anom_hh = '/home/rgreen/DroughtEDM/Data/Prediction_skill_ed/ndvi_anom_hh/'\n",
    "\n",
    "EA_prediction_skill= '/home/rgreen/DroughtEDM/Data/EA_prediction_skill/'\n",
    "pred_skill_clim = '/home/rgreen/DroughtEDM/Data/Prediction_skill_climatology/'\n",
    "anomaly_maps = '/home/rgreen/DroughtEDM/Data/Anomaly_Maps/'"
   ]
  },
  {
   "cell_type": "code",
   "execution_count": 10,
   "metadata": {
    "colab": {},
    "colab_type": "code",
    "id": "1PqDa42La3D1"
   },
   "outputs": [],
   "source": [
    "et_ea = '/home/rgreen/tana-spin/rgreen/DroughtEDM/Data/Hobbins_ET/ETos_p05_EA/'\n",
    "ndvi_ea = '/home/rgreen/tana-spin/rgreen/DroughtEDM/Data/eMODIS_NDVI/EA/'\n",
    "sm10_ea = '/home/rgreen/tana-spin/rgreen/DroughtEDM/Data/FLDAS_SM/EA10/'\n",
    "sm40_ea = '/home/rgreen/tana-spin/rgreen/DroughtEDM/Data/FLDAS_SM/EA40/'\n",
    "sm100_ea = '/home/rgreen/tana-spin/rgreen/DroughtEDM/Data/FLDAS_SM/EA100/'\n",
    "sm200_ea = '/home/rgreen/tana-spin/rgreen/DroughtEDM/Data/FLDAS_SM/EA200/'"
   ]
  },
  {
   "cell_type": "code",
   "execution_count": 11,
   "metadata": {
    "colab": {},
    "colab_type": "code",
    "id": "-30K39jTa3D4"
   },
   "outputs": [],
   "source": [
    "et_anom_dir = '/home/rgreen/tana-spin/rgreen/DroughtEDM/Data/Hobbins_ET/Anomaly_Norm/'\n",
    "ndvi_anom_dir = '/home/rgreen/tana-spin/rgreen/DroughtEDM/Data/eMODIS_NDVI/Anomaly_Norm/'\n",
    "sm10_anom_dir = '/home/rgreen/tana-spin/rgreen/DroughtEDM/Data/FLDAS_SM/Anomaly10_Norm/'\n",
    "sm40_anom_dir = '/home/rgreen/tana-spin/rgreen/DroughtEDM/Data/FLDAS_SM/Anomaly40_Norm/'\n",
    "sm100_anom_dir = '/home/rgreen/tana-spin/rgreen/DroughtEDM/Data/FLDAS_SM/Anomaly100_Norm/'\n",
    "sm200_anom_dir = '/home/rgreen/tana-spin/rgreen/DroughtEDM/Data/FLDAS_SM/Anomaly200_Norm/'"
   ]
  },
  {
   "cell_type": "code",
   "execution_count": 12,
   "metadata": {},
   "outputs": [],
   "source": [
    "# broadleaf_open_dir = '/home/rgreen/tana-spin/rgreen/DroughtEDM/Data/VariablesByLandCover16/variables_broadleaf_open/'\n",
    "# crop_irr_dir = '/home/rgreen/tana-spin/rgreen/DroughtEDM/Data/VariablesByLandCover16/variables_crop_irr/'\n",
    "# crop_rain_dir = '/home/rgreen/tana-spin/rgreen/DroughtEDM/Data/VariablesByLandCover16/variables_crop_rain/'\n",
    "# grassland_dir = '/home/rgreen/tana-spin/rgreen/DroughtEDM/Data/VariablesByLandCover16/variables_grassland/'\n",
    "# shrubland_dir = '/home/rgreen/tana-spin/rgreen/DroughtEDM/Data/VariablesByLandCover16/variables_shrubland/'\n",
    "\n",
    "broadleaf_open_anom_dir = '/home/rgreen/tana-spin/rgreen/DroughtEDM/Data/VariablesByLandCover16/variables_broadleaf_open_anom/'\n",
    "crop_irr_anom_dir = '/home/rgreen/tana-spin/rgreen/DroughtEDM/Data/VariablesByLandCover16/variables_crop_irr_anom/'\n",
    "crop_rain_anom_dir = '/home/rgreen/tana-spin/rgreen/DroughtEDM/Data/VariablesByLandCover16/variables_crop_rain_anom/'\n",
    "grassland_anom_dir = '/home/rgreen/tana-spin/rgreen/DroughtEDM/Data/VariablesByLandCover16/variables_grassland_anom/'\n",
    "shrubland_anom_dir = '/home/rgreen/tana-spin/rgreen/DroughtEDM/Data/VariablesByLandCover16/variables_shrubland_anom/'"
   ]
  },
  {
   "cell_type": "code",
   "execution_count": 13,
   "metadata": {},
   "outputs": [],
   "source": [
    "EA_prediction_skill = '/home/rgreen/DroughtEDM/Data/EA_prediction_skill/'"
   ]
  },
  {
   "cell_type": "code",
   "execution_count": 14,
   "metadata": {
    "colab": {},
    "colab_type": "code",
    "id": "MxT6yQhCa3D7"
   },
   "outputs": [],
   "source": [
    "# ea_adminbds = Admin_boundaries + 'gadm36_EastAfrica.shp'\n",
    "# ea_bndry = gpd.read_file(ea_adminbds)\n",
    "# world = gpd.read_file(gpd.datasets.get_path('naturalearth_lowres'))\n",
    "# Africa_basemap = world[world['continent'] == 'Africa']\n",
    "# EA_countries = ['Burundi', 'Djibouti', 'Eritrea', 'Ethiopia', 'Kenya', 'Rwanda', 'Sudan', 'S. Sudan', 'Somalia', 'Somaliland', 'South Sudan', 'Tanzania', 'Uganda']\n",
    "# EastAfrica_basemap = world[world['name'].isin(EA_countries)]\n",
    "# EastAfrica_basemap.to_file(Admin_boundaries + 'EastAfrica_countries.shp')"
   ]
  },
  {
   "cell_type": "code",
   "execution_count": 15,
   "metadata": {},
   "outputs": [],
   "source": [
    "def generate_dekads(start, end):\n",
    "    '''\n",
    "    Generates list of timestamps of dekads between two dates\n",
    "    \n",
    "    Parameters\n",
    "    ----------\n",
    "    start : pd.datetime object\n",
    "        Start date of list\n",
    "    end : pd.datetime object\n",
    "        end date of list\n",
    "    '''\n",
    "    \n",
    "    dtrange = pd.date_range(start, end)\n",
    "    days = list(range(len(dtrange))) #length of dtrange\n",
    "    daysDF = pd.DataFrame({'Days': days}, index=dtrange)\n",
    "    d = daysDF.index.day - np.clip((daysDF.index.day-1) // 10, 0, 2)*10 - 1 \n",
    "    dekaddates = daysDF.index.values - np.array(d, dtype=\"timedelta64[D]\")\n",
    "    dekads = daysDF.groupby(dekaddates).mean()\n",
    "    dekads = dekads.index\n",
    "    \n",
    "    return dekads"
   ]
  },
  {
   "cell_type": "code",
   "execution_count": 16,
   "metadata": {
    "colab": {},
    "colab_type": "code",
    "id": "DohjJP_Ta3D9"
   },
   "outputs": [],
   "source": [
    "start = pd.datetime(2002,7,1)\n",
    "end = pd.datetime(2019,4,30)\n",
    "\n",
    "dekads = generate_dekads(start, end)"
   ]
  },
  {
   "cell_type": "markdown",
   "metadata": {
    "colab_type": "text",
    "id": "O6skdDlVa3EQ"
   },
   "source": [
    "## 2. Pixelwise Prediction Skill Across East Africa"
   ]
  },
  {
   "cell_type": "code",
   "execution_count": 17,
   "metadata": {
    "colab": {},
    "colab_type": "code",
    "id": "mHbn4yZOa3ER"
   },
   "outputs": [],
   "source": [
    "def pixelwise_ts_table(in_dir, keyword):\n",
    "    \n",
    "    '''\n",
    "    This function searches through the file directory and creates a dataframe of pixel values over time from rasters\n",
    "    based on a given keyword describing the environmental variable of interest to generate a raster time series stack \n",
    "    \n",
    "   In the output dataframe, columns are each pixel extracted from the raster (read squentially into a list)\n",
    "   and rows are the same pixel over time (dekads going down)\n",
    "    \n",
    "    Args:\n",
    "    - in_dir: path to the input directory\n",
    "    -keyword: string that is unique to the environmental variable\n",
    "        options: ['precip', 'temp', 'ndvi']\n",
    "    '''\n",
    "    \n",
    "    \n",
    "    files=np.array(sorted(os.listdir(in_dir)))\n",
    "    tifs = pd.Series(files).str.contains(keyword)\n",
    "    files = files[tifs]\n",
    "    #n_samples = len(files)\n",
    "    \n",
    "    \n",
    "    pixelwise_TS = []\n",
    "    \n",
    "    for filename in tqdm(files): \n",
    "        \n",
    "        \n",
    "            open_file = xr.open_rasterio(in_dir+filename).sel(band=1)\n",
    "            array = open_file.values\n",
    "            #\n",
    "            pixel_list = array.ravel().tolist()\n",
    "            \n",
    "            pixelwise_TS.append(pixel_list)\n",
    "\n",
    "    return pd.DataFrame(pixelwise_TS)\n",
    "\n",
    "    "
   ]
  },
  {
   "cell_type": "code",
   "execution_count": 28,
   "metadata": {},
   "outputs": [
    {
     "name": "stderr",
     "output_type": "stream",
     "text": [
      "100%|██████████| 606/606 [00:10<00:00, 55.28it/s]\n",
      "100%|██████████| 606/606 [00:12<00:00, 49.75it/s]\n",
      "100%|██████████| 606/606 [00:16<00:00, 36.61it/s]\n",
      "100%|██████████| 606/606 [00:20<00:00, 29.17it/s]\n",
      "100%|██████████| 606/606 [00:26<00:00, 22.74it/s]\n",
      "100%|██████████| 606/606 [00:17<00:00, 33.91it/s]\n"
     ]
    }
   ],
   "source": [
    "et_table_anom = pixelwise_ts_table(et_anom_dir, 'et')\n",
    "ndvi_table_anom = pixelwise_ts_table(ndvi_anom_dir, 'ndvi')\n",
    "sm10_table_anom = pixelwise_ts_table(sm10_anom_dir, 'sm10_')\n",
    "sm40_table_anom = pixelwise_ts_table(sm40_anom_dir, 'sm40')\n",
    "sm100_table_anom = pixelwise_ts_table(sm100_anom_dir, 'sm100')\n",
    "sm200_table_anom = pixelwise_ts_table(sm200_anom_dir, 'sm200')"
   ]
  },
  {
   "cell_type": "code",
   "execution_count": null,
   "metadata": {},
   "outputs": [],
   "source": [
    "et_bo_table_anom = pixelwise_ts_table(broadleaf_open_anom_dir, 'et')\n",
    "ndvi_bo_table_anom = pixelwise_ts_table(broadleaf_open_anom_dir, 'ndvi')\n",
    "sm10_bo_table_anom = pixelwise_ts_table(broadleaf_open_anom_dir, 'sm10_')\n",
    "sm40_bo_table_anom = pixelwise_ts_table(broadleaf_open_anom_dir, 'sm40')\n",
    "sm100_bo_table_anom = pixelwise_ts_table(broadleaf_open_anom_dir, 'sm100')\n",
    "sm200_bo_table_anom = pixelwise_ts_table(broadleaf_open_anom_dir, 'sm200')"
   ]
  },
  {
   "cell_type": "code",
   "execution_count": 14,
   "metadata": {},
   "outputs": [
    {
     "name": "stderr",
     "output_type": "stream",
     "text": [
      "100%|██████████| 606/606 [00:08<00:00, 71.83it/s]\n",
      "100%|██████████| 606/606 [00:09<00:00, 61.62it/s]\n",
      "100%|██████████| 606/606 [00:07<00:00, 75.82it/s]\n",
      "100%|██████████| 606/606 [00:08<00:00, 73.35it/s]\n",
      "100%|██████████| 606/606 [00:08<00:00, 72.40it/s]\n",
      "100%|██████████| 606/606 [00:08<00:00, 68.09it/s]\n"
     ]
    }
   ],
   "source": [
    "et_ci_table_anom = pixelwise_ts_table(crop_irr_anom_dir, 'et')\n",
    "ndvi_ci_table_anom = pixelwise_ts_table(crop_irr_anom_dir,  'ndvi')\n",
    "sm10_ci_table_anom = pixelwise_ts_table(crop_irr_anom_dir, 'sm10_')\n",
    "sm40_ci_table_anom = pixelwise_ts_table(crop_irr_anom_dir, 'sm40')\n",
    "sm100_ci_table_anom = pixelwise_ts_table(crop_irr_anom_dir, 'sm100')\n",
    "sm200_ci_table_anom = pixelwise_ts_table(crop_irr_anom_dir, 'sm200')"
   ]
  },
  {
   "cell_type": "code",
   "execution_count": 15,
   "metadata": {},
   "outputs": [
    {
     "name": "stderr",
     "output_type": "stream",
     "text": [
      "100%|██████████| 606/606 [00:08<00:00, 68.02it/s]\n",
      "100%|██████████| 606/606 [00:10<00:00, 59.26it/s]\n",
      "100%|██████████| 606/606 [00:08<00:00, 75.55it/s]\n",
      "100%|██████████| 606/606 [00:08<00:00, 75.57it/s]\n",
      "100%|██████████| 606/606 [00:08<00:00, 75.26it/s]\n",
      "100%|██████████| 606/606 [00:08<00:00, 72.52it/s]\n"
     ]
    }
   ],
   "source": [
    "et_cr_table_anom = pixelwise_ts_table(crop_rain_anom_dir, 'et')\n",
    "ndvi_cr_table_anom = pixelwise_ts_table(crop_rain_anom_dir,  'ndvi')\n",
    "sm10_cr_table_anom = pixelwise_ts_table(crop_rain_anom_dir, 'sm10_')\n",
    "sm40_cr_table_anom = pixelwise_ts_table(crop_rain_anom_dir, 'sm40')\n",
    "sm100_cr_table_anom = pixelwise_ts_table(crop_rain_anom_dir, 'sm100')\n",
    "sm200_cr_table_anom = pixelwise_ts_table(crop_rain_anom_dir, 'sm200')"
   ]
  },
  {
   "cell_type": "code",
   "execution_count": 16,
   "metadata": {},
   "outputs": [
    {
     "name": "stderr",
     "output_type": "stream",
     "text": [
      "100%|██████████| 606/606 [00:07<00:00, 77.68it/s]\n",
      "100%|██████████| 606/606 [00:09<00:00, 62.69it/s]\n",
      "100%|██████████| 606/606 [00:08<00:00, 74.00it/s]\n",
      "100%|██████████| 606/606 [00:07<00:00, 75.89it/s]\n",
      "100%|██████████| 606/606 [00:07<00:00, 76.21it/s]\n",
      "100%|██████████| 606/606 [00:08<00:00, 71.23it/s]\n"
     ]
    }
   ],
   "source": [
    "et_gr_table_anom = pixelwise_ts_table(grassland_anom_dir, 'et')\n",
    "ndvi_gr_table_anom = pixelwise_ts_table(grassland_anom_dir,  'ndvi')\n",
    "sm10_gr_table_anom = pixelwise_ts_table(grassland_anom_dir, 'sm10_')\n",
    "sm40_gr_table_anom = pixelwise_ts_table(grassland_anom_dir, 'sm40')\n",
    "sm100_gr_table_anom = pixelwise_ts_table(grassland_anom_dir, 'sm100')\n",
    "sm200_gr_table_anom = pixelwise_ts_table(grassland_anom_dir, 'sm200')"
   ]
  },
  {
   "cell_type": "code",
   "execution_count": 17,
   "metadata": {},
   "outputs": [
    {
     "name": "stderr",
     "output_type": "stream",
     "text": [
      "100%|██████████| 606/606 [00:07<00:00, 76.67it/s]\n",
      "100%|██████████| 606/606 [00:10<00:00, 59.44it/s]\n",
      "100%|██████████| 606/606 [00:07<00:00, 75.90it/s]\n",
      "100%|██████████| 606/606 [00:08<00:00, 72.38it/s]\n",
      "100%|██████████| 606/606 [00:08<00:00, 72.26it/s]\n",
      "100%|██████████| 606/606 [00:08<00:00, 75.73it/s]\n"
     ]
    }
   ],
   "source": [
    "et_sh_table_anom = pixelwise_ts_table(shrubland_anom_dir, 'et')\n",
    "ndvi_sh_table_anom = pixelwise_ts_table(shrubland_anom_dir,  'ndvi')\n",
    "sm10_sh_table_anom = pixelwise_ts_table(shrubland_anom_dir, 'sm10_')\n",
    "sm40_sh_table_anom = pixelwise_ts_table(shrubland_anom_dir, 'sm40')\n",
    "sm100_sh_table_anom = pixelwise_ts_table(shrubland_anom_dir, 'sm100')\n",
    "sm200_sh_table_anom = pixelwise_ts_table(shrubland_anom_dir, 'sm200')"
   ]
  },
  {
   "cell_type": "code",
   "execution_count": 29,
   "metadata": {},
   "outputs": [],
   "source": [
    "et_table_anom.label = 'et'\n",
    "et_table_anom.rs_rows = 674\n",
    "et_table_anom.rs_cols = 583\n",
    "et_table_anom.n_samples = 606\n",
    "ndvi_table_anom.label = 'ndvi'\n",
    "ndvi_table_anom.rs_rows = 674\n",
    "ndvi_table_anom.rs_cols = 583\n",
    "ndvi_table_anom.n_samples = 606\n",
    "sm10_table_anom.label = 'sm'\n",
    "sm10_table_anom.rs_rows = 674\n",
    "sm10_table_anom.rs_cols = 583\n",
    "sm10_table_anom.n_samples = 606\n",
    "sm40_table_anom.label = 'sm'\n",
    "sm40_table_anom.rs_rows = 674\n",
    "sm40_table_anom.rs_cols = 583\n",
    "sm40_table_anom.n_samples = 606\n",
    "sm100_table_anom.label = 'sm'\n",
    "sm100_table_anom.rs_rows = 674\n",
    "sm100_table_anom.rs_cols = 583\n",
    "sm100_table_anom.n_samples = 606\n",
    "sm200_table_anom.label = 'sm'\n",
    "sm200_table_anom.rs_rows = 674\n",
    "sm200_table_anom.rs_cols = 583\n",
    "sm200_table_anom.n_samples = 606\n",
    "\n",
    "table_list_anom_sm10et = [et_table_anom, ndvi_table_anom, sm10_table_anom]\n",
    "table_list_anom_sm40et = [et_table_anom, ndvi_table_anom, sm40_table_anom]\n",
    "table_list_anom_sm100et = [et_table_anom, ndvi_table_anom, sm100_table_anom]\n",
    "table_list_anom_sm200et = [et_table_anom, ndvi_table_anom, sm200_table_anom]"
   ]
  },
  {
   "cell_type": "code",
   "execution_count": 20,
   "metadata": {},
   "outputs": [],
   "source": [
    "et_bo_table_anom.label = 'et'\n",
    "et_bo_table_anom.rs_rows = 674\n",
    "et_bo_table_anom.rs_cols = 583\n",
    "et_bo_table_anom.n_samples = 606\n",
    "ndvi_bo_table_anom.label = 'ndvi'\n",
    "ndvi_bo_table_anom.rs_rows = 674\n",
    "ndvi_bo_table_anom.rs_cols = 583\n",
    "ndvi_bo_table_anom.n_samples = 606\n",
    "sm10_bo_table_anom.label = 'sm'\n",
    "sm10_bo_table_anom.rs_rows = 674\n",
    "sm10_bo_table_anom.rs_cols = 583\n",
    "sm10_bo_table_anom.n_samples = 606\n",
    "sm40_bo_table_anom.label = 'sm'\n",
    "sm40_bo_table_anom.rs_rows = 674\n",
    "sm40_bo_table_anom.rs_cols = 583\n",
    "sm40_bo_table_anom.n_samples = 606\n",
    "sm100_bo_table_anom.label = 'sm'\n",
    "sm100_bo_table_anom.rs_rows = 674\n",
    "sm100_bo_table_anom.rs_cols = 583\n",
    "sm100_bo_table_anom.n_samples = 606\n",
    "sm200_bo_table_anom.label = 'sm'\n",
    "sm200_bo_table_anom.rs_rows = 674\n",
    "sm200_bo_table_anom.rs_cols = 583\n",
    "sm200_bo_table_anom.n_samples = 606\n",
    "\n",
    "table_list_bo_anom_sm10et = [et_bo_table_anom, ndvi_bo_table_anom, sm10_bo_table_anom]\n",
    "table_list_bo_anom_sm40et = [et_bo_table_anom, ndvi_bo_table_anom, sm40_bo_table_anom]\n",
    "table_list_bo_anom_sm100et = [et_bo_table_anom, ndvi_bo_table_anom, sm100_bo_table_anom]\n",
    "table_list_bo_anom_sm200et = [et_bo_table_anom, ndvi_bo_table_anom, sm200_bo_table_anom]"
   ]
  },
  {
   "cell_type": "code",
   "execution_count": 50,
   "metadata": {},
   "outputs": [],
   "source": [
    "et_ci_table_anom.label = 'et'\n",
    "et_ci_table_anom.rs_rows = 674\n",
    "et_ci_table_anom.rs_cols = 583\n",
    "et_ci_table_anom.n_samples = 606\n",
    "ndvi_ci_table_anom.label = 'ndvi'\n",
    "ndvi_ci_table_anom.rs_rows = 674\n",
    "ndvi_ci_table_anom.rs_cols = 583\n",
    "sm10_ci_table_anom.label = 'sm'\n",
    "sm10_ci_table_anom.rs_rows = 674\n",
    "sm10_ci_table_anom.rs_cols = 583\n",
    "sm10_ci_table_anom.n_samples = 606\n",
    "sm40_ci_table_anom.label = 'sm'\n",
    "sm40_ci_table_anom.rs_rows = 674\n",
    "sm40_ci_table_anom.rs_cols = 583\n",
    "sm40_ci_table_anom.n_samples = 606\n",
    "sm100_ci_table_anom.label = 'sm'\n",
    "sm100_ci_table_anom.rs_rows = 674\n",
    "sm100_ci_table_anom.rs_cols = 583\n",
    "sm100_ci_table_anom.n_samples = 606\n",
    "sm200_ci_table_anom.label = 'sm'\n",
    "sm200_ci_table_anom.rs_rows = 674\n",
    "sm200_ci_table_anom.rs_cols = 583\n",
    "sm200_ci_table_anom.n_samples = 606\n",
    "\n",
    "table_list_ci_anom_sm10et = [et_ci_table_anom, ndvi_ci_table_anom, sm10_ci_table_anom]\n",
    "table_list_ci_anom_sm40et = [et_ci_table_anom, ndvi_ci_table_anom, sm40_ci_table_anom]\n",
    "table_list_ci_anom_sm100et = [et_ci_table_anom, ndvi_ci_table_anom, sm100_ci_table_anom]\n",
    "table_list_ci_anom_sm200et = [et_ci_table_anom, ndvi_ci_table_anom, sm200_ci_table_anom]"
   ]
  },
  {
   "cell_type": "code",
   "execution_count": 20,
   "metadata": {},
   "outputs": [],
   "source": [
    "et_cr_table_anom.label = 'et'\n",
    "et_cr_table_anom.rs_rows = 674\n",
    "et_cr_table_anom.rs_cols = 583\n",
    "et_cr_table_anom.n_samples = 606\n",
    "ndvi_cr_table_anom.label = 'ndvi'\n",
    "ndvi_cr_table_anom.rs_rows = 674\n",
    "ndvi_cr_table_anom.rs_cols = 583\n",
    "ndvi_cr_table_anom.n_samples = 606\n",
    "sm10_cr_table_anom.label = 'sm'\n",
    "sm10_cr_table_anom.rs_rows = 674\n",
    "sm10_cr_table_anom.rs_cols = 583\n",
    "sm10_cr_table_anom.n_samples = 606\n",
    "sm40_cr_table_anom.label = 'sm'\n",
    "sm40_cr_table_anom.rs_rows = 674\n",
    "sm40_cr_table_anom.rs_cols = 583\n",
    "sm40_cr_table_anom.n_samples = 606\n",
    "sm100_cr_table_anom.label = 'sm'\n",
    "sm100_cr_table_anom.rs_rows = 674\n",
    "sm100_cr_table_anom.rs_cols = 583\n",
    "sm100_cr_table_anom.n_samples = 606\n",
    "sm200_cr_table_anom.label = 'sm'\n",
    "sm200_cr_table_anom.rs_rows = 674\n",
    "sm200_cr_table_anom.rs_cols = 583\n",
    "sm200_cr_table_anom.n_samples = 606\n",
    "\n",
    "table_list_cr_anom_sm10et = [et_cr_table_anom, ndvi_cr_table_anom, sm10_cr_table_anom]\n",
    "table_list_cr_anom_sm40et = [et_cr_table_anom, ndvi_cr_table_anom, sm40_cr_table_anom]\n",
    "table_list_cr_anom_sm100et = [et_cr_table_anom, ndvi_cr_table_anom, sm100_cr_table_anom]\n",
    "table_list_cr_anom_sm200et = [et_cr_table_anom, ndvi_cr_table_anom, sm200_cr_table_anom]"
   ]
  },
  {
   "cell_type": "code",
   "execution_count": 45,
   "metadata": {},
   "outputs": [],
   "source": [
    "et_gr_table_anom.label = 'et'\n",
    "et_gr_table_anom.rs_rows = 674\n",
    "et_gr_table_anom.rs_cols = 583\n",
    "et_gr_table_anom.n_samples = 606\n",
    "ndvi_gr_table_anom.label = 'ndvi'\n",
    "ndvi_gr_table_anom.rs_rows = 674\n",
    "ndvi_gr_table_anom.rs_cols = 583\n",
    "ndvi_gr_table_anom.n_samples = 606\n",
    "sm10_gr_table_anom.label = 'sm'\n",
    "sm10_gr_table_anom.rs_rows = 674\n",
    "sm10_gr_table_anom.rs_cols = 583\n",
    "sm10_gr_table_anom.n_samples = 606\n",
    "sm40_gr_table_anom.label = 'sm'\n",
    "sm40_gr_table_anom.rs_rows = 674\n",
    "sm40_gr_table_anom.rs_cols = 583\n",
    "sm40_gr_table_anom.n_samples = 606\n",
    "sm100_gr_table_anom.label = 'sm'\n",
    "sm100_gr_table_anom.rs_rows = 674\n",
    "sm100_gr_table_anom.rs_cols = 583\n",
    "sm100_gr_table_anom.n_samples = 606\n",
    "sm200_gr_table_anom.label = 'sm'\n",
    "sm200_gr_table_anom.rs_rows = 674\n",
    "sm200_gr_table_anom.rs_cols = 583\n",
    "sm200_gr_table_anom.n_samples = 606\n",
    "\n",
    "table_list_gr_anom_sm10et = [et_gr_table_anom, ndvi_gr_table_anom, sm10_gr_table_anom]\n",
    "table_list_gr_anom_sm40et = [et_gr_table_anom, ndvi_gr_table_anom, sm40_gr_table_anom]\n",
    "table_list_gr_anom_sm100et = [et_gr_table_anom, ndvi_gr_table_anom, sm100_gr_table_anom]\n",
    "table_list_gr_anom_sm200et = [et_gr_table_anom, ndvi_gr_table_anom, sm200_gr_table_anom]"
   ]
  },
  {
   "cell_type": "code",
   "execution_count": 46,
   "metadata": {},
   "outputs": [],
   "source": [
    "et_sh_table_anom.label = 'et'\n",
    "et_sh_table_anom.rs_rows = 674\n",
    "et_sh_table_anom.rs_cols = 583\n",
    "et_sh_table_anom.n_samples = 606\n",
    "ndvi_sh_table_anom.label = 'ndvi'\n",
    "ndvi_sh_table_anom.rs_rows = 674\n",
    "ndvi_sh_table_anom.rs_cols = 583\n",
    "ndvi_sh_table_anom.n_samples = 606\n",
    "sm10_sh_table_anom.label = 'sm'\n",
    "sm10_sh_table_anom.rs_rows = 674\n",
    "sm10_sh_table_anom.rs_cols = 583\n",
    "sm10_sh_table_anom.n_samples = 606\n",
    "sm40_sh_table_anom.label = 'sm'\n",
    "sm40_sh_table_anom.rs_rows = 674\n",
    "sm40_sh_table_anom.rs_cols = 583\n",
    "sm40_sh_table_anom.n_samples = 606\n",
    "sm100_sh_table_anom.label = 'sm'\n",
    "sm100_sh_table_anom.rs_rows = 674\n",
    "sm100_sh_table_anom.rs_cols = 583\n",
    "sm100_sh_table_anom.n_samples = 606\n",
    "sm200_sh_table_anom.label = 'sm'\n",
    "sm200_sh_table_anom.rs_rows = 674\n",
    "sm200_sh_table_anom.rs_cols = 583\n",
    "sm200_sh_table_anom.n_samples = 606\n",
    "\n",
    "table_list_sh_anom_sm10et = [et_sh_table_anom, ndvi_sh_table_anom, sm10_sh_table_anom]\n",
    "table_list_sh_anom_sm40et = [et_sh_table_anom, ndvi_sh_table_anom, sm40_sh_table_anom]\n",
    "table_list_sh_anom_sm100et = [et_sh_table_anom, ndvi_sh_table_anom, sm100_sh_table_anom]\n",
    "table_list_sh_anom_sm200et = [et_sh_table_anom, ndvi_sh_table_anom, sm200_sh_table_anom]"
   ]
  },
  {
   "cell_type": "code",
   "execution_count": 3,
   "metadata": {
    "colab": {},
    "colab_type": "code",
    "id": "Azv1TqPca3EV"
   },
   "outputs": [],
   "source": [
    "def multi_pixelwise_simplex(tables, target_label, train, test, ed, pi, skill_score): #year month_list, \n",
    "    \n",
    "    '''\n",
    "    This function computes the simplex prediction skill for a given embedding dimensions, prediction interval, land cover and environmental variable\n",
    "    across pixels given multiple tables of different variables of pixel values across time for a region from the function pixelwise_ts_table \n",
    "\n",
    "    The result is an np.array of simplex error values reshaped back into the shape of the original raster image\n",
    "    \n",
    "    Args:\n",
    "    - table: list of input tables, where every table has columns with the time series of each pixel in a raster\n",
    "    - target_label: text label for the table to be used as the target (e.g. 'ndvi')\n",
    "    - train: portion of data library used to train (string of range with space between values)\n",
    "    - test: portion of data libary used to test (string of range with space between values) \n",
    "    - ed: embedding dimension\n",
    "    - pi: prediction interval (Tp) \n",
    "    - rs_rows: number of rows to reshape list into original raster size\n",
    "    - rs_cols: number of columns to reshape list into original raster size\n",
    "   \n",
    "    '''\n",
    "\n",
    "    table_dict = {'Time': dekads }\n",
    "\n",
    "    simplex_out = []\n",
    "    labels = ' '.join([table.label for table in tables])# Assumes that all tables have labels\n",
    "\n",
    "    # Generate future dekads\n",
    "    dekads_fut = generate_dekads(dekads[-1],pd.datetime(2020,4,30))\n",
    "    \n",
    "    # Iterate through columns (pixels)\n",
    "    for col in tqdm(range(len(tables[0].columns))):\n",
    "        # PIXEL DATAFRAME\n",
    "        # Generate dataframe for pixel where columns correspond to variables and rows to timestamp (image)\n",
    "        [table_dict.update({table.label: table.iloc[:,col]}) for i, table in enumerate(tables)]\n",
    "        #interim_df = pd.DataFrame(table_dict, index = dekads)\n",
    "        interim_df = pd.DataFrame(table_dict)\n",
    "\n",
    "        interim_df.set_index('Time',inplace=True, drop=False)\n",
    "        \n",
    "\n",
    "    \n",
    "        # If column has lots of nans (water), append nan\n",
    "        if max([len(interim_df[interim_df[col].isnull()]) for col in interim_df.columns]) > 20:\n",
    "            simplex_out.append(np.nan)\n",
    "        \n",
    "        else:\n",
    "\n",
    "            # Check whether column has a few nans\n",
    "            if 'et' in interim_df.columns and interim_df.et.isnull().values.any():\n",
    "                # If so, iterate through nan rows and replace with monthly mean\n",
    "                for t in interim_df[interim_df.et.isnull()].index:\n",
    "                    interim_df.et.loc[t] = interim_df.et[interim_df.index.month == t.month].mean()\n",
    "                    #print(interim_df)\n",
    "            if interim_df.ndvi.isnull().values.any():\n",
    "            # If so, iterate through nan rows and replace with monthly mean\n",
    "                for t in interim_df[interim_df.ndvi.isnull()].index:\n",
    "                    interim_df.ndvi.loc[t] = interim_df.ndvi[interim_df.index.month == t.month].mean()\n",
    "            if 'sm' in interim_df.columns and interim_df.sm.isnull().values.any():\n",
    "            # If so, iterate through nan rows and replace with monthly mean\n",
    "                for t in interim_df[interim_df.sm.isnull()].index:\n",
    "                    interim_df.sm.loc[t] = interim_df.sm[interim_df.index.month == t.month].mean()\n",
    "\n",
    "            # Run simplex\n",
    "            simplex_result = Simplex(dataFrame = interim_df,\n",
    "                                     lib = train,\n",
    "                                     pred = test,\n",
    "                                     E = ed, Tp = pi,\n",
    "                                     columns = labels, target = target_label, showPlot = False)\n",
    "\n",
    "            \n",
    "            # Add datetime index + fix dekad values for future values\n",
    "            simplex_result.Time = pd.to_datetime(simplex_result.Time)\n",
    "            simplex_result.set_index(simplex_result.Time, inplace=True)\n",
    "            \n",
    "            \n",
    "            # Fix datetime index for future dekads\n",
    "            simplex_result[-pi:].Time = dekads_fut[1:pi+1]\n",
    "            simplex_result = simplex_result.dropna()\n",
    "           # print(simplex_result)\n",
    "\n",
    "            observations = np.array(simplex_result.Observations)\n",
    "            predictions = np.array(simplex_result.Predictions)\n",
    "            error = ComputeError(observations, predictions)\n",
    "            \n",
    "            if skill_score == 'mae':\n",
    "                mae = list(error.values())[0]\n",
    "                simplex_out.append(mae)\n",
    "                \n",
    "            if skill_score == 'rmse':\n",
    "                rmse = list(error.values())[1]\n",
    "                simplex_out.append(rmse)\n",
    "                \n",
    "            if skill_score == 'rho':\n",
    "                rho = list(error.values())[2]\n",
    "                simplex_out.append(rho)\n",
    "                \n",
    "            if skill_score =='nse':\n",
    "                pdims = predictions.shape\n",
    "                odims = observations.shape\n",
    "                if not np.array_equal(pdims, odims):\n",
    "                    message = 'predicted and reference field dimensions do not' + \\\n",
    "                        ' match.\\n' + \\\n",
    "                        'shape(predicted)= ' + str(pdims) + ', ' + \\\n",
    "                        'shape(reference)= ' + str(odims) + \\\n",
    "                        '\\npredicted type: ' + str(type(predictions))\n",
    "                    raise ValueError(message)\n",
    "\n",
    "                # Calculate the NSE\n",
    "                nse = 1 - (np.sum((predictions - observations)**2) /\n",
    "                           np.sum((observations - np.mean(predictions))**2))\n",
    "                simplex_out.append(nse)\n",
    "                #print(nse)\n",
    "\n",
    "    return np.reshape(simplex_out, (tables[0].rs_rows, tables[0].rs_cols))"
   ]
  },
  {
   "cell_type": "code",
   "execution_count": null,
   "metadata": {},
   "outputs": [
    {
     "name": "stderr",
     "output_type": "stream",
     "text": [
      " 55%|█████▍    | 214628/392942 [15:41<09:42, 306.15it/s] "
     ]
    }
   ],
   "source": [
    "ndvi_ea_simplex_multi_bo_pi18_ed6_anom_sm10et_rho = multi_pixelwise_simplex(table_list_bo_anom_sm10et, 'ndvi', train = '1 303', test = '304 606', ed = 6, pi = 18, skill_score = 'rho')\n",
    "ndvi_ea_simplex_multi_sh_pi18_ed6_anom_sm10et_rho = multi_pixelwise_simplex(table_list_sh_anom_sm10et, 'ndvi', train = '1 303', test = '304 606', ed = 6, pi = 18, skill_score = 'rho')\n",
    "ndvi_ea_simplex_multi_gr_pi18_ed6_anom_sm10et_rho = multi_pixelwise_simplex(table_list_gr_anom_sm10et, 'ndvi', train = '1 303', test = '304 606', ed = 6, pi = 18, skill_score = 'rho')\n",
    "ndvi_ea_simplex_multi_ci_pi18_ed6_anom_sm10et_rho = multi_pixelwise_simplex(table_list_ci_anom_sm10et, 'ndvi', train = '1 303', test = '304 606', ed = 6, pi = 18, skill_score = 'rho')\n",
    "ndvi_ea_simplex_multi_cr_pi18_ed6_anom_sm10et_rho = multi_pixelwise_simplex(table_list_cr_anom_sm10et, 'ndvi', train = '1 303', test = '304 606', ed = 6, pi = 18, skill_score = 'rho')\n"
   ]
  },
  {
   "cell_type": "code",
   "execution_count": null,
   "metadata": {},
   "outputs": [],
   "source": [
    "ndvi_ea_simplex_multi_bo_pi18_ed6_anom_sm40et_rho = multi_pixelwise_simplex(table_list_bo_anom_sm40et, 'ndvi', train = '1 303', test = '304 606', ed = 6, pi = 18, skill_score = 'rho')\n",
    "ndvi_ea_simplex_multi_sh_pi18_ed6_anom_sm40et_rho = multi_pixelwise_simplex(table_list_sh_anom_sm40et, 'ndvi', train = '1 303', test = '304 606', ed = 6, pi = 18, skill_score = 'rho')\n"
   ]
  },
  {
   "cell_type": "code",
   "execution_count": 52,
   "metadata": {},
   "outputs": [
    {
     "name": "stderr",
     "output_type": "stream",
     "text": [
      "100%|██████████| 392942/392942 [22:42<00:00, 288.50it/s]\n",
      "100%|██████████| 392942/392942 [18:32<00:00, 353.19it/s]\n",
      "100%|██████████| 392942/392942 [24:31<00:00, 267.09it/s] \n"
     ]
    }
   ],
   "source": [
    "ndvi_ea_simplex_multi_gr_pi18_ed6_anom_sm40et_rho = multi_pixelwise_simplex(table_list_gr_anom_sm40et, 'ndvi', train = '1 303', test = '304 606', ed = 6, pi = 18, skill_score = 'rho')\n",
    "ndvi_ea_simplex_multi_ci_pi18_ed6_anom_sm40et_rho = multi_pixelwise_simplex(table_list_ci_anom_sm40et, 'ndvi', train = '1 303', test = '304 606', ed = 6, pi = 18, skill_score = 'rho')\n",
    "ndvi_ea_simplex_multi_cr_pi18_ed6_anom_sm40et_rho = multi_pixelwise_simplex(table_list_cr_anom_sm40et, 'ndvi', train = '1 303', test = '304 606', ed = 6, pi = 18, skill_score = 'rho')\n"
   ]
  },
  {
   "cell_type": "code",
   "execution_count": null,
   "metadata": {},
   "outputs": [
    {
     "name": "stderr",
     "output_type": "stream",
     "text": [
      " 47%|████▋     | 184844/392942 [12:31<20:48, 166.73it/s] "
     ]
    }
   ],
   "source": [
    "ndvi_ea_simplex_multi_bo_pi18_ed6_anom_sm100et_rho = multi_pixelwise_simplex(table_list_bo_anom_sm100et, 'ndvi', train = '1 303', test = '304 606', ed = 6, pi = 18, skill_score = 'rho')\n",
    "ndvi_ea_simplex_multi_sh_pi18_ed6_anom_sm100et_rho = multi_pixelwise_simplex(table_list_sh_anom_sm100et, 'ndvi', train = '1 303', test = '304 606', ed = 6, pi = 18, skill_score = 'rho')\n",
    "ndvi_ea_simplex_multi_gr_pi18_ed6_anom_sm100et_rho = multi_pixelwise_simplex(table_list_gr_anom_sm100et, 'ndvi', train = '1 303', test = '304 606', ed = 6, pi = 18, skill_score = 'rho')\n",
    "ndvi_ea_simplex_multi_ci_pi18_ed6_anom_sm100et_rho = multi_pixelwise_simplex(table_list_ci_anom_sm100et, 'ndvi', train = '1 303', test = '304 606', ed = 6, pi = 18, skill_score = 'rho')\n",
    "ndvi_ea_simplex_multi_cr_pi18_ed6_anom_sm100et_rho = multi_pixelwise_simplex(table_list_cr_anom_sm100et, 'ndvi', train = '1 303', test = '304 606', ed = 6, pi = 18, skill_score = 'rho')\n"
   ]
  },
  {
   "cell_type": "code",
   "execution_count": null,
   "metadata": {},
   "outputs": [],
   "source": [
    "ndvi_ea_simplex_multi_bo_pi18_ed6_anom_sm200et_rho = multi_pixelwise_simplex(table_list_bo_anom_sm200et, 'ndvi', train = '1 303', test = '304 606', ed = 6, pi = 18, skill_score = 'rho')\n",
    "ndvi_ea_simplex_multi_sh_pi18_ed6_anom_sm200et_rho = multi_pixelwise_simplex(table_list_sh_anom_sm200et, 'ndvi', train = '1 303', test = '304 606', ed = 6, pi = 18, skill_score = 'rho')\n",
    "ndvi_ea_simplex_multi_gr_pi18_ed6_anom_sm200et_rho = multi_pixelwise_simplex(table_list_gr_anom_sm200et, 'ndvi', train = '1 303', test = '304 606', ed = 6, pi = 18, skill_score = 'rho')\n",
    "ndvi_ea_simplex_multi_ci_pi18_ed6_anom_sm200et_rho = multi_pixelwise_simplex(table_list_ci_anom_sm200et, 'ndvi', train = '1 303', test = '304 606', ed = 6, pi = 18, skill_score = 'rho')\n",
    "ndvi_ea_simplex_multi_cr_pi18_ed6_anom_sm200et_rho = multi_pixelwise_simplex(table_list_cr_anom_sm200et, 'ndvi', train = '1 303', test = '304 606', ed = 6, pi = 18, skill_score = 'rho')\n"
   ]
  },
  {
   "cell_type": "code",
   "execution_count": null,
   "metadata": {},
   "outputs": [],
   "source": [
    "ndvi_ea_simplex_multi_bo_pi18_ed6_anom_sm10et_nse = multi_pixelwise_simplex(table_list_bo_anom_sm10et, 'ndvi', train = '1 303', test = '304 606', ed = 6, pi = 18, skill_score = 'nse')\n",
    "ndvi_ea_simplex_multi_sh_pi18_ed6_anom_sm10et_nse = multi_pixelwise_simplex(table_list_sh_anom_sm10et, 'ndvi', train = '1 303', test = '304 606', ed = 6, pi = 18, skill_score = 'nse')\n",
    "ndvi_ea_simplex_multi_gr_pi18_ed6_anom_sm10et_nse = multi_pixelwise_simplex(table_list_gr_anom_sm10et, 'ndvi', train = '1 303', test = '304 606', ed = 6, pi = 18, skill_score = 'nse')\n",
    "ndvi_ea_simplex_multi_ci_pi18_ed6_anom_sm10et_nse = multi_pixelwise_simplex(table_list_ci_anom_sm10et, 'ndvi', train = '1 303', test = '304 606', ed = 6, pi = 18, skill_score = 'nse')\n",
    "ndvi_ea_simplex_multi_cr_pi18_ed6_anom_sm10et_nse = multi_pixelwise_simplex(table_list_cr_anom_sm10et, 'ndvi', train = '1 303', test = '304 606', ed = 6, pi = 18, skill_score = 'nse')\n"
   ]
  },
  {
   "cell_type": "code",
   "execution_count": null,
   "metadata": {},
   "outputs": [],
   "source": [
    "ndvi_ea_simplex_multi_bo_pi18_ed6_anom_sm40et_nse = multi_pixelwise_simplex(table_list_bo_anom_sm40et, 'ndvi', train = '1 303', test = '304 606', ed = 6, pi = 18, skill_score = 'nse')\n",
    "ndvi_ea_simplex_multi_sh_pi18_ed6_anom_sm40et_nse = multi_pixelwise_simplex(table_list_sh_anom_sm40et, 'ndvi', train = '1 303', test = '304 606', ed = 6, pi = 18, skill_score = 'nse')\n",
    "ndvi_ea_simplex_multi_gr_pi18_ed6_anom_sm40et_nse = multi_pixelwise_simplex(table_list_gr_anom_sm40et, 'ndvi', train = '1 303', test = '304 606', ed = 6, pi = 18, skill_score = 'nse')\n",
    "ndvi_ea_simplex_multi_ci_pi18_ed6_anom_sm40et_nse = multi_pixelwise_simplex(table_list_ci_anom_sm40et, 'ndvi', train = '1 303', test = '304 606', ed = 6, pi = 18, skill_score = 'nse')\n",
    "ndvi_ea_simplex_multi_cr_pi18_ed6_anom_sm40et_nse = multi_pixelwise_simplex(table_list_cr_anom_sm40et, 'ndvi', train = '1 303', test = '304 606', ed = 6, pi = 18, skill_score = 'nse')\n"
   ]
  },
  {
   "cell_type": "code",
   "execution_count": null,
   "metadata": {},
   "outputs": [],
   "source": [
    "ndvi_ea_simplex_multi_bo_pi18_ed6_anom_sm100et_nse = multi_pixelwise_simplex(table_list_bo_anom_sm100et, 'ndvi', train = '1 303', test = '304 606', ed = 6, pi = 18, skill_score = 'nse')\n",
    "ndvi_ea_simplex_multi_sh_pi18_ed6_anom_sm100et_nse = multi_pixelwise_simplex(table_list_sh_anom_sm100et, 'ndvi', train = '1 303', test = '304 606', ed = 6, pi = 18, skill_score = 'nse')\n",
    "ndvi_ea_simplex_multi_gr_pi18_ed6_anom_sm100et_nse = multi_pixelwise_simplex(table_list_gr_anom_sm100et, 'ndvi', train = '1 303', test = '304 606', ed = 6, pi = 18, skill_score = 'nse')\n",
    "ndvi_ea_simplex_multi_ci_pi18_ed6_anom_sm100et_nse = multi_pixelwise_simplex(table_list_ci_anom_sm100et, 'ndvi', train = '1 303', test = '304 606', ed = 6, pi = 18, skill_score = 'nse')\n",
    "ndvi_ea_simplex_multi_cr_pi18_ed6_anom_sm100et_nse = multi_pixelwise_simplex(table_list_cr_anom_sm100et, 'ndvi', train = '1 303', test = '304 606', ed = 6, pi = 18, skill_score = 'nse')\n"
   ]
  },
  {
   "cell_type": "code",
   "execution_count": null,
   "metadata": {},
   "outputs": [],
   "source": [
    "ndvi_ea_simplex_multi_bo_pi18_ed6_anom_sm200et_nse = multi_pixelwise_simplex(table_list_bo_anom_sm200et, 'ndvi', train = '1 303', test = '304 606', ed = 6, pi = 18, skill_score = 'nse')\n",
    "ndvi_ea_simplex_multi_sh_pi18_ed6_anom_sm200et_nse = multi_pixelwise_simplex(table_list_sh_anom_sm200et, 'ndvi', train = '1 303', test = '304 606', ed = 6, pi = 18, skill_score = 'nse')\n",
    "ndvi_ea_simplex_multi_gr_pi18_ed6_anom_sm200et_nse = multi_pixelwise_simplex(table_list_gr_anom_sm200et, 'ndvi', train = '1 303', test = '304 606', ed = 6, pi = 18, skill_score = 'nse')\n",
    "ndvi_ea_simplex_multi_ci_pi18_ed6_anom_sm200et_nse = multi_pixelwise_simplex(table_list_ci_anom_sm200et, 'ndvi', train = '1 303', test = '304 606', ed = 6, pi = 18, skill_score = 'nse')\n",
    "ndvi_ea_simplex_multi_cr_pi18_ed6_anom_sm200et_nse = multi_pixelwise_simplex(table_list_cr_anom_sm200et, 'ndvi', train = '1 303', test = '304 606', ed = 6, pi = 18, skill_score = 'nse')\n"
   ]
  },
  {
   "cell_type": "code",
   "execution_count": null,
   "metadata": {},
   "outputs": [],
   "source": [
    "ndvi_ea_simplex_multi_bo_pi18_ed6_anom_s10met_mae = multi_pixelwise_simplex(table_list_bo_anom_sm10et, 'ndvi', train = '1 303', test = '304 606', ed = 6, pi = 18, skill_score = 'mae')\n",
    "ndvi_ea_simplex_multi_sh_pi18_ed6_anom_s10met_mae = multi_pixelwise_simplex(table_list_sh_anom_sm10et, 'ndvi', train = '1 303', test = '304 606', ed = 6, pi = 18, skill_score = 'mae')\n",
    "ndvi_ea_simplex_multi_gr_pi18_ed6_anom_s10met_mae = multi_pixelwise_simplex(table_list_gr_anom_sm10et, 'ndvi', train = '1 303', test = '304 606', ed = 6, pi = 18, skill_score = 'mae')\n",
    "ndvi_ea_simplex_multi_ci_pi18_ed6_anom_s10met_mae = multi_pixelwise_simplex(table_list_ci_anom_sm10et, 'ndvi', train = '1 303', test = '304 606', ed = 6, pi = 18, skill_score = 'mae')\n",
    "ndvi_ea_simplex_multi_cr_pi18_ed6_anom_s10met_mae = multi_pixelwise_simplex(table_list_cr_anom_sm10et, 'ndvi', train = '1 303', test = '304 606', ed = 6, pi = 18, skill_score = 'mae')\n"
   ]
  },
  {
   "cell_type": "code",
   "execution_count": null,
   "metadata": {},
   "outputs": [],
   "source": [
    "ndvi_ea_simplex_multi_bo_pi18_ed6_anom_s40met_mae = multi_pixelwise_simplex(table_list_bo_anom_sm40et, 'ndvi', train = '1 303', test = '304 606', ed = 6, pi = 18, skill_score = 'mae')\n",
    "ndvi_ea_simplex_multi_sh_pi18_ed6_anom_s40met_mae = multi_pixelwise_simplex(table_list_sh_anom_sm40et, 'ndvi', train = '1 303', test = '304 606', ed = 6, pi = 18, skill_score = 'mae')\n",
    "ndvi_ea_simplex_multi_gr_pi18_ed6_anom_s40met_mae = multi_pixelwise_simplex(table_list_gr_anom_sm40et, 'ndvi', train = '1 303', test = '304 606', ed = 6, pi = 18, skill_score = 'mae')\n",
    "ndvi_ea_simplex_multi_ci_pi18_ed6_anom_s40met_mae = multi_pixelwise_simplex(table_list_ci_anom_sm40et, 'ndvi', train = '1 303', test = '304 606', ed = 6, pi = 18, skill_score = 'mae')\n",
    "ndvi_ea_simplex_multi_cr_pi18_ed6_anom_s40met_mae = multi_pixelwise_simplex(table_list_cr_anom_sm40et, 'ndvi', train = '1 303', test = '304 606', ed = 6, pi = 18, skill_score = 'mae')\n"
   ]
  },
  {
   "cell_type": "code",
   "execution_count": null,
   "metadata": {},
   "outputs": [],
   "source": [
    "ndvi_ea_simplex_multi_bo_pi18_ed6_anom_s100met_mae = multi_pixelwise_simplex(table_list_bo_anom_sm100et, 'ndvi', train = '1 303', test = '304 606', ed = 6, pi = 18, skill_score = 'mae')\n",
    "ndvi_ea_simplex_multi_sh_pi18_ed6_anom_s100met_mae = multi_pixelwise_simplex(table_list_sh_anom_sm100et, 'ndvi', train = '1 303', test = '304 606', ed = 6, pi = 18, skill_score = 'mae')\n",
    "ndvi_ea_simplex_multi_gr_pi18_ed6_anom_s100met_mae = multi_pixelwise_simplex(table_list_gr_anom_sm10et, 'ndvi', train = '1 303', test = '304 606', ed = 6, pi = 18, skill_score = 'mae')\n",
    "ndvi_ea_simplex_multi_ci_pi18_ed6_anom_s100met_mae = multi_pixelwise_simplex(table_list_ci_anom_sm100et, 'ndvi', train = '1 303', test = '304 606', ed = 6, pi = 18, skill_score = 'mae')\n",
    "ndvi_ea_simplex_multi_cr_pi18_ed6_anom_s100met_mae = multi_pixelwise_simplex(table_list_cr_anom_sm100et, 'ndvi', train = '1 303', test = '304 606', ed = 6, pi = 18, skill_score = 'mae')\n"
   ]
  },
  {
   "cell_type": "code",
   "execution_count": null,
   "metadata": {},
   "outputs": [],
   "source": [
    "ndvi_ea_simplex_multi_bo_pi18_ed6_anom_s200met_mae = multi_pixelwise_simplex(table_list_bo_anom_sm200et, 'ndvi', train = '1 303', test = '304 606', ed = 6, pi = 18, skill_score = 'mae')\n",
    "ndvi_ea_simplex_multi_sh_pi18_ed6_anom_s200met_mae = multi_pixelwise_simplex(table_list_sh_anom_sm200et, 'ndvi', train = '1 303', test = '304 606', ed = 6, pi = 18, skill_score = 'mae')\n",
    "ndvi_ea_simplex_multi_gr_pi18_ed6_anom_s200met_mae = multi_pixelwise_simplex(table_list_gr_anom_sm200et, 'ndvi', train = '1 303', test = '304 606', ed = 6, pi = 18, skill_score = 'mae')\n",
    "ndvi_ea_simplex_multi_ci_pi18_ed6_anom_s200met_mae = multi_pixelwise_simplex(table_list_ci_anom_sm200et, 'ndvi', train = '1 303', test = '304 606', ed = 6, pi = 18, skill_score = 'mae')\n",
    "ndvi_ea_simplex_multi_cr_pi18_ed6_anom_s200met_mae = multi_pixelwise_simplex(table_list_cr_anom_sm200et, 'ndvi', train = '1 303', test = '304 606', ed = 6, pi = 18, skill_score = 'mae')\n"
   ]
  },
  {
   "cell_type": "code",
   "execution_count": null,
   "metadata": {},
   "outputs": [
    {
     "name": "stderr",
     "output_type": "stream",
     "text": [
      " 35%|███▌      | 138943/392942 [05:50<17:04, 247.85it/s]IOPub message rate exceeded.\n",
      "The notebook server will temporarily stop sending output\n",
      "to the client in order to avoid crashing it.\n",
      "To change this limit, set the config variable\n",
      "`--NotebookApp.iopub_msg_rate_limit`.\n",
      "\n",
      "Current values:\n",
      "NotebookApp.iopub_msg_rate_limit=1000.0 (msgs/sec)\n",
      "NotebookApp.rate_limit_window=3.0 (secs)\n",
      "\n",
      "100%|██████████| 392942/392942 [24:23<00:00, 268.48it/s] \n",
      " 55%|█████▍    | 214341/392942 [17:30<29:36, 100.56it/s] "
     ]
    }
   ],
   "source": [
    "ndvi_ea_simplex_bo_pi18_ed6_anom_et_rho = multi_pixelwise_simplex([et_bo_table_anom, ndvi_bo_table_anom], 'ndvi', train = '1 303', test = '304 606', ed = 6, pi = 18, skill_score = 'rho')\n",
    "ndvi_ea_simplex_sh_pi18_ed6_anom_et_rho = multi_pixelwise_simplex([et_sh_table_anom, ndvi_sh_table_anom], 'ndvi', train = '1 303', test = '304 606', ed = 6, pi = 18, skill_score = 'rho')\n",
    "ndvi_ea_simplex_gr_pi18_ed6_anom_et_rho = multi_pixelwise_simplex([et_gr_table_anom, ndvi_gr_table_anom], 'ndvi', train = '1 303', test = '304 606', ed = 6, pi = 18, skill_score = 'rho')\n",
    "ndvi_ea_simplex_ci_pi18_ed6_anom_et_rho = multi_pixelwise_simplex([et_ci_table_anom, ndvi_ci_table_anom], 'ndvi', train = '1 303', test = '304 606', ed = 6, pi = 18, skill_score = 'rho')\n",
    "ndvi_ea_simplex_cr_pi18_ed6_anom_et_rho = multi_pixelwise_simplex([et_cr_table_anom, ndvi_cr_table_anom], 'ndvi', train = '1 303', test = '304 606', ed = 6, pi = 18, skill_score = 'rho')\n"
   ]
  },
  {
   "cell_type": "code",
   "execution_count": null,
   "metadata": {},
   "outputs": [],
   "source": [
    "ndvi_ea_simplex_bo_pi18_ed6_anom_sm10_rho = multi_pixelwise_simplex([sm10_bo_table_anom, ndvi_bo_table_anom], 'ndvi', train = '1 303', test = '304 606', ed = 6, pi = 18, skill_score = 'rho')\n",
    "ndvi_ea_simplex_sh_pi18_ed6_anom_sm10_rho = multi_pixelwise_simplex([sm10_sh_table_anom, ndvi_sh_table_anom], 'ndvi', train = '1 303', test = '304 606', ed = 6, pi = 18, skill_score = 'rho')\n",
    "ndvi_ea_simplex_gr_pi18_ed6_anom_sm10_rho = multi_pixelwise_simplex([sm10_gr_table_anom, ndvi_gr_table_anom], 'ndvi', train = '1 303', test = '304 606', ed = 6, pi = 18, skill_score = 'rho')\n",
    "ndvi_ea_simplex_ci_pi18_ed6_anom_sm10_rho = multi_pixelwise_simplex([sm10_ci_table_anom, ndvi_ci_table_anom], 'ndvi', train = '1 303', test = '304 606', ed = 6, pi = 18, skill_score = 'rho')\n",
    "ndvi_ea_simplex_cr_pi18_ed6_anom_sm10_rho = multi_pixelwise_simplex([sm10_cr_table_anom, ndvi_cr_table_anom], 'ndvi', train = '1 303', test = '304 606', ed = 6, pi = 18, skill_score = 'rho')\n"
   ]
  },
  {
   "cell_type": "code",
   "execution_count": null,
   "metadata": {},
   "outputs": [],
   "source": [
    "ndvi_ea_simplex_bo_pi18_ed6_anom_sm40_rho = multi_pixelwise_simplex([sm40_bo_table_anom, ndvi_bo_table_anom], 'ndvi', train = '1 303', test = '304 606', ed = 6, pi = 18, skill_score = 'rho')\n",
    "ndvi_ea_simplex_sh_pi18_ed6_anom_sm40_rho = multi_pixelwise_simplex([sm40_sh_table_anom, ndvi_sh_table_anom], 'ndvi', train = '1 303', test = '304 606', ed = 6, pi = 18, skill_score = 'rho')\n",
    "ndvi_ea_simplex_gr_pi18_ed6_anom_sm40_rho = multi_pixelwise_simplex([sm40_gr_table_anom, ndvi_gr_table_anom], 'ndvi', train = '1 303', test = '304 606', ed = 6, pi = 18, skill_score = 'rho')\n",
    "ndvi_ea_simplex_ci_pi18_ed6_anom_sm40_rho = multi_pixelwise_simplex([sm40_ci_table_anom, ndvi_ci_table_anom], 'ndvi', train = '1 303', test = '304 606', ed = 6, pi = 18, skill_score = 'rho')\n",
    "ndvi_ea_simplex_cr_pi18_ed6_anom_sm40_rho = multi_pixelwise_simplex([sm40_cr_table_anom, ndvi_cr_table_anom], 'ndvi', train = '1 303', test = '304 606', ed = 6, pi = 18, skill_score = 'rho')\n"
   ]
  },
  {
   "cell_type": "code",
   "execution_count": null,
   "metadata": {},
   "outputs": [],
   "source": [
    "ndvi_ea_simplex_bo_pi18_ed6_anom_sm100_rho = multi_pixelwise_simplex([sm100_bo_table_anom, ndvi_bo_table_anom], 'ndvi', train = '1 303', test = '304 606', ed = 6, pi = 18, skill_score = 'rho')\n",
    "ndvi_ea_simplex_sh_pi18_ed6_anom_sm100_rho = multi_pixelwise_simplex([sm100_sh_table_anom, ndvi_sh_table_anom], 'ndvi', train = '1 303', test = '304 606', ed = 6, pi = 18, skill_score = 'rho')\n",
    "ndvi_ea_simplex_gr_pi18_ed6_anom_sm100_rho = multi_pixelwise_simplex([sm100_gr_table_anom, ndvi_gr_table_anom], 'ndvi', train = '1 303', test = '304 606', ed = 6, pi = 18, skill_score = 'rho')\n",
    "ndvi_ea_simplex_ci_pi18_ed6_anom_sm100_rho = multi_pixelwise_simplex([sm100_ci_table_anom, ndvi_ci_table_anom], 'ndvi', train = '1 303', test = '304 606', ed = 6, pi = 18, skill_score = 'rho')\n",
    "ndvi_ea_simplex_cr_pi18_ed6_anom_sm100_rho = multi_pixelwise_simplex([sm100_cr_table_anom, ndvi_cr_table_anom], 'ndvi', train = '1 303', test = '304 606', ed = 6, pi = 18, skill_score = 'rho')\n"
   ]
  },
  {
   "cell_type": "code",
   "execution_count": null,
   "metadata": {},
   "outputs": [],
   "source": [
    "ndvi_ea_simplex_bo_pi18_ed6_anom_sm200_rho = multi_pixelwise_simplex([sm200_bo_table_anom, ndvi_bo_table_anom], 'ndvi', train = '1 303', test = '304 606', ed = 6, pi = 18, skill_score = 'rho')\n",
    "ndvi_ea_simplex_sh_pi18_ed6_anom_sm200_rho = multi_pixelwise_simplex([sm200_sh_table_anom, ndvi_sh_table_anom], 'ndvi', train = '1 303', test = '304 606', ed = 6, pi = 18, skill_score = 'rho')\n",
    "ndvi_ea_simplex_gr_pi18_ed6_anom_sm200_rho = multi_pixelwise_simplex([sm200_gr_table_anom, ndvi_gr_table_anom], 'ndvi', train = '1 303', test = '304 606', ed = 6, pi = 18, skill_score = 'rho')\n",
    "ndvi_ea_simplex_ci_pi18_ed6_anom_sm200_rho = multi_pixelwise_simplex([sm200_ci_table_anom, ndvi_ci_table_anom], 'ndvi', train = '1 303', test = '304 606', ed = 6, pi = 18, skill_score = 'rho')\n",
    "ndvi_ea_simplex_cr_pi18_ed6_anom_sm200_rho = multi_pixelwise_simplex([sm200_cr_table_anom, ndvi_cr_table_anom], 'ndvi', train = '1 303', test = '304 606', ed = 6, pi = 18, skill_score = 'rho')\n"
   ]
  },
  {
   "cell_type": "code",
   "execution_count": null,
   "metadata": {},
   "outputs": [
    {
     "name": "stderr",
     "output_type": "stream",
     "text": [
      "100%|██████████| 392942/392942 [24:40<00:00, 265.35it/s] \n",
      "  4%|▍         | 15998/392942 [00:34<13:16, 473.12it/s]"
     ]
    }
   ],
   "source": [
    "ndvi_ea_simplex_bo_pi18_ed6_anom_et_nse = multi_pixelwise_simplex([et_bo_table_anom, ndvi_bo_table_anom], 'ndvi', train = '1 303', test = '304 606', ed = 6, pi = 18, skill_score = 'nse')\n",
    "ndvi_ea_simplex_sh_pi18_ed6_anom_et_nse = multi_pixelwise_simplex([et_sh_table_anom, ndvi_sh_table_anom], 'ndvi', train = '1 303', test = '304 606', ed = 6, pi = 18, skill_score = 'nse')\n",
    "ndvi_ea_simplex_gr_pi18_ed6_anom_et_nse = multi_pixelwise_simplex([et_gr_table_anom, ndvi_gr_table_anom], 'ndvi', train = '1 303', test = '304 606', ed = 6, pi = 18, skill_score = 'nse')\n",
    "ndvi_ea_simplex_ci_pi18_ed6_anom_et_nse = multi_pixelwise_simplex([et_ci_table_anom, ndvi_ci_table_anom], 'ndvi', train = '1 303', test = '304 606', ed = 6, pi = 18, skill_score = 'nse')\n",
    "ndvi_ea_simplex_cr_pi18_ed6_anom_et_nse = multi_pixelwise_simplex([et_cr_table_anom, ndvi_cr_table_anom], 'ndvi', train = '1 303', test = '304 606', ed = 6, pi = 18, skill_score = 'nse')\n"
   ]
  },
  {
   "cell_type": "code",
   "execution_count": null,
   "metadata": {},
   "outputs": [],
   "source": [
    "ndvi_ea_simplex_bo_pi18_ed6_anom_sm10_nse = multi_pixelwise_simplex([sm10_bo_table_anom, ndvi_bo_table_anom], 'ndvi', train = '1 303', test = '304 606', ed = 6, pi = 18, skill_score = 'nse')\n",
    "ndvi_ea_simplex_sh_pi18_ed6_anom_sm10_nse = multi_pixelwise_simplex([sm10_sh_table_anom, ndvi_sh_table_anom], 'ndvi', train = '1 303', test = '304 606', ed = 6, pi = 18, skill_score = 'nse')\n",
    "ndvi_ea_simplex_gr_pi18_ed6_anom_sm10_nse = multi_pixelwise_simplex([sm10_gr_table_anom, ndvi_gr_table_anom], 'ndvi', train = '1 303', test = '304 606', ed = 6, pi = 18, skill_score = 'nse')\n",
    "ndvi_ea_simplex_ci_pi18_ed6_anom_sm10_nse = multi_pixelwise_simplex([sm10_ci_table_anom, ndvi_ci_table_anom], 'ndvi', train = '1 303', test = '304 606', ed = 6, pi = 18, skill_score = 'nse')\n",
    "ndvi_ea_simplex_cr_pi18_ed6_anom_sm10_nse = multi_pixelwise_simplex([sm10_cr_table_anom, ndvi_cr_table_anom], 'ndvi', train = '1 303', test = '304 606', ed = 6, pi = 18, skill_score = 'nse')\n"
   ]
  },
  {
   "cell_type": "code",
   "execution_count": null,
   "metadata": {},
   "outputs": [],
   "source": [
    "ndvi_ea_simplex_bo_pi18_ed6_anom_sm40_nse = multi_pixelwise_simplex([sm40_bo_table_anom, ndvi_bo_table_anom], 'ndvi', train = '1 303', test = '304 606', ed = 6, pi = 18, skill_score = 'nse')\n",
    "ndvi_ea_simplex_sh_pi18_ed6_anom_sm40_nse = multi_pixelwise_simplex([sm40_sh_table_anom, ndvi_sh_table_anom], 'ndvi', train = '1 303', test = '304 606', ed = 6, pi = 18, skill_score = 'nse')\n",
    "ndvi_ea_simplex_gr_pi18_ed6_anom_sm40_nse = multi_pixelwise_simplex([sm40_gr_table_anom, ndvi_gr_table_anom], 'ndvi', train = '1 303', test = '304 606', ed = 6, pi = 18, skill_score = 'nse')\n",
    "ndvi_ea_simplex_ci_pi18_ed6_anom_sm40_nse = multi_pixelwise_simplex([sm40_ci_table_anom, ndvi_ci_table_anom], 'ndvi', train = '1 303', test = '304 606', ed = 6, pi = 18, skill_score = 'nse')\n",
    "ndvi_ea_simplex_cr_pi18_ed6_anom_sm40_nse = multi_pixelwise_simplex([sm40_cr_table_anom, ndvi_cr_table_anom], 'ndvi', train = '1 303', test = '304 606', ed = 6, pi = 18, skill_score = 'nse')\n"
   ]
  },
  {
   "cell_type": "code",
   "execution_count": null,
   "metadata": {},
   "outputs": [],
   "source": [
    "ndvi_ea_simplex_bo_pi18_ed6_anom_sm100_nse = multi_pixelwise_simplex([sm100_bo_table_anom, ndvi_bo_table_anom], 'ndvi', train = '1 303', test = '304 606', ed = 6, pi = 18, skill_score = 'nse')\n",
    "ndvi_ea_simplex_sh_pi18_ed6_anom_sm100_nse = multi_pixelwise_simplex([sm100_sh_table_anom, ndvi_sh_table_anom], 'ndvi', train = '1 303', test = '304 606', ed = 6, pi = 18, skill_score = 'nse')\n",
    "ndvi_ea_simplex_gr_pi18_ed6_anom_sm100_nse = multi_pixelwise_simplex([sm100_gr_table_anom, ndvi_gr_table_anom], 'ndvi', train = '1 303', test = '304 606', ed = 6, pi = 18, skill_score = 'nse')\n",
    "ndvi_ea_simplex_ci_pi18_ed6_anom_sm100_nse = multi_pixelwise_simplex([sm100_ci_table_anom, ndvi_ci_table_anom], 'ndvi', train = '1 303', test = '304 606', ed = 6, pi = 18, skill_score = 'nse')\n",
    "ndvi_ea_simplex_cr_pi18_ed6_anom_sm100_nse = multi_pixelwise_simplex([sm100_cr_table_anom, ndvi_cr_table_anom], 'ndvi', train = '1 303', test = '304 606', ed = 6, pi = 18, skill_score = 'nse')\n"
   ]
  },
  {
   "cell_type": "code",
   "execution_count": null,
   "metadata": {},
   "outputs": [],
   "source": [
    "ndvi_ea_simplex_bo_pi18_ed6_anom_sm200_nse = multi_pixelwise_simplex([sm200_bo_table_anom, ndvi_bo_table_anom], 'ndvi', train = '1 303', test = '304 606', ed = 6, pi = 18, skill_score = 'nse')\n",
    "ndvi_ea_simplex_sh_pi18_ed6_anom_sm200_nse = multi_pixelwise_simplex([sm200_sh_table_anom, ndvi_sh_table_anom], 'ndvi', train = '1 303', test = '304 606', ed = 6, pi = 18, skill_score = 'nse')\n",
    "ndvi_ea_simplex_gr_pi18_ed6_anom_sm200_nse = multi_pixelwise_simplex([sm200_gr_table_anom, ndvi_gr_table_anom], 'ndvi', train = '1 303', test = '304 606', ed = 6, pi = 18, skill_score = 'nse')\n",
    "ndvi_ea_simplex_ci_pi18_ed6_anom_sm200_nse = multi_pixelwise_simplex([sm200_ci_table_anom, ndvi_ci_table_anom], 'ndvi', train = '1 303', test = '304 606', ed = 6, pi = 18, skill_score = 'nse')\n",
    "ndvi_ea_simplex_cr_pi18_ed6_anom_sm200_nse = multi_pixelwise_simplex([sm200_cr_table_anom, ndvi_cr_table_anom], 'ndvi', train = '1 303', test = '304 606', ed = 6, pi = 18, skill_score = 'nse')\n"
   ]
  },
  {
   "cell_type": "code",
   "execution_count": null,
   "metadata": {},
   "outputs": [],
   "source": [
    "ndvi_ea_simplex_bo_pi18_ed6_anom_et_mae = multi_pixelwise_simplex([et_bo_table_anom, ndvi_bo_table_anom], 'ndvi', train = '1 303', test = '304 606', ed = 6, pi = 18, skill_score = 'mae')\n",
    "ndvi_ea_simplex_sh_pi18_ed6_anom_et_mae = multi_pixelwise_simplex([et_sh_table_anom, ndvi_sh_table_anom], 'ndvi', train = '1 303', test = '304 606', ed = 6, pi = 18, skill_score = 'mae')\n",
    "ndvi_ea_simplex_gr_pi18_ed6_anom_et_mae = multi_pixelwise_simplex([et_gr_table_anom, ndvi_gr_table_anom], 'ndvi', train = '1 303', test = '304 606', ed = 6, pi = 18, skill_score = 'mae')\n",
    "ndvi_ea_simplex_ci_pi18_ed6_anom_et_mae = multi_pixelwise_simplex([et_ci_table_anom, ndvi_ci_table_anom], 'ndvi', train = '1 303', test = '304 606', ed = 6, pi = 18, skill_score = 'mae')\n",
    "ndvi_ea_simplex_cr_pi18_ed6_anom_et_mae = multi_pixelwise_simplex([et_cr_table_anom, ndvi_cr_table_anom], 'ndvi', train = '1 303', test = '304 606', ed = 6, pi = 18, skill_score = 'mae')\n"
   ]
  },
  {
   "cell_type": "code",
   "execution_count": null,
   "metadata": {},
   "outputs": [],
   "source": [
    "ndvi_ea_simplex_bo_pi18_ed6_anom_sm10_mae = multi_pixelwise_simplex([sm10_bo_table_anom, ndvi_bo_table_anom], 'ndvi', train = '1 303', test = '304 606', ed = 6, pi = 18, skill_score = 'mae')\n",
    "ndvi_ea_simplex_sh_pi18_ed6_anom_sm10_mae = multi_pixelwise_simplex([sm10_sh_table_anom, ndvi_sh_table_anom], 'ndvi', train = '1 303', test = '304 606', ed = 6, pi = 18, skill_score = 'mae')\n",
    "ndvi_ea_simplex_gr_pi18_ed6_anom_sm10_mae = multi_pixelwise_simplex([sm10_gr_table_anom, ndvi_gr_table_anom], 'ndvi', train = '1 303', test = '304 606', ed = 6, pi = 18, skill_score = 'mae')\n",
    "ndvi_ea_simplex_ci_pi18_ed6_anom_sm10_mae = multi_pixelwise_simplex([sm10_ci_table_anom, ndvi_ci_table_anom], 'ndvi', train = '1 303', test = '304 606', ed = 6, pi = 18, skill_score = 'mae')\n",
    "ndvi_ea_simplex_cr_pi18_ed6_anom_sm10_mae = multi_pixelwise_simplex([sm10_cr_table_anom, ndvi_cr_table_anom], 'ndvi', train = '1 303', test = '304 606', ed = 6, pi = 18, skill_score = 'mae')\n"
   ]
  },
  {
   "cell_type": "code",
   "execution_count": null,
   "metadata": {},
   "outputs": [],
   "source": [
    "ndvi_ea_simplex_bo_pi18_ed6_anom_sm40_mae = multi_pixelwise_simplex([sm40_bo_table_anom, ndvi_bo_table_anom], 'ndvi', train = '1 303', test = '304 606', ed = 6, pi = 18, skill_score = 'mae')\n",
    "ndvi_ea_simplex_sh_pi18_ed6_anom_sm40_mae = multi_pixelwise_simplex([sm40_sh_table_anom, ndvi_sh_table_anom], 'ndvi', train = '1 303', test = '304 606', ed = 6, pi = 18, skill_score = 'mae')\n",
    "ndvi_ea_simplex_gr_pi18_ed6_anom_sm40_mae = multi_pixelwise_simplex([sm40_gr_table_anom, ndvi_gr_table_anom], 'ndvi', train = '1 303', test = '304 606', ed = 6, pi = 18, skill_score = 'mae')\n",
    "ndvi_ea_simplex_ci_pi18_ed6_anom_sm40_mae = multi_pixelwise_simplex([sm40_ci_table_anom, ndvi_ci_table_anom], 'ndvi', train = '1 303', test = '304 606', ed = 6, pi = 18, skill_score = 'mae')\n",
    "ndvi_ea_simplex_cr_pi18_ed6_anom_sm40_mae = multi_pixelwise_simplex([sm40_cr_table_anom, ndvi_cr_table_anom], 'ndvi', train = '1 303', test = '304 606', ed = 6, pi = 18, skill_score = 'mae')\n"
   ]
  },
  {
   "cell_type": "code",
   "execution_count": null,
   "metadata": {},
   "outputs": [],
   "source": [
    "ndvi_ea_simplex_bo_pi18_ed6_anom_sm100_mae = multi_pixelwise_simplex([sm100_bo_table_anom, ndvi_bo_table_anom], 'ndvi', train = '1 303', test = '304 606', ed = 6, pi = 18, skill_score = 'mae')\n",
    "ndvi_ea_simplex_sh_pi18_ed6_anom_sm100_mae = multi_pixelwise_simplex([sm100_sh_table_anom, ndvi_sh_table_anom], 'ndvi', train = '1 303', test = '304 606', ed = 6, pi = 18, skill_score = 'mae')\n",
    "ndvi_ea_simplex_gr_pi18_ed6_anom_sm100_mae = multi_pixelwise_simplex([sm100_gr_table_anom, ndvi_gr_table_anom], 'ndvi', train = '1 303', test = '304 606', ed = 6, pi = 18, skill_score = 'mae')\n",
    "ndvi_ea_simplex_ci_pi18_ed6_anom_sm100_mae = multi_pixelwise_simplex([sm100_ci_table_anom, ndvi_ci_table_anom], 'ndvi', train = '1 303', test = '304 606', ed = 6, pi = 18, skill_score = 'mae')\n",
    "ndvi_ea_simplex_cr_pi18_ed6_anom_sm100_mae = multi_pixelwise_simplex([sm100_cr_table_anom, ndvi_cr_table_anom], 'ndvi', train = '1 303', test = '304 606', ed = 6, pi = 18, skill_score = 'mae')\n"
   ]
  },
  {
   "cell_type": "code",
   "execution_count": null,
   "metadata": {},
   "outputs": [],
   "source": [
    "ndvi_ea_simplex_bo_pi18_ed6_anom_sm200_mae = multi_pixelwise_simplex([sm200_bo_table_anom, ndvi_bo_table_anom], 'ndvi', train = '1 303', test = '304 606', ed = 6, pi = 18, skill_score = 'mae')\n",
    "ndvi_ea_simplex_sh_pi18_ed6_anom_sm200_mae = multi_pixelwise_simplex([sm200_sh_table_anom, ndvi_sh_table_anom], 'ndvi', train = '1 303', test = '304 606', ed = 6, pi = 18, skill_score = 'mae')\n",
    "ndvi_ea_simplex_gr_pi18_ed6_anom_sm200_mae = multi_pixelwise_simplex([sm200_gr_table_anom, ndvi_gr_table_anom], 'ndvi', train = '1 303', test = '304 606', ed = 6, pi = 18, skill_score = 'mae')\n",
    "ndvi_ea_simplex_ci_pi18_ed6_anom_sm200_mae = multi_pixelwise_simplex([sm200_ci_table_anom, ndvi_ci_table_anom], 'ndvi', train = '1 303', test = '304 606', ed = 6, pi = 18, skill_score = 'mae')\n",
    "ndvi_ea_simplex_cr_pi18_ed6_anom_sm200_mae = multi_pixelwise_simplex([sm200_cr_table_anom, ndvi_cr_table_anom], 'ndvi', train = '1 303', test = '304 606', ed = 6, pi = 18, skill_score = 'mae')\n"
   ]
  },
  {
   "cell_type": "code",
   "execution_count": null,
   "metadata": {},
   "outputs": [
    {
     "name": "stderr",
     "output_type": "stream",
     "text": [
      "100%|██████████| 392942/392942 [1:55:28<00:00, 56.72it/s]  \n",
      "100%|██████████| 392942/392942 [1:55:43<00:00, 56.59it/s]  \n",
      " 12%|█▏        | 46034/392942 [15:05<2:02:44, 47.11it/s]"
     ]
    }
   ],
   "source": [
    "ndvi_ea_simplex_pi18_ed6_anom_sm10et_rho = multi_pixelwise_simplex(table_list_anom_sm10et, 'ndvi', train = '1 303', test = '304 606', ed = 6, pi = 18, skill_score = 'rho')\n",
    "ndvi_ea_simplex_pi18_ed6_anom_sm40et_rho = multi_pixelwise_simplex(table_list_anom_sm40et, 'ndvi', train = '1 303', test = '304 606', ed = 6, pi = 18, skill_score = 'rho')\n",
    "ndvi_ea_simplex_pi18_ed6_anom_sm100et_rho = multi_pixelwise_simplex(table_list_anom_sm100et, 'ndvi', train = '1 303', test = '304 606', ed = 6, pi = 18, skill_score = 'rho')\n",
    "ndvi_ea_simplex_pi18_ed6_anom_sm200et_rho = multi_pixelwise_simplex(table_list_anom_sm200et, 'ndvi', train = '1 303', test = '304 606', ed = 6, pi = 18, skill_score = 'rho')\n"
   ]
  },
  {
   "cell_type": "code",
   "execution_count": null,
   "metadata": {},
   "outputs": [
    {
     "name": "stderr",
     "output_type": "stream",
     "text": [
      "100%|██████████| 392942/392942 [1:45:55<00:00, 61.82it/s]  \n",
      "100%|██████████| 392942/392942 [1:46:15<00:00, 61.63it/s]  \n",
      "100%|██████████| 392942/392942 [1:46:33<00:00, 61.46it/s]  \n",
      " 12%|█▏        | 47281/392942 [14:14<1:55:19, 49.95it/s]"
     ]
    }
   ],
   "source": [
    "ndvi_ea_simplex_pi18_ed6_anom_sm10_rho = multi_pixelwise_simplex([ndvi_table_anom, sm10_table_anom], 'ndvi', train = '1 303', test = '304 606', ed = 6, pi = 18, skill_score = 'rho')\n",
    "ndvi_ea_simplex_pi18_ed6_anom_sm40_rho = multi_pixelwise_simplex([ndvi_table_anom, sm40_table_anom], 'ndvi', train = '1 303', test = '304 606', ed = 6, pi = 18, skill_score = 'rho')\n",
    "ndvi_ea_simplex_pi18_ed6_anom_sm100_rho = multi_pixelwise_simplex([ndvi_table_anom, sm100_table_anom], 'ndvi', train = '1 303', test = '304 606', ed = 6, pi = 18, skill_score = 'rho')\n",
    "ndvi_ea_simplex_pi18_ed6_anom_sm200_rho = multi_pixelwise_simplex([ndvi_table_anom, sm200_table_anom], 'ndvi', train = '1 303', test = '304 606', ed = 6, pi = 18, skill_score = 'rho')\n",
    "\n",
    "ndvi_ea_simplex_pi18_ed6_anom_et_rho = multi_pixelwise_simplex([ndvi_table_anom, et_table_anom], 'ndvi', train = '1 303', test = '304 606', ed = 6, pi = 18, skill_score = 'rho')\n"
   ]
  },
  {
   "cell_type": "code",
   "execution_count": null,
   "metadata": {},
   "outputs": [],
   "source": [
    "ndvi_ea_simplex_pi18_ed6_anom_sm10_mae = multi_pixelwise_simplex([ndvi_table_anom, sm10_table_anom], 'ndvi', train = '1 303', test = '304 606', ed = 6, pi = 18, skill_score = 'mae')\n",
    "ndvi_ea_simplex_pi18_ed6_anom_sm40_mae = multi_pixelwise_simplex([ndvi_table_anom, sm40_table_anom], 'ndvi', train = '1 303', test = '304 606', ed = 6, pi = 18, skill_score = 'mae')\n",
    "ndvi_ea_simplex_pi18_ed6_anom_sm100_mae = multi_pixelwise_simplex([ndvi_table_anom, sm100_table_anom], 'ndvi', train = '1 303', test = '304 606', ed = 6, pi = 18, skill_score = 'mae')\n",
    "ndvi_ea_simplex_pi18_ed6_anom_sm200_mae = multi_pixelwise_simplex([ndvi_table_anom, sm200_table_anom], 'ndvi', train = '1 303', test = '304 606', ed = 6, pi = 18, skill_score = 'mae')\n",
    "\n",
    "ndvi_ea_simplex_pi18_ed6_anom_et_mae = multi_pixelwise_simplex([ndvi_table_anom, et_table_anom], 'ndvi', train = '1 303', test = '304 606', ed = 6, pi = 18, skill_score = 'mae')\n"
   ]
  },
  {
   "cell_type": "code",
   "execution_count": null,
   "metadata": {},
   "outputs": [],
   "source": [
    "ndvi_ea_simplex_pi18_ed6_anom_sm10_nse = multi_pixelwise_simplex([ndvi_table_anom, sm10_table_anom], 'ndvi', train = '1 303', test = '304 606', ed = 6, pi = 18, skill_score = 'nse')\n",
    "ndvi_ea_simplex_pi18_ed6_anom_sm40_nse = multi_pixelwise_simplex([ndvi_table_anom, sm40_table_anom], 'ndvi', train = '1 303', test = '304 606', ed = 6, pi = 18, skill_score = 'nse')\n",
    "ndvi_ea_simplex_pi18_ed6_anom_sm100_nse = multi_pixelwise_simplex([ndvi_table_anom, sm100_table_anom], 'ndvi', train = '1 303', test = '304 606', ed = 6, pi = 18, skill_score = 'nse')\n",
    "ndvi_ea_simplex_pi18_ed6_anom_sm200_nse = multi_pixelwise_simplex([ndvi_table_anom, sm200_table_anom], 'ndvi', train = '1 303', test = '304 606', ed = 6, pi = 18, skill_score = 'nse')\n",
    "\n",
    "ndvi_ea_simplex_pi18_ed6_anom_et_nse = multi_pixelwise_simplex([ndvi_table_anom, et_table_anom], 'ndvi', train = '1 303', test = '304 606', ed = 6, pi = 18, skill_score = 'nse')\n"
   ]
  },
  {
   "cell_type": "markdown",
   "metadata": {},
   "source": [
    "# Save out rasters"
   ]
  },
  {
   "cell_type": "code",
   "execution_count": 25,
   "metadata": {},
   "outputs": [],
   "source": [
    "def array2tiff(array, in_dir, out_dir, out_name):\n",
    "    \n",
    "    '''\n",
    "    This function converts a 2D array into a tif using the profile of an existing tif\n",
    "\n",
    "    '''\n",
    "    \n",
    "\n",
    "    with rasterio.open(in_dir+ os.listdir(in_dir)[0]) as src:\n",
    "        profile = src.profile\n",
    "\n",
    "    with rasterio.open(out_dir + out_name + '.tif', 'w', **profile) as dst:\n",
    "        data = array\n",
    "        data = data.astype(np.float32)\n",
    "        #data[data<=0] = np.nan\n",
    "        dst.write(data, indexes=1)"
   ]
  },
  {
   "cell_type": "code",
   "execution_count": 34,
   "metadata": {},
   "outputs": [],
   "source": [
    "array2tiff(ndvi_ea_simplex_multi_bo_pi18_ed6_anom_smet, ndvi_ea, '/home/rgreen/DroughtEDM/Data/EA_prediction_skill/', 'ndvi_ea_simplex_multi_bo_pi18_ed6_anom_smet')"
   ]
  },
  {
   "cell_type": "code",
   "execution_count": 35,
   "metadata": {},
   "outputs": [],
   "source": [
    "array2tiff(ndvi_ea_simplex_multi_sh_pi18_ed6_anom_smet, ndvi_ea, '/home/rgreen/DroughtEDM/Data/EA_prediction_skill/', 'ndvi_ea_simplex_multi_sh_pi18_ed6_anom_smet')"
   ]
  },
  {
   "cell_type": "code",
   "execution_count": 38,
   "metadata": {},
   "outputs": [],
   "source": [
    "array2tiff(ndvi_ea_simplex_multi_gr_pi18_ed6_anom_smet, ndvi_ea, '/home/rgreen/DroughtEDM/Data/EA_prediction_skill/', 'ndvi_ea_simplex_multi_gr_pi18_ed6_anom_smet')"
   ]
  },
  {
   "cell_type": "code",
   "execution_count": 39,
   "metadata": {},
   "outputs": [],
   "source": [
    "array2tiff(ndvi_ea_simplex_multi_ci_pi18_ed6_anom_smet, ndvi_ea, '/home/rgreen/DroughtEDM/Data/EA_prediction_skill/', 'ndvi_ea_simplex_multi_ci_pi18_ed6_anom_smet')"
   ]
  },
  {
   "cell_type": "code",
   "execution_count": 40,
   "metadata": {},
   "outputs": [],
   "source": [
    "array2tiff(ndvi_ea_simplex_multi_cr_pi18_ed6_anom_smet, ndvi_ea, '/home/rgreen/DroughtEDM/Data/EA_prediction_skill/', 'ndvi_ea_simplex_multi_cr_pi18_ed6_anom_smet')"
   ]
  },
  {
   "cell_type": "code",
   "execution_count": 77,
   "metadata": {},
   "outputs": [],
   "source": [
    "array2tiff(ndvi_ea_simplex_multi_bo_pi18_ed6_anom_smet_nse, ndvi_ea, '/home/rgreen/DroughtEDM/Data/EA_prediction_skill/', 'ndvi_ea_simplex_multi_bo_pi18_ed6_anom_smet_nse')"
   ]
  },
  {
   "cell_type": "code",
   "execution_count": 80,
   "metadata": {},
   "outputs": [],
   "source": [
    "array2tiff(ndvi_ea_simplex_multi_sh_pi18_ed6_anom_smet_nse, ndvi_ea, '/home/rgreen/DroughtEDM/Data/EA_prediction_skill/', 'ndvi_ea_simplex_multi_sh_pi18_ed6_anom_smet_nse')\n",
    "array2tiff(ndvi_ea_simplex_multi_gr_pi18_ed6_anom_smet_nse, ndvi_ea, '/home/rgreen/DroughtEDM/Data/EA_prediction_skill/', 'ndvi_ea_simplex_multi_gr_pi18_ed6_anom_smet_nse')\n",
    "array2tiff(ndvi_ea_simplex_multi_ci_pi18_ed6_anom_smet_nse, ndvi_ea, '/home/rgreen/DroughtEDM/Data/EA_prediction_skill/', 'ndvi_ea_simplex_multi_ci_pi18_ed6_anom_smet_nse')\n",
    "array2tiff(ndvi_ea_simplex_multi_cr_pi18_ed6_anom_smet_nse, ndvi_ea, '/home/rgreen/DroughtEDM/Data/EA_prediction_skill/', 'ndvi_ea_simplex_multi_cr_pi18_ed6_anom_smet_nse')\n"
   ]
  },
  {
   "cell_type": "code",
   "execution_count": 83,
   "metadata": {},
   "outputs": [],
   "source": [
    "array2tiff(ndvi_ea_simplex_multi_bo_pi18_ed6_anom_smet_mae, ndvi_ea, '/home/rgreen/DroughtEDM/Data/EA_prediction_skill/', 'ndvi_ea_simplex_multi_bo_pi18_ed6_anom_smet_mae')\n",
    "array2tiff(ndvi_ea_simplex_multi_sh_pi18_ed6_anom_smet_mae, ndvi_ea, '/home/rgreen/DroughtEDM/Data/EA_prediction_skill/', 'ndvi_ea_simplex_multi_sh_pi18_ed6_anom_smet_mae')\n",
    "array2tiff(ndvi_ea_simplex_multi_gr_pi18_ed6_anom_smet_mae, ndvi_ea, '/home/rgreen/DroughtEDM/Data/EA_prediction_skill/', 'ndvi_ea_simplex_multi_gr_pi18_ed6_anom_smet_mae')\n",
    "array2tiff(ndvi_ea_simplex_multi_ci_pi18_ed6_anom_smet_mae, ndvi_ea, '/home/rgreen/DroughtEDM/Data/EA_prediction_skill/', 'ndvi_ea_simplex_multi_ci_pi18_ed6_anom_smet_mae')\n",
    "array2tiff(ndvi_ea_simplex_multi_cr_pi18_ed6_anom_smet_mae, ndvi_ea, '/home/rgreen/DroughtEDM/Data/EA_prediction_skill/', 'ndvi_ea_simplex_multi_cr_pi18_ed6_anom_smet_mae')\n"
   ]
  },
  {
   "cell_type": "code",
   "execution_count": 69,
   "metadata": {},
   "outputs": [],
   "source": [
    "array2tiff(ndvi_ea_simplex_multi_bo_pi18_ed6_anom_sm10et_rho, ndvi_ea, EA_prediction_skill, 'ndvi_ea_simplex_multi_bo_pi18_ed6_anom_sm10et_rho')\n",
    "array2tiff(ndvi_ea_simplex_multi_sh_pi18_ed6_anom_sm10et_rho, ndvi_ea, EA_prediction_skill, 'ndvi_ea_simplex_multi_sh_pi18_ed6_anom_sm10et_rho')\n",
    "array2tiff(ndvi_ea_simplex_multi_gr_pi18_ed6_anom_sm10et_rho, ndvi_ea, EA_prediction_skill, 'ndvi_ea_simplex_multi_gr_pi18_ed6_anom_sm10et_rho')\n",
    "array2tiff(ndvi_ea_simplex_multi_ci_pi18_ed6_anom_sm10et_rho, ndvi_ea, EA_prediction_skill, 'ndvi_ea_simplex_multi_ci_pi18_ed6_anom_sm10et_rho')\n",
    "array2tiff(ndvi_ea_simplex_multi_cr_pi18_ed6_anom_sm10et_rho, ndvi_ea, EA_prediction_skill, 'ndvi_ea_simplex_multi_cr_pi18_ed6_anom_sm10et_rho')"
   ]
  },
  {
   "cell_type": "code",
   "execution_count": 72,
   "metadata": {},
   "outputs": [],
   "source": [
    "array2tiff(ndvi_ea_simplex_multi_bo_pi18_ed6_anom_sm40et_rho, ndvi_ea, EA_prediction_skill, 'ndvi_ea_simplex_multi_bo_pi18_ed6_anom_sm40et_rho')\n",
    "array2tiff(ndvi_ea_simplex_multi_sh_pi18_ed6_anom_sm40et_rho, ndvi_ea, EA_prediction_skill, 'ndvi_ea_simplex_multi_sh_pi18_ed6_anom_sm40et_rho')\n",
    "array2tiff(ndvi_ea_simplex_multi_gr_pi18_ed6_anom_sm40et_rho, ndvi_ea, EA_prediction_skill, 'ndvi_ea_simplex_multi_gr_pi18_ed6_anom_sm40et_rho')\n",
    "array2tiff(ndvi_ea_simplex_multi_ci_pi18_ed6_anom_sm40et_rho, ndvi_ea, EA_prediction_skill, 'ndvi_ea_simplex_multi_ci_pi18_ed6_anom_sm40et_rho')\n",
    "array2tiff(ndvi_ea_simplex_multi_cr_pi18_ed6_anom_sm40et_rho, ndvi_ea, EA_prediction_skill, 'ndvi_ea_simplex_multi_cr_pi18_ed6_anom_sm40et_rho')"
   ]
  },
  {
   "cell_type": "code",
   "execution_count": 73,
   "metadata": {},
   "outputs": [],
   "source": [
    "array2tiff(ndvi_ea_simplex_multi_bo_pi18_ed6_anom_sm100et_rho, ndvi_ea, EA_prediction_skill, 'ndvi_ea_simplex_multi_bo_pi18_ed6_anom_sm100et_rho')\n",
    "array2tiff(ndvi_ea_simplex_multi_sh_pi18_ed6_anom_sm100et_rho, ndvi_ea, EA_prediction_skill, 'ndvi_ea_simplex_multi_sh_pi18_ed6_anom_sm100et_rho')\n",
    "array2tiff(ndvi_ea_simplex_multi_gr_pi18_ed6_anom_sm100et_rho, ndvi_ea, EA_prediction_skill, 'ndvi_ea_simplex_multi_gr_pi18_ed6_anom_sm100et_rho')\n",
    "array2tiff(ndvi_ea_simplex_multi_ci_pi18_ed6_anom_sm100et_rho, ndvi_ea, EA_prediction_skill, 'ndvi_ea_simplex_multi_ci_pi18_ed6_anom_sm100et_rho')\n",
    "array2tiff(ndvi_ea_simplex_multi_cr_pi18_ed6_anom_sm100et_rho, ndvi_ea, EA_prediction_skill, 'ndvi_ea_simplex_multi_cr_pi18_ed6_anom_sm100et_rho')"
   ]
  },
  {
   "cell_type": "code",
   "execution_count": 74,
   "metadata": {},
   "outputs": [],
   "source": [
    "array2tiff(ndvi_ea_simplex_multi_bo_pi18_ed6_anom_sm200et_rho, ndvi_ea, EA_prediction_skill, 'ndvi_ea_simplex_multi_bo_pi18_ed6_anom_sm200et_rho')\n",
    "array2tiff(ndvi_ea_simplex_multi_sh_pi18_ed6_anom_sm200et_rho, ndvi_ea, EA_prediction_skill, 'ndvi_ea_simplex_multi_sh_pi18_ed6_anom_sm200et_rho')\n",
    "array2tiff(ndvi_ea_simplex_multi_gr_pi18_ed6_anom_sm200et_rho, ndvi_ea, EA_prediction_skill, 'ndvi_ea_simplex_multi_gr_pi18_ed6_anom_sm200et_rho')\n",
    "array2tiff(ndvi_ea_simplex_multi_ci_pi18_ed6_anom_sm200et_rho, ndvi_ea, EA_prediction_skill, 'ndvi_ea_simplex_multi_ci_pi18_ed6_anom_sm200et_rho')\n",
    "array2tiff(ndvi_ea_simplex_multi_cr_pi18_ed6_anom_sm200et_rho, ndvi_ea, EA_prediction_skill, 'ndvi_ea_simplex_multi_cr_pi18_ed6_anom_sm200et_rho')"
   ]
  },
  {
   "cell_type": "code",
   "execution_count": 75,
   "metadata": {},
   "outputs": [],
   "source": [
    "array2tiff(ndvi_ea_simplex_multi_bo_pi18_ed6_anom_sm10et_nse, ndvi_ea, EA_prediction_skill, 'ndvi_ea_simplex_multi_bo_pi18_ed6_anom_sm10et_nse')\n",
    "array2tiff(ndvi_ea_simplex_multi_sh_pi18_ed6_anom_sm10et_nse, ndvi_ea, EA_prediction_skill, 'ndvi_ea_simplex_multi_sh_pi18_ed6_anom_sm10et_nse')\n",
    "array2tiff(ndvi_ea_simplex_multi_gr_pi18_ed6_anom_sm10et_nse, ndvi_ea, EA_prediction_skill, 'ndvi_ea_simplex_multi_gr_pi18_ed6_anom_sm10et_nse')\n",
    "array2tiff(ndvi_ea_simplex_multi_ci_pi18_ed6_anom_sm10et_nse, ndvi_ea, EA_prediction_skill, 'ndvi_ea_simplex_multi_ci_pi18_ed6_anom_sm10et_nse')\n",
    "array2tiff(ndvi_ea_simplex_multi_cr_pi18_ed6_anom_sm10et_nse, ndvi_ea, EA_prediction_skill, 'ndvi_ea_simplex_multi_cr_pi18_ed6_anom_sm10et_nse')"
   ]
  },
  {
   "cell_type": "code",
   "execution_count": 76,
   "metadata": {},
   "outputs": [],
   "source": [
    "array2tiff(ndvi_ea_simplex_multi_bo_pi18_ed6_anom_sm40et_nse, ndvi_ea, EA_prediction_skill, 'ndvi_ea_simplex_multi_bo_pi18_ed6_anom_sm40et_nse')\n",
    "array2tiff(ndvi_ea_simplex_multi_sh_pi18_ed6_anom_sm40et_nse, ndvi_ea, EA_prediction_skill, 'ndvi_ea_simplex_multi_sh_pi18_ed6_anom_sm40et_nse')\n",
    "array2tiff(ndvi_ea_simplex_multi_gr_pi18_ed6_anom_sm40et_nse, ndvi_ea, EA_prediction_skill, 'ndvi_ea_simplex_multi_gr_pi18_ed6_anom_sm40et_nse')\n",
    "array2tiff(ndvi_ea_simplex_multi_ci_pi18_ed6_anom_sm40et_nse, ndvi_ea, EA_prediction_skill, 'ndvi_ea_simplex_multi_ci_pi18_ed6_anom_sm40et_nse')\n",
    "array2tiff(ndvi_ea_simplex_multi_cr_pi18_ed6_anom_sm40et_nse, ndvi_ea, EA_prediction_skill, 'ndvi_ea_simplex_multi_cr_pi18_ed6_anom_sm40et_nse')"
   ]
  },
  {
   "cell_type": "code",
   "execution_count": 77,
   "metadata": {},
   "outputs": [],
   "source": [
    "array2tiff(ndvi_ea_simplex_multi_bo_pi18_ed6_anom_sm100et_nse, ndvi_ea, EA_prediction_skill, 'ndvi_ea_simplex_multi_bo_pi18_ed6_anom_sm100et_nse')\n",
    "array2tiff(ndvi_ea_simplex_multi_sh_pi18_ed6_anom_sm100et_nse, ndvi_ea, EA_prediction_skill, 'ndvi_ea_simplex_multi_sh_pi18_ed6_anom_sm100et_nse')\n",
    "array2tiff(ndvi_ea_simplex_multi_gr_pi18_ed6_anom_sm100et_nse, ndvi_ea, EA_prediction_skill, 'ndvi_ea_simplex_multi_gr_pi18_ed6_anom_sm100et_nse')\n",
    "array2tiff(ndvi_ea_simplex_multi_ci_pi18_ed6_anom_sm100et_nse, ndvi_ea, EA_prediction_skill, 'ndvi_ea_simplex_multi_ci_pi18_ed6_anom_sm100et_nse')\n",
    "array2tiff(ndvi_ea_simplex_multi_cr_pi18_ed6_anom_sm100et_nse, ndvi_ea, EA_prediction_skill, 'ndvi_ea_simplex_multi_cr_pi18_ed6_anom_sm100et_nse')"
   ]
  },
  {
   "cell_type": "code",
   "execution_count": 78,
   "metadata": {},
   "outputs": [],
   "source": [
    "array2tiff(ndvi_ea_simplex_multi_bo_pi18_ed6_anom_sm200et_nse, ndvi_ea, EA_prediction_skill, 'ndvi_ea_simplex_multi_bo_pi18_ed6_anom_sm200et_nse')\n",
    "array2tiff(ndvi_ea_simplex_multi_sh_pi18_ed6_anom_sm200et_nse, ndvi_ea, EA_prediction_skill, 'ndvi_ea_simplex_multi_sh_pi18_ed6_anom_sm200et_nse')\n",
    "array2tiff(ndvi_ea_simplex_multi_gr_pi18_ed6_anom_sm200et_nse, ndvi_ea, EA_prediction_skill, 'ndvi_ea_simplex_multi_gr_pi18_ed6_anom_sm200et_nse')\n",
    "array2tiff(ndvi_ea_simplex_multi_ci_pi18_ed6_anom_sm200et_nse, ndvi_ea, EA_prediction_skill, 'ndvi_ea_simplex_multi_ci_pi18_ed6_anom_sm200et_nse')\n",
    "array2tiff(ndvi_ea_simplex_multi_cr_pi18_ed6_anom_sm200et_nse, ndvi_ea, EA_prediction_skill, 'ndvi_ea_simplex_multi_cr_pi18_ed6_anom_sm200et_nse')"
   ]
  },
  {
   "cell_type": "code",
   "execution_count": 82,
   "metadata": {},
   "outputs": [],
   "source": [
    "array2tiff(ndvi_ea_simplex_multi_bo_pi18_ed6_anom_s10met_mae, ndvi_ea, EA_prediction_skill, 'ndvi_ea_simplex_multi_bo_pi18_ed6_anom_sm10et_mae')\n",
    "array2tiff(ndvi_ea_simplex_multi_sh_pi18_ed6_anom_s10met_mae, ndvi_ea, EA_prediction_skill, 'ndvi_ea_simplex_multi_sh_pi18_ed6_anom_sm10et_mae')\n",
    "array2tiff(ndvi_ea_simplex_multi_gr_pi18_ed6_anom_s10met_mae, ndvi_ea, EA_prediction_skill, 'ndvi_ea_simplex_multi_gr_pi18_ed6_anom_sm10et_mae')\n",
    "array2tiff(ndvi_ea_simplex_multi_ci_pi18_ed6_anom_s10met_mae, ndvi_ea, EA_prediction_skill, 'ndvi_ea_simplex_multi_ci_pi18_ed6_anom_sm10et_mae')\n",
    "array2tiff(ndvi_ea_simplex_multi_cr_pi18_ed6_anom_s10met_mae, ndvi_ea, EA_prediction_skill, 'ndvi_ea_simplex_multi_cr_pi18_ed6_anom_sm10et_mae')"
   ]
  },
  {
   "cell_type": "code",
   "execution_count": 83,
   "metadata": {},
   "outputs": [],
   "source": [
    "array2tiff(ndvi_ea_simplex_multi_bo_pi18_ed6_anom_s40met_mae, ndvi_ea, EA_prediction_skill, 'ndvi_ea_simplex_multi_bo_pi18_ed6_anom_sm40et_mae')\n",
    "array2tiff(ndvi_ea_simplex_multi_sh_pi18_ed6_anom_s40met_mae, ndvi_ea, EA_prediction_skill, 'ndvi_ea_simplex_multi_sh_pi18_ed6_anom_sm40et_mae')\n",
    "array2tiff(ndvi_ea_simplex_multi_gr_pi18_ed6_anom_s40met_mae, ndvi_ea, EA_prediction_skill, 'ndvi_ea_simplex_multi_gr_pi18_ed6_anom_sm40et_mae')\n",
    "array2tiff(ndvi_ea_simplex_multi_ci_pi18_ed6_anom_s40met_mae, ndvi_ea, EA_prediction_skill, 'ndvi_ea_simplex_multi_ci_pi18_ed6_anom_sm40et_mae')\n",
    "array2tiff(ndvi_ea_simplex_multi_cr_pi18_ed6_anom_s40met_mae, ndvi_ea, EA_prediction_skill, 'ndvi_ea_simplex_multi_cr_pi18_ed6_anom_sm40et_mae')"
   ]
  },
  {
   "cell_type": "code",
   "execution_count": 84,
   "metadata": {},
   "outputs": [],
   "source": [
    "array2tiff(ndvi_ea_simplex_multi_bo_pi18_ed6_anom_s100met_mae, ndvi_ea, EA_prediction_skill, 'ndvi_ea_simplex_multi_bo_pi18_ed6_anom_sm100et_mae')\n",
    "array2tiff(ndvi_ea_simplex_multi_sh_pi18_ed6_anom_s100met_mae, ndvi_ea, EA_prediction_skill, 'ndvi_ea_simplex_multi_sh_pi18_ed6_anom_sm100et_mae')\n",
    "array2tiff(ndvi_ea_simplex_multi_gr_pi18_ed6_anom_s100met_mae, ndvi_ea, EA_prediction_skill, 'ndvi_ea_simplex_multi_gr_pi18_ed6_anom_sm100et_mae')\n",
    "array2tiff(ndvi_ea_simplex_multi_ci_pi18_ed6_anom_s100met_mae, ndvi_ea, EA_prediction_skill, 'ndvi_ea_simplex_multi_ci_pi18_ed6_anom_sm100et_mae')\n",
    "array2tiff(ndvi_ea_simplex_multi_cr_pi18_ed6_anom_s100met_mae, ndvi_ea, EA_prediction_skill, 'ndvi_ea_simplex_multi_cr_pi18_ed6_anom_sm100et_mae')"
   ]
  },
  {
   "cell_type": "code",
   "execution_count": 85,
   "metadata": {},
   "outputs": [],
   "source": [
    "array2tiff(ndvi_ea_simplex_multi_bo_pi18_ed6_anom_s200met_mae, ndvi_ea, EA_prediction_skill, 'ndvi_ea_simplex_multi_bo_pi18_ed6_anom_sm200et_mae')\n",
    "array2tiff(ndvi_ea_simplex_multi_sh_pi18_ed6_anom_s200met_mae, ndvi_ea, EA_prediction_skill, 'ndvi_ea_simplex_multi_sh_pi18_ed6_anom_sm200et_mae')\n",
    "array2tiff(ndvi_ea_simplex_multi_gr_pi18_ed6_anom_s200met_mae, ndvi_ea, EA_prediction_skill, 'ndvi_ea_simplex_multi_gr_pi18_ed6_anom_sm200et_mae')\n",
    "array2tiff(ndvi_ea_simplex_multi_ci_pi18_ed6_anom_s200met_mae, ndvi_ea, EA_prediction_skill, 'ndvi_ea_simplex_multi_ci_pi18_ed6_anom_sm200et_mae')\n",
    "array2tiff(ndvi_ea_simplex_multi_cr_pi18_ed6_anom_s200met_mae, ndvi_ea, EA_prediction_skill, 'ndvi_ea_simplex_multi_cr_pi18_ed6_anom_sm200et_mae')"
   ]
  },
  {
   "cell_type": "code",
   "execution_count": 103,
   "metadata": {},
   "outputs": [],
   "source": [
    "array2tiff(ndvi_ea_simplex_bo_pi18_ed6_anom_et_rho, ndvi_ea, EA_prediction_skill, 'ndvi_ea_simplex_bo_pi18_ed6_anom_et_rho')\n",
    "array2tiff(ndvi_ea_simplex_sh_pi18_ed6_anom_et_rho, ndvi_ea, EA_prediction_skill, 'ndvi_ea_simplex_sh_pi18_ed6_anom_et_rho')\n",
    "array2tiff(ndvi_ea_simplex_gr_pi18_ed6_anom_et_rho, ndvi_ea, EA_prediction_skill, 'ndvi_ea_simplex_gr_pi18_ed6_anom_et_rho')\n",
    "array2tiff(ndvi_ea_simplex_ci_pi18_ed6_anom_et_rho, ndvi_ea, EA_prediction_skill, 'ndvi_ea_simplex_ci_pi18_ed6_anom_et_rho')\n",
    "array2tiff(ndvi_ea_simplex_cr_pi18_ed6_anom_et_rho, ndvi_ea, EA_prediction_skill, 'ndvi_ea_simplex_cr_pi18_ed6_anom_et_rho')"
   ]
  },
  {
   "cell_type": "code",
   "execution_count": 104,
   "metadata": {},
   "outputs": [],
   "source": [
    "array2tiff(ndvi_ea_simplex_bo_pi18_ed6_anom_sm10_rho, ndvi_ea, EA_prediction_skill, 'ndvi_ea_simplex_bo_pi18_ed6_anom_sm10_rho')\n",
    "array2tiff(ndvi_ea_simplex_sh_pi18_ed6_anom_sm10_rho, ndvi_ea, EA_prediction_skill, 'ndvi_ea_simplex_sh_pi18_ed6_anom_sm10_rho')\n",
    "array2tiff(ndvi_ea_simplex_gr_pi18_ed6_anom_sm10_rho, ndvi_ea, EA_prediction_skill, 'ndvi_ea_simplex_gr_pi18_ed6_anom_sm10_rho')\n",
    "array2tiff(ndvi_ea_simplex_ci_pi18_ed6_anom_sm10_rho, ndvi_ea, EA_prediction_skill, 'ndvi_ea_simplex_ci_pi18_ed6_anom_sm10_rho')\n",
    "array2tiff(ndvi_ea_simplex_cr_pi18_ed6_anom_sm10_rho, ndvi_ea, EA_prediction_skill, 'ndvi_ea_simplex_cr_pi18_ed6_anom_sm10_rho')"
   ]
  },
  {
   "cell_type": "code",
   "execution_count": 105,
   "metadata": {},
   "outputs": [],
   "source": [
    "array2tiff(ndvi_ea_simplex_bo_pi18_ed6_anom_sm40_rho, ndvi_ea, EA_prediction_skill, 'ndvi_ea_simplex_bo_pi18_ed6_anom_sm40_rho')\n",
    "array2tiff(ndvi_ea_simplex_sh_pi18_ed6_anom_sm40_rho, ndvi_ea, EA_prediction_skill, 'ndvi_ea_simplex_sh_pi18_ed6_anom_sm40_rho')\n",
    "array2tiff(ndvi_ea_simplex_gr_pi18_ed6_anom_sm40_rho, ndvi_ea, EA_prediction_skill, 'ndvi_ea_simplex_gr_pi18_ed6_anom_sm40_rho')\n",
    "array2tiff(ndvi_ea_simplex_ci_pi18_ed6_anom_sm40_rho, ndvi_ea, EA_prediction_skill, 'ndvi_ea_simplex_ci_pi18_ed6_anom_sm40_rho')\n",
    "array2tiff(ndvi_ea_simplex_cr_pi18_ed6_anom_sm40_rho, ndvi_ea, EA_prediction_skill, 'ndvi_ea_simplex_cr_pi18_ed6_anom_sm40_rho')"
   ]
  },
  {
   "cell_type": "code",
   "execution_count": 106,
   "metadata": {},
   "outputs": [],
   "source": [
    "array2tiff(ndvi_ea_simplex_bo_pi18_ed6_anom_sm100_rho, ndvi_ea, EA_prediction_skill, 'ndvi_ea_simplex_bo_pi18_ed6_anom_sm100_rho')\n",
    "array2tiff(ndvi_ea_simplex_sh_pi18_ed6_anom_sm100_rho, ndvi_ea, EA_prediction_skill, 'ndvi_ea_simplex_sh_pi18_ed6_anom_sm100_rho')\n",
    "array2tiff(ndvi_ea_simplex_gr_pi18_ed6_anom_sm100_rho, ndvi_ea, EA_prediction_skill, 'ndvi_ea_simplex_gr_pi18_ed6_anom_sm100_rho')\n",
    "array2tiff(ndvi_ea_simplex_ci_pi18_ed6_anom_sm100_rho, ndvi_ea, EA_prediction_skill, 'ndvi_ea_simplex_ci_pi18_ed6_anom_sm100_rho')\n",
    "array2tiff(ndvi_ea_simplex_cr_pi18_ed6_anom_sm100_rho, ndvi_ea, EA_prediction_skill, 'ndvi_ea_simplex_cr_pi18_ed6_anom_sm100_rho')"
   ]
  },
  {
   "cell_type": "code",
   "execution_count": 107,
   "metadata": {},
   "outputs": [],
   "source": [
    "array2tiff(ndvi_ea_simplex_bo_pi18_ed6_anom_sm200_rho, ndvi_ea, EA_prediction_skill, 'ndvi_ea_simplex_bo_pi18_ed6_anom_sm200_rho')\n",
    "array2tiff(ndvi_ea_simplex_sh_pi18_ed6_anom_sm200_rho, ndvi_ea, EA_prediction_skill, 'ndvi_ea_simplex_sh_pi18_ed6_anom_sm200_rho')\n",
    "array2tiff(ndvi_ea_simplex_gr_pi18_ed6_anom_sm200_rho, ndvi_ea, EA_prediction_skill, 'ndvi_ea_simplex_gr_pi18_ed6_anom_sm200_rho')\n",
    "array2tiff(ndvi_ea_simplex_ci_pi18_ed6_anom_sm200_rho, ndvi_ea, EA_prediction_skill, 'ndvi_ea_simplex_ci_pi18_ed6_anom_sm200_rho')\n",
    "array2tiff(ndvi_ea_simplex_cr_pi18_ed6_anom_sm200_rho, ndvi_ea, EA_prediction_skill, 'ndvi_ea_simplex_cr_pi18_ed6_anom_sm200_rho')"
   ]
  },
  {
   "cell_type": "code",
   "execution_count": 120,
   "metadata": {},
   "outputs": [],
   "source": [
    "array2tiff(ndvi_ea_simplex_bo_pi18_ed6_anom_et_nse, ndvi_ea, EA_prediction_skill, 'ndvi_ea_simplex_bo_pi18_ed6_anom_et_nse')\n",
    "array2tiff(ndvi_ea_simplex_sh_pi18_ed6_anom_et_nse, ndvi_ea, EA_prediction_skill, 'ndvi_ea_simplex_sh_pi18_ed6_anom_et_nse')\n",
    "array2tiff(ndvi_ea_simplex_gr_pi18_ed6_anom_et_nse, ndvi_ea, EA_prediction_skill, 'ndvi_ea_simplex_gr_pi18_ed6_anom_et_nse')\n",
    "array2tiff(ndvi_ea_simplex_ci_pi18_ed6_anom_et_nse, ndvi_ea, EA_prediction_skill, 'ndvi_ea_simplex_ci_pi18_ed6_anom_et_nse')\n",
    "array2tiff(ndvi_ea_simplex_cr_pi18_ed6_anom_et_nse, ndvi_ea, EA_prediction_skill, 'ndvi_ea_simplex_cr_pi18_ed6_anom_et_nse')"
   ]
  },
  {
   "cell_type": "code",
   "execution_count": 121,
   "metadata": {},
   "outputs": [],
   "source": [
    "array2tiff(ndvi_ea_simplex_bo_pi18_ed6_anom_sm10_nse, ndvi_ea, EA_prediction_skill, 'ndvi_ea_simplex_bo_pi18_ed6_anom_sm10_nse')\n",
    "array2tiff(ndvi_ea_simplex_sh_pi18_ed6_anom_sm10_nse, ndvi_ea, EA_prediction_skill, 'ndvi_ea_simplex_sh_pi18_ed6_anom_sm10_nse')\n",
    "array2tiff(ndvi_ea_simplex_gr_pi18_ed6_anom_sm10_nse, ndvi_ea, EA_prediction_skill, 'ndvi_ea_simplex_gr_pi18_ed6_anom_sm10_nse')\n",
    "array2tiff(ndvi_ea_simplex_ci_pi18_ed6_anom_sm10_nse, ndvi_ea, EA_prediction_skill, 'ndvi_ea_simplex_ci_pi18_ed6_anom_sm10_nse')\n",
    "array2tiff(ndvi_ea_simplex_cr_pi18_ed6_anom_sm10_nse, ndvi_ea, EA_prediction_skill, 'ndvi_ea_simplex_cr_pi18_ed6_anom_sm10_nse')"
   ]
  },
  {
   "cell_type": "code",
   "execution_count": 122,
   "metadata": {},
   "outputs": [],
   "source": [
    "array2tiff(ndvi_ea_simplex_bo_pi18_ed6_anom_sm40_nse, ndvi_ea, EA_prediction_skill, 'ndvi_ea_simplex_bo_pi18_ed6_anom_sm40_nse')\n",
    "array2tiff(ndvi_ea_simplex_sh_pi18_ed6_anom_sm40_nse, ndvi_ea, EA_prediction_skill, 'ndvi_ea_simplex_sh_pi18_ed6_anom_sm40_nse')\n",
    "array2tiff(ndvi_ea_simplex_gr_pi18_ed6_anom_sm40_nse, ndvi_ea, EA_prediction_skill, 'ndvi_ea_simplex_gr_pi18_ed6_anom_sm40_nse')\n",
    "array2tiff(ndvi_ea_simplex_ci_pi18_ed6_anom_sm40_nse, ndvi_ea, EA_prediction_skill, 'ndvi_ea_simplex_ci_pi18_ed6_anom_sm40_nse')\n",
    "array2tiff(ndvi_ea_simplex_cr_pi18_ed6_anom_sm40_nse, ndvi_ea, EA_prediction_skill, 'ndvi_ea_simplex_cr_pi18_ed6_anom_sm40_nse')"
   ]
  },
  {
   "cell_type": "code",
   "execution_count": 123,
   "metadata": {},
   "outputs": [],
   "source": [
    "array2tiff(ndvi_ea_simplex_bo_pi18_ed6_anom_sm100_nse, ndvi_ea, EA_prediction_skill, 'ndvi_ea_simplex_bo_pi18_ed6_anom_sm100_nse')\n",
    "array2tiff(ndvi_ea_simplex_sh_pi18_ed6_anom_sm100_nse, ndvi_ea, EA_prediction_skill, 'ndvi_ea_simplex_sh_pi18_ed6_anom_sm100_nse')\n",
    "array2tiff(ndvi_ea_simplex_gr_pi18_ed6_anom_sm100_nse, ndvi_ea, EA_prediction_skill, 'ndvi_ea_simplex_gr_pi18_ed6_anom_sm100_nse')\n",
    "array2tiff(ndvi_ea_simplex_ci_pi18_ed6_anom_sm100_nse, ndvi_ea, EA_prediction_skill, 'ndvi_ea_simplex_ci_pi18_ed6_anom_sm100_nse')\n",
    "array2tiff(ndvi_ea_simplex_cr_pi18_ed6_anom_sm100_nse, ndvi_ea, EA_prediction_skill, 'ndvi_ea_simplex_cr_pi18_ed6_anom_sm100_nse')"
   ]
  },
  {
   "cell_type": "code",
   "execution_count": 124,
   "metadata": {},
   "outputs": [],
   "source": [
    "array2tiff(ndvi_ea_simplex_bo_pi18_ed6_anom_sm200_nse, ndvi_ea, EA_prediction_skill, 'ndvi_ea_simplex_bo_pi18_ed6_anom_sm200_nse')\n",
    "array2tiff(ndvi_ea_simplex_sh_pi18_ed6_anom_sm200_nse, ndvi_ea, EA_prediction_skill, 'ndvi_ea_simplex_sh_pi18_ed6_anom_sm200_nse')\n",
    "array2tiff(ndvi_ea_simplex_gr_pi18_ed6_anom_sm200_nse, ndvi_ea, EA_prediction_skill, 'ndvi_ea_simplex_gr_pi18_ed6_anom_sm200_nse')\n",
    "array2tiff(ndvi_ea_simplex_ci_pi18_ed6_anom_sm200_nse, ndvi_ea, EA_prediction_skill, 'ndvi_ea_simplex_ci_pi18_ed6_anom_sm200_nse')\n",
    "array2tiff(ndvi_ea_simplex_cr_pi18_ed6_anom_sm200_nse, ndvi_ea, EA_prediction_skill, 'ndvi_ea_simplex_cr_pi18_ed6_anom_sm200_nse')"
   ]
  },
  {
   "cell_type": "code",
   "execution_count": 125,
   "metadata": {},
   "outputs": [],
   "source": [
    "array2tiff(ndvi_ea_simplex_bo_pi18_ed6_anom_et_mae, ndvi_ea, EA_prediction_skill, 'ndvi_ea_simplex_bo_pi18_ed6_anom_et_mae')\n",
    "array2tiff(ndvi_ea_simplex_sh_pi18_ed6_anom_et_mae, ndvi_ea, EA_prediction_skill, 'ndvi_ea_simplex_sh_pi18_ed6_anom_et_mae')\n",
    "array2tiff(ndvi_ea_simplex_gr_pi18_ed6_anom_et_mae, ndvi_ea, EA_prediction_skill, 'ndvi_ea_simplex_gr_pi18_ed6_anom_et_mae')\n",
    "array2tiff(ndvi_ea_simplex_ci_pi18_ed6_anom_et_mae, ndvi_ea, EA_prediction_skill, 'ndvi_ea_simplex_ci_pi18_ed6_anom_et_mae')\n",
    "array2tiff(ndvi_ea_simplex_cr_pi18_ed6_anom_et_mae, ndvi_ea, EA_prediction_skill, 'ndvi_ea_simplex_cr_pi18_ed6_anom_et_mae')"
   ]
  },
  {
   "cell_type": "code",
   "execution_count": 126,
   "metadata": {},
   "outputs": [],
   "source": [
    "array2tiff(ndvi_ea_simplex_bo_pi18_ed6_anom_sm10_mae, ndvi_ea, EA_prediction_skill, 'ndvi_ea_simplex_bo_pi18_ed6_anom_sm10_mae')\n",
    "array2tiff(ndvi_ea_simplex_sh_pi18_ed6_anom_sm10_mae, ndvi_ea, EA_prediction_skill, 'ndvi_ea_simplex_sh_pi18_ed6_anom_sm10_mae')\n",
    "array2tiff(ndvi_ea_simplex_gr_pi18_ed6_anom_sm10_mae, ndvi_ea, EA_prediction_skill, 'ndvi_ea_simplex_gr_pi18_ed6_anom_sm10_mae')\n",
    "array2tiff(ndvi_ea_simplex_ci_pi18_ed6_anom_sm10_mae, ndvi_ea, EA_prediction_skill, 'ndvi_ea_simplex_ci_pi18_ed6_anom_sm10_mae')\n",
    "array2tiff(ndvi_ea_simplex_cr_pi18_ed6_anom_sm10_mae, ndvi_ea, EA_prediction_skill, 'ndvi_ea_simplex_cr_pi18_ed6_anom_sm10_mae')"
   ]
  },
  {
   "cell_type": "code",
   "execution_count": 127,
   "metadata": {},
   "outputs": [],
   "source": [
    "array2tiff(ndvi_ea_simplex_bo_pi18_ed6_anom_sm40_mae, ndvi_ea, EA_prediction_skill, 'ndvi_ea_simplex_bo_pi18_ed6_anom_sm40_mae')\n",
    "array2tiff(ndvi_ea_simplex_sh_pi18_ed6_anom_sm40_mae, ndvi_ea, EA_prediction_skill, 'ndvi_ea_simplex_sh_pi18_ed6_anom_sm40_mae')\n",
    "array2tiff(ndvi_ea_simplex_gr_pi18_ed6_anom_sm40_mae, ndvi_ea, EA_prediction_skill, 'ndvi_ea_simplex_gr_pi18_ed6_anom_sm40_mae')\n",
    "array2tiff(ndvi_ea_simplex_ci_pi18_ed6_anom_sm40_mae, ndvi_ea, EA_prediction_skill, 'ndvi_ea_simplex_ci_pi18_ed6_anom_sm40_mae')\n",
    "array2tiff(ndvi_ea_simplex_cr_pi18_ed6_anom_sm40_mae, ndvi_ea, EA_prediction_skill, 'ndvi_ea_simplex_cr_pi18_ed6_anom_sm40_mae')"
   ]
  },
  {
   "cell_type": "code",
   "execution_count": 128,
   "metadata": {},
   "outputs": [],
   "source": [
    "array2tiff(ndvi_ea_simplex_bo_pi18_ed6_anom_sm100_mae, ndvi_ea, EA_prediction_skill, 'ndvi_ea_simplex_bo_pi18_ed6_anom_sm100_mae')\n",
    "array2tiff(ndvi_ea_simplex_sh_pi18_ed6_anom_sm100_mae, ndvi_ea, EA_prediction_skill, 'ndvi_ea_simplex_sh_pi18_ed6_anom_sm100_mae')\n",
    "array2tiff(ndvi_ea_simplex_gr_pi18_ed6_anom_sm100_mae, ndvi_ea, EA_prediction_skill, 'ndvi_ea_simplex_gr_pi18_ed6_anom_sm100_mae')\n",
    "array2tiff(ndvi_ea_simplex_ci_pi18_ed6_anom_sm100_mae, ndvi_ea, EA_prediction_skill, 'ndvi_ea_simplex_ci_pi18_ed6_anom_sm100_mae')\n",
    "array2tiff(ndvi_ea_simplex_cr_pi18_ed6_anom_sm100_mae, ndvi_ea, EA_prediction_skill, 'ndvi_ea_simplex_cr_pi18_ed6_anom_sm100_mae')"
   ]
  },
  {
   "cell_type": "code",
   "execution_count": 129,
   "metadata": {},
   "outputs": [],
   "source": [
    "array2tiff(ndvi_ea_simplex_bo_pi18_ed6_anom_sm200_mae, ndvi_ea, EA_prediction_skill, 'ndvi_ea_simplex_bo_pi18_ed6_anom_sm200_mae')\n",
    "array2tiff(ndvi_ea_simplex_sh_pi18_ed6_anom_sm200_mae, ndvi_ea, EA_prediction_skill, 'ndvi_ea_simplex_sh_pi18_ed6_anom_sm200_mae')\n",
    "array2tiff(ndvi_ea_simplex_gr_pi18_ed6_anom_sm200_mae, ndvi_ea, EA_prediction_skill, 'ndvi_ea_simplex_gr_pi18_ed6_anom_sm200_mae')\n",
    "array2tiff(ndvi_ea_simplex_ci_pi18_ed6_anom_sm200_mae, ndvi_ea, EA_prediction_skill, 'ndvi_ea_simplex_ci_pi18_ed6_anom_sm200_mae')\n",
    "array2tiff(ndvi_ea_simplex_cr_pi18_ed6_anom_sm200_mae, ndvi_ea, EA_prediction_skill, 'ndvi_ea_simplex_cr_pi18_ed6_anom_sm200_mae')"
   ]
  },
  {
   "cell_type": "code",
   "execution_count": 32,
   "metadata": {},
   "outputs": [],
   "source": [
    "array2tiff(ndvi_ea_simplex_pi18_ed6_anom_sm10et_rho, ndvi_ea, EA_prediction_skill, 'ndvi_ea_simplex_pi18_ed6_anom_sm10et_rho')\n",
    "array2tiff(ndvi_ea_simplex_pi18_ed6_anom_sm40et_rho, ndvi_ea, EA_prediction_skill, 'ndvi_ea_simplex_pi18_ed6_anom_sm40et_rho')\n",
    "array2tiff(ndvi_ea_simplex_pi18_ed6_anom_sm100et_rho, ndvi_ea, EA_prediction_skill, 'ndvi_ea_simplex_pi18_ed6_anom_sm100et_rho')\n",
    "array2tiff(ndvi_ea_simplex_pi18_ed6_anom_sm200et_rho, ndvi_ea, EA_prediction_skill, 'ndvi_ea_simplex_pi18_ed6_anom_sm200et_rho')"
   ]
  },
  {
   "cell_type": "code",
   "execution_count": 37,
   "metadata": {},
   "outputs": [],
   "source": [
    "array2tiff(ndvi_ea_simplex_pi18_ed6_anom_sm10_rho, ndvi_ea, EA_prediction_skill, 'ndvi_ea_simplex_pi18_ed6_anom_sm10_rho')\n",
    "array2tiff(ndvi_ea_simplex_pi18_ed6_anom_sm40_rho, ndvi_ea, EA_prediction_skill, 'ndvi_ea_simplex_pi18_ed6_anom_sm40_rho')\n",
    "array2tiff(ndvi_ea_simplex_pi18_ed6_anom_sm100_rho, ndvi_ea, EA_prediction_skill, 'ndvi_ea_simplex_pi18_ed6_anom_sm100_rho')\n",
    "array2tiff(ndvi_ea_simplex_pi18_ed6_anom_sm200_rho, ndvi_ea, EA_prediction_skill, 'ndvi_ea_simplex_pi18_ed6_anom_sm200_rho')\n",
    "\n",
    "array2tiff(ndvi_ea_simplex_pi18_ed6_anom_et_rho, ndvi_ea, EA_prediction_skill, 'ndvi_ea_simplex_pi18_ed6_anom_et_rho')\n"
   ]
  },
  {
   "cell_type": "code",
   "execution_count": 38,
   "metadata": {},
   "outputs": [],
   "source": [
    "array2tiff(ndvi_ea_simplex_pi18_ed6_anom_sm10_mae, ndvi_ea, EA_prediction_skill, 'ndvi_ea_simplex_pi18_ed6_anom_sm10_mae')\n",
    "array2tiff(ndvi_ea_simplex_pi18_ed6_anom_sm40_mae, ndvi_ea, EA_prediction_skill, 'ndvi_ea_simplex_pi18_ed6_anom_sm40_mae')\n",
    "array2tiff(ndvi_ea_simplex_pi18_ed6_anom_sm100_mae, ndvi_ea, EA_prediction_skill, 'ndvi_ea_simplex_pi18_ed6_anom_sm100_mae')\n",
    "array2tiff(ndvi_ea_simplex_pi18_ed6_anom_sm200_mae, ndvi_ea, EA_prediction_skill, 'ndvi_ea_simplex_pi18_ed6_anom_sm200_mae')\n",
    "\n",
    "array2tiff(ndvi_ea_simplex_pi18_ed6_anom_et_mae, ndvi_ea, EA_prediction_skill, 'ndvi_ea_simplex_pi18_ed6_anom_et_mae')\n"
   ]
  },
  {
   "cell_type": "code",
   "execution_count": 39,
   "metadata": {},
   "outputs": [],
   "source": [
    "array2tiff(ndvi_ea_simplex_pi18_ed6_anom_sm10_nse, ndvi_ea, EA_prediction_skill, 'ndvi_ea_simplex_pi18_ed6_anom_sm10_nse')\n",
    "array2tiff(ndvi_ea_simplex_pi18_ed6_anom_sm40_nse, ndvi_ea, EA_prediction_skill, 'ndvi_ea_simplex_pi18_ed6_anom_sm40_nse')\n",
    "array2tiff(ndvi_ea_simplex_pi18_ed6_anom_sm100_nse, ndvi_ea, EA_prediction_skill, 'ndvi_ea_simplex_pi18_ed6_anom_sm100_nse')\n",
    "array2tiff(ndvi_ea_simplex_pi18_ed6_anom_sm200_nse, ndvi_ea, EA_prediction_skill, 'ndvi_ea_simplex_pi18_ed6_anom_sm200_nse')\n",
    "\n",
    "array2tiff(ndvi_ea_simplex_pi18_ed6_anom_et_nse, ndvi_ea, EA_prediction_skill, 'ndvi_ea_simplex_pi18_ed6_anom_et_nse')\n"
   ]
  },
  {
   "cell_type": "markdown",
   "metadata": {},
   "source": [
    "# Clip Rasters to EA boundary"
   ]
  },
  {
   "cell_type": "code",
   "execution_count": 479,
   "metadata": {
    "colab": {},
    "colab_type": "code",
    "id": "zwrF8Fo2a3Ex"
   },
   "outputs": [],
   "source": [
    "def mask_raster_shp(shp, raster, out_name, in_dir, out_dir):\n",
    "    \n",
    "    '''\n",
    "    This function masks a raster to the shape of a smaller shapefile and creates a new raster\n",
    "    \n",
    "    '''\n",
    "    with fiona.open(shp, \"r\") as shapefile:\n",
    "        shapes = [feature[\"geometry\"] for feature in shapefile]\n",
    "    with rasterio.open(in_dir + raster) as src:\n",
    "        out_image, out_transform = rasterio.mask.mask(src, shapes, nodata = 0, crop=True)\n",
    "        out_meta = src.meta\n",
    "\n",
    "    out_meta.update({\"driver\": \"GTiff\",\n",
    "                     \"height\": out_image.shape[1],\n",
    "                     \"width\": out_image.shape[2],\n",
    "                     \"transform\": out_transform})\n",
    "\n",
    "    with rasterio.open(out_dir + out_name, \"w\", **out_meta) as dest:\n",
    "          \n",
    "        dest.write(out_image)"
   ]
  },
  {
   "cell_type": "code",
   "execution_count": null,
   "metadata": {
    "colab": {},
    "colab_type": "code",
    "id": "gMyReYDoa3Ey"
   },
   "outputs": [],
   "source": [
    "#mask_raster_shp(ea_adminbds, 'ndvi_ea_simplex_uni.tif', 'ndvi_eastafrica_simplex_uni.tif', Africa_simplex, Africa_simplex)\n",
    "\n",
    "#mask_raster_shp(ea_adminbds, 'ndvi_ea_simplex_multi.tif', 'ndvi_eastafrica_simplex_multi.tif', Africa_simplex, Africa_simplex)"
   ]
  }
 ],
 "metadata": {
  "colab": {
   "collapsed_sections": [],
   "include_colab_link": true,
   "name": "growing_season_forecast.ipynb",
   "provenance": []
  },
  "kernelspec": {
   "display_name": "Python [conda env:edm]",
   "language": "python",
   "name": "conda-env-edm-py"
  },
  "language_info": {
   "codemirror_mode": {
    "name": "ipython",
    "version": 3
   },
   "file_extension": ".py",
   "mimetype": "text/x-python",
   "name": "python",
   "nbconvert_exporter": "python",
   "pygments_lexer": "ipython3",
   "version": "3.7.3"
  }
 },
 "nbformat": 4,
 "nbformat_minor": 4
}
