{
 "cells": [
  {
   "cell_type": "code",
   "execution_count": 3,
   "metadata": {},
   "outputs": [],
   "source": [
    "import pandas as pd\n",
    "import numpy as np\n",
    "import matplotlib as mpl\n",
    "import os\n",
    "import itertools\n",
    "import rasterio\n",
    "from matplotlib import pyplot as plt\n",
    "import geopandas as gpd\n",
    "from rasterstats import zonal_stats\n",
    "from tqdm import tqdm\n",
    "import xarray as xr\n",
    "from rasterstats import zonal_stats\n"
   ]
  },
  {
   "cell_type": "code",
   "execution_count": 4,
   "metadata": {},
   "outputs": [],
   "source": [
    "PRECIP_EA = '/home/rgreen/tana-spin/rgreen/DroughtEDM/Data/CHIRPS/EA/'\n",
    "PRECIP_MONTHLY = '/home/rgreen/tana-spin/rgreen/DroughtEDM/Data/CHIRPS/Monthly/'\n",
    "PRECIP_SEASONAL = '/home/rgreen/tana-spin/rgreen/DroughtEDM/Data/CHIRPS/Seasonal/'\n",
    "PRECIP_SEASONAL_CROP_RAIN = '/home/rgreen/tana-spin/rgreen/DroughtEDM/Data/CHIRPS/Seasonal_Crop_Rain/'"
   ]
  },
  {
   "cell_type": "code",
   "execution_count": 5,
   "metadata": {},
   "outputs": [],
   "source": [
    "crop_rain_mask = '/home/rgreen/tana-spin/rgreen/DroughtEDM/Data/ESACCI_2016/crop_rain_mask/EA_ESACCI_LC_2016_005_10.tif'"
   ]
  },
  {
   "cell_type": "code",
   "execution_count": 6,
   "metadata": {},
   "outputs": [],
   "source": [
    "def read_file(file):\n",
    "    with rasterio.open(file) as src:\n",
    "        return(src.read())"
   ]
  },
  {
   "cell_type": "code",
   "execution_count": 7,
   "metadata": {},
   "outputs": [],
   "source": [
    "def grouper(n, iterable, fillvalue=None):\n",
    "    \"grouper(3, 'ABCDEFG', 'x') --> ABC DEF Gxx\"\n",
    "    args = [iter(iterable)] * n\n",
    "    return itertools.zip_longest(*args, fillvalue=fillvalue)"
   ]
  },
  {
   "cell_type": "code",
   "execution_count": 167,
   "metadata": {},
   "outputs": [],
   "source": [
    "def monthly_sum(in_dir, out_dir, var):\n",
    "      \n",
    "    files=np.array(sorted(os.listdir(in_dir)))\n",
    "    tifs = pd.Series(files).str.contains('.tif')\n",
    "    files = files[tifs]\n",
    "    \n",
    "    grouped = grouper(3, files)\n",
    "    \n",
    "    for group in grouped:\n",
    "        month = group[0][24:31]\n",
    "        print(month)\n",
    "        \n",
    "        \n",
    "        file1 = read_file(in_dir+group[0])\n",
    "        \n",
    "        file2 = read_file(in_dir+group[1])\n",
    "        \n",
    "        file3 = read_file(in_dir+group[2])\n",
    "        \n",
    "        monthly_mean = np.sum([file1, file2, file3], axis=0)\n",
    "       \n",
    "      #  plt.imshow(monthly_mean[0])\n",
    "        \n",
    "        \n",
    "        with rasterio.open(in_dir + group[0]) as src:\n",
    "            meta = src.meta\n",
    "\n",
    "#         meta.update(dtype=rasterio.float64)\n",
    "        \n",
    "\n",
    "        # Write output file\n",
    "        with rasterio.open(out_dir + var + '_' + month + '.tif', 'w', **meta) as dst:\n",
    "            dst.write(monthly_mean)\n",
    "                  "
   ]
  },
  {
   "cell_type": "code",
   "execution_count": 168,
   "metadata": {},
   "outputs": [
    {
     "name": "stdout",
     "output_type": "stream",
     "text": [
      "2002.07\n",
      "2002.08\n",
      "2002.09\n",
      "2002.10\n",
      "2002.11\n",
      "2002.12\n",
      "2003.01\n",
      "2003.02\n",
      "2003.03\n",
      "2003.04\n",
      "2003.05\n",
      "2003.06\n",
      "2003.07\n",
      "2003.08\n",
      "2003.09\n",
      "2003.10\n",
      "2003.11\n",
      "2003.12\n",
      "2004.01\n",
      "2004.02\n",
      "2004.03\n",
      "2004.04\n",
      "2004.05\n",
      "2004.06\n",
      "2004.07\n",
      "2004.08\n",
      "2004.09\n",
      "2004.10\n",
      "2004.11\n",
      "2004.12\n",
      "2005.01\n",
      "2005.02\n",
      "2005.03\n",
      "2005.04\n",
      "2005.05\n",
      "2005.06\n",
      "2005.07\n",
      "2005.08\n",
      "2005.09\n",
      "2005.10\n",
      "2005.11\n",
      "2005.12\n",
      "2006.01\n",
      "2006.02\n",
      "2006.03\n",
      "2006.04\n",
      "2006.05\n",
      "2006.06\n",
      "2006.07\n",
      "2006.08\n",
      "2006.09\n",
      "2006.10\n",
      "2006.11\n",
      "2006.12\n",
      "2007.01\n",
      "2007.02\n",
      "2007.03\n",
      "2007.04\n",
      "2007.05\n",
      "2007.06\n",
      "2007.07\n",
      "2007.08\n",
      "2007.09\n",
      "2007.10\n",
      "2007.11\n",
      "2007.12\n",
      "2008.01\n",
      "2008.02\n",
      "2008.03\n",
      "2008.04\n",
      "2008.05\n",
      "2008.06\n",
      "2008.07\n",
      "2008.08\n",
      "2008.09\n",
      "2008.10\n",
      "2008.11\n",
      "2008.12\n",
      "2009.01\n",
      "2009.02\n",
      "2009.03\n",
      "2009.04\n",
      "2009.05\n",
      "2009.06\n",
      "2009.07\n",
      "2009.08\n",
      "2009.09\n",
      "2009.10\n",
      "2009.11\n",
      "2009.12\n",
      "2010.01\n",
      "2010.02\n",
      "2010.03\n",
      "2010.04\n",
      "2010.05\n",
      "2010.06\n",
      "2010.07\n",
      "2010.08\n",
      "2010.09\n",
      "2010.10\n",
      "2010.11\n",
      "2010.12\n",
      "2011.01\n",
      "2011.02\n",
      "2011.03\n",
      "2011.04\n",
      "2011.05\n",
      "2011.06\n",
      "2011.07\n",
      "2011.08\n",
      "2011.09\n",
      "2011.10\n",
      "2011.11\n",
      "2011.12\n",
      "2012.01\n",
      "2012.02\n",
      "2012.03\n",
      "2012.04\n",
      "2012.05\n",
      "2012.06\n",
      "2012.07\n",
      "2012.08\n",
      "2012.09\n",
      "2012.10\n",
      "2012.11\n",
      "2012.12\n",
      "2013.01\n",
      "2013.02\n",
      "2013.03\n",
      "2013.04\n",
      "2013.05\n",
      "2013.06\n",
      "2013.07\n",
      "2013.08\n",
      "2013.09\n",
      "2013.10\n",
      "2013.11\n",
      "2013.12\n",
      "2014.01\n",
      "2014.02\n",
      "2014.03\n",
      "2014.04\n",
      "2014.05\n",
      "2014.06\n",
      "2014.07\n",
      "2014.08\n",
      "2014.09\n",
      "2014.10\n",
      "2014.11\n",
      "2014.12\n",
      "2015.01\n",
      "2015.02\n",
      "2015.03\n",
      "2015.04\n",
      "2015.05\n",
      "2015.06\n",
      "2015.07\n",
      "2015.08\n",
      "2015.09\n",
      "2015.10\n",
      "2015.11\n",
      "2015.12\n",
      "2016.01\n",
      "2016.02\n",
      "2016.03\n",
      "2016.04\n",
      "2016.05\n",
      "2016.06\n",
      "2016.07\n",
      "2016.08\n",
      "2016.09\n",
      "2016.10\n",
      "2016.11\n",
      "2016.12\n",
      "2017.01\n",
      "2017.02\n",
      "2017.03\n",
      "2017.04\n",
      "2017.05\n",
      "2017.06\n",
      "2017.07\n",
      "2017.08\n",
      "2017.09\n",
      "2017.10\n",
      "2017.11\n",
      "2017.12\n",
      "2018.01\n",
      "2018.02\n",
      "2018.03\n",
      "2018.04\n",
      "2018.05\n",
      "2018.06\n",
      "2018.07\n",
      "2018.08\n",
      "2018.09\n",
      "2018.10\n",
      "2018.11\n",
      "2018.12\n",
      "2019.01\n",
      "2019.02\n",
      "2019.03\n",
      "2019.04\n"
     ]
    }
   ],
   "source": [
    "monthly_sum(PRECIP_EA, PRECIP_MONTHLY, 'precip')"
   ]
  },
  {
   "cell_type": "code",
   "execution_count": 170,
   "metadata": {},
   "outputs": [],
   "source": [
    "def seasonal_sum(in_dir, out_dir, var, year, months, month_code, orig_dir):\n",
    "    files=np.array(sorted(os.listdir(in_dir)))\n",
    "    yeartifs =  pd.Series(files).str.contains(year)\n",
    "    yearfiles = files[yeartifs]\n",
    "    monthtifs = pd.Series(yearfiles).str.contains(months)\n",
    "    monthfiles = yearfiles[monthtifs]\n",
    "    #print(monthfiles)\n",
    "    \n",
    "    ofiles = np.array(sorted(os.listdir(orig_dir)))\n",
    "    origtifs = pd.Series(ofiles).str.contains('.tif')\n",
    "    origfiles = ofiles[origtifs]\n",
    "    \n",
    "    \n",
    "    file1 = read_file(in_dir+monthfiles[0])\n",
    "    #file1rs = (file1-100)/100\n",
    "    file2 = read_file(in_dir+monthfiles[1])\n",
    "    #file2rs = (file2-100)/100\n",
    "    file3 = read_file(in_dir+monthfiles[2])\n",
    "    #file3rs = (file3-100)/100\n",
    "    \n",
    "    \n",
    "    seasonal_mean = np.sum([file1, file2, file3], axis=0)\n",
    "   #seasonal_mean[seasonal_mean == 1.53] = np.nan\n",
    "\n",
    "    #print(seasonal_mean)\n",
    "    \n",
    "    with rasterio.open(orig_dir + origfiles[0]) as src:\n",
    "        meta = src.meta\n",
    "        \n",
    "        meta.update(dtype=rasterio.float32)\n",
    "        \n",
    "\n",
    "         # Write output file\n",
    "    with rasterio.open(out_dir + var + '_' + month_code + '_' + year + '.tif', 'w', **meta) as dst:\n",
    "        \n",
    "        \n",
    "        dst.write(seasonal_mean)\n",
    "                  \n",
    "    \n",
    "   "
   ]
  },
  {
   "cell_type": "code",
   "execution_count": 171,
   "metadata": {},
   "outputs": [],
   "source": [
    "ond_2003 = seasonal_sum(PRECIP_MONTHLY, PRECIP_SEASONAL, 'ndvi','2003', '10|11|12', 'ond', PRECIP_EA)\n",
    "ond_2004 = seasonal_sum(PRECIP_MONTHLY, PRECIP_SEASONAL, 'ndvi','2004', '10|11|12', 'ond', PRECIP_EA)\n",
    "ond_2005 = seasonal_sum(PRECIP_MONTHLY, PRECIP_SEASONAL, 'ndvi','2005', '10|11|12', 'ond', PRECIP_EA)\n",
    "ond_2006 = seasonal_sum(PRECIP_MONTHLY, PRECIP_SEASONAL, 'ndvi','2006', '10|11|12', 'ond', PRECIP_EA)\n",
    "ond_2007 = seasonal_sum(PRECIP_MONTHLY, PRECIP_SEASONAL, 'ndvi','2007', '10|11|12', 'ond', PRECIP_EA)\n",
    "ond_2008 = seasonal_sum(PRECIP_MONTHLY, PRECIP_SEASONAL, 'ndvi','2008', '10|11|12', 'ond', PRECIP_EA)\n",
    "ond_2009 = seasonal_sum(PRECIP_MONTHLY, PRECIP_SEASONAL, 'ndvi','2009', '10|11|12', 'ond', PRECIP_EA)\n",
    "ond_2010 = seasonal_sum(PRECIP_MONTHLY, PRECIP_SEASONAL, 'ndvi','2010', '10|11|12', 'ond', PRECIP_EA)\n",
    "ond_2011 = seasonal_sum(PRECIP_MONTHLY, PRECIP_SEASONAL, 'ndvi','2011', '10|11|12', 'ond', PRECIP_EA)\n",
    "ond_2012 = seasonal_sum(PRECIP_MONTHLY, PRECIP_SEASONAL, 'ndvi','2012', '10|11|12', 'ond', PRECIP_EA)\n",
    "ond_2013 = seasonal_sum(PRECIP_MONTHLY, PRECIP_SEASONAL, 'ndvi','2013', '10|11|12', 'ond', PRECIP_EA)\n",
    "ond_2014 = seasonal_sum(PRECIP_MONTHLY, PRECIP_SEASONAL, 'ndvi','2014', '10|11|12', 'ond', PRECIP_EA)\n",
    "ond_2015 = seasonal_sum(PRECIP_MONTHLY, PRECIP_SEASONAL, 'ndvi','2015', '10|11|12', 'ond', PRECIP_EA)\n",
    "ond_2016 = seasonal_sum(PRECIP_MONTHLY, PRECIP_SEASONAL, 'ndvi','2016', '10|11|12', 'ond', PRECIP_EA)\n",
    "ond_2017 = seasonal_sum(PRECIP_MONTHLY, PRECIP_SEASONAL, 'ndvi','2017', '10|11|12', 'ond', PRECIP_EA)\n",
    "ond_2018 = seasonal_sum(PRECIP_MONTHLY, PRECIP_SEASONAL, 'ndvi','2018', '10|11|12', 'ond', PRECIP_EA)\n"
   ]
  },
  {
   "cell_type": "code",
   "execution_count": 24,
   "metadata": {},
   "outputs": [],
   "source": [
    "def rastercalc_lcmask(lc_mask, seasonal_dir, out_dir, lc):\n",
    "    \n",
    "    lc2016_mask = rasterio.open(lc_mask)\n",
    "    seasonal_means = np.array(sorted(os.listdir(seasonal_dir)))\n",
    "    tifs = pd.Series(seasonal_means).str.contains('.tif')\n",
    "    files = seasonal_means[tifs]\n",
    "    \n",
    "    mean_smean_list = []\n",
    "    \n",
    "    for filename in files:\n",
    "            ea_seasonal_mean = rasterio.open(seasonal_dir + filename)\n",
    "            meta = ea_seasonal_mean.meta\n",
    "            smean_lcmask = ea_seasonal_mean.read(1)*lc2016_mask.read(1)\n",
    "            smean_lcmask_infmask = smean_lcmask[smean_lcmask != float('-inf')| float('inf')]\n",
    "            mean_smean = smean_lcmask_infmask[np.isfinite(smean_lcmask_infmask)].mean()\n",
    "            mean_smean_list.append(mean_smean)\n",
    "            \n",
    "    return mean_smean_list\n",
    "#             with rasterio.open(out_dir + lc + filename, 'w', **meta) as dst: #change name depending on variable\n",
    "#                     dst.write(smean_lcmask, 1)\n",
    "#                     print(filename)"
   ]
  },
  {
   "cell_type": "code",
   "execution_count": 173,
   "metadata": {},
   "outputs": [],
   "source": [
    "mean_smean = rastercalc_lcmask(crop_rain_mask, PRECIP_SEASONAL, PRECIP_SEASONAL_CROP_RAIN, 'cr_')"
   ]
  },
  {
   "cell_type": "code",
   "execution_count": 174,
   "metadata": {},
   "outputs": [
    {
     "data": {
      "text/plain": [
       "16"
      ]
     },
     "execution_count": 174,
     "metadata": {},
     "output_type": "execute_result"
    }
   ],
   "source": [
    "len(mean_smean)"
   ]
  },
  {
   "cell_type": "code",
   "execution_count": 175,
   "metadata": {},
   "outputs": [],
   "source": [
    "data = {'Year': list(range(2003, 2019)), 'AvgRainfall': mean_smean}"
   ]
  },
  {
   "cell_type": "code",
   "execution_count": 176,
   "metadata": {},
   "outputs": [
    {
     "data": {
      "text/html": [
       "<div>\n",
       "<style scoped>\n",
       "    .dataframe tbody tr th:only-of-type {\n",
       "        vertical-align: middle;\n",
       "    }\n",
       "\n",
       "    .dataframe tbody tr th {\n",
       "        vertical-align: top;\n",
       "    }\n",
       "\n",
       "    .dataframe thead th {\n",
       "        text-align: right;\n",
       "    }\n",
       "</style>\n",
       "<table border=\"1\" class=\"dataframe\">\n",
       "  <thead>\n",
       "    <tr style=\"text-align: right;\">\n",
       "      <th></th>\n",
       "      <th>Year</th>\n",
       "      <th>AvgRainfall</th>\n",
       "    </tr>\n",
       "  </thead>\n",
       "  <tbody>\n",
       "    <tr>\n",
       "      <td>0</td>\n",
       "      <td>2003</td>\n",
       "      <td>150.849289</td>\n",
       "    </tr>\n",
       "    <tr>\n",
       "      <td>1</td>\n",
       "      <td>2004</td>\n",
       "      <td>184.957932</td>\n",
       "    </tr>\n",
       "    <tr>\n",
       "      <td>2</td>\n",
       "      <td>2005</td>\n",
       "      <td>116.423073</td>\n",
       "    </tr>\n",
       "    <tr>\n",
       "      <td>3</td>\n",
       "      <td>2006</td>\n",
       "      <td>257.101654</td>\n",
       "    </tr>\n",
       "    <tr>\n",
       "      <td>4</td>\n",
       "      <td>2007</td>\n",
       "      <td>144.367752</td>\n",
       "    </tr>\n",
       "    <tr>\n",
       "      <td>5</td>\n",
       "      <td>2008</td>\n",
       "      <td>154.517380</td>\n",
       "    </tr>\n",
       "    <tr>\n",
       "      <td>6</td>\n",
       "      <td>2009</td>\n",
       "      <td>191.118576</td>\n",
       "    </tr>\n",
       "    <tr>\n",
       "      <td>7</td>\n",
       "      <td>2010</td>\n",
       "      <td>177.094925</td>\n",
       "    </tr>\n",
       "    <tr>\n",
       "      <td>8</td>\n",
       "      <td>2011</td>\n",
       "      <td>123.713631</td>\n",
       "    </tr>\n",
       "    <tr>\n",
       "      <td>9</td>\n",
       "      <td>2012</td>\n",
       "      <td>95.961723</td>\n",
       "    </tr>\n",
       "    <tr>\n",
       "      <td>10</td>\n",
       "      <td>2013</td>\n",
       "      <td>175.998779</td>\n",
       "    </tr>\n",
       "    <tr>\n",
       "      <td>11</td>\n",
       "      <td>2014</td>\n",
       "      <td>181.794937</td>\n",
       "    </tr>\n",
       "    <tr>\n",
       "      <td>12</td>\n",
       "      <td>2015</td>\n",
       "      <td>223.596802</td>\n",
       "    </tr>\n",
       "    <tr>\n",
       "      <td>13</td>\n",
       "      <td>2016</td>\n",
       "      <td>15.982670</td>\n",
       "    </tr>\n",
       "    <tr>\n",
       "      <td>14</td>\n",
       "      <td>2017</td>\n",
       "      <td>162.416626</td>\n",
       "    </tr>\n",
       "    <tr>\n",
       "      <td>15</td>\n",
       "      <td>2018</td>\n",
       "      <td>189.013794</td>\n",
       "    </tr>\n",
       "  </tbody>\n",
       "</table>\n",
       "</div>"
      ],
      "text/plain": [
       "    Year  AvgRainfall\n",
       "0   2003   150.849289\n",
       "1   2004   184.957932\n",
       "2   2005   116.423073\n",
       "3   2006   257.101654\n",
       "4   2007   144.367752\n",
       "5   2008   154.517380\n",
       "6   2009   191.118576\n",
       "7   2010   177.094925\n",
       "8   2011   123.713631\n",
       "9   2012    95.961723\n",
       "10  2013   175.998779\n",
       "11  2014   181.794937\n",
       "12  2015   223.596802\n",
       "13  2016    15.982670\n",
       "14  2017   162.416626\n",
       "15  2018   189.013794"
      ]
     },
     "execution_count": 176,
     "metadata": {},
     "output_type": "execute_result"
    }
   ],
   "source": [
    "pd.DataFrame(data, columns=['Year', 'AvgRainfall'])"
   ]
  },
  {
   "cell_type": "code",
   "execution_count": null,
   "metadata": {},
   "outputs": [],
   "source": []
  },
  {
   "cell_type": "code",
   "execution_count": 27,
   "metadata": {},
   "outputs": [],
   "source": [
    "def simplex_mean(in_dir):\n",
    "    \n",
    "    \n",
    "    simplex_rasters = np.array(sorted(os.listdir(in_dir)))\n",
    "    tifs = pd.Series(simplex_rasters).str.contains('.tif')\n",
    "    files = simplex_rasters[tifs]\n",
    "    \n",
    "    mean_simplex = []\n",
    "    \n",
    "    for filename in files:\n",
    "            simplex_raster = rasterio.open(in_dir + filename)\n",
    "            read_raster = simplex_raster.read(1)\n",
    "            \n",
    "            #smean_lcmask_infmask = smean_lcmask[smean_lcmask != float('-inf')| float('inf')]\n",
    "            mean_raster = read_raster[np.isfinite(read_raster)].mean()\n",
    "            #mean_raster = np.nanmean(read_raster)\n",
    "            mean_simplex.append(mean_raster)\n",
    "            \n",
    "    return mean_simplex\n"
   ]
  },
  {
   "cell_type": "code",
   "execution_count": 178,
   "metadata": {},
   "outputs": [],
   "source": [
    "mean_simplex_out_cr_ond = simplex_mean('/home/rgreen/DroughtEDM/Data/Seasonal_Simplex/ndvi_ea_simplex_ond_cr_years/')\n",
    "mean_simplex_out_cr_mam = simplex_mean('/home/rgreen/DroughtEDM/Data/Seasonal_Simplex/ndvi_ea_simplex_mam_cr_years/')"
   ]
  },
  {
   "cell_type": "code",
   "execution_count": 179,
   "metadata": {},
   "outputs": [],
   "source": [
    "data_cr_ond = {'Year': list(range(2003, 2019)), 'AvgRainfall': mean_smean, 'AvgSimplex': mean_simplex_out_cr_ond}\n",
    "data_cr_mam = {'Year': list(range(2003, 2019)), 'AvgRainfall': mean_smean, 'AvgSimplex': mean_simplex_out_cr_mam}"
   ]
  },
  {
   "cell_type": "code",
   "execution_count": 180,
   "metadata": {},
   "outputs": [],
   "source": [
    "prediction_skill_rainfall_cr_ond = pd.DataFrame(data_cr_ond, columns=['Year', 'AvgRainfall', 'AvgSimplex'])\n",
    "prediction_skill_rainfall_cr_mam = pd.DataFrame(data_cr_mam, columns=['Year', 'AvgRainfall', 'AvgSimplex'])"
   ]
  },
  {
   "cell_type": "code",
   "execution_count": 181,
   "metadata": {},
   "outputs": [
    {
     "data": {
      "text/html": [
       "<div>\n",
       "<style scoped>\n",
       "    .dataframe tbody tr th:only-of-type {\n",
       "        vertical-align: middle;\n",
       "    }\n",
       "\n",
       "    .dataframe tbody tr th {\n",
       "        vertical-align: top;\n",
       "    }\n",
       "\n",
       "    .dataframe thead th {\n",
       "        text-align: right;\n",
       "    }\n",
       "</style>\n",
       "<table border=\"1\" class=\"dataframe\">\n",
       "  <thead>\n",
       "    <tr style=\"text-align: right;\">\n",
       "      <th></th>\n",
       "      <th>Year</th>\n",
       "      <th>AvgRainfall</th>\n",
       "      <th>AvgSimplex</th>\n",
       "    </tr>\n",
       "  </thead>\n",
       "  <tbody>\n",
       "    <tr>\n",
       "      <td>0</td>\n",
       "      <td>2003</td>\n",
       "      <td>150.849289</td>\n",
       "      <td>0.557472</td>\n",
       "    </tr>\n",
       "    <tr>\n",
       "      <td>1</td>\n",
       "      <td>2004</td>\n",
       "      <td>184.957932</td>\n",
       "      <td>0.520464</td>\n",
       "    </tr>\n",
       "    <tr>\n",
       "      <td>2</td>\n",
       "      <td>2005</td>\n",
       "      <td>116.423073</td>\n",
       "      <td>0.493104</td>\n",
       "    </tr>\n",
       "    <tr>\n",
       "      <td>3</td>\n",
       "      <td>2006</td>\n",
       "      <td>257.101654</td>\n",
       "      <td>0.539310</td>\n",
       "    </tr>\n",
       "    <tr>\n",
       "      <td>4</td>\n",
       "      <td>2007</td>\n",
       "      <td>144.367752</td>\n",
       "      <td>0.572247</td>\n",
       "    </tr>\n",
       "    <tr>\n",
       "      <td>5</td>\n",
       "      <td>2008</td>\n",
       "      <td>154.517380</td>\n",
       "      <td>0.487174</td>\n",
       "    </tr>\n",
       "    <tr>\n",
       "      <td>6</td>\n",
       "      <td>2009</td>\n",
       "      <td>191.118576</td>\n",
       "      <td>0.472723</td>\n",
       "    </tr>\n",
       "    <tr>\n",
       "      <td>7</td>\n",
       "      <td>2010</td>\n",
       "      <td>177.094925</td>\n",
       "      <td>0.543306</td>\n",
       "    </tr>\n",
       "    <tr>\n",
       "      <td>8</td>\n",
       "      <td>2011</td>\n",
       "      <td>123.713631</td>\n",
       "      <td>0.605735</td>\n",
       "    </tr>\n",
       "    <tr>\n",
       "      <td>9</td>\n",
       "      <td>2012</td>\n",
       "      <td>95.961723</td>\n",
       "      <td>0.601914</td>\n",
       "    </tr>\n",
       "    <tr>\n",
       "      <td>10</td>\n",
       "      <td>2013</td>\n",
       "      <td>175.998779</td>\n",
       "      <td>0.574965</td>\n",
       "    </tr>\n",
       "    <tr>\n",
       "      <td>11</td>\n",
       "      <td>2014</td>\n",
       "      <td>181.794937</td>\n",
       "      <td>0.510575</td>\n",
       "    </tr>\n",
       "    <tr>\n",
       "      <td>12</td>\n",
       "      <td>2015</td>\n",
       "      <td>223.596802</td>\n",
       "      <td>0.541136</td>\n",
       "    </tr>\n",
       "    <tr>\n",
       "      <td>13</td>\n",
       "      <td>2016</td>\n",
       "      <td>15.982670</td>\n",
       "      <td>0.580570</td>\n",
       "    </tr>\n",
       "    <tr>\n",
       "      <td>14</td>\n",
       "      <td>2017</td>\n",
       "      <td>162.416626</td>\n",
       "      <td>0.576169</td>\n",
       "    </tr>\n",
       "    <tr>\n",
       "      <td>15</td>\n",
       "      <td>2018</td>\n",
       "      <td>189.013794</td>\n",
       "      <td>0.578409</td>\n",
       "    </tr>\n",
       "  </tbody>\n",
       "</table>\n",
       "</div>"
      ],
      "text/plain": [
       "    Year  AvgRainfall  AvgSimplex\n",
       "0   2003   150.849289    0.557472\n",
       "1   2004   184.957932    0.520464\n",
       "2   2005   116.423073    0.493104\n",
       "3   2006   257.101654    0.539310\n",
       "4   2007   144.367752    0.572247\n",
       "5   2008   154.517380    0.487174\n",
       "6   2009   191.118576    0.472723\n",
       "7   2010   177.094925    0.543306\n",
       "8   2011   123.713631    0.605735\n",
       "9   2012    95.961723    0.601914\n",
       "10  2013   175.998779    0.574965\n",
       "11  2014   181.794937    0.510575\n",
       "12  2015   223.596802    0.541136\n",
       "13  2016    15.982670    0.580570\n",
       "14  2017   162.416626    0.576169\n",
       "15  2018   189.013794    0.578409"
      ]
     },
     "execution_count": 181,
     "metadata": {},
     "output_type": "execute_result"
    }
   ],
   "source": [
    "prediction_skill_rainfall_cr_ond"
   ]
  },
  {
   "cell_type": "code",
   "execution_count": 193,
   "metadata": {},
   "outputs": [
    {
     "data": {
      "text/plain": [
       "Text(0, 0.5, 'Avg Seasonal Prediction Skill OND')"
      ]
     },
     "execution_count": 193,
     "metadata": {},
     "output_type": "execute_result"
    },
    {
     "data": {
      "image/png": "[encoded data removed]",
      "text/plain": [
       "<Figure size 432x288 with 1 Axes>"
      ]
     },
     "metadata": {
      "needs_background": "light"
     },
     "output_type": "display_data"
    }
   ],
   "source": [
    "fig = plt.figure()\n",
    "plt.ylim(0,1)\n",
    "plt.scatter(prediction_skill_rainfall_cr_ond.AvgRainfall, prediction_skill_rainfall_cr_ond.AvgSimplex)\n",
    "plt.xlabel('Seasonal Rainfall OND')\n",
    "plt.ylabel('Avg Seasonal Prediction Skill OND')"
   ]
  },
  {
   "cell_type": "code",
   "execution_count": 194,
   "metadata": {},
   "outputs": [
    {
     "data": {
      "text/plain": [
       "Text(0, 0.5, 'Avg Seasonal Prediction Skill MAM')"
      ]
     },
     "execution_count": 194,
     "metadata": {},
     "output_type": "execute_result"
    },
    {
     "data": {
      "image/png": "[encoded data removed]",
      "text/plain": [
       "<Figure size 432x288 with 1 Axes>"
      ]
     },
     "metadata": {
      "needs_background": "light"
     },
     "output_type": "display_data"
    }
   ],
   "source": [
    "fig = plt.figure()\n",
    "plt.ylim(0,1)\n",
    "plt.scatter(prediction_skill_rainfall_cr_mam.AvgRainfall, prediction_skill_rainfall_cr_mam.AvgSimplex)\n",
    "plt.xlabel('Seasonal Rainfall MAM')\n",
    "plt.ylabel('Avg Seasonal Prediction Skill MAM')"
   ]
  },
  {
   "cell_type": "code",
   "execution_count": 195,
   "metadata": {},
   "outputs": [
    {
     "data": {
      "text/plain": [
       "Text(0, 0.5, 'Avg Season Prediction Skill OND')"
      ]
     },
     "execution_count": 195,
     "metadata": {},
     "output_type": "execute_result"
    },
    {
     "data": {
      "image/png": "[encoded data removed]",
      "text/plain": [
       "<Figure size 432x288 with 1 Axes>"
      ]
     },
     "metadata": {
      "needs_background": "light"
     },
     "output_type": "display_data"
    }
   ],
   "source": [
    "fig = plt.figure()\n",
    "plt.ylim(0,1)\n",
    "plt.scatter(prediction_skill_rainfall_cr_ond.Year, prediction_skill_rainfall_cr_ond.AvgSimplex)\n",
    "plt.xlabel('Year')\n",
    "plt.ylabel('Avg Season Prediction Skill OND')"
   ]
  },
  {
   "cell_type": "code",
   "execution_count": 196,
   "metadata": {},
   "outputs": [
    {
     "data": {
      "text/plain": [
       "Text(0, 0.5, 'Avg Season Prediction Skill MAM')"
      ]
     },
     "execution_count": 196,
     "metadata": {},
     "output_type": "execute_result"
    },
    {
     "data": {
      "image/png": "[encoded data removed]",
      "text/plain": [
       "<Figure size 432x288 with 1 Axes>"
      ]
     },
     "metadata": {
      "needs_background": "light"
     },
     "output_type": "display_data"
    }
   ],
   "source": [
    "fig = plt.figure()\n",
    "plt.ylim(0,1)\n",
    "plt.scatter(prediction_skill_rainfall_cr_mam.Year, prediction_skill_rainfall_cr_mam.AvgSimplex)\n",
    "plt.xlabel('Year')\n",
    "plt.ylabel('Avg Season Prediction Skill MAM')"
   ]
  },
  {
   "cell_type": "markdown",
   "metadata": {},
   "source": [
    "# Monthly Prediction Skill"
   ]
  },
  {
   "cell_type": "code",
   "execution_count": 1,
   "metadata": {},
   "outputs": [],
   "source": [
    "psc = '/home/rgreen/DroughtEDM/Data/Prediction_skill_climatology/'\n",
    "psc10 = '/home/rgreen/DroughtEDM/Data/Prediction_skill_climatology/ED10/'\n",
    "psc2 = '/home/rgreen/DroughtEDM/Data/Prediction_skill_climatology/ED2/'\n",
    "psc6 = '/home/rgreen/DroughtEDM/Data/Prediction_skill_climatology/ED6/'"
   ]
  },
  {
   "cell_type": "code",
   "execution_count": 2,
   "metadata": {},
   "outputs": [
    {
     "ename": "NameError",
     "evalue": "name 'simplex_mean' is not defined",
     "output_type": "error",
     "traceback": [
      "\u001b[0;31m---------------------------------------------------------------------------\u001b[0m",
      "\u001b[0;31mNameError\u001b[0m                                 Traceback (most recent call last)",
      "\u001b[0;32m<ipython-input-2-abb81a549d02>\u001b[0m in \u001b[0;36m<module>\u001b[0;34m\u001b[0m\n\u001b[0;32m----> 1\u001b[0;31m \u001b[0mmean_monthly_simplex\u001b[0m \u001b[0;34m=\u001b[0m \u001b[0msimplex_mean\u001b[0m\u001b[0;34m(\u001b[0m\u001b[0mpsc\u001b[0m\u001b[0;34m)\u001b[0m\u001b[0;34m\u001b[0m\u001b[0;34m\u001b[0m\u001b[0m\n\u001b[0m",
      "\u001b[0;31mNameError\u001b[0m: name 'simplex_mean' is not defined"
     ]
    }
   ],
   "source": [
    "mean_monthly_simplex = simplex_mean(psc)"
   ]
  },
  {
   "cell_type": "code",
   "execution_count": 29,
   "metadata": {},
   "outputs": [
    {
     "data": {
      "text/plain": [
       "[0.108524084,\n",
       " 0.10472355,\n",
       " 0.12477321,\n",
       " 0.19754273,\n",
       " 0.31687206,\n",
       " 0.24257977,\n",
       " 0.12894472,\n",
       " 0.13121116,\n",
       " 0.13687971,\n",
       " 0.20771003,\n",
       " 0.3007016,\n",
       " 0.22453098]"
      ]
     },
     "execution_count": 29,
     "metadata": {},
     "output_type": "execute_result"
    }
   ],
   "source": [
    "mean_monthly_simplex"
   ]
  },
  {
   "cell_type": "code",
   "execution_count": 30,
   "metadata": {},
   "outputs": [],
   "source": [
    "mean_monthly_simplex_6 = simplex_mean(psc6)"
   ]
  },
  {
   "cell_type": "code",
   "execution_count": 31,
   "metadata": {},
   "outputs": [
    {
     "data": {
      "text/plain": [
       "[0.07218788,\n",
       " 0.09645253,\n",
       " 0.15344162,\n",
       " 0.15517691,\n",
       " 0.0,\n",
       " 0.0,\n",
       " 0.0,\n",
       " 0.0,\n",
       " 0.1629865,\n",
       " 0.14108576,\n",
       " 0.17639662,\n",
       " 0.14119941,\n",
       " 0.07300655,\n",
       " 0.073336616,\n",
       " 0.0938611,\n",
       " 0.10116578,\n",
       " 0.0,\n",
       " 0.0,\n",
       " 0.0,\n",
       " 0.0,\n",
       " 0.114198714,\n",
       " 0.11205957,\n",
       " 0.152476,\n",
       " 0.09679305]"
      ]
     },
     "execution_count": 31,
     "metadata": {},
     "output_type": "execute_result"
    }
   ],
   "source": [
    "mean_monthly_simplex_6"
   ]
  },
  {
   "cell_type": "code",
   "execution_count": 200,
   "metadata": {},
   "outputs": [],
   "source": [
    "mean_monthly_simplex_10 = simplex_mean(psc10)"
   ]
  },
  {
   "cell_type": "code",
   "execution_count": 201,
   "metadata": {},
   "outputs": [
    {
     "data": {
      "text/plain": [
       "[inf, 0.19241263, nan, inf, -inf, -inf, 0.15108652, 0.0, 0.0, 0.0, 0.0, 0.0]"
      ]
     },
     "execution_count": 201,
     "metadata": {},
     "output_type": "execute_result"
    }
   ],
   "source": [
    "mean_monthly_simplex_10"
   ]
  },
  {
   "cell_type": "code",
   "execution_count": 202,
   "metadata": {},
   "outputs": [],
   "source": [
    "mean_monthly_simplex_2 = simplex_mean(psc2)"
   ]
  },
  {
   "cell_type": "code",
   "execution_count": 203,
   "metadata": {},
   "outputs": [
    {
     "data": {
      "text/plain": [
       "[-inf,\n",
       " 0.06475482,\n",
       " 0.11672885,\n",
       " 0.058587376,\n",
       " -inf,\n",
       " 0.056087337,\n",
       " 0.038340423,\n",
       " 0.0,\n",
       " 0.0,\n",
       " 0.0,\n",
       " 0.07835749,\n",
       " 0.057405267]"
      ]
     },
     "execution_count": 203,
     "metadata": {},
     "output_type": "execute_result"
    }
   ],
   "source": [
    "mean_monthly_simplex_2"
   ]
  },
  {
   "cell_type": "code",
   "execution_count": 213,
   "metadata": {},
   "outputs": [],
   "source": [
    "def simplex_mean(in_dir):\n",
    "    \n",
    "    \n",
    "    simplex_rasters = np.array(sorted(os.listdir(in_dir)))\n",
    "    tifs = pd.Series(simplex_rasters).str.contains('.tif')\n",
    "    files = simplex_rasters[tifs]\n",
    "    \n",
    "    mean_simplex = []\n",
    "    \n",
    "    for filename in files:\n",
    "            simplex_raster = rasterio.open(in_dir + filename)\n",
    "            read_raster = simplex_raster.read(1)\n",
    "            mean_raster = np.nanmean(read_raster[read_raster!=np.inf])\n",
    "            mean_simplex.append(mean_raster)\n",
    "            \n",
    "    return mean_simplex"
   ]
  },
  {
   "cell_type": "code",
   "execution_count": 214,
   "metadata": {},
   "outputs": [],
   "source": [
    "mean_monthly_simplex_10 = simplex_mean(psc10)"
   ]
  },
  {
   "cell_type": "code",
   "execution_count": 215,
   "metadata": {},
   "outputs": [
    {
     "data": {
      "text/plain": [
       "[0.09350971,\n",
       " 0.19241263,\n",
       " -inf,\n",
       " 0.1266745,\n",
       " -inf,\n",
       " -inf,\n",
       " 0.15108652,\n",
       " 0.0,\n",
       " 0.0,\n",
       " 0.0,\n",
       " 0.0,\n",
       " 0.0]"
      ]
     },
     "execution_count": 215,
     "metadata": {},
     "output_type": "execute_result"
    }
   ],
   "source": [
    "mean_monthly_simplex_10"
   ]
  },
  {
   "cell_type": "code",
   "execution_count": null,
   "metadata": {},
   "outputs": [],
   "source": []
  }
 ],
 "metadata": {
  "kernelspec": {
   "display_name": "Python 3",
   "language": "python",
   "name": "python3"
  },
  "language_info": {
   "codemirror_mode": {
    "name": "ipython",
    "version": 3
   },
   "file_extension": ".py",
   "mimetype": "text/x-python",
   "name": "python",
   "nbconvert_exporter": "python",
   "pygments_lexer": "ipython3",
   "version": "3.7.8"
  }
 },
 "nbformat": 4,
 "nbformat_minor": 4
}
