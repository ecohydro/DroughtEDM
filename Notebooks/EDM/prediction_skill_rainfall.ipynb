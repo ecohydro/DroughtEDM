{
 "cells": [
  {
   "cell_type": "code",
   "execution_count": 105,
   "metadata": {},
   "outputs": [],
   "source": [
    "import pandas as pd\n",
    "import numpy as np\n",
    "import matplotlib as mpl\n",
    "import os\n",
    "import itertools\n",
    "import rasterio\n",
    "from matplotlib import pyplot as plt\n",
    "import geopandas as gpd\n",
    "from rasterstats import zonal_stats\n",
    "from tqdm import tqdm\n",
    "import xarray as xr\n",
    "from rasterstats import zonal_stats\n"
   ]
  },
  {
   "cell_type": "code",
   "execution_count": 106,
   "metadata": {},
   "outputs": [],
   "source": [
    "PRECIP_EA = '/home/rgreen/tana-spin/rgreen/DroughtEDM/Data/CHIRPS/EA/'\n",
    "PRECIP_MONTHLY = '/home/rgreen/tana-spin/rgreen/DroughtEDM/Data/CHIRPS/Monthly/'\n",
    "PRECIP_SEASONAL = '/home/rgreen/tana-spin/rgreen/DroughtEDM/Data/CHIRPS/Seasonal/'\n",
    "PRECIP_SEASONAL_CROP_RAIN = '/home/rgreen/tana-spin/rgreen/DroughtEDM/Data/CHIRPS/Seasonal_Crop_Rain/'"
   ]
  },
  {
   "cell_type": "code",
   "execution_count": 107,
   "metadata": {},
   "outputs": [],
   "source": [
    "crop_rain_mask = '/home/rgreen/tana-spin/rgreen/DroughtEDM/Data/ESACCI_2016/crop_rain_mask/EA_ESACCI_LC_2016_005_10.tif'"
   ]
  },
  {
   "cell_type": "code",
   "execution_count": 108,
   "metadata": {},
   "outputs": [],
   "source": [
    "def read_file(file):\n",
    "    with rasterio.open(file) as src:\n",
    "        return(src.read())"
   ]
  },
  {
   "cell_type": "code",
   "execution_count": 109,
   "metadata": {},
   "outputs": [],
   "source": [
    "def grouper(n, iterable, fillvalue=None):\n",
    "    \"grouper(3, 'ABCDEFG', 'x') --> ABC DEF Gxx\"\n",
    "    args = [iter(iterable)] * n\n",
    "    return itertools.zip_longest(*args, fillvalue=fillvalue)"
   ]
  },
  {
   "cell_type": "code",
   "execution_count": 110,
   "metadata": {},
   "outputs": [],
   "source": [
    "def monthly_means(in_dir, out_dir, var):\n",
    "      \n",
    "    files=np.array(sorted(os.listdir(in_dir)))\n",
    "    tifs = pd.Series(files).str.contains('.tif')\n",
    "    files = files[tifs]\n",
    "    \n",
    "    grouped = grouper(3, files)\n",
    "    \n",
    "    for group in grouped:\n",
    "        month = group[0][24:31]\n",
    "        print(month)\n",
    "        \n",
    "        \n",
    "        file1 = read_file(in_dir+group[0])\n",
    "        \n",
    "        file2 = read_file(in_dir+group[1])\n",
    "        \n",
    "        file3 = read_file(in_dir+group[2])\n",
    "        \n",
    "        monthly_mean = np.mean([file1, file2, file3], axis=0)\n",
    "       \n",
    "      #  plt.imshow(monthly_mean[0])\n",
    "        \n",
    "        \n",
    "        with rasterio.open(in_dir + group[0]) as src:\n",
    "            meta = src.meta\n",
    "\n",
    "#         meta.update(dtype=rasterio.float64)\n",
    "        \n",
    "\n",
    "        # Write output file\n",
    "        with rasterio.open(out_dir + var + '_' + month + '.tif', 'w', **meta) as dst:\n",
    "            dst.write(monthly_mean)\n",
    "                  "
   ]
  },
  {
   "cell_type": "code",
   "execution_count": null,
   "metadata": {},
   "outputs": [],
   "source": [
    "monthly_means(PRECIP_EA, PRECIP_MONTHLY, 'precip')"
   ]
  },
  {
   "cell_type": "code",
   "execution_count": 112,
   "metadata": {},
   "outputs": [],
   "source": [
    "def seasonal_mean(in_dir, out_dir, var, year, months, month_code, orig_dir):\n",
    "    files=np.array(sorted(os.listdir(in_dir)))\n",
    "    yeartifs =  pd.Series(files).str.contains(year)\n",
    "    yearfiles = files[yeartifs]\n",
    "    monthtifs = pd.Series(yearfiles).str.contains(months)\n",
    "    monthfiles = yearfiles[monthtifs]\n",
    "    #print(monthfiles)\n",
    "    \n",
    "    ofiles = np.array(sorted(os.listdir(orig_dir)))\n",
    "    origtifs = pd.Series(ofiles).str.contains('.tif')\n",
    "    origfiles = ofiles[origtifs]\n",
    "    \n",
    "    \n",
    "    file1 = read_file(in_dir+monthfiles[0])\n",
    "    #file1rs = (file1-100)/100\n",
    "    file2 = read_file(in_dir+monthfiles[1])\n",
    "    #file2rs = (file2-100)/100\n",
    "    file3 = read_file(in_dir+monthfiles[2])\n",
    "    #file3rs = (file3-100)/100\n",
    "    \n",
    "    \n",
    "    seasonal_mean = np.mean([file1, file2, file3], axis=0)\n",
    "   #seasonal_mean[seasonal_mean == 1.53] = np.nan\n",
    "\n",
    "    #print(seasonal_mean)\n",
    "    \n",
    "    with rasterio.open(orig_dir + origfiles[0]) as src:\n",
    "        meta = src.meta\n",
    "        \n",
    "        meta.update(dtype=rasterio.float32)\n",
    "        \n",
    "\n",
    "         # Write output file\n",
    "    with rasterio.open(out_dir + var + '_' + month_code + '_' + year + '.tif', 'w', **meta) as dst:\n",
    "        \n",
    "        \n",
    "        dst.write(seasonal_mean)\n",
    "                  \n",
    "    \n",
    "   "
   ]
  },
  {
   "cell_type": "code",
   "execution_count": 113,
   "metadata": {},
   "outputs": [],
   "source": [
    "ond_2003 = seasonal_mean(PRECIP_MONTHLY, PRECIP_SEASONAL, 'ndvi','2003', '10|11|12', 'ond', PRECIP_EA)\n",
    "ond_2004 = seasonal_mean(PRECIP_MONTHLY, PRECIP_SEASONAL, 'ndvi','2004', '10|11|12', 'ond', PRECIP_EA)\n",
    "ond_2005 = seasonal_mean(PRECIP_MONTHLY, PRECIP_SEASONAL, 'ndvi','2005', '10|11|12', 'ond', PRECIP_EA)\n",
    "ond_2006 = seasonal_mean(PRECIP_MONTHLY, PRECIP_SEASONAL, 'ndvi','2006', '10|11|12', 'ond', PRECIP_EA)\n",
    "ond_2007 = seasonal_mean(PRECIP_MONTHLY, PRECIP_SEASONAL, 'ndvi','2007', '10|11|12', 'ond', PRECIP_EA)\n",
    "ond_2008 = seasonal_mean(PRECIP_MONTHLY, PRECIP_SEASONAL, 'ndvi','2008', '10|11|12', 'ond', PRECIP_EA)\n",
    "ond_2009 = seasonal_mean(PRECIP_MONTHLY, PRECIP_SEASONAL, 'ndvi','2009', '10|11|12', 'ond', PRECIP_EA)\n",
    "ond_2010 = seasonal_mean(PRECIP_MONTHLY, PRECIP_SEASONAL, 'ndvi','2010', '10|11|12', 'ond', PRECIP_EA)\n",
    "ond_2011 = seasonal_mean(PRECIP_MONTHLY, PRECIP_SEASONAL, 'ndvi','2011', '10|11|12', 'ond', PRECIP_EA)\n",
    "ond_2012 = seasonal_mean(PRECIP_MONTHLY, PRECIP_SEASONAL, 'ndvi','2012', '10|11|12', 'ond', PRECIP_EA)\n",
    "ond_2013 = seasonal_mean(PRECIP_MONTHLY, PRECIP_SEASONAL, 'ndvi','2013', '10|11|12', 'ond', PRECIP_EA)\n",
    "ond_2014 = seasonal_mean(PRECIP_MONTHLY, PRECIP_SEASONAL, 'ndvi','2014', '10|11|12', 'ond', PRECIP_EA)\n",
    "ond_2015 = seasonal_mean(PRECIP_MONTHLY, PRECIP_SEASONAL, 'ndvi','2015', '10|11|12', 'ond', PRECIP_EA)\n",
    "ond_2016 = seasonal_mean(PRECIP_MONTHLY, PRECIP_SEASONAL, 'ndvi','2016', '10|11|12', 'ond', PRECIP_EA)\n",
    "ond_2017 = seasonal_mean(PRECIP_MONTHLY, PRECIP_SEASONAL, 'ndvi','2017', '10|11|12', 'ond', PRECIP_EA)\n",
    "ond_2018 = seasonal_mean(PRECIP_MONTHLY, PRECIP_SEASONAL, 'ndvi','2018', '10|11|12', 'ond', PRECIP_EA)\n"
   ]
  },
  {
   "cell_type": "code",
   "execution_count": 116,
   "metadata": {},
   "outputs": [],
   "source": [
    "def rastercalc_lcmask(lc_mask, seasonal_dir, out_dir, lc):\n",
    "    \n",
    "    lc2016_mask = rasterio.open(lc_mask)\n",
    "    seasonal_means = np.array(sorted(os.listdir(seasonal_dir)))\n",
    "    tifs = pd.Series(seasonal_means).str.contains('.tif')\n",
    "    files = seasonal_means[tifs]\n",
    "    \n",
    "    mean_smean_list = []\n",
    "    \n",
    "    for filename in files:\n",
    "            ea_seasonal_mean = rasterio.open(seasonal_dir + filename)\n",
    "            meta = ea_seasonal_mean.meta\n",
    "            smean_lcmask = ea_seasonal_mean.read(1)*lc2016_mask.read(1)\n",
    "            mean_smean = np.nanmean(smean_lcmask)\n",
    "            mean_smean_list.append(mean_smean)\n",
    "            \n",
    "    return mean_smean_list\n",
    "#             with rasterio.open(out_dir + lc + filename, 'w', **meta) as dst: #change name depending on variable\n",
    "#                     dst.write(smean_lcmask, 1)\n",
    "#                     print(filename)"
   ]
  },
  {
   "cell_type": "code",
   "execution_count": 117,
   "metadata": {},
   "outputs": [],
   "source": [
    "mean_smean = rastercalc_lcmask(crop_rain_mask, PRECIP_SEASONAL, PRECIP_SEASONAL_CROP_RAIN, 'cr_')"
   ]
  },
  {
   "cell_type": "code",
   "execution_count": 118,
   "metadata": {},
   "outputs": [
    {
     "data": {
      "text/plain": [
       "16"
      ]
     },
     "execution_count": 118,
     "metadata": {},
     "output_type": "execute_result"
    }
   ],
   "source": [
    "len(mean_smean)"
   ]
  },
  {
   "cell_type": "code",
   "execution_count": 122,
   "metadata": {},
   "outputs": [],
   "source": [
    "data = {'Year': list(range(2003, 2019)), 'AvgRainfall': mean_smean}"
   ]
  },
  {
   "cell_type": "code",
   "execution_count": 123,
   "metadata": {},
   "outputs": [
    {
     "data": {
      "text/html": [
       "<div>\n",
       "<style scoped>\n",
       "    .dataframe tbody tr th:only-of-type {\n",
       "        vertical-align: middle;\n",
       "    }\n",
       "\n",
       "    .dataframe tbody tr th {\n",
       "        vertical-align: top;\n",
       "    }\n",
       "\n",
       "    .dataframe thead th {\n",
       "        text-align: right;\n",
       "    }\n",
       "</style>\n",
       "<table border=\"1\" class=\"dataframe\">\n",
       "  <thead>\n",
       "    <tr style=\"text-align: right;\">\n",
       "      <th></th>\n",
       "      <th>Year</th>\n",
       "      <th>AvgRainfall</th>\n",
       "    </tr>\n",
       "  </thead>\n",
       "  <tbody>\n",
       "    <tr>\n",
       "      <td>0</td>\n",
       "      <td>2003</td>\n",
       "      <td>16.761034</td>\n",
       "    </tr>\n",
       "    <tr>\n",
       "      <td>1</td>\n",
       "      <td>2004</td>\n",
       "      <td>20.550884</td>\n",
       "    </tr>\n",
       "    <tr>\n",
       "      <td>2</td>\n",
       "      <td>2005</td>\n",
       "      <td>12.935894</td>\n",
       "    </tr>\n",
       "    <tr>\n",
       "      <td>3</td>\n",
       "      <td>2006</td>\n",
       "      <td>28.566845</td>\n",
       "    </tr>\n",
       "    <tr>\n",
       "      <td>4</td>\n",
       "      <td>2007</td>\n",
       "      <td>16.040859</td>\n",
       "    </tr>\n",
       "    <tr>\n",
       "      <td>5</td>\n",
       "      <td>2008</td>\n",
       "      <td>17.168598</td>\n",
       "    </tr>\n",
       "    <tr>\n",
       "      <td>6</td>\n",
       "      <td>2009</td>\n",
       "      <td>21.235394</td>\n",
       "    </tr>\n",
       "    <tr>\n",
       "      <td>7</td>\n",
       "      <td>2010</td>\n",
       "      <td>19.677217</td>\n",
       "    </tr>\n",
       "    <tr>\n",
       "      <td>8</td>\n",
       "      <td>2011</td>\n",
       "      <td>13.745956</td>\n",
       "    </tr>\n",
       "    <tr>\n",
       "      <td>9</td>\n",
       "      <td>2012</td>\n",
       "      <td>10.662415</td>\n",
       "    </tr>\n",
       "    <tr>\n",
       "      <td>10</td>\n",
       "      <td>2013</td>\n",
       "      <td>19.555422</td>\n",
       "    </tr>\n",
       "    <tr>\n",
       "      <td>11</td>\n",
       "      <td>2014</td>\n",
       "      <td>20.199436</td>\n",
       "    </tr>\n",
       "    <tr>\n",
       "      <td>12</td>\n",
       "      <td>2015</td>\n",
       "      <td>24.844090</td>\n",
       "    </tr>\n",
       "    <tr>\n",
       "      <td>13</td>\n",
       "      <td>2016</td>\n",
       "      <td>15.982670</td>\n",
       "    </tr>\n",
       "    <tr>\n",
       "      <td>14</td>\n",
       "      <td>2017</td>\n",
       "      <td>18.046293</td>\n",
       "    </tr>\n",
       "    <tr>\n",
       "      <td>15</td>\n",
       "      <td>2018</td>\n",
       "      <td>21.001530</td>\n",
       "    </tr>\n",
       "  </tbody>\n",
       "</table>\n",
       "</div>"
      ],
      "text/plain": [
       "    Year  AvgRainfall\n",
       "0   2003    16.761034\n",
       "1   2004    20.550884\n",
       "2   2005    12.935894\n",
       "3   2006    28.566845\n",
       "4   2007    16.040859\n",
       "5   2008    17.168598\n",
       "6   2009    21.235394\n",
       "7   2010    19.677217\n",
       "8   2011    13.745956\n",
       "9   2012    10.662415\n",
       "10  2013    19.555422\n",
       "11  2014    20.199436\n",
       "12  2015    24.844090\n",
       "13  2016    15.982670\n",
       "14  2017    18.046293\n",
       "15  2018    21.001530"
      ]
     },
     "execution_count": 123,
     "metadata": {},
     "output_type": "execute_result"
    }
   ],
   "source": [
    "pd.DataFrame(data, columns=['Year', 'AvgRainfall'])"
   ]
  },
  {
   "cell_type": "code",
   "execution_count": null,
   "metadata": {},
   "outputs": [],
   "source": []
  },
  {
   "cell_type": "code",
   "execution_count": 132,
   "metadata": {},
   "outputs": [],
   "source": [
    "def simplex_mean(in_dir):\n",
    "    \n",
    "    \n",
    "    simplex_rasters = np.array(sorted(os.listdir(in_dir)))\n",
    "    tifs = pd.Series(simplex_rasters).str.contains('.tif')\n",
    "    files = simplex_rasters[tifs]\n",
    "    \n",
    "    mean_simplex = []\n",
    "    \n",
    "    for filename in files:\n",
    "            simplex_raster = rasterio.open(in_dir + filename)\n",
    "            read_raster = simplex_raster.read(1)\n",
    "            mean_raster = np.nanmean(read_raster)\n",
    "            mean_simplex.append(mean_raster)\n",
    "            \n",
    "    return mean_simplex\n"
   ]
  },
  {
   "cell_type": "code",
   "execution_count": 140,
   "metadata": {},
   "outputs": [],
   "source": [
    "mean_simplex_out_cr_ond = simplex_mean('/home/rgreen/DroughtEDM/Data/Seasonal_Simplex/ndvi_ea_simplex_ond_cr_years/')\n",
    "mean_simplex_out_cr_mam = simplex_mean('/home/rgreen/DroughtEDM/Data/Seasonal_Simplex/ndvi_ea_simplex_mam_cr_years/')"
   ]
  },
  {
   "cell_type": "code",
   "execution_count": 141,
   "metadata": {},
   "outputs": [],
   "source": [
    "data_cr_ond = {'Year': list(range(2003, 2019)), 'AvgRainfall': mean_smean, 'AvgSimplex': mean_simplex_out_cr_ond}\n",
    "data_cr_mam = {'Year': list(range(2003, 2019)), 'AvgRainfall': mean_smean, 'AvgSimplex': mean_simplex_out_cr_mam}"
   ]
  },
  {
   "cell_type": "code",
   "execution_count": 144,
   "metadata": {},
   "outputs": [],
   "source": [
    "prediction_skill_rainfall_cr_ond = pd.DataFrame(data_cr_ond, columns=['Year', 'AvgRainfall', 'AvgSimplex'])\n",
    "prediction_skill_rainfall_cr_mam = pd.DataFrame(data_cr_mam, columns=['Year', 'AvgRainfall', 'AvgSimplex'])"
   ]
  },
  {
   "cell_type": "code",
   "execution_count": 145,
   "metadata": {},
   "outputs": [
    {
     "data": {
      "text/html": [
       "<div>\n",
       "<style scoped>\n",
       "    .dataframe tbody tr th:only-of-type {\n",
       "        vertical-align: middle;\n",
       "    }\n",
       "\n",
       "    .dataframe tbody tr th {\n",
       "        vertical-align: top;\n",
       "    }\n",
       "\n",
       "    .dataframe thead th {\n",
       "        text-align: right;\n",
       "    }\n",
       "</style>\n",
       "<table border=\"1\" class=\"dataframe\">\n",
       "  <thead>\n",
       "    <tr style=\"text-align: right;\">\n",
       "      <th></th>\n",
       "      <th>Year</th>\n",
       "      <th>AvgRainfall</th>\n",
       "      <th>AvgSimplex</th>\n",
       "    </tr>\n",
       "  </thead>\n",
       "  <tbody>\n",
       "    <tr>\n",
       "      <td>0</td>\n",
       "      <td>2003</td>\n",
       "      <td>16.761034</td>\n",
       "      <td>0.557472</td>\n",
       "    </tr>\n",
       "    <tr>\n",
       "      <td>1</td>\n",
       "      <td>2004</td>\n",
       "      <td>20.550884</td>\n",
       "      <td>0.520464</td>\n",
       "    </tr>\n",
       "    <tr>\n",
       "      <td>2</td>\n",
       "      <td>2005</td>\n",
       "      <td>12.935894</td>\n",
       "      <td>0.493104</td>\n",
       "    </tr>\n",
       "    <tr>\n",
       "      <td>3</td>\n",
       "      <td>2006</td>\n",
       "      <td>28.566845</td>\n",
       "      <td>0.539310</td>\n",
       "    </tr>\n",
       "    <tr>\n",
       "      <td>4</td>\n",
       "      <td>2007</td>\n",
       "      <td>16.040859</td>\n",
       "      <td>0.572247</td>\n",
       "    </tr>\n",
       "    <tr>\n",
       "      <td>5</td>\n",
       "      <td>2008</td>\n",
       "      <td>17.168598</td>\n",
       "      <td>0.487174</td>\n",
       "    </tr>\n",
       "    <tr>\n",
       "      <td>6</td>\n",
       "      <td>2009</td>\n",
       "      <td>21.235394</td>\n",
       "      <td>0.472723</td>\n",
       "    </tr>\n",
       "    <tr>\n",
       "      <td>7</td>\n",
       "      <td>2010</td>\n",
       "      <td>19.677217</td>\n",
       "      <td>0.543306</td>\n",
       "    </tr>\n",
       "    <tr>\n",
       "      <td>8</td>\n",
       "      <td>2011</td>\n",
       "      <td>13.745956</td>\n",
       "      <td>0.605735</td>\n",
       "    </tr>\n",
       "    <tr>\n",
       "      <td>9</td>\n",
       "      <td>2012</td>\n",
       "      <td>10.662415</td>\n",
       "      <td>0.601914</td>\n",
       "    </tr>\n",
       "    <tr>\n",
       "      <td>10</td>\n",
       "      <td>2013</td>\n",
       "      <td>19.555422</td>\n",
       "      <td>0.574965</td>\n",
       "    </tr>\n",
       "    <tr>\n",
       "      <td>11</td>\n",
       "      <td>2014</td>\n",
       "      <td>20.199436</td>\n",
       "      <td>0.510575</td>\n",
       "    </tr>\n",
       "    <tr>\n",
       "      <td>12</td>\n",
       "      <td>2015</td>\n",
       "      <td>24.844090</td>\n",
       "      <td>0.541136</td>\n",
       "    </tr>\n",
       "    <tr>\n",
       "      <td>13</td>\n",
       "      <td>2016</td>\n",
       "      <td>15.982670</td>\n",
       "      <td>0.580570</td>\n",
       "    </tr>\n",
       "    <tr>\n",
       "      <td>14</td>\n",
       "      <td>2017</td>\n",
       "      <td>18.046293</td>\n",
       "      <td>0.576169</td>\n",
       "    </tr>\n",
       "    <tr>\n",
       "      <td>15</td>\n",
       "      <td>2018</td>\n",
       "      <td>21.001530</td>\n",
       "      <td>0.578409</td>\n",
       "    </tr>\n",
       "  </tbody>\n",
       "</table>\n",
       "</div>"
      ],
      "text/plain": [
       "    Year  AvgRainfall  AvgSimplex\n",
       "0   2003    16.761034    0.557472\n",
       "1   2004    20.550884    0.520464\n",
       "2   2005    12.935894    0.493104\n",
       "3   2006    28.566845    0.539310\n",
       "4   2007    16.040859    0.572247\n",
       "5   2008    17.168598    0.487174\n",
       "6   2009    21.235394    0.472723\n",
       "7   2010    19.677217    0.543306\n",
       "8   2011    13.745956    0.605735\n",
       "9   2012    10.662415    0.601914\n",
       "10  2013    19.555422    0.574965\n",
       "11  2014    20.199436    0.510575\n",
       "12  2015    24.844090    0.541136\n",
       "13  2016    15.982670    0.580570\n",
       "14  2017    18.046293    0.576169\n",
       "15  2018    21.001530    0.578409"
      ]
     },
     "execution_count": 145,
     "metadata": {},
     "output_type": "execute_result"
    }
   ],
   "source": [
    "prediction_skill_rainfall_cr_ond"
   ]
  },
  {
   "cell_type": "code",
   "execution_count": 138,
   "metadata": {},
   "outputs": [
    {
     "data": {
      "text/plain": [
       "Text(0, 0.5, 'Avg Season Prediction Skill')"
      ]
     },
     "execution_count": 138,
     "metadata": {},
     "output_type": "execute_result"
    },
    {
     "data": {
      "image/png": "[encoded data removed]",
      "text/plain": [
       "<Figure size 432x288 with 1 Axes>"
      ]
     },
     "metadata": {
      "needs_background": "light"
     },
     "output_type": "display_data"
    }
   ],
   "source": [
    "fig = plt.figure()\n",
    "plt.scatter(prediction_skill_rainfall_cr_ond.AvgRainfall, prediction_skill_rainfall_cr_ond.AvgSimplex)\n",
    "plt.xlabel('Avg Seasonal Rainfall')\n",
    "plt.ylabel('Avg Season Prediction Skill')"
   ]
  },
  {
   "cell_type": "code",
   "execution_count": 146,
   "metadata": {},
   "outputs": [
    {
     "data": {
      "text/plain": [
       "Text(0, 0.5, 'Avg Season Prediction Skill')"
      ]
     },
     "execution_count": 146,
     "metadata": {},
     "output_type": "execute_result"
    },
    {
     "data": {
      "image/png": "[encoded data removed]",
      "text/plain": [
       "<Figure size 432x288 with 1 Axes>"
      ]
     },
     "metadata": {
      "needs_background": "light"
     },
     "output_type": "display_data"
    }
   ],
   "source": [
    "fig = plt.figure()\n",
    "plt.scatter(prediction_skill_rainfall_cr_mam.AvgRainfall, prediction_skill_rainfall_cr_mam.AvgSimplex)\n",
    "plt.xlabel('Avg Seasonal Rainfall')\n",
    "plt.ylabel('Avg Season Prediction Skill')"
   ]
  },
  {
   "cell_type": "code",
   "execution_count": null,
   "metadata": {},
   "outputs": [],
   "source": []
  }
 ],
 "metadata": {
  "kernelspec": {
   "display_name": "Python [conda env:edm]",
   "language": "python",
   "name": "conda-env-edm-py"
  },
  "language_info": {
   "codemirror_mode": {
    "name": "ipython",
    "version": 3
   },
   "file_extension": ".py",
   "mimetype": "text/x-python",
   "name": "python",
   "nbconvert_exporter": "python",
   "pygments_lexer": "ipython3",
   "version": "3.7.3"
  }
 },
 "nbformat": 4,
 "nbformat_minor": 4
}
