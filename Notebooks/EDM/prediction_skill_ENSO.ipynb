{
 "cells": [
  {
   "cell_type": "code",
   "execution_count": 1,
   "metadata": {},
   "outputs": [],
   "source": [
    "import pandas as pd\n",
    "import numpy as np\n",
    "import matplotlib as mpl\n",
    "import os\n",
    "import itertools\n",
    "import rasterio\n",
    "from matplotlib import pyplot as plt\n",
    "import geopandas as gpd\n",
    "from rasterstats import zonal_stats\n",
    "from tqdm import tqdm\n",
    "import xarray as xr\n",
    "from rasterstats import zonal_stats\n"
   ]
  },
  {
   "cell_type": "code",
   "execution_count": 28,
   "metadata": {},
   "outputs": [],
   "source": [
    "enso = pd.read_csv('/home/rgreen/DroughtEDM/Data/ENSO/enso_meiv2_2003_2018.csv')"
   ]
  },
  {
   "cell_type": "code",
   "execution_count": 49,
   "metadata": {},
   "outputs": [],
   "source": [
    "enso_0310 = enso.loc[enso['Unnamed: 0'].isin(['2003', '2004', '2005', '2006', '2007', '2008', '2009', '2010' ])]"
   ]
  },
  {
   "cell_type": "code",
   "execution_count": 62,
   "metadata": {},
   "outputs": [
    {
     "data": {
      "text/html": [
       "<div>\n",
       "<style scoped>\n",
       "    .dataframe tbody tr th:only-of-type {\n",
       "        vertical-align: middle;\n",
       "    }\n",
       "\n",
       "    .dataframe tbody tr th {\n",
       "        vertical-align: top;\n",
       "    }\n",
       "\n",
       "    .dataframe thead th {\n",
       "        text-align: right;\n",
       "    }\n",
       "</style>\n",
       "<table border=\"1\" class=\"dataframe\">\n",
       "  <thead>\n",
       "    <tr style=\"text-align: right;\">\n",
       "      <th></th>\n",
       "      <th>Unnamed: 0</th>\n",
       "      <th>J</th>\n",
       "      <th>F</th>\n",
       "      <th>M</th>\n",
       "      <th>A</th>\n",
       "      <th>M.1</th>\n",
       "      <th>J.1</th>\n",
       "      <th>J.2</th>\n",
       "      <th>A.1</th>\n",
       "      <th>S</th>\n",
       "      <th>O</th>\n",
       "      <th>N</th>\n",
       "      <th>D</th>\n",
       "    </tr>\n",
       "  </thead>\n",
       "  <tbody>\n",
       "    <tr>\n",
       "      <td>0</td>\n",
       "      <td>2003</td>\n",
       "      <td>0.8</td>\n",
       "      <td>0.6</td>\n",
       "      <td>0.5</td>\n",
       "      <td>-0.1</td>\n",
       "      <td>-0.6</td>\n",
       "      <td>-0.1</td>\n",
       "      <td>0.0</td>\n",
       "      <td>0.0</td>\n",
       "      <td>0.1</td>\n",
       "      <td>0.3</td>\n",
       "      <td>0.3</td>\n",
       "      <td>0.1</td>\n",
       "    </tr>\n",
       "    <tr>\n",
       "      <td>1</td>\n",
       "      <td>2004</td>\n",
       "      <td>0.2</td>\n",
       "      <td>0.0</td>\n",
       "      <td>-0.4</td>\n",
       "      <td>-0.2</td>\n",
       "      <td>-0.4</td>\n",
       "      <td>-0.3</td>\n",
       "      <td>0.4</td>\n",
       "      <td>0.7</td>\n",
       "      <td>0.5</td>\n",
       "      <td>0.3</td>\n",
       "      <td>0.5</td>\n",
       "      <td>0.5</td>\n",
       "    </tr>\n",
       "    <tr>\n",
       "      <td>2</td>\n",
       "      <td>2005</td>\n",
       "      <td>0.1</td>\n",
       "      <td>0.6</td>\n",
       "      <td>0.8</td>\n",
       "      <td>0.1</td>\n",
       "      <td>0.2</td>\n",
       "      <td>0.2</td>\n",
       "      <td>0.0</td>\n",
       "      <td>0.0</td>\n",
       "      <td>0.0</td>\n",
       "      <td>-0.7</td>\n",
       "      <td>-0.7</td>\n",
       "      <td>-0.7</td>\n",
       "    </tr>\n",
       "    <tr>\n",
       "      <td>3</td>\n",
       "      <td>2006</td>\n",
       "      <td>-0.7</td>\n",
       "      <td>-0.5</td>\n",
       "      <td>-0.6</td>\n",
       "      <td>-0.8</td>\n",
       "      <td>-0.4</td>\n",
       "      <td>-0.2</td>\n",
       "      <td>0.1</td>\n",
       "      <td>0.6</td>\n",
       "      <td>0.6</td>\n",
       "      <td>0.7</td>\n",
       "      <td>0.9</td>\n",
       "      <td>0.6</td>\n",
       "    </tr>\n",
       "    <tr>\n",
       "      <td>4</td>\n",
       "      <td>2007</td>\n",
       "      <td>0.6</td>\n",
       "      <td>0.4</td>\n",
       "      <td>-0.2</td>\n",
       "      <td>-0.4</td>\n",
       "      <td>-0.4</td>\n",
       "      <td>-0.9</td>\n",
       "      <td>-0.8</td>\n",
       "      <td>-0.9</td>\n",
       "      <td>-1.1</td>\n",
       "      <td>-1.1</td>\n",
       "      <td>-1.1</td>\n",
       "      <td>-1.2</td>\n",
       "    </tr>\n",
       "    <tr>\n",
       "      <td>5</td>\n",
       "      <td>2008</td>\n",
       "      <td>-1.1</td>\n",
       "      <td>-1.3</td>\n",
       "      <td>-1.5</td>\n",
       "      <td>-1.1</td>\n",
       "      <td>-1.0</td>\n",
       "      <td>-0.9</td>\n",
       "      <td>-0.9</td>\n",
       "      <td>-1.1</td>\n",
       "      <td>-1.1</td>\n",
       "      <td>-1.1</td>\n",
       "      <td>-1.0</td>\n",
       "      <td>-1.0</td>\n",
       "    </tr>\n",
       "    <tr>\n",
       "      <td>6</td>\n",
       "      <td>2009</td>\n",
       "      <td>-1.0</td>\n",
       "      <td>-0.8</td>\n",
       "      <td>-0.9</td>\n",
       "      <td>-0.8</td>\n",
       "      <td>-0.7</td>\n",
       "      <td>-0.1</td>\n",
       "      <td>0.5</td>\n",
       "      <td>0.5</td>\n",
       "      <td>0.4</td>\n",
       "      <td>0.6</td>\n",
       "      <td>1.1</td>\n",
       "      <td>1.0</td>\n",
       "    </tr>\n",
       "    <tr>\n",
       "      <td>7</td>\n",
       "      <td>2010</td>\n",
       "      <td>0.9</td>\n",
       "      <td>1.3</td>\n",
       "      <td>1.3</td>\n",
       "      <td>0.5</td>\n",
       "      <td>-0.2</td>\n",
       "      <td>-1.3</td>\n",
       "      <td>-2.4</td>\n",
       "      <td>-2.4</td>\n",
       "      <td>-2.3</td>\n",
       "      <td>-2.2</td>\n",
       "      <td>-2.0</td>\n",
       "      <td>-1.9</td>\n",
       "    </tr>\n",
       "  </tbody>\n",
       "</table>\n",
       "</div>"
      ],
      "text/plain": [
       "   Unnamed: 0    J    F    M    A  M.1  J.1  J.2  A.1    S    O    N    D\n",
       "0        2003  0.8  0.6  0.5 -0.1 -0.6 -0.1  0.0  0.0  0.1  0.3  0.3  0.1\n",
       "1        2004  0.2  0.0 -0.4 -0.2 -0.4 -0.3  0.4  0.7  0.5  0.3  0.5  0.5\n",
       "2        2005  0.1  0.6  0.8  0.1  0.2  0.2  0.0  0.0  0.0 -0.7 -0.7 -0.7\n",
       "3        2006 -0.7 -0.5 -0.6 -0.8 -0.4 -0.2  0.1  0.6  0.6  0.7  0.9  0.6\n",
       "4        2007  0.6  0.4 -0.2 -0.4 -0.4 -0.9 -0.8 -0.9 -1.1 -1.1 -1.1 -1.2\n",
       "5        2008 -1.1 -1.3 -1.5 -1.1 -1.0 -0.9 -0.9 -1.1 -1.1 -1.1 -1.0 -1.0\n",
       "6        2009 -1.0 -0.8 -0.9 -0.8 -0.7 -0.1  0.5  0.5  0.4  0.6  1.1  1.0\n",
       "7        2010  0.9  1.3  1.3  0.5 -0.2 -1.3 -2.4 -2.4 -2.3 -2.2 -2.0 -1.9"
      ]
     },
     "execution_count": 62,
     "metadata": {},
     "output_type": "execute_result"
    }
   ],
   "source": [
    "enso_0310"
   ]
  },
  {
   "cell_type": "code",
   "execution_count": 64,
   "metadata": {},
   "outputs": [],
   "source": [
    "enso_listlist = enso_0310.loc[:,enso_0310.columns != 'Unnamed: 0'].values.tolist()"
   ]
  },
  {
   "cell_type": "code",
   "execution_count": 65,
   "metadata": {},
   "outputs": [
    {
     "data": {
      "text/plain": [
       "[[0.8, 0.6, 0.5, -0.1, -0.6, -0.1, 0.0, 0.0, 0.1, 0.3, 0.3, 0.1],\n",
       " [0.2, 0.0, -0.4, -0.2, -0.4, -0.3, 0.4, 0.7, 0.5, 0.3, 0.5, 0.5],\n",
       " [0.1, 0.6, 0.8, 0.1, 0.2, 0.2, 0.0, 0.0, 0.0, -0.7, -0.7, -0.7],\n",
       " [-0.7, -0.5, -0.6, -0.8, -0.4, -0.2, 0.1, 0.6, 0.6, 0.7, 0.9, 0.6],\n",
       " [0.6, 0.4, -0.2, -0.4, -0.4, -0.9, -0.8, -0.9, -1.1, -1.1, -1.1, -1.2],\n",
       " [-1.1, -1.3, -1.5, -1.1, -1.0, -0.9, -0.9, -1.1, -1.1, -1.1, -1.0, -1.0],\n",
       " [-1.0, -0.8, -0.9, -0.8, -0.7, -0.1, 0.5, 0.5, 0.4, 0.6, 1.1, 1.0],\n",
       " [0.9, 1.3, 1.3, 0.5, -0.2, -1.3, -2.4, -2.4, -2.3, -2.2, -2.0, -1.9]]"
      ]
     },
     "execution_count": 65,
     "metadata": {},
     "output_type": "execute_result"
    }
   ],
   "source": [
    "enso_listlist"
   ]
  },
  {
   "cell_type": "code",
   "execution_count": 66,
   "metadata": {},
   "outputs": [],
   "source": [
    "enso_flat_list = [item for sublist in enso_listlist for item in sublist]"
   ]
  },
  {
   "cell_type": "code",
   "execution_count": 13,
   "metadata": {},
   "outputs": [],
   "source": [
    "enso['ond_avg'] = (enso.O + enso.N + enso.D)/3\n",
    "enso['mam_avg'] = (enso.M + enso.A + enso['M.1'])/3"
   ]
  },
  {
   "cell_type": "code",
   "execution_count": 14,
   "metadata": {},
   "outputs": [
    {
     "data": {
      "text/html": [
       "<div>\n",
       "<style scoped>\n",
       "    .dataframe tbody tr th:only-of-type {\n",
       "        vertical-align: middle;\n",
       "    }\n",
       "\n",
       "    .dataframe tbody tr th {\n",
       "        vertical-align: top;\n",
       "    }\n",
       "\n",
       "    .dataframe thead th {\n",
       "        text-align: right;\n",
       "    }\n",
       "</style>\n",
       "<table border=\"1\" class=\"dataframe\">\n",
       "  <thead>\n",
       "    <tr style=\"text-align: right;\">\n",
       "      <th></th>\n",
       "      <th>Unnamed: 0</th>\n",
       "      <th>J</th>\n",
       "      <th>F</th>\n",
       "      <th>M</th>\n",
       "      <th>A</th>\n",
       "      <th>M.1</th>\n",
       "      <th>J.1</th>\n",
       "      <th>J.2</th>\n",
       "      <th>A.1</th>\n",
       "      <th>S</th>\n",
       "      <th>O</th>\n",
       "      <th>N</th>\n",
       "      <th>D</th>\n",
       "      <th>ond_avg</th>\n",
       "      <th>mam_avg</th>\n",
       "    </tr>\n",
       "  </thead>\n",
       "  <tbody>\n",
       "    <tr>\n",
       "      <td>0</td>\n",
       "      <td>2003</td>\n",
       "      <td>0.8</td>\n",
       "      <td>0.6</td>\n",
       "      <td>0.5</td>\n",
       "      <td>-0.1</td>\n",
       "      <td>-0.6</td>\n",
       "      <td>-0.1</td>\n",
       "      <td>0.0</td>\n",
       "      <td>0.0</td>\n",
       "      <td>0.1</td>\n",
       "      <td>0.3</td>\n",
       "      <td>0.3</td>\n",
       "      <td>0.1</td>\n",
       "      <td>0.233333</td>\n",
       "      <td>-0.066667</td>\n",
       "    </tr>\n",
       "    <tr>\n",
       "      <td>1</td>\n",
       "      <td>2004</td>\n",
       "      <td>0.2</td>\n",
       "      <td>0.0</td>\n",
       "      <td>-0.4</td>\n",
       "      <td>-0.2</td>\n",
       "      <td>-0.4</td>\n",
       "      <td>-0.3</td>\n",
       "      <td>0.4</td>\n",
       "      <td>0.7</td>\n",
       "      <td>0.5</td>\n",
       "      <td>0.3</td>\n",
       "      <td>0.5</td>\n",
       "      <td>0.5</td>\n",
       "      <td>0.433333</td>\n",
       "      <td>-0.333333</td>\n",
       "    </tr>\n",
       "    <tr>\n",
       "      <td>2</td>\n",
       "      <td>2005</td>\n",
       "      <td>0.1</td>\n",
       "      <td>0.6</td>\n",
       "      <td>0.8</td>\n",
       "      <td>0.1</td>\n",
       "      <td>0.2</td>\n",
       "      <td>0.2</td>\n",
       "      <td>0.0</td>\n",
       "      <td>0.0</td>\n",
       "      <td>0.0</td>\n",
       "      <td>-0.7</td>\n",
       "      <td>-0.7</td>\n",
       "      <td>-0.7</td>\n",
       "      <td>-0.700000</td>\n",
       "      <td>0.366667</td>\n",
       "    </tr>\n",
       "    <tr>\n",
       "      <td>3</td>\n",
       "      <td>2006</td>\n",
       "      <td>-0.7</td>\n",
       "      <td>-0.5</td>\n",
       "      <td>-0.6</td>\n",
       "      <td>-0.8</td>\n",
       "      <td>-0.4</td>\n",
       "      <td>-0.2</td>\n",
       "      <td>0.1</td>\n",
       "      <td>0.6</td>\n",
       "      <td>0.6</td>\n",
       "      <td>0.7</td>\n",
       "      <td>0.9</td>\n",
       "      <td>0.6</td>\n",
       "      <td>0.733333</td>\n",
       "      <td>-0.600000</td>\n",
       "    </tr>\n",
       "    <tr>\n",
       "      <td>4</td>\n",
       "      <td>2007</td>\n",
       "      <td>0.6</td>\n",
       "      <td>0.4</td>\n",
       "      <td>-0.2</td>\n",
       "      <td>-0.4</td>\n",
       "      <td>-0.4</td>\n",
       "      <td>-0.9</td>\n",
       "      <td>-0.8</td>\n",
       "      <td>-0.9</td>\n",
       "      <td>-1.1</td>\n",
       "      <td>-1.1</td>\n",
       "      <td>-1.1</td>\n",
       "      <td>-1.2</td>\n",
       "      <td>-1.133333</td>\n",
       "      <td>-0.333333</td>\n",
       "    </tr>\n",
       "    <tr>\n",
       "      <td>5</td>\n",
       "      <td>2008</td>\n",
       "      <td>-1.1</td>\n",
       "      <td>-1.3</td>\n",
       "      <td>-1.5</td>\n",
       "      <td>-1.1</td>\n",
       "      <td>-1.0</td>\n",
       "      <td>-0.9</td>\n",
       "      <td>-0.9</td>\n",
       "      <td>-1.1</td>\n",
       "      <td>-1.1</td>\n",
       "      <td>-1.1</td>\n",
       "      <td>-1.0</td>\n",
       "      <td>-1.0</td>\n",
       "      <td>-1.033333</td>\n",
       "      <td>-1.200000</td>\n",
       "    </tr>\n",
       "    <tr>\n",
       "      <td>6</td>\n",
       "      <td>2009</td>\n",
       "      <td>-1.0</td>\n",
       "      <td>-0.8</td>\n",
       "      <td>-0.9</td>\n",
       "      <td>-0.8</td>\n",
       "      <td>-0.7</td>\n",
       "      <td>-0.1</td>\n",
       "      <td>0.5</td>\n",
       "      <td>0.5</td>\n",
       "      <td>0.4</td>\n",
       "      <td>0.6</td>\n",
       "      <td>1.1</td>\n",
       "      <td>1.0</td>\n",
       "      <td>0.900000</td>\n",
       "      <td>-0.800000</td>\n",
       "    </tr>\n",
       "    <tr>\n",
       "      <td>7</td>\n",
       "      <td>2010</td>\n",
       "      <td>0.9</td>\n",
       "      <td>1.3</td>\n",
       "      <td>1.3</td>\n",
       "      <td>0.5</td>\n",
       "      <td>-0.2</td>\n",
       "      <td>-1.3</td>\n",
       "      <td>-2.4</td>\n",
       "      <td>-2.4</td>\n",
       "      <td>-2.3</td>\n",
       "      <td>-2.2</td>\n",
       "      <td>-2.0</td>\n",
       "      <td>-1.9</td>\n",
       "      <td>-2.033333</td>\n",
       "      <td>0.533333</td>\n",
       "    </tr>\n",
       "    <tr>\n",
       "      <td>8</td>\n",
       "      <td>2011</td>\n",
       "      <td>-1.8</td>\n",
       "      <td>-1.6</td>\n",
       "      <td>-1.8</td>\n",
       "      <td>-1.7</td>\n",
       "      <td>-1.3</td>\n",
       "      <td>-1.1</td>\n",
       "      <td>-0.9</td>\n",
       "      <td>-0.9</td>\n",
       "      <td>-1.2</td>\n",
       "      <td>-1.4</td>\n",
       "      <td>-1.2</td>\n",
       "      <td>-1.2</td>\n",
       "      <td>-1.266667</td>\n",
       "      <td>-1.600000</td>\n",
       "    </tr>\n",
       "    <tr>\n",
       "      <td>9</td>\n",
       "      <td>2012</td>\n",
       "      <td>-1.1</td>\n",
       "      <td>-0.7</td>\n",
       "      <td>-0.6</td>\n",
       "      <td>-0.4</td>\n",
       "      <td>-0.3</td>\n",
       "      <td>-0.3</td>\n",
       "      <td>0.3</td>\n",
       "      <td>-0.1</td>\n",
       "      <td>-0.3</td>\n",
       "      <td>-0.2</td>\n",
       "      <td>-0.1</td>\n",
       "      <td>-0.1</td>\n",
       "      <td>-0.133333</td>\n",
       "      <td>-0.433333</td>\n",
       "    </tr>\n",
       "    <tr>\n",
       "      <td>10</td>\n",
       "      <td>2013</td>\n",
       "      <td>0.0</td>\n",
       "      <td>-0.1</td>\n",
       "      <td>-0.1</td>\n",
       "      <td>-0.4</td>\n",
       "      <td>-0.7</td>\n",
       "      <td>-1.2</td>\n",
       "      <td>-0.8</td>\n",
       "      <td>-0.5</td>\n",
       "      <td>-0.4</td>\n",
       "      <td>-0.2</td>\n",
       "      <td>-0.2</td>\n",
       "      <td>-0.3</td>\n",
       "      <td>-0.233333</td>\n",
       "      <td>-0.400000</td>\n",
       "    </tr>\n",
       "    <tr>\n",
       "      <td>11</td>\n",
       "      <td>2014</td>\n",
       "      <td>-0.5</td>\n",
       "      <td>-0.4</td>\n",
       "      <td>-0.1</td>\n",
       "      <td>-0.2</td>\n",
       "      <td>-0.2</td>\n",
       "      <td>0.0</td>\n",
       "      <td>0.3</td>\n",
       "      <td>0.2</td>\n",
       "      <td>-0.1</td>\n",
       "      <td>0.1</td>\n",
       "      <td>0.3</td>\n",
       "      <td>0.3</td>\n",
       "      <td>0.233333</td>\n",
       "      <td>-0.166667</td>\n",
       "    </tr>\n",
       "    <tr>\n",
       "      <td>12</td>\n",
       "      <td>2015</td>\n",
       "      <td>0.2</td>\n",
       "      <td>0.1</td>\n",
       "      <td>0.1</td>\n",
       "      <td>0.4</td>\n",
       "      <td>1.0</td>\n",
       "      <td>1.9</td>\n",
       "      <td>1.7</td>\n",
       "      <td>1.9</td>\n",
       "      <td>2.2</td>\n",
       "      <td>2.1</td>\n",
       "      <td>1.9</td>\n",
       "      <td>1.9</td>\n",
       "      <td>1.966667</td>\n",
       "      <td>0.500000</td>\n",
       "    </tr>\n",
       "    <tr>\n",
       "      <td>13</td>\n",
       "      <td>2016</td>\n",
       "      <td>1.9</td>\n",
       "      <td>1.8</td>\n",
       "      <td>1.3</td>\n",
       "      <td>1.3</td>\n",
       "      <td>1.3</td>\n",
       "      <td>0.4</td>\n",
       "      <td>-0.5</td>\n",
       "      <td>-0.3</td>\n",
       "      <td>-0.3</td>\n",
       "      <td>-0.6</td>\n",
       "      <td>-0.5</td>\n",
       "      <td>-0.3</td>\n",
       "      <td>-0.466667</td>\n",
       "      <td>1.300000</td>\n",
       "    </tr>\n",
       "    <tr>\n",
       "      <td>14</td>\n",
       "      <td>2017</td>\n",
       "      <td>-0.4</td>\n",
       "      <td>-0.4</td>\n",
       "      <td>-0.6</td>\n",
       "      <td>-0.2</td>\n",
       "      <td>0.2</td>\n",
       "      <td>-0.3</td>\n",
       "      <td>-0.7</td>\n",
       "      <td>-0.8</td>\n",
       "      <td>-0.8</td>\n",
       "      <td>-0.6</td>\n",
       "      <td>-0.6</td>\n",
       "      <td>-0.7</td>\n",
       "      <td>-0.633333</td>\n",
       "      <td>-0.200000</td>\n",
       "    </tr>\n",
       "    <tr>\n",
       "      <td>15</td>\n",
       "      <td>2018</td>\n",
       "      <td>-0.8</td>\n",
       "      <td>-0.7</td>\n",
       "      <td>-0.8</td>\n",
       "      <td>-1.3</td>\n",
       "      <td>-0.9</td>\n",
       "      <td>-0.5</td>\n",
       "      <td>-0.2</td>\n",
       "      <td>0.4</td>\n",
       "      <td>0.5</td>\n",
       "      <td>0.4</td>\n",
       "      <td>0.3</td>\n",
       "      <td>0.1</td>\n",
       "      <td>0.266667</td>\n",
       "      <td>-1.000000</td>\n",
       "    </tr>\n",
       "  </tbody>\n",
       "</table>\n",
       "</div>"
      ],
      "text/plain": [
       "    Unnamed: 0    J    F    M    A  M.1  J.1  J.2  A.1    S    O    N    D  \\\n",
       "0         2003  0.8  0.6  0.5 -0.1 -0.6 -0.1  0.0  0.0  0.1  0.3  0.3  0.1   \n",
       "1         2004  0.2  0.0 -0.4 -0.2 -0.4 -0.3  0.4  0.7  0.5  0.3  0.5  0.5   \n",
       "2         2005  0.1  0.6  0.8  0.1  0.2  0.2  0.0  0.0  0.0 -0.7 -0.7 -0.7   \n",
       "3         2006 -0.7 -0.5 -0.6 -0.8 -0.4 -0.2  0.1  0.6  0.6  0.7  0.9  0.6   \n",
       "4         2007  0.6  0.4 -0.2 -0.4 -0.4 -0.9 -0.8 -0.9 -1.1 -1.1 -1.1 -1.2   \n",
       "5         2008 -1.1 -1.3 -1.5 -1.1 -1.0 -0.9 -0.9 -1.1 -1.1 -1.1 -1.0 -1.0   \n",
       "6         2009 -1.0 -0.8 -0.9 -0.8 -0.7 -0.1  0.5  0.5  0.4  0.6  1.1  1.0   \n",
       "7         2010  0.9  1.3  1.3  0.5 -0.2 -1.3 -2.4 -2.4 -2.3 -2.2 -2.0 -1.9   \n",
       "8         2011 -1.8 -1.6 -1.8 -1.7 -1.3 -1.1 -0.9 -0.9 -1.2 -1.4 -1.2 -1.2   \n",
       "9         2012 -1.1 -0.7 -0.6 -0.4 -0.3 -0.3  0.3 -0.1 -0.3 -0.2 -0.1 -0.1   \n",
       "10        2013  0.0 -0.1 -0.1 -0.4 -0.7 -1.2 -0.8 -0.5 -0.4 -0.2 -0.2 -0.3   \n",
       "11        2014 -0.5 -0.4 -0.1 -0.2 -0.2  0.0  0.3  0.2 -0.1  0.1  0.3  0.3   \n",
       "12        2015  0.2  0.1  0.1  0.4  1.0  1.9  1.7  1.9  2.2  2.1  1.9  1.9   \n",
       "13        2016  1.9  1.8  1.3  1.3  1.3  0.4 -0.5 -0.3 -0.3 -0.6 -0.5 -0.3   \n",
       "14        2017 -0.4 -0.4 -0.6 -0.2  0.2 -0.3 -0.7 -0.8 -0.8 -0.6 -0.6 -0.7   \n",
       "15        2018 -0.8 -0.7 -0.8 -1.3 -0.9 -0.5 -0.2  0.4  0.5  0.4  0.3  0.1   \n",
       "\n",
       "     ond_avg   mam_avg  \n",
       "0   0.233333 -0.066667  \n",
       "1   0.433333 -0.333333  \n",
       "2  -0.700000  0.366667  \n",
       "3   0.733333 -0.600000  \n",
       "4  -1.133333 -0.333333  \n",
       "5  -1.033333 -1.200000  \n",
       "6   0.900000 -0.800000  \n",
       "7  -2.033333  0.533333  \n",
       "8  -1.266667 -1.600000  \n",
       "9  -0.133333 -0.433333  \n",
       "10 -0.233333 -0.400000  \n",
       "11  0.233333 -0.166667  \n",
       "12  1.966667  0.500000  \n",
       "13 -0.466667  1.300000  \n",
       "14 -0.633333 -0.200000  \n",
       "15  0.266667 -1.000000  "
      ]
     },
     "execution_count": 14,
     "metadata": {},
     "output_type": "execute_result"
    }
   ],
   "source": [
    "enso"
   ]
  },
  {
   "cell_type": "code",
   "execution_count": 26,
   "metadata": {},
   "outputs": [],
   "source": [
    "def simplex_mean(in_dir):\n",
    "    \n",
    "    \n",
    "    simplex_rasters = np.array(sorted(os.listdir(in_dir)))\n",
    "    tifs = pd.Series(simplex_rasters).str.contains('.tif')\n",
    "    files = simplex_rasters[tifs]\n",
    "    \n",
    "    mean_simplex = []\n",
    "    \n",
    "    for filename in files:\n",
    "            simplex_raster = rasterio.open(in_dir + filename)\n",
    "            read_raster = simplex_raster.read(1)\n",
    "            mean_raster = np.nanmean(read_raster)\n",
    "            mean_simplex.append(mean_raster)\n",
    "            \n",
    "    return mean_simplex\n"
   ]
  },
  {
   "cell_type": "code",
   "execution_count": 3,
   "metadata": {},
   "outputs": [],
   "source": [
    "mean_simplex_out_cr_ond = simplex_mean('/home/rgreen/DroughtEDM/Data/Seasonal_Simplex/ndvi_ea_simplex_ond_cr_years/')\n",
    "mean_simplex_out_cr_mam = simplex_mean('/home/rgreen/DroughtEDM/Data/Seasonal_Simplex/ndvi_ea_simplex_mam_cr_years/')"
   ]
  },
  {
   "cell_type": "code",
   "execution_count": 27,
   "metadata": {},
   "outputs": [
    {
     "name": "stderr",
     "output_type": "stream",
     "text": [
      "/home/rgreen/miniconda3/envs/edm/lib/python3.7/site-packages/numpy/core/fromnumeric.py:90: RuntimeWarning: invalid value encountered in reduce\n",
      "  return ufunc.reduce(obj, axis, dtype, out, **passkwargs)\n"
     ]
    }
   ],
   "source": [
    "mean_simplex_monthly = simplex_mean('/home/rgreen/DroughtEDM/Data/Seasonal_Simplex/ndvi_ea_simplex_monthly/')"
   ]
  },
  {
   "cell_type": "code",
   "execution_count": null,
   "metadata": {},
   "outputs": [],
   "source": []
  },
  {
   "cell_type": "code",
   "execution_count": 15,
   "metadata": {},
   "outputs": [],
   "source": [
    "data_cr_ond = {'Year': list(range(2003, 2019)), 'AvgENSO': enso.ond_avg, 'AvgSimplex': mean_simplex_out_cr_ond}\n",
    "data_cr_mam = {'Year': list(range(2003, 2019)), 'AvgENSO': enso.mam_avg, 'AvgSimplex': mean_simplex_out_cr_mam}"
   ]
  },
  {
   "cell_type": "code",
   "execution_count": 19,
   "metadata": {},
   "outputs": [],
   "source": [
    "prediction_skill_enso_cr_ond = pd.DataFrame(data_cr_ond, columns=['Year', 'AvgENSO', 'AvgSimplex'])\n",
    "prediction_skill_enso_cr_mam = pd.DataFrame(data_cr_mam, columns=['Year', 'AvgENSO', 'AvgSimplex'])"
   ]
  },
  {
   "cell_type": "code",
   "execution_count": 74,
   "metadata": {},
   "outputs": [
    {
     "data": {
      "text/plain": [
       "Text(0, 0.5, 'Avg OND Seasonal NDVI Prediction SKill ')"
      ]
     },
     "execution_count": 74,
     "metadata": {},
     "output_type": "execute_result"
    },
    {
     "data": {
      "image/png": "[encoded data removed]",
      "text/plain": [
       "<Figure size 432x288 with 1 Axes>"
      ]
     },
     "metadata": {
      "needs_background": "light"
     },
     "output_type": "display_data"
    }
   ],
   "source": [
    "fig = plt.figure()\n",
    "plt.ylim(0,1)\n",
    "plt.scatter(prediction_skill_enso_cr_ond.AvgENSO, prediction_skill_enso_cr_ond.AvgSimplex)\n",
    "plt.xlabel('Avg OND Seasonal ENSO Index')\n",
    "plt.ylabel('Avg OND Seasonal NDVI Prediction SKill ')"
   ]
  },
  {
   "cell_type": "code",
   "execution_count": 75,
   "metadata": {},
   "outputs": [
    {
     "data": {
      "text/plain": [
       "Text(0, 0.5, 'Avg MAM Seasonal NDVI Prediction SKill')"
      ]
     },
     "execution_count": 75,
     "metadata": {},
     "output_type": "execute_result"
    },
    {
     "data": {
      "image/png": "[encoded data removed]",
      "text/plain": [
       "<Figure size 432x288 with 1 Axes>"
      ]
     },
     "metadata": {
      "needs_background": "light"
     },
     "output_type": "display_data"
    }
   ],
   "source": [
    "plt.scatter(prediction_skill_enso_cr_mam.AvgENSO, prediction_skill_enso_cr_mam.AvgSimplex)\n",
    "plt.ylim(0,1)\n",
    "plt.xlabel('Avg MAM Seasonal ENSO Index')\n",
    "plt.ylabel('Avg MAM Seasonal NDVI Prediction SKill')"
   ]
  },
  {
   "cell_type": "code",
   "execution_count": 59,
   "metadata": {},
   "outputs": [
    {
     "data": {
      "text/plain": [
       "192"
      ]
     },
     "execution_count": 59,
     "metadata": {},
     "output_type": "execute_result"
    }
   ],
   "source": [
    "len(enso_flat_list)"
   ]
  },
  {
   "cell_type": "code",
   "execution_count": 60,
   "metadata": {},
   "outputs": [
    {
     "data": {
      "text/plain": [
       "96"
      ]
     },
     "execution_count": 60,
     "metadata": {},
     "output_type": "execute_result"
    }
   ],
   "source": [
    "len(mean_simplex_monthly)"
   ]
  },
  {
   "cell_type": "code",
   "execution_count": 68,
   "metadata": {},
   "outputs": [],
   "source": [
    "data_monthly = {'MonthlyENSO': enso_flat_list, 'MonthlySimplex': mean_simplex_monthly}\n"
   ]
  },
  {
   "cell_type": "code",
   "execution_count": 70,
   "metadata": {},
   "outputs": [],
   "source": [
    "prediction_skill_enso_monthly = pd.DataFrame(data_monthly, columns=['MonthlyENSO', 'MonthlySimplex'])"
   ]
  },
  {
   "cell_type": "code",
   "execution_count": 73,
   "metadata": {},
   "outputs": [
    {
     "data": {
      "text/plain": [
       "Text(0, 0.5, 'NDVI Monthly Predictive Skill')"
      ]
     },
     "execution_count": 73,
     "metadata": {},
     "output_type": "execute_result"
    },
    {
     "data": {
      "image/png": "[encoded data removed]",
      "text/plain": [
       "<Figure size 432x288 with 1 Axes>"
      ]
     },
     "metadata": {
      "needs_background": "light"
     },
     "output_type": "display_data"
    }
   ],
   "source": [
    "fig = plt.figure()\n",
    "plt.scatter(prediction_skill_enso_monthly.MonthlyENSO, prediction_skill_enso_monthly.MonthlySimplex)\n",
    "plt.xlabel('Monthly ENSO')\n",
    "plt.ylabel('NDVI Monthly Predictive Skill')"
   ]
  },
  {
   "cell_type": "code",
   "execution_count": null,
   "metadata": {},
   "outputs": [],
   "source": []
  }
 ],
 "metadata": {
  "kernelspec": {
   "display_name": "Python [conda env:edm]",
   "language": "python",
   "name": "conda-env-edm-py"
  },
  "language_info": {
   "codemirror_mode": {
    "name": "ipython",
    "version": 3
   },
   "file_extension": ".py",
   "mimetype": "text/x-python",
   "name": "python",
   "nbconvert_exporter": "python",
   "pygments_lexer": "ipython3",
   "version": "3.7.3"
  }
 },
 "nbformat": 4,
 "nbformat_minor": 4
}
