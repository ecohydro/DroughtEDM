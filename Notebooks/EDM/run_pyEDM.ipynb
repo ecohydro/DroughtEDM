{
 "cells": [
  {
   "cell_type": "markdown",
   "metadata": {},
   "source": [
    "# EDM Implementation of climate-vegetation time series in Python"
   ]
  },
  {
   "cell_type": "markdown",
   "metadata": {},
   "source": [
    "## pyEDM documentation here: https://github.com/SugiharaLab/pyEDM/blob/master/doc/pyEDM.pdf"
   ]
  },
  {
   "cell_type": "markdown",
   "metadata": {},
   "source": [
    "* E = data dimension\n",
    "* Tp = prediction interval\n",
    "* knn = number nearest neighbors\n",
    "* tau = embedding delay\n",
    "* theta = Smap localization\n"
   ]
  },
  {
   "cell_type": "code",
   "execution_count": 8,
   "metadata": {},
   "outputs": [
    {
     "data": {
      "text/html": [
       "\n",
       "<style>\n",
       "    .jp-OutputArea-child {\n",
       "        display: inline-block;\n",
       "    }\n",
       "</style>\n"
      ],
      "text/plain": [
       "<IPython.core.display.HTML object>"
      ]
     },
     "metadata": {},
     "output_type": "display_data"
    }
   ],
   "source": [
    "%%html\n",
    "\n",
    "<style>\n",
    "    .jp-OutputArea-child {\n",
    "        display: inline-block;\n",
    "    }\n",
    "</style>"
   ]
  },
  {
   "cell_type": "code",
   "execution_count": 3,
   "metadata": {},
   "outputs": [],
   "source": [
    "from pyEDM import *\n",
    "import pandas as pd\n",
    "import numpy as np\n",
    "from matplotlib import pyplot as plt\n",
    "from matplotlib import dates as mdates\n",
    "import matplotlib as mpl\n",
    "import statsmodels.api as sm\n",
    "import matplotlib.animation as animation\n",
    "import mpl_toolkits.mplot3d.axes3d as p3\n",
    "import cycler\n",
    "import seaborn as sns\n",
    "from scipy.stats import spearmanr"
   ]
  },
  {
   "cell_type": "markdown",
   "metadata": {},
   "source": [
    "# Examples "
   ]
  },
  {
   "cell_type": "code",
   "execution_count": null,
   "metadata": {},
   "outputs": [],
   "source": [
    "pyEDM.Examples()"
   ]
  },
  {
   "cell_type": "markdown",
   "metadata": {},
   "source": [
    "# Load Data"
   ]
  },
  {
   "cell_type": "code",
   "execution_count": 4,
   "metadata": {},
   "outputs": [],
   "source": [
    "#change automatic colors to cmap\n",
    "\n",
    "n = 20\n",
    "color = plt.cm.winter(np.linspace(0, 1,n))\n",
    "mpl.rcParams['axes.prop_cycle'] = cycler.cycler('color', color)"
   ]
  },
  {
   "cell_type": "code",
   "execution_count": 5,
   "metadata": {},
   "outputs": [],
   "source": [
    "#Here is the main directory\n",
    "OROMIA_TS_DIR = '/home/rgreen/tana-spin/rgreen/DroughtEDM/Data/Final_TS/oromia_df_normalized/'\n",
    "#save figures to this folder\n",
    "FIGURES = '/home/rgreen/tana-spin/rgreen/DroughtEDM/Figures/'\n",
    "SMOOTHED_DIR = '/home/rgreen/tana-spin/rgreen/DroughtEDM/Data/Final_TS/smoothed/'\n",
    "\n",
    "#Directory for seasonal decomposed time series\n",
    "OROMIA_TS_DS = '/home/rgreen/tana-spin/rgreen/DroughtEDM/Data/Final_TS/oromia_df_seasonaldecomposed/'\n"
   ]
  },
  {
   "cell_type": "code",
   "execution_count": 6,
   "metadata": {},
   "outputs": [],
   "source": [
    "#View time series data and insert columns: dekad, year, month\n",
    "oromia_croplands_ts = pd.read_csv(OROMIA_TS_DIR + 'oromia_croplands_df_normalized.csv',index_col=False)\n",
    "oromia_croplands_ts.Time = pd.to_datetime(oromia_croplands_ts['Time'])\n",
    "oromia_croplands_ts.insert(1, 'Dekad', pd.Series(list(range(19,37)) + list(range(1,37))*14))\n",
    "oromia_croplands_ts['Year'], oromia_croplands_ts['Month'] = oromia_croplands_ts['Time'].dt.year, oromia_croplands_ts['Time'].dt.month\n"
   ]
  },
  {
   "cell_type": "code",
   "execution_count": 7,
   "metadata": {},
   "outputs": [
    {
     "data": {
      "text/html": [
       "<div>\n",
       "<style scoped>\n",
       "    .dataframe tbody tr th:only-of-type {\n",
       "        vertical-align: middle;\n",
       "    }\n",
       "\n",
       "    .dataframe tbody tr th {\n",
       "        vertical-align: top;\n",
       "    }\n",
       "\n",
       "    .dataframe thead th {\n",
       "        text-align: right;\n",
       "    }\n",
       "</style>\n",
       "<table border=\"1\" class=\"dataframe\">\n",
       "  <thead>\n",
       "    <tr style=\"text-align: right;\">\n",
       "      <th></th>\n",
       "      <th>Time</th>\n",
       "      <th>Dekad</th>\n",
       "      <th>SM</th>\n",
       "      <th>TMP</th>\n",
       "      <th>P</th>\n",
       "      <th>LST</th>\n",
       "      <th>NDVI</th>\n",
       "      <th>refET</th>\n",
       "      <th>Year</th>\n",
       "      <th>Month</th>\n",
       "    </tr>\n",
       "  </thead>\n",
       "  <tbody>\n",
       "    <tr>\n",
       "      <td>0</td>\n",
       "      <td>2002-07-01</td>\n",
       "      <td>19</td>\n",
       "      <td>0.135646</td>\n",
       "      <td>0.052480</td>\n",
       "      <td>0.742506</td>\n",
       "      <td>0.037586</td>\n",
       "      <td>-0.083077</td>\n",
       "      <td>0.056306</td>\n",
       "      <td>2002</td>\n",
       "      <td>7</td>\n",
       "    </tr>\n",
       "    <tr>\n",
       "      <td>1</td>\n",
       "      <td>2002-07-11</td>\n",
       "      <td>20</td>\n",
       "      <td>0.544381</td>\n",
       "      <td>-0.904232</td>\n",
       "      <td>0.831454</td>\n",
       "      <td>-0.684467</td>\n",
       "      <td>-0.026029</td>\n",
       "      <td>-0.777299</td>\n",
       "      <td>2002</td>\n",
       "      <td>7</td>\n",
       "    </tr>\n",
       "    <tr>\n",
       "      <td>2</td>\n",
       "      <td>2002-07-21</td>\n",
       "      <td>21</td>\n",
       "      <td>1.024050</td>\n",
       "      <td>-1.651244</td>\n",
       "      <td>2.282451</td>\n",
       "      <td>-0.969916</td>\n",
       "      <td>0.021414</td>\n",
       "      <td>-0.294196</td>\n",
       "      <td>2002</td>\n",
       "      <td>7</td>\n",
       "    </tr>\n",
       "    <tr>\n",
       "      <td>3</td>\n",
       "      <td>2002-08-01</td>\n",
       "      <td>22</td>\n",
       "      <td>1.238326</td>\n",
       "      <td>-1.839325</td>\n",
       "      <td>1.355295</td>\n",
       "      <td>-1.152511</td>\n",
       "      <td>0.281149</td>\n",
       "      <td>-1.135613</td>\n",
       "      <td>2002</td>\n",
       "      <td>8</td>\n",
       "    </tr>\n",
       "    <tr>\n",
       "      <td>4</td>\n",
       "      <td>2002-08-11</td>\n",
       "      <td>23</td>\n",
       "      <td>1.272390</td>\n",
       "      <td>-1.681766</td>\n",
       "      <td>1.303809</td>\n",
       "      <td>-1.152511</td>\n",
       "      <td>0.749501</td>\n",
       "      <td>-0.960297</td>\n",
       "      <td>2002</td>\n",
       "      <td>8</td>\n",
       "    </tr>\n",
       "    <tr>\n",
       "      <td>...</td>\n",
       "      <td>...</td>\n",
       "      <td>...</td>\n",
       "      <td>...</td>\n",
       "      <td>...</td>\n",
       "      <td>...</td>\n",
       "      <td>...</td>\n",
       "      <td>...</td>\n",
       "      <td>...</td>\n",
       "      <td>...</td>\n",
       "      <td>...</td>\n",
       "    </tr>\n",
       "    <tr>\n",
       "      <td>517</td>\n",
       "      <td>2016-11-11</td>\n",
       "      <td>32</td>\n",
       "      <td>-0.607893</td>\n",
       "      <td>-0.185363</td>\n",
       "      <td>-0.930699</td>\n",
       "      <td>-0.009177</td>\n",
       "      <td>0.314271</td>\n",
       "      <td>-0.206690</td>\n",
       "      <td>2016</td>\n",
       "      <td>11</td>\n",
       "    </tr>\n",
       "    <tr>\n",
       "      <td>518</td>\n",
       "      <td>2016-11-21</td>\n",
       "      <td>33</td>\n",
       "      <td>-0.689993</td>\n",
       "      <td>-0.117030</td>\n",
       "      <td>-0.758587</td>\n",
       "      <td>-0.407309</td>\n",
       "      <td>-0.025562</td>\n",
       "      <td>-1.129312</td>\n",
       "      <td>2016</td>\n",
       "      <td>11</td>\n",
       "    </tr>\n",
       "    <tr>\n",
       "      <td>519</td>\n",
       "      <td>2016-12-01</td>\n",
       "      <td>34</td>\n",
       "      <td>-0.820439</td>\n",
       "      <td>-0.639136</td>\n",
       "      <td>-0.966702</td>\n",
       "      <td>0.231113</td>\n",
       "      <td>-0.288986</td>\n",
       "      <td>-0.521770</td>\n",
       "      <td>2016</td>\n",
       "      <td>12</td>\n",
       "    </tr>\n",
       "    <tr>\n",
       "      <td>520</td>\n",
       "      <td>2016-12-11</td>\n",
       "      <td>35</td>\n",
       "      <td>-1.135127</td>\n",
       "      <td>-0.063027</td>\n",
       "      <td>-0.979032</td>\n",
       "      <td>0.386684</td>\n",
       "      <td>-0.505438</td>\n",
       "      <td>-0.371977</td>\n",
       "      <td>2016</td>\n",
       "      <td>12</td>\n",
       "    </tr>\n",
       "    <tr>\n",
       "      <td>521</td>\n",
       "      <td>2016-12-21</td>\n",
       "      <td>36</td>\n",
       "      <td>-1.238104</td>\n",
       "      <td>0.487745</td>\n",
       "      <td>-0.953281</td>\n",
       "      <td>0.540627</td>\n",
       "      <td>-0.737912</td>\n",
       "      <td>0.599384</td>\n",
       "      <td>2016</td>\n",
       "      <td>12</td>\n",
       "    </tr>\n",
       "  </tbody>\n",
       "</table>\n",
       "<p>522 rows × 10 columns</p>\n",
       "</div>"
      ],
      "text/plain": [
       "          Time  Dekad        SM       TMP         P       LST      NDVI  \\\n",
       "0   2002-07-01     19  0.135646  0.052480  0.742506  0.037586 -0.083077   \n",
       "1   2002-07-11     20  0.544381 -0.904232  0.831454 -0.684467 -0.026029   \n",
       "2   2002-07-21     21  1.024050 -1.651244  2.282451 -0.969916  0.021414   \n",
       "3   2002-08-01     22  1.238326 -1.839325  1.355295 -1.152511  0.281149   \n",
       "4   2002-08-11     23  1.272390 -1.681766  1.303809 -1.152511  0.749501   \n",
       "..         ...    ...       ...       ...       ...       ...       ...   \n",
       "517 2016-11-11     32 -0.607893 -0.185363 -0.930699 -0.009177  0.314271   \n",
       "518 2016-11-21     33 -0.689993 -0.117030 -0.758587 -0.407309 -0.025562   \n",
       "519 2016-12-01     34 -0.820439 -0.639136 -0.966702  0.231113 -0.288986   \n",
       "520 2016-12-11     35 -1.135127 -0.063027 -0.979032  0.386684 -0.505438   \n",
       "521 2016-12-21     36 -1.238104  0.487745 -0.953281  0.540627 -0.737912   \n",
       "\n",
       "        refET  Year  Month  \n",
       "0    0.056306  2002      7  \n",
       "1   -0.777299  2002      7  \n",
       "2   -0.294196  2002      7  \n",
       "3   -1.135613  2002      8  \n",
       "4   -0.960297  2002      8  \n",
       "..        ...   ...    ...  \n",
       "517 -0.206690  2016     11  \n",
       "518 -1.129312  2016     11  \n",
       "519 -0.521770  2016     12  \n",
       "520 -0.371977  2016     12  \n",
       "521  0.599384  2016     12  \n",
       "\n",
       "[522 rows x 10 columns]"
      ]
     },
     "execution_count": 7,
     "metadata": {},
     "output_type": "execute_result"
    }
   ],
   "source": [
    "oromia_croplands_ts"
   ]
  },
  {
   "cell_type": "code",
   "execution_count": null,
   "metadata": {},
   "outputs": [],
   "source": [
    "oromia_croplands_years = oromia_croplands_ts.groupby('Year')"
   ]
  },
  {
   "cell_type": "markdown",
   "metadata": {},
   "source": [
    "# Explore Time Series Delays"
   ]
  },
  {
   "cell_type": "code",
   "execution_count": null,
   "metadata": {
    "scrolled": true
   },
   "outputs": [],
   "source": [
    "fig, (ax1,ax2,ax3,ax4,ax5,ax6) = plt.subplots(6,sharex=True,sharey=True,figsize=(40,40))\n",
    "for label, df in oromia_croplands_years:\n",
    "    year_group = oromia_croplands_years.get_group(label)\n",
    "    ax1.plot(oromia_croplands_years.get_group(label).Dekad, oromia_croplands_years.get_group(label).SM, label = label)\n",
    "    ax1.set_title('Soil Moisture', fontsize = 40)\n",
    "    #ax1.legend(loc = 'upper right', ncol = 2, fontsize = 8)\n",
    "    ax2.plot(oromia_croplands_years.get_group(label).Dekad, oromia_croplands_years.get_group(label).TMP, label = label)\n",
    "    ax2.set_title('Temperature', fontsize = 40)\n",
    "    ax3.plot(oromia_croplands_years.get_group(label).Dekad, oromia_croplands_years.get_group(label).P, label = label)\n",
    "    ax3.set_title('Precipitation', fontsize = 40)\n",
    "    ax4.plot(oromia_croplands_years.get_group(label).Dekad, oromia_croplands_years.get_group(label).LST, label = label)\n",
    "    ax4.set_title('Land Surface Temperature', fontsize = 40)\n",
    "    ax5.plot(oromia_croplands_years.get_group(label).Dekad, oromia_croplands_years.get_group(label).NDVI, label = label)\n",
    "    ax5.set_title('Normalized Difference Vegetation Index', fontsize = 40)\n",
    "    ax6.plot(oromia_croplands_years.get_group(label).Dekad, oromia_croplands_years.get_group(label).refET, label = label)\n",
    "    ax6.set_title('Potential Evapotranspiration', fontsize = 40)\n",
    "        \n",
    "plt.xticks(np.arange(1,37,1), fontsize = 30)\n",
    "#fig.yticks(fontsize = 30)\n",
    "plt.xlabel('Dekad', fontsize = 40)\n",
    "fig.suptitle('Oromia Environmental Parameters By Year Normalized', fontsize = 50)\n",
    "legend = plt.legend(loc = 'upper right', ncol = 2, fontsize = 8)\n",
    "#plt.gca().set_axis_off()\n",
    "#plt.subplots_adjust(hspace=0.3)\n",
    "\n",
    "#fig.savefig(FIGURES + 'oromia_parameters_by_dekad.pdf', bbox_inches='tight')"
   ]
  },
  {
   "cell_type": "code",
   "execution_count": null,
   "metadata": {},
   "outputs": [],
   "source": [
    "#save legend as separate image for presentation\n",
    "def export_legend(legend, filename= FIGURES + 'oromia_parameters_by_dekad_legend.png', expand=[-5,-5,5,5]):\n",
    "    fig  = legend.figure\n",
    "    fig.canvas.draw()\n",
    "    bbox  = legend.get_window_extent()\n",
    "    bbox = bbox.from_extents(*(bbox.extents + np.array(expand)))\n",
    "    bbox = bbox.transformed(fig.dpi_scale_trans.inverted())\n",
    "    fig.savefig(filename, dpi=\"figure\", bbox_inches=bbox)\n",
    "\n",
    "export_legend(legend)\n",
    "plt.show()"
   ]
  },
  {
   "cell_type": "code",
   "execution_count": null,
   "metadata": {},
   "outputs": [],
   "source": [
    "oromia_croplands_dekads_mean = oromia_croplands_ts.groupby('Dekad').mean()"
   ]
  },
  {
   "cell_type": "code",
   "execution_count": null,
   "metadata": {},
   "outputs": [],
   "source": [
    "oromia_croplands_dekads_std = oromia_croplands_ts.groupby('Dekad').std()"
   ]
  },
  {
   "cell_type": "code",
   "execution_count": null,
   "metadata": {
    "scrolled": true
   },
   "outputs": [],
   "source": [
    "fig, axs = plt.subplots(3,2, figsize = (15,15))\n",
    "axs[0,0].errorbar(oromia_croplands_dekads_mean.index, oromia_croplands_dekads_mean.SM, oromia_croplands_dekads_std.SM, fmt='-o', color = 'teal', label = 'SM', ecolor = 'gray', elinewidth=2)\n",
    "axs[0,0].errorbar(oromia_croplands_dekads_mean.index, oromia_croplands_dekads_mean.NDVI, oromia_croplands_dekads_std.NDVI, fmt='-o', color = 'mediumseagreen', label = 'NDVI', ecolor = 'gray', elinewidth=2)\n",
    "axs[0,0].legend()\n",
    "axs[1,0].errorbar(oromia_croplands_dekads_mean.index, oromia_croplands_dekads_mean.TMP, oromia_croplands_dekads_std.TMP, fmt='-o', color = 'teal', label = 'TMP', ecolor = 'gray', elinewidth=2)\n",
    "axs[1,0].errorbar(oromia_croplands_dekads_mean.index, oromia_croplands_dekads_mean.NDVI, oromia_croplands_dekads_std.NDVI, fmt='-o', color = 'mediumseagreen', label = 'NDVI', ecolor = 'gray', elinewidth=2)\n",
    "axs[1,0].legend()\n",
    "axs[2,0].errorbar(oromia_croplands_dekads_mean.index, oromia_croplands_dekads_mean.P, oromia_croplands_dekads_std.P, fmt='-o', color = 'teal', label = 'P', ecolor = 'gray', elinewidth=2)\n",
    "axs[2,0].errorbar(oromia_croplands_dekads_mean.index, oromia_croplands_dekads_mean.NDVI, oromia_croplands_dekads_std.NDVI, fmt='-o', color = 'mediumseagreen', label = 'NDVI', ecolor = 'gray', elinewidth=2)\n",
    "axs[2,0].legend()\n",
    "axs[0,1].errorbar(oromia_croplands_dekads_mean.index, oromia_croplands_dekads_mean.LST, oromia_croplands_dekads_std.LST, fmt='-o', color = 'teal', label = 'LST', ecolor = 'gray', elinewidth=2)\n",
    "axs[0,1].errorbar(oromia_croplands_dekads_mean.index, oromia_croplands_dekads_mean.NDVI, oromia_croplands_dekads_std.NDVI, fmt='-o', color = 'mediumseagreen', label = 'NDVI', ecolor = 'gray', elinewidth=2)\n",
    "axs[0,1].legend()\n",
    "axs[1,1].errorbar(oromia_croplands_dekads_mean.index, oromia_croplands_dekads_mean.refET, oromia_croplands_dekads_std.refET, fmt='-o', color = 'teal', label = 'refET', ecolor = 'gray', elinewidth=2)\n",
    "axs[1,1].errorbar(oromia_croplands_dekads_mean.index, oromia_croplands_dekads_mean.NDVI, oromia_croplands_dekads_std.NDVI, fmt='-o', color = 'mediumseagreen', label = 'NDVI', ecolor = 'gray', elinewidth=2)\n",
    "axs[1,1].legend()\n",
    "axs[1,1].set_xlabel('Dekad')\n",
    "axs[2,0].set_xlabel('Dekad')\n",
    "fig.delaxes(axs[2,1])\n",
    "\n",
    "fig.savefig(FIGURES + 'oromia_parameter_vs_ndvi_by_dekad.pdf', bbox_inches='tight')\n"
   ]
  },
  {
   "cell_type": "markdown",
   "metadata": {},
   "source": [
    "# Plot attractor reconstructions"
   ]
  },
  {
   "cell_type": "code",
   "execution_count": null,
   "metadata": {
    "scrolled": true
   },
   "outputs": [],
   "source": [
    "oromia_croplands_embed_sm = Embed(pathIn = SMOOTHED_DIR, dataFile = 'oromia_croplands_smoothed.csv', E = 3, tau = 1, columns = 'SM')\n",
    "\n",
    "oromia_croplands_embed_ndvi = Embed(pathIn = SMOOTHED_DIR, dataFile = 'oromia_croplands_smoothed.csv', E = 3, tau = 1, columns = 'NDVI')\n",
    "\n",
    "oromia_croplands_embed_p = Embed(pathIn = SMOOTHED_DIR, dataFile = 'oromia_croplands_smoothed.csv', E = 3, tau = 1, columns = 'P')\n",
    "\n",
    "oromia_croplands_embed_refET = Embed(pathIn = SMOOTHED_DIR, dataFile = 'oromia_croplands_smoothed.csv', E = 3, tau = 1, columns = 'refET')\n",
    "\n",
    "oromia_croplands_embed_lst = Embed(pathIn = SMOOTHED_DIR, dataFile = 'oromia_croplands_smoothed.csv', E = 3, tau = 1, columns = 'LST')\n",
    "\n",
    "oromia_croplands_embed_tmp = Embed(pathIn = SMOOTHED_DIR, dataFile = 'oromia_croplands_smoothed.csv', E = 3, tau = 1, columns = 'TMP')\n"
   ]
  },
  {
   "cell_type": "code",
   "execution_count": null,
   "metadata": {},
   "outputs": [],
   "source": [
    "oromia_croplands_embed_ndvi = Embed(pathIn = SMOOTHED_DIR, dataFile = 'oromia_croplands_smoothed.csv', E = 8, columns = 'NDVI')\n"
   ]
  },
  {
   "cell_type": "code",
   "execution_count": null,
   "metadata": {},
   "outputs": [],
   "source": [
    "oromia_croplands_embed_ndvi.head(20)"
   ]
  },
  {
   "cell_type": "code",
   "execution_count": 9,
   "metadata": {},
   "outputs": [
    {
     "ename": "NameError",
     "evalue": "name 'oromia_croplands_embed_sm' is not defined",
     "output_type": "error",
     "traceback": [
      "\u001b[0;31m---------------------------------------------------------------------------\u001b[0m",
      "\u001b[0;31mNameError\u001b[0m                                 Traceback (most recent call last)",
      "\u001b[0;32m<ipython-input-9-e0b355071e51>\u001b[0m in \u001b[0;36m<module>\u001b[0;34m\u001b[0m\n\u001b[1;32m      2\u001b[0m \u001b[0mfig\u001b[0m \u001b[0;34m=\u001b[0m \u001b[0mplt\u001b[0m\u001b[0;34m.\u001b[0m\u001b[0mfigure\u001b[0m\u001b[0;34m(\u001b[0m\u001b[0mfigsize\u001b[0m\u001b[0;34m=\u001b[0m\u001b[0;34m(\u001b[0m\u001b[0;36m10\u001b[0m\u001b[0;34m,\u001b[0m\u001b[0;36m10\u001b[0m\u001b[0;34m)\u001b[0m\u001b[0;34m)\u001b[0m\u001b[0;34m\u001b[0m\u001b[0;34m\u001b[0m\u001b[0m\n\u001b[1;32m      3\u001b[0m \u001b[0max\u001b[0m \u001b[0;34m=\u001b[0m \u001b[0mplt\u001b[0m\u001b[0;34m.\u001b[0m\u001b[0maxes\u001b[0m\u001b[0;34m(\u001b[0m\u001b[0;34m)\u001b[0m\u001b[0;34m\u001b[0m\u001b[0;34m\u001b[0m\u001b[0m\n\u001b[0;32m----> 4\u001b[0;31m \u001b[0max\u001b[0m\u001b[0;34m.\u001b[0m\u001b[0mplot\u001b[0m\u001b[0;34m(\u001b[0m\u001b[0moromia_croplands_embed_sm\u001b[0m\u001b[0;34m[\u001b[0m\u001b[0;34m'SM(t-0)'\u001b[0m\u001b[0;34m]\u001b[0m\u001b[0;34m,\u001b[0m \u001b[0moromia_croplands_embed_p\u001b[0m\u001b[0;34m[\u001b[0m\u001b[0;34m'P(t-0)'\u001b[0m\u001b[0;34m]\u001b[0m\u001b[0;34m,\u001b[0m \u001b[0mc\u001b[0m \u001b[0;34m=\u001b[0m \u001b[0;34m'royalblue'\u001b[0m\u001b[0;34m)\u001b[0m\u001b[0;34m\u001b[0m\u001b[0;34m\u001b[0m\u001b[0m\n\u001b[0m\u001b[1;32m      5\u001b[0m \u001b[0max\u001b[0m\u001b[0;34m.\u001b[0m\u001b[0mscatter\u001b[0m\u001b[0;34m(\u001b[0m\u001b[0moromia_croplands_embed_sm\u001b[0m\u001b[0;34m[\u001b[0m\u001b[0;34m'SM(t-0)'\u001b[0m\u001b[0;34m]\u001b[0m\u001b[0;34m.\u001b[0m\u001b[0miloc\u001b[0m\u001b[0;34m[\u001b[0m\u001b[0;36m25\u001b[0m\u001b[0;34m]\u001b[0m\u001b[0;34m,\u001b[0m \u001b[0moromia_croplands_embed_sm\u001b[0m\u001b[0;34m[\u001b[0m\u001b[0;34m'SM(t-1)'\u001b[0m\u001b[0;34m]\u001b[0m\u001b[0;34m.\u001b[0m\u001b[0miloc\u001b[0m\u001b[0;34m[\u001b[0m\u001b[0;36m25\u001b[0m\u001b[0;34m]\u001b[0m\u001b[0;34m,\u001b[0m \u001b[0mcolor\u001b[0m \u001b[0;34m=\u001b[0m \u001b[0;34m'red'\u001b[0m\u001b[0;34m,\u001b[0m \u001b[0ms\u001b[0m \u001b[0;34m=\u001b[0m \u001b[0;36m50\u001b[0m\u001b[0;34m)\u001b[0m\u001b[0;34m\u001b[0m\u001b[0;34m\u001b[0m\u001b[0m\n\u001b[1;32m      6\u001b[0m \u001b[0;31m#ax.view_init(30,10)\u001b[0m\u001b[0;34m\u001b[0m\u001b[0;34m\u001b[0m\u001b[0;34m\u001b[0m\u001b[0m\n",
      "\u001b[0;31mNameError\u001b[0m: name 'oromia_croplands_embed_sm' is not defined"
     ]
    },
    {
     "data": {
      "image/png": "[encoded data removed]",
      "text/plain": [
       "<Figure size 720x720 with 1 Axes>"
      ]
     },
     "metadata": {},
     "output_type": "display_data"
    }
   ],
   "source": [
    "plt.style.use('dark_background')\n",
    "fig = plt.figure(figsize=(10,10))\n",
    "ax = plt.axes()\n",
    "ax.plot(oromia_croplands_embed_sm['SM(t-0)'], oromia_croplands_embed_p['P(t-0)'], c = 'royalblue')\n",
    "ax.scatter(oromia_croplands_embed_sm['SM(t-0)'].iloc[25], oromia_croplands_embed_sm['SM(t-1)'].iloc[25], color = 'red', s = 50)\n",
    "#ax.view_init(30,10)\n",
    "#plt.savefig(FIGURES + 'sm_attractor_reconstruction.png', dpi=100)\n",
    "ax.grid(False)\n",
    "ax.set_xlabel('Soil Moisture', fontsize = 20, labelpad = 10)\n",
    "ax.set_ylabel('Precipitation', fontsize = 20, labelpad = 10)\n",
    "#ax.set_zlabel('Land Surface Temperature', fontsize = 20, labelpad = 10)\n",
    "plt.savefig(FIGURES + 'sm_p_2d_attractor_reconstruction.png', dpi=100)"
   ]
  },
  {
   "cell_type": "code",
   "execution_count": null,
   "metadata": {},
   "outputs": [],
   "source": [
    "plt.style.use('dark_background')\n",
    "fig = plt.figure(figsize=(10,10))\n",
    "ax = plt.axes(projection='3d')\n",
    "ax.plot3D(oromia_croplands_embed_sm['SM(t-0)'], oromia_croplands_embed_p['P(t-0)'], oromia_croplands_embed_lst['LST(t-0)'], c = 'royalblue')\n",
    "ax.scatter3D(oromia_croplands_embed_sm['SM(t-0)'].iloc[25], oromia_croplands_embed_sm['SM(t-1)'].iloc[25], oromia_croplands_embed_sm['SM(t-2)'].iloc[25], color = 'red', s = 50)\n",
    "#ax.view_init(30,10)\n",
    "ax.grid(False)\n",
    "ax.xaxis.set_pane_color((1.0, 1.0, 1.0, 0.0))\n",
    "ax.yaxis.set_pane_color((1.0, 1.0, 1.0, 0.0))\n",
    "ax.zaxis.set_pane_color((1.0, 1.0, 1.0, 0.0))\n",
    "ax.set_xlabel('Soil Moisture', fontsize = 20, labelpad = 10)\n",
    "ax.set_ylabel('Precipitation', fontsize = 20, labelpad = 10)\n",
    "ax.set_zlabel('Land Surface Temperature', fontsize = 20, labelpad = 10)\n",
    "plt.savefig(FIGURES + 'sm_p_lst_attractor_reconstruction.png', dpi=100)\n"
   ]
  },
  {
   "cell_type": "code",
   "execution_count": null,
   "metadata": {
    "scrolled": true
   },
   "outputs": [],
   "source": [
    "plt.style.use('dark_background')\n",
    "fig = plt.figure(figsize=(10,10))\n",
    "ax = plt.axes(projection='3d')\n",
    "ax.plot3D(oromia_croplands_embed_sm['SM(t-0)'], oromia_croplands_embed_sm['SM(t-1)'], oromia_croplands_embed_sm['SM(t-2)'], c = 'royalblue')\n",
    "ax.scatter3D(oromia_croplands_embed_sm['SM(t-0)'].iloc[25], oromia_croplands_embed_sm['SM(t-1)'].iloc[25], oromia_croplands_embed_sm['SM(t-2)'].iloc[25], color = 'red', s = 50)\n",
    "#ax.view_init(30,10)\n",
    "plt.savefig(FIGURES + 'sm_attractor_reconstruction.png', dpi=100)\n",
    "ax.grid(False)\n",
    "ax.xaxis.set_pane_color((1.0, 1.0, 1.0, 0.0))\n",
    "ax.yaxis.set_pane_color((1.0, 1.0, 1.0, 0.0))\n",
    "ax.zaxis.set_pane_color((1.0, 1.0, 1.0, 0.0))\n",
    "ax.set_xlabel('Soil Moisture(t-0)', fontsize = 20, labelpad = 10)\n",
    "ax.set_ylabel('Soil Moisture(t-1)', fontsize = 20, labelpad = 10)\n",
    "ax.set_zlabel('Soil Moisture(t-2)', fontsize = 20, labelpad = 10)\n",
    "plt.savefig(FIGURES + 'sm_attractor_reconstruction.png', dpi=100)"
   ]
  },
  {
   "cell_type": "code",
   "execution_count": null,
   "metadata": {},
   "outputs": [],
   "source": [
    "fig = plt.figure(figsize=(10,10))\n",
    "ax = plt.axes(projection='3d')\n",
    "ax.plot3D(oromia_croplands_embed_p['P(t-0)'], oromia_croplands_embed_p['P(t-1)'], oromia_croplands_embed_p['P(t-2)'], c = 'royalblue')\n",
    "ax.scatter3D(oromia_croplands_embed_p['P(t-0)'].iloc[25], oromia_croplands_embed_p['P(t-1)'].iloc[25], oromia_croplands_embed_p['P(t-2)'].iloc[25], color = 'red', s = 50)\n",
    "#ax.view_init(30,10)\n",
    "plt.savefig(FIGURES + 'sm_attractor_reconstruction.png', dpi=100)\n",
    "ax.grid(False)\n",
    "ax.xaxis.set_pane_color((1.0, 1.0, 1.0, 0.0))\n",
    "ax.yaxis.set_pane_color((1.0, 1.0, 1.0, 0.0))\n",
    "ax.zaxis.set_pane_color((1.0, 1.0, 1.0, 0.0))\n",
    "ax.set_xlabel('Precipitation(t-0)', fontsize = 20, labelpad = 10)\n",
    "ax.set_ylabel('Precipitation(t-1)', fontsize = 20, labelpad = 10)\n",
    "ax.set_zlabel('Precipitation(t-2)', fontsize = 20, labelpad = 10)\n",
    "plt.savefig(FIGURES + 'precip_attractor_reconstruction.png', dpi=100)"
   ]
  },
  {
   "cell_type": "code",
   "execution_count": null,
   "metadata": {},
   "outputs": [],
   "source": [
    "fig = plt.figure(figsize=(10,10))\n",
    "ax = plt.axes(projection='3d')\n",
    "ax.plot3D(oromia_croplands_embed_tmp['TMP(t-0)'], oromia_croplands_embed_tmp['TMP(t-1)'], oromia_croplands_embed_tmp['TMP(t-2)'], c = 'royalblue')\n",
    "ax.scatter3D(oromia_croplands_embed_tmp['TMP(t-0)'].iloc[25], oromia_croplands_embed_tmp['TMP(t-1)'].iloc[25], oromia_croplands_embed_tmp['TMP(t-2)'].iloc[25], color = 'red', s = 50)\n",
    "#ax.view_init(30,10)\n",
    "plt.savefig(FIGURES + 'sm_attractor_reconstruction.png', dpi=100)\n",
    "ax.grid(False)\n",
    "ax.xaxis.set_pane_color((1.0, 1.0, 1.0, 0.0))\n",
    "ax.yaxis.set_pane_color((1.0, 1.0, 1.0, 0.0))\n",
    "ax.zaxis.set_pane_color((1.0, 1.0, 1.0, 0.0))\n",
    "ax.set_xlabel('Temperature(t-0)', fontsize = 20, labelpad = 10)\n",
    "ax.set_ylabel('Temperature(t-1)', fontsize = 20, labelpad = 10)\n",
    "ax.set_zlabel('Temperature(t-2)', fontsize = 20, labelpad = 10)"
   ]
  },
  {
   "cell_type": "code",
   "execution_count": null,
   "metadata": {
    "scrolled": true
   },
   "outputs": [],
   "source": [
    "fig = plt.figure(figsize=(10,10))\n",
    "ax = plt.axes(projection='3d')\n",
    "ax.plot3D(oromia_croplands_embed_ndvi['NDVI(t-0)'], oromia_croplands_embed_ndvi['NDVI(t-1)'], oromia_croplands_embed_ndvi['NDVI(t-2)'], c = 'royalblue')\n",
    "#ax.scatter3D(oromia_croplands_embed_sm['SM(t-0)'], oromia_croplands_embed_sm['SM(t-1)'], oromia_croplands_embed_sm['SM(t-2)'])\n",
    "ax.scatter3D(oromia_croplands_embed_ndvi['NDVI(t-0)'].iloc[25], oromia_croplands_embed_ndvi['NDVI(t-1)'].iloc[25], oromia_croplands_embed_ndvi['NDVI(t-2)'].iloc[25], color = 'red', s = 50)\n",
    "#ax.view_init(30,10)\n",
    "#plt.suptitle('NDVI Attractor Reconstruction', y = 0.9)\n",
    "ax.grid(False)\n",
    "ax.xaxis.set_pane_color((1.0, 1.0, 1.0, 0.0))\n",
    "ax.yaxis.set_pane_color((1.0, 1.0, 1.0, 0.0))\n",
    "ax.zaxis.set_pane_color((1.0, 1.0, 1.0, 0.0))\n",
    "ax.set_xlabel('NDVI(t-0)', fontsize = 20, labelpad = 10)\n",
    "ax.set_ylabel('NDVI(t-1)', fontsize = 20, labelpad = 10)\n",
    "ax.set_zlabel('NDVI(t-2)', fontsize = 20, labelpad = 10)\n",
    "plt.savefig(FIGURES + 'ndvi_attractor_reconstruction.png', dpi=100)"
   ]
  },
  {
   "cell_type": "code",
   "execution_count": null,
   "metadata": {},
   "outputs": [],
   "source": []
  },
  {
   "cell_type": "code",
   "execution_count": null,
   "metadata": {},
   "outputs": [],
   "source": []
  },
  {
   "cell_type": "markdown",
   "metadata": {},
   "source": [
    "# 1) find optimal embedding dimension\n",
    "## specify library and prediction size, columns and target"
   ]
  },
  {
   "cell_type": "code",
   "execution_count": null,
   "metadata": {},
   "outputs": [],
   "source": [
    "#embedding dimension with seasonal decomposed data\n",
    "oromia_cropland_ds_ed_ndvi = EmbedDimension(pathIn = OROMIA_TS_DS, dataFile = 'oromia_croplands_df_ds.csv', lib = '1 100', pred = '101 400', columns = 'NDVI', showPlot = True)\n",
    "\n",
    "oromia_cropland_ds_ed_sm = EmbedDimension(pathIn = OROMIA_TS_DS, dataFile = 'oromia_croplands_df_ds.csv', lib = '1 100', pred = '101 400', columns = 'SM', showPlot = True)\n",
    "\n",
    "oromia_cropland_ds_ed_p = EmbedDimension(pathIn = OROMIA_TS_DS, dataFile = 'oromia_croplands_df_ds.csv', lib = '1 100', pred = '101 400', columns = 'P', showPlot = True)\n",
    "\n",
    "oromia_savannas_ds_ed_ndvi = EmbedDimension(pathIn = OROMIA_TS_DS, dataFile = 'oromia_savannas_df_ds.csv', lib = '1 100', pred = '101 400', columns = 'NDVI', showPlot = True)\n",
    "\n",
    "oromia_savannas_ds_ed_sm = EmbedDimension(pathIn = OROMIA_TS_DS, dataFile = 'oromia_savannas_df_ds.csv', lib = '1 100', pred = '101 400', columns = 'SM', showPlot = True)\n",
    "\n",
    "oromia_savannas_ds_ed_p = EmbedDimension(pathIn = OROMIA_TS_DS, dataFile = 'oromia_savannas_df_ds.csv', lib = '1 100', pred = '101 400', columns = 'P', showPlot = True)\n",
    "\n",
    "oromia_grasslands_ds_ed_ndvi = EmbedDimension(pathIn = OROMIA_TS_DS, dataFile = 'oromia_grasslands_df_ds.csv', lib = '1 100', pred = '101 400', columns = 'NDVI', showPlot = True)\n",
    "\n",
    "oromia_grasslands_ds_ed_sm = EmbedDimension(pathIn = OROMIA_TS_DS, dataFile = 'oromia_grasslands_df_ds.csv', lib = '1 100', pred = '101 400', columns = 'SM', showPlot = True)\n",
    "\n",
    "oromia_grasslands_ds_ed_p = EmbedDimension(pathIn = OROMIA_TS_DS, dataFile = 'oromia_grasslands_df_ds.csv', lib = '1 100', pred = '101 400', columns = 'P', showPlot = True)\n",
    "\n"
   ]
  },
  {
   "cell_type": "code",
   "execution_count": null,
   "metadata": {},
   "outputs": [],
   "source": [
    "oromia_barren_ed_sm = EmbedDimension(pathIn = OROMIA_TS_DIR, dataFile = 'oromia_barren_df_normalized.csv', lib = '1 100', pred = '101 500', columns = 'SM', showPlot = True)\n",
    "oromia_barren_ed_tmp = EmbedDimension(pathIn = OROMIA_TS_DIR, dataFile = 'oromia_barren_df_normalized.csv', lib = '1 100', pred = '101 500', columns = 'TMP', showPlot = False)\n",
    "oromia_barren_ed_p = EmbedDimension(pathIn = OROMIA_TS_DIR, dataFile = 'oromia_barren_df_normalized.csv', lib = '1 100', pred = '101 500', columns = 'P', showPlot = False)\n",
    "oromia_barren_ed_lst = EmbedDimension(pathIn = OROMIA_TS_DIR, dataFile = 'oromia_barren_df_normalized.csv', lib = '1 100', pred = '101 500', columns = 'LST', showPlot = False)\n",
    "oromia_barren_ed_ndvi = EmbedDimension(pathIn = OROMIA_TS_DIR, dataFile = 'oromia_barren_df_normalized.csv', lib = '1 100', pred = '101 500', columns = 'NDVI', showPlot = False)\n",
    "oromia_barren_ed_refET = EmbedDimension(pathIn = OROMIA_TS_DIR, dataFile = 'oromia_barren_df_normalized.csv', lib = '1 100', pred = '101 500', columns = 'refET', showPlot = False)\n"
   ]
  },
  {
   "cell_type": "code",
   "execution_count": null,
   "metadata": {},
   "outputs": [],
   "source": [
    "oromia_closedshrublands_ed_sm = EmbedDimension(pathIn = OROMIA_TS_DIR, dataFile = 'oromia_closedshrublands_df_normalized.csv', lib = '1 100', pred = '101 500', columns = 'SM', showPlot = False)\n",
    "oromia_closedshrublands_ed_tmp = EmbedDimension(pathIn = OROMIA_TS_DIR, dataFile = 'oromia_closedshrublands_df_normalized.csv', lib = '1 100', pred = '101 500', columns = 'TMP', showPlot = True)\n",
    "oromia_closedshrublands_ed_p = EmbedDimension(pathIn = OROMIA_TS_DIR, dataFile = 'oromia_closedshrublands_df_normalized.csv', lib = '1 100', pred = '101 500', columns = 'P', showPlot = False)\n",
    "oromia_closedshrublands_ed_lst = EmbedDimension(pathIn = OROMIA_TS_DIR, dataFile = 'oromia_closedshrublands_df_normalized.csv', lib = '1 100', pred = '101 500', columns = 'LST', showPlot = False)\n",
    "oromia_closedshrublands_ed_ndvi = EmbedDimension(pathIn = OROMIA_TS_DIR, dataFile = 'oromia_closedshrublands_df_normalized.csv', lib = '1 100', pred = '101 500', columns = 'NDVI', showPlot = False)\n",
    "oromia_closedshrublands_ed_refET = EmbedDimension(pathIn = OROMIA_TS_DIR, dataFile = 'oromia_closedshrublands_df_normalized.csv', lib = '1 100', pred = '101 500', columns = 'refET', showPlot = False)"
   ]
  },
  {
   "cell_type": "code",
   "execution_count": null,
   "metadata": {
    "scrolled": true
   },
   "outputs": [],
   "source": [
    "oromia_cropland_ed_sm = EmbedDimension(pathIn = OROMIA_TS_DIR, dataFile = 'oromia_croplands_df_normalized.csv', lib = '1 100', pred = '101 500', columns = 'SM', showPlot = False)\n",
    "oromia_cropland_ed_tmp = EmbedDimension(pathIn = OROMIA_TS_DIR, dataFile = 'oromia_croplands_df_normalized.csv', lib = '1 100', pred = '101 500', tau = 2, columns = 'TMP', showPlot = True)\n",
    "oromia_cropland_ed_p = EmbedDimension(pathIn = OROMIA_TS_DIR, dataFile = 'oromia_croplands_df_normalized.csv', lib = '1 100', pred = '101 500', columns = 'P', showPlot = False)\n",
    "oromia_cropland_ed_lst = EmbedDimension(pathIn = OROMIA_TS_DIR, dataFile = 'oromia_croplands_df_normalized.csv', lib = '1 100', pred = '101 500', columns = 'LST', showPlot = False)\n",
    "oromia_cropland_ed_ndvi = EmbedDimension(pathIn = OROMIA_TS_DIR, dataFile = 'oromia_croplands_df_normalized.csv', lib = '1 100', pred = '101 500', columns = 'NDVI', showPlot = True)\n",
    "oromia_cropland_ed_refET = EmbedDimension(pathIn = OROMIA_TS_DIR, dataFile = 'oromia_croplands_df_normalized.csv', lib = '1 100', pred = '101 500', columns = 'refET', showPlot = False)\n"
   ]
  },
  {
   "cell_type": "code",
   "execution_count": null,
   "metadata": {},
   "outputs": [],
   "source": [
    "oromia_cropnatveg_ed_sm = EmbedDimension(pathIn = OROMIA_TS_DIR, dataFile = 'oromia_cropnatveg_df_normalized.csv', lib = '1 100', pred = '101 500', columns = 'SM', showPlot = False)\n",
    "oromia_cropnatveg_ed_tmp = EmbedDimension(pathIn = OROMIA_TS_DIR, dataFile = 'oromia_cropnatveg_df_normalized.csv', lib = '1 100', pred = '101 500', columns = 'TMP', showPlot = False)\n",
    "oromia_cropnatveg_ed_p = EmbedDimension(pathIn = OROMIA_TS_DIR, dataFile = 'oromia_cropnatveg_df_normalized.csv', lib = '1 100', pred = '101 500', columns = 'P', showPlot = False)\n",
    "oromia_cropnatveg_ed_lst = EmbedDimension(pathIn = OROMIA_TS_DIR, dataFile = 'oromia_cropnatveg_df_normalized.csv', lib = '1 100', pred = '101 500', columns = 'LST', showPlot = False)\n",
    "oromia_cropnatveg_ed_ndvi = EmbedDimension(pathIn = OROMIA_TS_DIR, dataFile = 'oromia_cropnatveg_df_normalized.csv', lib = '1 100', pred = '101 500', columns = 'NDVI', showPlot = False)\n",
    "oromia_cropnatveg_ed_refET = EmbedDimension(pathIn = OROMIA_TS_DIR, dataFile = 'oromia_cropnatveg_df_normalized.csv', lib = '1 100', pred = '101 500', columns = 'refET', showPlot = False)"
   ]
  },
  {
   "cell_type": "code",
   "execution_count": null,
   "metadata": {},
   "outputs": [],
   "source": [
    "oromia_deciduousbroad_ed_sm = EmbedDimension(pathIn = OROMIA_TS_DIR, dataFile = 'oromia_deciduousbroad_df_normalized.csv', lib = '1 100', pred = '101 500', columns = 'SM', showPlot = False)\n",
    "oromia_deciduousbroad_ed_tmp = EmbedDimension(pathIn = OROMIA_TS_DIR, dataFile = 'oromia_deciduousbroad_df_normalized.csv', lib = '1 100', pred = '101 500', columns = 'TMP', showPlot = False)\n",
    "oromia_deciduousbroad_ed_p = EmbedDimension(pathIn = OROMIA_TS_DIR, dataFile = 'oromia_deciduousbroad_df_normalized.csv', lib = '1 100', pred = '101 500', columns = 'P', showPlot = False)\n",
    "oromia_deciduousbroad_ed_lst = EmbedDimension(pathIn = OROMIA_TS_DIR, dataFile = 'oromia_deciduousbroad_df_normalized.csv', lib = '1 100', pred = '101 500', columns = 'LST', showPlot = False)\n",
    "oromia_deciduousbroad_ed_ndvi = EmbedDimension(pathIn = OROMIA_TS_DIR, dataFile = 'oromia_deciduousbroad_df_normalized.csv', lib = '1 100', pred = '101 500', columns = 'NDVI', showPlot = False)\n",
    "oromia_deciduousbroad_ed_refET = EmbedDimension(pathIn = OROMIA_TS_DIR, dataFile = 'oromia_deciduousbroad_df_normalized.csv', lib = '1 100', pred = '101 500', columns = 'refET', showPlot = False)"
   ]
  },
  {
   "cell_type": "code",
   "execution_count": null,
   "metadata": {},
   "outputs": [],
   "source": [
    "oromia_evergreenbroad_ed_sm = EmbedDimension(pathIn = OROMIA_TS_DIR, dataFile = 'oromia_evergreenbroad_df_normalized.csv', lib = '1 100', pred = '101 500', columns = 'SM', showPlot = False)\n",
    "oromia_evergreenbroad_ed_tmp = EmbedDimension(pathIn = OROMIA_TS_DIR, dataFile = 'oromia_evergreenbroad_df_normalized.csv', lib = '1 100', pred = '101 500', columns = 'TMP', showPlot = False)\n",
    "oromia_evergreenbroad_ed_p = EmbedDimension(pathIn = OROMIA_TS_DIR, dataFile = 'oromia_evergreenbroad_df_normalized.csv', lib = '1 100', pred = '101 500', columns = 'P', showPlot = False)\n",
    "oromia_evergreenbroad_ed_lst = EmbedDimension(pathIn = OROMIA_TS_DIR, dataFile = 'oromia_evergreenbroad_df_normalized.csv', lib = '1 100', pred = '101 500', columns = 'LST', showPlot = False)\n",
    "oromia_evergreenbroad_ed_ndvi = EmbedDimension(pathIn = OROMIA_TS_DIR, dataFile = 'oromia_evergreenbroad_df_normalized.csv', lib = '1 100', pred = '101 500', columns = 'NDVI', showPlot = False)\n",
    "oromia_evergreenbroad_ed_refET = EmbedDimension(pathIn = OROMIA_TS_DIR, dataFile = 'oromia_evergreenbroad_df_normalized.csv', lib = '1 100', pred = '101 500', columns = 'refET', showPlot = False)"
   ]
  },
  {
   "cell_type": "code",
   "execution_count": null,
   "metadata": {},
   "outputs": [],
   "source": [
    "oromia_grasslands_ed_sm = EmbedDimension(pathIn = OROMIA_TS_DIR, dataFile = 'oromia_grasslands_df_normalized.csv', lib = '1 100', pred = '101 500', columns = 'SM', showPlot = False)\n",
    "oromia_grasslands_ed_tmp = EmbedDimension(pathIn = OROMIA_TS_DIR, dataFile = 'oromia_grasslands_df_normalized.csv', lib = '1 100', pred = '101 500', columns = 'TMP', showPlot = True)\n",
    "oromia_grasslands_ed_p = EmbedDimension(pathIn = OROMIA_TS_DIR, dataFile = 'oromia_grasslands_df_normalized.csv', lib = '1 100', pred = '101 500', columns = 'P', showPlot = False)\n",
    "oromia_grasslands_ed_lst = EmbedDimension(pathIn = OROMIA_TS_DIR, dataFile = 'oromia_grasslands_df_normalized.csv', lib = '1 100', pred = '101 500', columns = 'LST', showPlot = False)\n",
    "oromia_grasslands_ed_ndvi = EmbedDimension(pathIn = OROMIA_TS_DIR, dataFile = 'oromia_grasslands_df_normalized.csv', lib = '1 100', pred = '101 500', columns = 'NDVI', showPlot = False)\n",
    "oromia_grasslands_ed_refET = EmbedDimension(pathIn = OROMIA_TS_DIR, dataFile = 'oromia_grasslands_df_normalized.csv', lib = '1 100', pred = '101 500', columns = 'refET', showPlot = False)"
   ]
  },
  {
   "cell_type": "code",
   "execution_count": null,
   "metadata": {
    "scrolled": true
   },
   "outputs": [],
   "source": [
    "oromia_savannas_ed_sm = EmbedDimension(pathIn = OROMIA_TS_DIR, dataFile = 'oromia_savannas_df_normalized.csv', lib = '1 100', pred = '101 500', columns = 'SM', tau = 2, Tp = 2, showPlot = False)\n",
    "oromia_savannas_ed_tmp = EmbedDimension(pathIn = OROMIA_TS_DIR, dataFile = 'oromia_savannas_df_normalized.csv', lib = '1 100', pred = '101 500', tau = 2, columns = 'TMP', showPlot = False)\n",
    "oromia_savannas_ed_p = EmbedDimension(pathIn = OROMIA_TS_DIR, dataFile = 'oromia_savannas_df_normalized.csv', lib = '1 100', pred = '101 500', columns = 'P', showPlot = True)\n",
    "oromia_savannas_ed_lst = EmbedDimension(pathIn = OROMIA_TS_DIR, dataFile = 'oromia_savannas_df_normalized.csv', lib = '1 100', pred = '101 500', columns = 'LST', showPlot = False)\n",
    "oromia_savannas_ed_ndvi = EmbedDimension(pathIn = OROMIA_TS_DIR, dataFile = 'oromia_savannas_df_normalized.csv', lib = '1 100', pred = '101 500', columns = 'NDVI', showPlot = False)\n",
    "oromia_savannas_ed_refET = EmbedDimension(pathIn = OROMIA_TS_DIR, dataFile = 'oromia_savannas_df_normalized.csv', lib = '1 100', pred = '101 500', columns = 'refET', showPlot = False)"
   ]
  },
  {
   "cell_type": "code",
   "execution_count": null,
   "metadata": {},
   "outputs": [],
   "source": [
    "#find max rho and E \n",
    "#must change variables twice \n",
    "\n",
    "oromia_grasslands_ed_ndvi.iloc[oromia_grasslands_ed_ndvi['rho'].idxmax()]\n",
    "\n",
    "#get just the E value\n",
    "#oromia_savannas_ed_refET.iloc[oromia_savannas_ed_refET['rho'].idxmax()]\n",
    "\n"
   ]
  },
  {
   "cell_type": "code",
   "execution_count": null,
   "metadata": {},
   "outputs": [],
   "source": [
    "oromia_evergreenbroad_ed_sm"
   ]
  },
  {
   "cell_type": "markdown",
   "metadata": {},
   "source": [
    "# 2) Predict Interval\n",
    "Simplex prediction skill for forecast intervals"
   ]
  },
  {
   "cell_type": "code",
   "execution_count": null,
   "metadata": {},
   "outputs": [],
   "source": [
    "df = PredictInterval(pathIn = OROMIA_TS_DS, dataFile = 'oromia_croplands_df_ds.csv', lib = \"1 100\", pred = '101 450', tau = 2, E = 8, columns = 'SM', showPlot = True)\n",
    "\n",
    "df = PredictInterval(pathIn = OROMIA_TS_DS, dataFile = 'oromia_croplands_df_ds.csv', lib = \"1 100\", pred = '101 450', tau = 2, E = 10, columns = 'TMP', showPlot = True)\n",
    "\n",
    "df = PredictInterval(pathIn = OROMIA_TS_DS, dataFile = 'oromia_croplands_df_ds.csv', lib = \"1 100\", pred = '101 450', E = 9, columns = 'P', showPlot = True)\n",
    "\n",
    "df = PredictInterval(pathIn = OROMIA_TS_DS, dataFile = 'oromia_croplands_df_ds.csv', lib = \"1 100\", pred = '101 450', E = 8, columns = 'LST', showPlot = True)\n",
    "\n",
    "df = PredictInterval(pathIn = OROMIA_TS_DS, dataFile = 'oromia_croplands_df_ds.csv', lib = \"1 100\", pred = '101 450', E = 10, columns = 'NDVI', showPlot = True)\n",
    "\n",
    "\n",
    "\n"
   ]
  },
  {
   "cell_type": "code",
   "execution_count": null,
   "metadata": {},
   "outputs": [],
   "source": [
    "df = PredictInterval(pathIn = OROMIA_TS_DIR, dataFile = 'oromia_croplands_df_normalized.csv', lib = \"1 100\", pred = '201 500', tau = 2, E = 8, columns = 'SM', showPlot = True)\n",
    "\n",
    "df = PredictInterval(pathIn = OROMIA_TS_DIR, dataFile = 'oromia_croplands_df_normalized.csv', lib = \"1 100\", pred = '201 500', tau = 2, E = 10, columns = 'TMP', showPlot = True)\n",
    "\n",
    "df = PredictInterval(pathIn = OROMIA_TS_DIR, dataFile = 'oromia_croplands_df_normalized.csv', lib = \"1 100\", pred = '201 500', E = 9, columns = 'P', showPlot = True)\n",
    "\n",
    "df = PredictInterval(pathIn = OROMIA_TS_DIR, dataFile = 'oromia_croplands_df_normalized.csv', lib = \"1 100\", pred = '201 500', E = 8, columns = 'LST', showPlot = True)\n",
    "\n",
    "df = PredictInterval(pathIn = OROMIA_TS_DIR, dataFile = 'oromia_croplands_df_normalized.csv', lib = \"1 100\", pred = '201 500', E = 2, columns = 'NDVI', showPlot = True)\n"
   ]
  },
  {
   "cell_type": "code",
   "execution_count": null,
   "metadata": {},
   "outputs": [],
   "source": [
    "plt.style.use('dark_background')\n",
    "fi_croplands_tmp = PredictInterval(pathIn = OROMIA_TS_DIR, dataFile = 'oromia_croplands_df_normalized.csv', lib = \"1 100\", pred = '201 500', E = 10, tau = 2, columns = 'TMP', showPlot = True)\n",
    "fig = plt.figure(figsize = (15,12))\n",
    "ax = plt.axes()\n",
    "plt.title('Predict Interval Croplands Temperature')\n",
    "ax.plot(fi_croplands_tmp.Tp, fi_croplands_tmp.rho, linewidth = 6, label = 'rho')\n",
    "plt.xticks(np.arange(min(fi_croplands_tmp.Tp), max(fi_croplands_tmp.Tp)+1, 1.0))\n",
    "ax.set_ylabel('Prediction Skill ' r'$\\rho$')\n",
    "ax.set_xlabel('Forecast Interval (Dekads)')\n",
    "plt.legend(loc = 'upper right')\n",
    "plt.savefig(FIGURES + 'fi_croplands_right.png', dpi=100)"
   ]
  },
  {
   "cell_type": "code",
   "execution_count": null,
   "metadata": {},
   "outputs": [],
   "source": [
    "fi_croplands_tmp"
   ]
  },
  {
   "cell_type": "markdown",
   "metadata": {},
   "source": [
    "# 3) Predict Nonlinear\n",
    "Evaluates Smap forecast skill"
   ]
  },
  {
   "cell_type": "code",
   "execution_count": null,
   "metadata": {},
   "outputs": [],
   "source": [
    "df = PredictNonlinear(pathIn = OROMIA_TS_DS, dataFile = 'oromia_savannas_df_ds.csv', lib = \"1 100\", pred = '101 450', E = 10, columns = 'refET', showPlot = True)\n",
    "\n"
   ]
  },
  {
   "cell_type": "code",
   "execution_count": null,
   "metadata": {},
   "outputs": [],
   "source": [
    "df = PredictNonlinear(pathIn = OROMIA_TS_DIR, dataFile = 'oromia_croplands_df_normalized.csv', lib = \"1 100\", pred = '201 500', E = 10, columns = 'TMP', showPlot = True)\n",
    "\n"
   ]
  },
  {
   "cell_type": "code",
   "execution_count": null,
   "metadata": {},
   "outputs": [],
   "source": [
    "df = PredictNonlinear(pathIn = OROMIA_TS_DIR, dataFile = 'oromia_croplands_df_normalized.csv', lib = \"1 100\", pred = '201 500', E = 10, columns = 'P', showPlot = True)\n",
    "\n"
   ]
  },
  {
   "cell_type": "markdown",
   "metadata": {},
   "source": [
    "# 4) Simplex Projection"
   ]
  },
  {
   "cell_type": "code",
   "execution_count": null,
   "metadata": {},
   "outputs": [],
   "source": [
    "#reset colors\n",
    "n = 5\n",
    "color = plt.cm.Spectral(np.linspace(0, 1,n))\n",
    "mpl.rcParams['axes.prop_cycle'] = cycler.cycler('color', color)"
   ]
  },
  {
   "cell_type": "markdown",
   "metadata": {},
   "source": [
    "comparing Barren simplex projection of SM from SM, NDVI from SM, NDVI from P, NDVI from SM and P, NDVI from NDVI"
   ]
  },
  {
   "cell_type": "code",
   "execution_count": null,
   "metadata": {
    "scrolled": true
   },
   "outputs": [],
   "source": [
    "simplex_croplands_sm_sm = Simplex(pathIn = OROMIA_TS_DIR, dataFile = 'oromia_croplands_df_normalized.csv', lib = '1 100', pred = '101 500', E = 8, columns = 'SM', target = 'SM', showPlot = True)\n",
    "\n",
    "simplex_croplands_sm_ndvi = Simplex(pathIn = OROMIA_TS_DIR, dataFile = 'oromia_croplands_df_normalized.csv', lib = '1 100', pred = '101 500', E = 8, columns = 'SM', target = 'NDVI', showPlot = True)\n",
    "\n",
    "simplex_croplands_p_ndvi = Simplex(pathIn = OROMIA_TS_DIR, dataFile = 'oromia_croplands_df_normalized.csv', lib = '1 100', pred = '101 500', E = 8, columns = 'P', target = 'NDVI', showPlot = True)\n",
    "\n",
    "simplex_croplands_sm_p_ndvi = Simplex(pathIn = OROMIA_TS_DIR, dataFile = 'oromia_croplands_df_normalized.csv', lib = '1 100', pred = '101 500', E = 8, columns = 'SM P', target = 'NDVI', showPlot = True)\n",
    "\n",
    "simplex_croplands_ndvi_ndvi = Simplex(pathIn = OROMIA_TS_DIR, dataFile = 'oromia_croplands_df_normalized.csv', lib = '1 100', pred = '101 500', E = 2, columns = 'NDVI', target = 'NDVI', showPlot = True)\n"
   ]
  },
  {
   "cell_type": "code",
   "execution_count": null,
   "metadata": {},
   "outputs": [],
   "source": [
    "#simplex croplands seasonal decomposed TS\n",
    "simplex_croplands_ds_sm_sm = Simplex(pathIn = OROMIA_TS_DS, dataFile = 'oromia_croplands_df_ds.csv', lib = '1 100', pred = '101 400', E = 7, columns = 'SM', target = 'SM', showPlot = True)\n",
    "\n",
    "simplex_croplands_ds_sm_ndvi = Simplex(pathIn = OROMIA_TS_DS, dataFile = 'oromia_croplands_df_ds.csv', lib = '1 100', pred = '101 400', E = 8, columns = 'SM', target = 'NDVI', showPlot = True)\n",
    "\n",
    "simplex_croplands_ds_dsp_ndvi = Simplex(pathIn = OROMIA_TS_DS, dataFile = 'oromia_croplands_df_ds.csv', lib = '1 100', pred = '101 400', E = 8, columns = 'P', target = 'NDVI', showPlot = True)\n",
    "\n",
    "simplex_croplands_ds_sm_p_ndvi = Simplex(pathIn = OROMIA_TS_DS, dataFile = 'oromia_croplands_df_ds.csv', lib = '1 100', pred = '101 400', E = 8, columns = 'SM P', target = 'NDVI', showPlot = True)\n",
    "\n",
    "simplex_croplands_ds_ndvi_ndvi = Simplex(pathIn = OROMIA_TS_DS, dataFile = 'oromia_croplands_df_ds.csv', lib = '1 100', pred = '101 400', E = 10, columns = 'NDVI', target = 'NDVI', showPlot = True)\n",
    "\n",
    "simplex_croplands_ds_tmp_ndvi = Simplex(pathIn = OROMIA_TS_DS, dataFile = 'oromia_croplands_df_ds.csv', lib = '1 100', pred = '101 400', E = 10, columns = 'TMP', target = 'NDVI', showPlot = True)\n"
   ]
  },
  {
   "cell_type": "code",
   "execution_count": null,
   "metadata": {},
   "outputs": [],
   "source": [
    "def rmse(predictions, targets):\n",
    "\n",
    "    differences = predictions - targets                       #the DIFFERENCEs.\n",
    "\n",
    "    differences_squared = differences ** 2                    #the SQUAREs of ^\n",
    "\n",
    "    mean_of_differences_squared = differences_squared.mean()  #the MEAN of ^\n",
    "\n",
    "    rmse_val = np.sqrt(mean_of_differences_squared)           #ROOT of ^\n",
    "\n",
    "    return rmse_val "
   ]
  },
  {
   "cell_type": "code",
   "execution_count": null,
   "metadata": {},
   "outputs": [],
   "source": [
    "rmse(simplex_croplands_sm_sm.Observations, simplex_croplands_sm_sm.Predictions)"
   ]
  },
  {
   "cell_type": "code",
   "execution_count": null,
   "metadata": {},
   "outputs": [],
   "source": [
    "rmse(simplex_croplands_sm_ndvi.Observations, simplex_croplands_sm_ndvi.Predictions)"
   ]
  },
  {
   "cell_type": "code",
   "execution_count": null,
   "metadata": {},
   "outputs": [],
   "source": [
    "spearmanr(simplex_croplands_sm_ndvi.Observations, simplex_croplands_sm_ndvi.Predictions, nan_policy = 'omit')"
   ]
  },
  {
   "cell_type": "code",
   "execution_count": null,
   "metadata": {
    "scrolled": true
   },
   "outputs": [],
   "source": [
    "#add year locator\n",
    "simplex_savannas_sm_sm = Simplex(pathIn = OROMIA_TS_DIR, dataFile = 'oromia_savannas_df_normalized.csv', lib = '1 100', pred = '101 500', E = 8, columns = 'SM', target = 'SM', showPlot = True)\n",
    "\n",
    "simplex_savannas_sm_ndvi = Simplex(pathIn = OROMIA_TS_DIR, dataFile = 'oromia_savannas_df_normalized.csv', lib = '1 100', pred = '101 500', E = 8, columns = 'SM', target = 'NDVI', showPlot = True)\n",
    "\n",
    "simplex_savannas_p_ndvi = Simplex(pathIn = OROMIA_TS_DIR, dataFile = 'oromia_savannas_df_normalized.csv', lib = '1 100', pred = '101 500', E = 8, columns = 'P', target = 'NDVI', showPlot = True)\n",
    "\n",
    "simplex_savannas_sm_p_ndvi = Simplex(pathIn = OROMIA_TS_DIR, dataFile = 'oromia_savannas_df_normalized.csv', lib = '1 100', pred = '101 500', E = 8, columns = 'SM P', target = 'NDVI', showPlot = True)\n",
    "\n",
    "simplex_savannas_ndvi_ndvi = Simplex(pathIn = OROMIA_TS_DIR, dataFile = 'oromia_savannas_df_normalized.csv', lib = '1 100', pred = '101 500', E = 2, columns = 'NDVI', target = 'NDVI', showPlot = True)\n"
   ]
  },
  {
   "cell_type": "code",
   "execution_count": null,
   "metadata": {},
   "outputs": [],
   "source": [
    "#add year locator\n",
    "simplex_grasslands_sm_sm = Simplex(pathIn = OROMIA_TS_DIR, dataFile = 'oromia_grasslands_df_normalized.csv', lib = '1 100', pred = '101 500', E = 10, columns = 'SM', target = 'SM', showPlot = True)\n",
    "\n",
    "simplex_grasslands_sm_ndvi = Simplex(pathIn = OROMIA_TS_DIR, dataFile = 'oromia_grasslands_df_normalized.csv', lib = '1 100', pred = '101 500', E = 10, columns = 'SM', target = 'NDVI', showPlot = True)\n",
    "\n",
    "simplex_grasslands_p_ndvi = Simplex(pathIn = OROMIA_TS_DIR, dataFile = 'oromia_grasslands_df_normalized.csv', lib = '1 100', pred = '101 500', E = 2, columns = 'P', target = 'NDVI', showPlot = True)\n",
    "\n",
    "simplex_grasslands_tmp_ndvi = Simplex(pathIn = OROMIA_TS_DIR, dataFile = 'oromia_grasslands_df_normalized.csv', lib = '1 100', pred = '101 500', E = 9, columns = 'TMP', target = 'NDVI', showPlot = True)\n",
    "\n",
    "simplex_grasslands_sm_p_ndvi = Simplex(pathIn = OROMIA_TS_DIR, dataFile = 'oromia_grasslands_df_normalized.csv', lib = '1 100', pred = '101 500', E = 8, columns = 'SM P', target = 'NDVI', showPlot = True)\n",
    "\n",
    "simplex_grasslands_ndvi_ndvi = Simplex(pathIn = OROMIA_TS_DIR, dataFile = 'oromia_grasslands_df_normalized.csv', lib = '1 100', pred = '101 500', E = 2, columns = 'NDVI', target = 'NDVI', showPlot = True)\n"
   ]
  },
  {
   "cell_type": "code",
   "execution_count": null,
   "metadata": {},
   "outputs": [],
   "source": [
    "plt.rcParams.update({'font.size': 22})"
   ]
  },
  {
   "cell_type": "code",
   "execution_count": null,
   "metadata": {},
   "outputs": [],
   "source": [
    "#plt.style.use('dark_background')\n",
    "years = mdates.YearLocator()   # every year\n",
    "months = mdates.MonthLocator()  # every month\n",
    "years_fmt = mdates.DateFormatter('%Y')\n",
    "\n",
    "\n",
    "fig = plt.figure(figsize = (30,12))\n",
    "ax = plt.axes()\n",
    "ax.xaxis.set_major_locator(years)\n",
    "ax.xaxis.set_major_formatter(years_fmt)\n",
    "ax.xaxis.set_minor_locator(months)\n",
    "plt.title('Simplex Projection Croplands NDVI using Reconstructed NDVI Manifold')\n",
    "ax.plot(pd.to_datetime(simplex_savannas_ndvi_ndvi.Time), simplex_savannas_ndvi_ndvi.Observations, linewidth = 6, label = 'Observations')\n",
    "ax.plot(pd.to_datetime(simplex_savannas_ndvi_ndvi.Time), simplex_savannas_ndvi_ndvi.Predictions, linewidth = 6, label = 'Predictions')\n",
    "plt.legend(loc = 'upper right')\n",
    "fig.autofmt_xdate()\n",
    "plt.savefig(FIGURES + 'ndvi_simplex_projection.png', dpi=100)"
   ]
  },
  {
   "cell_type": "code",
   "execution_count": null,
   "metadata": {
    "scrolled": true
   },
   "outputs": [],
   "source": [
    "years = mdates.YearLocator()   # every year\n",
    "months = mdates.MonthLocator()  # every month\n",
    "years_fmt = mdates.DateFormatter('%Y')\n",
    "\n",
    "\n",
    "fig = plt.figure(figsize = (30,12))\n",
    "ax = plt.axes()\n",
    "ax.xaxis.set_major_locator(years)\n",
    "ax.xaxis.set_major_formatter(years_fmt)\n",
    "ax.xaxis.set_minor_locator(months)\n",
    "plt.title('Simplex Projection Croplands Soil Moisture using Reconstructed Soil Moisture Manifold')\n",
    "ax.plot(pd.to_datetime(simplex_croplands_sm_sm.Time), simplex_croplands_sm_sm.Observations, linewidth = 6, label = 'Observations')\n",
    "ax.plot(pd.to_datetime(simplex_croplands_sm_sm.Time), simplex_croplands_sm_sm.Predictions, linewidth = 6, label = 'Predictions')\n",
    "plt.legend(loc = 'upper right')\n",
    "fig.autofmt_xdate()\n",
    "plt.savefig(FIGURES + 'sm_simplex_projection.png', dpi=100)"
   ]
  },
  {
   "cell_type": "code",
   "execution_count": null,
   "metadata": {},
   "outputs": [],
   "source": [
    "pd.to_datetime(df.Time)"
   ]
  },
  {
   "cell_type": "code",
   "execution_count": null,
   "metadata": {},
   "outputs": [],
   "source": [
    "years = mdates.YearLocator()\n",
    "years_fmt = mdates.DateFormatter('%Y')\n",
    "\n",
    "fig, ax = plt.subplots()\n",
    "ax.plot(pd.to_datetime(df.Time), df.Observations)\n",
    "ax.plot(pd.to_datetime(df.Time), df.Predictions)\n",
    "ax.xaxis.set_major_locator(years)\n",
    "ax.xaxis.set_major_formatter(years_fmt)\n",
    "\n",
    "# datemin = np.datetime64(df['Time'][0], 'Y')\n",
    "# datemax = np.datetime64(df['Time'][-1], 'Y') + np.timedelta64(1, 'Y')\n",
    "# ax.set_xlim(datemin, datemax)\n",
    "\n",
    "fig.autofmt_xdate()\n",
    "plt.show()\n"
   ]
  },
  {
   "cell_type": "code",
   "execution_count": null,
   "metadata": {},
   "outputs": [],
   "source": [
    "df = Embed(pathIn = OROMIA_TS_DIR, dataFile = 'oromia_croplands_df_normalized.csv', E = 4, tau = 2, columns = 'P', verbose = True)"
   ]
  },
  {
   "cell_type": "code",
   "execution_count": null,
   "metadata": {},
   "outputs": [],
   "source": [
    "oromia_croplands.head(10)"
   ]
  },
  {
   "cell_type": "code",
   "execution_count": null,
   "metadata": {},
   "outputs": [],
   "source": [
    "df.head()"
   ]
  },
  {
   "cell_type": "markdown",
   "metadata": {},
   "source": [
    "# 5) SMap"
   ]
  },
  {
   "cell_type": "code",
   "execution_count": null,
   "metadata": {},
   "outputs": [],
   "source": []
  },
  {
   "cell_type": "code",
   "execution_count": null,
   "metadata": {
    "scrolled": true
   },
   "outputs": [],
   "source": [
    "df = SMap(pathIn = OROMIA_TS_DIR, dataFile = 'oromia_savannas_df_normalized.csv', lib = '1 100', pred = '101 500', E = 2, theta = 6, columns = 'NDVI', target = 'NDVI', showPlot = True)\n"
   ]
  },
  {
   "cell_type": "code",
   "execution_count": null,
   "metadata": {},
   "outputs": [],
   "source": [
    "df = SMap(pathIn = OROMIA_TS_DIR, dataFile = 'oromia_savannas_df_normalized.csv', lib = '1 100', pred = '101 500', E = 8, theta = 6, columns = 'P SM', target = 'NDVI', showPlot = True)\n"
   ]
  },
  {
   "cell_type": "markdown",
   "metadata": {},
   "source": [
    "# 6) CCM"
   ]
  },
  {
   "cell_type": "code",
   "execution_count": null,
   "metadata": {
    "scrolled": true
   },
   "outputs": [],
   "source": [
    "#seasonal decomposed TS\n",
    "ccm_croplands_sm_ndvi_ds = CCM(pathIn = OROMIA_TS_DS, dataFile = 'oromia_croplands_df_ds.csv', E = 10, Tp = 2, tau = 1, columns = \"SM\", target = \"NDVI\", libSizes = \"10 450 20\", sample = 100, verbose = True,  showPlot = True) \n",
    "ccm_croplandsp_ndvi_ds = CCM(pathIn = OROMIA_TS_DS, dataFile = 'oromia_croplands_df_ds.csv', E = 10, Tp = 2, tau = 1, columns = \"P\", target = \"NDVI\", libSizes = \"10 450 20\", sample = 100, verbose = True,  showPlot = True) \n",
    "#seasonal decomposed TS\n",
    "ccm_savannas_sm_ndvi_ds = CCM(pathIn = OROMIA_TS_DS, dataFile = 'oromia_savannas_df_ds.csv', E = 10, Tp = 2, tau = 1, columns = \"SM\", target = \"NDVI\", libSizes = \"10 450 20\", sample = 100, verbose = True,  showPlot = True) \n",
    "ccm_savannas_tmp_ndvi_ds = CCM(pathIn = OROMIA_TS_DS, dataFile = 'oromia_savannas_df_ds.csv', E = 10, Tp = 2, tau = 1, columns = \"TMP\", target = \"NDVI\", libSizes = \"10 450 20\", sample = 100, verbose = True,  showPlot = True) \n",
    "\n",
    "\n"
   ]
  },
  {
   "cell_type": "code",
   "execution_count": null,
   "metadata": {},
   "outputs": [],
   "source": []
  },
  {
   "cell_type": "code",
   "execution_count": null,
   "metadata": {},
   "outputs": [],
   "source": [
    "ccm_sm_ndvi_ds"
   ]
  },
  {
   "cell_type": "code",
   "execution_count": null,
   "metadata": {},
   "outputs": [],
   "source": [
    "ccm = CCM(pathIn = OROMIA_TS_DIR, dataFile = 'oromia_croplands_df_normalized.csv', E = 10, Tp = 0, tau = 2, columns = 'NDVI', target = \"TMP\", libSizes = \"10 500 20\", sample = 100, verbose = True,  showPlot = True) \n",
    "\n",
    "\n"
   ]
  },
  {
   "cell_type": "code",
   "execution_count": null,
   "metadata": {},
   "outputs": [],
   "source": []
  },
  {
   "cell_type": "code",
   "execution_count": null,
   "metadata": {},
   "outputs": [],
   "source": [
    "ccm"
   ]
  },
  {
   "cell_type": "code",
   "execution_count": null,
   "metadata": {},
   "outputs": [],
   "source": [
    "plt.rcParams.update({'font.size': 22})"
   ]
  },
  {
   "cell_type": "code",
   "execution_count": null,
   "metadata": {},
   "outputs": [],
   "source": [
    "fig = plt.figure(figsize = (30,12))\n",
    "ax = plt.axes()\n",
    "plt.title('Convergent Cross Mapping NDVI vs Temperature')\n",
    "ax.plot(ccm.LibSize, ccm['TMP:NDVI'], linewidth = 6, label = 'TMP xmap NDVI')\n",
    "ax.plot(ccm.LibSize, ccm['NDVI:TMP'], linewidth = 6, label = 'NDVI xmap TMP')\n",
    "ax.set_ylabel('Correlation ' r'$\\rho$')\n",
    "ax.set_xlabel('Library Length')\n",
    "plt.legend(loc = 'lower right')\n",
    "fig.autofmt_xdate()\n",
    "plt.savefig(FIGURES + 'ccm_grasslands_ndvi_tmp.png', dpi=100)"
   ]
  },
  {
   "cell_type": "code",
   "execution_count": null,
   "metadata": {},
   "outputs": [],
   "source": [
    "ccm_sm2 = CCM(pathIn = OROMIA_TS_DIR, dataFile = 'oromia_evergreenbroad_df_normalized.csv', E = 10, Tp = 0, tau = 0, columns = \"SM\", target = \"NDVI\", libSizes = \"10 500 20\", sample = 100, verbose = True,  showPlot = True) \n",
    "\n",
    "\n"
   ]
  },
  {
   "cell_type": "code",
   "execution_count": null,
   "metadata": {},
   "outputs": [],
   "source": [
    "ccm_p = CCM(pathIn = OROMIA_TS_DIR, dataFile = 'oromia_evergreenbroad_df_normalized.csv', E = 10, Tp = 0, tau = 0, columns = \"P\", target = \"NDVI\", libSizes = \"10 500 20\", sample = 100, verbose = True,  showPlot = True) \n",
    "\n",
    "\n"
   ]
  },
  {
   "cell_type": "markdown",
   "metadata": {},
   "source": [
    "# 7) Multiview"
   ]
  },
  {
   "cell_type": "code",
   "execution_count": null,
   "metadata": {},
   "outputs": [],
   "source": []
  },
  {
   "cell_type": "code",
   "execution_count": null,
   "metadata": {},
   "outputs": [],
   "source": []
  }
 ],
 "metadata": {
  "kernelspec": {
   "display_name": "Python [conda env:edm]",
   "language": "python",
   "name": "conda-env-edm-py"
  },
  "language_info": {
   "codemirror_mode": {
    "name": "ipython",
    "version": 3
   },
   "file_extension": ".py",
   "mimetype": "text/x-python",
   "name": "python",
   "nbconvert_exporter": "python",
   "pygments_lexer": "ipython3",
   "version": "3.7.3"
  }
 },
 "nbformat": 4,
 "nbformat_minor": 4
}
