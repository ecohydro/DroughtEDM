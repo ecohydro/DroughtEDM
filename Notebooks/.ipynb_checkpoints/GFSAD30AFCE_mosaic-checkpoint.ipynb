{
 "cells": [
  {
   "cell_type": "markdown",
   "metadata": {},
   "source": [
    "# GFSAD30AFCE Cropland mosaic"
   ]
  },
  {
   "cell_type": "code",
   "execution_count": null,
   "metadata": {},
   "outputs": [],
   "source": [
    "import os\n",
    "import matplotlib.pyplot as plt\n",
    "import glob\n",
    "import rasterio\n",
    "from rasterio.merge import merge\n",
    "from rasterio.plot import show\n",
    "from rasterio.mask import mask\n",
    "from rasterstats import zonal_stats\n",
    "import fiona\n",
    "import geopandas as gpd\n",
    "import xarray as xr\n",
    "import numpy as np\n",
    "import rioxarray\n",
    "import pandas as pd\n",
    "import dask"
   ]
  },
  {
   "cell_type": "code",
   "execution_count": null,
   "metadata": {},
   "outputs": [],
   "source": [
    "#all of Africa\n",
    "GFSAD30AFCE_files = glob.glob('/home/rgreen/tana-spin/rgreen/DroughtEDM/Data/GFSAD30AFCE/*.tif')\n",
    "GFSAD30AFCE_ea_files = glob.glob('/home/rgreen/tana-spin/rgreen/DroughtEDM/Data/GFSAD30AFCE/EastAfrica/*.tif')"
   ]
  },
  {
   "cell_type": "code",
   "execution_count": null,
   "metadata": {},
   "outputs": [],
   "source": [
    "src_files_to_mosaic = []"
   ]
  },
  {
   "cell_type": "code",
   "execution_count": null,
   "metadata": {},
   "outputs": [],
   "source": [
    "for fp in GFSAD30AFCE_ea_files:\n",
    "    src = rio.open(fp)\n",
    "    src_files_to_mosaic.append(src)"
   ]
  },
  {
   "cell_type": "code",
   "execution_count": null,
   "metadata": {},
   "outputs": [],
   "source": [
    "mosaic, out_trans = merge(src_files_to_mosaic)"
   ]
  },
  {
   "cell_type": "code",
   "execution_count": null,
   "metadata": {},
   "outputs": [],
   "source": [
    "out_meta = src.meta.copy()\n",
    "out_trans\n",
    "out_meta"
   ]
  },
  {
   "cell_type": "code",
   "execution_count": null,
   "metadata": {},
   "outputs": [],
   "source": [
    "out_meta.update({\"height\": mosaic.shape[1],\n",
    "                \"width\": mosaic.shape[2],\n",
    "                \"transform\": out_trans})"
   ]
  },
  {
   "cell_type": "code",
   "execution_count": null,
   "metadata": {},
   "outputs": [],
   "source": [
    "with rio.open('/home/rgreen/tana-spin/rgreen/DroughtEDM/Data/GFSAD30AFCE/Mosaic/GFSAD30AFCE_EA_mosaic.tif', 'w', **out_meta) as dst:\n",
    "    dst.write(mosaic)"
   ]
  },
  {
   "cell_type": "code",
   "execution_count": null,
   "metadata": {},
   "outputs": [],
   "source": [
    "GFSAD30AFCE = '/home/rgreen/tana-spin/rgreen/DroughtEDM/Data/GFSAD30AFCE/Mosaic/GFSAD30AFCE_EA_mosaic.tif'\n",
    "ndvi02071 = '/home/rgreen/tana-spin/rgreen/DroughtEDM/Data/eMODIS_NDVI/EastAfrica/data.2002.071_mask.tiff'"
   ]
  },
  {
   "cell_type": "code",
   "execution_count": null,
   "metadata": {},
   "outputs": [],
   "source": [
    "fldas = rioxarray.open_rasterio('/home/rgreen/tana-spin/rgreen/DroughtEDM/Data/FLDAS/LIS_HIST_200207010000.d01.nc')\n",
    "#fldas.rioxarray.reproject(\"+proj=longlat +ellps=WGS84 +datum=WGS84 +no_defs\")\n",
    "fldas.rio.set_crs(4326)"
   ]
  }
 ],
 "metadata": {
  "kernelspec": {
   "display_name": "Python [conda env:edm]",
   "language": "python",
   "name": "conda-env-edm-py"
  },
  "language_info": {
   "codemirror_mode": {
    "name": "ipython",
    "version": 3
   },
   "file_extension": ".py",
   "mimetype": "text/x-python",
   "name": "python",
   "nbconvert_exporter": "python",
   "pygments_lexer": "ipython3",
   "version": "3.7.3"
  }
 },
 "nbformat": 4,
 "nbformat_minor": 2
}
