{
 "cells": [
  {
   "cell_type": "code",
   "execution_count": 1,
   "metadata": {},
   "outputs": [],
   "source": [
    "# Copyright 2019 Luke Pinner\n",
    "# \n",
    "# Licensed under the Apache License, Version 2.0 (the \"License\");\n",
    "# you may not use this file except in compliance with the License.\n",
    "# You may obtain a copy of the License at\n",
    "# \n",
    "#     http://www.apache.org/licenses/LICENSE-2.0\n",
    "# \n",
    "# Unless required by applicable law or agreed to in writing, software\n",
    "# distributed under the License is distributed on an \"AS IS\" BASIS,\n",
    "# WITHOUT WARRANTIES OR CONDITIONS OF ANY KIND, either express or implied.\n",
    "# See the License for the specific language governing permissions and\n",
    "# limitations under the License.\n",
    "\n",
    "from contextlib import contextmanager\n",
    "\n",
    "import rasterio\n",
    "from rasterio import Affine, MemoryFile\n",
    "from rasterio.enums import Resampling\n",
    "\n",
    "\n",
    "@contextmanager\n",
    "def resample_raster(raster, out_path=None, scale=2):\n",
    "    \"\"\" Resample a raster\n",
    "        multiply the pixel size by the scale factor\n",
    "        divide the dimensions by the scale factor\n",
    "        i.e\n",
    "        given a pixel size of 250m, dimensions of (1024, 1024) and a scale of 2,\n",
    "        the resampled raster would have an output pixel size of 500m and dimensions of (512, 512)\n",
    "        given a pixel size of 250m, dimensions of (1024, 1024) and a scale of 0.5,\n",
    "        the resampled raster would have an output pixel size of 125m and dimensions of (2048, 2048)\n",
    "        returns a DatasetReader instance from either a filesystem raster or MemoryFile (if out_path is None)\n",
    "    \"\"\"\n",
    "    t = raster.transform\n",
    "\n",
    "    # rescale the metadata\n",
    "    transform = Affine(t.a * scale, t.b, t.c, t.d, t.e * scale, t.f)\n",
    "    height = int(raster.height / scale)\n",
    "    width = int(raster.width / scale)\n",
    "\n",
    "    profile = src.profile\n",
    "    profile.update(transform=transform, driver='GTiff', height=height, width=width)\n",
    "\n",
    "    data = raster.read(\n",
    "            out_shape=(raster.count, height, width),\n",
    "            resampling=Resampling.bilinear,\n",
    "        )\n",
    "\n",
    "    if out_path is None:\n",
    "        with write_mem_raster(data, **profile) as dataset:\n",
    "            del data\n",
    "            yield dataset\n",
    "\n",
    "    else:\n",
    "        with write_raster(out_path, data, **profile) as dataset:\n",
    "            del data\n",
    "            yield dataset\n",
    "\n",
    "\n",
    "@contextmanager\n",
    "def write_mem_raster(data, **profile):\n",
    "    with MemoryFile() as memfile:\n",
    "        with memfile.open(**profile) as dataset:  # Open as DatasetWriter\n",
    "            dataset.write(data)\n",
    "\n",
    "        with memfile.open() as dataset:  # Reopen as DatasetReader\n",
    "            yield dataset  # Note yield not return\n",
    "\n",
    "\n",
    "@contextmanager\n",
    "def write_raster(path, data, **profile):\n",
    "\n",
    "    with rasterio.open(path, 'w', **profile) as dataset:  # Open as DatasetWriter\n",
    "        dataset.write(data)\n",
    "\n",
    "    with rasterio.open(path) as dataset:  # Reopen as DatasetReader\n",
    "        yield dataset"
   ]
  },
  {
   "cell_type": "code",
   "execution_count": 2,
   "metadata": {},
   "outputs": [],
   "source": [
    "raster = rasterio.open(\"/home/rgreen/tana-spin/rgreen/DroughtEDM/Data/eMODIS_NDVI/data.2008.081.tiff\")"
   ]
  },
  {
   "cell_type": "code",
   "execution_count": 4,
   "metadata": {},
   "outputs": [
    {
     "data": {
      "text/plain": [
       "<contextlib._GeneratorContextManager at 0x7faa2c1224e0>"
      ]
     },
     "execution_count": 4,
     "metadata": {},
     "output_type": "execute_result"
    }
   ],
   "source": [
    "resample_raster(raster, out_path=None, scale=2)"
   ]
  },
  {
   "cell_type": "code",
   "execution_count": 5,
   "metadata": {},
   "outputs": [],
   "source": [
    "import gdal\n",
    "\n",
    "ds = gdal.Warp('warp_test.tif', \"/home/rgreen/tana-spin/rgreen/DroughtEDM/Data/eMODIS_NDVI/data.2008.081.tiff\", dstSRS='EPSG:4326',\n",
    "               outputType=gdal.GDT_Int16, xRes=0.00892857142857143, yRes=0.00892857142857143)"
   ]
  },
  {
   "cell_type": "code",
   "execution_count": null,
   "metadata": {},
   "outputs": [],
   "source": []
  }
 ],
 "metadata": {
  "kernelspec": {
   "display_name": "Python [conda env:edm]",
   "language": "python",
   "name": "conda-env-edm-py"
  },
  "language_info": {
   "codemirror_mode": {
    "name": "ipython",
    "version": 3
   },
   "file_extension": ".py",
   "mimetype": "text/x-python",
   "name": "python",
   "nbconvert_exporter": "python",
   "pygments_lexer": "ipython3",
   "version": "3.7.3"
  }
 },
 "nbformat": 4,
 "nbformat_minor": 2
}
