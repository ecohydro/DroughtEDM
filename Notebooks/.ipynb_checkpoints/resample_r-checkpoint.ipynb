{
 "cells": [
  {
   "cell_type": "code",
   "execution_count": 1,
   "metadata": {},
   "outputs": [
    {
     "name": "stderr",
     "output_type": "stream",
     "text": [
      "Loading required package: sp\n",
      "rgdal: version: 1.4-4, (SVN revision 833)\n",
      " Geospatial Data Abstraction Library extensions to R successfully loaded\n",
      " Loaded GDAL runtime: GDAL 3.0.1, released 2019/06/28\n",
      " Path to GDAL shared files: \n",
      " GDAL binary built with GEOS: TRUE \n",
      " Loaded PROJ.4 runtime: Rel. 6.1.1, July 1st, 2019, [PJ_VERSION: 611]\n",
      " Path to PROJ.4 shared files: (autodetected)\n",
      " Linking to sp version: 1.3-1 \n"
     ]
    }
   ],
   "source": [
    "library(raster)\n",
    "library(rgdal)"
   ]
  },
  {
   "cell_type": "code",
   "execution_count": 2,
   "metadata": {},
   "outputs": [],
   "source": [
    "sm_file<- '/home/rgreen/tana-spin/rgreen/DroughtEDM/Data/FLDAS_SM/Months/200207/LIS_HIST_200207010000.d01.tif'\n",
    "sm <- raster(sm_file)\n",
    "crs(sm)<-'+proj=longlat +datum=WGS84 +no_defs +ellps=WGS84 +towgs84=0,0,0'"
   ]
  },
  {
   "cell_type": "code",
   "execution_count": 6,
   "metadata": {},
   "outputs": [],
   "source": [
    "chirts_path<-'/home/rgreen/tana-spin/rgreen/DroughtEDM/Data/CHIRTS/Tmax_Original/'\n",
    "chirts_files<-list.files('/home/rgreen/tana-spin/rgreen/DroughtEDM/Data/CHIRTS/Tmax_Original/')\n",
    "chirts_out_path<-'/home/rgreen/tana-spin/rgreen/DroughtEDM/Data/CHIRTS/Resampled/'"
   ]
  },
  {
   "cell_type": "code",
   "execution_count": 3,
   "metadata": {},
   "outputs": [],
   "source": [
    "chirps_path<-'/home/rgreen/tana-spin/rgreen/DroughtEDM/Data/CHIRPS/Original/'\n",
    "chirps_files<-list.files('/home/rgreen/tana-spin/rgreen/DroughtEDM/Data/CHIRPS/Original/')\n",
    "chirps_out_path<-'/home/rgreen/tana-spin/rgreen/DroughtEDM/Data/CHIRPS/Resampled2/'"
   ]
  },
  {
   "cell_type": "code",
   "execution_count": null,
   "metadata": {},
   "outputs": [],
   "source": [
    "ndvi_path<-'/home/rgreen/tana-spin/rgreen/DroughtEDM/Data/eMODIS_NDVI/Africa/'\n",
    "ndvi_files<-list.files('/home/rgreen/tana-spin/rgreen/DroughtEDM/Data/eMODIS_NDVI/Africa/')\n",
    "ndvi_out_path <- '/home/rgreen/tana-spin/rgreen/DroughtEDM/Data/eMODIS_NDVI/Resampled/'"
   ]
  },
  {
   "cell_type": "code",
   "execution_count": 14,
   "metadata": {},
   "outputs": [],
   "source": [
    "lst_path<-'/home/rgreen/tana-spin/rgreen/DroughtEDM/Data/LST/Original/'\n",
    "lst_files<-list.files('/home/rgreen/tana-spin/rgreen/DroughtEDM/Data/LST/Original/')\n",
    "lst_out_path<-'/home/rgreen/tana-spin/rgreen/DroughtEDM/Data/LST/Resampled2/'"
   ]
  },
  {
   "cell_type": "code",
   "execution_count": null,
   "metadata": {},
   "outputs": [],
   "source": [
    "lc_2016_path<-'/home/rgreen/tana-spin/rgreen/DroughtEDM/Data/ESACCI-LC-L4-LC10-Map-20m-P1Y-2016-v1/Original/'\n",
    "lc_2016_files<-list.files('/home/rgreen/tana-spin/rgreen/DroughtEDM/Data/ESACCI-LC-L4-LC10-Map-20m-P1Y-2016-v1/Original/')\n",
    "lc_2016_out_path<-'/home/rgreen/tana-spin/rgreen/DroughtEDM/Data/ESACCI-LC-L4-LC10-Map-20m-P1Y-2016-v1/Resampled/'"
   ]
  },
  {
   "cell_type": "code",
   "execution_count": 8,
   "metadata": {},
   "outputs": [],
   "source": [
    "et_path<-'/home/rgreen/tana-spin/rgreen/DroughtEDM/Data/Hobbins_ET/Original/'\n",
    "et_files<-list.files('/home/rgreen/tana-spin/rgreen/DroughtEDM/Data/Hobbins_ET/Original/')\n",
    "et_out_path<-'/home/rgreen/tana-spin/rgreen/DroughtEDM/Data/Hobbins_ET/Resampled2/'"
   ]
  },
  {
   "cell_type": "code",
   "execution_count": 15,
   "metadata": {},
   "outputs": [],
   "source": [
    "resample_rasters<-function(in_files, in_path, y_raster, out_path, na_value) {\n",
    "\n",
    "    for (i in 1:length(in_files)) {\n",
    "        print(i)\n",
    "        r<-raster(paste0(in_path, in_files[i]))\n",
    "        crs(r)<-\"+proj=longlat +datum=WGS84 +no_defs +ellps=WGS84 +towgs84=0,0,0\"\n",
    "        r[r == na_value] <- NA\n",
    "        rs<-resample(r, y_raster, method='bilinear')\n",
    "        crs(rs)<-\"+proj=longlat +datum=WGS84 +no_defs +ellps=WGS84 +towgs84=0,0,0\" \n",
    "        rr<-writeRaster(rs, filename = paste0(out_path, 'rs_', in_files[i]), format='GTiff', overwrite=TRUE)\n",
    "    }}"
   ]
  },
  {
   "cell_type": "code",
   "execution_count": null,
   "metadata": {},
   "outputs": [],
   "source": [
    "resample_rasters(lst_files, lst_path, sm, lst_out_path, -9.9990000e+03)"
   ]
  },
  {
   "cell_type": "markdown",
   "metadata": {},
   "source": [
    "# Experimenting with parallel (didn't use)"
   ]
  },
  {
   "cell_type": "code",
   "execution_count": null,
   "metadata": {},
   "outputs": [],
   "source": [
    "library(parallel)\n",
    "cl <- makeCluster(4)\n",
    "clusterEvalQ(cl, library(gdalUtils))\n",
    "clusterExport(cl, c('tr', 'e'))\n",
    "\n",
    "system.time(parLapply(cl, ff, function(f) {\n",
    "  gdalwarp(f, sub('\\\\.tif', '_clipped.tif', f), tr=tr, \n",
    "           r='bilinear', te=c(e), multi=TRUE)\n",
    "}))\n",
    "\n",
    "##    user  system elapsed \n",
    "##    0.05    0.00   31.92\n",
    "\n",
    "stopCluster(cl)"
   ]
  }
 ],
 "metadata": {
  "kernelspec": {
   "display_name": "R [conda env:r-geo]",
   "language": "R",
   "name": "conda-env-r-geo-r"
  },
  "language_info": {
   "codemirror_mode": "r",
   "file_extension": ".r",
   "mimetype": "text/x-r-source",
   "name": "R",
   "pygments_lexer": "r",
   "version": "3.6.1"
  }
 },
 "nbformat": 4,
 "nbformat_minor": 2
}
