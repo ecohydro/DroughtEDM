{
 "cells": [
  {
   "cell_type": "code",
   "execution_count": 1,
   "metadata": {},
   "outputs": [],
   "source": [
    "import os\n",
    "import xarray as xr\n",
    "import cartopy.crs as ccrs\n",
    "import numpy as np\n",
    "import pandas as pd\n",
    "import rasterio as rio\n",
    "from rasterio.mask import mask\n",
    "from rasterio.plot import show\n",
    "from rasterio.plot import show_hist\n",
    "from rasterio.warp import calculate_default_transform, reproject, Resampling\n",
    "from rasterio.windows import Window\n",
    "from rasterio.merge import merge\n",
    "from rasterio import features\n",
    "from matplotlib import pyplot as plt\n",
    "import geopandas as gpd\n",
    "import glob\n",
    "import sys\n",
    "import re\n",
    "import pandas as pd\n",
    "import netCDF4\n",
    "from datetime import datetime\n",
    "from sklearn.preprocessing import scale\n",
    "from scipy.interpolate import UnivariateSpline\n",
    "from statsmodels.nonparametric.smoothers_lowess import lowess"
   ]
  },
  {
   "cell_type": "code",
   "execution_count": null,
   "metadata": {},
   "outputs": [],
   "source": [
    "#extract pixel value from coordinate location\n",
    "\n",
    "def extractValueSM(nc_dir, lev, lat, long):\n",
    "    files = np.array(os.listdir(nc_dir))\n",
    "    netcdfs = pd.Series(files).str.contains('.nc')\n",
    "    files = files[netcdfs]\n",
    "    output = []\n",
    "  \n",
    "    for filename in files: \n",
    "        data = xr.open_dataset(nc_dir + filename)\n",
    "        val = data.SoilMoist_tavg[lev, int((np.abs(data.Y - lat)).argmin()),int((np.abs(data.X - long)).argmin())]\n",
    "        output.append(float(val.values))\n",
    "    return np.asarray(output)\n",
    "\n",
    "def extractValueNDVI(tiff_dir, long, lat):\n",
    "    files = np.array(os.listdir(tiff_dir))\n",
    "    tiffs = pd.Series(files).str.contains('.tiff')\n",
    "    files = files[tiffs]\n",
    "    result = []\n",
    "    \n",
    "    for filename in files: \n",
    "        data = rio.open(tiff_dir + filename)\n",
    "        val = data.sample([long,lat])\n",
    "        for val in data.sample([(long,lat)]):\n",
    "            vals = ((val-100)/100)\n",
    "        result.append(*vals)    \n",
    "    return np.asarray(result)\n",
    "        \n",
    "def extractValueCHIRPS(tiff_dir, long, lat):\n",
    "    files = np.array(os.listdir(tiff_dir))\n",
    "    tiffs = pd.Series(files).str.contains('.tif')\n",
    "    files = files[tiffs]\n",
    "    result = []\n",
    "    \n",
    "    for filename in files: \n",
    "        data = rio.open(tiff_dir + filename)\n",
    "        val = data.sample([long,lat])\n",
    "        for val in data.sample([(long,lat)]):\n",
    "            vals = val\n",
    "        result.append(*vals)    \n",
    "    return np.asarray(result)\n",
    "        \n",
    "def stackTiffs(tiff_dir):\n",
    "    files = np.array(os.listdir(tiff_dir))\n",
    "    tiffs = pd.Series(files).str.contains('.tif')\n",
    "    files = files[tiffs]\n",
    "    tiflist = []\n",
    "    \n",
    "    for filename in files:\n",
    "        data = xr.open_rasterio(tiff_dir + filename)\n",
    "        tiflist.append(data)\n",
    "        stacked = xr.concat(tiflist, dim=pd.Index(dekads, name = 'time'))\n",
    "    return stacked\n",
    "        \n",
    "    "
   ]
  },
  {
   "cell_type": "markdown",
   "metadata": {},
   "source": [
    "# Create dataframe for one pixel"
   ]
  },
  {
   "cell_type": "code",
   "execution_count": null,
   "metadata": {
    "scrolled": true
   },
   "outputs": [],
   "source": [
    "soil_dir = '/home/rgreen/tana-spin/rgreen/DroughtEDM/Data/FLDAS/'\n",
    "ndvi_dir = '/home/rgreen/tana-spin/rgreen/DroughtEDM/Data/eMODIS_NDVI/CropsMask/'\n",
    "chirps_dir = '/home/rgreen/tana-spin/rgreen/DroughtEDM/Data/CHIRPS/'\n",
    "sm_level = 0\n",
    "long = 38.87\n",
    "lat = 4.21\n"
   ]
  },
  {
   "cell_type": "code",
   "execution_count": null,
   "metadata": {},
   "outputs": [],
   "source": [
    "soil = extractValueSM(soil_dir, sm_level, lat, long) #coordinates in Y, X, specify soil level\n",
    "ndvi = extractValueNDVI(ndvi_dir, long, lat) #coordinates in X,Y\n",
    "chirps = extractValueCHIRPS(chirps_dir, long, lat)"
   ]
  },
  {
   "cell_type": "code",
   "execution_count": 2,
   "metadata": {},
   "outputs": [],
   "source": [
    "#Establish date period\n",
    "begin = pd.datetime(2002,7,1)\n",
    "end = pd.datetime(2016,12,31)\n",
    "\n",
    "dtrange = pd.date_range(begin, end)"
   ]
  },
  {
   "cell_type": "code",
   "execution_count": null,
   "metadata": {},
   "outputs": [],
   "source": [
    "#Create Dataframe for one pixel time series\n",
    "daily = pd.DataFrame({'Soil Moisture': soil}, index=dtrange) #create dataframe\n",
    "\n",
    "d = daily.index.day - np.clip((daily.index.day-1) // 10, 0, 2)*10 - 1 #convert daily SM values to dekadal\n",
    "date = daily.index.values - np.array(d, dtype=\"timedelta64[D]\")\n",
    "TS = daily.groupby(date).mean()\n",
    "TS.index.names = ['Date']\n",
    "TS['NDVI'] = ndvi\n",
    "TS['CHIRPS'] = chirps"
   ]
  },
  {
   "cell_type": "code",
   "execution_count": null,
   "metadata": {},
   "outputs": [],
   "source": [
    "#export to csv \n",
    "TS.to_csv(r'/home/rgreen/tana-spin/rgreen/DroughtEDM/TS_3887_421.csv') "
   ]
  },
  {
   "cell_type": "code",
   "execution_count": 3,
   "metadata": {},
   "outputs": [
    {
     "data": {
      "text/plain": [
       "DatetimeIndex(['2002-07-01', '2002-07-11', '2002-07-21', '2002-08-01',\n",
       "               '2002-08-11', '2002-08-21', '2002-09-01', '2002-09-11',\n",
       "               '2002-09-21', '2002-10-01',\n",
       "               ...\n",
       "               '2016-09-21', '2016-10-01', '2016-10-11', '2016-10-21',\n",
       "               '2016-11-01', '2016-11-11', '2016-11-21', '2016-12-01',\n",
       "               '2016-12-11', '2016-12-21'],\n",
       "              dtype='datetime64[ns]', length=522, freq=None)"
      ]
     },
     "execution_count": 3,
     "metadata": {},
     "output_type": "execute_result"
    }
   ],
   "source": [
    "#create list of dekads as datetime objects\n",
    "days = list(range(0,5298)) #length of dtrange\n",
    "daysDF = pd.DataFrame({'Days': days}, index=dtrange)\n",
    "d = daysDF.index.day - np.clip((daysDF.index.day-1) // 10, 0, 2)*10 - 1 #convert daily SM values to dekadal\n",
    "dekaddates = daysDF.index.values - np.array(d, dtype=\"timedelta64[D]\")\n",
    "dekads = daysDF.groupby(dekaddates).mean()\n",
    "dekads = dekads.index\n",
    "\n",
    "dekads"
   ]
  },
  {
   "cell_type": "markdown",
   "metadata": {},
   "source": [
    "# Create dataframe for all pixels within land cover type"
   ]
  },
  {
   "cell_type": "code",
   "execution_count": 4,
   "metadata": {},
   "outputs": [],
   "source": [
    "africa2002 = pd.read_csv('/home/rgreen/tana-spin/rgreen/DroughtEDM/Data/Variables_Croplands/africa2002.csv')\n",
    "#africa2003 = pd.read_csv('/home/rgreen/tana-spin/rgreen/DroughtEDM/Data/Variables_Croplands/africa2003.csv')\n",
    "#africa2004 = pd.read_csv('/home/rgreen/tana-spin/rgreen/DroughtEDM/Data/Variables_Croplands/africa2004.csv')\n",
    "#africa2005 = pd.read_csv('/home/rgreen/tana-spin/rgreen/DroughtEDM/Data/Variables_Croplands/africa2005.csv')\n",
    "africa2006 = pd.read_csv('/home/rgreen/tana-spin/rgreen/DroughtEDM/Data/Variables_Croplands/africa2006.csv')\n",
    "africa2007 = pd.read_csv('/home/rgreen/tana-spin/rgreen/DroughtEDM/Data/Variables_Croplands/africa2007.csv')\n",
    "#africa2008 = pd.read_csv('/home/rgreen/tana-spin/rgreen/DroughtEDM/Data/Variables_Croplands/africa2008.csv')\n",
    "#africa2009 = pd.read_csv('/home/rgreen/tana-spin/rgreen/DroughtEDM/Data/Variables_Croplands/africa2009.csv')\n",
    "africa2010 = pd.read_csv('/home/rgreen/tana-spin/rgreen/DroughtEDM/Data/Variables_Croplands/africa2010.csv')\n",
    "#africa2011 = pd.read_csv('/home/rgreen/tana-spin/rgreen/DroughtEDM/Data/Variables_Croplands/africa2011.csv')\n",
    "africa2012 = pd.read_csv('/home/rgreen/tana-spin/rgreen/DroughtEDM/Data/Variables_Croplands/africa2012.csv')\n",
    "#africa2013 = pd.read_csv('/home/rgreen/tana-spin/rgreen/DroughtEDM/Data/Variables_Croplands/africa2013.csv')\n",
    "#africa2014 = pd.read_csv('/home/rgreen/tana-spin/rgreen/DroughtEDM/Data/Variables_Croplands/africa2014.csv')\n",
    "#africa2015 = pd.read_csv('/home/rgreen/tana-spin/rgreen/DroughtEDM/Data/Variables_Croplands/africa2015.csv')\n",
    "africa2016 = pd.read_csv('/home/rgreen/tana-spin/rgreen/DroughtEDM/Data/Variables_Croplands/africa2016.csv')\n"
   ]
  },
  {
   "cell_type": "code",
   "execution_count": 5,
   "metadata": {},
   "outputs": [
    {
     "data": {
      "text/html": [
       "<div>\n",
       "<style scoped>\n",
       "    .dataframe tbody tr th:only-of-type {\n",
       "        vertical-align: middle;\n",
       "    }\n",
       "\n",
       "    .dataframe tbody tr th {\n",
       "        vertical-align: top;\n",
       "    }\n",
       "\n",
       "    .dataframe thead th {\n",
       "        text-align: right;\n",
       "    }\n",
       "</style>\n",
       "<table border=\"1\" class=\"dataframe\">\n",
       "  <thead>\n",
       "    <tr style=\"text-align: right;\">\n",
       "      <th></th>\n",
       "      <th>Unnamed: 0</th>\n",
       "      <th>ADM1_CODE</th>\n",
       "      <th>ADM0_CODE</th>\n",
       "      <th>ADM0_NAME</th>\n",
       "      <th>ADM1_NAME</th>\n",
       "      <th>CONTINENT</th>\n",
       "      <th>REGION</th>\n",
       "      <th>ZONE_ID</th>\n",
       "      <th>POLY_ID</th>\n",
       "      <th>POLY_NAME</th>\n",
       "      <th>...</th>\n",
       "      <th>Mean_cropland_rs_pet_201627</th>\n",
       "      <th>Mean_cropland_rs_pet_201628</th>\n",
       "      <th>Mean_cropland_rs_pet_201629</th>\n",
       "      <th>Mean_cropland_rs_pet_201630</th>\n",
       "      <th>Mean_cropland_rs_pet_201631</th>\n",
       "      <th>Mean_cropland_rs_pet_201632</th>\n",
       "      <th>Mean_cropland_rs_pet_201633</th>\n",
       "      <th>Mean_cropland_rs_pet_201634</th>\n",
       "      <th>Mean_cropland_rs_pet_201635</th>\n",
       "      <th>Mean_cropland_rs_pet_201636</th>\n",
       "    </tr>\n",
       "  </thead>\n",
       "  <tbody>\n",
       "    <tr>\n",
       "      <td>2201</td>\n",
       "      <td>2201</td>\n",
       "      <td>2202</td>\n",
       "      <td>79</td>\n",
       "      <td>Ethiopia</td>\n",
       "      <td>Oromia</td>\n",
       "      <td>Africa</td>\n",
       "      <td>Eastern Africa</td>\n",
       "      <td>2202</td>\n",
       "      <td>79+2202</td>\n",
       "      <td>Ethiopia+Oromia</td>\n",
       "      <td>...</td>\n",
       "      <td>37.464209</td>\n",
       "      <td>40.933761</td>\n",
       "      <td>39.167437</td>\n",
       "      <td>43.289638</td>\n",
       "      <td>40.203474</td>\n",
       "      <td>40.801866</td>\n",
       "      <td>34.222073</td>\n",
       "      <td>38.554469</td>\n",
       "      <td>39.618653</td>\n",
       "      <td>46.560567</td>\n",
       "    </tr>\n",
       "  </tbody>\n",
       "</table>\n",
       "<p>1 rows × 879 columns</p>\n",
       "</div>"
      ],
      "text/plain": [
       "      Unnamed: 0  ADM1_CODE  ADM0_CODE ADM0_NAME ADM1_NAME CONTINENT  \\\n",
       "2201        2201       2202         79  Ethiopia    Oromia    Africa   \n",
       "\n",
       "              REGION  ZONE_ID  POLY_ID        POLY_NAME  ...  \\\n",
       "2201  Eastern Africa     2202  79+2202  Ethiopia+Oromia  ...   \n",
       "\n",
       "      Mean_cropland_rs_pet_201627  Mean_cropland_rs_pet_201628  \\\n",
       "2201                    37.464209                    40.933761   \n",
       "\n",
       "      Mean_cropland_rs_pet_201629  Mean_cropland_rs_pet_201630  \\\n",
       "2201                    39.167437                    43.289638   \n",
       "\n",
       "      Mean_cropland_rs_pet_201631  Mean_cropland_rs_pet_201632  \\\n",
       "2201                    40.203474                    40.801866   \n",
       "\n",
       "      Mean_cropland_rs_pet_201633  Mean_cropland_rs_pet_201634  \\\n",
       "2201                    34.222073                    38.554469   \n",
       "\n",
       "      Mean_cropland_rs_pet_201635  Mean_cropland_rs_pet_201636  \n",
       "2201                    39.618653                    46.560567  \n",
       "\n",
       "[1 rows x 879 columns]"
      ]
     },
     "execution_count": 5,
     "metadata": {},
     "output_type": "execute_result"
    }
   ],
   "source": [
    "oromia02 = africa2002[africa2002.ADM1_NAME == 'Oromia']\n",
    "oromia06 = africa2006[africa2006.ADM1_NAME == 'Oromia']\n",
    "oromia07 = africa2007[africa2007.ADM1_NAME == 'Oromia']\n",
    "oromia10 = africa2010[africa2010.ADM1_NAME == 'Oromia']\n",
    "oromia12 = africa2012[africa2012.ADM1_NAME == 'Oromia']\n",
    "oromia16 = africa2016[africa2016.ADM1_NAME == 'Oromia']"
   ]
  },
  {
   "cell_type": "code",
   "execution_count": 6,
   "metadata": {},
   "outputs": [],
   "source": [
    "oromia_vals02 = oromia02.iloc[0,15:].values\n",
    "oromia_vals06 = oromia06.iloc[0,15:].values\n",
    "oromia_vals07 = oromia07.iloc[0,15:].values\n",
    "oromia_vals10 = oromia10.iloc[0,15:].values\n",
    "oromia_vals12 = oromia12.iloc[0,15:].values\n",
    "oromia_vals16 = oromia16.iloc[0,15:].values"
   ]
  },
  {
   "cell_type": "code",
   "execution_count": 8,
   "metadata": {},
   "outputs": [],
   "source": [
    "oromia_chunks02 = np.array_split(oromia_vals02, 6)\n",
    "oromia_chunks06 = np.array_split(oromia_vals06, 24)\n",
    "oromia_chunks07 = np.array_split(oromia_vals07, 6)\n",
    "oromia_chunks10 = np.array_split(oromia_vals10, 18)\n",
    "oromia_chunks12 = np.array_split(oromia_vals12, 12)\n",
    "oromia_chunks16 = np.array_split(oromia_vals16, 24)"
   ]
  },
  {
   "cell_type": "code",
   "execution_count": 9,
   "metadata": {},
   "outputs": [],
   "source": [
    "SM02 = oromia_chunks02[0].tolist()\n",
    "TMP02 = oromia_chunks02[1].tolist()\n",
    "P02 = oromia_chunks02[2].tolist()\n",
    "LST02 = oromia_chunks02[3].tolist()\n",
    "NDVI02 = oromia_chunks02[4].tolist()\n",
    "PET02 = oromia_chunks02[5].tolist()\n",
    "\n",
    "SM03 = oromia_chunks06[0].tolist()\n",
    "TMP03 = oromia_chunks06[1].tolist()\n",
    "P03 = oromia_chunks06[2].tolist()\n",
    "LST03 = oromia_chunks06[3].tolist()\n",
    "NDVI03 = oromia_chunks06[4].tolist()\n",
    "PET03 = oromia_chunks06[5].tolist()\n",
    "\n",
    "SM04 = oromia_chunks06[6].tolist()\n",
    "TMP04 = oromia_chunks06[7].tolist()\n",
    "P04 = oromia_chunks06[8].tolist()\n",
    "LST04 = oromia_chunks06[9].tolist()\n",
    "NDVI04 = oromia_chunks06[10].tolist()\n",
    "PET04 = oromia_chunks06[11].tolist()\n",
    "\n",
    "SM05 = oromia_chunks06[12].tolist()\n",
    "TMP05 = oromia_chunks06[13].tolist()\n",
    "P05 = oromia_chunks06[14].tolist()\n",
    "LST05 = oromia_chunks06[15].tolist()\n",
    "NDVI05 = oromia_chunks06[16].tolist()\n",
    "PET05 = oromia_chunks06[17].tolist()\n",
    "\n",
    "SM06 = oromia_chunks06[18].tolist()\n",
    "TMP06 = oromia_chunks06[19].tolist()\n",
    "P06 = oromia_chunks06[20].tolist()\n",
    "LST06 = oromia_chunks06[21].tolist()\n",
    "NDVI06 = oromia_chunks06[22].tolist()\n",
    "PET06 = oromia_chunks06[23].tolist()\n",
    "\n",
    "SM07 = oromia_chunks07[0].tolist()\n",
    "TMP07 = oromia_chunks07[1].tolist()\n",
    "P07 = oromia_chunks07[2].tolist()\n",
    "LST07 = oromia_chunks07[3].tolist()\n",
    "NDVI07 = oromia_chunks07[4].tolist()\n",
    "PET07 = oromia_chunks07[5].tolist()\n",
    "\n",
    "SM08 = oromia_chunks10[0].tolist()\n",
    "TMP08 = oromia_chunks10[1].tolist()\n",
    "P08 = oromia_chunks10[2].tolist()\n",
    "LST08 = oromia_chunks10[3].tolist()\n",
    "NDVI08 = oromia_chunks10[4].tolist()\n",
    "PET08 = oromia_chunks10[5].tolist()\n",
    "\n",
    "SM09 = oromia_chunks10[6].tolist()\n",
    "TMP09 = oromia_chunks10[7].tolist()\n",
    "P09 = oromia_chunks10[8].tolist()\n",
    "LST09 = oromia_chunks10[9].tolist()\n",
    "NDVI09 = oromia_chunks10[10].tolist()\n",
    "PET09 = oromia_chunks10[11].tolist()\n",
    "\n",
    "SM10 = oromia_chunks10[12].tolist()\n",
    "TMP10 = oromia_chunks10[13].tolist()\n",
    "P10 = oromia_chunks10[14].tolist()\n",
    "LST10 = oromia_chunks10[15].tolist()\n",
    "NDVI10 = oromia_chunks10[16].tolist()\n",
    "PET10 = oromia_chunks10[17].tolist()\n",
    "\n",
    "SM11 = oromia_chunks12[0].tolist()\n",
    "TMP11 = oromia_chunks12[1].tolist()\n",
    "P11 = oromia_chunks12[2].tolist()\n",
    "LST11 = oromia_chunks12[3].tolist()\n",
    "NDVI11 = oromia_chunks12[4].tolist()\n",
    "PET11 = oromia_chunks12[5].tolist()\n",
    "\n",
    "SM12 = oromia_chunks12[6].tolist()\n",
    "TMP12 = oromia_chunks12[7].tolist()\n",
    "P12 = oromia_chunks12[8].tolist()\n",
    "LST12 = oromia_chunks12[9].tolist()\n",
    "NDVI12 = oromia_chunks12[10].tolist()\n",
    "PET12 = oromia_chunks12[11].tolist()\n",
    "\n",
    "SM13 = oromia_chunks16[0].tolist()\n",
    "TMP13 = oromia_chunks16[1].tolist()\n",
    "P13 = oromia_chunks16[2].tolist()\n",
    "LST13 = oromia_chunks16[3].tolist()\n",
    "NDVI13 = oromia_chunks16[4].tolist()\n",
    "PET13 = oromia_chunks16[5].tolist()\n",
    "\n",
    "SM14 = oromia_chunks16[6].tolist()\n",
    "TMP14 = oromia_chunks16[7].tolist()\n",
    "P14 = oromia_chunks16[8].tolist()\n",
    "LST14 = oromia_chunks16[9].tolist()\n",
    "NDVI14 = oromia_chunks16[10].tolist()\n",
    "PET14 = oromia_chunks16[11].tolist()\n",
    "\n",
    "SM15 = oromia_chunks16[12].tolist()\n",
    "TMP15 = oromia_chunks16[13].tolist()\n",
    "P15 = oromia_chunks16[14].tolist()\n",
    "LST15 = oromia_chunks16[15].tolist()\n",
    "NDVI15 = oromia_chunks16[16].tolist()\n",
    "PET15 = oromia_chunks16[17].tolist()\n",
    "\n",
    "SM16 = oromia_chunks16[18].tolist()\n",
    "TMP16 = oromia_chunks16[19].tolist()\n",
    "P16 = oromia_chunks16[20].tolist()\n",
    "LST16 = oromia_chunks16[21].tolist()\n",
    "NDVI16 = oromia_chunks16[22].tolist()\n",
    "PET16 = oromia_chunks16[23].tolist()"
   ]
  },
  {
   "cell_type": "code",
   "execution_count": 12,
   "metadata": {},
   "outputs": [],
   "source": [
    "SM = SM02 + SM03 + SM04 + SM05 + SM06 + SM07 + SM08 + SM09 + SM10 + SM11 + SM12 + SM13 + SM14 + SM15 + SM16\n",
    "TMP = TMP02 + TMP03 + TMP04 + TMP05 + TMP06 + TMP07 + TMP08 + TMP09 + TMP10 + TMP11 + TMP12 + TMP13 + TMP14 + TMP15 + TMP16\n",
    "P = P02 + P03 + P04 + P05 + P06 + P07 + P08 + P09 + P10 + P11 + P12 + P13 + P14 + P15 + P16       \n",
    "LST = LST02 + LST03 + LST04 + LST05 + LST06 + LST07 + LST08 + LST09 + LST10 + LST11 + LST12 + LST13 + LST14 + LST15 + LST16\n",
    "NDVI = NDVI02 + NDVI03 + NDVI04 + NDVI05 + NDVI06 + NDVI07 + NDVI08 + NDVI09 + NDVI10 + NDVI11 + NDVI12 + NDVI13 + NDVI14 + NDVI15 + NDVI16\n",
    "PET = PET02 + PET03 + PET04 + PET05 + PET06 + PET07 + PET08 + PET09 + PET10 + PET11 + PET12 + PET13 + PET14 + PET15 + PET16"
   ]
  },
  {
   "cell_type": "code",
   "execution_count": null,
   "metadata": {},
   "outputs": [],
   "source": [
    "oromia_full = oromia_vals02 + oromia_vals06 + oromia_vals07 + oromia_vals10 + oromia_vals12 + oromia_vals16"
   ]
  },
  {
   "cell_type": "code",
   "execution_count": null,
   "metadata": {},
   "outputs": [],
   "source": [
    "oromia = np.asarray(oromia_full)"
   ]
  },
  {
   "cell_type": "code",
   "execution_count": null,
   "metadata": {},
   "outputs": [],
   "source": [
    "oromia_chunks"
   ]
  },
  {
   "cell_type": "code",
   "execution_count": null,
   "metadata": {},
   "outputs": [],
   "source": [
    "oromia_vals"
   ]
  },
  {
   "cell_type": "code",
   "execution_count": null,
   "metadata": {},
   "outputs": [],
   "source": [
    "oromia_chunks = np.array_split(oromia_vals, 6)"
   ]
  },
  {
   "cell_type": "code",
   "execution_count": null,
   "metadata": {},
   "outputs": [],
   "source": [
    "SM = preprocessing.scale(oromia_chunks[0])\n",
    "TMP = preprocessing.scale(oromia_chunks[1])\n",
    "P = preprocessing.scale(oromia_chunks[2])\n",
    "LST = preprocessing.scale(oromia_chunks[3])\n",
    "NDVI = preprocessing.scale(oromia_chunks[4])\n",
    "PET = preprocessing.scale(oromia_chunks[5])"
   ]
  },
  {
   "cell_type": "code",
   "execution_count": 19,
   "metadata": {
    "scrolled": true
   },
   "outputs": [],
   "source": [
    "oromia_df = pd.DataFrame({'SM': SM,\n",
    "                   'TMP': TMP,\n",
    "                   'P':P,\n",
    "                   'LST':LST,\n",
    "                   'NDVI':NDVI,\n",
    "                   'PET':PET\n",
    "                  }, index=dekads)\n",
    "\n",
    "#dekads = pd.to_datetime(df['DT'], format = '')\n",
    "#[0,1,2,3,4,5,6,7,8,9,10,11,12,13,14,15,16,17,18,19,20,21,22,23,24,25,26,27,28,29,30,31,32,33,34,35]\n",
    "\n",
    "oromia_df.index.name = 'DT'"
   ]
  },
  {
   "cell_type": "code",
   "execution_count": 20,
   "metadata": {},
   "outputs": [],
   "source": [
    "oromia_df.to_csv('/home/rgreen/tana-spin/rgreen/DroughtEDM/Data/Final_TS/oromia_cropland.csv')"
   ]
  },
  {
   "cell_type": "code",
   "execution_count": 17,
   "metadata": {},
   "outputs": [
    {
     "name": "stderr",
     "output_type": "stream",
     "text": [
      "/home/rgreen/miniconda3/envs/edm/lib/python3.7/site-packages/pandas/plotting/_matplotlib/converter.py:103: FutureWarning: Using an implicitly registered datetime converter for a matplotlib plotting method. The converter was registered by pandas on import. Future versions of pandas will require you to explicitly register matplotlib converters.\n",
      "\n",
      "To register the converters:\n",
      "\t>>> from pandas.plotting import register_matplotlib_converters\n",
      "\t>>> register_matplotlib_converters()\n",
      "  warnings.warn(msg, FutureWarning)\n"
     ]
    },
    {
     "data": {
      "text/plain": [
       "[<matplotlib.lines.Line2D at 0x7f91507bbef0>]"
      ]
     },
     "execution_count": 17,
     "metadata": {},
     "output_type": "execute_result"
    },
    {
     "data": {
      "image/png": "[encoded data removed]",
      "text/plain": [
       "<Figure size 432x288 with 1 Axes>"
      ]
     },
     "metadata": {
      "needs_background": "light"
     },
     "output_type": "display_data"
    }
   ],
   "source": [
    "fig = plt.figure()\n",
    "plt.plot(df.index, df['SM'], marker='', color='red', linewidth=1, alpha=0.9)\n",
    "plt.plot(df.index, df['TMP'], marker='', color='blue', linewidth=1, alpha=0.9)\n",
    "plt.plot(df.index, df['P'], marker='', color='green', linewidth=1, alpha=0.9)\n",
    "plt.plot(df.index, df['NDVI'], marker='', color='orange', linewidth=1, alpha=0.9)\n",
    "plt.plot(df.index, df['LST'], marker='', color='purple', linewidth=1, alpha=0.9)"
   ]
  },
  {
   "cell_type": "code",
   "execution_count": null,
   "metadata": {},
   "outputs": [],
   "source": [
    "standardized_df"
   ]
  },
  {
   "cell_type": "markdown",
   "metadata": {},
   "source": [
    "# Random code"
   ]
  },
  {
   "cell_type": "code",
   "execution_count": null,
   "metadata": {},
   "outputs": [],
   "source": [
    "#test = xr.merge([xr.open_rasterio(f) for f in ndvi_files[:4]])"
   ]
  },
  {
   "cell_type": "code",
   "execution_count": null,
   "metadata": {},
   "outputs": [],
   "source": [
    "#get min and max value for image\n",
    "for band in [ndvi_array1]:\n",
    "    print(\"min {min} max {max}\".format(min=band.min(), max=band.max()))"
   ]
  },
  {
   "cell_type": "code",
   "execution_count": null,
   "metadata": {},
   "outputs": [],
   "source": [
    "#get value at top left corner\n",
    "x_coord = ndvi02071.bounds.left\n",
    "y_coord = ndvi02071.bounds.top"
   ]
  },
  {
   "cell_type": "code",
   "execution_count": null,
   "metadata": {},
   "outputs": [],
   "source": [
    "#Stack tiffs\n",
    "\n",
    "\n",
    "with rio.open(ndvi_files[0]) as src0:\n",
    "    meta = src0.meta\n",
    "\n",
    "meta.update(count=len(ndvi_files))\n",
    "\n",
    "with rio.open('ndvi_stack.tiff', 'w', **meta) as dst:\n",
    "    for id, layer in enumerate(ndvi_files, start=1):\n",
    "        with rio.open(layer) as src1:\n",
    "            dst.write_band(id, src1.read(1))"
   ]
  },
  {
   "cell_type": "code",
   "execution_count": null,
   "metadata": {},
   "outputs": [],
   "source": [
    "ndvi_concat =  xr.concat([xr.open_rasterio(f) for f in ndvi_files], dim = pd.Index([dekads], name = 'time'))"
   ]
  },
  {
   "cell_type": "raw",
   "metadata": {},
   "source": []
  },
  {
   "cell_type": "code",
   "execution_count": null,
   "metadata": {},
   "outputs": [],
   "source": [
    "fldas = os.listdir('/home/rgreen/tana-crunch/rgreen/DroughtEDM/Data/FLDAS/200207/')\n",
    "dates = []\n",
    "for filename in fldas:\n",
    "    file = re.search(r'\\d{4}.\\d{3}', filename)\n",
    "    dates.append(file.group())\n",
    "    #print(file.group)\n",
    "\n",
    "dates.sort()\n",
    "print(dates)"
   ]
  },
  {
   "cell_type": "code",
   "execution_count": null,
   "metadata": {},
   "outputs": [],
   "source": [
    "dates2 = pd.to_datetime(pd.Series(dates), format ='%Y%m%d')\n",
    "pytesmo.timedate.dekad.check_dekad(dates2[1])\n",
    "#s = pd.Series(['dates2'], name = \"dates\")\n",
    "#df = pd.DataFrame('Dates':dates)\n",
    "\n",
    "#df.insert(1, 'M', [str(x) for x in range (1,4) for i in range(10)])\n",
    "\n",
    "#df"
   ]
  },
  {
   "cell_type": "code",
   "execution_count": null,
   "metadata": {},
   "outputs": [],
   "source": [
    "n=10\n",
    "final = [output[i * n:(i + 1) * n] for i in range((len(output) + n - 1) // n )]  \n",
    "print (final)\n",
    "len(final)"
   ]
  },
  {
   "cell_type": "code",
   "execution_count": null,
   "metadata": {},
   "outputs": [],
   "source": [
    "test3 = np.mean(outputa[:(len(outputa)//10)*10].reshape(-1,10), axis=1)\n",
    "test3"
   ]
  },
  {
   "cell_type": "code",
   "execution_count": null,
   "metadata": {},
   "outputs": [],
   "source": [
    "data = pd.read_csv('TS_3887_421.csv.csv')\n",
    "data.insert(2,'SM', dates)"
   ]
  },
  {
   "cell_type": "code",
   "execution_count": null,
   "metadata": {},
   "outputs": [],
   "source": [
    "f = netCDF4.Dataset('/home/rgreen/tana-crunch/rgreen/DroughtEDM/Data/FLDAS/200207/LIS_HIST_200207010000.d01.nc')\n",
    "\n",
    "print(f.variables.keys())"
   ]
  },
  {
   "cell_type": "code",
   "execution_count": null,
   "metadata": {},
   "outputs": [],
   "source": [
    "allfiles = glob.glob('/home/rgreen/tana-crunch/rgreen/DroughtEDM/Data/FLDAS/200207/*.nc')"
   ]
  },
  {
   "cell_type": "code",
   "execution_count": null,
   "metadata": {},
   "outputs": [],
   "source": [
    "#data200207 = xr.open_mfdataset('/home/rgreen/tana-crunch/rgreen/DroughtEDM/Data/FLDAS/200207/*.nc', concat_dim=[..., None, ...])"
   ]
  },
  {
   "cell_type": "code",
   "execution_count": null,
   "metadata": {},
   "outputs": [],
   "source": [
    "data1 = '/home/rgreen/tana-crunch/rgreen/DroughtEDM/Data/FLDAS/200207/LIS_HIST_200207010000.d01.nc'\n",
    "data2 = '/home/rgreen/tana-crunch/rgreen/DroughtEDM/Data/FLDAS/200207/LIS_HIST_200207020000.d01.nc'\n",
    "data27 = '/home/rgreen/tana-crunch/rgreen/DroughtEDM/Data/FLDAS/FLDAS_NOAH01_C_GL_M.A200207.001.nc' #global monthly\n",
    "DS1 = xr.open_dataset(data1)\n",
    "DS2 = xr.open_dataset(data2)\n",
    "DS27 = xr.open_dataset(data27)\n",
    "DS1.SoilMoist_tavg[0,400:405,300:305]\n",
    "#xidx = (np.abs(DS1.X - -17.83)).argmin()\n",
    "#yidx = (np.abs(DS1.Y - long)).argmin()\n",
    "DS1.Evap_tavg[1,0]"
   ]
  },
  {
   "cell_type": "code",
   "execution_count": null,
   "metadata": {},
   "outputs": [],
   "source": [
    "DS1.SoilMoist_tavg[0,568,442]"
   ]
  },
  {
   "cell_type": "code",
   "execution_count": null,
   "metadata": {},
   "outputs": [],
   "source": [
    "lat, lon = np.array(DS1.variables['Y'][:]), np.array(DS1.variables['X'][:])\n"
   ]
  },
  {
   "cell_type": "code",
   "execution_count": null,
   "metadata": {},
   "outputs": [],
   "source": [
    "print(find_nearest(lat, 4))"
   ]
  },
  {
   "cell_type": "code",
   "execution_count": null,
   "metadata": {},
   "outputs": [],
   "source": [
    "lat, lon = DS1.variables['Y'], DS1.variables['X']\n",
    "latvals = lat[:]; lonvals = lon[:]\n",
    "\n",
    "lat = np.array(DS1.variables['Y'][:])\n",
    "sm = np.array(DS1.variables['SoilMoist_tavg'][0,:,:]) #change first value to indicate soil level, 0 = level 1\n",
    "#iy_min, ix_min = getclosest_ij(latvals, lonvals, 4, 38)\n",
    "lat.shape"
   ]
  },
  {
   "cell_type": "code",
   "execution_count": null,
   "metadata": {},
   "outputs": [],
   "source": [
    "#iy_min, ix_min = getclosest_ij(latvals, lonvals, 4, 38)\n",
    "\n",
    "dist_sq = (latvals - 4)**2 + (lonvals - 38)**2\n",
    "idy, idx = np.where(dist_sq==dist_sq.min())\n",
    "idy[0]\n",
    "idx[0]"
   ]
  },
  {
   "cell_type": "code",
   "execution_count": null,
   "metadata": {},
   "outputs": [],
   "source": [
    "i = np.abs(lonvals - 38).argmin()\n",
    "j = np.abs(latvals -4).argmin()\n",
    "DS1.SoilMoist_tavg[0,j,i]"
   ]
  },
  {
   "cell_type": "code",
   "execution_count": null,
   "metadata": {},
   "outputs": [],
   "source": [
    "ax = plt.axes(projection=ccrs.PlateCarree())\n",
    "ax.coastlines() \n",
    "sm1.plot()\n",
    "plt.show()"
   ]
  },
  {
   "cell_type": "code",
   "execution_count": null,
   "metadata": {},
   "outputs": [],
   "source": [
    "sm1.cartopy_crs"
   ]
  },
  {
   "cell_type": "code",
   "execution_count": null,
   "metadata": {},
   "outputs": [],
   "source": [
    "sm1_ras = rio.to_raster(sm1)"
   ]
  },
  {
   "cell_type": "code",
   "execution_count": null,
   "metadata": {},
   "outputs": [],
   "source": [
    "sm_ras = rio.open('netcdf:/home/rgreen/tana-crunch/rgreen/DroughtEDM/Data/FLDAS/200207/LIS_HIST_200207010000.d01.nc:SoilMoist_tavg')"
   ]
  },
  {
   "cell_type": "code",
   "execution_count": null,
   "metadata": {},
   "outputs": [],
   "source": [
    "#clip SM images to cropzones boundaries\n",
    "\n",
    "with fiona.open('/home/rgreen/tana-crunch/rgreen/DroughtEDM/Data/cropzones/cropzones.shp', \"r\") as shapefile:\n",
    "    features = [feature[\"geometry\"] for feature in shapefile]\n",
    "\n",
    "src = rio.open('/home/rgreen/tana-crunch/rgreen/DroughtEDM/Data/eMODIS_NDVI/EastAfrica/data.2002.071_mask.tiff')\n",
    "\n",
    "    \n",
    "show((src,1))\n",
    "ax = plt.gca()\n",
    "patches = [PolygonPatch(feature, edgecolor=\"red\", facecolor=\"none\", linewidth=2) for feature in features]\n",
    "ax.add_collection(mpl.collections.PatchCollection(patches, match_original=True))\n"
   ]
  },
  {
   "cell_type": "code",
   "execution_count": null,
   "metadata": {},
   "outputs": [],
   "source": [
    "    #val = data.sample([x,y])\n",
    "       #output = []\n",
    "        \n",
    "      #  for result in data.sample([(x, y)]): \n",
    "           # with openoutput.append(*((result-100)/100))\n",
    "          # output =  ((result-100)/100)\n",
    "       # return output\n",
    "        \n",
    "       # return result\n",
    "            \n",
    "            #output = (*((result-100)/100))\n",
    "           # print\n",
    "    \n",
    "        #return return np.asarray(output)\n",
    "        \n",
    "        #np.asarray(output)\n",
    "# with rio.open(tiff_dir + filename) as data:\n",
    "         #   output.append(data.sample([(x, y)]))"
   ]
  },
  {
   "cell_type": "code",
   "execution_count": null,
   "metadata": {},
   "outputs": [],
   "source": [
    "data = rio.open('/home/rgreen/tana-spin/rgreen/DroughtEDM/Data/eMODIS_NDVI/CropsMask/data.2002.071_mask_crops.tiff')\n",
    "for val in data.sample([(38.87, 4.21)]): print(val)\n"
   ]
  },
  {
   "cell_type": "code",
   "execution_count": null,
   "metadata": {},
   "outputs": [],
   "source": [
    "class0=np.zeros((3,4))\n",
    "class1=np.ones((3,4))\n",
    "class2=np.ones((3,4))*2\n",
    "class3=np.ones((3,4))*3\n",
    "class_list=[class0,class1,class2,class3]\n",
    "class_list"
   ]
  },
  {
   "cell_type": "code",
   "execution_count": null,
   "metadata": {},
   "outputs": [],
   "source": [
    "class_list[1,0,0]"
   ]
  },
  {
   "cell_type": "code",
   "execution_count": null,
   "metadata": {},
   "outputs": [],
   "source": [
    "lenlist=[x.shape[1,0,0] for x in class_list]\n",
    "lenlist"
   ]
  },
  {
   "cell_type": "code",
   "execution_count": null,
   "metadata": {},
   "outputs": [],
   "source": [
    "m = np.concatenate(class_list, axis=0)\n",
    "m"
   ]
  },
  {
   "cell_type": "code",
   "execution_count": null,
   "metadata": {},
   "outputs": [],
   "source": [
    "m[4]"
   ]
  },
  {
   "cell_type": "markdown",
   "metadata": {},
   "source": [
    "### notes: \n",
    "Either need to aggregate by pixels, time series with all pixels or sample by pixels \n"
   ]
  },
  {
   "cell_type": "code",
   "execution_count": null,
   "metadata": {},
   "outputs": [],
   "source": [
    "crops = xr.open_dataset('/home/rgreen/tana-spin/rgreen/DroughtEDM/Data/PCAM/pcam_mean_2014.nc')"
   ]
  },
  {
   "cell_type": "code",
   "execution_count": null,
   "metadata": {},
   "outputs": [],
   "source": [
    "crops"
   ]
  },
  {
   "cell_type": "code",
   "execution_count": null,
   "metadata": {},
   "outputs": [],
   "source": [
    "show(crops)"
   ]
  },
  {
   "cell_type": "code",
   "execution_count": null,
   "metadata": {},
   "outputs": [],
   "source": []
  }
 ],
 "metadata": {
  "kernelspec": {
   "display_name": "Python [conda env:edm]",
   "language": "python",
   "name": "conda-env-edm-py"
  },
  "language_info": {
   "codemirror_mode": {
    "name": "ipython",
    "version": 3
   },
   "file_extension": ".py",
   "mimetype": "text/x-python",
   "name": "python",
   "nbconvert_exporter": "python",
   "pygments_lexer": "ipython3",
   "version": "3.7.3"
  }
 },
 "nbformat": 4,
 "nbformat_minor": 2
}
