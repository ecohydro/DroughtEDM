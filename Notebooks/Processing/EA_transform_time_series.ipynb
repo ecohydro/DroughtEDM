{
 "cells": [
  {
   "cell_type": "markdown",
   "metadata": {},
   "source": [
    "# East Africa Time Series "
   ]
  },
  {
   "cell_type": "markdown",
   "metadata": {},
   "source": [
    "This notebook converts the zonal stats mean values dataframes from output of land_cover_zonal_stats into time series of the 6 environemntal variables for each admin 1 zone across East Africa for all land covers"
   ]
  },
  {
   "cell_type": "code",
   "execution_count": 28,
   "metadata": {},
   "outputs": [],
   "source": [
    "import numpy as np\n",
    "import pandas as pd\n",
    "import os\n",
    "import collections"
   ]
  },
  {
   "cell_type": "code",
   "execution_count": 29,
   "metadata": {},
   "outputs": [],
   "source": [
    "#East Africa Time Series Zonal Stats output datasets\n",
    "EA_TS_INTERIM = '/home/rgreen/DroughtEDM/Data/EA_TS_16/Interim/'\n",
    "EA_TS_FINAL = '/home/rgreen/DroughtEDM/Data/EA_TS_16/Final/'\n",
    "\n",
    "\n",
    "EA_TS_INTERIM_ANOM = '/home/rgreen/DroughtEDM/Data/EA_TS_16/Interim_Anomaly/'\n",
    "EA_TS_FINAL_ANOM = '/home/rgreen/DroughtEDM/Data/EA_TS_16/Final_Anomaly/'"
   ]
  },
  {
   "cell_type": "code",
   "execution_count": 30,
   "metadata": {},
   "outputs": [],
   "source": [
    "#create list of dekads as datetime objects\n",
    "begin = pd.datetime(2002,7,1)\n",
    "end = pd.datetime(2019,4,30)\n",
    "dtrange = pd.date_range(begin, end)\n",
    "days = list(range(0,len(dtrange))) #length of dtrange\n",
    "daysDF = pd.DataFrame({'Days': days}, index=dtrange)\n",
    "d = daysDF.index.day - np.clip((daysDF.index.day-1) // 10, 0, 2)*10 - 1 #convert daily SM values to dekadal\n",
    "dekaddates = daysDF.index.values - np.array(d, dtype=\"timedelta64[D]\")\n",
    "dekads = daysDF.groupby(dekaddates).mean()\n",
    "dekads = dekads.index"
   ]
  },
  {
   "cell_type": "code",
   "execution_count": 31,
   "metadata": {},
   "outputs": [
    {
     "data": {
      "text/plain": [
       "DatetimeIndex(['2002-07-01', '2002-07-11', '2002-07-21', '2002-08-01',\n",
       "               '2002-08-11', '2002-08-21', '2002-09-01', '2002-09-11',\n",
       "               '2002-09-21', '2002-10-01',\n",
       "               ...\n",
       "               '2019-01-21', '2019-02-01', '2019-02-11', '2019-02-21',\n",
       "               '2019-03-01', '2019-03-11', '2019-03-21', '2019-04-01',\n",
       "               '2019-04-11', '2019-04-21'],\n",
       "              dtype='datetime64[ns]', length=606, freq=None)"
      ]
     },
     "execution_count": 31,
     "metadata": {},
     "output_type": "execute_result"
    }
   ],
   "source": [
    "dekads"
   ]
  },
  {
   "cell_type": "code",
   "execution_count": 36,
   "metadata": {},
   "outputs": [],
   "source": [
    "def transform_ts(in_dir, out_dir):\n",
    "    files=np.array(sorted(os.listdir(in_dir)))\n",
    "    tifs = pd.Series(files).str.contains('.csv')\n",
    "    files = files[tifs]\n",
    "\n",
    "    \n",
    "    for filename in files: \n",
    "        \n",
    "        orig_ts = pd.read_csv(in_dir+filename)\n",
    "        data_list = orig_ts.values.tolist()\n",
    "        ts_data = [item[13:] for item in data_list] \n",
    "        admin_zones = [item[3] for item in data_list]\n",
    "  \n",
    "        \n",
    "        for i in orig_ts.index:\n",
    "            var_chunk = np.array_split(ts_data[i], 3)\n",
    "\n",
    "            out_df = pd.DataFrame({'NDVI':var_chunk[0].tolist(),\n",
    "                   'P':var_chunk[1].tolist(),\n",
    "                   'LST':var_chunk[2].tolist()      \n",
    "                  }, index=pd.to_datetime(dekads))\n",
    "            out_df.index.name = 'Time'\n",
    "\n",
    "\n",
    "            out_df.to_csv(out_dir+str(admin_zones[i])+ '_' + filename)\n",
    "            #os.path.splitext(os.path.basename(filename))[0]\n",
    "            "
   ]
  },
  {
   "cell_type": "code",
   "execution_count": 38,
   "metadata": {},
   "outputs": [],
   "source": [
    "transform_ts(EA_TS_INTERIM, EA_TS_FINAL)"
   ]
  },
  {
   "cell_type": "code",
   "execution_count": null,
   "metadata": {},
   "outputs": [],
   "source": []
  }
 ],
 "metadata": {
  "kernelspec": {
   "display_name": "Python [conda env:edm]",
   "language": "python",
   "name": "conda-env-edm-py"
  },
  "language_info": {
   "codemirror_mode": {
    "name": "ipython",
    "version": 3
   },
   "file_extension": ".py",
   "mimetype": "text/x-python",
   "name": "python",
   "nbconvert_exporter": "python",
   "pygments_lexer": "ipython3",
   "version": "3.7.3"
  }
 },
 "nbformat": 4,
 "nbformat_minor": 4
}
