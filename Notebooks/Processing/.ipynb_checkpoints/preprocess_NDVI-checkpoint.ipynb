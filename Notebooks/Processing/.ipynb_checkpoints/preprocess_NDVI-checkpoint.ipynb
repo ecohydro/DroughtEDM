{
 "cells": [
  {
   "cell_type": "code",
   "execution_count": 1,
   "metadata": {},
   "outputs": [],
   "source": [
    "import os\n",
    "import rasterio\n",
    "from rasterio.mask import mask\n",
    "from rasterio.plot import show\n",
    "from rasterio.plot import show_hist\n",
    "from rasterio.warp import calculate_default_transform, reproject, Resampling\n",
    "from rasterio.windows import Window\n",
    "from rasterio.merge import merge\n",
    "from rasterio import features\n",
    "import pandas as pd\n",
    "import geopandas as gpd\n",
    "from shapely.geometry import box\n",
    "import numpy as np\n",
    "import matplotlib as mpl\n",
    "import matplotlib.pyplot as plt\n",
    "import fiona\n",
    "from fiona.crs import from_epsg\n",
    "import pycrs\n",
    "import pathlib\n",
    "import glob\n",
    "from osgeo import gdal, ogr\n",
    "import sys\n",
    "import pprint\n",
    "import csv\n",
    "import re"
   ]
  },
  {
   "cell_type": "code",
   "execution_count": null,
   "metadata": {},
   "outputs": [],
   "source": [
    "#Functions\n",
    "def getFeatures(gdf):\n",
    "    \"\"\"Function to parse features form GeoDataFrame in such a manner that rasterio wants them \"\"\"\n",
    "    import json\n",
    "    return [json.loads(gdf.to_json())['features'][0]['geometry']]\n",
    "\n",
    "#mask tifs to East Africa using bounding box\n",
    "def maskBox(tiff_directory, mask_dir):\n",
    "    #Get all GeoTiff filenames\n",
    "    files = np.array(os.listdir(tiff_directory))\n",
    "    tiffs = pd.Series(files).str.contains('.tif')\n",
    "    files = files[tiffs]\n",
    "    \n",
    "#Loop over files\n",
    "    for filename in files:\n",
    "        print(filename)\n",
    "        \n",
    "        #open raster in read mode\n",
    "        data = rasterio.open(tiff_directory + filename)\n",
    "        #print filenames\n",
    "        #print('filename:' + filename + '\\n' + 'image name:' + image_name)\n",
    "      \n",
    "        #make directory to store new images\n",
    "        #pathlib.Path(mask_dir).mkdir(parents=True, exist_ok=True)\n",
    "        \n",
    "        #insert the bbox into a GeoDataFrame\n",
    "        geo = gpd.GeoDataFrame({'geometry': admin1}, index=[0], crs=from_epsg(4326))\n",
    "\n",
    "        #reprojectinto the same coordinate system as raster data\n",
    "        geo = geo.to_crs(crs=data.crs.data)\n",
    "  \n",
    "        #get geometry coordinates by using getFeatures function\n",
    "        coords = getFeatures(geo)\n",
    "\n",
    "        #mask raster\n",
    "        out_img, out_transform = mask(data, shapes=coords, crop=True)\n",
    "\n",
    "        #modify metadata\n",
    "        #copy metadata\n",
    "        out_meta = data.meta.copy()\n",
    "\n",
    "        #Parse EPSG code\n",
    "        epsg_code = int(data.crs.data['init'][5:])\n",
    "\n",
    "        #update metadata with new dimensions, transform (affine) and CRS (as Proj4 text)\n",
    "        out_meta.update({\"driver\": \"GTiff\",\n",
    "                   \"height\": out_img.shape[1],\n",
    "                    \"width\": out_img.shape[2],\n",
    "                    \"transform\": out_transform,\n",
    "                    \"crs\": pycrs.parse.from_epsg_code(epsg_code).to_proj4()}\n",
    "                             )\n",
    "        #Get image name to usefor creating directory\n",
    "        image_name = filename.split(\".tiff\")[0]\n",
    "        \n",
    "        #save clipped raster to disk\n",
    "        with rasterio.open((mask_dir + image_name + '_maskbox.tiff'), \"w\", **out_meta) as dest: \n",
    "            dest.write(out_img)\n",
    "        \n",
    "#mask tifs to cropzone shapefile      \n",
    "def maskShapefile(tiff_dir, mask_dir):\n",
    "    #Get all GeoTiff filenames\n",
    "    files = np.array(os.listdir(tiff_dir))\n",
    "    tiffs = pd.Series(files).str.contains('.tiff')\n",
    "    files = files[tiffs]\n",
    " \n",
    "    \n",
    "#Loop over files\n",
    "    for filename in files:\n",
    "        print(filename)\n",
    "        \n",
    "        #open raster in read mode\n",
    "        data = rasterio.open(tiff_dir + filename)\n",
    "        #print filenames\n",
    "        #print('filename:' + filename + '\\n' + 'image name:' + image_name)\n",
    "\n",
    "        #mask raster\n",
    "        out_img, out_transform = mask(data, shapes=features, crop=True)\n",
    "\n",
    "        #modify metadata\n",
    "        #copy metadata\n",
    "        out_meta = data.meta.copy()\n",
    "\n",
    "        #Parse EPSG code\n",
    "        epsg_code = int(data.crs.data['init'][5:])\n",
    "\n",
    "        #update metadata with new dimensions, transform (affine) and CRS (as Proj4 text)\n",
    "        out_meta.update({\"driver\": \"GTiff\",\n",
    "                   \"height\": out_img.shape[1],\n",
    "                    \"width\": out_img.shape[2],\n",
    "                    \"transform\": out_transform,\n",
    "                    \"crs\": pycrs.parse.from_epsg_code(epsg_code).to_proj4()}\n",
    "                             )\n",
    "        #Get image name to usefor creating directory\n",
    "        image_name = filename.split(\".tiff\")[0]\n",
    "        \n",
    "        #save clipped raster to disk\n",
    "        with rasterio.open((mask_dir + image_name + '_mask.tiff'), \"w\", **out_meta) as dest: \n",
    "            dest.write(out_img)\n",
    "            \n",
    "#extract pixel value from xy location\n",
    "\n",
    "def extractValue(tiff_dir, x, y):\n",
    "    files = np.array(os.listdir(tiff_dir))\n",
    "    tiffs = pd.Series(files).str.contains('.tiff')\n",
    "    files = files[tiffs]\n",
    "    f = open('TS.csv', 'w')\n",
    "    writer = csv.DictWriter(\n",
    "    f, fieldnames=[\"Value\"])\n",
    "    writer.writeheader()\n",
    "    for filename in files: \n",
    "        data = rasterio.open(tiff_dir + filename)\n",
    "        vals = data.sample([x,y])\n",
    "    \n",
    "        for val in data.sample([(x, y)]): \n",
    "            print(*((val-100)/100), sep =' ', file = f)\n",
    "            #f.write(*((val-100)/100) +'\\n')\n",
    "       \n",
    "    f.close()\n",
    " \n",
    "\n",
    "        "
   ]
  },
  {
   "cell_type": "code",
   "execution_count": null,
   "metadata": {},
   "outputs": [],
   "source": [
    "admin1 = '/home/rgreen/tana-spin/rgreen/DroughtEDM/Data/AdminBoundaries/gadm36_EastAfrica.shp'"
   ]
  },
  {
   "cell_type": "code",
   "execution_count": null,
   "metadata": {},
   "outputs": [],
   "source": [
    "maskImages(tiff_directory='/home/rgreen/tana-spin/rgreen/DroughtEDM/Data/eMODIS_NDVI/', mask_dir='/home/rgreen/tana-spin/rgreen/DroughtEDM/Data/eMODIS_NDVI/')"
   ]
  },
  {
   "cell_type": "code",
   "execution_count": null,
   "metadata": {},
   "outputs": [],
   "source": [
    "#create bounding box with shapely for East Africa\n",
    "#WGS84 coordinates\n",
    "minx, miny = 28, -12\n",
    "maxx, maxy = 52, 15\n",
    "bbox = box(minx, miny, maxx, maxy)"
   ]
  },
  {
   "cell_type": "code",
   "execution_count": null,
   "metadata": {},
   "outputs": [],
   "source": [
    "#lc_file = '/home/rgreen/tana-crunch/rgreen/DroughtEDM/Data/ESACCI-LC-L4-LC10-Map-20m-P1Y-2016-v1/ESACCI-LC-L4-LC10-Map-20m-P1Y-2016-v1.0.tiff'\n",
    "#lc = rasterio.open(lc_file)"
   ]
  },
  {
   "cell_type": "code",
   "execution_count": null,
   "metadata": {},
   "outputs": [],
   "source": [
    "#mask LC map to East Africa\n",
    "maskImages(tiff_directory = '/home/rgreen/tana-crunch/rgreen/DroughtEDM/Data/ESACCI-LC-L4-LC10-Map-20m-P1Y-2016-v1/ESACCI-LC-L4-LC10-Map-20m-P1Y-2016-v1/', mask_dir = '/home/rgreen/tana-crunch/rgreen/DroughtEDM/Data/ESACCI-LC-L4-LC10-Map-20m-P1Y-2016-v1/Mask/')"
   ]
  },
  {
   "cell_type": "code",
   "execution_count": null,
   "metadata": {},
   "outputs": [],
   "source": [
    "#mask eMODIS NDVI to East Africa\n",
    "maskImages(tiff_directory = '/home/rgreen/tana-crunch/rgreen/DroughtEDM/Data/eMODIS_NDVI/Africa2/', mask_dir = '/home/rgreen/tana-crunch/rgreen/DroughtEDM/Data/eMODIS_NDVI/EastAfrica/')"
   ]
  },
  {
   "cell_type": "code",
   "execution_count": null,
   "metadata": {},
   "outputs": [],
   "source": [
    "#Visualize mask LC (too big) \n",
    "lc_mask = '/home/rgreen/tana-crunch/rgreen/DroughtEDM/Data/ESACCI-LC-L4-LC10-Map-20m-P1Y-2016-v1/Mask/ESACCI-LC-L4-LC10-Map-20m-P1Y-2016-v1.0_mask.tiff'\n",
    "#lc_mask = rasterio.open(lc_mask)\n",
    "#show(lc_mask)\n",
    "\n"
   ]
  },
  {
   "cell_type": "code",
   "execution_count": null,
   "metadata": {},
   "outputs": [],
   "source": [
    "# mask land cover image to only 1 where lc=4 for cropland and 0 for everything else\n",
    "with rasterio.open(lc_mask, 'r+') as ds:\n",
    "    a = ds.read()  # read all raster values\n",
    "    a[a!=4] = 0  #set all values not cropland as 0\n",
    "    a[a==4] = 1\n",
    "    ds.write(a)\n"
   ]
  },
  {
   "cell_type": "code",
   "execution_count": null,
   "metadata": {},
   "outputs": [],
   "source": [
    "#too large to visualize\n",
    "lc_cl = rasterio.open(lc_mask)\n",
    "#show(lc_cl)"
   ]
  },
  {
   "cell_type": "code",
   "execution_count": null,
   "metadata": {},
   "outputs": [],
   "source": [
    "mask = lc_cl.read_masks(1)"
   ]
  },
  {
   "cell_type": "code",
   "execution_count": null,
   "metadata": {},
   "outputs": [],
   "source": [
    "mask.shape"
   ]
  },
  {
   "cell_type": "code",
   "execution_count": null,
   "metadata": {},
   "outputs": [],
   "source": [
    "#checking that mask is correct \n",
    "mask[10000:10005,10000:10005]"
   ]
  },
  {
   "cell_type": "code",
   "execution_count": null,
   "metadata": {},
   "outputs": [],
   "source": [
    "lc_cl = gdal.Open(lc_mask)\n"
   ]
  },
  {
   "cell_type": "code",
   "execution_count": null,
   "metadata": {},
   "outputs": [],
   "source": [
    "lc_cl1 = lc_cl.GetRasterBand(1)"
   ]
  },
  {
   "cell_type": "code",
   "execution_count": null,
   "metadata": {},
   "outputs": [],
   "source": [
    "drv = ogr.GetDriverByName('ESRI Shapefile')\n",
    "outfile = drv.CreateDataSource(r'/home/rgreen/tana-crunch/rgreen/DroughtEDM/Data/ESACCI-LC-L4-LC10-Map-20m-P1Y-2016-v1/ESACCI-LC-L4-LC10-Map-20m-P1Y-2016-v1_crops.shp') \n",
    "outlayer = outfile.CreateLayer('ESACCI-LC-L4-LC10-Map-20m-P1Y-2016-v1_crops', srs = None )\n",
    "newField = ogr.FieldDefn('DN', ogr.OFTInteger)\n",
    "outlayer.CreateField(newField)"
   ]
  },
  {
   "cell_type": "code",
   "execution_count": null,
   "metadata": {},
   "outputs": [],
   "source": [
    "gdal.Polygonize(lc_cl1, None, outlayer, -1, [], callback=None)\n"
   ]
  },
  {
   "cell_type": "code",
   "execution_count": null,
   "metadata": {},
   "outputs": [],
   "source": [
    "outfile = None"
   ]
  },
  {
   "cell_type": "code",
   "execution_count": null,
   "metadata": {},
   "outputs": [],
   "source": [
    "shape=gpd.read_file('/home/rgreen/tana-crunch/rgreen/DroughtEDM/Data/ESACCI-LC-L4-LC10-Map-20m-P1Y-2016-v1/ESACCI-LC-L4-LC10-Map-20m-P1Y-2016-v1_crops.shp')\n",
    "shape.plot()"
   ]
  },
  {
   "cell_type": "code",
   "execution_count": null,
   "metadata": {},
   "outputs": [],
   "source": [
    "#Mosaic rasters\n",
    "s\n",
    "dirpath = '/home/rgreen/tana-crunch/rgreen/DroughtEDM/Data/GFSAD30AFCE'\n",
    "outpath = '/home/rgreen/tana-crunch/rgreen/DroughtEDM/Data/GFSAD30AFCE/Mosaic/GFSAD30AFCE_Mosaic.tif'\n",
    "\n",
    "search_criteria = \"*.tif\"\n",
    "\n",
    "q = os.path.join(dirpath, search_criteria)\n",
    "print(q)\n",
    "\n",
    "\n",
    "\n"
   ]
  },
  {
   "cell_type": "code",
   "execution_count": null,
   "metadata": {},
   "outputs": [],
   "source": [
    "\n",
    "dem_fps = glob.glob(q)\n",
    "#dem_fps"
   ]
  },
  {
   "cell_type": "code",
   "execution_count": null,
   "metadata": {},
   "outputs": [],
   "source": [
    "#testing kenya croplands shapefile \n",
    "croplands = gpd.read_file('/home/rgreen/tana-crunch/rgreen/DroughtEDM/Data/RCMRD_2015cropmask/kenya_croplands_2015.shp')\n",
    "croplands.plot()"
   ]
  },
  {
   "cell_type": "code",
   "execution_count": null,
   "metadata": {},
   "outputs": [],
   "source": [
    "#mask NDVI to kenya croplands shapefile\n",
    "with fiona.open('/home/rgreen/tana-crunch/rgreen/DroughtEDM/Data/RCMRD_2015cropmask/kenya_croplands_2015.shp', \"r\") as shapefile:\n",
    "    features = [feature[\"geometry\"] for feature in shapefile]"
   ]
  },
  {
   "cell_type": "code",
   "execution_count": null,
   "metadata": {},
   "outputs": [],
   "source": [
    "with rasterio.open('/home/rgreen/tana-crunch/rgreen/DroughtEDM/Data/eMODIS_NDVI/data.2008.081_mask.tiff') as src:\n",
    "    out_image, out_transform = rasterio.mask.mask(src, features,\n",
    "                                                        crop=True)\n",
    "    out_meta = src.meta.copy()"
   ]
  },
  {
   "cell_type": "code",
   "execution_count": null,
   "metadata": {},
   "outputs": [],
   "source": [
    "out_meta.update({\"driver\": \"GTiff\",\n",
    "                 \"height\": out_image.shape[1],\n",
    "                 \"width\": out_image.shape[2],\n",
    "                 \"transform\": out_transform})\n",
    "with rasterio.open('/home/rgreen/tana-crunch/rgreen/DroughtEDM/Data/eMODIS_NDVI/data.2008.081_mask_crops2015.tiff', \"w\", **out_meta) as dest:\n",
    "    dest.write(out_image)"
   ]
  },
  {
   "cell_type": "code",
   "execution_count": null,
   "metadata": {},
   "outputs": [],
   "source": [
    "ndvi_crops2015 = rasterio.open('/home/rgreen/tana-crunch/rgreen/DroughtEDM/Data/eMODIS_NDVI/data.2008.081_mask_crops2015.tiff')\n",
    "show(ndvi_crops2015)"
   ]
  },
  {
   "cell_type": "code",
   "execution_count": null,
   "metadata": {},
   "outputs": [],
   "source": [
    "#checking that mask is correct (=0) \n",
    "kenya_ndvi_crops = ndvi_crops2015.read(1)"
   ]
  },
  {
   "cell_type": "code",
   "execution_count": null,
   "metadata": {},
   "outputs": [],
   "source": [
    "kenya_ndvi_crops[100:105, 2000:2005]"
   ]
  },
  {
   "cell_type": "code",
   "execution_count": null,
   "metadata": {},
   "outputs": [],
   "source": [
    "import os, fnmatch\n",
    "#from subprocess import call"
   ]
  },
  {
   "cell_type": "code",
   "execution_count": null,
   "metadata": {},
   "outputs": [],
   "source": [
    "#call([\"ls\", \"-l\"])\n",
    "\n",
    "inFolder= '/home/rgreen/tana-crunch/rgreen/DroughtEDM/Data/eMODIS_NDVI/'\n",
    "outFolder= '/home/rgreen/tana-crunch/rgreen/DroughtEDM/Data/eMODIS_NDVI/Cropmask/'\n",
    "shp = '/home/rgreen/tana-crunch/rgreen/DroughtEDM/Data/RCMRD_2015cropmask/kenya_croplands_2015.shp'\n",
    "os.chdir (inFolder)\n",
    "\n",
    "def findRasters (path, filter):\n",
    "    for root, dirs, files in os.walk(path):\n",
    "        for file in fnmatch.filter(files, filter):\n",
    "            yield file\n",
    "\n",
    "for raster in findRasters (inFolder, '*.tiff'):\n",
    "    (infilepath, infilename)= os.path.split (raster)\n",
    "    print(infilename)\n",
    "    outRaster= outFolder+ 'clip_'+ infilename\n",
    "    print(outRaster)\n",
    "    warp = 'gdalwarp -q -cutline %s -crop_to_cutline %s %s' % (shp, raster, outRaster)\n",
    "    #os.system(warp)"
   ]
  },
  {
   "cell_type": "code",
   "execution_count": null,
   "metadata": {},
   "outputs": [],
   "source": [
    "#stack all east africa tiffs\n",
    "tifs = glob.glob('/home/rgreen/tana-crunch/rgreen/DroughtEDM/Data/eMODIS_NDVI/EastAfrica/*.tiff')\n",
    "# Read metadata of first file\n",
    "with rasterio.open(tifs[0]) as src0:\n",
    "    meta = src0.meta\n",
    "\n",
    "# Update meta to reflect the number of layers\n",
    "meta.update(count = len(tifs))\n",
    "\n",
    "# Read each layer and write it to stack\n",
    "with rasterio.open('stack.tiff', 'w', **meta) as dst:\n",
    "    for id, layer in enumerate(tifs, start=1):\n",
    "        with rasterio.open(layer) as src1:\n",
    "            dst.write_band(id, src1.read(1))"
   ]
  },
  {
   "cell_type": "code",
   "execution_count": null,
   "metadata": {},
   "outputs": [],
   "source": [
    "stack = rasterio.open('/home/rgreen/tana-crunch/rgreen/DroughtEDM/stack.tiff')\n",
    "stack.meta"
   ]
  },
  {
   "cell_type": "code",
   "execution_count": null,
   "metadata": {},
   "outputs": [],
   "source": [
    "#clip cropzones shapefile to one NDVI iamge\n",
    "\n",
    "with fiona.open('/home/rgreen/tana-crunch/rgreen/DroughtEDM/Data/cropzones/cropzones.shp', \"r\") as shapefile:\n",
    "    features = [feature[\"geometry\"] for feature in shapefile]"
   ]
  },
  {
   "cell_type": "code",
   "execution_count": null,
   "metadata": {},
   "outputs": [],
   "source": [
    "with rasterio.open('/home/rgreen/tana-crunch/rgreen/DroughtEDM/Data/eMODIS_NDVI/EastAfrica/data.2002.071_mask.tiff') as src:\n",
    "    out_image, out_transform = rasterio.mask.mask(src, features,\n",
    "                                                        crop=True)\n",
    "    out_meta = src.meta.copy()"
   ]
  },
  {
   "cell_type": "code",
   "execution_count": null,
   "metadata": {},
   "outputs": [],
   "source": [
    "out_meta.update({\"driver\": \"GTiff\",\n",
    "                 \"height\": out_image.shape[1],\n",
    "                 \"width\": out_image.shape[2],\n",
    "                 \"transform\": out_transform})\n",
    "with rasterio.open(\"data.2002.071.masked.tif\", \"w\", **out_meta) as dest:\n",
    "    dest.write(out_image)"
   ]
  },
  {
   "cell_type": "code",
   "execution_count": null,
   "metadata": {},
   "outputs": [],
   "source": [
    "show(out_image)"
   ]
  },
  {
   "cell_type": "code",
   "execution_count": null,
   "metadata": {},
   "outputs": [],
   "source": [
    "#clip NDVI images to cropzones boundaries\n",
    "\n",
    "with fiona.open('/home/rgreen/tana-crunch/rgreen/DroughtEDM/Data/cropzones/cropzones.shp', \"r\") as shapefile:\n",
    "    features = [feature[\"geometry\"] for feature in shapefile]\n",
    "    \n",
    "maskCrops(tiff_dir = '/home/rgreen/tana-crunch/rgreen/DroughtEDM/Data/eMODIS_NDVI/EA/', mask_dir = '/home/rgreen/tana-crunch/rgreen/DroughtEDM/Data/eMODIS_NDVI/CropsMask/')"
   ]
  },
  {
   "cell_type": "code",
   "execution_count": null,
   "metadata": {},
   "outputs": [],
   "source": [
    "#get a list of extracted values and export to csv given xy coords\n",
    "\n",
    "extractValue('/home/rgreen/tana-spin/rgreen/DroughtEDM/Data/eMODIS_NDVI/CropsMask/', 38.87, 4.21) #coords in X, Y"
   ]
  },
  {
   "cell_type": "code",
   "execution_count": null,
   "metadata": {},
   "outputs": [],
   "source": [
    "#get dates from filename \n",
    "ndvicrops = os.listdir('/home/rgreen/tana-spin/rgreen/DroughtEDM/Data/eMODIS_NDVI/CropsMask/')\n",
    "dates = []\n",
    "for filename in ndvicrops:\n",
    "    file = str(re.search(r'\\d{4}.\\d{3}', filename))\n",
    "    dates.append(file.group())\n",
    "    #print(file.group())\n",
    "    \n",
    "dates.sort()"
   ]
  },
  {
   "cell_type": "code",
   "execution_count": null,
   "metadata": {},
   "outputs": [],
   "source": [
    "#insert date column \n",
    "data = pd.read_csv('TS.csv')\n",
    "data.insert(0,'Date', dates)"
   ]
  },
  {
   "cell_type": "code",
   "execution_count": null,
   "metadata": {},
   "outputs": [],
   "source": [
    "#save to CSV\n",
    "data.to_csv ('/home/rgreen/tana-crunch/rgreen/DroughtEDM/Data/TS_3887_421.csv', index=None, header=True) "
   ]
  },
  {
   "cell_type": "code",
   "execution_count": null,
   "metadata": {},
   "outputs": [],
   "source": []
  },
  {
   "cell_type": "markdown",
   "metadata": {},
   "source": [
    "# Clip GFSAD30AFCE_mosaic.tif to bounding box for East Africa"
   ]
  },
  {
   "cell_type": "code",
   "execution_count": null,
   "metadata": {},
   "outputs": [],
   "source": [
    "mosaic_dir = '/home/rgreen/tana-spin/rgreen/DroughtEDM/Data/GFSAD30AFCE/Mosaic/'\n",
    "maskImages(mosaic_dir, mosaic_dir)"
   ]
  },
  {
   "cell_type": "markdown",
   "metadata": {},
   "source": [
    "# Testing out resampling"
   ]
  },
  {
   "cell_type": "code",
   "execution_count": null,
   "metadata": {},
   "outputs": [],
   "source": [
    "import rasterio\n",
    "from rasterio.enums import Resampling\n",
    "\n",
    "def resample(in_dir, out_dir):\n",
    "    \n",
    "    with rasterio.open('resample_test.tif') as dataset:\n",
    "        data = dataset.read(\n",
    "            out_shape=(int(lc.height), int(lc.width), dataset.count),\n",
    "            resampling=Resampling.bilinear\n",
    "        )\n",
    "\n",
    "        #scale image transform\n",
    "        transform = dataset.transform * dataset.transform.scale(\n",
    "            (dataset.width / data.shape[-2]),\n",
    "            (dataset.height / data.shape[-1])\n",
    "        )\n",
    "     #save clipped raster to disk\n",
    "       # with rasterio.open((mask_dir + image_name + '_mask.tiff'), \"w\", **out_meta) as dest: \n",
    "       #     dest.write(out_img)"
   ]
  },
  {
   "cell_type": "code",
   "execution_count": null,
   "metadata": {},
   "outputs": [],
   "source": [
    "dataset = ndvi_mask"
   ]
  },
  {
   "cell_type": "code",
   "execution_count": null,
   "metadata": {},
   "outputs": [],
   "source": [
    "import rasterio\n",
    "from rasterio.enums import Resampling\n",
    "\n",
    "upscale_factor = 2\n",
    "\n",
    "with rasterio.open(\"/home/rgreen/tana-spin/rgreen/DroughtEDM/Data/eMODIS_NDVI/data.2008.081.tiff\") as dataset:\n",
    "\n",
    "    # resample data to target shape\n",
    "    data = dataset.read(\n",
    "        out_shape=(\n",
    "            dataset.count,\n",
    "            int(dataset.width * upscale_factor),\n",
    "            int(dataset.height * upscale_factor)\n",
    "        ),\n",
    "        resampling=Resampling.bilinear\n",
    "    )\n",
    "\n",
    "    # scale image transform\n",
    "    transform = dataset.transform * dataset.transform.scale(\n",
    "        (dataset.width / data.shape[-2]),\n",
    "        (dataset.height / data.shape[-1])\n",
    "    )\n",
    "    "
   ]
  },
  {
   "cell_type": "code",
   "execution_count": null,
   "metadata": {},
   "outputs": [],
   "source": [
    "data.shape"
   ]
  },
  {
   "cell_type": "code",
   "execution_count": null,
   "metadata": {},
   "outputs": [],
   "source": [
    "with rasterio.open(\n",
    "    '/home/rgreen/tana-spin/rgreen/DroughtEDM/Data/eMODIS_NDVI/data.2008.081_rs.tiff',\n",
    "    'w',\n",
    "    driver='GTiff',\n",
    "    height=data.shape[0],\n",
    "    width=data.shape[1],\n",
    "    count=1,\n",
    "    dtype=data.dtype,\n",
    "    crs='+proj=latlong',\n",
    "    transform=transform,\n",
    ") as dst:\n",
    "    dst.write(data,1)"
   ]
  },
  {
   "cell_type": "code",
   "execution_count": null,
   "metadata": {},
   "outputs": [],
   "source": [
    "with rasterio.open(\n",
    "    '/home/rgreen/tana-spin/rgreen/DroughtEDM/Data/eMODIS_NDVI/data.2008.081_new.tiff',\n",
    "    'w',\n",
    "    driver='GTiff',\n",
    "    height=r.shape[0],\n",
    "    width=r.shape[1],\n",
    "    count=1,\n",
    "    dtype=r.dtype,\n",
    "    crs='+proj=latlong',\n",
    "    transform=ndvi.transform,\n",
    ") as dst:\n",
    "    dst.write(r, 1)"
   ]
  },
  {
   "cell_type": "code",
   "execution_count": null,
   "metadata": {},
   "outputs": [],
   "source": [
    "from contextlib import contextmanager  \n",
    "import rasterio\n",
    "from rasterio import Affine, MemoryFile\n",
    "from rasterio.enums import Resampling\n",
    "\n",
    "\n",
    "def resample_raster(raster, out_path, scale):\n",
    "    \"\"\" Resample a raster\n",
    "        multiply the pixel size by the scale factor\n",
    "        divide the dimensions by the scale factor\n",
    "        i.e\n",
    "        given a pixel size of 250m, dimensions of (1024, 1024) and a scale of 2,\n",
    "        the resampled raster would have an output pixel size of 500m and dimensions of (512, 512)\n",
    "        given a pixel size of 250m, dimensions of (1024, 1024) and a scale of 0.5,\n",
    "        the resampled raster would have an output pixel size of 125m and dimensions of (2048, 2048)\n",
    "        returns a DatasetReader instance from either a filesystem raster or MemoryFile (if out_path is None)\n",
    "    \"\"\"\n",
    "    t = raster.transform\n",
    "\n",
    "    # rescale the metadata\n",
    "    transform = Affine(t.a * scale, t.b, t.c, t.d, t.e * scale, t.f)\n",
    "    height = int(raster.height / scale)\n",
    "    width = int(raster.width / scale)\n",
    "\n",
    "    profile = src.profile\n",
    "    profile.update(transform=transform, driver='GTiff', height=height, width=width)\n",
    "\n",
    "    data = raster.read(\n",
    "            out_shape=(raster.count, height, width),\n",
    "            resampling=Resampling.bilinear,\n",
    "        )\n",
    "    with write_raster(out_path, data, **profile) as dataset:\n",
    "        del data\n",
    "        yield dataset\n",
    "\n",
    "\n",
    "\n",
    "def write_raster(path, data, **profile):\n",
    "\n",
    "    with rasterio.open(path, 'w', **profile) as dataset:  # Open as DatasetWriter\n",
    "        dataset.write(data)\n",
    "\n",
    "    with rasterio.open(path) as dataset:  # Reopen as DatasetReader\n",
    "        yield dataset"
   ]
  },
  {
   "cell_type": "code",
   "execution_count": 28,
   "metadata": {},
   "outputs": [],
   "source": [
    "raster_ex=rasterio.open('/home/rgreen/tana-spin/rgreen/DroughtEDM/Data/eMODIS_NDVI/Resampled/rs_data.2008.081.tif')\n",
    "#resample_raster(raster_ex, out_path='/home/rgreen/tana-spin/rgreen/DroughtEDM/Data/eMODIS_NDVI/', scale=2)\n",
    "#write_raster(path='/home/rgreen/tana-spin/rgreen/DroughtEDM/Data/eMODIS_NDVI/',data,**profile)"
   ]
  },
  {
   "cell_type": "code",
   "execution_count": 32,
   "metadata": {},
   "outputs": [
    {
     "data": {
      "text/plain": [
       "-3.4e+38"
      ]
     },
     "execution_count": 32,
     "metadata": {},
     "output_type": "execute_result"
    }
   ],
   "source": [
    "raster_ex.nodata"
   ]
  },
  {
   "cell_type": "code",
   "execution_count": null,
   "metadata": {},
   "outputs": [],
   "source": [
    "with rasterio.open(files[0]) as src:\n",
    "            meta = src.meta\n",
    "\n",
    "        meta.update(dtype=rasterio.float32)"
   ]
  },
  {
   "cell_type": "code",
   "execution_count": 9,
   "metadata": {},
   "outputs": [
    {
     "ename": "SyntaxError",
     "evalue": "keyword can't be an expression (<ipython-input-9-2acefd8c84bd>, line 2)",
     "output_type": "error",
     "traceback": [
      "\u001b[0;36m  File \u001b[0;32m\"<ipython-input-9-2acefd8c84bd>\"\u001b[0;36m, line \u001b[0;32m2\u001b[0m\n\u001b[0;31m    dst.write(raster_ex[raster_ex.meta==0]=np.nan)\u001b[0m\n\u001b[0m             ^\u001b[0m\n\u001b[0;31mSyntaxError\u001b[0m\u001b[0;31m:\u001b[0m keyword can't be an expression\n"
     ]
    }
   ],
   "source": [
    "with rasterio.open('/home/rgreen/tana-spin/rgreen/DroughtEDM/Data/eMODIS_NDVI/test_data.2008.081.tiff', 'w', **raster_ex.meta) as dst:\n",
    "    dst.write(raster_ex[raster_ex.meta==0]=np.nan)\n",
    "\n",
    "\n"
   ]
  },
  {
   "cell_type": "code",
   "execution_count": 24,
   "metadata": {},
   "outputs": [
    {
     "data": {
      "text/plain": [
       "<function DatasetWriter.close>"
      ]
     },
     "execution_count": 24,
     "metadata": {},
     "output_type": "execute_result"
    }
   ],
   "source": [
    "rasterin = '/home/rgreen/tana-spin/rgreen/DroughtEDM/Data/FLDAS_SM/Months/200207/LIS_HIST_200207010000.d01.tif'\n",
    "rasterout = '/home/rgreen/tana-spin/rgreen/DroughtEDM/Data/FLDAS_SM/Months/200207/mask_LIS_HIST_200207010000.d01.tif'\n",
    "\n",
    "rast = rasterio.open(rasterin)\n",
    "meta = rast.meta\n",
    "rast.close()\n",
    "\n",
    "with rasterio.open(rasterout, 'w', **meta) as dst:\n",
    "    with rasterio.open(rasterin) as src:\n",
    "        data = src.read()\n",
    "        data[data==-9.9990000e+03] = 0\n",
    "        dst.write(data)\n",
    "dst.close"
   ]
  },
  {
   "cell_type": "code",
   "execution_count": 25,
   "metadata": {},
   "outputs": [],
   "source": [
    "sm_ex = rasterio.open(rasterout)"
   ]
  },
  {
   "cell_type": "code",
   "execution_count": 10,
   "metadata": {},
   "outputs": [],
   "source": [
    "import xarray"
   ]
  },
  {
   "cell_type": "code",
   "execution_count": 66,
   "metadata": {},
   "outputs": [],
   "source": [
    "rastertest = '/home/rgreen/tana-spin/rgreen/DroughtEDM/Data/eMODIS_NDVI/Africa/data.2002.093.tiff'\n",
    "rastertest2 = '/home/rgreen/tana-spin/rgreen/DroughtEDM/Data/eMODIS_NDVI/Resampled/rs_ndvi.2002.093.tif'\n",
    "\n",
    "chirpstest = '/home/rgreen/tana-spin/rgreen/DroughtEDM/Data/CHIRPS/Resampled2/rs_chirps-v2.0.2002.07.1.tif'\n",
    "chirtstest = '/home/rgreen/tana-spin/rgreen/DroughtEDM/Data/CHIRTS/Tmax_Original/Tmax.2002.07.01.tif'\n",
    "\n",
    "pet_test = '/home/rgreen/tana-spin/rgreen/DroughtEDM/Data/Hobbins_ET/Original/pet_200221.tif'"
   ]
  },
  {
   "cell_type": "code",
   "execution_count": 70,
   "metadata": {},
   "outputs": [
    {
     "data": {
      "text/plain": [
       "array([[-9999.      , -9999.      , -9999.      , ...,   106.41878 ,\n",
       "          105.991875,   105.60579 ],\n",
       "       [-9999.      , -9999.      , -9999.      , ...,   105.96405 ,\n",
       "          105.75067 ,   105.67557 ],\n",
       "       [-9999.      , -9999.      , -9999.      , ...,   108.84346 ,\n",
       "          108.21181 ,   108.009   ],\n",
       "       ...,\n",
       "       [-9999.      , -9999.      , -9999.      , ..., -9999.      ,\n",
       "        -9999.      , -9999.      ],\n",
       "       [-9999.      , -9999.      , -9999.      , ..., -9999.      ,\n",
       "        -9999.      , -9999.      ],\n",
       "       [-9999.      , -9999.      , -9999.      , ..., -9999.      ,\n",
       "        -9999.      , -9999.      ]], dtype=float32)"
      ]
     },
     "execution_count": 70,
     "metadata": {},
     "output_type": "execute_result"
    }
   ],
   "source": [
    "pet = rasterio.open(pet_test)\n",
    "pet.read(1)"
   ]
  },
  {
   "cell_type": "code",
   "execution_count": 55,
   "metadata": {},
   "outputs": [
    {
     "data": {
      "text/plain": [
       "{'driver': 'GTiff',\n",
       " 'dtype': 'float32',\n",
       " 'nodata': -3.4e+38,\n",
       " 'width': 730,\n",
       " 'height': 800,\n",
       " 'count': 1,\n",
       " 'crs': CRS.from_epsg(4326),\n",
       " 'transform': Affine(0.1, 0.0, -18.0,\n",
       "        0.0, -0.1, 40.0)}"
      ]
     },
     "execution_count": 55,
     "metadata": {},
     "output_type": "execute_result"
    }
   ],
   "source": [
    "chirps_rs = rasterio.open(chirpstest)\n",
    "chirps_rs.meta"
   ]
  },
  {
   "cell_type": "code",
   "execution_count": 65,
   "metadata": {},
   "outputs": [
    {
     "data": {
      "text/plain": [
       "array([[-9999., -9999., -9999., ..., -9999., -9999., -9999.],\n",
       "       [-9999., -9999., -9999., ..., -9999., -9999., -9999.],\n",
       "       [-9999., -9999., -9999., ..., -9999., -9999., -9999.],\n",
       "       ...,\n",
       "       [-9999., -9999., -9999., ..., -9999., -9999., -9999.],\n",
       "       [-9999., -9999., -9999., ..., -9999., -9999., -9999.],\n",
       "       [-9999., -9999., -9999., ..., -9999., -9999., -9999.]],\n",
       "      dtype=float32)"
      ]
     },
     "execution_count": 65,
     "metadata": {},
     "output_type": "execute_result"
    }
   ],
   "source": [
    "chirts = rasterio.open(chirtstest)\n",
    "chirts.read(1)"
   ]
  },
  {
   "cell_type": "code",
   "execution_count": 51,
   "metadata": {
    "scrolled": true
   },
   "outputs": [
    {
     "ename": "ValueError",
     "evalue": "Source shape (1600, 1500) is inconsistent with given indexes 1",
     "output_type": "error",
     "traceback": [
      "\u001b[0;31m---------------------------------------------------------------------------\u001b[0m",
      "\u001b[0;31mValueError\u001b[0m                                Traceback (most recent call last)",
      "\u001b[0;32m<ipython-input-51-7ad1482fae7e>\u001b[0m in \u001b[0;36m<module>\u001b[0;34m\u001b[0m\n\u001b[1;32m      2\u001b[0m     \u001b[0mdataset\u001b[0m\u001b[0;34m.\u001b[0m\u001b[0mread\u001b[0m\u001b[0;34m(\u001b[0m\u001b[0;36m1\u001b[0m\u001b[0;34m)\u001b[0m\u001b[0;34m\u001b[0m\u001b[0;34m\u001b[0m\u001b[0m\n\u001b[1;32m      3\u001b[0m     \u001b[0mdataset\u001b[0m\u001b[0;34m.\u001b[0m\u001b[0mnodata\u001b[0m \u001b[0;34m=\u001b[0m \u001b[0;34m-\u001b[0m\u001b[0;36m9.9990000e+03\u001b[0m\u001b[0;34m\u001b[0m\u001b[0;34m\u001b[0m\u001b[0m\n\u001b[0;32m----> 4\u001b[0;31m     \u001b[0mdataset\u001b[0m\u001b[0;34m.\u001b[0m\u001b[0mwrite\u001b[0m\u001b[0;34m(\u001b[0m\u001b[0mdataset\u001b[0m\u001b[0;34m)\u001b[0m\u001b[0;34m\u001b[0m\u001b[0;34m\u001b[0m\u001b[0m\n\u001b[0m\u001b[1;32m      5\u001b[0m \u001b[0;34m\u001b[0m\u001b[0m\n",
      "\u001b[0;32mrasterio/_io.pyx\u001b[0m in \u001b[0;36mrasterio._io.DatasetWriterBase.write\u001b[0;34m()\u001b[0m\n",
      "\u001b[0;31mValueError\u001b[0m: Source shape (1600, 1500) is inconsistent with given indexes 1"
     ]
    }
   ],
   "source": [
    "with rasterio.open(chirpstest, 'r+') as dataset:\n",
    "    dataset.nodata = -9.9990000e+03\n",
    "    dataset.write(dataset)\n",
    "\n"
   ]
  },
  {
   "cell_type": "code",
   "execution_count": 47,
   "metadata": {},
   "outputs": [
    {
     "data": {
      "text/plain": [
       "{'driver': 'GTiff',\n",
       " 'dtype': 'float32',\n",
       " 'nodata': None,\n",
       " 'width': 1500,\n",
       " 'height': 1600,\n",
       " 'count': 1,\n",
       " 'crs': CRS.from_epsg(4326),\n",
       " 'transform': Affine(0.05000000074505806, 0.0, -20.0,\n",
       "        0.0, -0.05000000074505806, 40.0)}"
      ]
     },
     "execution_count": 47,
     "metadata": {},
     "output_type": "execute_result"
    }
   ],
   "source": [
    "chirps.meta"
   ]
  },
  {
   "cell_type": "code",
   "execution_count": null,
   "metadata": {},
   "outputs": [],
   "source": [
    "with rasterio.open(\"example.tif\", \"r+\") as dataset:\n",
    "    dataset.nodata = 255"
   ]
  },
  {
   "cell_type": "code",
   "execution_count": 35,
   "metadata": {},
   "outputs": [],
   "source": [
    "rast = rasterio.open(rastertest)\n",
    "rast2 = rasterio.open(rastertest2)"
   ]
  },
  {
   "cell_type": "code",
   "execution_count": 36,
   "metadata": {},
   "outputs": [
    {
     "data": {
      "text/plain": [
       "{'driver': 'GTiff',\n",
       " 'dtype': 'uint8',\n",
       " 'nodata': 0.0,\n",
       " 'width': 29838,\n",
       " 'height': 32739,\n",
       " 'count': 1,\n",
       " 'crs': CRS.from_epsg(4326),\n",
       " 'transform': Affine(0.0024129999999999998, 0.0, -19.999999999999975,\n",
       "        0.0, -0.002413, 40.00000064981503)}"
      ]
     },
     "execution_count": 36,
     "metadata": {},
     "output_type": "execute_result"
    }
   ],
   "source": [
    "rast.meta"
   ]
  },
  {
   "cell_type": "code",
   "execution_count": 57,
   "metadata": {},
   "outputs": [
    {
     "data": {
      "text/plain": [
       "<xarray.DataArray (band: 1, y: 32739, x: 29838)>\n",
       "[976866282 values with dtype=uint8]\n",
       "Coordinates:\n",
       "  * band     (band) int64 1\n",
       "  * y        (y) float64 40.0 40.0 39.99 39.99 ... -38.99 -38.99 -39.0 -39.0\n",
       "  * x        (x) float64 -20.0 -20.0 -19.99 -19.99 ... 51.99 51.99 52.0 52.0\n",
       "Attributes:\n",
       "    transform:      (0.0024129999999999998, 0.0, -19.999999999999975, 0.0, -0...\n",
       "    crs:            +init=epsg:4326\n",
       "    res:            (0.0024129999999999998, 0.002413)\n",
       "    is_tiled:       1\n",
       "    nodatavals:     (0.0,)\n",
       "    scales:         (1.0,)\n",
       "    offsets:        (0.0,)\n",
       "    AREA_OR_POINT:  Area\n",
       "    DataType:       Thematic"
      ]
     },
     "execution_count": 57,
     "metadata": {},
     "output_type": "execute_result"
    }
   ],
   "source": [
    "xarray.open_rasterio(rastertest)"
   ]
  },
  {
   "cell_type": "code",
   "execution_count": 39,
   "metadata": {},
   "outputs": [],
   "source": [
    "mask = rast.read_masks(1)"
   ]
  },
  {
   "cell_type": "code",
   "execution_count": 40,
   "metadata": {},
   "outputs": [
    {
     "data": {
      "image/png": "[encoded data removed]",
      "text/plain": [
       "<Figure size 432x288 with 1 Axes>"
      ]
     },
     "metadata": {
      "needs_background": "light"
     },
     "output_type": "display_data"
    },
    {
     "data": {
      "text/plain": [
       "<matplotlib.axes._subplots.AxesSubplot at 0x7fdee5a790f0>"
      ]
     },
     "execution_count": 40,
     "metadata": {},
     "output_type": "execute_result"
    }
   ],
   "source": [
    "show(mask)"
   ]
  },
  {
   "cell_type": "code",
   "execution_count": null,
   "metadata": {},
   "outputs": [],
   "source": []
  }
 ],
 "metadata": {
  "kernelspec": {
   "display_name": "Python [conda env:edm]",
   "language": "python",
   "name": "conda-env-edm-py"
  },
  "language_info": {
   "codemirror_mode": {
    "name": "ipython",
    "version": 3
   },
   "file_extension": ".py",
   "mimetype": "text/x-python",
   "name": "python",
   "nbconvert_exporter": "python",
   "pygments_lexer": "ipython3",
   "version": "3.7.3"
  }
 },
 "nbformat": 4,
 "nbformat_minor": 4
}
