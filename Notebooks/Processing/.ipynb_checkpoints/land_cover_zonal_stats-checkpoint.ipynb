{
 "cells": [
  {
   "cell_type": "markdown",
   "metadata": {},
   "source": [
    "# land_cover_zonal_stats\n",
    "1. Set all nan values to np.nan across rasters\n",
    "2. Create land cover masks\n",
    "3. Multiply a chosen land cover mask by all parameters for each year\n",
    "4. Rasterstats with admin boundaries\n",
    "5. Reassign cloud mask value before calculating stats\n",
    "6. Dask delayed \n",
    "7. Remove nan cloud pixels from LST data "
   ]
  },
  {
   "cell_type": "code",
   "execution_count": 1,
   "metadata": {},
   "outputs": [],
   "source": [
    "import os\n",
    "import matplotlib.pyplot as plt\n",
    "import glob\n",
    "import rasterio\n",
    "from rasterio.merge import merge\n",
    "from rasterio.plot import show\n",
    "from rasterio.mask import mask\n",
    "from rasterstats import zonal_stats\n",
    "import fiona\n",
    "import geopandas as gpd\n",
    "import xarray as xr\n",
    "import numpy as np\n",
    "import rioxarray\n",
    "import pandas as pd\n",
    "import dask\n",
    "import multiprocessing as mp"
   ]
  },
  {
   "cell_type": "code",
   "execution_count": 9,
   "metadata": {},
   "outputs": [],
   "source": [
    "#ALL VARAIABLE DIRECTORIES USED FOR RASTER CALCULATION\n",
    "\n",
    "grasslands_mask_dir = '/home/rgreen/tana-spin/rgreen/DroughtEDM/Data/MCD12C1/Grasslands_Mask/'\n",
    "croplands_mask_dir = '/home/rgreen/tana-spin/rgreen/DroughtEDM/Data/MCD12C1/Croplands_Mask/'\n",
    "cropnatveg_mask_dir = '/home/rgreen/tana-spin/rgreen/DroughtEDM/Data/MCD12C1/CropNatVeg_Mask/'\n",
    "savannas_mask_dir = '/home/rgreen/tana-spin/rgreen/DroughtEDM/Data/MCD12C1/Savannas_Mask/'\n",
    "woodysavannas_mask_dir = '/home/rgreen/tana-spin/rgreen/DroughtEDM/Data/MCD12C1/WoodySavannas_Mask/'\n",
    "evergreenbroad_mask_dir = '/home/rgreen/tana-spin/rgreen/DroughtEDM/Data/MCD12C1/EvergreenBroad_Mask/'\n",
    "deciduousbroad_mask_dir = '/home/rgreen/tana-spin/rgreen/DroughtEDM/Data/MCD12C1/DeciduousBroad_Mask/'\n",
    "openshrublands_mask_dir = '/home/rgreen/tana-spin/rgreen/DroughtEDM/Data/MCD12C1/OpenShrublands_Mask/'\n",
    "closedshrublands_mask_dir = '/home/rgreen/tana-spin/rgreen/DroughtEDM/Data/MCD12C1/ClosedShrublands_Mask/'\n",
    "barren_mask_dir = '/home/rgreen/tana-spin/rgreen/DroughtEDM/Data/MCD12C1/Barren_Mask/'\n",
    "\n",
    "grasslands_masked_out_dir = '/home/rgreen/tana-spin/rgreen/DroughtEDM/Data/VariablesByLandCover/Variables_Grasslands/'\n",
    "croplands_masked_out_dir = '/home/rgreen/tana-spin/rgreen/DroughtEDM/Data/VariablesByLandCover/Variables_Croplands/'\n",
    "cropnatveg_masked_out_dir = '/home/rgreen/tana-spin/rgreen/DroughtEDM/Data/VariablesByLandCover/Variables_CropNatVeg/'\n",
    "savannas_masked_out_dir = '/home/rgreen/tana-spin/rgreen/DroughtEDM/Data/VariablesByLandCover/Variables_Savannas/' \n",
    "woodysavannas_masked_out_dir = '/home/rgreen/tana-spin/rgreen/DroughtEDM/Data/VariablesByLandCover/Variables_WoodySavannas/'\n",
    "evergreenbroad_masked_out_dir = '/home/rgreen/tana-spin/rgreen/DroughtEDM/Data/VariablesByLandCover/Variables_EvergreenBroad/'\n",
    "deciduousbroad_masked_out_dir = '/home/rgreen/tana-spin/rgreen/DroughtEDM/Data/VariablesByLandCover/Variables_DeciduousBroad/'\n",
    "openshrublands_masked_out_dir = '/home/rgreen/tana-spin/rgreen/DroughtEDM/Data/VariablesByLandCover/Variables_OpenShrublands/'\n",
    "closedshrublands_masked_out_dir = '/home/rgreen/tana-spin/rgreen/DroughtEDM/Data/VariablesByLandCover/Variables_ClosedShrublands/'\n",
    "barren_masked_out_dir = '/home/rgreen/tana-spin/rgreen/DroughtEDM/Data/VariablesByLandCover/Variables_Barren/'\n",
    "\n",
    "env_var_dirs = ['/home/rgreen/tana-spin/rgreen/DroughtEDM/Data/CHIRPS/Resampled/', \n",
    "                '/home/rgreen/tana-spin/rgreen/DroughtEDM/Data/CHIRTS/Dekads/', \n",
    "                '/home/rgreen/tana-spin/rgreen/DroughtEDM/Data/eMODIS_NDVI/Resampled/', \n",
    "                '/home/rgreen/tana-spin/rgreen/DroughtEDM/Data/FLDAS_SM/Dekads/', \n",
    "                '/home/rgreen/tana-spin/rgreen/DroughtEDM/Data/Hobbins_ET/Resampled/', \n",
    "                '/home/rgreen/tana-spin/rgreen/DroughtEDM/Data/LST/Resampled/']"
   ]
  },
  {
   "cell_type": "markdown",
   "metadata": {},
   "source": [
    "# 1. Set all nan values to np.nan across rasters\n",
    "Do this once for all directories of data for all variables, but only need to run once"
   ]
  },
  {
   "cell_type": "code",
   "execution_count": 26,
   "metadata": {},
   "outputs": [],
   "source": [
    "def reassign_mask_npnan(param_dirs):\n",
    "    \n",
    "    for folder in param_dirs:\n",
    "        files=np.array(sorted(os.listdir(folder)))\n",
    "        tifs = pd.Series(files).str.contains('.tif')\n",
    "        files = files[tifs]\n",
    "        print(folder)\n",
    "        \n",
    "        for filename in files:\n",
    "            with rasterio.open(folder+filename, 'r+') as ds:\n",
    "                print(filename)\n",
    "                a = ds.read()# read all raster values\n",
    "                a[a < 0 ] = np.nan  \n",
    "                ds.write(a)"
   ]
  },
  {
   "cell_type": "code",
   "execution_count": null,
   "metadata": {},
   "outputs": [],
   "source": [
    "#reassign_mask_npnan(env_var_dirs)"
   ]
  },
  {
   "cell_type": "markdown",
   "metadata": {},
   "source": [
    "# 2. Create Land Cover Masks"
   ]
  },
  {
   "cell_type": "code",
   "execution_count": null,
   "metadata": {},
   "outputs": [],
   "source": [
    "def create_land_mask(in_dir, out_dir, lc_num):\n",
    "    '''\n",
    "    This function takes the original MCD12C1 images for all years and creates binary output rasters (1 and np.nan) for a given land cover type number\n",
    "    '''\n",
    "    \n",
    "    files=np.array(sorted(os.listdir(in_dir)))\n",
    "    \n",
    "    for filename in files:\n",
    "        base = os.path.splitext(filename)[0]\n",
    "        print(base)\n",
    "        rast = rasterio.open(in_dir+filename)\n",
    "        meta = rast.meta\n",
    "        meta.update(dtype = 'float32', nodata = -3.4e+38)\n",
    "        rast.close()\n",
    "        \n",
    "        with rasterio.open(out_dir+base+'_' + str(lc_num) + '.tif', 'w', **meta) as dst:\n",
    "            with rasterio.open(in_dir+filename) as src:\n",
    "                data = src.read()\n",
    "                data = data.astype(np.float32)\n",
    "                data[data!=lc_num] = np.nan\n",
    "                data[data==lc_num] = 1\n",
    "                dst.write(data)"
   ]
  },
  {
   "cell_type": "code",
   "execution_count": null,
   "metadata": {},
   "outputs": [],
   "source": [
    "landcover_in_dir = '/home/rgreen/tana-spin/rgreen/DroughtEDM/Data/MCD12C1/Original/'\n",
    "landcover_out_dir = '/home/rgreen/tana-spin/rgreen/DroughtEDM/Data/MCD12C1/OpenShrublands_Mask/'\n",
    "lc_class = 7\n"
   ]
  },
  {
   "cell_type": "code",
   "execution_count": null,
   "metadata": {},
   "outputs": [],
   "source": [
    "create_land_mask(landcover_in_dir, landcover_out_dir, lc_class)"
   ]
  },
  {
   "cell_type": "code",
   "execution_count": null,
   "metadata": {},
   "outputs": [],
   "source": []
  },
  {
   "cell_type": "markdown",
   "metadata": {},
   "source": [
    "# 3. Multiply a chosen land cover mask by all parameters for each year"
   ]
  },
  {
   "cell_type": "code",
   "execution_count": null,
   "metadata": {},
   "outputs": [],
   "source": [
    "def rastercalc_lcmask(lcmask_dir, param_dirs, out_dir):\n",
    "    \"\"\"\n",
    "    This function iterates through all parameter files and multiplies the land cover mask for a certain year\n",
    "    to create output rasters of each parameter masked by land cover type\n",
    "    Note: must edit the output file name to reflect the land cover type each time it is run \n",
    "    \"\"\"\n",
    "    lcfiles=np.array(sorted(os.listdir(lcmask_dir)))\n",
    "    \n",
    "    \n",
    "    for yr in range(2002,2017):\n",
    "        lc_yr = [file for file in lcfiles if str(yr) in file]\n",
    "        for lc in lc_yr:\n",
    "            lc_mask = rasterio.open(lcmask_dir + lc)\n",
    "            for folder in param_dirs:\n",
    "                var_yr = [file for file in sorted(os.listdir(folder)) if str(yr) in file]\n",
    "                for var in var_yr:\n",
    "                    var_rast = rasterio.open(folder+var)\n",
    "                    meta = var_rast.meta\n",
    "                    var_lcmask = var_rast.read(1)*lc_mask.read(1)\n",
    "                    with rasterio.open(out_dir + 'openshrublands_' + var, 'w', **meta) as dst:\n",
    "                            dst.write(var_lcmask, 1)\n",
    "                            print(var)"
   ]
  },
  {
   "cell_type": "code",
   "execution_count": null,
   "metadata": {},
   "outputs": [],
   "source": [
    "rastercalc_lcmask(openshrublands_mask_dir, env_var_dirs, openshrublands_masked_out_dir)"
   ]
  },
  {
   "cell_type": "code",
   "execution_count": null,
   "metadata": {},
   "outputs": [],
   "source": []
  },
  {
   "cell_type": "markdown",
   "metadata": {},
   "source": [
    "# 4. Rasterstats with Admin Boundaries"
   ]
  },
  {
   "cell_type": "code",
   "execution_count": 7,
   "metadata": {},
   "outputs": [],
   "source": [
    "def zone_stat(raster, band, polygon, stat):\n",
    "    \"\"\"\n",
    "    This function will calculate the zonal stats for each polygon within a raster\n",
    "    requires gpd_df, raster, object and nodata value\n",
    "    \n",
    "    Args: raster = input raster\n",
    "          band = band of raster\n",
    "          polygon = polygons to calc zonal stats \n",
    "          stats = stat to calculate as string\n",
    "    \"\"\"\n",
    "    \n",
    "    band = raster.read(band)\n",
    "    zone_stat = zonal_stats(polygon, band, affine=raster.meta['transform'], nodata = np.nan, stats = stat)\n",
    "    return zone_stat"
   ]
  },
  {
   "cell_type": "code",
   "execution_count": 4,
   "metadata": {},
   "outputs": [],
   "source": [
    "def var_poly_join(in_dir, shp):\n",
    "    '''\n",
    "    This function will merge the mean value extracted using zonal statistics for all variables with the associated geometry to generate a final geodataframe\n",
    "    \n",
    "    Args: \n",
    "    in dir = folder of masked land cover rasters of interest\n",
    "    gdf = output geodataframe which will have the geometry of interest and the mean of all variables at each point in time series across the columns\n",
    "    \n",
    "    '''\n",
    "    files=np.array(sorted(os.listdir(in_dir)))\n",
    "    tifs = pd.Series(files).str.contains('.tif')\n",
    "    files = files[tifs]\n",
    "    gdf = gpd.read_file(shp)\n",
    "    \n",
    "    for filename in files:\n",
    "        print(filename)\n",
    "        raster = rasterio.open(in_dir+filename)\n",
    "        stats = zone_stat(raster, 1, gdf, 'mean')\n",
    "        #print((list(stats))[-1])\n",
    "        name = os.path.splitext(os.path.basename(filename))[0]\n",
    "        gdf['Mean'+ \"_\" + name] = gpd.GeoDataFrame.from_dict(stats)\n",
    "    return gdf"
   ]
  },
  {
   "cell_type": "code",
   "execution_count": 7,
   "metadata": {
    "scrolled": true
   },
   "outputs": [],
   "source": [
    "africa_adminbds = '/home/rgreen/tana-spin/rgreen/DroughtEDM/Data/AdminBoundaries/Africa_zones_2019/g2008_af_1.shp'\n",
    "afr_bndry = gpd.read_file(africa_adminbds)\n",
    "\n",
    "ea_adminbds = '/home/rgreen/tana-spin/rgreen/DroughtEDM/Data/AdminBoundaries/gadm36_EastAfrica.shp'\n",
    "ea_bndry = gpd.read_file(ea_adminbds)\n",
    "admin_id = np.array(ea_bndry.GID_1)\n",
    "\n",
    "#oromia = '/home/rgreen/tana-spin/rgreen/DroughtEDM/Data/AdminBoundaries/Ethiopia/oromia.shp'\n",
    "#oromia_bndry = gpd.read_file(oromia)\n",
    "\n",
    "OUT_DIR = '/home/rgreen/DroughtEDM/Data/EA_TS/'"
   ]
  },
  {
   "cell_type": "code",
   "execution_count": 11,
   "metadata": {},
   "outputs": [],
   "source": [
    "p1 = mp.Process(target=var_poly_join, args=(croplands_masked_out_dir, ea_adminbds))"
   ]
  },
  {
   "cell_type": "code",
   "execution_count": 15,
   "metadata": {},
   "outputs": [
    {
     "data": {
      "text/plain": [
       "<Process(Process-1, initial)>"
      ]
     },
     "execution_count": 15,
     "metadata": {},
     "output_type": "execute_result"
    }
   ],
   "source": [
    "p1"
   ]
  },
  {
   "cell_type": "code",
   "execution_count": 16,
   "metadata": {},
   "outputs": [],
   "source": [
    "p1.start() "
   ]
  },
  {
   "cell_type": "code",
   "execution_count": null,
   "metadata": {},
   "outputs": [],
   "source": [
    "p1.join()"
   ]
  },
  {
   "cell_type": "code",
   "execution_count": null,
   "metadata": {},
   "outputs": [],
   "source": [
    "print('done!')"
   ]
  },
  {
   "cell_type": "code",
   "execution_count": null,
   "metadata": {},
   "outputs": [],
   "source": [
    "print(\"Process p1 is alive: {}\".format(p1.is_alive()))"
   ]
  },
  {
   "cell_type": "raw",
   "metadata": {},
   "source": [
    "output_shp = var_poly_join(lcmasked_in_dir, oromia_bndry)"
   ]
  },
  {
   "cell_type": "code",
   "execution_count": 8,
   "metadata": {},
   "outputs": [],
   "source": [
    "output_df = pd.DataFrame(output_shp.drop(columns='geometry'))"
   ]
  },
  {
   "cell_type": "code",
   "execution_count": 12,
   "metadata": {},
   "outputs": [
    {
     "data": {
      "text/plain": [
       "(225, 3144)"
      ]
     },
     "execution_count": 12,
     "metadata": {},
     "output_type": "execute_result"
    }
   ],
   "source": [
    "output_df.shape"
   ]
  },
  {
   "cell_type": "code",
   "execution_count": 17,
   "metadata": {},
   "outputs": [],
   "source": [
    "output_df.to_csv(OUT_DIR + 'ea_grasslands.csv')\n"
   ]
  },
  {
   "cell_type": "markdown",
   "metadata": {},
   "source": [
    "# Rewrite zonal stats function to create many dataframes for different geog boundaries"
   ]
  },
  {
   "cell_type": "markdown",
   "metadata": {},
   "source": [
    "To do: select by admin 2 boundary name to create distinct dfs"
   ]
  },
  {
   "cell_type": "code",
   "execution_count": 4,
   "metadata": {},
   "outputs": [],
   "source": [
    "def zone_stat(raster, band, polygon, stat):\n",
    "    \"\"\"\n",
    "    This function will calculate the zonal stats for each polygon within a raster\n",
    "    requires gpd_df, raster, object and nodata value\n",
    "    \n",
    "    Args: raster = input raster\n",
    "          band = band of raster\n",
    "          polygon = polygons to calc zonal stats \n",
    "          stats = stat to calculate as string\n",
    "    \"\"\"\n",
    "    \n",
    "    band = raster.read(band)\n",
    "    zone_stat = zonal_stats(polygon, band, affine=raster.meta['transform'], nodata = np.nan, stats = stat)\n",
    "    return zone_stat"
   ]
  },
  {
   "cell_type": "code",
   "execution_count": 5,
   "metadata": {},
   "outputs": [],
   "source": [
    "def var_poly_join(in_dir, shp, id_col, lc):\n",
    "    '''\n",
    "    This function will merge the mean value extracted using zonal statistics for all variables with the associated geometry to generate a final geodataframe\n",
    "    \n",
    "    Args: \n",
    "    in dir = folder of masked land cover rasters of interest\n",
    "    gdf = output geodataframe which will have the geometry of interest and the mean of all variables at each point in time series across the columns\n",
    "    \n",
    "    '''\n",
    "    files=np.array(sorted(os.listdir(in_dir)))\n",
    "    tifs = pd.Series(files).str.contains(lc)\n",
    "    files = files[tifs]\n",
    "    gdf = gpd.read_file(shp)\n",
    "    \n",
    "    #create dictionary of gdfs for each admin zone\n",
    "    outputs = collections.OrderedDict()\n",
    "    joined_stats = []\n",
    "    \n",
    "    for filename in files:\n",
    "        print(filename)\n",
    "        raster = rasterio.open(in_dir+filename)\n",
    "        \n",
    "#         zone_df = []\n",
    "        \n",
    "#         for row in gdf.iterrows():\n",
    "#             print(row.geometry)\n",
    "        stats = pd.DataFrame(zone_stat(raster,1, gdf, 'mean'))\n",
    "        name = os.path.splitext(os.path.basename(filename))[0]\n",
    "        gdf['Mean'+ \"_\" + name] = gpd.GeoDataFrame.from_dict(stats)\n",
    "        #print(gdf)\n",
    "            \n",
    "#             stats = zone_stat(raster, 1, row, 'mean')\n",
    "#             print((list(stats))[-1])\n",
    "# #             name = os.path.splitext(os.path.basename(filename))[0]\n",
    "#             gdf['Mean'+ \"_\" + name] = gpd.GeoDataFrame.from_dict(stats)\n",
    "    return gdf"
   ]
  },
  {
   "cell_type": "code",
   "execution_count": null,
   "metadata": {},
   "outputs": [],
   "source": []
  },
  {
   "cell_type": "code",
   "execution_count": null,
   "metadata": {},
   "outputs": [],
   "source": [
    "test = var_poly_join(croplands_masked_out_dir, ea_adminbds)"
   ]
  },
  {
   "cell_type": "code",
   "execution_count": 9,
   "metadata": {},
   "outputs": [
    {
     "data": {
      "text/html": [
       "<div>\n",
       "<style scoped>\n",
       "    .dataframe tbody tr th:only-of-type {\n",
       "        vertical-align: middle;\n",
       "    }\n",
       "\n",
       "    .dataframe tbody tr th {\n",
       "        vertical-align: top;\n",
       "    }\n",
       "\n",
       "    .dataframe thead th {\n",
       "        text-align: right;\n",
       "    }\n",
       "</style>\n",
       "<table border=\"1\" class=\"dataframe\">\n",
       "  <thead>\n",
       "    <tr style=\"text-align: right;\">\n",
       "      <th></th>\n",
       "      <th>GID_0</th>\n",
       "      <th>NAME_0</th>\n",
       "      <th>GID_1</th>\n",
       "      <th>NAME_1</th>\n",
       "      <th>VARNAME_1</th>\n",
       "      <th>NL_NAME_1</th>\n",
       "      <th>TYPE_1</th>\n",
       "      <th>ENGTYPE_1</th>\n",
       "      <th>CC_1</th>\n",
       "      <th>HASC_1</th>\n",
       "      <th>...</th>\n",
       "      <th>Mean_grasslands_rs_pet_201627</th>\n",
       "      <th>Mean_grasslands_rs_pet_201628</th>\n",
       "      <th>Mean_grasslands_rs_pet_201629</th>\n",
       "      <th>Mean_grasslands_rs_pet_201630</th>\n",
       "      <th>Mean_grasslands_rs_pet_201631</th>\n",
       "      <th>Mean_grasslands_rs_pet_201632</th>\n",
       "      <th>Mean_grasslands_rs_pet_201633</th>\n",
       "      <th>Mean_grasslands_rs_pet_201634</th>\n",
       "      <th>Mean_grasslands_rs_pet_201635</th>\n",
       "      <th>Mean_grasslands_rs_pet_201636</th>\n",
       "    </tr>\n",
       "  </thead>\n",
       "  <tbody>\n",
       "    <tr>\n",
       "      <td>0</td>\n",
       "      <td>BDI</td>\n",
       "      <td>Burundi</td>\n",
       "      <td>BDI.1_1</td>\n",
       "      <td>Bubanza</td>\n",
       "      <td>None</td>\n",
       "      <td>None</td>\n",
       "      <td>Province</td>\n",
       "      <td>Province</td>\n",
       "      <td>003BDI001</td>\n",
       "      <td>BI.BB</td>\n",
       "      <td>...</td>\n",
       "      <td>NaN</td>\n",
       "      <td>NaN</td>\n",
       "      <td>NaN</td>\n",
       "      <td>NaN</td>\n",
       "      <td>NaN</td>\n",
       "      <td>NaN</td>\n",
       "      <td>NaN</td>\n",
       "      <td>NaN</td>\n",
       "      <td>NaN</td>\n",
       "      <td>NaN</td>\n",
       "    </tr>\n",
       "    <tr>\n",
       "      <td>1</td>\n",
       "      <td>BDI</td>\n",
       "      <td>Burundi</td>\n",
       "      <td>BDI.2_1</td>\n",
       "      <td>Bujumbura Mairie</td>\n",
       "      <td>None</td>\n",
       "      <td>None</td>\n",
       "      <td>Province</td>\n",
       "      <td>Province</td>\n",
       "      <td>003BDI017</td>\n",
       "      <td>BI.BM</td>\n",
       "      <td>...</td>\n",
       "      <td>NaN</td>\n",
       "      <td>NaN</td>\n",
       "      <td>NaN</td>\n",
       "      <td>NaN</td>\n",
       "      <td>NaN</td>\n",
       "      <td>NaN</td>\n",
       "      <td>NaN</td>\n",
       "      <td>NaN</td>\n",
       "      <td>NaN</td>\n",
       "      <td>NaN</td>\n",
       "    </tr>\n",
       "    <tr>\n",
       "      <td>2</td>\n",
       "      <td>BDI</td>\n",
       "      <td>Burundi</td>\n",
       "      <td>BDI.3_1</td>\n",
       "      <td>Bujumbura Rural</td>\n",
       "      <td>Usumbura</td>\n",
       "      <td>None</td>\n",
       "      <td>Province</td>\n",
       "      <td>Province</td>\n",
       "      <td>003BDI002</td>\n",
       "      <td>BI.BU</td>\n",
       "      <td>...</td>\n",
       "      <td>NaN</td>\n",
       "      <td>NaN</td>\n",
       "      <td>NaN</td>\n",
       "      <td>NaN</td>\n",
       "      <td>NaN</td>\n",
       "      <td>NaN</td>\n",
       "      <td>NaN</td>\n",
       "      <td>NaN</td>\n",
       "      <td>NaN</td>\n",
       "      <td>NaN</td>\n",
       "    </tr>\n",
       "    <tr>\n",
       "      <td>3</td>\n",
       "      <td>BDI</td>\n",
       "      <td>Burundi</td>\n",
       "      <td>BDI.4_1</td>\n",
       "      <td>Bururi</td>\n",
       "      <td>None</td>\n",
       "      <td>None</td>\n",
       "      <td>Province</td>\n",
       "      <td>Province</td>\n",
       "      <td>003BDI003</td>\n",
       "      <td>BI.BR</td>\n",
       "      <td>...</td>\n",
       "      <td>39.316649</td>\n",
       "      <td>32.395135</td>\n",
       "      <td>43.805229</td>\n",
       "      <td>41.399741</td>\n",
       "      <td>29.352408</td>\n",
       "      <td>26.884098</td>\n",
       "      <td>34.721697</td>\n",
       "      <td>29.934114</td>\n",
       "      <td>35.811516</td>\n",
       "      <td>37.089643</td>\n",
       "    </tr>\n",
       "    <tr>\n",
       "      <td>4</td>\n",
       "      <td>BDI</td>\n",
       "      <td>Burundi</td>\n",
       "      <td>BDI.5_1</td>\n",
       "      <td>Cankuzo</td>\n",
       "      <td>None</td>\n",
       "      <td>None</td>\n",
       "      <td>Province</td>\n",
       "      <td>Province</td>\n",
       "      <td>003BDI004</td>\n",
       "      <td>BI.CA</td>\n",
       "      <td>...</td>\n",
       "      <td>45.625371</td>\n",
       "      <td>36.740691</td>\n",
       "      <td>50.736504</td>\n",
       "      <td>49.333148</td>\n",
       "      <td>33.173170</td>\n",
       "      <td>30.403824</td>\n",
       "      <td>35.871937</td>\n",
       "      <td>34.039287</td>\n",
       "      <td>40.386243</td>\n",
       "      <td>41.622630</td>\n",
       "    </tr>\n",
       "    <tr>\n",
       "      <td>...</td>\n",
       "      <td>...</td>\n",
       "      <td>...</td>\n",
       "      <td>...</td>\n",
       "      <td>...</td>\n",
       "      <td>...</td>\n",
       "      <td>...</td>\n",
       "      <td>...</td>\n",
       "      <td>...</td>\n",
       "      <td>...</td>\n",
       "      <td>...</td>\n",
       "      <td>...</td>\n",
       "      <td>...</td>\n",
       "      <td>...</td>\n",
       "      <td>...</td>\n",
       "      <td>...</td>\n",
       "      <td>...</td>\n",
       "      <td>...</td>\n",
       "      <td>...</td>\n",
       "      <td>...</td>\n",
       "      <td>...</td>\n",
       "      <td>...</td>\n",
       "    </tr>\n",
       "    <tr>\n",
       "      <td>220</td>\n",
       "      <td>UGA</td>\n",
       "      <td>Uganda</td>\n",
       "      <td>UGA.54_1</td>\n",
       "      <td>Sironko</td>\n",
       "      <td>None</td>\n",
       "      <td>None</td>\n",
       "      <td>District</td>\n",
       "      <td>District</td>\n",
       "      <td>21</td>\n",
       "      <td>UG.SI</td>\n",
       "      <td>...</td>\n",
       "      <td>NaN</td>\n",
       "      <td>NaN</td>\n",
       "      <td>NaN</td>\n",
       "      <td>NaN</td>\n",
       "      <td>NaN</td>\n",
       "      <td>NaN</td>\n",
       "      <td>NaN</td>\n",
       "      <td>NaN</td>\n",
       "      <td>NaN</td>\n",
       "      <td>NaN</td>\n",
       "    </tr>\n",
       "    <tr>\n",
       "      <td>221</td>\n",
       "      <td>UGA</td>\n",
       "      <td>Uganda</td>\n",
       "      <td>UGA.55_1</td>\n",
       "      <td>Soroti</td>\n",
       "      <td>None</td>\n",
       "      <td>None</td>\n",
       "      <td>District</td>\n",
       "      <td>District</td>\n",
       "      <td>21</td>\n",
       "      <td>UG.SR</td>\n",
       "      <td>...</td>\n",
       "      <td>45.280544</td>\n",
       "      <td>46.749649</td>\n",
       "      <td>52.290207</td>\n",
       "      <td>45.475643</td>\n",
       "      <td>43.543427</td>\n",
       "      <td>50.328503</td>\n",
       "      <td>45.982513</td>\n",
       "      <td>60.797153</td>\n",
       "      <td>65.429459</td>\n",
       "      <td>72.156303</td>\n",
       "    </tr>\n",
       "    <tr>\n",
       "      <td>222</td>\n",
       "      <td>UGA</td>\n",
       "      <td>Uganda</td>\n",
       "      <td>UGA.56_1</td>\n",
       "      <td>Tororo</td>\n",
       "      <td>None</td>\n",
       "      <td>None</td>\n",
       "      <td>District</td>\n",
       "      <td>District</td>\n",
       "      <td>21</td>\n",
       "      <td>UG.TR</td>\n",
       "      <td>...</td>\n",
       "      <td>NaN</td>\n",
       "      <td>NaN</td>\n",
       "      <td>NaN</td>\n",
       "      <td>NaN</td>\n",
       "      <td>NaN</td>\n",
       "      <td>NaN</td>\n",
       "      <td>NaN</td>\n",
       "      <td>NaN</td>\n",
       "      <td>NaN</td>\n",
       "      <td>NaN</td>\n",
       "    </tr>\n",
       "    <tr>\n",
       "      <td>223</td>\n",
       "      <td>UGA</td>\n",
       "      <td>Uganda</td>\n",
       "      <td>UGA.57_1</td>\n",
       "      <td>Wakiso</td>\n",
       "      <td>None</td>\n",
       "      <td>None</td>\n",
       "      <td>District</td>\n",
       "      <td>District</td>\n",
       "      <td>11</td>\n",
       "      <td>UG.WA</td>\n",
       "      <td>...</td>\n",
       "      <td>NaN</td>\n",
       "      <td>NaN</td>\n",
       "      <td>NaN</td>\n",
       "      <td>NaN</td>\n",
       "      <td>NaN</td>\n",
       "      <td>NaN</td>\n",
       "      <td>NaN</td>\n",
       "      <td>NaN</td>\n",
       "      <td>NaN</td>\n",
       "      <td>NaN</td>\n",
       "    </tr>\n",
       "    <tr>\n",
       "      <td>224</td>\n",
       "      <td>UGA</td>\n",
       "      <td>Uganda</td>\n",
       "      <td>UGA.58_1</td>\n",
       "      <td>Yumbe</td>\n",
       "      <td>None</td>\n",
       "      <td>None</td>\n",
       "      <td>District</td>\n",
       "      <td>District</td>\n",
       "      <td>None</td>\n",
       "      <td>UG.YU</td>\n",
       "      <td>...</td>\n",
       "      <td>37.529175</td>\n",
       "      <td>37.166294</td>\n",
       "      <td>40.363140</td>\n",
       "      <td>35.091309</td>\n",
       "      <td>38.149265</td>\n",
       "      <td>41.861141</td>\n",
       "      <td>40.155495</td>\n",
       "      <td>53.145626</td>\n",
       "      <td>55.294361</td>\n",
       "      <td>63.545383</td>\n",
       "    </tr>\n",
       "  </tbody>\n",
       "</table>\n",
       "<p>225 rows × 3145 columns</p>\n",
       "</div>"
      ],
      "text/plain": [
       "    GID_0   NAME_0     GID_1            NAME_1 VARNAME_1 NL_NAME_1    TYPE_1  \\\n",
       "0     BDI  Burundi   BDI.1_1           Bubanza      None      None  Province   \n",
       "1     BDI  Burundi   BDI.2_1  Bujumbura Mairie      None      None  Province   \n",
       "2     BDI  Burundi   BDI.3_1   Bujumbura Rural  Usumbura      None  Province   \n",
       "3     BDI  Burundi   BDI.4_1            Bururi      None      None  Province   \n",
       "4     BDI  Burundi   BDI.5_1           Cankuzo      None      None  Province   \n",
       "..    ...      ...       ...               ...       ...       ...       ...   \n",
       "220   UGA   Uganda  UGA.54_1           Sironko      None      None  District   \n",
       "221   UGA   Uganda  UGA.55_1            Soroti      None      None  District   \n",
       "222   UGA   Uganda  UGA.56_1            Tororo      None      None  District   \n",
       "223   UGA   Uganda  UGA.57_1            Wakiso      None      None  District   \n",
       "224   UGA   Uganda  UGA.58_1             Yumbe      None      None  District   \n",
       "\n",
       "    ENGTYPE_1       CC_1 HASC_1  ... Mean_grasslands_rs_pet_201627  \\\n",
       "0    Province  003BDI001  BI.BB  ...                           NaN   \n",
       "1    Province  003BDI017  BI.BM  ...                           NaN   \n",
       "2    Province  003BDI002  BI.BU  ...                           NaN   \n",
       "3    Province  003BDI003  BI.BR  ...                     39.316649   \n",
       "4    Province  003BDI004  BI.CA  ...                     45.625371   \n",
       "..        ...        ...    ...  ...                           ...   \n",
       "220  District         21  UG.SI  ...                           NaN   \n",
       "221  District         21  UG.SR  ...                     45.280544   \n",
       "222  District         21  UG.TR  ...                           NaN   \n",
       "223  District         11  UG.WA  ...                           NaN   \n",
       "224  District       None  UG.YU  ...                     37.529175   \n",
       "\n",
       "    Mean_grasslands_rs_pet_201628 Mean_grasslands_rs_pet_201629  \\\n",
       "0                             NaN                           NaN   \n",
       "1                             NaN                           NaN   \n",
       "2                             NaN                           NaN   \n",
       "3                       32.395135                     43.805229   \n",
       "4                       36.740691                     50.736504   \n",
       "..                            ...                           ...   \n",
       "220                           NaN                           NaN   \n",
       "221                     46.749649                     52.290207   \n",
       "222                           NaN                           NaN   \n",
       "223                           NaN                           NaN   \n",
       "224                     37.166294                     40.363140   \n",
       "\n",
       "     Mean_grasslands_rs_pet_201630  Mean_grasslands_rs_pet_201631  \\\n",
       "0                              NaN                            NaN   \n",
       "1                              NaN                            NaN   \n",
       "2                              NaN                            NaN   \n",
       "3                        41.399741                      29.352408   \n",
       "4                        49.333148                      33.173170   \n",
       "..                             ...                            ...   \n",
       "220                            NaN                            NaN   \n",
       "221                      45.475643                      43.543427   \n",
       "222                            NaN                            NaN   \n",
       "223                            NaN                            NaN   \n",
       "224                      35.091309                      38.149265   \n",
       "\n",
       "     Mean_grasslands_rs_pet_201632  Mean_grasslands_rs_pet_201633  \\\n",
       "0                              NaN                            NaN   \n",
       "1                              NaN                            NaN   \n",
       "2                              NaN                            NaN   \n",
       "3                        26.884098                      34.721697   \n",
       "4                        30.403824                      35.871937   \n",
       "..                             ...                            ...   \n",
       "220                            NaN                            NaN   \n",
       "221                      50.328503                      45.982513   \n",
       "222                            NaN                            NaN   \n",
       "223                            NaN                            NaN   \n",
       "224                      41.861141                      40.155495   \n",
       "\n",
       "     Mean_grasslands_rs_pet_201634  Mean_grasslands_rs_pet_201635  \\\n",
       "0                              NaN                            NaN   \n",
       "1                              NaN                            NaN   \n",
       "2                              NaN                            NaN   \n",
       "3                        29.934114                      35.811516   \n",
       "4                        34.039287                      40.386243   \n",
       "..                             ...                            ...   \n",
       "220                            NaN                            NaN   \n",
       "221                      60.797153                      65.429459   \n",
       "222                            NaN                            NaN   \n",
       "223                            NaN                            NaN   \n",
       "224                      53.145626                      55.294361   \n",
       "\n",
       "     Mean_grasslands_rs_pet_201636  \n",
       "0                              NaN  \n",
       "1                              NaN  \n",
       "2                              NaN  \n",
       "3                        37.089643  \n",
       "4                        41.622630  \n",
       "..                             ...  \n",
       "220                            NaN  \n",
       "221                      72.156303  \n",
       "222                            NaN  \n",
       "223                            NaN  \n",
       "224                      63.545383  \n",
       "\n",
       "[225 rows x 3145 columns]"
      ]
     },
     "execution_count": 9,
     "metadata": {},
     "output_type": "execute_result"
    }
   ],
   "source": [
    "test"
   ]
  },
  {
   "cell_type": "code",
   "execution_count": 10,
   "metadata": {},
   "outputs": [],
   "source": [
    "output_df = pd.DataFrame(test.drop(columns='geometry'))"
   ]
  },
  {
   "cell_type": "code",
   "execution_count": 11,
   "metadata": {},
   "outputs": [],
   "source": [
    "output_df.to_csv('/home/rgreen/DroughtEDM/Data/EA_TS/Interim/' + 'ea_grasslands.csv')\n",
    "\n"
   ]
  },
  {
   "cell_type": "markdown",
   "metadata": {},
   "source": [
    "# END"
   ]
  },
  {
   "cell_type": "code",
   "execution_count": null,
   "metadata": {},
   "outputs": [],
   "source": []
  },
  {
   "cell_type": "markdown",
   "metadata": {},
   "source": [
    "# 5. Reassign cloud mask value before calculating stats"
   ]
  },
  {
   "cell_type": "code",
   "execution_count": null,
   "metadata": {},
   "outputs": [],
   "source": [
    "def reassign_masks(in_dir):\n",
    "    files=np.array(sorted(os.listdir(in_dir)))\n",
    "    tifs = pd.Series(files).str.contains('.tif')\n",
    "    files = files[tifs]\n",
    "\n",
    "    for filename in files:\n",
    "        with rasterio.open(in_dir+filename, 'r+') as ds:\n",
    "            print(filename)\n",
    "            a = ds.read()# read all raster values\n",
    "            a[a < 0 ] = np.nan  \n",
    "            ds.write(a)"
   ]
  },
  {
   "cell_type": "markdown",
   "metadata": {},
   "source": [
    "# 6. Dask delayed\n",
    "Testing"
   ]
  },
  {
   "cell_type": "code",
   "execution_count": null,
   "metadata": {},
   "outputs": [],
   "source": [
    "@dask.delayed\n",
    "def read_and_mean(filename, in_dir, admin_gdf):\n",
    "    \"\"\"\n",
    "    input: \n",
    "    in_dir - directory of masked land cover type\n",
    "    filename - a raster variable for particular dekad\n",
    "    admin_gdf - administrative boundary layer of Africa as geodataframe\n",
    "    This function opens each raster and extract zonal mean for each variable\n",
    "    of a particular land cover type\n",
    "    \"\"\"\n",
    "    print(filename)\n",
    "    raster = rasterio.open(in_dir+filename)\n",
    "    mean = zone_stat(raster, 1, admin_gdf, 'mean')\n",
    "    name = os.path.splitext(os.path.basename(filename))[0]\n",
    "    return {'Mean'+ \"_\" + name : mean}"
   ]
  },
  {
   "cell_type": "code",
   "execution_count": null,
   "metadata": {},
   "outputs": [],
   "source": [
    "files=np.array(sorted(os.listdir(in_dir)))\n",
    "tifs = pd.Series(files).str.contains('.tif')\n",
    "files = files[tifs]\n",
    "\n",
    "admin_mean_list = []\n",
    "for filename in files:\n",
    "    zmeans = read_and_mean(filename, in_dir, bndry)\n",
    "    admin_mean_list.append(zmeans)\n"
   ]
  },
  {
   "cell_type": "code",
   "execution_count": null,
   "metadata": {},
   "outputs": [],
   "source": [
    "np.nanx"
   ]
  },
  {
   "cell_type": "code",
   "execution_count": null,
   "metadata": {},
   "outputs": [],
   "source": [
    "from dask.distributed import Client\n",
    "client = Client()\n",
    "client"
   ]
  },
  {
   "cell_type": "code",
   "execution_count": null,
   "metadata": {},
   "outputs": [],
   "source": [
    "client.compute(admin_mean_list,scheduler = 'processes')"
   ]
  },
  {
   "cell_type": "code",
   "execution_count": null,
   "metadata": {},
   "outputs": [],
   "source": [
    "#var_grass_dir = '/home/rgreen/tana-spin/rgreen/DroughtEDM/Data/Variables_Croplands/'\n",
    "#year_dir = '/home/rgreen/tana-spin/rgreen/DroughtEDM/Data/Variables_Grasslands/2016/'"
   ]
  },
  {
   "cell_type": "code",
   "execution_count": null,
   "metadata": {},
   "outputs": [],
   "source": [
    "#output_df = output_df[output_df.columns.drop(list(output_df.filter(regex='2014')))] \n",
    "#if you want to reverse and remove a specific year from the appended dataframe"
   ]
  },
  {
   "cell_type": "markdown",
   "metadata": {},
   "source": [
    "# 7. Remove nan pixels from lst\n",
    "nans present due to cloud masking and must be removed in order to accurately calculate zonal averages  \n",
    "might not be necessary if step 1 is run"
   ]
  },
  {
   "cell_type": "code",
   "execution_count": 3,
   "metadata": {},
   "outputs": [],
   "source": [
    "lst_test = '/home/rgreen/tana-spin/rgreen/DroughtEDM/Data/VariablesByLandCover/Variables_Clos/Version2/cropland_rs_chirps-v2-Copy1.0.2002.07.1.tif'"
   ]
  },
  {
   "cell_type": "code",
   "execution_count": null,
   "metadata": {},
   "outputs": [],
   "source": [
    "with rasterio.open(lst_test, 'r+') as ds:\n",
    "    a = ds.read()# read all raster values\n",
    "    #lst_array[np.where(lst_array<=0)]\n",
    "    a[a < 0] = 0  #set all values not cropland as 0\n",
    "    ds.write(a)"
   ]
  },
  {
   "cell_type": "code",
   "execution_count": null,
   "metadata": {},
   "outputs": [],
   "source": [
    "lst_array[np.where(lst_array<=0)]"
   ]
  },
  {
   "cell_type": "code",
   "execution_count": null,
   "metadata": {},
   "outputs": [],
   "source": [
    "def create_land_mask(in_dir, out_dir, lc_num):\n",
    "    files=np.array(sorted(os.listdir(in_dir)))\n",
    "    \n",
    "    for filename in files:\n",
    "        base = os.path.splitext(filename)[0]\n",
    "        print(base)\n",
    "        with rasterio.open(in_dir+filename, 'r+') as ds:\n",
    "            rast = ds.read()\n",
    "            rast[rast!=lc_num] = np.nan\n",
    "            rast[rast==lc_num] = 1\n",
    "            meta = ds.meta()\n",
    "            meta.update(\n",
    "                dtype='float32')\n",
    "            ds.write(rast)\n",
    " "
   ]
  }
 ],
 "metadata": {
  "kernelspec": {
   "display_name": "Python [conda env:edm]",
   "language": "python",
   "name": "conda-env-edm-py"
  },
  "language_info": {
   "codemirror_mode": {
    "name": "ipython",
    "version": 3
   },
   "file_extension": ".py",
   "mimetype": "text/x-python",
   "name": "python",
   "nbconvert_exporter": "python",
   "pygments_lexer": "ipython3",
   "version": "3.7.3"
  }
 },
 "nbformat": 4,
 "nbformat_minor": 4
}
