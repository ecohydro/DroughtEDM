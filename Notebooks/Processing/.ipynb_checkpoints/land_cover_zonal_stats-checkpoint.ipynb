{
 "cells": [
  {
   "cell_type": "markdown",
   "metadata": {},
   "source": [
    "# land_cover_zonal_stats\n",
    "1. Set all nan values to np.nan across rasters\n",
    "2. Create land cover masks\n",
    "3. Multiply a chosen land cover mask by all parameters for each year\n",
    "4. Rasterstats with admin boundaries\n",
    "5. Reassign cloud mask value before calculating stats\n",
    "6. Dask delayed \n",
    "7. Remove nan cloud pixels from LST data "
   ]
  },
  {
   "cell_type": "code",
   "execution_count": 7,
   "metadata": {},
   "outputs": [],
   "source": [
    "import os\n",
    "import matplotlib.pyplot as plt\n",
    "import glob\n",
    "import rasterio\n",
    "from rasterio.merge import merge\n",
    "from rasterio.plot import show\n",
    "from rasterio.mask import mask\n",
    "from rasterstats import zonal_stats\n",
    "import fiona\n",
    "import geopandas as gpd\n",
    "import xarray as xr\n",
    "import numpy as np\n",
    "import rioxarray\n",
    "import pandas as pd\n",
    "# import dask\n",
    "# import multiprocessing as mp"
   ]
  },
  {
   "cell_type": "code",
   "execution_count": 39,
   "metadata": {},
   "outputs": [],
   "source": [
    "#ALL VARAIABLE DIRECTORIES USED FOR RASTER CALCULATION\n",
    "\n",
    "\n",
    "# grasslands_masked_out_dir = '/home/rgreen/tana-spin/rgreen/DroughtEDM/Data/VariablesByLandCover/Variables_Grasslands/'\n",
    "# croplands_masked_out_dir = '/home/rgreen/tana-spin/rgreen/DroughtEDM/Data/VariablesByLandCover/Variables_Croplands/'\n",
    "# cropnatveg_masked_out_dir = '/home/rgreen/tana-spin/rgreen/DroughtEDM/Data/VariablesByLandCover/Variables_CropNatVeg/'\n",
    "# savannas_masked_out_dir = '/home/rgreen/tana-spin/rgreen/DroughtEDM/Data/VariablesByLandCover/Variables_Savannas/' \n",
    "# woodysavannas_masked_out_dir = '/home/rgreen/tana-spin/rgreen/DroughtEDM/Data/VariablesByLandCover/Variables_WoodySavannas/'\n",
    "# evergreenbroad_masked_out_dir = '/home/rgreen/tana-spin/rgreen/DroughtEDM/Data/VariablesByLandCover/Variables_EvergreenBroad/'\n",
    "# deciduousbroad_masked_out_dir = '/home/rgreen/tana-spin/rgreen/DroughtEDM/Data/VariablesByLandCover/Variables_DeciduousBroad/'\n",
    "# openshrublands_masked_out_dir = '/home/rgreen/tana-spin/rgreen/DroughtEDM/Data/VariablesByLandCover/Variables_OpenShrublands/'\n",
    "# closedshrublands_masked_out_dir = '/home/rgreen/tana-spin/rgreen/DroughtEDM/Data/VariablesByLandCover/Variables_ClosedShrublands/'\n",
    "# barren_masked_out_dir = '/home/rgreen/tana-spin/rgreen/DroughtEDM/Data/VariablesByLandCover/Variables_Barren/'\n",
    "\n",
    "# env_var_dirs = ['/home/rgreen/tana-spin/rgreen/DroughtEDM/Data/CHIRPS/Resampled/', \n",
    "#                 '/home/rgreen/tana-spin/rgreen/DroughtEDM/Data/CHIRTS/Dekads/', \n",
    "#                 '/home/rgreen/tana-spin/rgreen/DroughtEDM/Data/eMODIS_NDVI/Resampled/', \n",
    "#                 '/home/rgreen/tana-spin/rgreen/DroughtEDM/Data/FLDAS_SM/Dekads/', \n",
    "#                 '/home/rgreen/tana-spin/rgreen/DroughtEDM/Data/Hobbins_ET/Resampled/', \n",
    "#                 '/home/rgreen/tana-spin/rgreen/DroughtEDM/Data/LST/Resampled/']\n",
    "\n"
   ]
  },
  {
   "cell_type": "code",
   "execution_count": 8,
   "metadata": {},
   "outputs": [],
   "source": [
    "crop_irr_mask = '/home/rgreen/tana-spin/rgreen/DroughtEDM/Data/ESACCI_2016/crop_irr_mask/'\n",
    "crop_rain_mask = '/home/rgreen/tana-spin/rgreen/DroughtEDM/Data/ESACCI_2016/crop_rain_mask/'\n",
    "grassland_mask = '/home/rgreen/tana-spin/rgreen/DroughtEDM/Data/ESACCI_2016/grassland_mask/'\n",
    "shrubland_mask = '/home/rgreen/tana-spin/rgreen/DroughtEDM/Data/ESACCI_2016/shrubland_mask/'\n",
    "broadleaf_open_mask = '/home/rgreen/tana-spin/rgreen/DroughtEDM/Data/ESACCI_2016/broadleaf_open_mask/'\n",
    "\n",
    "crop_irr_masked_out_dir = '/home/rgreen/tana-spin/rgreen/DroughtEDM/Data/VariablesByLandCover16/variables_crop_irr/'\n",
    "crop_rain_masked_out_dir = '/home/rgreen/tana-spin/rgreen/DroughtEDM/Data/VariablesByLandCover16/variables_crop_rain/'\n",
    "grassland_masked_out_dir = '/home/rgreen/tana-spin/rgreen/DroughtEDM/Data/VariablesByLandCover16/variables_grassland/'\n",
    "shrubland_masked_out_dir = '/home/rgreen/tana-spin/rgreen/DroughtEDM/Data/VariablesByLandCover16/variables_shrubland/'\n",
    "broadleaf_open_masked_out_dir = '/home/rgreen/tana-spin/rgreen/DroughtEDM/Data/VariablesByLandCover16/variables_broadleaf_open/'\n",
    "\n",
    "crop_irr_masked_out_dir_anom = '/home/rgreen/tana-spin/rgreen/DroughtEDM/Data/VariablesByLandCover16/variables_crop_irr_anom/'\n",
    "crop_rain_masked_out_dir_anom = '/home/rgreen/tana-spin/rgreen/DroughtEDM/Data/VariablesByLandCover16/variables_crop_rain_anom/'\n",
    "grassland_masked_out_dir_anom = '/home/rgreen/tana-spin/rgreen/DroughtEDM/Data/VariablesByLandCover16/variables_grassland_anom/'\n",
    "shrubland_masked_out_dir_anom = '/home/rgreen/tana-spin/rgreen/DroughtEDM/Data/VariablesByLandCover16/variables_shrubland_anom/'\n",
    "broadleaf_open_masked_out_dir_anom = '/home/rgreen/tana-spin/rgreen/DroughtEDM/Data/VariablesByLandCover16/variables_broadleaf_open_anom/'\n",
    "\n",
    "env_var_dirs = ['/home/rgreen/tana-spin/rgreen/DroughtEDM/Data/CHIRPS/EA/', \n",
    "               '/home/rgreen/tana-spin/rgreen/DroughtEDM/Data/eMODIS_NDVI/EA/', \n",
    "                '/home/rgreen/tana-spin/rgreen/DroughtEDM/Data/LST/EA/']\n",
    "\n",
    "env_var_dirs_anom = ['/home/rgreen/tana-spin/rgreen/DroughtEDM/Data/CHIRPS/Anomaly/', \n",
    "               '/home/rgreen/tana-spin/rgreen/DroughtEDM/Data/eMODIS_NDVI/Anomaly/', \n",
    "                '/home/rgreen/tana-spin/rgreen/DroughtEDM/Data/LST/Anomaly/']"
   ]
  },
  {
   "cell_type": "code",
   "execution_count": null,
   "metadata": {},
   "outputs": [],
   "source": [
    "# grasslands_mask_dir_16 = '/home/rgreen/tana-spin/rgreen/DroughtEDM/Data/MCD12C1/Grasslands_Mask/'\n",
    "# croplands_mask_dir_16 = '/home/rgreen/tana-spin/rgreen/DroughtEDM/Data/MCD12C1/Croplands_Mask/'\n",
    "# # cropnatveg_mask_dir_16 = '/home/rgreen/tana-spin/rgreen/DroughtEDM/Data/MCD12C1/CropNatVeg_Mask/'\n",
    "# # savannas_mask_dir_16 = '/home/rgreen/tana-spin/rgreen/DroughtEDM/Data/MCD12C1/Savannas_Mask/'\n",
    "\n",
    "\n",
    "# grasslands_masked_out_dir_16 = '/home/rgreen/tana-spin/rgreen/DroughtEDM/Data/VariablesByLandCover2016/Variables_Grasslands/'\n",
    "# croplands_masked_out_dir_16 = '/home/rgreen/tana-spin/rgreen/DroughtEDM/Data/VariablesByLandCover2016/Variables_Croplands/'\n",
    "# cropnatveg_masked_out_dir_16 = '/home/rgreen/tana-spin/rgreen/DroughtEDM/Data/VariablesByLandCover2016/Variables_CropNatVeg/'\n",
    "# savannas_masked_out_dir_16 = '/home/rgreen/tana-spin/rgreen/DroughtEDM/Data/VariablesByLandCover2016/Variables_Savannas/' \n"
   ]
  },
  {
   "cell_type": "markdown",
   "metadata": {},
   "source": [
    "# 1. Set all nan values to np.nan across rasters\n",
    "Do this once for all directories of data for all variables, but only need to run once"
   ]
  },
  {
   "cell_type": "code",
   "execution_count": 96,
   "metadata": {},
   "outputs": [],
   "source": [
    "def reassign_mask_npnan(param_dirs):\n",
    "    \n",
    "    for folder in param_dirs:\n",
    "        files=np.array(sorted(os.listdir(folder)))\n",
    "        tifs = pd.Series(files).str.contains('.tif')\n",
    "        files = files[tifs]\n",
    "        print(folder)\n",
    "        \n",
    "        for filename in files:\n",
    "            with rasterio.open(folder+filename, 'r+') as ds:\n",
    "                print(filename)\n",
    "                a = ds.read()# read all raster values\n",
    "                a[a < 0 ] = np.nan  \n",
    "                ds.write(a)"
   ]
  },
  {
   "cell_type": "code",
   "execution_count": null,
   "metadata": {},
   "outputs": [],
   "source": [
    "reassign_mask_npnan(env_var_dirs)"
   ]
  },
  {
   "cell_type": "markdown",
   "metadata": {},
   "source": [
    "# 2. Create Land Cover Masks"
   ]
  },
  {
   "cell_type": "code",
   "execution_count": 52,
   "metadata": {},
   "outputs": [],
   "source": [
    "def create_land_mask(in_dir, out_dir, lc_num):\n",
    "    '''\n",
    "    This function takes the original MCD12C1 images for all years and creates binary output rasters (1 and np.nan) for a given land cover type number\n",
    "    '''\n",
    "    \n",
    "    files=np.array(sorted(os.listdir(in_dir)))\n",
    "    tifs = pd.Series(files).str.contains('.tif')\n",
    "    files = files[tifs]\n",
    "    \n",
    "    for filename in files:\n",
    "        base = os.path.splitext(filename)[0]\n",
    "        print(base)\n",
    "        rast = rasterio.open(in_dir+filename)\n",
    "        meta = rast.meta\n",
    "        meta.update(dtype = 'float32', nodata = -3.4e+38)\n",
    "        rast.close()\n",
    "        \n",
    "        with rasterio.open(out_dir+base+'_' + str(lc_num) + '.tif', 'w', **meta) as dst:\n",
    "            with rasterio.open(in_dir+filename) as src:\n",
    "                data = src.read()\n",
    "                data = data.astype(np.float32)\n",
    "                data[data!=lc_num] = np.nan\n",
    "                data[data==lc_num] = 1\n",
    "                dst.write(data)"
   ]
  },
  {
   "cell_type": "code",
   "execution_count": 56,
   "metadata": {},
   "outputs": [],
   "source": [
    "landcover_in_dir = '/home/rgreen/tana-spin/rgreen/DroughtEDM/Data/ESACCI_2016/EA/'\n",
    "landcover_out_dir = '/home/rgreen/tana-spin/rgreen/DroughtEDM/Data/ESACCI_2016/broadleaf_open_mask/'\n",
    "lc_class = 62\n"
   ]
  },
  {
   "cell_type": "code",
   "execution_count": 57,
   "metadata": {},
   "outputs": [
    {
     "name": "stdout",
     "output_type": "stream",
     "text": [
      "EA_ESACCI_LC_2016_005\n"
     ]
    }
   ],
   "source": [
    "create_land_mask(landcover_in_dir, landcover_out_dir, lc_class)"
   ]
  },
  {
   "cell_type": "markdown",
   "metadata": {},
   "source": [
    "# 3. Multiply a chosen land cover mask by all parameters for each year"
   ]
  },
  {
   "cell_type": "code",
   "execution_count": null,
   "metadata": {},
   "outputs": [],
   "source": [
    "def rastercalc_lcmask(lcmask_dir, param_dirs, out_dir, lc_name):\n",
    "    \"\"\"\n",
    "    This function iterates through all parameter files and multiplies the land cover mask for a certain year\n",
    "    to create output rasters of each parameter masked by land cover type\n",
    "    Note: must edit the output file name to reflect the land cover type each time it is run \n",
    "    \"\"\"\n",
    "    lcfiles=np.array(sorted(os.listdir(lcmask_dir)))\n",
    "    \n",
    "    \n",
    "    for yr in range(2002,2017):\n",
    "        lc_yr = [file for file in lcfiles if str(yr) in file]\n",
    "        for lc in lc_yr:\n",
    "            lc_mask = rasterio.open(lcmask_dir + lc)\n",
    "            for folder in param_dirs:\n",
    "                var_yr = [file for file in sorted(os.listdir(folder)) if str(yr) in file]\n",
    "                for var in var_yr:\n",
    "                    var_rast = rasterio.open(folder+var)\n",
    "                    meta = var_rast.meta\n",
    "                    var_lcmask = var_rast.read(1)*lc_mask.read(1)\n",
    "                    with rasterio.open(out_dir + name + var, 'w', **meta) as dst:\n",
    "                            dst.write(var_lcmask, 1)\n",
    "                            print(var)"
   ]
  },
  {
   "cell_type": "markdown",
   "metadata": {},
   "source": [
    "Rework this step to mask all variables for land cover 2016"
   ]
  },
  {
   "cell_type": "code",
   "execution_count": 99,
   "metadata": {},
   "outputs": [],
   "source": [
    "def rastercalc_lcmask_2016(lcmask_dir, param_dir, out_dir, lc_name):\n",
    "    \"\"\"\n",
    "    This function iterates through all parameter files and multiplies the land cover mask for 2016\n",
    "    to create output rasters of each parameter masked by land cover type\n",
    "    Note: must edit the output file name to reflect the land cover type each time it is run \n",
    "    \"\"\"\n",
    "    lcfiles=np.array(sorted(os.listdir(lcmask_dir)))\n",
    "    \n",
    "    lc16 = pd.Series(lcfiles).str.contains('2016')\n",
    "    lc2016 = lcfiles[-1]\n",
    "    lc2016_mask = rasterio.open(lcmask_dir + lc2016)\n",
    "    #print(lc2016_mask)\n",
    "    \n",
    "    for var in param_dir: \n",
    "        paramfiles = np.array(sorted(os.listdir(var)))\n",
    "        tifs = pd.Series(paramfiles).str.contains('.tif') #'2002|2003|2004|2005|2006|2007|2008|2009|2010|2011|2012|2013|2014|2015|2016') \n",
    "        files = paramfiles[tifs]\n",
    "    \n",
    "        for filename in files:\n",
    "            var_rast = rasterio.open(var + filename)\n",
    "            meta = var_rast.meta\n",
    "            var_lcmask = var_rast.read(1)*lc2016_mask.read(1)\n",
    "            with rasterio.open(out_dir + lc_name + filename, 'w', **meta) as dst: #change name depending on variable\n",
    "                    dst.write(var_lcmask, 1)\n",
    "                    print(filename)"
   ]
  },
  {
   "cell_type": "code",
   "execution_count": null,
   "metadata": {},
   "outputs": [],
   "source": [
    "rastercalc_lcmask_2016(crop_rain_mask, env_var_dirs, crop_rain_masked_out_dir, 'crop_rain_')"
   ]
  },
  {
   "cell_type": "code",
   "execution_count": null,
   "metadata": {},
   "outputs": [],
   "source": [
    "rastercalc_lcmask_2016(shrubland_mask, env_var_dirs_anom, shrubland_masked_out_dir_anom, 'shrubland_anom_')\n",
    "rastercalc_lcmask_2016(crop_irr_mask, env_var_dirs_anom, crop_irr_masked_out_dir_anom, 'crop_irr_anom_')\n",
    "rastercalc_lcmask_2016(crop_rain_mask, env_var_dirs_anom, crop_rain_masked_out_dir_anom, 'crop_rain_anom_')\n",
    "rastercalc_lcmask_2016(grassland_mask, env_var_dirs_anom, grassland_masked_out_dir_anom, 'grassland_anom_')\n",
    "rastercalc_lcmask_2016(broadleaf_open_mask, env_var_dirs_anom, broadleaf_open_masked_out_dir_anom, 'broadleaf_open_anom_')"
   ]
  },
  {
   "cell_type": "markdown",
   "metadata": {},
   "source": [
    "# 4. Rasterstats with Admin Boundaries"
   ]
  },
  {
   "cell_type": "code",
   "execution_count": 9,
   "metadata": {},
   "outputs": [],
   "source": [
    "def zone_stat(raster, band, polygon, stat):\n",
    "    \"\"\"\n",
    "    This function will calculate the zonal stats for each polygon within a raster\n",
    "    requires gpd_df, raster, object and nodata value\n",
    "    \n",
    "    Args: raster = input raster\n",
    "          band = band of raster\n",
    "          polygon = polygons to calc zonal stats \n",
    "          stats = stat to calculate as string\n",
    "    \"\"\"\n",
    "    \n",
    "    band = raster.read(band)\n",
    "    zone_stat = zonal_stats(polygon, band, affine=raster.meta['transform'], nodata = np.nan, stats = stat)\n",
    "    return zone_stat"
   ]
  },
  {
   "cell_type": "code",
   "execution_count": 19,
   "metadata": {},
   "outputs": [],
   "source": [
    "def var_poly_join(in_dir, shp):\n",
    "    '''\n",
    "    This function will merge the mean value extracted using zonal statistics for all variables with the associated geometry to generate a final geodataframe\n",
    "    \n",
    "    Args: \n",
    "    in dir = folder of masked land cover rasters of interest\n",
    "    gdf = output geodataframe which will have the geometry of interest and the mean of all variables at each point in time series across the columns\n",
    "    \n",
    "    '''\n",
    "    files=np.array(sorted(os.listdir(in_dir)))\n",
    "    tifs = pd.Series(files).str.contains('.tif')\n",
    "    files = files[tifs]\n",
    "    gdf = gpd.read_file(shp)\n",
    "    \n",
    "    for filename in files:\n",
    "        #print(filename)\n",
    "        raster = rasterio.open(in_dir+filename)\n",
    "        stats = zone_stat(raster, 1, gdf, 'mean')\n",
    "        #print((list(stats))[-1])\n",
    "        name = os.path.splitext(os.path.basename(filename))[0]\n",
    "        gdf['Mean'+ \"_\" + name] = gpd.GeoDataFrame.from_dict(stats)\n",
    "    return gdf"
   ]
  },
  {
   "cell_type": "code",
   "execution_count": 20,
   "metadata": {
    "scrolled": true
   },
   "outputs": [],
   "source": [
    "# africa_adminbds = '/home/rgreen/tana-spin/rgreen/DroughtEDM/Data/AdminBoundaries/Africa_zones_2019/g2008_af_1.shp'\n",
    "# afr_bndry = gpd.read_file(africa_adminbds)\n",
    "\n",
    "ea_adminbds = '/home/rgreen/tana-spin/rgreen/DroughtEDM/Data/AdminBoundaries/gadm36_EastAfrica.shp'\n",
    "#ea_bndry = gpd.read_file(ea_adminbds)\n",
    "ea = '/home/rgreen/DroughtEDM/Data/EastAfrica/EastAfrica.shp'\n",
    "# admin_id = np.array(ea_bndry.GID_1)\n",
    "\n",
    "#oromia = '/home/rgreen/tana-spin/rgreen/DroughtEDM/Data/AdminBoundaries/Ethiopia/oromia.shp'\n",
    "#oromia_bndry = gpd.read_file(oromia)\n",
    "\n",
    "# OUT_DIR = '/home/rgreen/DroughtEDM/Data/EA_TS/'\n",
    "# OUT_DIR_16 = '/home/rgreen/DroughtEDM/Data/EA_TS_16/'"
   ]
  },
  {
   "cell_type": "code",
   "execution_count": 40,
   "metadata": {},
   "outputs": [],
   "source": [
    "OUT_DIR = '/home/rgreen/DroughtEDM/Data/EA_TS_16/EastAfrica_Interim/'\n",
    "\n",
    "#OUT_DIR_ANOM = '/home/rgreen/DroughtEDM/Data/EA_TS_16/Interim_Anomaly/'"
   ]
  },
  {
   "cell_type": "code",
   "execution_count": 41,
   "metadata": {},
   "outputs": [],
   "source": [
    "# ea = '/home/rgreen/tana-spin/rgreen/DroughtEDM/Data/AdminBoundaries/EastAfrica/EastAfrica.shp'\n",
    "# ea_bndry = gpd.read_file(ea)"
   ]
  },
  {
   "cell_type": "code",
   "execution_count": 55,
   "metadata": {},
   "outputs": [],
   "source": [
    "output_shp = var_poly_join(broadleaf_open_masked_out_dir, ea)"
   ]
  },
  {
   "cell_type": "code",
   "execution_count": 56,
   "metadata": {},
   "outputs": [],
   "source": [
    "# drop_columns = ['Unnamed: 0', 'GID_0', 'NAME_0', 'NAME_1', 'VARNAME_1',\n",
    "#        'NL_NAME_1', 'TYPE_1', 'ENGTYPE_1', 'CC_1', 'HASC_1', 'layer', 'path']"
   ]
  },
  {
   "cell_type": "code",
   "execution_count": 57,
   "metadata": {},
   "outputs": [],
   "source": [
    "output_df = pd.DataFrame(output_shp.drop(columns='geometry'))"
   ]
  },
  {
   "cell_type": "code",
   "execution_count": 58,
   "metadata": {},
   "outputs": [
    {
     "data": {
      "text/plain": [
       "(1, 1823)"
      ]
     },
     "execution_count": 58,
     "metadata": {},
     "output_type": "execute_result"
    }
   ],
   "source": [
    "output_df.shape"
   ]
  },
  {
   "cell_type": "code",
   "execution_count": 59,
   "metadata": {},
   "outputs": [],
   "source": [
    "output_df.to_csv(OUT_DIR + 'ea_full_broadleaf_open.csv')\n"
   ]
  },
  {
   "cell_type": "markdown",
   "metadata": {},
   "source": [
    "# END"
   ]
  },
  {
   "cell_type": "code",
   "execution_count": null,
   "metadata": {},
   "outputs": [],
   "source": []
  },
  {
   "cell_type": "markdown",
   "metadata": {},
   "source": [
    "# 5. Reassign cloud mask value before calculating stats"
   ]
  },
  {
   "cell_type": "code",
   "execution_count": null,
   "metadata": {},
   "outputs": [],
   "source": [
    "def reassign_masks(in_dir):\n",
    "    files=np.array(sorted(os.listdir(in_dir)))\n",
    "    tifs = pd.Series(files).str.contains('.tif')\n",
    "    files = files[tifs]\n",
    "\n",
    "    for filename in files:\n",
    "        with rasterio.open(in_dir+filename, 'r+') as ds:\n",
    "            print(filename)\n",
    "            a = ds.read()# read all raster values\n",
    "            a[a < 0 ] = np.nan  \n",
    "            ds.write(a)"
   ]
  },
  {
   "cell_type": "code",
   "execution_count": null,
   "metadata": {},
   "outputs": [],
   "source": []
  },
  {
   "cell_type": "markdown",
   "metadata": {},
   "source": [
    "# 6. Dask delayed\n",
    "Testing"
   ]
  },
  {
   "cell_type": "code",
   "execution_count": null,
   "metadata": {},
   "outputs": [],
   "source": [
    "@dask.delayed\n",
    "def read_and_mean(filename, in_dir, admin_gdf):\n",
    "    \"\"\"\n",
    "    input: \n",
    "    in_dir - directory of masked land cover type\n",
    "    filename - a raster variable for particular dekad\n",
    "    admin_gdf - administrative boundary layer of Africa as geodataframe\n",
    "    This function opens each raster and extract zonal mean for each variable\n",
    "    of a particular land cover type\n",
    "    \"\"\"\n",
    "    print(filename)\n",
    "    raster = rasterio.open(in_dir+filename)\n",
    "    mean = zone_stat(raster, 1, admin_gdf, 'mean')\n",
    "    name = os.path.splitext(os.path.basename(filename))[0]\n",
    "    return {'Mean'+ \"_\" + name : mean}"
   ]
  },
  {
   "cell_type": "code",
   "execution_count": null,
   "metadata": {},
   "outputs": [],
   "source": [
    "files=np.array(sorted(os.listdir(in_dir)))\n",
    "tifs = pd.Series(files).str.contains('.tif')\n",
    "files = files[tifs]\n",
    "\n",
    "admin_mean_list = []\n",
    "for filename in files:\n",
    "    zmeans = read_and_mean(filename, in_dir, bndry)\n",
    "    admin_mean_list.append(zmeans)\n"
   ]
  },
  {
   "cell_type": "code",
   "execution_count": null,
   "metadata": {},
   "outputs": [],
   "source": [
    "np.nanx"
   ]
  },
  {
   "cell_type": "code",
   "execution_count": null,
   "metadata": {},
   "outputs": [],
   "source": [
    "from dask.distributed import Client\n",
    "client = Client()\n",
    "client"
   ]
  },
  {
   "cell_type": "code",
   "execution_count": null,
   "metadata": {},
   "outputs": [],
   "source": [
    "client.compute(admin_mean_list,scheduler = 'processes')"
   ]
  },
  {
   "cell_type": "code",
   "execution_count": null,
   "metadata": {},
   "outputs": [],
   "source": [
    "#var_grass_dir = '/home/rgreen/tana-spin/rgreen/DroughtEDM/Data/Variables_Croplands/'\n",
    "#year_dir = '/home/rgreen/tana-spin/rgreen/DroughtEDM/Data/Variables_Grasslands/2016/'"
   ]
  },
  {
   "cell_type": "code",
   "execution_count": null,
   "metadata": {},
   "outputs": [],
   "source": [
    "#output_df = output_df[output_df.columns.drop(list(output_df.filter(regex='2014')))] \n",
    "#if you want to reverse and remove a specific year from the appended dataframe"
   ]
  },
  {
   "cell_type": "markdown",
   "metadata": {},
   "source": [
    "# 7. Remove nan pixels from lst\n",
    "nans present due to cloud masking and must be removed in order to accurately calculate zonal averages  \n",
    "might not be necessary if step 1 is run"
   ]
  },
  {
   "cell_type": "code",
   "execution_count": null,
   "metadata": {},
   "outputs": [],
   "source": [
    "lst_test = '/home/rgreen/tana-spin/rgreen/DroughtEDM/Data/VariablesByLandCover/Variables_Clos/Version2/cropland_rs_chirps-v2-Copy1.0.2002.07.1.tif'"
   ]
  },
  {
   "cell_type": "code",
   "execution_count": null,
   "metadata": {},
   "outputs": [],
   "source": [
    "with rasterio.open(lst_test, 'r+') as ds:\n",
    "    a = ds.read()# read all raster values\n",
    "    #lst_array[np.where(lst_array<=0)]\n",
    "    a[a < 0] = 0  #set all values not cropland as 0\n",
    "    ds.write(a)"
   ]
  },
  {
   "cell_type": "code",
   "execution_count": null,
   "metadata": {},
   "outputs": [],
   "source": [
    "lst_array[np.where(lst_array<=0)]"
   ]
  },
  {
   "cell_type": "code",
   "execution_count": null,
   "metadata": {},
   "outputs": [],
   "source": [
    "def create_land_mask(in_dir, out_dir, lc_num):\n",
    "    files=np.array(sorted(os.listdir(in_dir)))\n",
    "    \n",
    "    for filename in files:\n",
    "        base = os.path.splitext(filename)[0]\n",
    "        print(base)\n",
    "        with rasterio.open(in_dir+filename, 'r+') as ds:\n",
    "            rast = ds.read()\n",
    "            rast[rast!=lc_num] = np.nan\n",
    "            rast[rast==lc_num] = 1\n",
    "            meta = ds.meta()\n",
    "            meta.update(\n",
    "                dtype='float32')\n",
    "            ds.write(rast)\n",
    " "
   ]
  }
 ],
 "metadata": {
  "kernelspec": {
   "display_name": "edm",
   "language": "python",
   "name": "edm"
  },
  "language_info": {
   "codemirror_mode": {
    "name": "ipython",
    "version": 3
   },
   "file_extension": ".py",
   "mimetype": "text/x-python",
   "name": "python",
   "nbconvert_exporter": "python",
   "pygments_lexer": "ipython3",
   "version": "3.7.3"
  }
 },
 "nbformat": 4,
 "nbformat_minor": 4
}
