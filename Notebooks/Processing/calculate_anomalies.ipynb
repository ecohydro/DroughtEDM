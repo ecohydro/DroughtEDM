{
 "cells": [
  {
   "cell_type": "code",
   "execution_count": 1,
   "metadata": {},
   "outputs": [],
   "source": [
    "from pyEDM import *\n",
    "import pandas as pd\n",
    "import numpy as np\n",
    "import matplotlib as mpl\n",
    "from matplotlib import pyplot as plt\n",
    "import os\n",
    "import geopandas as gpd\n",
    "from shapely.geometry import Polygon\n",
    "import rasterio\n",
    "import xarray as xr\n",
    "from mpl_toolkits.axes_grid1 import make_axes_locatable\n",
    "import fiona\n",
    "import rasterio.mask\n",
    "from descartes import PolygonPatch\n",
    "from rasterio.plot import show\n",
    "from tqdm import tqdm\n",
    "import datetime\n",
    "import random\n",
    "from sklearn.preprocessing import StandardScaler"
   ]
  },
  {
   "cell_type": "code",
   "execution_count": 138,
   "metadata": {},
   "outputs": [],
   "source": [
    "# precip_anom_dir = '/home/rgreen/tana-spin/rgreen/DroughtEDM/Data/CHIRPS/Anomaly2/'\n",
    "# temp_anom_dir = '/home/rgreen/tana-spin/rgreen/DroughtEDM/Data/LST/Anomaly2/'\n",
    "# ndvi_anom_dir = '/home/rgreen/tana-spin/rgreen/DroughtEDM/Data/eMODIS_NDVI/Anomaly2/'"
   ]
  },
  {
   "cell_type": "code",
   "execution_count": 9,
   "metadata": {},
   "outputs": [],
   "source": [
    "precip_ea = '/home/rgreen/tana-spin/rgreen/DroughtEDM/Data/CHIRPS/EA/'\n",
    "temp_ea = '/home/rgreen/tana-spin/rgreen/DroughtEDM/Data/LST/EA/'\n",
    "ndvi_ea = '/home/rgreen/tana-spin/rgreen/DroughtEDM/Data/eMODIS_NDVI/EA/'\n",
    "et_ea = '/home/rgreen/tana-spin/rgreen/DroughtEDM/Data/Hobbins_ET/ETos_p05_EA/'\n",
    "sm10_ea = '/home/rgreen/tana-spin/rgreen/DroughtEDM/Data/FLDAS_SM/EA10/'\n",
    "sm40_ea = '/home/rgreen/tana-spin/rgreen/DroughtEDM/Data/FLDAS_SM/EA40/'\n",
    "sm100_ea = '/home/rgreen/tana-spin/rgreen/DroughtEDM/Data/FLDAS_SM/EA100/'\n",
    "sm200_ea = '/home/rgreen/tana-spin/rgreen/DroughtEDM/Data/FLDAS_SM/EA200/'"
   ]
  },
  {
   "cell_type": "code",
   "execution_count": 3,
   "metadata": {},
   "outputs": [],
   "source": [
    "def generate_dekads(start, end):\n",
    "    '''\n",
    "    Generates list of timestamps of dekads between two dates\n",
    "    \n",
    "    Parameters\n",
    "    ----------\n",
    "    start : pd.datetime object\n",
    "        Start date of list\n",
    "    end : pd.datetime object\n",
    "        end date of list\n",
    "    '''\n",
    "    \n",
    "    dtrange = pd.date_range(start, end)\n",
    "    days = list(range(len(dtrange))) #length of dtrange\n",
    "    daysDF = pd.DataFrame({'Days': days}, index=dtrange)\n",
    "    d = daysDF.index.day - np.clip((daysDF.index.day-1) // 10, 0, 2)*10 - 1 \n",
    "    dekaddates = daysDF.index.values - np.array(d, dtype=\"timedelta64[D]\")\n",
    "    dekads = daysDF.groupby(dekaddates).mean()\n",
    "    dekads = dekads.index\n",
    "    \n",
    "    return dekads"
   ]
  },
  {
   "cell_type": "code",
   "execution_count": 4,
   "metadata": {},
   "outputs": [],
   "source": [
    "start = pd.datetime(2002,7,1)\n",
    "end = pd.datetime(2019,4,30)\n",
    "\n",
    "dekads = generate_dekads(start, end)"
   ]
  },
  {
   "cell_type": "code",
   "execution_count": 5,
   "metadata": {},
   "outputs": [],
   "source": [
    "def stack_rasters(in_dir, keyword):\n",
    "    \n",
    "    '''\n",
    "    This function creates a raster stack xarray DataArray given a specified variable keyword.\n",
    "    Keywords = 'precip', 'ndvi','lst'\n",
    "    \n",
    "    '''\n",
    "    \n",
    "    files=np.array(sorted(os.listdir(in_dir)))\n",
    "    tifs = pd.Series(files).str.contains('.tif')\n",
    "    files = files[tifs]\n",
    "    \n",
    "    stacked = []\n",
    "    \n",
    "    for filename in tqdm(files): \n",
    "        if keyword in filename:\n",
    "    \n",
    "            file = xr.open_rasterio(in_dir+filename)\n",
    "            stacked.append(file.sel(band=1))\n",
    "            \n",
    "    combined = xr.concat(stacked, dim = 'time')\n",
    "  \n",
    "\n",
    "    return combined.assign_coords(time=dekads)"
   ]
  },
  {
   "cell_type": "code",
   "execution_count": 59,
   "metadata": {},
   "outputs": [
    {
     "name": "stderr",
     "output_type": "stream",
     "text": [
      "100%|██████████| 606/606 [00:02<00:00, 245.10it/s]\n"
     ]
    }
   ],
   "source": [
    "stack_out_temp = stack_rasters(temp_ea, 'temp')"
   ]
  },
  {
   "cell_type": "code",
   "execution_count": 119,
   "metadata": {},
   "outputs": [
    {
     "name": "stderr",
     "output_type": "stream",
     "text": [
      "100%|██████████| 606/606 [00:02<00:00, 236.13it/s]\n"
     ]
    }
   ],
   "source": [
    "stack_out_precip = stack_rasters(precip_ea, 'precip')"
   ]
  },
  {
   "cell_type": "code",
   "execution_count": 8,
   "metadata": {},
   "outputs": [
    {
     "name": "stderr",
     "output_type": "stream",
     "text": [
      "100%|██████████| 606/606 [00:09<00:00, 66.36it/s]\n"
     ]
    }
   ],
   "source": [
    "stack_out_ndvi = stack_rasters(ndvi_ea, 'ndvi')"
   ]
  },
  {
   "cell_type": "code",
   "execution_count": 146,
   "metadata": {},
   "outputs": [
    {
     "name": "stderr",
     "output_type": "stream",
     "text": [
      "100%|██████████| 606/606 [00:03<00:00, 189.59it/s]\n"
     ]
    }
   ],
   "source": [
    "stack_out_et = stack_rasters(et_ea, 'ETos')"
   ]
  },
  {
   "cell_type": "code",
   "execution_count": 10,
   "metadata": {},
   "outputs": [
    {
     "name": "stderr",
     "output_type": "stream",
     "text": [
      "100%|██████████| 606/606 [00:03<00:00, 194.44it/s]\n"
     ]
    }
   ],
   "source": [
    "stack_out_sm10 = stack_rasters(sm10_ea, 'SM')"
   ]
  },
  {
   "cell_type": "code",
   "execution_count": 11,
   "metadata": {},
   "outputs": [
    {
     "name": "stderr",
     "output_type": "stream",
     "text": [
      "100%|██████████| 606/606 [00:02<00:00, 288.19it/s]\n"
     ]
    }
   ],
   "source": [
    "stack_out_sm40 = stack_rasters(sm40_ea, 'SM')"
   ]
  },
  {
   "cell_type": "code",
   "execution_count": 12,
   "metadata": {},
   "outputs": [
    {
     "name": "stderr",
     "output_type": "stream",
     "text": [
      "100%|██████████| 606/606 [00:02<00:00, 208.67it/s]\n"
     ]
    }
   ],
   "source": [
    "stack_out_sm100 = stack_rasters(sm100_ea, 'SM')"
   ]
  },
  {
   "cell_type": "code",
   "execution_count": 13,
   "metadata": {},
   "outputs": [
    {
     "name": "stderr",
     "output_type": "stream",
     "text": [
      "100%|██████████| 606/606 [00:02<00:00, 211.25it/s]\n"
     ]
    }
   ],
   "source": [
    "stack_out_sm200 = stack_rasters(sm200_ea, 'SM')"
   ]
  },
  {
   "cell_type": "code",
   "execution_count": 60,
   "metadata": {},
   "outputs": [],
   "source": [
    "#stack_out_ndvi.groupby(.strftime('%m-%d')"
   ]
  },
  {
   "cell_type": "code",
   "execution_count": 68,
   "metadata": {},
   "outputs": [
    {
     "name": "stderr",
     "output_type": "stream",
     "text": [
      "/home/rgreen/miniconda3/envs/edm/lib/python3.7/site-packages/xarray/core/nanops.py:140: RuntimeWarning: Mean of empty slice\n",
      "  return np.nanmean(a, axis=axis, dtype=dtype)\n"
     ]
    }
   ],
   "source": [
    "ds_anom_precip_clim = stack_out_precip.groupby('time.month') - stack_out_precip.groupby(\"time.month\").mean(\"time\")"
   ]
  },
  {
   "cell_type": "code",
   "execution_count": 25,
   "metadata": {},
   "outputs": [
    {
     "name": "stderr",
     "output_type": "stream",
     "text": [
      "/home/rgreen/miniconda3/envs/edm/lib/python3.7/site-packages/xarray/core/nanops.py:140: RuntimeWarning: Mean of empty slice\n",
      "  return np.nanmean(a, axis=axis, dtype=dtype)\n"
     ]
    }
   ],
   "source": [
    "ds_ndvi = (stack_out_ndvi-100)/100\n",
    "ds_anom_ndvi_clim = ds_ndvi.groupby('time.month') - ds_ndvi.groupby('time.month').mean('time')"
   ]
  },
  {
   "cell_type": "code",
   "execution_count": 72,
   "metadata": {},
   "outputs": [
    {
     "name": "stderr",
     "output_type": "stream",
     "text": [
      "/home/rgreen/miniconda3/envs/edm/lib/python3.7/site-packages/xarray/core/nanops.py:140: RuntimeWarning: Mean of empty slice\n",
      "  return np.nanmean(a, axis=axis, dtype=dtype)\n"
     ]
    }
   ],
   "source": [
    "ds_anom_temp_clim = stack_out_temp.groupby('time.month') - stack_out_temp.groupby(\"time.month\").mean(\"time\")"
   ]
  },
  {
   "cell_type": "code",
   "execution_count": 148,
   "metadata": {},
   "outputs": [],
   "source": [
    "ds_anom_et_clim = stack_out_et.groupby('time.month') - stack_out_et.groupby('time.month').mean('time')"
   ]
  },
  {
   "cell_type": "code",
   "execution_count": 14,
   "metadata": {},
   "outputs": [
    {
     "name": "stderr",
     "output_type": "stream",
     "text": [
      "/home/rgreen/miniconda3/envs/edm/lib/python3.7/site-packages/xarray/core/nanops.py:140: RuntimeWarning: Mean of empty slice\n",
      "  return np.nanmean(a, axis=axis, dtype=dtype)\n"
     ]
    }
   ],
   "source": [
    "ds_anom_sm10_clim = stack_out_sm10.groupby('time.month') - stack_out_sm10.groupby('time.month').mean('time')"
   ]
  },
  {
   "cell_type": "code",
   "execution_count": 15,
   "metadata": {},
   "outputs": [
    {
     "name": "stderr",
     "output_type": "stream",
     "text": [
      "/home/rgreen/miniconda3/envs/edm/lib/python3.7/site-packages/xarray/core/nanops.py:140: RuntimeWarning: Mean of empty slice\n",
      "  return np.nanmean(a, axis=axis, dtype=dtype)\n"
     ]
    }
   ],
   "source": [
    "ds_anom_sm40_clim = stack_out_sm10.groupby('time.month') - stack_out_sm40.groupby('time.month').mean('time')"
   ]
  },
  {
   "cell_type": "code",
   "execution_count": 16,
   "metadata": {},
   "outputs": [
    {
     "name": "stderr",
     "output_type": "stream",
     "text": [
      "/home/rgreen/miniconda3/envs/edm/lib/python3.7/site-packages/xarray/core/nanops.py:140: RuntimeWarning: Mean of empty slice\n",
      "  return np.nanmean(a, axis=axis, dtype=dtype)\n"
     ]
    }
   ],
   "source": [
    "ds_anom_sm100_clim = stack_out_sm10.groupby('time.month') - stack_out_sm100.groupby('time.month').mean('time')"
   ]
  },
  {
   "cell_type": "code",
   "execution_count": 17,
   "metadata": {},
   "outputs": [
    {
     "name": "stderr",
     "output_type": "stream",
     "text": [
      "/home/rgreen/miniconda3/envs/edm/lib/python3.7/site-packages/xarray/core/nanops.py:140: RuntimeWarning: Mean of empty slice\n",
      "  return np.nanmean(a, axis=axis, dtype=dtype)\n"
     ]
    }
   ],
   "source": [
    "ds_anom_sm200_clim = stack_out_sm10.groupby('time.month') - stack_out_sm200.groupby('time.month').mean('time')"
   ]
  },
  {
   "cell_type": "code",
   "execution_count": null,
   "metadata": {},
   "outputs": [],
   "source": []
  },
  {
   "cell_type": "code",
   "execution_count": 77,
   "metadata": {},
   "outputs": [],
   "source": [
    "ds_anom_ndvi_norm = (ds_ndvi - ds_ndvi.mean('time'))/ds_ndvi.std('time')"
   ]
  },
  {
   "cell_type": "code",
   "execution_count": 80,
   "metadata": {},
   "outputs": [],
   "source": [
    "#get first value\n",
    "#ds_ndvi[0,0][0].values"
   ]
  },
  {
   "cell_type": "code",
   "execution_count": 120,
   "metadata": {},
   "outputs": [],
   "source": [
    "ds_anom_precip_norm = (stack_out_precip - stack_out_precip.mean('time'))/stack_out_precip.std('time')"
   ]
  },
  {
   "cell_type": "code",
   "execution_count": 82,
   "metadata": {},
   "outputs": [
    {
     "name": "stderr",
     "output_type": "stream",
     "text": [
      "/home/rgreen/miniconda3/envs/edm/lib/python3.7/site-packages/xarray/core/nanops.py:140: RuntimeWarning: Mean of empty slice\n",
      "  return np.nanmean(a, axis=axis, dtype=dtype)\n",
      "/home/rgreen/miniconda3/envs/edm/lib/python3.7/site-packages/numpy/lib/nanfunctions.py:1666: RuntimeWarning: Degrees of freedom <= 0 for slice.\n",
      "  keepdims=keepdims)\n"
     ]
    }
   ],
   "source": [
    "ds_anom_temp_norm = (stack_out_temp - stack_out_temp.mean('time'))/stack_out_temp.std('time')"
   ]
  },
  {
   "cell_type": "code",
   "execution_count": 150,
   "metadata": {},
   "outputs": [],
   "source": [
    "ds_anom_et_norm = (stack_out_et - stack_out_et.mean('time'))/stack_out_et.std('time')"
   ]
  },
  {
   "cell_type": "code",
   "execution_count": 18,
   "metadata": {},
   "outputs": [
    {
     "name": "stderr",
     "output_type": "stream",
     "text": [
      "/home/rgreen/miniconda3/envs/edm/lib/python3.7/site-packages/xarray/core/nanops.py:140: RuntimeWarning: Mean of empty slice\n",
      "  return np.nanmean(a, axis=axis, dtype=dtype)\n",
      "/home/rgreen/miniconda3/envs/edm/lib/python3.7/site-packages/numpy/lib/nanfunctions.py:1666: RuntimeWarning: Degrees of freedom <= 0 for slice.\n",
      "  keepdims=keepdims)\n"
     ]
    }
   ],
   "source": [
    "ds_anom_sm10_norm = (stack_out_sm10 - stack_out_sm10.mean('time'))/stack_out_sm10.std('time')"
   ]
  },
  {
   "cell_type": "code",
   "execution_count": 19,
   "metadata": {},
   "outputs": [
    {
     "name": "stderr",
     "output_type": "stream",
     "text": [
      "/home/rgreen/miniconda3/envs/edm/lib/python3.7/site-packages/numpy/lib/nanfunctions.py:1666: RuntimeWarning: Degrees of freedom <= 0 for slice.\n",
      "  keepdims=keepdims)\n"
     ]
    }
   ],
   "source": [
    "ds_anom_sm40_norm = (stack_out_sm10 - stack_out_sm40.mean('time'))/stack_out_sm40.std('time')"
   ]
  },
  {
   "cell_type": "code",
   "execution_count": 20,
   "metadata": {},
   "outputs": [
    {
     "name": "stderr",
     "output_type": "stream",
     "text": [
      "/home/rgreen/miniconda3/envs/edm/lib/python3.7/site-packages/xarray/core/nanops.py:140: RuntimeWarning: Mean of empty slice\n",
      "  return np.nanmean(a, axis=axis, dtype=dtype)\n",
      "/home/rgreen/miniconda3/envs/edm/lib/python3.7/site-packages/numpy/lib/nanfunctions.py:1666: RuntimeWarning: Degrees of freedom <= 0 for slice.\n",
      "  keepdims=keepdims)\n"
     ]
    }
   ],
   "source": [
    "ds_anom_sm100_norm = (stack_out_sm10 - stack_out_sm100.mean('time'))/stack_out_sm100.std('time')"
   ]
  },
  {
   "cell_type": "code",
   "execution_count": 21,
   "metadata": {},
   "outputs": [
    {
     "name": "stderr",
     "output_type": "stream",
     "text": [
      "/home/rgreen/miniconda3/envs/edm/lib/python3.7/site-packages/xarray/core/nanops.py:140: RuntimeWarning: Mean of empty slice\n",
      "  return np.nanmean(a, axis=axis, dtype=dtype)\n",
      "/home/rgreen/miniconda3/envs/edm/lib/python3.7/site-packages/numpy/lib/nanfunctions.py:1666: RuntimeWarning: Degrees of freedom <= 0 for slice.\n",
      "  keepdims=keepdims)\n"
     ]
    }
   ],
   "source": [
    "ds_anom_sm200_norm = (stack_out_sm10 - stack_out_sm200.mean('time'))/stack_out_sm200.std('time')"
   ]
  },
  {
   "cell_type": "code",
   "execution_count": null,
   "metadata": {},
   "outputs": [],
   "source": []
  },
  {
   "cell_type": "code",
   "execution_count": 83,
   "metadata": {},
   "outputs": [],
   "source": [
    "ds_anom_ndvi_demean = (ds_ndvi - ds_ndvi.mean('time'))"
   ]
  },
  {
   "cell_type": "code",
   "execution_count": 84,
   "metadata": {},
   "outputs": [],
   "source": [
    "ds_anom_precip_demean = (stack_out_precip - stack_out_precip.mean('time'))"
   ]
  },
  {
   "cell_type": "code",
   "execution_count": 85,
   "metadata": {},
   "outputs": [],
   "source": [
    "ds_anom_temp_demean = (stack_out_temp - stack_out_temp.mean('time'))"
   ]
  },
  {
   "cell_type": "code",
   "execution_count": 152,
   "metadata": {},
   "outputs": [],
   "source": [
    "ds_anom_et_demean = (stack_out_et - stack_out_et.mean('time'))"
   ]
  },
  {
   "cell_type": "code",
   "execution_count": 22,
   "metadata": {},
   "outputs": [
    {
     "name": "stderr",
     "output_type": "stream",
     "text": [
      "/home/rgreen/miniconda3/envs/edm/lib/python3.7/site-packages/xarray/core/nanops.py:140: RuntimeWarning: Mean of empty slice\n",
      "  return np.nanmean(a, axis=axis, dtype=dtype)\n"
     ]
    }
   ],
   "source": [
    "ds_anom_sm10_demean = (stack_out_sm10 - stack_out_sm10.mean('time'))"
   ]
  },
  {
   "cell_type": "code",
   "execution_count": 23,
   "metadata": {},
   "outputs": [],
   "source": [
    "ds_anom_sm40_demean = (stack_out_sm40 - stack_out_sm40.mean('time'))"
   ]
  },
  {
   "cell_type": "code",
   "execution_count": 24,
   "metadata": {},
   "outputs": [],
   "source": [
    "ds_anom_sm100_demean = (stack_out_sm10 - stack_out_sm100.mean('time'))"
   ]
  },
  {
   "cell_type": "code",
   "execution_count": 25,
   "metadata": {},
   "outputs": [
    {
     "name": "stderr",
     "output_type": "stream",
     "text": [
      "/home/rgreen/miniconda3/envs/edm/lib/python3.7/site-packages/xarray/core/nanops.py:140: RuntimeWarning: Mean of empty slice\n",
      "  return np.nanmean(a, axis=axis, dtype=dtype)\n"
     ]
    }
   ],
   "source": [
    "ds_anom_sm200_demean = (stack_out_sm10 - stack_out_sm200.mean('time'))"
   ]
  },
  {
   "cell_type": "code",
   "execution_count": null,
   "metadata": {},
   "outputs": [],
   "source": []
  },
  {
   "cell_type": "code",
   "execution_count": 28,
   "metadata": {},
   "outputs": [],
   "source": [
    "def dataarray2tiff(dataarray, in_dir, out_dir, out_name):\n",
    "    \n",
    "    '''\n",
    "    This function converts a 2D xarray DataArray into a tif using the profile of an existing tif\n",
    "\n",
    "    '''\n",
    "    \n",
    "\n",
    "    with rasterio.open(in_dir+ os.listdir(in_dir)[0]) as src:\n",
    "        profile = src.profile\n",
    "        \n",
    "    for i in np.arange(0,len(os.listdir(in_dir))):\n",
    "        data = np.array(dataarray[i])\n",
    "        \n",
    "       \n",
    "        with rasterio.open(out_dir + out_name + str(np.array(dataarray[i].time))[:10] + '.tif', 'w', **profile) as dst:\n",
    "            \n",
    "            data = data.astype(np.float32)\n",
    "            dst.write(data, indexes = 1)"
   ]
  },
  {
   "cell_type": "code",
   "execution_count": null,
   "metadata": {},
   "outputs": [],
   "source": [
    "dataarray2tiff(ds_anom_ndvi_clim, ndvi_ea, '/home/rgreen/tana-spin/rgreen/DroughtEDM/Data/eMODIS_NDVI/Anomaly_Clim/', 'anom_ea_ndvi_')"
   ]
  },
  {
   "cell_type": "code",
   "execution_count": null,
   "metadata": {},
   "outputs": [],
   "source": [
    "dataarray2tiff(ds_anom_ndvi_norm, ndvi_ea, '/home/rgreen/tana-spin/rgreen/DroughtEDM/Data/eMODIS_NDVI/Anomaly_Norm/', 'anom_ea_ndvi_')"
   ]
  },
  {
   "cell_type": "code",
   "execution_count": null,
   "metadata": {},
   "outputs": [],
   "source": [
    "dataarray2tiff(ds_anom_ndvi_demean, ndvi_ea, '/home/rgreen/tana-spin/rgreen/DroughtEDM/Data/eMODIS_NDVI/Anomaly_Demean/', 'anom_ea_ndvi_')"
   ]
  },
  {
   "cell_type": "code",
   "execution_count": 87,
   "metadata": {},
   "outputs": [],
   "source": [
    "dataarray2tiff(ds_anom_precip_clim, precip_ea, '/home/rgreen/tana-spin/rgreen/DroughtEDM/Data/CHIRPS/Anomaly_Clim/', 'anom_ea_precip_')"
   ]
  },
  {
   "cell_type": "code",
   "execution_count": 126,
   "metadata": {},
   "outputs": [],
   "source": [
    "dataarray2tiff(ds_anom_precip_norm, precip_ea, '/home/rgreen/tana-spin/rgreen/DroughtEDM/Data/CHIRPS/Anomaly_Norm/', 'anom_ea_precip_')"
   ]
  },
  {
   "cell_type": "code",
   "execution_count": 125,
   "metadata": {},
   "outputs": [],
   "source": [
    "dataarray2tiff(ds_anom_precip_demean, precip_ea, '/home/rgreen/tana-spin/rgreen/DroughtEDM/Data/CHIRPS/Anomaly_Demean/', 'anom_ea_precip_')"
   ]
  },
  {
   "cell_type": "code",
   "execution_count": null,
   "metadata": {},
   "outputs": [],
   "source": [
    "dataarray2tiff(ds_anom_temp_clim, temp_ea, '/home/rgreen/tana-spin/rgreen/DroughtEDM/Data/LST/Anomaly_Clim/', 'anom_ea_temp_')"
   ]
  },
  {
   "cell_type": "code",
   "execution_count": null,
   "metadata": {},
   "outputs": [],
   "source": [
    "dataarray2tiff(ds_anom_temp_norm, temp_ea, '/home/rgreen/tana-spin/rgreen/DroughtEDM/Data/LST/Anomaly_Norm/', 'anom_ea_temp_')"
   ]
  },
  {
   "cell_type": "code",
   "execution_count": null,
   "metadata": {},
   "outputs": [],
   "source": [
    "dataarray2tiff(ds_anom_temp_demean, temp_ea, '/home/rgreen/tana-spin/rgreen/DroughtEDM/Data/LST/Anomaly_Demean/', 'anom_ea_temp_')"
   ]
  },
  {
   "cell_type": "code",
   "execution_count": null,
   "metadata": {},
   "outputs": [],
   "source": [
    "dataarray2tiff(ds_anom_et_clim, et_ea, '/home/rgreen/tana-spin/rgreen/DroughtEDM/Data/Hobbins_ET/Anomaly_Clim/', 'anom_ea_et_')"
   ]
  },
  {
   "cell_type": "code",
   "execution_count": null,
   "metadata": {},
   "outputs": [],
   "source": [
    "dataarray2tiff(ds_anom_et_norm, et_ea, '/home/rgreen/tana-spin/rgreen/DroughtEDM/Data/Hobbins_ET/Anomaly_Norm/', 'anom_ea_et_')"
   ]
  },
  {
   "cell_type": "code",
   "execution_count": null,
   "metadata": {},
   "outputs": [],
   "source": [
    "dataarray2tiff(ds_anom_et_demean, et_ea, '/home/rgreen/tana-spin/rgreen/DroughtEDM/Data/Hobbins_ET/Anomaly_Demean/', 'anom_ea_et_')"
   ]
  },
  {
   "cell_type": "code",
   "execution_count": 29,
   "metadata": {},
   "outputs": [],
   "source": [
    "dataarray2tiff(ds_anom_sm10_clim, sm10_ea, '/home/rgreen/tana-spin/rgreen/DroughtEDM/Data/FLDAS_SM/Anomaly10_Clim/', 'anom_ea_sm10_')"
   ]
  },
  {
   "cell_type": "code",
   "execution_count": null,
   "metadata": {},
   "outputs": [],
   "source": [
    "dataarray2tiff(ds_anom_sm40_clim, sm40_ea, '/home/rgreen/tana-spin/rgreen/DroughtEDM/Data/FLDAS_SM/Anomaly40_Clim/', 'anom_ea_sm40_')"
   ]
  },
  {
   "cell_type": "code",
   "execution_count": 32,
   "metadata": {},
   "outputs": [],
   "source": [
    "dataarray2tiff(ds_anom_sm100_clim, sm100_ea, '/home/rgreen/tana-spin/rgreen/DroughtEDM/Data/FLDAS_SM/Anomaly100_Clim/', 'anom_ea_sm100_')"
   ]
  },
  {
   "cell_type": "code",
   "execution_count": 33,
   "metadata": {},
   "outputs": [],
   "source": [
    "dataarray2tiff(ds_anom_sm200_clim, sm200_ea, '/home/rgreen/tana-spin/rgreen/DroughtEDM/Data/FLDAS_SM/Anomaly200_Clim/', 'anom_ea_sm200_')"
   ]
  },
  {
   "cell_type": "code",
   "execution_count": 34,
   "metadata": {},
   "outputs": [],
   "source": [
    "dataarray2tiff(ds_anom_sm10_norm, sm10_ea, '/home/rgreen/tana-spin/rgreen/DroughtEDM/Data/FLDAS_SM/Anomaly10_Norm/', 'anom_ea_sm10_')"
   ]
  },
  {
   "cell_type": "code",
   "execution_count": null,
   "metadata": {},
   "outputs": [],
   "source": [
    "dataarray2tiff(ds_anom_sm40_norm, sm40_ea, '/home/rgreen/tana-spin/rgreen/DroughtEDM/Data/FLDAS_SM/Anomaly40_Norm/', 'anom_ea_sm40_')"
   ]
  },
  {
   "cell_type": "code",
   "execution_count": 37,
   "metadata": {},
   "outputs": [],
   "source": [
    "dataarray2tiff(ds_anom_sm100_norm, sm100_ea, '/home/rgreen/tana-spin/rgreen/DroughtEDM/Data/FLDAS_SM/Anomaly100_Norm/', 'anom_ea_sm100_')"
   ]
  },
  {
   "cell_type": "code",
   "execution_count": 38,
   "metadata": {},
   "outputs": [],
   "source": [
    "dataarray2tiff(ds_anom_sm200_norm, sm200_ea, '/home/rgreen/tana-spin/rgreen/DroughtEDM/Data/FLDAS_SM/Anomaly200_Norm/', 'anom_ea_sm200_')"
   ]
  },
  {
   "cell_type": "code",
   "execution_count": 39,
   "metadata": {},
   "outputs": [],
   "source": [
    "dataarray2tiff(ds_anom_sm10_demean, sm10_ea, '/home/rgreen/tana-spin/rgreen/DroughtEDM/Data/FLDAS_SM/Anomaly10_Demean/', 'anom_ea_sm10_')"
   ]
  },
  {
   "cell_type": "code",
   "execution_count": null,
   "metadata": {},
   "outputs": [],
   "source": [
    "dataarray2tiff(ds_anom_sm40_demean, sm40_ea, '/home/rgreen/tana-spin/rgreen/DroughtEDM/Data/FLDAS_SM/Anomaly40_Demean/', 'anom_ea_sm40_')"
   ]
  },
  {
   "cell_type": "code",
   "execution_count": 41,
   "metadata": {},
   "outputs": [],
   "source": [
    "dataarray2tiff(ds_anom_sm100_demean, sm100_ea, '/home/rgreen/tana-spin/rgreen/DroughtEDM/Data/FLDAS_SM/Anomaly100_Demean/', 'anom_ea_sm100_')"
   ]
  },
  {
   "cell_type": "code",
   "execution_count": 42,
   "metadata": {},
   "outputs": [],
   "source": [
    "dataarray2tiff(ds_anom_sm200_demean, sm200_ea, '/home/rgreen/tana-spin/rgreen/DroughtEDM/Data/FLDAS_SM/Anomaly200_Demean/', 'anom_ea_sm200_')"
   ]
  },
  {
   "cell_type": "code",
   "execution_count": 12,
   "metadata": {},
   "outputs": [],
   "source": [
    "def pixelwise_ts_table(in_dir, keyword):\n",
    "    \n",
    "    '''\n",
    "    This function searches through the file directory and creates a dataframe of pixel values over time from rasters\n",
    "    based on a given keyword describing the environmental variable of interest to generate a raster time series stack \n",
    "    \n",
    "   In the output dataframe, columns are each pixel extracted from the raster (read squentially into a list)\n",
    "   and rows are the same pixel over time (dekads going down)\n",
    "    \n",
    "    Args:\n",
    "    - in_dir: path to the input directory\n",
    "    -keyword: string that is unique to the environmental variable\n",
    "        options: ['precip', 'temp', 'ndvi']\n",
    "    '''\n",
    "    \n",
    "    \n",
    "    files=np.array(sorted(os.listdir(in_dir)))\n",
    "    tifs = pd.Series(files).str.contains(keyword)\n",
    "    files = files[tifs]\n",
    "    #n_samples = len(files)\n",
    "    \n",
    "    \n",
    "    pixelwise_TS = []\n",
    "    \n",
    "    for filename in tqdm(files): \n",
    "        \n",
    "        \n",
    "            open_file = xr.open_rasterio(in_dir+filename).sel(band=1)\n",
    "            array = open_file.values\n",
    "            #\n",
    "            pixel_list = array.ravel().tolist()\n",
    "            \n",
    "            pixelwise_TS.append(pixel_list)\n",
    "\n",
    "        \n",
    "    return pd.DataFrame(pixelwise_TS)\n",
    "\n",
    "    "
   ]
  },
  {
   "cell_type": "code",
   "execution_count": 33,
   "metadata": {},
   "outputs": [
    {
     "name": "stderr",
     "output_type": "stream",
     "text": [
      "100%|██████████| 606/606 [00:08<00:00, 72.80it/s]\n"
     ]
    }
   ],
   "source": [
    "ndvi_table_anom1 = pixelwise_ts_table('/home/rgreen/tana-spin/rgreen/DroughtEDM/Data/eMODIS_NDVI/Anomaly/', 'ndvi')"
   ]
  },
  {
   "cell_type": "code",
   "execution_count": 48,
   "metadata": {},
   "outputs": [
    {
     "name": "stderr",
     "output_type": "stream",
     "text": [
      "100%|██████████| 606/606 [00:07<00:00, 81.37it/s]\n"
     ]
    }
   ],
   "source": [
    "ndvi_table_anom2 = pixelwise_ts_table('/home/rgreen/tana-spin/rgreen/DroughtEDM/Data/eMODIS_NDVI/Anomaly2/', 'ndvi')"
   ]
  },
  {
   "cell_type": "code",
   "execution_count": 52,
   "metadata": {},
   "outputs": [
    {
     "name": "stderr",
     "output_type": "stream",
     "text": [
      "100%|██████████| 606/606 [00:07<00:00, 82.98it/s]\n"
     ]
    }
   ],
   "source": [
    "ndvi_table_anom3 = pixelwise_ts_table('/home/rgreen/tana-spin/rgreen/DroughtEDM/Data/eMODIS_NDVI/Anomaly3/', 'ndvi')"
   ]
  },
  {
   "cell_type": "code",
   "execution_count": 93,
   "metadata": {},
   "outputs": [
    {
     "name": "stderr",
     "output_type": "stream",
     "text": [
      "100%|██████████| 606/606 [00:08<00:00, 73.47it/s]\n"
     ]
    }
   ],
   "source": [
    "precip_table_anom1 = pixelwise_ts_table('/home/rgreen/tana-spin/rgreen/DroughtEDM/Data/CHIRPS/Anomaly/', 'precip')"
   ]
  },
  {
   "cell_type": "code",
   "execution_count": 95,
   "metadata": {},
   "outputs": [
    {
     "name": "stderr",
     "output_type": "stream",
     "text": [
      "100%|██████████| 606/606 [00:07<00:00, 77.93it/s]\n"
     ]
    }
   ],
   "source": [
    "precip_table_anom2 = pixelwise_ts_table('/home/rgreen/tana-spin/rgreen/DroughtEDM/Data/CHIRPS/Anomaly2/', 'precip')"
   ]
  },
  {
   "cell_type": "code",
   "execution_count": 97,
   "metadata": {},
   "outputs": [
    {
     "name": "stderr",
     "output_type": "stream",
     "text": [
      "100%|██████████| 606/606 [00:14<00:00, 42.93it/s]\n"
     ]
    }
   ],
   "source": [
    "precip_table_anom3 = pixelwise_ts_table('/home/rgreen/tana-spin/rgreen/DroughtEDM/Data/CHIRPS/Anomaly3/', 'precip')"
   ]
  },
  {
   "cell_type": "code",
   "execution_count": 99,
   "metadata": {},
   "outputs": [
    {
     "name": "stderr",
     "output_type": "stream",
     "text": [
      "100%|██████████| 606/606 [00:08<00:00, 71.86it/s]\n"
     ]
    }
   ],
   "source": [
    "precip_table_clim = pixelwise_ts_table('/home/rgreen/tana-spin/rgreen/DroughtEDM/Data/CHIRPS/Anomaly_Clim/', 'precip')"
   ]
  },
  {
   "cell_type": "code",
   "execution_count": 130,
   "metadata": {},
   "outputs": [
    {
     "name": "stderr",
     "output_type": "stream",
     "text": [
      "100%|██████████| 606/606 [00:07<00:00, 79.01it/s]\n"
     ]
    }
   ],
   "source": [
    "precip_table_norm = pixelwise_ts_table('/home/rgreen/tana-spin/rgreen/DroughtEDM/Data/CHIRPS/Anomaly_Norm/', 'precip')"
   ]
  },
  {
   "cell_type": "code",
   "execution_count": 103,
   "metadata": {},
   "outputs": [
    {
     "name": "stderr",
     "output_type": "stream",
     "text": [
      "100%|██████████| 606/606 [00:07<00:00, 76.49it/s]\n"
     ]
    }
   ],
   "source": [
    "precip_table_demean = pixelwise_ts_table('/home/rgreen/tana-spin/rgreen/DroughtEDM/Data/CHIRPS/Anomaly_Demean/', 'precip')"
   ]
  },
  {
   "cell_type": "code",
   "execution_count": 105,
   "metadata": {},
   "outputs": [
    {
     "name": "stderr",
     "output_type": "stream",
     "text": [
      "100%|██████████| 606/606 [00:08<00:00, 72.93it/s]\n"
     ]
    }
   ],
   "source": [
    "temp_table_anom1 = pixelwise_ts_table('/home/rgreen/tana-spin/rgreen/DroughtEDM/Data/LST/Anomaly/', 'temp')"
   ]
  },
  {
   "cell_type": "code",
   "execution_count": 107,
   "metadata": {},
   "outputs": [
    {
     "name": "stderr",
     "output_type": "stream",
     "text": [
      "100%|██████████| 606/606 [00:07<00:00, 76.44it/s]\n"
     ]
    }
   ],
   "source": [
    "temp_table_anom2 = pixelwise_ts_table('/home/rgreen/tana-spin/rgreen/DroughtEDM/Data/LST/Anomaly2/', 'temp')"
   ]
  },
  {
   "cell_type": "code",
   "execution_count": 109,
   "metadata": {},
   "outputs": [
    {
     "name": "stderr",
     "output_type": "stream",
     "text": [
      "100%|██████████| 606/606 [00:14<00:00, 40.53it/s]\n"
     ]
    }
   ],
   "source": [
    "temp_table_anom3 = pixelwise_ts_table('/home/rgreen/tana-spin/rgreen/DroughtEDM/Data/LST/Anomaly3/', 'temp')"
   ]
  },
  {
   "cell_type": "code",
   "execution_count": 110,
   "metadata": {},
   "outputs": [
    {
     "name": "stderr",
     "output_type": "stream",
     "text": [
      "100%|██████████| 606/606 [00:08<00:00, 70.55it/s]\n"
     ]
    }
   ],
   "source": [
    "temp_anom_clim = pixelwise_ts_table('/home/rgreen/tana-spin/rgreen/DroughtEDM/Data/LST/Anomaly_Clim/', 'temp')"
   ]
  },
  {
   "cell_type": "code",
   "execution_count": 112,
   "metadata": {},
   "outputs": [
    {
     "name": "stderr",
     "output_type": "stream",
     "text": [
      "100%|██████████| 606/606 [00:08<00:00, 74.49it/s]\n"
     ]
    }
   ],
   "source": [
    "temp_anom_norm = pixelwise_ts_table('/home/rgreen/tana-spin/rgreen/DroughtEDM/Data/LST/Anomaly_Norm/', 'temp')"
   ]
  },
  {
   "cell_type": "code",
   "execution_count": 114,
   "metadata": {},
   "outputs": [
    {
     "name": "stderr",
     "output_type": "stream",
     "text": [
      "100%|██████████| 606/606 [00:08<00:00, 74.15it/s]\n"
     ]
    }
   ],
   "source": [
    "temp_anom_demean = pixelwise_ts_table('/home/rgreen/tana-spin/rgreen/DroughtEDM/Data/LST/Anomaly_Demean/', 'temp')"
   ]
  },
  {
   "cell_type": "code",
   "execution_count": 31,
   "metadata": {},
   "outputs": [
    {
     "name": "stderr",
     "output_type": "stream",
     "text": [
      "100%|██████████| 606/606 [00:07<00:00, 77.69it/s]\n"
     ]
    }
   ],
   "source": [
    "ndvi_table_anom1_clim = pixelwise_ts_table('/home/rgreen/tana-spin/rgreen/DroughtEDM/Data/eMODIS_NDVI/Anomaly_Clim/', 'ndvi')"
   ]
  },
  {
   "cell_type": "code",
   "execution_count": 54,
   "metadata": {},
   "outputs": [
    {
     "name": "stderr",
     "output_type": "stream",
     "text": [
      "100%|██████████| 606/606 [00:08<00:00, 75.28it/s]\n"
     ]
    }
   ],
   "source": [
    "ndvi_table_anom_demean = pixelwise_ts_table('/home/rgreen/tana-spin/rgreen/DroughtEDM/Data/eMODIS_NDVI/Anomaly_Demean/', 'ndvi')"
   ]
  },
  {
   "cell_type": "code",
   "execution_count": 128,
   "metadata": {},
   "outputs": [
    {
     "name": "stderr",
     "output_type": "stream",
     "text": [
      "100%|██████████| 606/606 [00:07<00:00, 79.34it/s]\n"
     ]
    }
   ],
   "source": [
    "ndvi_table_anom_norm = pixelwise_ts_table('/home/rgreen/tana-spin/rgreen/DroughtEDM/Data/eMODIS_NDVI/Anomaly_Norm/', 'ndvi')"
   ]
  },
  {
   "cell_type": "code",
   "execution_count": null,
   "metadata": {},
   "outputs": [],
   "source": []
  }
 ],
 "metadata": {
  "kernelspec": {
   "display_name": "Python [conda env:edm]",
   "language": "python",
   "name": "conda-env-edm-py"
  },
  "language_info": {
   "codemirror_mode": {
    "name": "ipython",
    "version": 3
   },
   "file_extension": ".py",
   "mimetype": "text/x-python",
   "name": "python",
   "nbconvert_exporter": "python",
   "pygments_lexer": "ipython3",
   "version": "3.7.3"
  }
 },
 "nbformat": 4,
 "nbformat_minor": 4
}
