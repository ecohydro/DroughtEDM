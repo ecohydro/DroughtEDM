{
 "cells": [
  {
   "cell_type": "markdown",
   "metadata": {},
   "source": [
    "# Convert daily date range into dekads\n",
    "DatetimeIndex --> datetime64 array "
   ]
  },
  {
   "cell_type": "code",
   "execution_count": 1,
   "metadata": {},
   "outputs": [],
   "source": [
    "import pandas as pd\n",
    "import numpy as np\n",
    "\n",
    "begin = pd.datetime(2002,7,1)\n",
    "end = pd.datetime(2016,12,31)\n",
    "\n",
    "dtrange = pd.date_range(begin, end)\n",
    "\n",
    "p1 = np.random.rand(len(dtrange)) + 5\n",
    "p2 = np.random.rand(len(dtrange)) + 10\n",
    "\n",
    "df = pd.DataFrame({'p1': p1, 'p2': p2}, index=dtrange)"
   ]
  },
  {
   "cell_type": "code",
   "execution_count": 2,
   "metadata": {},
   "outputs": [
    {
     "data": {
      "text/plain": [
       "DatetimeIndex(['2002-07-01', '2002-07-02', '2002-07-03', '2002-07-04',\n",
       "               '2002-07-05', '2002-07-06', '2002-07-07', '2002-07-08',\n",
       "               '2002-07-09', '2002-07-10',\n",
       "               ...\n",
       "               '2016-12-22', '2016-12-23', '2016-12-24', '2016-12-25',\n",
       "               '2016-12-26', '2016-12-27', '2016-12-28', '2016-12-29',\n",
       "               '2016-12-30', '2016-12-31'],\n",
       "              dtype='datetime64[ns]', length=5298, freq='D')"
      ]
     },
     "execution_count": 2,
     "metadata": {},
     "output_type": "execute_result"
    }
   ],
   "source": [
    "dtrange"
   ]
  },
  {
   "cell_type": "code",
   "execution_count": 3,
   "metadata": {},
   "outputs": [
    {
     "data": {
      "text/plain": [
       "numpy.ndarray"
      ]
     },
     "execution_count": 3,
     "metadata": {},
     "output_type": "execute_result"
    }
   ],
   "source": [
    "type(p1)"
   ]
  },
  {
   "cell_type": "code",
   "execution_count": 4,
   "metadata": {},
   "outputs": [
    {
     "data": {
      "text/html": [
       "<div>\n",
       "<style scoped>\n",
       "    .dataframe tbody tr th:only-of-type {\n",
       "        vertical-align: middle;\n",
       "    }\n",
       "\n",
       "    .dataframe tbody tr th {\n",
       "        vertical-align: top;\n",
       "    }\n",
       "\n",
       "    .dataframe thead th {\n",
       "        text-align: right;\n",
       "    }\n",
       "</style>\n",
       "<table border=\"1\" class=\"dataframe\">\n",
       "  <thead>\n",
       "    <tr style=\"text-align: right;\">\n",
       "      <th></th>\n",
       "      <th>p1</th>\n",
       "      <th>p2</th>\n",
       "    </tr>\n",
       "  </thead>\n",
       "  <tbody>\n",
       "    <tr>\n",
       "      <td>2002-07-01</td>\n",
       "      <td>5.447714</td>\n",
       "      <td>10.415188</td>\n",
       "    </tr>\n",
       "    <tr>\n",
       "      <td>2002-07-11</td>\n",
       "      <td>5.495729</td>\n",
       "      <td>10.544942</td>\n",
       "    </tr>\n",
       "    <tr>\n",
       "      <td>2002-07-21</td>\n",
       "      <td>5.446090</td>\n",
       "      <td>10.485094</td>\n",
       "    </tr>\n",
       "    <tr>\n",
       "      <td>2002-08-01</td>\n",
       "      <td>5.567267</td>\n",
       "      <td>10.345632</td>\n",
       "    </tr>\n",
       "    <tr>\n",
       "      <td>2002-08-11</td>\n",
       "      <td>5.383004</td>\n",
       "      <td>10.378629</td>\n",
       "    </tr>\n",
       "    <tr>\n",
       "      <td>...</td>\n",
       "      <td>...</td>\n",
       "      <td>...</td>\n",
       "    </tr>\n",
       "    <tr>\n",
       "      <td>2016-11-11</td>\n",
       "      <td>5.505803</td>\n",
       "      <td>10.555734</td>\n",
       "    </tr>\n",
       "    <tr>\n",
       "      <td>2016-11-21</td>\n",
       "      <td>5.471855</td>\n",
       "      <td>10.623065</td>\n",
       "    </tr>\n",
       "    <tr>\n",
       "      <td>2016-12-01</td>\n",
       "      <td>5.517205</td>\n",
       "      <td>10.557509</td>\n",
       "    </tr>\n",
       "    <tr>\n",
       "      <td>2016-12-11</td>\n",
       "      <td>5.611644</td>\n",
       "      <td>10.712101</td>\n",
       "    </tr>\n",
       "    <tr>\n",
       "      <td>2016-12-21</td>\n",
       "      <td>5.412262</td>\n",
       "      <td>10.467670</td>\n",
       "    </tr>\n",
       "  </tbody>\n",
       "</table>\n",
       "<p>522 rows × 2 columns</p>\n",
       "</div>"
      ],
      "text/plain": [
       "                  p1         p2\n",
       "2002-07-01  5.447714  10.415188\n",
       "2002-07-11  5.495729  10.544942\n",
       "2002-07-21  5.446090  10.485094\n",
       "2002-08-01  5.567267  10.345632\n",
       "2002-08-11  5.383004  10.378629\n",
       "...              ...        ...\n",
       "2016-11-11  5.505803  10.555734\n",
       "2016-11-21  5.471855  10.623065\n",
       "2016-12-01  5.517205  10.557509\n",
       "2016-12-11  5.611644  10.712101\n",
       "2016-12-21  5.412262  10.467670\n",
       "\n",
       "[522 rows x 2 columns]"
      ]
     },
     "execution_count": 4,
     "metadata": {},
     "output_type": "execute_result"
    }
   ],
   "source": [
    "d = df.index.day - np.clip((df.index.day-1) // 10, 0, 2)*10 - 1\n",
    "date = df.index.values - np.array(d, dtype=\"timedelta64[D]\")\n",
    "df.groupby(date).mean()"
   ]
  },
  {
   "cell_type": "code",
   "execution_count": 5,
   "metadata": {},
   "outputs": [
    {
     "data": {
      "text/plain": [
       "array(['2002-07-01T00:00:00.000000000', '2002-07-01T00:00:00.000000000',\n",
       "       '2002-07-01T00:00:00.000000000', ...,\n",
       "       '2016-12-21T00:00:00.000000000', '2016-12-21T00:00:00.000000000',\n",
       "       '2016-12-21T00:00:00.000000000'], dtype='datetime64[ns]')"
      ]
     },
     "execution_count": 5,
     "metadata": {},
     "output_type": "execute_result"
    }
   ],
   "source": [
    "date"
   ]
  },
  {
   "cell_type": "code",
   "execution_count": null,
   "metadata": {},
   "outputs": [],
   "source": [
    "df.index.dayofyear"
   ]
  },
  {
   "cell_type": "markdown",
   "metadata": {},
   "source": [
    "# Resample daily files in folders to dekads\n",
    "dekad_resample function takes the raster mean of daily files in dekad chunks and rewrites dekad files to a new folder.\n",
    "root_dir is a directory of folders of daily files separated by year/month and out_dir combines all outputs into a single folder. "
   ]
  },
  {
   "cell_type": "code",
   "execution_count": 6,
   "metadata": {},
   "outputs": [],
   "source": [
    "import rasterio\n",
    "import numpy as np\n",
    "from glob import glob\n",
    "import os\n",
    "from rasterio.plot import show"
   ]
  },
  {
   "cell_type": "code",
   "execution_count": null,
   "metadata": {},
   "outputs": [],
   "source": [
    "def read_file(file):\n",
    "    with rasterio.open(file) as src:\n",
    "        return(src.read())"
   ]
  },
  {
   "cell_type": "code",
   "execution_count": 2,
   "metadata": {},
   "outputs": [],
   "source": [
    "def dekad_resample(root_dir, out_dir, var):\n",
    "    folds = [fold for fold in sorted(os.listdir(root_dir))]\n",
    "    for fold in folds:\n",
    "        os.chdir(root_dir + fold + '/')\n",
    "        files = [file for file in sorted(os.listdir(os.getcwd()))]\n",
    "        dekad1 = [read_file(x) for x in files[0:10]]\n",
    "        dekad2 = [read_file(x) for x in files[10:20]]\n",
    "        dekad3 = [read_file(x) for x in files[20:]]\n",
    "        \n",
    "     # Perform averaging\n",
    "        dekad1_out = np.mean(dekad1, axis=0)\n",
    "        dekad2_out = np.mean(dekad2, axis=0)\n",
    "        dekad3_out = np.mean(dekad3, axis=0)\n",
    "\n",
    "        with rasterio.open(files[0]) as src:\n",
    "            meta = src.meta\n",
    "\n",
    "        meta.update(dtype=rasterio.float32)\n",
    "\n",
    "        # Write output file\n",
    "        with rasterio.open(out_dir + var + fold + '_01.tif', 'w', **meta) as dst:\n",
    "            dst.write(dekad1_out.astype(rasterio.float32))\n",
    "\n",
    "        with rasterio.open(out_dir + var + fold + '_02.tif', 'w', **meta) as dst:\n",
    "            dst.write(dekad2_out.astype(rasterio.float32))\n",
    "\n",
    "        with rasterio.open(out_dir + var + fold + '_03.tif', 'w', **meta) as dst:\n",
    "            dst.write(dekad3_out.astype(rasterio.float32))\n"
   ]
  },
  {
   "cell_type": "code",
   "execution_count": 3,
   "metadata": {},
   "outputs": [],
   "source": [
    "tmax_dir = '/home/rgreen/tana-spin/rgreen/DroughtEDM/Data/CHIRTS/Months/' \n",
    "out_tmax_dir = '/home/rgreen/tana-spin/rgreen/DroughtEDM/Data/CHIRTS/Dekads/'\n"
   ]
  },
  {
   "cell_type": "code",
   "execution_count": null,
   "metadata": {},
   "outputs": [],
   "source": [
    "sm_dir = '/home/rgreen/tana-spin/rgreen/DroughtEDM/Data/FLDAS_SM/Months/' \n",
    "out_sm_dir = '/home/rgreen/tana-spin/rgreen/DroughtEDM/Data/FLDAS_SM/Dekads/' "
   ]
  },
  {
   "cell_type": "code",
   "execution_count": 4,
   "metadata": {},
   "outputs": [
    {
     "name": "stderr",
     "output_type": "stream",
     "text": [
      "/home/rgreen/miniconda3/envs/edm/lib/python3.7/site-packages/numpy/core/_methods.py:151: RuntimeWarning: overflow encountered in reduce\n",
      "  ret = umr_sum(arr, axis, dtype, out, keepdims)\n"
     ]
    }
   ],
   "source": [
    "dekad_resample(tmax_dir, out_tmax_dir, var = 'Tmax_')"
   ]
  },
  {
   "cell_type": "code",
   "execution_count": null,
   "metadata": {},
   "outputs": [],
   "source": []
  }
 ],
 "metadata": {
  "kernelspec": {
   "display_name": "Python [conda env:edm]",
   "language": "python",
   "name": "conda-env-edm-py"
  },
  "language_info": {
   "codemirror_mode": {
    "name": "ipython",
    "version": 3
   },
   "file_extension": ".py",
   "mimetype": "text/x-python",
   "name": "python",
   "nbconvert_exporter": "python",
   "pygments_lexer": "ipython3",
   "version": "3.7.3"
  }
 },
 "nbformat": 4,
 "nbformat_minor": 4
}
