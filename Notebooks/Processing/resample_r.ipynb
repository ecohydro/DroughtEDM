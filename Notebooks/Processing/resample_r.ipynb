{
 "cells": [
  {
   "cell_type": "markdown",
   "metadata": {},
   "source": [
    "# Resample rasters using R raster package\n",
    "Function to take resolution of one folder of rasters and match it with another folder of rasters "
   ]
  },
  {
   "cell_type": "code",
   "execution_count": null,
   "metadata": {},
   "outputs": [],
   "source": [
    "library(raster)\n",
    "library(rgdal)"
   ]
  },
  {
   "cell_type": "code",
   "execution_count": 15,
   "metadata": {},
   "outputs": [],
   "source": [
    "sm_file<- '/home/rgreen/tana-spin/rgreen/DroughtEDM/Data/FLDAS_SM/Months/200207/LIS_HIST_200207010000.d01.tif'\n",
    "sm <- raster(sm_file)\n",
    "crs(sm)<-'+proj=longlat +datum=WGS84 +no_defs +ellps=WGS84 +towgs84=0,0,0'"
   ]
  },
  {
   "cell_type": "code",
   "execution_count": null,
   "metadata": {},
   "outputs": [],
   "source": [
    "precip_file<- '/home/rgreen/tana-spin/rgreen/DroughtEDM/Data/CHIRPS/Original/chirps-v2.0.2002.07.1.tif'\n",
    "precip <- raster(precip_file)\n",
    "crs(precip)<-'+proj=longlat +datum=WGS84 +no_defs +ellps=WGS84 +towgs84=0,0,0'"
   ]
  },
  {
   "cell_type": "code",
   "execution_count": 6,
   "metadata": {},
   "outputs": [],
   "source": [
    "chirts_path<-'/home/rgreen/tana-spin/rgreen/DroughtEDM/Data/CHIRTS/Tmax_Original/'\n",
    "chirts_files<-list.files('/home/rgreen/tana-spin/rgreen/DroughtEDM/Data/CHIRTS/Tmax_Original/')\n",
    "chirts_out_path<-'/home/rgreen/tana-spin/rgreen/DroughtEDM/Data/CHIRTS/Resampled/'"
   ]
  },
  {
   "cell_type": "code",
   "execution_count": 3,
   "metadata": {},
   "outputs": [],
   "source": [
    "chirps_path<-'/home/rgreen/tana-spin/rgreen/DroughtEDM/Data/CHIRPS/Original/'\n",
    "chirps_files<-list.files('/home/rgreen/tana-spin/rgreen/DroughtEDM/Data/CHIRPS/Original/')\n",
    "chirps_out_path<-'/home/rgreen/tana-spin/rgreen/DroughtEDM/Data/CHIRPS/Resampled2/'"
   ]
  },
  {
   "cell_type": "code",
   "execution_count": 8,
   "metadata": {},
   "outputs": [],
   "source": [
    "ndvi_path<-'/home/rgreen/tana-spin/rgreen/DroughtEDM/Data/eMODIS_NDVI/Africa/'\n",
    "ndvi_files<-list.files('/home/rgreen/tana-spin/rgreen/DroughtEDM/Data/eMODIS_NDVI/Africa/')\n",
    "ndvi_out_path <- '/home/rgreen/tana-spin/rgreen/DroughtEDM/Data/eMODIS_NDVI/Compressed/'"
   ]
  },
  {
   "cell_type": "code",
   "execution_count": 14,
   "metadata": {},
   "outputs": [],
   "source": [
    "lst_path<-'/home/rgreen/tana-spin/rgreen/DroughtEDM/Data/LST/Original/'\n",
    "lst_files<-list.files('/home/rgreen/tana-spin/rgreen/DroughtEDM/Data/LST/Original/')\n",
    "lst_out_path<-'/home/rgreen/tana-spin/rgreen/DroughtEDM/Data/LST/Resampled2/'"
   ]
  },
  {
   "cell_type": "code",
   "execution_count": null,
   "metadata": {},
   "outputs": [],
   "source": [
    "lc_2016_path<-'/home/rgreen/tana-spin/rgreen/DroughtEDM/Data/ESACCI-LC-L4-LC10-Map-20m-P1Y-2016-v1/Original/'\n",
    "lc_2016_files<-list.files('/home/rgreen/tana-spin/rgreen/DroughtEDM/Data/ESACCI-LC-L4-LC10-Map-20m-P1Y-2016-v1/Original/')\n",
    "lc_2016_out_path<-'/home/rgreen/tana-spin/rgreen/DroughtEDM/Data/ESACCI-LC-L4-LC10-Map-20m-P1Y-2016-v1/Resampled/'"
   ]
  },
  {
   "cell_type": "code",
   "execution_count": 8,
   "metadata": {},
   "outputs": [],
   "source": [
    "et_path<-'/home/rgreen/tana-spin/rgreen/DroughtEDM/Data/Hobbins_ET/Original/'\n",
    "et_files<-list.files('/home/rgreen/tana-spin/rgreen/DroughtEDM/Data/Hobbins_ET/Original/')\n",
    "et_out_path<-'/home/rgreen/tana-spin/rgreen/DroughtEDM/Data/Hobbins_ET/Resampled2/'"
   ]
  },
  {
   "cell_type": "code",
   "execution_count": 9,
   "metadata": {},
   "outputs": [],
   "source": [
    "resample_rasters<-function(in_files, in_path, y_raster, out_path, na_value) {\n",
    "\n",
    "    for (i in 1:length(in_files)) {\n",
    "        print(i)\n",
    "        r<-raster(paste0(in_path, in_files[i]))\n",
    "        crs(r)<-\"+proj=longlat +datum=WGS84 +no_defs +ellps=WGS84 +towgs84=0,0,0\"\n",
    "        r[r == na_value] <- NA\n",
    "        rs<-resample(r, y_raster, method='bilinear')\n",
    "        crs(rs)<-\"+proj=longlat +datum=WGS84 +no_defs +ellps=WGS84 +towgs84=0,0,0\" \n",
    "        rr<-writeRaster(rs, filename = paste0(out_path, 'c_', in_files[i]), format='GTiff', overwrite=TRUE)\n",
    "    }}"
   ]
  },
  {
   "cell_type": "code",
   "execution_count": null,
   "metadata": {},
   "outputs": [
    {
     "name": "stdout",
     "output_type": "stream",
     "text": [
      "[1] 1\n"
     ]
    },
    {
     "name": "stderr",
     "output_type": "stream",
     "text": [
      "Warning message in writeBin(v, x@file@con, size = x@file@dsize):\n",
      "“problem writing to connection”Warning message in writeBin(v, x@file@con, size = x@file@dsize):\n",
      "“problem writing to connection”Warning message in writeBin(v, x@file@con, size = x@file@dsize):\n",
      "“problem writing to connection”Warning message in writeBin(v, x@file@con, size = x@file@dsize):\n",
      "“problem writing to connection”Warning message in writeBin(v, x@file@con, size = x@file@dsize):\n",
      "“problem writing to connection”Warning message in writeBin(v, x@file@con, size = x@file@dsize):\n",
      "“problem writing to connection”Warning message in writeBin(v, x@file@con, size = x@file@dsize):\n",
      "“problem writing to connection”"
     ]
    }
   ],
   "source": [
    "resample_rasters(ndvi_files, ndvi_path, precip, ndvi_out_path, -9.9990000e+03)"
   ]
  },
  {
   "cell_type": "code",
   "execution_count": null,
   "metadata": {},
   "outputs": [],
   "source": []
  }
 ],
 "metadata": {
  "kernelspec": {
   "display_name": "R [conda env:r_env]",
   "language": "R",
   "name": "conda-env-r_env-r"
  },
  "language_info": {
   "codemirror_mode": "r",
   "file_extension": ".r",
   "mimetype": "text/x-r-source",
   "name": "R",
   "pygments_lexer": "r",
   "version": "3.6.1"
  }
 },
 "nbformat": 4,
 "nbformat_minor": 4
}
