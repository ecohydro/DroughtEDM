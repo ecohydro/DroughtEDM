{
 "cells": [
  {
   "cell_type": "code",
   "execution_count": 3,
   "metadata": {},
   "outputs": [],
   "source": [
    "import pandas as pd\n",
    "import numpy as np\n",
    "import rasterio\n",
    "import os\n",
    "from osgeo import gdal, gdalconst"
   ]
  },
  {
   "cell_type": "code",
   "execution_count": 1,
   "metadata": {},
   "outputs": [],
   "source": [
    "ndvi_dir = '/home/rgreen/tana-spin/rgreen/DroughtEDM/Data/eMODIS_NDVI/Africa/'\n",
    "ndvi_comp_dir = '/home/rgreen/tana-spin/rgreen/DroughtEDM/Data/eMODIS_NDVI/Compressed/'\n",
    "ndvi_file = '/home/rgreen/tana-spin/rgreen/DroughtEDM/Data/eMODIS_NDVI/Compressed/c_data.2002.071.tif'\n",
    "ndvi_ea = '/home/rgreen/tana-spin/rgreen/DroughtEDM/Data/eMODIS_NDVI/EA/'\n",
    "ndvi_extra = '/home/rgreen/tana-spin/rgreen/DroughtEDM/Data/eMODIS_NDVI/Extra/'\n",
    "\n",
    "lst_dir = '/home/rgreen/tana-spin/rgreen/DroughtEDM/Data/LST/Original/'\n",
    "lst_comp_dir = '/home/rgreen/tana-spin/rgreen/DroughtEDM/Data/LST/Compressed/'\n",
    "lst_file = '/home/rgreen/tana-spin/rgreen/DroughtEDM/Data/LST/Original/data.2002.071.tif'\n",
    "lst_ea = '/home/rgreen/tana-spin/rgreen/DroughtEDM/Data/LST/EA/'\n",
    "lst_extra = '/home/rgreen/tana-spin/rgreen/DroughtEDM/Data/LST/Extra/'\n",
    "\n",
    "precip_dir = '/home/rgreen/tana-spin/rgreen/DroughtEDM/Data/CHIRPS/Original/'\n",
    "precip_comp_dir = '/home/rgreen/tana-spin/rgreen/DroughtEDM/Data/CHIRPS/Compressed/'\n",
    "precip_file = '/home/rgreen/tana-spin/rgreen/DroughtEDM/Data/CHIRPS/Original/chirps-v2.0.2002.07.1.tif'\n",
    "precip_ea = '/home/rgreen/tana-spin/rgreen/DroughtEDM/Data/CHIRPS/EA/'\n",
    "precip_extra = '/home/rgreen/tana-spin/rgreen/DroughtEDM/Data/CHIRPS/Extra/'\n",
    "\n",
    "sm_dir = '/home/rgreen/tana-spin/rgreen/DroughtEDM/Data/FLDAS_SM/'\n",
    "sm_ea = '/home/rgreen/tana-spin/rgreen/DroughtEDM/Data/FLDAS_SM/EA/'\n",
    "\n",
    "refET_dir = '/home/rgreen/tana-spin/rgreen/DroughtEDM/Data/Hobbins_ET/Original/'\n",
    "refET_ea = '/home/rgreen/tana-spin/rgreen/DroughtEDM/Data/Hobbins_ET/EA/'"
   ]
  },
  {
   "cell_type": "code",
   "execution_count": 3,
   "metadata": {},
   "outputs": [],
   "source": [
    "lc_2016 = '/home/rgreen/tana-spin/rgreen/DroughtEDM/Data/ESACCI_2016/original/'\n",
    "lc_ea_2016 = '/home/rgreen/tana-spin/rgreen/DroughtEDM/Data/ESACCI_2016/EA/'"
   ]
  },
  {
   "cell_type": "code",
   "execution_count": 4,
   "metadata": {},
   "outputs": [],
   "source": [
    "lc_02_15 = '/home/rgreen/tana-spin/rgreen/DroughtEDM/Data/ESACCI-LC-L4-LCCS-Map-300m-P1Y/Original/'\n",
    "lc_02_15_ea = '/home/rgreen/tana-spin/rgreen/DroughtEDM/Data/ESACCI-LC-L4-LCCS-Map-300m-P1Y/Resampled_05/'"
   ]
  },
  {
   "cell_type": "code",
   "execution_count": 13,
   "metadata": {},
   "outputs": [],
   "source": [
    "elevation = '/home/rgreen/DroughtEDM/Data/Elevation/'\n"
   ]
  },
  {
   "cell_type": "code",
   "execution_count": 5,
   "metadata": {},
   "outputs": [],
   "source": [
    "SM_dekads = '/home/rgreen/tana-spin/rgreen/DroughtEDM/Data/FLDAS_SM/Dekads/'\n",
    "SM_EA10 = '/home/rgreen/tana-spin/rgreen/DroughtEDM/Data/FLDAS_SM/EA10/'\n",
    "SM_EA40 = '/home/rgreen/tana-spin/rgreen/DroughtEDM/Data/FLDAS_SM/EA40/'\n",
    "SM_EA100 = '/home/rgreen/tana-spin/rgreen/DroughtEDM/Data/FLDAS_SM/EA100/'\n",
    "SM_EA200 = '/home/rgreen/tana-spin/rgreen/DroughtEDM/Data/FLDAS_SM/EA200/'"
   ]
  },
  {
   "cell_type": "code",
   "execution_count": 6,
   "metadata": {},
   "outputs": [],
   "source": [
    "def resample(in_dir, ref_file, out_dir, prefix):\n",
    "    \n",
    "    '''\n",
    "    This function resamples rasters in a directory given a reference file's pixel size, projection and extent and creates new files in an out directory.\n",
    "    '''\n",
    "    \n",
    "    files=np.array(sorted(os.listdir(in_dir)))\n",
    "    tifs = pd.Series(files).str.contains('.tif')\n",
    "    files = files[tifs]\n",
    "    \n",
    "    for filename in files:\n",
    "        \n",
    "        base = os.path.splitext(filename)[0]\n",
    "        #print(base)\n",
    "        inputfile = in_dir + filename\n",
    "        input = gdal.Open(inputfile, gdalconst.GA_ReadOnly)\n",
    "        inputProj = input.GetProjection()\n",
    "        inputTrans = input.GetGeoTransform()\n",
    "\n",
    "        referencefile = ref_file\n",
    "        reference = gdal.Open(referencefile, gdalconst.GA_ReadOnly)\n",
    "        referenceProj = reference.GetProjection()\n",
    "        referenceTrans = reference.GetGeoTransform()\n",
    "        bandreference = reference.GetRasterBand(1)\n",
    "        \n",
    "        \n",
    "#         x = reference.RasterXSize \n",
    "#         y = reference.RasterYSize\n",
    "        \n",
    "        x = 583\n",
    "        y = 674\n",
    "\n",
    "\n",
    "        outputfile = out_dir + prefix + base + '.tif' #change output file name for each variable\n",
    "        driver= gdal.GetDriverByName('GTiff')\n",
    "        output = driver.Create(outputfile,x,y,1,bandreference.DataType)\n",
    "        \n",
    "        output.SetGeoTransform((22, 0.05, 0.0, 22, 0.0, -0.05)) #edited here to get certain extent \n",
    "        output.SetProjection(referenceProj)\n",
    "        \n",
    "        gdal.ReprojectImage(input,output,inputProj,referenceProj,gdalconst.GRA_Bilinear)#GRA_Bilinear #NearestNeighbour\n",
    "\n",
    "        del output"
   ]
  },
  {
   "cell_type": "code",
   "execution_count": 7,
   "metadata": {},
   "outputs": [],
   "source": [
    "resample(sm_dir + 'A10/', ndvi_file, SM_EA10, 'ea_')"
   ]
  },
  {
   "cell_type": "code",
   "execution_count": 8,
   "metadata": {},
   "outputs": [],
   "source": [
    "resample(sm_dir + 'A40/', ndvi_file, SM_EA40, 'ea_')"
   ]
  },
  {
   "cell_type": "code",
   "execution_count": 153,
   "metadata": {},
   "outputs": [],
   "source": [
    "resample(sm_dir + 'A100/', ndvi_file, SM_EA100, 'ea_')"
   ]
  },
  {
   "cell_type": "code",
   "execution_count": 154,
   "metadata": {},
   "outputs": [],
   "source": [
    "resample(sm_dir + 'A200/', ndvi_file, SM_EA200, 'ea_')"
   ]
  },
  {
   "cell_type": "code",
   "execution_count": 9,
   "metadata": {},
   "outputs": [],
   "source": [
    "#resample(lc_2016, ndvi_file, lc_ea_2016, 'EA_')"
   ]
  },
  {
   "cell_type": "code",
   "execution_count": null,
   "metadata": {},
   "outputs": [],
   "source": [
    "#resample(refET_dir, ndvi_file, refET_ea, 'ea_')"
   ]
  },
  {
   "cell_type": "code",
   "execution_count": 15,
   "metadata": {},
   "outputs": [
    {
     "name": "stdout",
     "output_type": "stream",
     "text": [
      "etopo30\n"
     ]
    }
   ],
   "source": [
    "resample(elevation, ndvi_file, elevation, 'ea_')"
   ]
  },
  {
   "cell_type": "code",
   "execution_count": 10,
   "metadata": {},
   "outputs": [
    {
     "name": "stdout",
     "output_type": "stream",
     "text": [
      "ESACCI-LC-L4-LCCS-Map-300m-P1Y-2002-v2.0.7\n",
      "ESACCI-LC-L4-LCCS-Map-300m-P1Y-2003-v2.0.7\n",
      "ESACCI-LC-L4-LCCS-Map-300m-P1Y-2004-v2.0.7\n",
      "ESACCI-LC-L4-LCCS-Map-300m-P1Y-2005-v2.0.7\n",
      "ESACCI-LC-L4-LCCS-Map-300m-P1Y-2006-v2.0.7\n",
      "ESACCI-LC-L4-LCCS-Map-300m-P1Y-2007-v2.0.7\n",
      "ESACCI-LC-L4-LCCS-Map-300m-P1Y-2008-v2.0.7\n",
      "ESACCI-LC-L4-LCCS-Map-300m-P1Y-2009-v2.0.7\n",
      "ESACCI-LC-L4-LCCS-Map-300m-P1Y-2010-v2.0.7\n",
      "ESACCI-LC-L4-LCCS-Map-300m-P1Y-2011-v2.0.7\n",
      "ESACCI-LC-L4-LCCS-Map-300m-P1Y-2012-v2.0.7\n",
      "ESACCI-LC-L4-LCCS-Map-300m-P1Y-2013-v2.0.7\n",
      "ESACCI-LC-L4-LCCS-Map-300m-P1Y-2014-v2.0.7\n",
      "ESACCI-LC-L4-LCCS-Map-300m-P1Y-2015-v2.0.7\n"
     ]
    }
   ],
   "source": [
    "resample(lc_02_15, ndvi_file, lc_02_15_ea, 'EA_')"
   ]
  },
  {
   "cell_type": "code",
   "execution_count": 15,
   "metadata": {},
   "outputs": [],
   "source": [
    "#set all 0's to nan in NDVI files\n",
    "#set all -9999 to nan in precip and lst files\n",
    "\n",
    "def reassign_mask_npnan(in_dir):\n",
    "\n",
    "    files=np.array(sorted(os.listdir(in_dir)))\n",
    "    tifs = pd.Series(files).str.contains('.tif')\n",
    "    files = files[tifs]\n",
    "    \n",
    "        \n",
    "    for filename in files:\n",
    "        with rasterio.open(in_dir+filename, 'r+') as ds:\n",
    "            print(filename)\n",
    "            a = ds.read()# read all raster values\n",
    "            a[a == -9999 ] = np.nan  \n",
    "            ds.write(a)"
   ]
  },
  {
   "cell_type": "code",
   "execution_count": null,
   "metadata": {},
   "outputs": [],
   "source": [
    "reassign_mask_npnan(precip_ea)"
   ]
  },
  {
   "cell_type": "code",
   "execution_count": null,
   "metadata": {},
   "outputs": [],
   "source": [
    "#reassign_mask_npnan(refET_ea)\n",
    "#a < -999"
   ]
  },
  {
   "cell_type": "code",
   "execution_count": null,
   "metadata": {},
   "outputs": [],
   "source": []
  },
  {
   "cell_type": "code",
   "execution_count": 3,
   "metadata": {},
   "outputs": [],
   "source": [
    "def crop_extent(in_dir, out_dir, prefix):\n",
    "    \n",
    "    '''\n",
    "    This function resamples rasters in a directory given a reference file's pixel size, projection and extent and creates new files in an out directory.\n",
    "    '''\n",
    "    \n",
    "    files=np.array(sorted(os.listdir(in_dir)))\n",
    "    tifs = pd.Series(files).str.contains('.tif')\n",
    "    files = files[tifs]\n",
    "    \n",
    "    for filename in files:\n",
    "        \n",
    "        base = os.path.splitext(filename)[0]\n",
    "        new_base = base[:8] + '_' + base[9:]\n",
    "        print(new_base)\n",
    "        original = gdal.Open(in_dir + filename, gdalconst.GA_ReadOnly)\n",
    "        originalProj = original.GetProjection()\n",
    "        originalband = original.GetRasterBand(1)\n",
    "        \n",
    "        x = 583\n",
    "        y = 674\n",
    "\n",
    "\n",
    "        outputfile = out_dir + prefix + new_base + '.tif' #change output file name for each variable\n",
    "        driver= gdal.GetDriverByName('GTiff')\n",
    "        output = driver.Create(outputfile,x,y,1, originalband.DataType)\n",
    "        output.SetGeoTransform((22, 0.05, 0.0, 22, 0.0, -0.05)) #edited here to get certain extent \n",
    "        output.SetProjection(originalProj)\n",
    "        \n",
    "        gdal.ReprojectImage(original,output,originalProj,originalProj,gdalconst.GRA_Bilinear)\n",
    "      \n",
    "         \n",
    "\n",
    "        del output"
   ]
  },
  {
   "cell_type": "code",
   "execution_count": 18,
   "metadata": {},
   "outputs": [],
   "source": [
    "ETos_p05 = '/home/rgreen/tana-spin/rgreen/DroughtEDM/Data/Hobbins_ET/ETos_p05/'\n",
    "ETos_p05_EA = '/home/rgreen/tana-spin/rgreen/DroughtEDM/Data/Hobbins_ET/ETos_p05_EA/'"
   ]
  },
  {
   "cell_type": "code",
   "execution_count": null,
   "metadata": {},
   "outputs": [],
   "source": [
    "crop_extent(ETos_p05, ETos_p05_EA,'ea_')"
   ]
  },
  {
   "cell_type": "code",
   "execution_count": 1,
   "metadata": {},
   "outputs": [],
   "source": []
  },
  {
   "cell_type": "code",
   "execution_count": null,
   "metadata": {},
   "outputs": [],
   "source": []
  },
  {
   "cell_type": "code",
   "execution_count": 127,
   "metadata": {},
   "outputs": [],
   "source": [
    "def add_sm_layers(in_dir):\n",
    "    \n",
    "    files=np.array(sorted(os.listdir(in_dir + 'Dekads/')))\n",
    "    tifs = pd.Series(files).str.contains('.tif')\n",
    "    files = files[tifs]\n",
    "    \n",
    "    for filename in files:\n",
    "        open_file = rasterio.open(in_dir + 'Dekads/' + filename)\n",
    "        base = os.path.splitext(filename)[0]\n",
    "        #print(base)\n",
    "        meta = open_file.meta\n",
    "        meta.update({'count': 1})\n",
    "        #print(meta)\n",
    "        layer_1 = open_file.read(1)\n",
    "        layer_2 = open_file.read(2)\n",
    "        layer_3 = open_file.read(3)\n",
    "        layer_4 = open_file.read(4)\n",
    "        \n",
    "        with rasterio.open(fldas_sm_dir + 'A10/' + '10_' + base + '.tif', 'w', **meta) as dst:\n",
    "            sm_10 = layer_1\n",
    "            dst.write(sm_10, 1)\n",
    "        with rasterio.open(fldas_sm_dir + 'A40/' + '40_' + base + '.tif', 'w', **meta) as dst:\n",
    "            sm_40 = layer_1 + layer_2\n",
    "            dst.write(sm_40, 1)\n",
    "        with rasterio.open(fldas_sm_dir + 'A100/' + '100_' + base + '.tif', 'w', **meta) as dst:\n",
    "            sm_100 = layer_1 + layer_2 + layer_3\n",
    "            dst.write(sm_100, 1)\n",
    "        with rasterio.open(fldas_sm_dir + 'A200/' + '200_' + base + '.tif', 'w', **meta) as dst:\n",
    "            sm_200 = layer_1 + layer_2 + layer_3 + layer_4\n",
    "            dst.write(sm_200, 1)\n"
   ]
  },
  {
   "cell_type": "code",
   "execution_count": 129,
   "metadata": {},
   "outputs": [],
   "source": [
    "add_sm_layers(sm_dir)"
   ]
  }
 ],
 "metadata": {
  "kernelspec": {
   "display_name": "Python [conda env:edm]",
   "language": "python",
   "name": "conda-env-edm-py"
  },
  "language_info": {
   "codemirror_mode": {
    "name": "ipython",
    "version": 3
   },
   "file_extension": ".py",
   "mimetype": "text/x-python",
   "name": "python",
   "nbconvert_exporter": "python",
   "pygments_lexer": "ipython3",
   "version": "3.7.3"
  }
 },
 "nbformat": 4,
 "nbformat_minor": 4
}
