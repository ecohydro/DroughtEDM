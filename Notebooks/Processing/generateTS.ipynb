{
 "cells": [
  {
   "cell_type": "markdown",
   "metadata": {},
   "source": [
    "# generateTS\n",
    "1. Extracting values from a raster for a single given pixel\n",
    "2. Reorganize final time series output from zonal stats into dataframe for analysis \n",
    "3. Normalize TS for EDM analysis\n",
    "4. Decompose Seasonality TS\n",
    "5. Code snippets for working with netCDFs"
   ]
  },
  {
   "cell_type": "code",
   "execution_count": 6,
   "metadata": {},
   "outputs": [],
   "source": [
    "import os\n",
    "import xarray as xr\n",
    "import cartopy.crs as ccrs\n",
    "import numpy as np\n",
    "import pandas as pd\n",
    "import rasterio as rio\n",
    "from rasterio.mask import mask\n",
    "from rasterio.plot import show\n",
    "from rasterio.plot import show_hist\n",
    "from rasterio.warp import calculate_default_transform, reproject, Resampling\n",
    "from rasterio.windows import Window\n",
    "from rasterio.merge import merge\n",
    "from rasterio import features\n",
    "from matplotlib import pyplot as plt\n",
    "import geopandas as gpd\n",
    "import glob\n",
    "import sys\n",
    "import re\n",
    "import pandas as pd\n",
    "import netCDF4\n",
    "from datetime import datetime\n",
    "from sklearn.preprocessing import scale\n",
    "from scipy.interpolate import UnivariateSpline\n",
    "from statsmodels.nonparametric.smoothers_lowess import lowess\n",
    "from statsmodels.tsa.seasonal import seasonal_decompose"
   ]
  },
  {
   "cell_type": "markdown",
   "metadata": {},
   "source": [
    "# 1. Extract data for one pixel and create time series dataframe"
   ]
  },
  {
   "cell_type": "code",
   "execution_count": 3,
   "metadata": {},
   "outputs": [],
   "source": [
    "#extract pixel value from one coordinate location\n",
    "#following functions for FLDAS soil moisture, eMODIS NDVI, and CHIRPS precip\n",
    "\n",
    "def extractValueSM(nc_dir, lev, lat, long):\n",
    "    files = np.array(os.listdir(nc_dir))\n",
    "    netcdfs = pd.Series(files).str.contains('.nc')\n",
    "    files = files[netcdfs]\n",
    "    output = []\n",
    "  \n",
    "    for filename in files: \n",
    "        data = xr.open_dataset(nc_dir + filename)\n",
    "        val = data.SoilMoist_tavg[lev, int((np.abs(data.Y - lat)).argmin()),int((np.abs(data.X - long)).argmin())]\n",
    "        output.append(float(val.values))\n",
    "    return np.asarray(output)\n",
    "\n",
    "def extractValueNDVI(tiff_dir, long, lat):\n",
    "    files = np.array(os.listdir(tiff_dir))\n",
    "    tiffs = pd.Series(files).str.contains('.tiff')\n",
    "    files = files[tiffs]\n",
    "    result = []\n",
    "    \n",
    "    for filename in files: \n",
    "        data = rio.open(tiff_dir + filename)\n",
    "        val = data.sample([long,lat])\n",
    "        for val in data.sample([(long,lat)]):\n",
    "            vals = ((val-100)/100)\n",
    "        result.append(*vals)    \n",
    "    return np.asarray(result)\n",
    "        \n",
    "def extractValueCHIRPS(tiff_dir, long, lat):\n",
    "    files = np.array(os.listdir(tiff_dir))\n",
    "    tiffs = pd.Series(files).str.contains('.tif')\n",
    "    files = files[tiffs]\n",
    "    result = []\n",
    "    \n",
    "    for filename in files: \n",
    "        data = rio.open(tiff_dir + filename)\n",
    "        val = data.sample([long,lat])\n",
    "        for val in data.sample([(long,lat)]):\n",
    "            vals = val\n",
    "        result.append(*vals)    \n",
    "    return np.asarray(result)\n",
    "\n",
    "#create a raster stack with xarray\n",
    "\n",
    "def stackTiffs(tiff_dir):\n",
    "    files = np.array(os.listdir(tiff_dir))\n",
    "    tiffs = pd.Series(files).str.contains('.tif')\n",
    "    files = files[tiffs]\n",
    "    tiflist = []\n",
    "    \n",
    "    for filename in files:\n",
    "        data = xr.open_rasterio(tiff_dir + filename)\n",
    "        tiflist.append(data)\n",
    "        stacked = xr.concat(tiflist, dim=pd.Index(dekads, name = 'time'))\n",
    "    return stacked\n",
    "        \n",
    "    "
   ]
  },
  {
   "cell_type": "code",
   "execution_count": null,
   "metadata": {
    "scrolled": true
   },
   "outputs": [],
   "source": [
    "soil_dir = '/home/rgreen/tana-spin/rgreen/DroughtEDM/Data/FLDAS/'\n",
    "ndvi_dir = '/home/rgreen/tana-spin/rgreen/DroughtEDM/Data/eMODIS_NDVI/EWXCropsMask/'\n",
    "chirps_dir = '/home/rgreen/tana-spin/rgreen/DroughtEDM/Data/CHIRPS/'\n",
    "sm_level = 0\n",
    "long = 38.87\n",
    "lat = 4.21\n"
   ]
  },
  {
   "cell_type": "code",
   "execution_count": null,
   "metadata": {},
   "outputs": [],
   "source": [
    "soil = extractValueSM(soil_dir, sm_level, lat, long) #coordinates in Y, X, specify soil level\n",
    "ndvi = extractValueNDVI(ndvi_dir, long, lat) #coordinates in X,Y\n",
    "chirps = extractValueCHIRPS(chirps_dir, long, lat)"
   ]
  },
  {
   "cell_type": "code",
   "execution_count": 12,
   "metadata": {},
   "outputs": [],
   "source": [
    "#Establish date period\n",
    "begin = pd.datetime(2002,7,1)\n",
    "end = pd.datetime(2016,12,31)\n",
    "\n",
    "dtrange = pd.date_range(begin, end)"
   ]
  },
  {
   "cell_type": "code",
   "execution_count": null,
   "metadata": {},
   "outputs": [],
   "source": [
    "#Create Dataframe for one pixel time series\n",
    "daily = pd.DataFrame({'Soil Moisture': soil}, index=dtrange) #create dataframe\n",
    "\n",
    "d = daily.index.day - np.clip((daily.index.day-1) // 10, 0, 2)*10 - 1 #convert daily SM values to dekadal\n",
    "date = daily.index.values - np.array(d, dtype=\"timedelta64[D]\")\n",
    "TS = daily.groupby(date).mean()\n",
    "TS.index.names = ['Date']\n",
    "TS['NDVI'] = ndvi\n",
    "TS['CHIRPS'] = chirps"
   ]
  },
  {
   "cell_type": "code",
   "execution_count": null,
   "metadata": {},
   "outputs": [],
   "source": [
    "#export to csv \n",
    "TS.to_csv(r'/home/rgreen/tana-spin/rgreen/DroughtEDM/TS_3887_421.csv') "
   ]
  },
  {
   "cell_type": "code",
   "execution_count": 13,
   "metadata": {},
   "outputs": [
    {
     "data": {
      "text/plain": [
       "DatetimeIndex(['2002-07-01', '2002-07-11', '2002-07-21', '2002-08-01',\n",
       "               '2002-08-11', '2002-08-21', '2002-09-01', '2002-09-11',\n",
       "               '2002-09-21', '2002-10-01',\n",
       "               ...\n",
       "               '2016-09-21', '2016-10-01', '2016-10-11', '2016-10-21',\n",
       "               '2016-11-01', '2016-11-11', '2016-11-21', '2016-12-01',\n",
       "               '2016-12-11', '2016-12-21'],\n",
       "              dtype='datetime64[ns]', length=522, freq=None)"
      ]
     },
     "execution_count": 13,
     "metadata": {},
     "output_type": "execute_result"
    }
   ],
   "source": [
    "#create list of dekads as datetime objects\n",
    "days = list(range(0,5298)) #length of dtrange\n",
    "daysDF = pd.DataFrame({'Days': days}, index=dtrange)\n",
    "d = daysDF.index.day - np.clip((daysDF.index.day-1) // 10, 0, 2)*10 - 1 #convert daily SM values to dekadal\n",
    "dekaddates = daysDF.index.values - np.array(d, dtype=\"timedelta64[D]\")\n",
    "dekads = daysDF.groupby(dekaddates).mean()\n",
    "dekads = dekads.index\n",
    "\n",
    "dekads"
   ]
  },
  {
   "cell_type": "markdown",
   "metadata": {},
   "source": [
    "# 2. Reorganize final time series output from zonal stats into dataframe for analysis \n",
    "admin zone differentiated by land cover"
   ]
  },
  {
   "cell_type": "code",
   "execution_count": 2,
   "metadata": {},
   "outputs": [],
   "source": [
    "oromia_savannas = pd.read_csv('/home/rgreen/tana-spin/rgreen/DroughtEDM/Data/Final_TS/oromia/oromia_savannas.csv')\n",
    "oromia_grasslands =  pd.read_csv('/home/rgreen/tana-spin/rgreen/DroughtEDM/Data/Final_TS/oromia/oromia_grasslands.csv')\n",
    "oromia_evergreenbroad = pd.read_csv('/home/rgreen/tana-spin/rgreen/DroughtEDM/Data/Final_TS/oromia/oromia_evergreenbroad.csv')\n",
    "oromia_deciduousbroad = pd.read_csv('/home/rgreen/tana-spin/rgreen/DroughtEDM/Data/Final_TS/oromia/oromia_deciduousbroad.csv')\n",
    "oromia_cropnatveg = pd.read_csv('/home/rgreen/tana-spin/rgreen/DroughtEDM/Data/Final_TS/oromia/oromia_cropnatveg.csv')\n",
    "oromia_croplands = pd.read_csv('/home/rgreen/tana-spin/rgreen/DroughtEDM/Data/Final_TS/oromia/oromia_croplands.csv')\n",
    "oromia_woodysavannas = pd.read_csv('/home/rgreen/tana-spin/rgreen/DroughtEDM/Data/Final_TS/oromia/oromia_woodysavannas.csv')\n",
    "oromia_barren = pd.read_csv('/home/rgreen/tana-spin/rgreen/DroughtEDM/Data/Final_TS/oromia/oromia_barren.csv')\n",
    "oromia_closedshrublands = pd.read_csv('/home/rgreen/tana-spin/rgreen/DroughtEDM/Data/Final_TS/oromia/oromia_closedshrublands.csv')\n"
   ]
  },
  {
   "cell_type": "code",
   "execution_count": 3,
   "metadata": {
    "scrolled": true
   },
   "outputs": [],
   "source": [
    "#oromia_cropland = africa_adm_cropland[africa_adm_cropland.ADM1_NAME == 'Oromia']\n",
    "#oromia_cropland_vals = oromia_cropland.iloc[0,15:].values\n",
    "oromia_lc_vals = oromia_savannas.iloc[0,11:].values\n",
    "\n"
   ]
  },
  {
   "cell_type": "code",
   "execution_count": 4,
   "metadata": {},
   "outputs": [
    {
     "data": {
      "text/plain": [
       "array([0.3673056427126604, 0.3767822684094124, 0.38143151512119616, ...,\n",
       "       39.23776441623567, 40.180809765796496, 46.873284914308044],\n",
       "      dtype=object)"
      ]
     },
     "execution_count": 4,
     "metadata": {},
     "output_type": "execute_result"
    }
   ],
   "source": [
    "oromia_lc_vals"
   ]
  },
  {
   "cell_type": "code",
   "execution_count": 5,
   "metadata": {},
   "outputs": [
    {
     "data": {
      "text/plain": [
       "3132"
      ]
     },
     "execution_count": 5,
     "metadata": {},
     "output_type": "execute_result"
    }
   ],
   "source": [
    "len(oromia_lc_vals)"
   ]
  },
  {
   "cell_type": "code",
   "execution_count": null,
   "metadata": {},
   "outputs": [],
   "source": [
    "oromia_lc_chunks = np.array_split(oromia_lc_vals, 6)\n"
   ]
  },
  {
   "cell_type": "code",
   "execution_count": 10,
   "metadata": {},
   "outputs": [],
   "source": [
    "SM_ts = oromia_lc_chunks[0].tolist()\n",
    "TMP_ts = oromia_lc_chunks[1].tolist()\n",
    "P_ts = oromia_lc_chunks[2].tolist()\n",
    "LST_ts = oromia_lc_chunks[3].tolist()\n",
    "NDVI_ts = oromia_lc_chunks[4].tolist()\n",
    "RefET_ts = oromia_lc_chunks[5].tolist()"
   ]
  },
  {
   "cell_type": "code",
   "execution_count": 14,
   "metadata": {},
   "outputs": [],
   "source": [
    "oromia_df = pd.DataFrame({'SM': SM_ts,\n",
    "                   'TMP': TMP_ts,\n",
    "                   'P':P_ts,\n",
    "                   'LST':LST_ts,\n",
    "                   'NDVI':NDVI_ts,\n",
    "                   'RefET':RefET_ts\n",
    "                  }, index=pd.to_datetime(dekads))"
   ]
  },
  {
   "cell_type": "code",
   "execution_count": 15,
   "metadata": {},
   "outputs": [],
   "source": [
    "oromia_df.index.name = 'Time'"
   ]
  },
  {
   "cell_type": "code",
   "execution_count": 16,
   "metadata": {
    "scrolled": true
   },
   "outputs": [
    {
     "data": {
      "text/html": [
       "<div>\n",
       "<style scoped>\n",
       "    .dataframe tbody tr th:only-of-type {\n",
       "        vertical-align: middle;\n",
       "    }\n",
       "\n",
       "    .dataframe tbody tr th {\n",
       "        vertical-align: top;\n",
       "    }\n",
       "\n",
       "    .dataframe thead th {\n",
       "        text-align: right;\n",
       "    }\n",
       "</style>\n",
       "<table border=\"1\" class=\"dataframe\">\n",
       "  <thead>\n",
       "    <tr style=\"text-align: right;\">\n",
       "      <th></th>\n",
       "      <th>SM</th>\n",
       "      <th>TMP</th>\n",
       "      <th>P</th>\n",
       "      <th>LST</th>\n",
       "      <th>NDVI</th>\n",
       "      <th>RefET</th>\n",
       "    </tr>\n",
       "    <tr>\n",
       "      <th>Time</th>\n",
       "      <th></th>\n",
       "      <th></th>\n",
       "      <th></th>\n",
       "      <th></th>\n",
       "      <th></th>\n",
       "      <th></th>\n",
       "    </tr>\n",
       "  </thead>\n",
       "  <tbody>\n",
       "    <tr>\n",
       "      <td>2002-07-01</td>\n",
       "      <td>0.367306</td>\n",
       "      <td>25.667034</td>\n",
       "      <td>72.091222</td>\n",
       "      <td>25.931655</td>\n",
       "      <td>164.462710</td>\n",
       "      <td>36.863949</td>\n",
       "    </tr>\n",
       "    <tr>\n",
       "      <td>2002-07-11</td>\n",
       "      <td>0.376782</td>\n",
       "      <td>25.805816</td>\n",
       "      <td>64.408739</td>\n",
       "      <td>25.576955</td>\n",
       "      <td>163.949850</td>\n",
       "      <td>36.457306</td>\n",
       "    </tr>\n",
       "    <tr>\n",
       "      <td>2002-07-21</td>\n",
       "      <td>0.381432</td>\n",
       "      <td>24.380145</td>\n",
       "      <td>86.624472</td>\n",
       "      <td>24.891076</td>\n",
       "      <td>161.293604</td>\n",
       "      <td>38.931309</td>\n",
       "    </tr>\n",
       "    <tr>\n",
       "      <td>2002-08-01</td>\n",
       "      <td>0.376521</td>\n",
       "      <td>23.789801</td>\n",
       "      <td>49.628076</td>\n",
       "      <td>25.387005</td>\n",
       "      <td>161.850842</td>\n",
       "      <td>32.705358</td>\n",
       "    </tr>\n",
       "    <tr>\n",
       "      <td>2002-08-11</td>\n",
       "      <td>0.375552</td>\n",
       "      <td>24.356970</td>\n",
       "      <td>48.229114</td>\n",
       "      <td>25.387005</td>\n",
       "      <td>164.563473</td>\n",
       "      <td>35.516998</td>\n",
       "    </tr>\n",
       "    <tr>\n",
       "      <td>...</td>\n",
       "      <td>...</td>\n",
       "      <td>...</td>\n",
       "      <td>...</td>\n",
       "      <td>...</td>\n",
       "      <td>...</td>\n",
       "      <td>...</td>\n",
       "    </tr>\n",
       "    <tr>\n",
       "      <td>2016-11-11</td>\n",
       "      <td>0.339732</td>\n",
       "      <td>27.388344</td>\n",
       "      <td>4.922298</td>\n",
       "      <td>29.329275</td>\n",
       "      <td>170.214793</td>\n",
       "      <td>41.253813</td>\n",
       "    </tr>\n",
       "    <tr>\n",
       "      <td>2016-11-21</td>\n",
       "      <td>0.336524</td>\n",
       "      <td>27.301284</td>\n",
       "      <td>13.740361</td>\n",
       "      <td>28.196315</td>\n",
       "      <td>166.996055</td>\n",
       "      <td>35.936080</td>\n",
       "    </tr>\n",
       "    <tr>\n",
       "      <td>2016-12-01</td>\n",
       "      <td>0.323141</td>\n",
       "      <td>27.624976</td>\n",
       "      <td>6.572077</td>\n",
       "      <td>30.640335</td>\n",
       "      <td>163.677652</td>\n",
       "      <td>39.237764</td>\n",
       "    </tr>\n",
       "    <tr>\n",
       "      <td>2016-12-11</td>\n",
       "      <td>0.284039</td>\n",
       "      <td>28.394380</td>\n",
       "      <td>3.223298</td>\n",
       "      <td>31.810218</td>\n",
       "      <td>160.120307</td>\n",
       "      <td>40.180810</td>\n",
       "    </tr>\n",
       "    <tr>\n",
       "      <td>2016-12-21</td>\n",
       "      <td>0.254384</td>\n",
       "      <td>29.468017</td>\n",
       "      <td>3.263930</td>\n",
       "      <td>33.253594</td>\n",
       "      <td>156.159815</td>\n",
       "      <td>46.873285</td>\n",
       "    </tr>\n",
       "  </tbody>\n",
       "</table>\n",
       "<p>522 rows × 6 columns</p>\n",
       "</div>"
      ],
      "text/plain": [
       "                  SM        TMP          P        LST        NDVI      RefET\n",
       "Time                                                                        \n",
       "2002-07-01  0.367306  25.667034  72.091222  25.931655  164.462710  36.863949\n",
       "2002-07-11  0.376782  25.805816  64.408739  25.576955  163.949850  36.457306\n",
       "2002-07-21  0.381432  24.380145  86.624472  24.891076  161.293604  38.931309\n",
       "2002-08-01  0.376521  23.789801  49.628076  25.387005  161.850842  32.705358\n",
       "2002-08-11  0.375552  24.356970  48.229114  25.387005  164.563473  35.516998\n",
       "...              ...        ...        ...        ...         ...        ...\n",
       "2016-11-11  0.339732  27.388344   4.922298  29.329275  170.214793  41.253813\n",
       "2016-11-21  0.336524  27.301284  13.740361  28.196315  166.996055  35.936080\n",
       "2016-12-01  0.323141  27.624976   6.572077  30.640335  163.677652  39.237764\n",
       "2016-12-11  0.284039  28.394380   3.223298  31.810218  160.120307  40.180810\n",
       "2016-12-21  0.254384  29.468017   3.263930  33.253594  156.159815  46.873285\n",
       "\n",
       "[522 rows x 6 columns]"
      ]
     },
     "execution_count": 16,
     "metadata": {},
     "output_type": "execute_result"
    }
   ],
   "source": [
    "oromia_df"
   ]
  },
  {
   "cell_type": "code",
   "execution_count": null,
   "metadata": {},
   "outputs": [],
   "source": [
    "oromia_df.to_csv('/home/rgreen/tana-spin/rgreen/DroughtEDM/Data/Final_TS/oromia_barren_df.csv')\n",
    "\n"
   ]
  },
  {
   "cell_type": "markdown",
   "metadata": {},
   "source": [
    "# 3. Normalize TS for EDM analysis"
   ]
  },
  {
   "cell_type": "code",
   "execution_count": 29,
   "metadata": {},
   "outputs": [],
   "source": [
    "#This function uses the sklearn.preprocessing.scale function to normalize time series outputs and generates a new normalized csv file \n",
    "\n",
    "def normalize_TS(in_dir, out_dir):\n",
    "    files=np.array(sorted(os.listdir(in_dir)))\n",
    "    tiffs = pd.Series(files).str.contains('.csv')\n",
    "    files = files[tiffs]\n",
    "    \n",
    "    for filename in files:\n",
    "        ts = pd.read_csv(in_dir + filename)\n",
    "        ts.SM = scale(ts.SM)\n",
    "        ts.TMP = scale(ts.TMP)\n",
    "        ts.P = scale(ts.P)\n",
    "        ts.LST = scale(ts.LST)\n",
    "        ts.NDVI = scale(ts.NDVI)\n",
    "        ts.PET = scale(ts.PET)\n",
    "        ts.to_csv(ts_out + os.path.splitext(os.path.basename(filename))[0] + '_normalized.csv',index = False)"
   ]
  },
  {
   "cell_type": "code",
   "execution_count": 30,
   "metadata": {},
   "outputs": [],
   "source": [
    "ts_in = '/home/rgreen/tana-spin/rgreen/DroughtEDM/Data/Final_TS/oromia_df/'\n",
    "ts_out = '/home/rgreen/tana-spin/rgreen/DroughtEDM/Data/Final_TS/oromia_df_normalized/'"
   ]
  },
  {
   "cell_type": "code",
   "execution_count": null,
   "metadata": {
    "scrolled": true
   },
   "outputs": [],
   "source": [
    "normalize_TS(ts_in,ts_out)"
   ]
  },
  {
   "cell_type": "code",
   "execution_count": null,
   "metadata": {},
   "outputs": [],
   "source": [
    "ls = list(range(1,10))"
   ]
  },
  {
   "cell_type": "code",
   "execution_count": null,
   "metadata": {},
   "outputs": [],
   "source": [
    "ls[1]"
   ]
  },
  {
   "cell_type": "markdown",
   "metadata": {},
   "source": [
    "# 4. Decompose Seasonality TS"
   ]
  },
  {
   "cell_type": "code",
   "execution_count": 107,
   "metadata": {},
   "outputs": [],
   "source": [
    "#seasonal decomposition of a time series using statsmodels.tsa.seasonal.seasonal_decompose \n",
    "\n",
    "def decompose_seasonality_TS(in_dir, out_dir):\n",
    "    files=np.array(sorted(os.listdir(in_dir)))\n",
    "    tiffs = pd.Series(files).str.contains('.csv')\n",
    "    files = files[tiffs]\n",
    "    \n",
    "    for filename in files:\n",
    "        print(files)\n",
    "        ts = pd.read_csv(in_dir + filename, engine = 'python')\n",
    "        ts.index = pd.to_datetime(ts.index)\n",
    "        ts.index.name = 'Time'\n",
    "        ts.index = ts.index\n",
    "        ts.SM = seasonal_decompose(ts.SM, model='multiplicative', freq = 36).resid\n",
    "        ts.TMP = seasonal_decompose(ts.TMP, model='multiplicative', freq = 36).resid\n",
    "        ts.P = seasonal_decompose(ts.P, model='multiplicative', freq = 36).resid\n",
    "        ts.LST = seasonal_decompose(ts.LST, model='multiplicative', freq = 36).resid\n",
    "        ts.NDVI = seasonal_decompose(ts.NDVI, model='multiplicative', freq = 36).resid\n",
    "        ts.refET = seasonal_decompose(ts.refET, model='multiplicative', freq = 36).resid\n",
    "        ts.iloc[18:504].to_csv(ts_out + os.path.splitext(os.path.basename(filename))[0] + '_ds.csv',index = False)"
   ]
  },
  {
   "cell_type": "code",
   "execution_count": 108,
   "metadata": {},
   "outputs": [],
   "source": [
    "ts_in = '/home/rgreen/tana-spin/rgreen/DroughtEDM/Data/Final_TS/oromia_df/'\n",
    "ts_out = '/home/rgreen/tana-spin/rgreen/DroughtEDM/Data/Final_TS/oromia_df_normalized_seasonaldecomposed/'"
   ]
  },
  {
   "cell_type": "code",
   "execution_count": 109,
   "metadata": {},
   "outputs": [
    {
     "name": "stdout",
     "output_type": "stream",
     "text": [
      "['oromia_barren_df.csv' 'oromia_closedshrublands_df.csv'\n",
      " 'oromia_croplands_df.csv' 'oromia_cropnatveg_df.csv'\n",
      " 'oromia_deciduousbroad_df.csv' 'oromia_evergreenbroad_df.csv'\n",
      " 'oromia_grasslands_df.csv' 'oromia_savannas_df.csv'\n",
      " 'oromia_woodysavannas_df.csv']\n",
      "['oromia_barren_df.csv' 'oromia_closedshrublands_df.csv'\n",
      " 'oromia_croplands_df.csv' 'oromia_cropnatveg_df.csv'\n",
      " 'oromia_deciduousbroad_df.csv' 'oromia_evergreenbroad_df.csv'\n",
      " 'oromia_grasslands_df.csv' 'oromia_savannas_df.csv'\n",
      " 'oromia_woodysavannas_df.csv']\n",
      "['oromia_barren_df.csv' 'oromia_closedshrublands_df.csv'\n",
      " 'oromia_croplands_df.csv' 'oromia_cropnatveg_df.csv'\n",
      " 'oromia_deciduousbroad_df.csv' 'oromia_evergreenbroad_df.csv'\n",
      " 'oromia_grasslands_df.csv' 'oromia_savannas_df.csv'\n",
      " 'oromia_woodysavannas_df.csv']\n",
      "['oromia_barren_df.csv' 'oromia_closedshrublands_df.csv'\n",
      " 'oromia_croplands_df.csv' 'oromia_cropnatveg_df.csv'\n",
      " 'oromia_deciduousbroad_df.csv' 'oromia_evergreenbroad_df.csv'\n",
      " 'oromia_grasslands_df.csv' 'oromia_savannas_df.csv'\n",
      " 'oromia_woodysavannas_df.csv']\n",
      "['oromia_barren_df.csv' 'oromia_closedshrublands_df.csv'\n",
      " 'oromia_croplands_df.csv' 'oromia_cropnatveg_df.csv'\n",
      " 'oromia_deciduousbroad_df.csv' 'oromia_evergreenbroad_df.csv'\n",
      " 'oromia_grasslands_df.csv' 'oromia_savannas_df.csv'\n",
      " 'oromia_woodysavannas_df.csv']\n",
      "['oromia_barren_df.csv' 'oromia_closedshrublands_df.csv'\n",
      " 'oromia_croplands_df.csv' 'oromia_cropnatveg_df.csv'\n",
      " 'oromia_deciduousbroad_df.csv' 'oromia_evergreenbroad_df.csv'\n",
      " 'oromia_grasslands_df.csv' 'oromia_savannas_df.csv'\n",
      " 'oromia_woodysavannas_df.csv']\n",
      "['oromia_barren_df.csv' 'oromia_closedshrublands_df.csv'\n",
      " 'oromia_croplands_df.csv' 'oromia_cropnatveg_df.csv'\n",
      " 'oromia_deciduousbroad_df.csv' 'oromia_evergreenbroad_df.csv'\n",
      " 'oromia_grasslands_df.csv' 'oromia_savannas_df.csv'\n",
      " 'oromia_woodysavannas_df.csv']\n",
      "['oromia_barren_df.csv' 'oromia_closedshrublands_df.csv'\n",
      " 'oromia_croplands_df.csv' 'oromia_cropnatveg_df.csv'\n",
      " 'oromia_deciduousbroad_df.csv' 'oromia_evergreenbroad_df.csv'\n",
      " 'oromia_grasslands_df.csv' 'oromia_savannas_df.csv'\n",
      " 'oromia_woodysavannas_df.csv']\n",
      "['oromia_barren_df.csv' 'oromia_closedshrublands_df.csv'\n",
      " 'oromia_croplands_df.csv' 'oromia_cropnatveg_df.csv'\n",
      " 'oromia_deciduousbroad_df.csv' 'oromia_evergreenbroad_df.csv'\n",
      " 'oromia_grasslands_df.csv' 'oromia_savannas_df.csv'\n",
      " 'oromia_woodysavannas_df.csv']\n"
     ]
    }
   ],
   "source": [
    "decompose_seasonality_TS(ts_in, ts_out)"
   ]
  },
  {
   "cell_type": "code",
   "execution_count": 110,
   "metadata": {},
   "outputs": [],
   "source": [
    "oromia_savannas_ds = pd.read_csv('/home/rgreen/tana-spin/rgreen/DroughtEDM/Data/Final_TS/oromia_df_normalized_seasonaldecomposed/oromia_savannas_df_ds.csv')\n",
    "\n"
   ]
  },
  {
   "cell_type": "code",
   "execution_count": 111,
   "metadata": {},
   "outputs": [
    {
     "data": {
      "text/html": [
       "<div>\n",
       "<style scoped>\n",
       "    .dataframe tbody tr th:only-of-type {\n",
       "        vertical-align: middle;\n",
       "    }\n",
       "\n",
       "    .dataframe tbody tr th {\n",
       "        vertical-align: top;\n",
       "    }\n",
       "\n",
       "    .dataframe thead th {\n",
       "        text-align: right;\n",
       "    }\n",
       "</style>\n",
       "<table border=\"1\" class=\"dataframe\">\n",
       "  <thead>\n",
       "    <tr style=\"text-align: right;\">\n",
       "      <th></th>\n",
       "      <th>Time</th>\n",
       "      <th>SM</th>\n",
       "      <th>TMP</th>\n",
       "      <th>P</th>\n",
       "      <th>LST</th>\n",
       "      <th>NDVI</th>\n",
       "      <th>refET</th>\n",
       "    </tr>\n",
       "  </thead>\n",
       "  <tbody>\n",
       "    <tr>\n",
       "      <td>0</td>\n",
       "      <td>2003-01-01</td>\n",
       "      <td>1.102470</td>\n",
       "      <td>1.010485</td>\n",
       "      <td>1.172870</td>\n",
       "      <td>0.950546</td>\n",
       "      <td>1.017196</td>\n",
       "      <td>0.970547</td>\n",
       "    </tr>\n",
       "    <tr>\n",
       "      <td>1</td>\n",
       "      <td>2003-01-11</td>\n",
       "      <td>1.005257</td>\n",
       "      <td>1.020085</td>\n",
       "      <td>1.035352</td>\n",
       "      <td>1.014706</td>\n",
       "      <td>1.025862</td>\n",
       "      <td>1.026994</td>\n",
       "    </tr>\n",
       "    <tr>\n",
       "      <td>2</td>\n",
       "      <td>2003-01-21</td>\n",
       "      <td>1.029856</td>\n",
       "      <td>1.005649</td>\n",
       "      <td>1.067024</td>\n",
       "      <td>0.983351</td>\n",
       "      <td>1.026648</td>\n",
       "      <td>0.974659</td>\n",
       "    </tr>\n",
       "    <tr>\n",
       "      <td>3</td>\n",
       "      <td>2003-02-01</td>\n",
       "      <td>0.969442</td>\n",
       "      <td>1.037054</td>\n",
       "      <td>1.164756</td>\n",
       "      <td>1.001463</td>\n",
       "      <td>1.022034</td>\n",
       "      <td>1.045796</td>\n",
       "    </tr>\n",
       "    <tr>\n",
       "      <td>4</td>\n",
       "      <td>2003-02-11</td>\n",
       "      <td>0.913300</td>\n",
       "      <td>1.031605</td>\n",
       "      <td>1.095638</td>\n",
       "      <td>1.001885</td>\n",
       "      <td>1.017710</td>\n",
       "      <td>0.998449</td>\n",
       "    </tr>\n",
       "    <tr>\n",
       "      <td>...</td>\n",
       "      <td>...</td>\n",
       "      <td>...</td>\n",
       "      <td>...</td>\n",
       "      <td>...</td>\n",
       "      <td>...</td>\n",
       "      <td>...</td>\n",
       "      <td>...</td>\n",
       "    </tr>\n",
       "    <tr>\n",
       "      <td>481</td>\n",
       "      <td>2016-05-11</td>\n",
       "      <td>1.089897</td>\n",
       "      <td>0.980287</td>\n",
       "      <td>1.383492</td>\n",
       "      <td>0.973604</td>\n",
       "      <td>1.012567</td>\n",
       "      <td>0.890126</td>\n",
       "    </tr>\n",
       "    <tr>\n",
       "      <td>482</td>\n",
       "      <td>2016-05-21</td>\n",
       "      <td>1.040312</td>\n",
       "      <td>1.018650</td>\n",
       "      <td>1.135983</td>\n",
       "      <td>0.972242</td>\n",
       "      <td>1.016853</td>\n",
       "      <td>0.983327</td>\n",
       "    </tr>\n",
       "    <tr>\n",
       "      <td>483</td>\n",
       "      <td>2016-06-01</td>\n",
       "      <td>1.008376</td>\n",
       "      <td>1.023128</td>\n",
       "      <td>0.991811</td>\n",
       "      <td>1.036563</td>\n",
       "      <td>1.012366</td>\n",
       "      <td>1.128334</td>\n",
       "    </tr>\n",
       "    <tr>\n",
       "      <td>484</td>\n",
       "      <td>2016-06-11</td>\n",
       "      <td>0.985170</td>\n",
       "      <td>0.992018</td>\n",
       "      <td>0.878407</td>\n",
       "      <td>1.026150</td>\n",
       "      <td>0.997680</td>\n",
       "      <td>1.008571</td>\n",
       "    </tr>\n",
       "    <tr>\n",
       "      <td>485</td>\n",
       "      <td>2016-06-21</td>\n",
       "      <td>1.004127</td>\n",
       "      <td>0.982651</td>\n",
       "      <td>0.752608</td>\n",
       "      <td>0.925907</td>\n",
       "      <td>0.982368</td>\n",
       "      <td>0.958254</td>\n",
       "    </tr>\n",
       "  </tbody>\n",
       "</table>\n",
       "<p>486 rows × 7 columns</p>\n",
       "</div>"
      ],
      "text/plain": [
       "           Time        SM       TMP         P       LST      NDVI     refET\n",
       "0    2003-01-01  1.102470  1.010485  1.172870  0.950546  1.017196  0.970547\n",
       "1    2003-01-11  1.005257  1.020085  1.035352  1.014706  1.025862  1.026994\n",
       "2    2003-01-21  1.029856  1.005649  1.067024  0.983351  1.026648  0.974659\n",
       "3    2003-02-01  0.969442  1.037054  1.164756  1.001463  1.022034  1.045796\n",
       "4    2003-02-11  0.913300  1.031605  1.095638  1.001885  1.017710  0.998449\n",
       "..          ...       ...       ...       ...       ...       ...       ...\n",
       "481  2016-05-11  1.089897  0.980287  1.383492  0.973604  1.012567  0.890126\n",
       "482  2016-05-21  1.040312  1.018650  1.135983  0.972242  1.016853  0.983327\n",
       "483  2016-06-01  1.008376  1.023128  0.991811  1.036563  1.012366  1.128334\n",
       "484  2016-06-11  0.985170  0.992018  0.878407  1.026150  0.997680  1.008571\n",
       "485  2016-06-21  1.004127  0.982651  0.752608  0.925907  0.982368  0.958254\n",
       "\n",
       "[486 rows x 7 columns]"
      ]
     },
     "execution_count": 111,
     "metadata": {},
     "output_type": "execute_result"
    }
   ],
   "source": [
    "oromia_savannas_ds"
   ]
  },
  {
   "cell_type": "code",
   "execution_count": 94,
   "metadata": {},
   "outputs": [
    {
     "data": {
      "text/plain": [
       "486"
      ]
     },
     "execution_count": 94,
     "metadata": {},
     "output_type": "execute_result"
    }
   ],
   "source": [
    "len(oromia_savannas_ds.LST.iloc[18:504])"
   ]
  },
  {
   "cell_type": "code",
   "execution_count": 115,
   "metadata": {},
   "outputs": [],
   "source": [
    "oromia_savannas_df = pd.read_csv('/home/rgreen/tana-spin/rgreen/DroughtEDM/Data/Final_TS/oromia_df/oromia_savannas_df.csv')\n",
    "oromia_savannas_df = pd.read_csv('/home/rgreen/tana-spin/rgreen/DroughtEDM/Data/Final_TS/oromia_df/oromia_savannas_df.csv')"
   ]
  },
  {
   "cell_type": "code",
   "execution_count": 119,
   "metadata": {},
   "outputs": [],
   "source": [
    "sm_ds = seasonal_decompose(oromia_savannas_df.SM, model='multiplicative', freq = 36)\n",
    "ndvi_ds = seasonal_decompose(oromia_savannas_df.NDVI, model='multiplicative', freq = 36)\n",
    "p_ds = seasonal_decompose(oromia_savannas_df.P, model='multiplicative', freq = 36)\n",
    "lst_ds = seasonal_decompose(oromia_savannas_df.LST, model='multiplicative', freq = 36)"
   ]
  },
  {
   "cell_type": "code",
   "execution_count": 123,
   "metadata": {
    "scrolled": true
   },
   "outputs": [
    {
     "data": {
      "text/plain": [
       "<matplotlib.axes._subplots.AxesSubplot at 0x7fe89f288630>"
      ]
     },
     "execution_count": 123,
     "metadata": {},
     "output_type": "execute_result"
    },
    {
     "data": {
      "image/png": "[encoded data removed]",
      "text/plain": [
       "<Figure size 432x288 with 1 Axes>"
      ]
     },
     "metadata": {
      "needs_background": "light"
     },
     "output_type": "display_data"
    }
   ],
   "source": [
    "sm_ds.resid.plot()\n"
   ]
  },
  {
   "cell_type": "code",
   "execution_count": 122,
   "metadata": {},
   "outputs": [
    {
     "data": {
      "text/plain": [
       "<matplotlib.axes._subplots.AxesSubplot at 0x7fe8954306d8>"
      ]
     },
     "execution_count": 122,
     "metadata": {},
     "output_type": "execute_result"
    },
    {
     "data": {
      "image/png": "[encoded data removed]",
      "text/plain": [
       "<Figure size 432x288 with 1 Axes>"
      ]
     },
     "metadata": {
      "needs_background": "light"
     },
     "output_type": "display_data"
    }
   ],
   "source": [
    "ndvi_ds.resid.plot()\n"
   ]
  },
  {
   "cell_type": "code",
   "execution_count": 124,
   "metadata": {},
   "outputs": [
    {
     "data": {
      "text/plain": [
       "<matplotlib.axes._subplots.AxesSubplot at 0x7fe895372d68>"
      ]
     },
     "execution_count": 124,
     "metadata": {},
     "output_type": "execute_result"
    },
    {
     "data": {
      "image/png": "[encoded data removed]",
      "text/plain": [
       "<Figure size 432x288 with 1 Axes>"
      ]
     },
     "metadata": {
      "needs_background": "light"
     },
     "output_type": "display_data"
    }
   ],
   "source": [
    "p_ds.resid.plot()\n"
   ]
  },
  {
   "cell_type": "code",
   "execution_count": 125,
   "metadata": {},
   "outputs": [
    {
     "data": {
      "text/plain": [
       "<matplotlib.axes._subplots.AxesSubplot at 0x7fe8952ca048>"
      ]
     },
     "execution_count": 125,
     "metadata": {},
     "output_type": "execute_result"
    },
    {
     "data": {
      "image/png": "[encoded data removed]",
      "text/plain": [
       "<Figure size 432x288 with 1 Axes>"
      ]
     },
     "metadata": {
      "needs_background": "light"
     },
     "output_type": "display_data"
    }
   ],
   "source": [
    "lst_ds.resid.plot()"
   ]
  },
  {
   "cell_type": "code",
   "execution_count": 73,
   "metadata": {},
   "outputs": [
    {
     "data": {
      "text/plain": [
       "0     NaN\n",
       "1     NaN\n",
       "2     NaN\n",
       "3     NaN\n",
       "4     NaN\n",
       "       ..\n",
       "517   NaN\n",
       "518   NaN\n",
       "519   NaN\n",
       "520   NaN\n",
       "521   NaN\n",
       "Name: SM, Length: 522, dtype: float64"
      ]
     },
     "execution_count": 73,
     "metadata": {},
     "output_type": "execute_result"
    }
   ],
   "source": [
    "ds_test.resid"
   ]
  },
  {
   "cell_type": "markdown",
   "metadata": {},
   "source": [
    "# 5. Code snippets for working with netCDFs"
   ]
  },
  {
   "cell_type": "code",
   "execution_count": null,
   "metadata": {},
   "outputs": [],
   "source": [
    "#test = xr.merge([xr.open_rasterio(f) for f in ndvi_files[:4]])"
   ]
  },
  {
   "cell_type": "code",
   "execution_count": null,
   "metadata": {},
   "outputs": [],
   "source": [
    "#FIX LST VALUE by replacing with copy of one at specified location\n",
    " = np.mean(np.array(oromia_df.at['2003-08-11', 'LST'], oromia_df.at['2003-09-01', 'LST']))"
   ]
  },
  {
   "cell_type": "code",
   "execution_count": null,
   "metadata": {},
   "outputs": [],
   "source": [
    "#get min and max value for image\n",
    "for band in [ndvi_array1]:\n",
    "    print(\"min {min} max {max}\".format(min=band.min(), max=band.max()))"
   ]
  },
  {
   "cell_type": "code",
   "execution_count": null,
   "metadata": {},
   "outputs": [],
   "source": [
    "#get value at top left corner\n",
    "x_coord = ndvi02071.bounds.left\n",
    "y_coord = ndvi02071.bounds.top"
   ]
  },
  {
   "cell_type": "code",
   "execution_count": null,
   "metadata": {},
   "outputs": [],
   "source": [
    "#Stack tiffs\n",
    "\n",
    "\n",
    "with rio.open(ndvi_files[0]) as src0:\n",
    "    meta = src0.meta\n",
    "\n",
    "meta.update(count=len(ndvi_files))\n",
    "\n",
    "with rio.open('ndvi_stack.tiff', 'w', **meta) as dst:\n",
    "    for id, layer in enumerate(ndvi_files, start=1):\n",
    "        with rio.open(layer) as src1:\n",
    "            dst.write_band(id, src1.read(1))"
   ]
  },
  {
   "cell_type": "code",
   "execution_count": null,
   "metadata": {},
   "outputs": [],
   "source": [
    "#concatinating rasters\n",
    "\n",
    "ndvi_concat =  xr.concat([xr.open_rasterio(f) for f in ndvi_files], dim = pd.Index([dekads], name = 'time'))"
   ]
  },
  {
   "cell_type": "code",
   "execution_count": null,
   "metadata": {},
   "outputs": [],
   "source": [
    "#change file name\n",
    "\n",
    "fldas = os.listdir('/home/rgreen/tana-crunch/rgreen/DroughtEDM/Data/FLDAS/200207/')\n",
    "dates = []\n",
    "for filename in fldas:\n",
    "    file = re.search(r'\\d{4}.\\d{3}', filename)\n",
    "    dates.append(file.group())\n",
    "    #print(file.group)\n",
    "\n",
    "dates.sort()\n",
    "print(dates)"
   ]
  },
  {
   "cell_type": "code",
   "execution_count": null,
   "metadata": {},
   "outputs": [],
   "source": [
    "#get variable names NetCDF file\n",
    "\n",
    "f = netCDF4.Dataset('/home/rgreen/tana-crunch/rgreen/DroughtEDM/Data/FLDAS/200207/LIS_HIST_200207010000.d01.nc')\n",
    "\n",
    "print(f.variables.keys())"
   ]
  },
  {
   "cell_type": "code",
   "execution_count": null,
   "metadata": {},
   "outputs": [],
   "source": [
    "#get list of all files within folder with wildcard ending\n",
    "\n",
    "allfiles = glob.glob('/home/rgreen/tana-crunch/rgreen/DroughtEDM/Data/FLDAS/200207/*.nc')"
   ]
  },
  {
   "cell_type": "code",
   "execution_count": null,
   "metadata": {},
   "outputs": [],
   "source": [
    "#multifile dataset with xarray\n",
    "\n",
    "#data200207 = xr.open_mfdataset('/home/rgreen/tana-crunch/rgreen/DroughtEDM/Data/FLDAS/200207/*.nc', concat_dim=[..., None, ...])"
   ]
  },
  {
   "cell_type": "code",
   "execution_count": 9,
   "metadata": {},
   "outputs": [
    {
     "data": {
      "text/plain": [
       "<xarray.DataArray 'SoilMoist_tavg' ()>\n",
       "array(0.150166)\n",
       "Coordinates:\n",
       "    X        float64 26.25\n",
       "    Y        float64 16.85\n",
       "    lev      float64 1.0\n",
       "Attributes:\n",
       "    standard_name:  soil_moisture_content\n",
       "    long_name:      soil moisture content\n",
       "    units:          m^3 m-3\n",
       "    vmin:           -1000000000000000.0\n",
       "    vmax:           1000000000000000.0"
      ]
     },
     "execution_count": 9,
     "metadata": {},
     "output_type": "execute_result"
    }
   ],
   "source": [
    "#get value at specific xyz location in dataset\n",
    "data1 = '/home/rgreen/tana-spin/rgreen/DroughtEDM/Data/FLDAS/LIS_HIST_200207010000.d01.nc'\n",
    "\n",
    "DS1 = xr.open_dataset(data1)\n",
    "DS1.SoilMoist_tavg[0,568,442]"
   ]
  },
  {
   "cell_type": "code",
   "execution_count": 12,
   "metadata": {},
   "outputs": [],
   "source": [
    "#get array of all possible lat, lon values\n",
    "lat, lon = np.array(DS1.variables['Y'][:]), np.array(DS1.variables['X'][:])"
   ]
  },
  {
   "cell_type": "code",
   "execution_count": null,
   "metadata": {},
   "outputs": [],
   "source": [
    "#clip SM images to cropzones boundaries\n",
    "\n",
    "with fiona.open('/home/rgreen/tana-crunch/rgreen/DroughtEDM/Data/cropzones/cropzones.shp', \"r\") as shapefile:\n",
    "    features = [feature[\"geometry\"] for feature in shapefile]\n",
    "\n",
    "src = rio.open('/home/rgreen/tana-crunch/rgreen/DroughtEDM/Data/eMODIS_NDVI/EastAfrica/data.2002.071_mask.tiff')\n",
    "\n",
    "    \n",
    "show((src,1))\n",
    "ax = plt.gca()\n",
    "patches = [PolygonPatch(feature, edgecolor=\"red\", facecolor=\"none\", linewidth=2) for feature in features]\n",
    "ax.add_collection(mpl.collections.PatchCollection(patches, match_original=True))\n"
   ]
  },
  {
   "cell_type": "code",
   "execution_count": 17,
   "metadata": {},
   "outputs": [
    {
     "name": "stdout",
     "output_type": "stream",
     "text": [
      "[139]\n"
     ]
    }
   ],
   "source": [
    "#retrieve NDVI value at given coordinate \n",
    "\n",
    "data = rio.open('/home/rgreen/tana-spin/rgreen/DroughtEDM/Data/eMODIS_NDVI/Africa/data.2002.071.tiff')\n",
    "for val in data.sample([(38.87, 4.21)]): print(val)\n"
   ]
  },
  {
   "cell_type": "code",
   "execution_count": null,
   "metadata": {},
   "outputs": [],
   "source": []
  }
 ],
 "metadata": {
  "kernelspec": {
   "display_name": "Python [conda env:edm]",
   "language": "python",
   "name": "conda-env-edm-py"
  },
  "language_info": {
   "codemirror_mode": {
    "name": "ipython",
    "version": 3
   },
   "file_extension": ".py",
   "mimetype": "text/x-python",
   "name": "python",
   "nbconvert_exporter": "python",
   "pygments_lexer": "ipython3",
   "version": "3.7.3"
  }
 },
 "nbformat": 4,
 "nbformat_minor": 4
}
