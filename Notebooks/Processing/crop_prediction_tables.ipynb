{
 "cells": [
  {
   "cell_type": "code",
   "execution_count": 1,
   "metadata": {},
   "outputs": [],
   "source": [
    "from pyEDM import *\n",
    "import pandas as pd\n",
    "import numpy as np\n",
    "import matplotlib as mpl\n",
    "from matplotlib import pyplot as plt\n",
    "import os\n",
    "import seaborn as sns\n",
    "from scipy import stats"
   ]
  },
  {
   "cell_type": "code",
   "execution_count": 2,
   "metadata": {},
   "outputs": [],
   "source": [
    "prediction_tables = '/home/rgreen/tana-spin/rgreen/DroughtEDM/Data/predictions_tables/'"
   ]
  },
  {
   "cell_type": "code",
   "execution_count": 43,
   "metadata": {},
   "outputs": [],
   "source": [
    "prediction_table_18 = '/home/rgreen/tana-crunch/rgreen/crunch/DroughtEDM/Data/predictions_tables/'"
   ]
  },
  {
   "cell_type": "code",
   "execution_count": 4,
   "metadata": {},
   "outputs": [],
   "source": [
    "crop_prediction_tables = '/home/rgreen/tana-spin/rgreen/DroughtEDM/Data/crop_predictions_tables/'"
   ]
  },
  {
   "cell_type": "code",
   "execution_count": 5,
   "metadata": {},
   "outputs": [],
   "source": [
    "lc_pixels_skill = pd.read_csv('/home/rgreen/DroughtEDM/Data/LCs_pixels/lc_pixels_skill.csv',index_col=[0])"
   ]
  },
  {
   "cell_type": "code",
   "execution_count": 6,
   "metadata": {},
   "outputs": [],
   "source": [
    "crop_irr_pixels = list(lc_pixels_skill[lc_pixels_skill.LC == 'cropland_irrigated']['pixel_id'])\n",
    "crop_rain_pixels = list(lc_pixels_skill[lc_pixels_skill.LC == 'cropland_rainfed']['pixel_id'])"
   ]
  },
  {
   "cell_type": "code",
   "execution_count": 17,
   "metadata": {},
   "outputs": [],
   "source": [
    "def generate_dekads(start, end):\n",
    "    '''\n",
    "    Generates list of timestamps of dekads between two dates\n",
    "    \n",
    "    Parameters\n",
    "    ----------\n",
    "    start : pd.datetime object\n",
    "        Start date of list\n",
    "    end : pd.datetime object\n",
    "        end date of list\n",
    "    '''\n",
    "    \n",
    "    dtrange = pd.date_range(start, end)\n",
    "    days = list(range(len(dtrange))) #length of dtrange\n",
    "    daysDF = pd.DataFrame({'Days': days}, index=dtrange)\n",
    "    d = daysDF.index.day - np.clip((daysDF.index.day-1) // 10, 0, 2)*10 - 1 \n",
    "    dekaddates = daysDF.index.values - np.array(d, dtype=\"timedelta64[D]\")\n",
    "    dekads = daysDF.groupby(dekaddates).mean()\n",
    "    dekads = dekads.index\n",
    "    \n",
    "    return dekads"
   ]
  },
  {
   "cell_type": "code",
   "execution_count": 13,
   "metadata": {},
   "outputs": [],
   "source": [
    "start = pd.datetime(2002,7,1)\n",
    "end = pd.datetime(2019,4,30)\n",
    "\n",
    "dekads = generate_dekads(start, end)\n",
    "dekads = dekads.strftime(\"%Y-%m-%d\").tolist()"
   ]
  },
  {
   "cell_type": "code",
   "execution_count": 17,
   "metadata": {},
   "outputs": [],
   "source": [
    "ndvi_ea_simplex_ed6_pi1 = pd.read_csv(prediction_tables + 'ndvi_ea_simplex_ed6_pi1T.csv',delimiter=',', engine='c', low_memory=False, index_col=[0])"
   ]
  },
  {
   "cell_type": "code",
   "execution_count": 20,
   "metadata": {},
   "outputs": [],
   "source": [
    "crop_irr_ndvi_ea_simplex_ed6_pi1 = ndvi_ea_simplex_ed6_pi1.loc[crop_irr_pixels]"
   ]
  },
  {
   "cell_type": "code",
   "execution_count": 21,
   "metadata": {},
   "outputs": [],
   "source": [
    "crop_irr_ndvi_ea_simplex_ed6_pi1.to_csv(crop_prediction_tables + 'crop_irr_ndvi_ea_simplex_ed6_pi1.csv')"
   ]
  },
  {
   "cell_type": "code",
   "execution_count": 22,
   "metadata": {},
   "outputs": [],
   "source": [
    "crop_rain_ndvi_ea_simplex_ed6_pi1 = ndvi_ea_simplex_ed6_pi1.loc[crop_rain_pixels]"
   ]
  },
  {
   "cell_type": "code",
   "execution_count": 23,
   "metadata": {},
   "outputs": [],
   "source": [
    "crop_rain_ndvi_ea_simplex_ed6_pi1.to_csv(crop_prediction_tables + 'crop_rain_ndvi_ea_simplex_ed6_pi1.csv')"
   ]
  },
  {
   "cell_type": "code",
   "execution_count": null,
   "metadata": {},
   "outputs": [],
   "source": []
  },
  {
   "cell_type": "code",
   "execution_count": 24,
   "metadata": {},
   "outputs": [],
   "source": [
    "ndvi_ea_simplex_ed6_pi2 = pd.read_csv(prediction_tables + 'ndvi_ea_simplex_ed6_pi2T.csv',delimiter=',', engine='c', low_memory=False, index_col=[0])"
   ]
  },
  {
   "cell_type": "code",
   "execution_count": 25,
   "metadata": {},
   "outputs": [],
   "source": [
    "crop_irr_ndvi_ea_simplex_ed6_pi2 = ndvi_ea_simplex_ed6_pi2.loc[crop_irr_pixels]"
   ]
  },
  {
   "cell_type": "code",
   "execution_count": 26,
   "metadata": {},
   "outputs": [],
   "source": [
    "crop_irr_ndvi_ea_simplex_ed6_pi2.to_csv(crop_prediction_tables + 'crop_irr_ndvi_ea_simplex_ed6_pi2.csv')"
   ]
  },
  {
   "cell_type": "code",
   "execution_count": 27,
   "metadata": {},
   "outputs": [],
   "source": [
    "crop_rain_ndvi_ea_simplex_ed6_pi2.to_csv(crop_prediction_tables + 'crop_rain_ndvi_ea_simplex_ed6_pi2.csv')"
   ]
  },
  {
   "cell_type": "code",
   "execution_count": 28,
   "metadata": {},
   "outputs": [],
   "source": [
    "ndvi_ea_simplex_ed6_pi3 = pd.read_csv(prediction_tables + 'ndvi_ea_simplex_ed6_pi3T.csv',delimiter=',', engine='c', low_memory=False, index_col=[0])"
   ]
  },
  {
   "cell_type": "code",
   "execution_count": 30,
   "metadata": {},
   "outputs": [],
   "source": [
    "crop_irr_ndvi_ea_simplex_ed6_pi3 = ndvi_ea_simplex_ed6_pi3.loc[crop_irr_pixels]"
   ]
  },
  {
   "cell_type": "code",
   "execution_count": 31,
   "metadata": {},
   "outputs": [],
   "source": [
    "crop_irr_ndvi_ea_simplex_ed6_pi3.to_csv(crop_prediction_tables + 'crop_irr_ndvi_ea_simplex_ed6_pi3.csv')"
   ]
  },
  {
   "cell_type": "code",
   "execution_count": 32,
   "metadata": {},
   "outputs": [],
   "source": [
    "crop_rain_ndvi_ea_simplex_ed6_pi3 = ndvi_ea_simplex_ed6_pi3.loc[crop_rain_pixels]"
   ]
  },
  {
   "cell_type": "code",
   "execution_count": 33,
   "metadata": {},
   "outputs": [],
   "source": [
    "crop_rain_ndvi_ea_simplex_ed6_pi3.to_csv(crop_prediction_tables + 'crop_rain_ndvi_ea_simplex_ed6_pi3.csv')"
   ]
  },
  {
   "cell_type": "code",
   "execution_count": 34,
   "metadata": {},
   "outputs": [],
   "source": [
    "ndvi_ea_simplex_ed6_pi4 = pd.read_csv(prediction_tables + 'ndvi_ea_simplex_ed6_pi4T.csv',delimiter=',', engine='c', low_memory=False, index_col=[0])"
   ]
  },
  {
   "cell_type": "code",
   "execution_count": 35,
   "metadata": {},
   "outputs": [],
   "source": [
    "crop_irr_ndvi_ea_simplex_ed6_pi4 = ndvi_ea_simplex_ed6_pi4.loc[crop_irr_pixels]"
   ]
  },
  {
   "cell_type": "code",
   "execution_count": 36,
   "metadata": {},
   "outputs": [],
   "source": [
    "crop_irr_ndvi_ea_simplex_ed6_pi4.to_csv(crop_prediction_tables + 'crop_irr_ndvi_ea_simplex_ed6_pi4.csv')"
   ]
  },
  {
   "cell_type": "code",
   "execution_count": 37,
   "metadata": {},
   "outputs": [],
   "source": [
    "crop_rain_ndvi_ea_simplex_ed6_pi4 = ndvi_ea_simplex_ed6_pi4.loc[crop_rain_pixels]"
   ]
  },
  {
   "cell_type": "code",
   "execution_count": 38,
   "metadata": {},
   "outputs": [],
   "source": [
    "crop_rain_ndvi_ea_simplex_ed6_pi4.to_csv(crop_prediction_tables + 'crop_rain_ndvi_ea_simplex_ed6_pi4.csv')"
   ]
  },
  {
   "cell_type": "code",
   "execution_count": 6,
   "metadata": {},
   "outputs": [],
   "source": [
    "ndvi_ea_simplex_ed6_pi5 = pd.read_csv(prediction_tables + 'ndvi_ea_simplex_ed6_pi5T.csv',delimiter=',', engine='c', low_memory=False, index_col=[0])"
   ]
  },
  {
   "cell_type": "code",
   "execution_count": 7,
   "metadata": {},
   "outputs": [],
   "source": [
    "crop_irr_ndvi_ea_simplex_ed6_pi5 = ndvi_ea_simplex_ed6_pi5.loc[crop_irr_pixels]"
   ]
  },
  {
   "cell_type": "code",
   "execution_count": 8,
   "metadata": {},
   "outputs": [],
   "source": [
    "crop_irr_ndvi_ea_simplex_ed6_pi5.to_csv(crop_prediction_tables + 'crop_irr_ndvi_ea_simplex_ed6_pi5.csv')"
   ]
  },
  {
   "cell_type": "code",
   "execution_count": 9,
   "metadata": {},
   "outputs": [],
   "source": [
    "crop_rain_ndvi_ea_simplex_ed6_pi5 = ndvi_ea_simplex_ed6_pi5.loc[crop_rain_pixels]"
   ]
  },
  {
   "cell_type": "code",
   "execution_count": 10,
   "metadata": {},
   "outputs": [],
   "source": [
    "crop_rain_ndvi_ea_simplex_ed6_pi5.to_csv(crop_prediction_tables + 'crop_rain_ndvi_ea_simplex_ed6_pi5.csv')"
   ]
  },
  {
   "cell_type": "code",
   "execution_count": 11,
   "metadata": {},
   "outputs": [],
   "source": [
    "ndvi_ea_simplex_ed6_pi6 = pd.read_csv(prediction_tables + 'ndvi_ea_simplex_ed6_pi6T.csv',delimiter=',', engine='c', low_memory=False, index_col=[0])"
   ]
  },
  {
   "cell_type": "code",
   "execution_count": 12,
   "metadata": {},
   "outputs": [],
   "source": [
    "crop_irr_ndvi_ea_simplex_ed6_pi6 = ndvi_ea_simplex_ed6_pi6.loc[crop_irr_pixels]"
   ]
  },
  {
   "cell_type": "code",
   "execution_count": 13,
   "metadata": {},
   "outputs": [],
   "source": [
    "crop_irr_ndvi_ea_simplex_ed6_pi6.to_csv(crop_prediction_tables + 'crop_irr_ndvi_ea_simplex_ed6_pi6.csv')"
   ]
  },
  {
   "cell_type": "code",
   "execution_count": 14,
   "metadata": {},
   "outputs": [],
   "source": [
    "crop_rain_ndvi_ea_simplex_ed6_pi6 = ndvi_ea_simplex_ed6_pi6.loc[crop_rain_pixels]"
   ]
  },
  {
   "cell_type": "code",
   "execution_count": 15,
   "metadata": {},
   "outputs": [],
   "source": [
    "crop_rain_ndvi_ea_simplex_ed6_pi6.to_csv(crop_prediction_tables + 'crop_rain_ndvi_ea_simplex_ed6_pi6.csv')"
   ]
  },
  {
   "cell_type": "code",
   "execution_count": 16,
   "metadata": {},
   "outputs": [],
   "source": [
    "ndvi_ea_simplex_ed6_pi7 = pd.read_csv(prediction_tables + 'ndvi_ea_simplex_ed6_pi7T.csv',delimiter=',', engine='c', low_memory=False, index_col=[0])"
   ]
  },
  {
   "cell_type": "code",
   "execution_count": 17,
   "metadata": {},
   "outputs": [],
   "source": [
    "crop_irr_ndvi_ea_simplex_ed6_pi7 = ndvi_ea_simplex_ed6_pi7.loc[crop_irr_pixels]"
   ]
  },
  {
   "cell_type": "code",
   "execution_count": 18,
   "metadata": {},
   "outputs": [],
   "source": [
    "crop_irr_ndvi_ea_simplex_ed6_pi7.to_csv(crop_prediction_tables + 'crop_irr_ndvi_ea_simplex_ed6_pi7.csv')"
   ]
  },
  {
   "cell_type": "code",
   "execution_count": 19,
   "metadata": {},
   "outputs": [],
   "source": [
    "crop_rain_ndvi_ea_simplex_ed6_pi7 = ndvi_ea_simplex_ed6_pi7.loc[crop_rain_pixels]"
   ]
  },
  {
   "cell_type": "code",
   "execution_count": 20,
   "metadata": {},
   "outputs": [],
   "source": [
    "crop_rain_ndvi_ea_simplex_ed6_pi7.to_csv(crop_prediction_tables + 'crop_rain_ndvi_ea_simplex_ed6_pi7.csv')"
   ]
  },
  {
   "cell_type": "code",
   "execution_count": 6,
   "metadata": {},
   "outputs": [],
   "source": [
    "ndvi_ea_simplex_ed6_pi8 = pd.read_csv(prediction_tables + 'ndvi_ea_simplex_ed6_pi8T.csv',delimiter=',', engine='c', low_memory=False, index_col=[0])"
   ]
  },
  {
   "cell_type": "code",
   "execution_count": 7,
   "metadata": {},
   "outputs": [],
   "source": [
    "crop_irr_ndvi_ea_simplex_ed6_pi8 = ndvi_ea_simplex_ed6_pi8.loc[crop_irr_pixels]"
   ]
  },
  {
   "cell_type": "code",
   "execution_count": 8,
   "metadata": {},
   "outputs": [],
   "source": [
    "crop_irr_ndvi_ea_simplex_ed6_pi8.to_csv(crop_prediction_tables + 'crop_irr_ndvi_ea_simplex_ed6_pi8.csv')"
   ]
  },
  {
   "cell_type": "code",
   "execution_count": 9,
   "metadata": {},
   "outputs": [],
   "source": [
    "crop_rain_ndvi_ea_simplex_ed6_pi8 = ndvi_ea_simplex_ed6_pi8.loc[crop_rain_pixels]"
   ]
  },
  {
   "cell_type": "code",
   "execution_count": 10,
   "metadata": {},
   "outputs": [],
   "source": [
    "crop_rain_ndvi_ea_simplex_ed6_pi8.to_csv(crop_prediction_tables + 'crop_rain_ndvi_ea_simplex_ed6_pi8.csv')"
   ]
  },
  {
   "cell_type": "code",
   "execution_count": 11,
   "metadata": {},
   "outputs": [],
   "source": [
    "ndvi_ea_simplex_ed6_pi9 = pd.read_csv(prediction_tables + 'ndvi_ea_simplex_ed6_pi9T.csv',delimiter=',', engine='c', low_memory=False, index_col=[0])"
   ]
  },
  {
   "cell_type": "code",
   "execution_count": 12,
   "metadata": {},
   "outputs": [],
   "source": [
    "crop_irr_ndvi_ea_simplex_ed6_pi9 = ndvi_ea_simplex_ed6_pi9.loc[crop_irr_pixels]"
   ]
  },
  {
   "cell_type": "code",
   "execution_count": 13,
   "metadata": {},
   "outputs": [],
   "source": [
    "crop_irr_ndvi_ea_simplex_ed6_pi9.to_csv(crop_prediction_tables + 'crop_irr_ndvi_ea_simplex_ed6_pi9.csv')"
   ]
  },
  {
   "cell_type": "code",
   "execution_count": 14,
   "metadata": {},
   "outputs": [],
   "source": [
    "crop_rain_ndvi_ea_simplex_ed6_pi9 = ndvi_ea_simplex_ed6_pi9.loc[crop_rain_pixels]"
   ]
  },
  {
   "cell_type": "code",
   "execution_count": 15,
   "metadata": {},
   "outputs": [],
   "source": [
    "crop_rain_ndvi_ea_simplex_ed6_pi9.to_csv(crop_prediction_tables + 'crop_rain_ndvi_ea_simplex_ed6_pi9.csv')"
   ]
  },
  {
   "cell_type": "code",
   "execution_count": 6,
   "metadata": {},
   "outputs": [],
   "source": [
    "ndvi_ea_simplex_ed6_pi10 = pd.read_csv(prediction_tables + 'ndvi_ea_simplex_ed6_pi10T.csv',delimiter=',', engine='c', low_memory=False, index_col=[0])"
   ]
  },
  {
   "cell_type": "code",
   "execution_count": 7,
   "metadata": {},
   "outputs": [],
   "source": [
    "crop_irr_ndvi_ea_simplex_ed6_pi10 = ndvi_ea_simplex_ed6_pi10.loc[crop_irr_pixels]"
   ]
  },
  {
   "cell_type": "code",
   "execution_count": 9,
   "metadata": {},
   "outputs": [],
   "source": [
    "crop_irr_ndvi_ea_simplex_ed6_pi10.to_csv(crop_prediction_tables + 'crop_irr_ndvi_ea_simplex_ed6_pi10.csv')"
   ]
  },
  {
   "cell_type": "code",
   "execution_count": 10,
   "metadata": {},
   "outputs": [],
   "source": [
    "crop_rain_ndvi_ea_simplex_ed6_pi10 = ndvi_ea_simplex_ed6_pi10.loc[crop_rain_pixels]"
   ]
  },
  {
   "cell_type": "code",
   "execution_count": 11,
   "metadata": {},
   "outputs": [],
   "source": [
    "crop_rain_ndvi_ea_simplex_ed6_pi10.to_csv(crop_prediction_tables + 'crop_rain_ndvi_ea_simplex_ed6_pi10.csv')"
   ]
  },
  {
   "cell_type": "code",
   "execution_count": 12,
   "metadata": {},
   "outputs": [],
   "source": [
    "ndvi_ea_simplex_ed6_pi11 = pd.read_csv(prediction_tables + 'ndvi_ea_simplex_ed6_pi11T.csv',delimiter=',', engine='c', low_memory=False, index_col=[0])"
   ]
  },
  {
   "cell_type": "code",
   "execution_count": 13,
   "metadata": {},
   "outputs": [],
   "source": [
    "crop_irr_ndvi_ea_simplex_ed6_pi11 = ndvi_ea_simplex_ed6_pi11.loc[crop_irr_pixels]"
   ]
  },
  {
   "cell_type": "code",
   "execution_count": 14,
   "metadata": {},
   "outputs": [],
   "source": [
    "crop_irr_ndvi_ea_simplex_ed6_pi11.to_csv(crop_prediction_tables + 'crop_irr_ndvi_ea_simplex_ed6_pi11.csv')"
   ]
  },
  {
   "cell_type": "code",
   "execution_count": 15,
   "metadata": {},
   "outputs": [],
   "source": [
    "crop_rain_ndvi_ea_simplex_ed6_pi11 = ndvi_ea_simplex_ed6_pi11.loc[crop_rain_pixels]"
   ]
  },
  {
   "cell_type": "code",
   "execution_count": 16,
   "metadata": {},
   "outputs": [],
   "source": [
    "crop_rain_ndvi_ea_simplex_ed6_pi11.to_csv(crop_prediction_tables + 'crop_rain_ndvi_ea_simplex_ed6_pi11.csv')"
   ]
  },
  {
   "cell_type": "code",
   "execution_count": 6,
   "metadata": {},
   "outputs": [],
   "source": [
    "ndvi_ea_simplex_ed6_pi12 = pd.read_csv(prediction_tables + 'ndvi_ea_simplex_ed6_pi12T.csv',delimiter=',', engine='c', low_memory=False, index_col=[0])"
   ]
  },
  {
   "cell_type": "code",
   "execution_count": 7,
   "metadata": {},
   "outputs": [],
   "source": [
    "crop_irr_ndvi_ea_simplex_ed6_pi12 = ndvi_ea_simplex_ed6_pi12.loc[crop_irr_pixels]"
   ]
  },
  {
   "cell_type": "code",
   "execution_count": 8,
   "metadata": {},
   "outputs": [],
   "source": [
    "crop_irr_ndvi_ea_simplex_ed6_pi12.to_csv(crop_prediction_tables + 'crop_irr_ndvi_ea_simplex_ed6_pi12.csv')"
   ]
  },
  {
   "cell_type": "code",
   "execution_count": 9,
   "metadata": {},
   "outputs": [],
   "source": [
    "crop_rain_ndvi_ea_simplex_ed6_pi12 = ndvi_ea_simplex_ed6_pi12.loc[crop_rain_pixels]"
   ]
  },
  {
   "cell_type": "code",
   "execution_count": 10,
   "metadata": {},
   "outputs": [],
   "source": [
    "crop_rain_ndvi_ea_simplex_ed6_pi12.to_csv(crop_prediction_tables + 'crop_rain_ndvi_ea_simplex_ed6_pi12.csv')"
   ]
  },
  {
   "cell_type": "code",
   "execution_count": null,
   "metadata": {},
   "outputs": [],
   "source": [
    "ndvi_ea_simplex_ed6_pi13 = pd.read_csv(prediction_tables + 'ndvi_ea_simplex_ed6_pi13.csv',delimiter=',', engine='c', low_memory=False, index_col=[0])"
   ]
  },
  {
   "cell_type": "code",
   "execution_count": 7,
   "metadata": {},
   "outputs": [],
   "source": [
    "ndvi_ea_simplex_ed6_pi13T= ndvi_ea_simplex_ed6_pi13.T"
   ]
  },
  {
   "cell_type": "code",
   "execution_count": 16,
   "metadata": {},
   "outputs": [],
   "source": [
    "dekads_pi13 = generate_dekads(pd.datetime(2002,8, 21), pd.datetime(2019,9,1))\n",
    "dekads_pi13 = dekads_pi13.strftime(\"%Y-%m-%d\").tolist()"
   ]
  },
  {
   "cell_type": "code",
   "execution_count": 17,
   "metadata": {},
   "outputs": [],
   "source": [
    "ndvi_ea_simplex_ed6_pi13T.columns = dekads_pi13"
   ]
  },
  {
   "cell_type": "code",
   "execution_count": 19,
   "metadata": {},
   "outputs": [],
   "source": [
    "ndvi_ea_simplex_ed6_pi13T.to_csv(prediction_tables + 'ndvi_ea_simplex_ed6_pi13T.csv')"
   ]
  },
  {
   "cell_type": "code",
   "execution_count": 10,
   "metadata": {},
   "outputs": [],
   "source": [
    "ndvi_ea_simplex_ed6_pi13 = pd.read_csv(prediction_tables + 'ndvi_ea_simplex_ed6_pi13T.csv',delimiter=',', engine='c', low_memory=False, index_col=[0])"
   ]
  },
  {
   "cell_type": "code",
   "execution_count": 14,
   "metadata": {},
   "outputs": [],
   "source": [
    "crop_irr_ndvi_ea_simplex_ed6_pi13 = ndvi_ea_simplex_ed6_pi13.loc[crop_irr_pixels]"
   ]
  },
  {
   "cell_type": "code",
   "execution_count": 15,
   "metadata": {},
   "outputs": [],
   "source": [
    "crop_irr_ndvi_ea_simplex_ed6_pi13.to_csv(crop_prediction_tables + 'crop_irr_ndvi_ea_simplex_ed6_pi13.csv')"
   ]
  },
  {
   "cell_type": "code",
   "execution_count": 16,
   "metadata": {},
   "outputs": [],
   "source": [
    "crop_rain_ndvi_ea_simplex_ed6_pi13 = ndvi_ea_simplex_ed6_pi13.loc[crop_rain_pixels]"
   ]
  },
  {
   "cell_type": "code",
   "execution_count": 17,
   "metadata": {},
   "outputs": [],
   "source": [
    "crop_rain_ndvi_ea_simplex_ed6_pi13.to_csv(crop_prediction_tables + 'crop_rain_ndvi_ea_simplex_ed6_pi13.csv')"
   ]
  },
  {
   "cell_type": "code",
   "execution_count": 19,
   "metadata": {},
   "outputs": [],
   "source": [
    "ndvi_ea_simplex_ed6_pi14 = pd.read_csv(prediction_tables + 'ndvi_ea_simplex_ed6_pi14.csv',delimiter=',', engine='c', low_memory=False, index_col=[0])"
   ]
  },
  {
   "cell_type": "code",
   "execution_count": 21,
   "metadata": {},
   "outputs": [],
   "source": [
    "ndvi_ea_simplex_ed6_pi14T = ndvi_ea_simplex_ed6_pi14.T"
   ]
  },
  {
   "cell_type": "code",
   "execution_count": 23,
   "metadata": {},
   "outputs": [],
   "source": [
    "dekads_pi14 = generate_dekads(pd.datetime(2002,8, 21), pd.datetime(2019,9,11))\n",
    "dekads_pi14 = dekads_pi14.strftime(\"%Y-%m-%d\").tolist()"
   ]
  },
  {
   "cell_type": "code",
   "execution_count": 24,
   "metadata": {},
   "outputs": [],
   "source": [
    "ndvi_ea_simplex_ed6_pi14T.columns = dekads_pi14"
   ]
  },
  {
   "cell_type": "code",
   "execution_count": 25,
   "metadata": {},
   "outputs": [],
   "source": [
    "ndvi_ea_simplex_ed6_pi14T.to_csv(prediction_tables + 'ndvi_ea_simplex_ed6_pi14T.csv')"
   ]
  },
  {
   "cell_type": "code",
   "execution_count": 27,
   "metadata": {},
   "outputs": [],
   "source": [
    "ndvi_ea_simplex_ed6_pi14 = pd.read_csv(prediction_tables + 'ndvi_ea_simplex_ed6_pi14T.csv',delimiter=',', engine='c', low_memory=False, index_col=[0])"
   ]
  },
  {
   "cell_type": "code",
   "execution_count": 28,
   "metadata": {},
   "outputs": [],
   "source": [
    "crop_irr_ndvi_ea_simplex_ed6_pi14 = ndvi_ea_simplex_ed6_pi14.loc[crop_irr_pixels]"
   ]
  },
  {
   "cell_type": "code",
   "execution_count": 29,
   "metadata": {},
   "outputs": [],
   "source": [
    "crop_irr_ndvi_ea_simplex_ed6_pi14.to_csv(crop_prediction_tables + 'crop_irr_ndvi_ea_simplex_ed6_pi14.csv')"
   ]
  },
  {
   "cell_type": "code",
   "execution_count": 30,
   "metadata": {},
   "outputs": [],
   "source": [
    "crop_rain_ndvi_ea_simplex_ed6_pi14 = ndvi_ea_simplex_ed6_pi14.loc[crop_rain_pixels]"
   ]
  },
  {
   "cell_type": "code",
   "execution_count": 31,
   "metadata": {},
   "outputs": [],
   "source": [
    "crop_rain_ndvi_ea_simplex_ed6_pi14.to_csv(crop_prediction_tables + 'crop_rain_ndvi_ea_simplex_ed6_pi14.csv')"
   ]
  },
  {
   "cell_type": "code",
   "execution_count": 8,
   "metadata": {},
   "outputs": [],
   "source": [
    "ndvi_ea_simplex_ed6_pi15 = pd.read_csv(prediction_tables + 'ndvi_ea_simplex_ed6_pi15.csv',delimiter=',', engine='c', low_memory=False, index_col=[0])"
   ]
  },
  {
   "cell_type": "code",
   "execution_count": 9,
   "metadata": {},
   "outputs": [],
   "source": [
    "ndvi_ea_simplex_ed6_pi15T = ndvi_ea_simplex_ed6_pi15.T"
   ]
  },
  {
   "cell_type": "code",
   "execution_count": 10,
   "metadata": {},
   "outputs": [],
   "source": [
    "dekads_pi15 = generate_dekads(pd.datetime(2002,8, 21), pd.datetime(2019,9,21))\n",
    "dekads_pi15 = dekads_pi15.strftime(\"%Y-%m-%d\").tolist()"
   ]
  },
  {
   "cell_type": "code",
   "execution_count": 11,
   "metadata": {},
   "outputs": [],
   "source": [
    "ndvi_ea_simplex_ed6_pi15T.columns = dekads_pi15"
   ]
  },
  {
   "cell_type": "code",
   "execution_count": 12,
   "metadata": {},
   "outputs": [],
   "source": [
    "ndvi_ea_simplex_ed6_pi15T.to_csv(prediction_tables + 'ndvi_ea_simplex_ed6_pi15T.csv')"
   ]
  },
  {
   "cell_type": "code",
   "execution_count": 9,
   "metadata": {},
   "outputs": [],
   "source": [
    "ndvi_ea_simplex_ed6_pi15 = pd.read_csv(prediction_tables + 'ndvi_ea_simplex_ed6_pi15T.csv',delimiter=',', engine='c', low_memory=False, index_col=[0])"
   ]
  },
  {
   "cell_type": "code",
   "execution_count": 10,
   "metadata": {},
   "outputs": [],
   "source": [
    "crop_irr_ndvi_ea_simplex_ed6_pi15 = ndvi_ea_simplex_ed6_pi15.loc[crop_irr_pixels]"
   ]
  },
  {
   "cell_type": "code",
   "execution_count": 11,
   "metadata": {},
   "outputs": [],
   "source": [
    "crop_irr_ndvi_ea_simplex_ed6_pi15.to_csv(crop_prediction_tables + 'crop_irr_ndvi_ea_simplex_ed6_pi15.csv')"
   ]
  },
  {
   "cell_type": "code",
   "execution_count": 12,
   "metadata": {},
   "outputs": [],
   "source": [
    "crop_rain_ndvi_ea_simplex_ed6_pi15 = ndvi_ea_simplex_ed6_pi15.loc[crop_rain_pixels]"
   ]
  },
  {
   "cell_type": "code",
   "execution_count": 13,
   "metadata": {},
   "outputs": [],
   "source": [
    "crop_rain_ndvi_ea_simplex_ed6_pi15.to_csv(crop_prediction_tables + 'crop_rain_ndvi_ea_simplex_ed6_pi15.csv')"
   ]
  },
  {
   "cell_type": "code",
   "execution_count": 14,
   "metadata": {},
   "outputs": [],
   "source": [
    "ndvi_ea_simplex_ed6_pi16 = pd.read_csv(prediction_tables + 'ndvi_ea_simplex_ed6_pi16.csv',delimiter=',', engine='c', low_memory=False, index_col=[0])"
   ]
  },
  {
   "cell_type": "code",
   "execution_count": 15,
   "metadata": {},
   "outputs": [],
   "source": [
    "ndvi_ea_simplex_ed6_pi16T = ndvi_ea_simplex_ed6_pi16.T"
   ]
  },
  {
   "cell_type": "code",
   "execution_count": 19,
   "metadata": {},
   "outputs": [],
   "source": [
    "dekads_pi16 = generate_dekads(pd.datetime(2002,8, 21), pd.datetime(2019,10,1))\n",
    "dekads_pi16 = dekads_pi16.strftime(\"%Y-%m-%d\").tolist()"
   ]
  },
  {
   "cell_type": "code",
   "execution_count": 20,
   "metadata": {},
   "outputs": [],
   "source": [
    "ndvi_ea_simplex_ed6_pi16T.columns = dekads_pi16"
   ]
  },
  {
   "cell_type": "code",
   "execution_count": 21,
   "metadata": {},
   "outputs": [],
   "source": [
    "ndvi_ea_simplex_ed6_pi16T.to_csv(prediction_tables + 'ndvi_ea_simplex_ed6_pi16T.csv')"
   ]
  },
  {
   "cell_type": "code",
   "execution_count": 22,
   "metadata": {},
   "outputs": [],
   "source": [
    "ndvi_ea_simplex_ed6_pi16 = pd.read_csv(prediction_tables + 'ndvi_ea_simplex_ed6_pi16T.csv',delimiter=',', engine='c', low_memory=False, index_col=[0])"
   ]
  },
  {
   "cell_type": "code",
   "execution_count": 23,
   "metadata": {},
   "outputs": [],
   "source": [
    "crop_irr_ndvi_ea_simplex_ed6_pi16 = ndvi_ea_simplex_ed6_pi16.loc[crop_irr_pixels]"
   ]
  },
  {
   "cell_type": "code",
   "execution_count": 24,
   "metadata": {},
   "outputs": [],
   "source": [
    "crop_irr_ndvi_ea_simplex_ed6_pi16.to_csv(crop_prediction_tables + 'crop_irr_ndvi_ea_simplex_ed6_pi16.csv')"
   ]
  },
  {
   "cell_type": "code",
   "execution_count": 25,
   "metadata": {},
   "outputs": [],
   "source": [
    "crop_rain_ndvi_ea_simplex_ed6_pi16 = ndvi_ea_simplex_ed6_pi16.loc[crop_rain_pixels]"
   ]
  },
  {
   "cell_type": "code",
   "execution_count": 26,
   "metadata": {},
   "outputs": [],
   "source": [
    "crop_rain_ndvi_ea_simplex_ed6_pi16.to_csv(crop_prediction_tables + 'crop_rain_ndvi_ea_simplex_ed6_pi16.csv')"
   ]
  },
  {
   "cell_type": "code",
   "execution_count": 27,
   "metadata": {},
   "outputs": [],
   "source": [
    "ndvi_ea_simplex_ed6_pi17 = pd.read_csv(prediction_tables + 'ndvi_ea_simplex_ed6_pi17.csv',delimiter=',', engine='c', low_memory=False, index_col=[0])"
   ]
  },
  {
   "cell_type": "code",
   "execution_count": 28,
   "metadata": {},
   "outputs": [],
   "source": [
    "ndvi_ea_simplex_ed6_pi17T = ndvi_ea_simplex_ed6_pi17.T"
   ]
  },
  {
   "cell_type": "code",
   "execution_count": 30,
   "metadata": {},
   "outputs": [],
   "source": [
    "dekads_pi17 = generate_dekads(pd.datetime(2002,8, 21), pd.datetime(2019,10,11))\n",
    "dekads_pi17 = dekads_pi17.strftime(\"%Y-%m-%d\").tolist()"
   ]
  },
  {
   "cell_type": "code",
   "execution_count": 31,
   "metadata": {},
   "outputs": [],
   "source": [
    "ndvi_ea_simplex_ed6_pi17T.columns = dekads_pi17"
   ]
  },
  {
   "cell_type": "code",
   "execution_count": 32,
   "metadata": {},
   "outputs": [],
   "source": [
    "ndvi_ea_simplex_ed6_pi17T.to_csv(prediction_tables + 'ndvi_ea_simplex_ed6_pi17T.csv')"
   ]
  },
  {
   "cell_type": "code",
   "execution_count": 51,
   "metadata": {},
   "outputs": [],
   "source": [
    "ndvi_ea_simplex_ed6_pi17 = pd.read_csv(prediction_tables + 'ndvi_ea_simplex_ed6_pi17T.csv',delimiter=',', engine='c', low_memory=False, index_col=[0])"
   ]
  },
  {
   "cell_type": "code",
   "execution_count": 52,
   "metadata": {},
   "outputs": [],
   "source": [
    "crop_irr_ndvi_ea_simplex_ed6_pi17 = ndvi_ea_simplex_ed6_pi17.loc[crop_irr_pixels]"
   ]
  },
  {
   "cell_type": "code",
   "execution_count": 53,
   "metadata": {},
   "outputs": [],
   "source": [
    "crop_irr_ndvi_ea_simplex_ed6_pi17.to_csv(crop_prediction_tables + 'crop_irr_ndvi_ea_simplex_ed6_pi17.csv')"
   ]
  },
  {
   "cell_type": "code",
   "execution_count": 54,
   "metadata": {},
   "outputs": [],
   "source": [
    "crop_rain_ndvi_ea_simplex_ed6_pi17 = ndvi_ea_simplex_ed6_pi17.loc[crop_rain_pixels]"
   ]
  },
  {
   "cell_type": "code",
   "execution_count": 55,
   "metadata": {},
   "outputs": [],
   "source": [
    "crop_rain_ndvi_ea_simplex_ed6_pi17.to_csv(crop_prediction_tables + 'crop_rain_ndvi_ea_simplex_ed6_pi17.csv')"
   ]
  },
  {
   "cell_type": "code",
   "execution_count": 44,
   "metadata": {},
   "outputs": [],
   "source": [
    "ndvi_ea_simplex_ed6_pi18 = pd.read_csv(prediction_table_18 + 'ndvi_ea_simplex_ed6_pi18_anom.csv',delimiter=',', engine='c', low_memory=False, index_col=[0])"
   ]
  },
  {
   "cell_type": "code",
   "execution_count": 47,
   "metadata": {},
   "outputs": [],
   "source": [
    "ndvi_ea_simplex_ed6_pi18T = ndvi_ea_simplex_ed6_pi18.T"
   ]
  },
  {
   "cell_type": "code",
   "execution_count": 48,
   "metadata": {},
   "outputs": [],
   "source": [
    "dekads_pi18 = generate_dekads(pd.datetime(2002,8, 21), pd.datetime(2019,10,21))\n",
    "dekads_pi18 = dekads_pi18.strftime(\"%Y-%m-%d\").tolist()"
   ]
  },
  {
   "cell_type": "code",
   "execution_count": 49,
   "metadata": {},
   "outputs": [],
   "source": [
    "ndvi_ea_simplex_ed6_pi18T.columns = dekads_pi18"
   ]
  },
  {
   "cell_type": "code",
   "execution_count": 50,
   "metadata": {},
   "outputs": [],
   "source": [
    "ndvi_ea_simplex_ed6_pi18T.to_csv(prediction_table_18 + 'ndvi_ea_simplex_ed6_pi18T.csv')"
   ]
  },
  {
   "cell_type": "code",
   "execution_count": 56,
   "metadata": {},
   "outputs": [],
   "source": [
    "ndvi_ea_simplex_ed6_pi18 = pd.read_csv(prediction_table_18 + 'ndvi_ea_simplex_ed6_pi18T.csv',delimiter=',', engine='c', low_memory=False, index_col=[0])"
   ]
  },
  {
   "cell_type": "code",
   "execution_count": 57,
   "metadata": {},
   "outputs": [],
   "source": [
    "crop_irr_ndvi_ea_simplex_ed6_pi18 = ndvi_ea_simplex_ed6_pi18.loc[crop_irr_pixels]"
   ]
  },
  {
   "cell_type": "code",
   "execution_count": 58,
   "metadata": {},
   "outputs": [],
   "source": [
    "crop_irr_ndvi_ea_simplex_ed6_pi18.to_csv(crop_prediction_tables + 'crop_irr_ndvi_ea_simplex_ed6_pi18.csv')"
   ]
  },
  {
   "cell_type": "code",
   "execution_count": 59,
   "metadata": {},
   "outputs": [],
   "source": [
    "crop_rain_ndvi_ea_simplex_ed6_pi18 = ndvi_ea_simplex_ed6_pi18.loc[crop_rain_pixels]"
   ]
  },
  {
   "cell_type": "code",
   "execution_count": 60,
   "metadata": {},
   "outputs": [],
   "source": [
    "crop_rain_ndvi_ea_simplex_ed6_pi18.to_csv(crop_prediction_tables + 'crop_rain_ndvi_ea_simplex_ed6_pi18.csv')"
   ]
  },
  {
   "cell_type": "code",
   "execution_count": null,
   "metadata": {},
   "outputs": [],
   "source": []
  }
 ],
 "metadata": {
  "kernelspec": {
   "display_name": "Python [conda env:edm]",
   "language": "python",
   "name": "conda-env-edm-py"
  },
  "language_info": {
   "codemirror_mode": {
    "name": "ipython",
    "version": 3
   },
   "file_extension": ".py",
   "mimetype": "text/x-python",
   "name": "python",
   "nbconvert_exporter": "python",
   "pygments_lexer": "ipython3",
   "version": "3.7.3"
  }
 },
 "nbformat": 4,
 "nbformat_minor": 4
}
