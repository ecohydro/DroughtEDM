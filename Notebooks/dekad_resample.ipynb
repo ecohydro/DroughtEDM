{
 "cells": [
  {
   "cell_type": "markdown",
   "metadata": {},
   "source": [
    "# Convert list of values and dates into dekads"
   ]
  },
  {
   "cell_type": "code",
   "execution_count": null,
   "metadata": {},
   "outputs": [],
   "source": [
    "import pandas as pd\n",
    "import numpy as np\n",
    "\n",
    "begin = pd.datetime(2002,7,1)\n",
    "end = pd.datetime(2016,12,31)\n",
    "\n",
    "dtrange = pd.date_range(begin, end)\n",
    "\n",
    "p1 = np.random.rand(len(dtrange)) + 5\n",
    "p2 = np.random.rand(len(dtrange)) + 10\n",
    "\n",
    "df = pd.DataFrame({'p1': p1, 'p2': p2}, index=dtrange)"
   ]
  },
  {
   "cell_type": "code",
   "execution_count": null,
   "metadata": {},
   "outputs": [],
   "source": [
    "type(p1)"
   ]
  },
  {
   "cell_type": "code",
   "execution_count": null,
   "metadata": {},
   "outputs": [],
   "source": [
    "d = df.index.day - np.clip((df.index.day-1) // 10, 0, 2)*10 - 1\n",
    "date = df.index.values - np.array(d, dtype=\"timedelta64[D]\")\n",
    "df.groupby(date).mean()"
   ]
  },
  {
   "cell_type": "code",
   "execution_count": null,
   "metadata": {},
   "outputs": [],
   "source": [
    "date"
   ]
  },
  {
   "cell_type": "code",
   "execution_count": null,
   "metadata": {},
   "outputs": [],
   "source": [
    "df.index.dayofyear"
   ]
  },
  {
   "cell_type": "markdown",
   "metadata": {},
   "source": [
    "# Resample daily files in folders to dekads"
   ]
  },
  {
   "cell_type": "code",
   "execution_count": 1,
   "metadata": {},
   "outputs": [],
   "source": [
    "import rasterio\n",
    "import numpy as np\n",
    "from glob import glob\n",
    "import os\n",
    "from rasterio.plot import show"
   ]
  },
  {
   "cell_type": "code",
   "execution_count": 2,
   "metadata": {
    "scrolled": false
   },
   "outputs": [],
   "source": [
    "def read_file(file):\n",
    "    with rasterio.open(file) as src:\n",
    "        return(src.read())\n",
    "    \n",
    "def dekad_resample(root_dir, out_dir, var):\n",
    "    folds = [fold for fold in sorted(os.listdir(root_dir))]\n",
    "    for fold in folds:\n",
    "        os.chdir(root_dir + fold + '/')\n",
    "        files = [file for file in sorted(os.listdir(os.getcwd()))]\n",
    "        dekad1 = [read_file(x) for x in files[0:10]]\n",
    "        dekad2 = [read_file(x) for x in files[10:20]]\n",
    "        dekad3 = [read_file(x) for x in files[20:]]\n",
    "        \n",
    "     # Perform averaging\n",
    "        dekad1_out = np.mean(dekad1, axis=0)\n",
    "        dekad2_out = np.mean(dekad2, axis=0)\n",
    "        dekad3_out = np.mean(dekad3, axis=0)\n",
    "\n",
    "        with rasterio.open(files[0]) as src:\n",
    "            meta = src.meta\n",
    "\n",
    "        meta.update(dtype=rasterio.float32)\n",
    "\n",
    "        # Write output file\n",
    "        with rasterio.open(out_dir + var + fold + '_01.tif', 'w', **meta) as dst:\n",
    "            dst.write(dekad1_out.astype(rasterio.float32))\n",
    "\n",
    "        with rasterio.open(out_dir + var + fold + '_02.tif', 'w', **meta) as dst:\n",
    "            dst.write(dekad2_out.astype(rasterio.float32))\n",
    "\n",
    "        with rasterio.open(out_dir + var + fold + '_03.tif', 'w', **meta) as dst:\n",
    "            dst.write(dekad3_out.astype(rasterio.float32))\n"
   ]
  },
  {
   "cell_type": "code",
   "execution_count": 3,
   "metadata": {},
   "outputs": [],
   "source": [
    "tmax_dir = '/home/rgreen/tana-spin/rgreen/DroughtEDM/Data/CHIRTS/Months/' \n",
    "out_tmax_dir = '/home/rgreen/tana-spin/rgreen/DroughtEDM/Data/CHIRTS/Dekads/'\n"
   ]
  },
  {
   "cell_type": "code",
   "execution_count": null,
   "metadata": {},
   "outputs": [],
   "source": [
    "sm_dir = '/home/rgreen/tana-spin/rgreen/DroughtEDM/Data/FLDAS_SM/Months/' \n",
    "out_sm_dir = '/home/rgreen/tana-spin/rgreen/DroughtEDM/Data/FLDAS_SM/Dekads/' "
   ]
  },
  {
   "cell_type": "code",
   "execution_count": 4,
   "metadata": {},
   "outputs": [
    {
     "name": "stderr",
     "output_type": "stream",
     "text": [
      "/home/rgreen/miniconda3/envs/edm/lib/python3.7/site-packages/numpy/core/_methods.py:151: RuntimeWarning: overflow encountered in reduce\n",
      "  ret = umr_sum(arr, axis, dtype, out, keepdims)\n"
     ]
    }
   ],
   "source": [
    "dekad_resample(tmax_dir, out_tmax_dir, var = 'Tmax_')"
   ]
  },
  {
   "cell_type": "code",
   "execution_count": null,
   "metadata": {},
   "outputs": [],
   "source": []
  }
 ],
 "metadata": {
  "kernelspec": {
   "display_name": "Python [conda env:edm]",
   "language": "python",
   "name": "conda-env-edm-py"
  },
  "language_info": {
   "codemirror_mode": {
    "name": "ipython",
    "version": 3
   },
   "file_extension": ".py",
   "mimetype": "text/x-python",
   "name": "python",
   "nbconvert_exporter": "python",
   "pygments_lexer": "ipython3",
   "version": "3.7.3"
  }
 },
 "nbformat": 4,
 "nbformat_minor": 2
}
