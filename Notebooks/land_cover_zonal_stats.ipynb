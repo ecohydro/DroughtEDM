{
 "cells": [
  {
   "cell_type": "code",
   "execution_count": 1,
   "metadata": {},
   "outputs": [],
   "source": [
    "import os\n",
    "import matplotlib.pyplot as plt\n",
    "import glob\n",
    "import rasterio\n",
    "from rasterio.merge import merge\n",
    "from rasterio.plot import show\n",
    "from rasterio.mask import mask\n",
    "from rasterstats import zonal_stats\n",
    "import fiona\n",
    "import geopandas as gpd\n",
    "import xarray as xr\n",
    "import numpy as np\n",
    "import rioxarray\n",
    "import pandas as pd\n",
    "import dask"
   ]
  },
  {
   "cell_type": "markdown",
   "metadata": {},
   "source": [
    "# Set all nan values to np.nan for parameters (only need to run once)"
   ]
  },
  {
   "cell_type": "code",
   "execution_count": null,
   "metadata": {},
   "outputs": [],
   "source": [
    "def reassign_mask_npnan(param_dirs):\n",
    "    \n",
    "    for folder in param_dirs:\n",
    "        files=np.array(sorted(os.listdir(folder)))\n",
    "        tifs = pd.Series(files).str.contains('.tif')\n",
    "        files = files[tifs]\n",
    "        print(folder)\n",
    "        \n",
    "        for filename in files:\n",
    "            with rasterio.open(folder+filename, 'r+') as ds:\n",
    "                print(filename)\n",
    "                a = ds.read()# read all raster values\n",
    "                a[a < 0 ] = np.nan  \n",
    "                ds.write(a)"
   ]
  },
  {
   "cell_type": "code",
   "execution_count": null,
   "metadata": {},
   "outputs": [],
   "source": [
    "reassign_mask_npnan(all_dirs)"
   ]
  },
  {
   "cell_type": "markdown",
   "metadata": {},
   "source": [
    "# Create Land Cover Masks"
   ]
  },
  {
   "cell_type": "code",
   "execution_count": null,
   "metadata": {},
   "outputs": [],
   "source": [
    "def create_land_mask(in_dir, out_dir, lc_num):\n",
    "    files=np.array(sorted(os.listdir(in_dir)))\n",
    "    \n",
    "    for filename in files:\n",
    "        base = os.path.splitext(filename)[0]\n",
    "        print(base)\n",
    "        rast = rasterio.open(in_dir+filename)\n",
    "        meta = rast.meta\n",
    "        meta.update(dtype = 'float32', nodata = -3.4e+38)\n",
    "        rast.close()\n",
    "        \n",
    "        with rasterio.open(out_dir+base+'_' + str(lc_num) + '.tif', 'w', **meta) as dst:\n",
    "            with rasterio.open(in_dir+filename) as src:\n",
    "                data = src.read()\n",
    "                data = data.astype(np.float32)\n",
    "                data[data!=lc_num] = np.nan\n",
    "                data[data==lc_num] = 1\n",
    "                dst.write(data)"
   ]
  },
  {
   "cell_type": "code",
   "execution_count": null,
   "metadata": {},
   "outputs": [],
   "source": [
    "landcover_in_dir = '/home/rgreen/tana-spin/rgreen/DroughtEDM/Data/MCD12C1/Original/'\n",
    "landcover_out_dir = '/home/rgreen/tana-spin/rgreen/DroughtEDM/Data/MCD12C1/WoodySavannas_Mask/'\n",
    "lc_class = 8\n"
   ]
  },
  {
   "cell_type": "code",
   "execution_count": null,
   "metadata": {
    "scrolled": false
   },
   "outputs": [],
   "source": [
    "create_land_mask(landcover_in_dir, landcover_out_dir, lc_class)"
   ]
  },
  {
   "cell_type": "code",
   "execution_count": 2,
   "metadata": {},
   "outputs": [],
   "source": [
    "#ALL DIRECTORIES USED FOR PARAMETER RASTER CALCULATION\n",
    "\n",
    "grasslands_mask_dir = '/home/rgreen/tana-spin/rgreen/DroughtEDM/Data/MCD12C1/Grasslands_Mask/'\n",
    "croplands_mask_dir = '/home/rgreen/tana-spin/rgreen/DroughtEDM/Data/MCD12C1/Croplands_Mask/'\n",
    "cropnatveg_mask_dir = '/home/rgreen/tana-spin/rgreen/DroughtEDM/Data/MCD12C1/CropNatVeg_Mask/'\n",
    "savannas_mask_dir = '/home/rgreen/tana-spin/rgreen/DroughtEDM/Data/MCD12C1/Savannas_Mask/'\n",
    "woodysavannas_mask_dir = '/home/rgreen/tana-spin/rgreen/DroughtEDM/Data/MCD12C1/WoodySavannas_Mask/'\n",
    "evergreenbroad_mask_dir = '/home/rgreen/tana-spin/rgreen/DroughtEDM/Data/MCD12C1/EvergreenBroad_Mask/'\n",
    "deciduousbroad_mask_dir = '/home/rgreen/tana-spin/rgreen/DroughtEDM/Data/MCD12C1/DeciduousBroad_Mask/'\n",
    "openshrublands_mask_dir = '/home/rgreen/tana-spin/rgreen/DroughtEDM/Data/MCD12C1/OpenShrublands_Mask/'\n",
    "closedshrublands_mask_dir = '/home/rgreen/tana-spin/rgreen/DroughtEDM/Data/MCD12C1/ClosedShrublands_Mask/'\n",
    "barren_mask_dir = '/home/rgreen/tana-spin/rgreen/DroughtEDM/Data/MCD12C1/Barren_Mask/'\n",
    "\n",
    "grasslands_masked_out_dir = '/home/rgreen/tana-spin/rgreen/DroughtEDM/Data/VariablesByLandCover/Variables_Grasslands/'\n",
    "croplands_masked_out_dir = '/home/rgreen/tana-spin/rgreen/DroughtEDM/Data/VariablesByLandCover/Variables_Croplands/'\n",
    "cropnatveg_masked_out_dir = '/home/rgreen/tana-spin/rgreen/DroughtEDM/Data/VariablesByLandCover/Variables_CropNatVeg/'\n",
    "savannas_masked_out_dir = '/home/rgreen/tana-spin/rgreen/DroughtEDM/Data/VariablesByLandCover/Variables_Savannas/' \n",
    "woodysavannas_masked_out_dir = '/home/rgreen/tana-spin/rgreen/DroughtEDM/Data/VariablesByLandCover/Variables_WoodySavannas/'\n",
    "evergreenbroad_masked_out_dir = '/home/rgreen/tana-spin/rgreen/DroughtEDM/Data/VariablesByLandCover/Variables_EvergreenBroad/'\n",
    "deciduousbroad_masked_out_dir = '/home/rgreen/tana-spin/rgreen/DroughtEDM/Data/VariablesByLandCover/Variables_DeciduousBroad/'\n",
    "openshrublands_masked_out_dir = '/home/rgreen/tana-spin/rgreen/DroughtEDM/Data/VariablesByLandCover/Variables_OpenShrublands/'\n",
    "closedshrublands_masked_out_dir = '/home/rgreen/tana-spin/rgreen/DroughtEDM/Data/VariablesByLandCover/Variables_ClosedShrublands/'\n",
    "barren_masked_out_dir = '/home/rgreen/tana-spin/rgreen/DroughtEDM/Data/VariablesByLandCover/Variables_Barren/'\n",
    "\n",
    "all_dirs = ['/home/rgreen/tana-spin/rgreen/DroughtEDM/Data/CHIRPS/Resampled/', '/home/rgreen/tana-spin/rgreen/DroughtEDM/Data/CHIRTS/Dekads/', '/home/rgreen/tana-spin/rgreen/DroughtEDM/Data/eMODIS_NDVI/Resampled/', '/home/rgreen/tana-spin/rgreen/DroughtEDM/Data/FLDAS_SM/Dekads/', '/home/rgreen/tana-spin/rgreen/DroughtEDM/Data/Hobbins_ET/Resampled/', '/home/rgreen/tana-spin/rgreen/DroughtEDM/Data/LST/Resampled/']"
   ]
  },
  {
   "cell_type": "code",
   "execution_count": null,
   "metadata": {},
   "outputs": [],
   "source": []
  },
  {
   "cell_type": "markdown",
   "metadata": {},
   "source": [
    "# Multiply a chosen land cover mask by all parameters for each year"
   ]
  },
  {
   "cell_type": "code",
   "execution_count": null,
   "metadata": {},
   "outputs": [],
   "source": [
    "def rastercalc_lcmask(lcmask_dir, param_dirs, out_dir):\n",
    "    \"\"\"\n",
    "    This function iterates through all parameter files and multiplies the land cover mask for a certain year\n",
    "    to create output rasters of each parameter masked by land cover type\n",
    "    Note: must change the out name of the land cover in the out file name \n",
    "    \"\"\"\n",
    "    lcfiles=np.array(sorted(os.listdir(lcmask_dir)))\n",
    "    \n",
    "    \n",
    "    for yr in range(2002,2017):\n",
    "        lc_yr = [file for file in lcfiles if str(yr) in file]\n",
    "        for lc in lc_yr:\n",
    "            lc_mask = rasterio.open(lcmask_dir + lc)\n",
    "            for folder in param_dirs:\n",
    "                var_yr = [file for file in sorted(os.listdir(folder)) if str(yr) in file]\n",
    "                for var in var_yr:\n",
    "                    var_rast = rasterio.open(folder+var)\n",
    "                    meta = var_rast.meta\n",
    "                    var_lcmask = var_rast.read(1)*lc_mask.read(1)\n",
    "                    with rasterio.open(out_dir + 'evergreenbroad_' + var, 'w', **meta) as dst:\n",
    "                            dst.write(var_lcmask, 1)\n",
    "                            print(var)"
   ]
  },
  {
   "cell_type": "code",
   "execution_count": null,
   "metadata": {},
   "outputs": [],
   "source": [
    "rastercalc_lcmask(evergreenbroad_mask_dir, all_dirs, evergreenbroad_masked_out_dir)"
   ]
  },
  {
   "cell_type": "code",
   "execution_count": null,
   "metadata": {},
   "outputs": [],
   "source": []
  },
  {
   "cell_type": "markdown",
   "metadata": {},
   "source": [
    "# Rasterstats with Admin Boundaries"
   ]
  },
  {
   "cell_type": "code",
   "execution_count": 3,
   "metadata": {},
   "outputs": [],
   "source": [
    "def zone_stat(raster, band, polygon, stats):\n",
    "    \"\"\"\n",
    "    This function will calculate the zonal stats for each polygon within a raster\n",
    "    requires gpd_df, raster, object and nodata value\n",
    "    \n",
    "    Args: raster = input raster\n",
    "          band = band of raster\n",
    "          polygon = polygons to calc zonal stats \n",
    "          stats = stat to calculate as string\n",
    "    \"\"\"\n",
    "    \n",
    "    band = raster.read(band)\n",
    "    zone_stat = zonal_stats(polygon, band, affine=raster.meta['transform'], nodata = np.nan, stats = stats)\n",
    "    return zone_stat"
   ]
  },
  {
   "cell_type": "code",
   "execution_count": 4,
   "metadata": {},
   "outputs": [],
   "source": [
    "def var_poly_join(in_dir, gdf):\n",
    "    files=np.array(sorted(os.listdir(in_dir)))\n",
    "    tifs = pd.Series(files).str.contains('.tif')\n",
    "    files = files[tifs]\n",
    "    \n",
    "    for filename in files:\n",
    "        print(filename)\n",
    "        raster = rasterio.open(in_dir+filename)\n",
    "        stats = zone_stat(raster, 1, gdf, 'mean')\n",
    "        print((list(stats))[-1])\n",
    "        name = os.path.splitext(os.path.basename(filename))[0]\n",
    "        gdf['Mean'+ \"_\" + name] = gpd.GeoDataFrame.from_dict(stats)\n",
    "    return gdf"
   ]
  },
  {
   "cell_type": "code",
   "execution_count": 5,
   "metadata": {},
   "outputs": [],
   "source": [
    "lcmasked_in_dir = grasslands_masked_out_dir "
   ]
  },
  {
   "cell_type": "code",
   "execution_count": null,
   "metadata": {
    "scrolled": true
   },
   "outputs": [],
   "source": [
    "adminbds = '/home/rgreen/tana-spin/rgreen/DroughtEDM/Data/AdminBoundaries/Africa_zones_2019/g2008_af_1.shp'\n",
    "bndry = gpd.read_file(adminbds)\n",
    "\n",
    "ea_adminbds = '/home/rgreen/tana-spin/rgreen/DroughtEDM/Data/AdminBoundaries/gadm36_EastAfrica.shp'\n",
    "ea_bndry = gpd.read_file(ea_adminbds)\n",
    "\n",
    "oromia = '/home/rgreen/tana-spin/rgreen/DroughtEDM/Data/AdminBoundaries/Ethiopia/oromia.shp'\n",
    "oromia_bndry = gpd.read_file(oromia)"
   ]
  },
  {
   "cell_type": "code",
   "execution_count": null,
   "metadata": {},
   "outputs": [],
   "source": [
    "output_shp = var_poly_join(lcmasked_in_dir, ea_bndry)"
   ]
  },
  {
   "cell_type": "code",
   "execution_count": null,
   "metadata": {},
   "outputs": [],
   "source": [
    "output_df = pd.DataFrame(output_shp.drop(columns='geometry'))"
   ]
  },
  {
   "cell_type": "code",
   "execution_count": null,
   "metadata": {
    "scrolled": true
   },
   "outputs": [],
   "source": [
    "output_df.head()"
   ]
  },
  {
   "cell_type": "code",
   "execution_count": null,
   "metadata": {},
   "outputs": [],
   "source": [
    "output_df.shape"
   ]
  },
  {
   "cell_type": "code",
   "execution_count": null,
   "metadata": {},
   "outputs": [],
   "source": [
    "output_df.to_csv('/home/rgreen/tana-spin/rgreen/DroughtEDM/Data/Final_TS/'+'ea_grasslands.csv')\n",
    "\n"
   ]
  },
  {
   "cell_type": "code",
   "execution_count": null,
   "metadata": {},
   "outputs": [],
   "source": []
  },
  {
   "cell_type": "markdown",
   "metadata": {},
   "source": [
    "# END"
   ]
  },
  {
   "cell_type": "code",
   "execution_count": null,
   "metadata": {},
   "outputs": [],
   "source": []
  },
  {
   "cell_type": "code",
   "execution_count": null,
   "metadata": {},
   "outputs": [],
   "source": []
  },
  {
   "cell_type": "markdown",
   "metadata": {},
   "source": [
    "# Reassign cloud mask value before calculating stats"
   ]
  },
  {
   "cell_type": "code",
   "execution_count": null,
   "metadata": {},
   "outputs": [],
   "source": [
    "def reassign_masks(in_dir):\n",
    "    files=np.array(sorted(os.listdir(in_dir)))\n",
    "    tifs = pd.Series(files).str.contains('.tif')\n",
    "    files = files[tifs]\n",
    "\n",
    "    for filename in files:\n",
    "        with rasterio.open(in_dir+filename, 'r+') as ds:\n",
    "            print(filename)\n",
    "            a = ds.read()# read all raster values\n",
    "            a[a < 0 ] = np.nan  \n",
    "            ds.write(a)"
   ]
  },
  {
   "cell_type": "code",
   "execution_count": null,
   "metadata": {},
   "outputs": [],
   "source": [
    "reassign_masks(variables_mask_in_dir)"
   ]
  },
  {
   "cell_type": "markdown",
   "metadata": {},
   "source": [
    "# Trying dask delayed"
   ]
  },
  {
   "cell_type": "code",
   "execution_count": null,
   "metadata": {},
   "outputs": [],
   "source": [
    "@dask.delayed\n",
    "def read_and_mean(filename, in_dir, admin_gdf):\n",
    "    \"\"\"\n",
    "    input: \n",
    "    in_dir - directory of masked land cover type\n",
    "    filename - a raster variable for particular dekad\n",
    "    admin_gdf - administrative boundary layer of Africa as geodataframe\n",
    "    This function opens each raster and extract zonal mean for each variable\n",
    "    of a particular land cover type\n",
    "    \"\"\"\n",
    "    print(filename)\n",
    "    raster = rasterio.open(in_dir+filename)\n",
    "    mean = zone_stat(raster, 1, admin_gdf, 'mean')\n",
    "    name = os.path.splitext(os.path.basename(filename))[0]\n",
    "    return {'Mean'+ \"_\" + name : mean}"
   ]
  },
  {
   "cell_type": "code",
   "execution_count": null,
   "metadata": {},
   "outputs": [],
   "source": [
    "files=np.array(sorted(os.listdir(in_dir)))\n",
    "tifs = pd.Series(files).str.contains('.tif')\n",
    "files = files[tifs]\n",
    "\n",
    "admin_mean_list = []\n",
    "for filename in files:\n",
    "    zmeans = read_and_mean(filename, in_dir, bndry)\n",
    "    admin_mean_list.append(zmeans)\n"
   ]
  },
  {
   "cell_type": "code",
   "execution_count": null,
   "metadata": {},
   "outputs": [],
   "source": [
    "np.nanx"
   ]
  },
  {
   "cell_type": "code",
   "execution_count": null,
   "metadata": {},
   "outputs": [],
   "source": [
    "from dask.distributed import Client\n",
    "client = Client()\n",
    "client"
   ]
  },
  {
   "cell_type": "code",
   "execution_count": null,
   "metadata": {},
   "outputs": [],
   "source": [
    "client.compute(admin_mean_list,scheduler = 'processes')"
   ]
  },
  {
   "cell_type": "code",
   "execution_count": null,
   "metadata": {},
   "outputs": [],
   "source": [
    "#var_grass_dir = '/home/rgreen/tana-spin/rgreen/DroughtEDM/Data/Variables_Croplands/'\n",
    "#year_dir = '/home/rgreen/tana-spin/rgreen/DroughtEDM/Data/Variables_Grasslands/2016/'"
   ]
  },
  {
   "cell_type": "code",
   "execution_count": null,
   "metadata": {},
   "outputs": [],
   "source": [
    "#output_df = output_df[output_df.columns.drop(list(output_df.filter(regex='2014')))] \n",
    "#if you want to reverse and remove a specific year from the appended dataframe"
   ]
  },
  {
   "cell_type": "markdown",
   "metadata": {},
   "source": [
    "# Remove nan pixels from lst"
   ]
  },
  {
   "cell_type": "code",
   "execution_count": null,
   "metadata": {},
   "outputs": [],
   "source": [
    "lst_test = '/home/rgreen/tana-spin/rgreen/DroughtEDM/Data/VariablesByLandCover/Variables_Clos/Version2/cropland_rs_chirps-v2-Copy1.0.2002.07.1.tif'"
   ]
  },
  {
   "cell_type": "code",
   "execution_count": null,
   "metadata": {},
   "outputs": [],
   "source": [
    "lst_array = lst_test.read(1)"
   ]
  },
  {
   "cell_type": "code",
   "execution_count": null,
   "metadata": {},
   "outputs": [],
   "source": [
    "lst_array.min()"
   ]
  },
  {
   "cell_type": "code",
   "execution_count": null,
   "metadata": {},
   "outputs": [],
   "source": [
    "with rasterio.open(lst_test, 'r+') as ds:\n",
    "    a = ds.read()# read all raster values\n",
    "    #lst_array[np.where(lst_array<=0)]\n",
    "    a[a < 0] = 0  #set all values not cropland as 0\n",
    "    ds.write(a)"
   ]
  },
  {
   "cell_type": "code",
   "execution_count": null,
   "metadata": {},
   "outputs": [],
   "source": [
    "lst_test2 = rasterio.open(lst_test)\n",
    "lst_arr = lst_test2.read()\n",
    "lst_arr.min()"
   ]
  },
  {
   "cell_type": "code",
   "execution_count": null,
   "metadata": {},
   "outputs": [],
   "source": [
    "len(lst_arr[np.where(lst_arr<0)])"
   ]
  },
  {
   "cell_type": "code",
   "execution_count": null,
   "metadata": {},
   "outputs": [],
   "source": [
    "show(lst_test2)"
   ]
  },
  {
   "cell_type": "code",
   "execution_count": null,
   "metadata": {},
   "outputs": [],
   "source": [
    "lst_mask = lst_test.read_masks(1)"
   ]
  },
  {
   "cell_type": "code",
   "execution_count": null,
   "metadata": {},
   "outputs": [],
   "source": [
    "lst_mask"
   ]
  },
  {
   "cell_type": "code",
   "execution_count": null,
   "metadata": {},
   "outputs": [],
   "source": [
    "lst_array.shape"
   ]
  },
  {
   "cell_type": "code",
   "execution_count": null,
   "metadata": {},
   "outputs": [],
   "source": [
    "lst_array[np.where(lst_array<=0)]"
   ]
  },
  {
   "cell_type": "code",
   "execution_count": null,
   "metadata": {},
   "outputs": [],
   "source": [
    "np.where(lst_array<=0)"
   ]
  },
  {
   "cell_type": "code",
   "execution_count": null,
   "metadata": {},
   "outputs": [],
   "source": [
    "with rasterio.open(lc_mask, 'r+') as ds:\n",
    "    a = ds.read()  # read all raster values\n",
    "    a[a!=4] = 0  #set all values not cropland as 0\n",
    "    a[a==4] = 1\n",
    "    ds.write(a)"
   ]
  },
  {
   "cell_type": "code",
   "execution_count": null,
   "metadata": {},
   "outputs": [],
   "source": [
    "def create_land_mask(in_dir, out_dir, lc_num):\n",
    "    files=np.array(sorted(os.listdir(in_dir)))\n",
    "    \n",
    "    for filename in files:\n",
    "        base = os.path.splitext(filename)[0]\n",
    "        print(base)\n",
    "        with rasterio.open(in_dir+filename, 'r+') as ds:\n",
    "            rast = ds.read()\n",
    "            rast[rast!=lc_num] = np.nan\n",
    "            rast[rast==lc_num] = 1\n",
    "            meta = ds.meta()\n",
    "            meta.update(\n",
    "                dtype='float32')\n",
    "            ds.write(rast)\n",
    "                \n",
    "                \n",
    "                \n",
    "#         rast = rasterio.open(in_dir+filename)\n",
    "#         meta = rast.meta\n",
    "#         meta.update(\n",
    "#             dtype='float32')\n",
    "#         #rast.close()\n",
    "#         print(meta)\n",
    "   \n",
    "        \n",
    "#         with rasterio.open(out_dir+base+'_' + str(lc_num) + '.tif', 'w', **meta) as dst:\n",
    "#             #with rasterio.open(in_dir+filename) as src:\n",
    "#                 data = rast.read()\n",
    "#                 data[data!=lc_num] = -9999\n",
    "#                 data[data==lc_num] = 1\n",
    "#                 dst.write(data)"
   ]
  },
  {
   "cell_type": "code",
   "execution_count": null,
   "metadata": {},
   "outputs": [],
   "source": []
  }
 ],
 "metadata": {
  "kernelspec": {
   "display_name": "Python [conda env:edm]",
   "language": "python",
   "name": "conda-env-edm-py"
  },
  "language_info": {
   "codemirror_mode": {
    "name": "ipython",
    "version": 3
   },
   "file_extension": ".py",
   "mimetype": "text/x-python",
   "name": "python",
   "nbconvert_exporter": "python",
   "pygments_lexer": "ipython3",
   "version": "3.7.3"
  }
 },
 "nbformat": 4,
 "nbformat_minor": 2
}
